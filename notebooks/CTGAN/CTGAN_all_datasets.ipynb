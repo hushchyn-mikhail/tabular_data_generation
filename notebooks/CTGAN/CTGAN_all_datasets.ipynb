{
  "nbformat": 4,
  "nbformat_minor": 0,
  "metadata": {
    "colab": {
      "provenance": []
    },
    "kernelspec": {
      "name": "python3",
      "display_name": "Python 3"
    },
    "language_info": {
      "name": "python"
    }
  },
  "cells": [
    {
      "cell_type": "code",
      "source": [
        "%%capture\n",
        "\n",
        "!pip install sdv\n",
        "!pip install ucimlrepo\n",
        "!pio install sdmetrics\n",
        "!pip install -U kaleido\n",
        "!pip install synthcity[full]"
      ],
      "metadata": {
        "id": "EzAUnU11PNim"
      },
      "execution_count": 1,
      "outputs": []
    },
    {
      "cell_type": "code",
      "execution_count": 2,
      "metadata": {
        "id": "vlWuACUwSiuM"
      },
      "outputs": [],
      "source": [
        "import sdv\n",
        "from ctgan import CTGAN\n",
        "from ucimlrepo import fetch_ucirepo\n",
        "import pandas as pd\n",
        "import numpy as np\n",
        "from sklearn.model_selection import train_test_split, GridSearchCV\n",
        "from xgboost import XGBClassifier, XGBRegressor\n",
        "from sklearn.metrics import roc_auc_score, mean_squared_error\n",
        "from sklearn.preprocessing import LabelEncoder\n",
        "import warnings\n",
        "from sdv.metadata import SingleTableMetadata\n",
        "from sdmetrics.reports.single_table import QualityReport, DiagnosticReport\n",
        "from sdmetrics.visualization import get_column_plot\n",
        "from sdmetrics.column_pairs import CorrelationSimilarity\n",
        "from sdmetrics.column_pairs import ContingencySimilarity\n",
        "from itertools import combinations\n",
        "import statistics\n",
        "from sdmetrics.single_table import LogisticDetection\n",
        "from sklearn.preprocessing import OneHotEncoder\n",
        "from synthcity.plugins.core.dataloader import GenericDataLoader\n",
        "from synthcity.metrics import eval_detection, eval_performance, eval_statistical\n",
        "import torch\n",
        "from sklearn.preprocessing import OrdinalEncoder"
      ]
    },
    {
      "cell_type": "code",
      "source": [
        "class Metrics:\n",
        "    def __init__(self, real_df, synthetic_df, numeric_cols, cat_cols, target_col, classification=True, epochs=300):\n",
        "        self.real_df = real_df\n",
        "        self.synthetic_df = synthetic_df\n",
        "        self.numeric_cols = numeric_cols\n",
        "        self.cat_cols = cat_cols\n",
        "        self.target_col = target_col\n",
        "        self.metadata = SingleTableMetadata()\n",
        "        self.metadata.detect_from_dataframe(data=self.real_df)\n",
        "        self.metadata = self.metadata.to_dict()\n",
        "        self.classification = classification\n",
        "        self.epochs=epochs\n",
        "\n",
        "    def preprocess_data(self, data):\n",
        "        df = data.copy()\n",
        "        enc_dict = {}\n",
        "        for column in self.cat_cols:\n",
        "            if column in df.columns:\n",
        "                enc = OrdinalEncoder(\n",
        "                    handle_unknown='use_encoded_value',\n",
        "                    unknown_value=-1\n",
        "                )\n",
        "                arr = df[[column]].astype(str)\n",
        "                df[column] = enc.fit_transform(arr).astype(int)\n",
        "                enc_dict[column] = enc\n",
        "        return df, enc_dict\n",
        "\n",
        "    def encode_data(self, data, enc_dict):\n",
        "        df = data.copy()\n",
        "        for column in self.cat_cols:\n",
        "            if column in df.columns and column in enc_dict:\n",
        "                enc = enc_dict[column]\n",
        "                arr = df[[column]].astype(str)\n",
        "                df[column] = enc.transform(arr).astype(int)\n",
        "        return df\n",
        "\n",
        "    def train_and_evaluate(self, X_train, X_test, y_train, y_test, n_splits=20):\n",
        "        param_grid = {\n",
        "            'n_estimators': [10, 50, 100],\n",
        "            'min_child_weight': [5, 10, 20],\n",
        "            'max_depth': [1, 10],\n",
        "            'gamma': [0.0, 1.0]\n",
        "        }\n",
        "\n",
        "        scores = []\n",
        "\n",
        "        for i in range(n_splits):\n",
        "            X_train_split, X_val, y_train_split, y_val = train_test_split(\n",
        "                X_train, y_train, test_size=0.111, random_state=i\n",
        "            )\n",
        "\n",
        "            if self.classification:\n",
        "                model = XGBClassifier(use_label_encoder=False, eval_metric='logloss')\n",
        "            else:\n",
        "                model = XGBRegressor(use_label_encoder=False)\n",
        "            grid_search = GridSearchCV(\n",
        "                model, param_grid, scoring='roc_auc', cv=3\n",
        "            )\n",
        "\n",
        "            grid_search.fit(X_train_split, y_train_split)\n",
        "\n",
        "            best_model = XGBClassifier(**grid_search.best_params_,\n",
        "                                    use_label_encoder=False,\n",
        "                                    eval_metric='auc')\n",
        "\n",
        "            best_model.fit(X_train, y_train)\n",
        "\n",
        "            y_pred = best_model.predict_proba(X_test)[:, 1]\n",
        "            if self.classification:\n",
        "                score = roc_auc_score(y_test, y_pred)\n",
        "            else:\n",
        "                score = mean_squared_error(y_test, y_pred)\n",
        "            scores.append(score)\n",
        "\n",
        "        return np.mean(scores), np.std(scores)\n",
        "\n",
        "    def classification_metrics(self):\n",
        "            X = self.real_df.drop(columns=[self.target_col])\n",
        "            y = self.real_df[self.target_col]\n",
        "\n",
        "            X_train_real, X_test, y_train_real, y_test = train_test_split(\n",
        "                X, y, test_size=0.2, random_state=42\n",
        "            )\n",
        "\n",
        "            ctgan = CTGAN(epochs=self.epochs)\n",
        "            ctgan.fit(pd.concat([X_train_real, y_train_real], axis=1), self.cat_cols)\n",
        "            synthetic_data = ctgan.sample(len(X_train_real))\n",
        "\n",
        "            X_train_synthetic = synthetic_data.drop(self.target_col, axis=1)\n",
        "            y_train_synthetic = synthetic_data[self.target_col]\n",
        "\n",
        "            X_train_real, enc_dict_X = self.preprocess_data(X_train_real)\n",
        "            X_test = self.encode_data(X_test, enc_dict_X)\n",
        "            X_train_synthetic = self.encode_data(X_train_synthetic, enc_dict_X)\n",
        "\n",
        "            if self.target_col in self.cat_cols:\n",
        "                enc_target = OrdinalEncoder(\n",
        "                    handle_unknown='use_encoded_value',\n",
        "                    unknown_value=-1\n",
        "                )\n",
        "\n",
        "                y_tr = y_train_real.astype(str).to_frame()\n",
        "                y_train_real = enc_target.fit_transform(y_tr).ravel().astype(int)\n",
        "                y_train_synthetic = enc_target.transform(\n",
        "                    y_train_synthetic.astype(str).to_frame()\n",
        "                ).ravel().astype(int)\n",
        "                y_test = enc_target.transform(\n",
        "                    y_test.astype(str).to_frame()\n",
        "                ).ravel().astype(int)\n",
        "\n",
        "            real_mean, real_std = self.train_and_evaluate(\n",
        "                X_train_real, X_test, y_train_real, y_test\n",
        "            )\n",
        "            synthetic_mean, synthetic_std = self.train_and_evaluate(\n",
        "                X_train_synthetic, X_test, y_train_synthetic, y_test\n",
        "            )\n",
        "\n",
        "            if self.classification:\n",
        "                print(\"Classificator results (AUC):\")\n",
        "            else:\n",
        "                print(\"Regression results (MSE):\")\n",
        "            print(f\"Real data - : {real_mean:.3f} ± {real_std:.3f}\")\n",
        "            print(f\"Synthetic data - : {synthetic_mean:.3f} ± {synthetic_std:.3f}\")\n",
        "\n",
        "            return {\n",
        "                'real_mean': real_mean, 'real_std': real_std,\n",
        "                'synthetic_mean': synthetic_mean, 'synthetic_std': synthetic_std\n",
        "            }\n",
        "\n",
        "\n",
        "    def density_estimation(self) -> dict:\n",
        "        qual_report = QualityReport()\n",
        "        qual_report.generate(self.real_df, self.synthetic_df, self.metadata)\n",
        "\n",
        "        diag_report = DiagnosticReport()\n",
        "        diag_report.generate(self.real_df, self.synthetic_df, self.metadata)\n",
        "\n",
        "        fig_shape = qual_report.get_visualization(property_name='Column Shapes')\n",
        "        fig_trend = qual_report.get_visualization(property_name='Column Pair Trends')\n",
        "        fig_shape.show()\n",
        "        fig_trend.show()\n",
        "\n",
        "        quality_scores = qual_report.get_score()\n",
        "        diag_scores = diag_report.get_score()\n",
        "        quality =  qual_report.get_properties()\n",
        "\n",
        "        Shape = quality['Score'][0]\n",
        "        Trend = quality['Score'][1]\n",
        "        shapes = qual_report.get_details(property_name='Column Shapes')\n",
        "        trends = qual_report.get_details(property_name='Column Pair Trends')\n",
        "        validity = diag_report.get_details('Data Validity')\n",
        "        structure = diag_report.get_details('Data Structure')\n",
        "\n",
        "        metrics = {\n",
        "            'overall_quality': {\n",
        "                'shapes': Shape,\n",
        "                'trends': Trend,\n",
        "                'total_score': (Shape + Trend) / 2\n",
        "            },\n",
        "            'details': {\n",
        "                'column_shapes': shapes,\n",
        "                'column_trends': trends,\n",
        "                'data_validity': validity,\n",
        "                'data_structure': structure\n",
        "            }\n",
        "        }\n",
        "\n",
        "        print(f\"\\n{' METRICS REPORT ':=^80}\")\n",
        "        print(f\"Column Shapes Score: {metrics['overall_quality']['shapes']:.3f}\")\n",
        "        print(f\"Column Trends Score: {metrics['overall_quality']['trends']:.3f}\")\n",
        "        print(f\"Overall Score: {metrics['overall_quality']['total_score']:.3f}\")\n",
        "\n",
        "        #fig = qual_report.get_visualization(property_name='Column Pair Trends')\n",
        "        #fig.show()\n",
        "\n",
        "        return metrics\n",
        "\n",
        "\n",
        "    def visualize_distr(self):\n",
        "        for i in self.numeric_cols:\n",
        "            fig = get_column_plot(\n",
        "                real_data=self.real_df,\n",
        "                synthetic_data=self.synthetic_df,\n",
        "                column_name= i,\n",
        "                plot_type='distplot'\n",
        "            )\n",
        "\n",
        "            fig.show()\n",
        "\n",
        "    def correlation_similarity(self):\n",
        "        correlation_score = CorrelationSimilarity.compute(\n",
        "            real_data=self.real_df[self.numeric_cols],\n",
        "            synthetic_data=self.synthetic_df[self.numeric_cols],\n",
        "            coefficient='Pearson'\n",
        "        )\n",
        "        print(f'correlation score: {correlation_score:.3f}')\n",
        "        return correlation_score\n",
        "\n",
        "    def contingency_similarity(self):\n",
        "        res = []\n",
        "        for col1, col2 in combinations(self.numeric_cols, 2):\n",
        "            similarity = ContingencySimilarity.compute(\n",
        "                real_data=self.real_df[[col1, col2]],\n",
        "                synthetic_data=self.synthetic_df[[col1, col2]],\n",
        "                continuous_column_names=[col1, col2]\n",
        "            )\n",
        "            res.append(similarity)\n",
        "        mean_similarity = statistics.mean(res)\n",
        "        print(f'contingency similarity score: {mean_similarity:.3f}')\n",
        "        return mean_similarity\n",
        "\n",
        "    def logistic_detection(self):\n",
        "        log_detection_score = LogisticDetection.compute(\n",
        "            real_data=self.real_df,\n",
        "            synthetic_data=self.synthetic_df,\n",
        "            metadata=self.metadata\n",
        "        )\n",
        "        print(f'log detection score: {log_detection_score:.3f}')\n",
        "        return log_detection_score\n",
        "\n",
        "    def alpha_precision(self):\n",
        "        num_real_data = self.real_df[self.numeric_cols]\n",
        "        cat_real_data = self.real_df[self.cat_cols]\n",
        "\n",
        "        num_syn_data = self.synthetic_df[self.numeric_cols]\n",
        "        cat_syn_data = self.synthetic_df[self.cat_cols]\n",
        "\n",
        "        encoder = OneHotEncoder()\n",
        "        cat_real_data_oh = encoder.fit_transform(cat_real_data.astype(str)).toarray()\n",
        "        cat_syn_data_oh = encoder.transform(cat_syn_data.astype(str)).toarray()\n",
        "\n",
        "        le_real_data = pd.DataFrame(np.concatenate([num_real_data.to_numpy(), cat_real_data_oh], axis=1))\n",
        "        le_syn_data = pd.DataFrame(np.concatenate([num_syn_data.to_numpy(), cat_syn_data_oh], axis=1))\n",
        "\n",
        "        X_real_loader = GenericDataLoader(le_real_data)\n",
        "        X_syn_loader = GenericDataLoader(le_syn_data)\n",
        "\n",
        "        quality_evaluator = eval_statistical.AlphaPrecision()\n",
        "        qual_res = quality_evaluator.evaluate(X_real_loader, X_syn_loader)\n",
        "\n",
        "        qual_res = {k: v for (k, v) in qual_res.items() if \"naive\" in k}\n",
        "        qual_score = np.mean(list(qual_res.values()))\n",
        "\n",
        "        print(f'Alpha Precision: {qual_res[\"delta_precision_alpha_naive\"]:.6f}, '\n",
        "              f'Beta Recall: {qual_res[\"delta_coverage_beta_naive\"]:.6f}')\n",
        "\n",
        "        return qual_res['delta_precision_alpha_naive'], qual_res['delta_coverage_beta_naive']\n",
        "\n",
        "    def dcr_score(self):\n",
        "        train_data, test_data = train_test_split(self.real_df, test_size=0.5, random_state=42)\n",
        "\n",
        "        ctgan = CTGAN(epochs=self.epochs)\n",
        "        ctgan.fit(train_data, self.cat_cols)\n",
        "        synthetic_data = ctgan.sample(len(train_data))\n",
        "\n",
        "        num_train_data = train_data[self.numeric_cols]\n",
        "        num_synthetic_data = synthetic_data[self.numeric_cols]\n",
        "        num_test_data = test_data[self.numeric_cols]\n",
        "\n",
        "        num_train_data_np = num_train_data.to_numpy().astype(float)\n",
        "        num_synthetic_data_np = num_synthetic_data.to_numpy().astype(float)\n",
        "        num_test_data_np = num_test_data.to_numpy().astype(float)\n",
        "\n",
        "        num_ranges = np.array([train_data[col].max() - train_data[col].min() for col in self.numeric_cols]).astype(float)\n",
        "        num_train_data_np /= num_ranges\n",
        "        num_synthetic_data_np /= num_ranges\n",
        "        num_test_data_np /= num_ranges\n",
        "\n",
        "        device = 'cuda' if torch.cuda.is_available() else 'cpu'\n",
        "        train_data_th = torch.tensor(num_train_data_np).to(device)\n",
        "        synthetic_data_th = torch.tensor(num_synthetic_data_np).to(device)\n",
        "        test_data_th = torch.tensor(num_test_data_np).to(device)\n",
        "\n",
        "        batch_size = 100\n",
        "        dcrs_train = []\n",
        "        dcrs_test = []\n",
        "\n",
        "        for i in range((synthetic_data_th.shape[0] // batch_size) + 1):\n",
        "            batch_synthetic_data_th = synthetic_data_th[i*batch_size: (i+1) * batch_size]\n",
        "            dcr_train = (batch_synthetic_data_th[:, None] - train_data_th).abs().sum(dim=2).min(dim=1).values\n",
        "            dcr_test = (batch_synthetic_data_th[:, None] - test_data_th).abs().sum(dim=2).min(dim=1).values\n",
        "            dcrs_train.append(dcr_train)\n",
        "            dcrs_test.append(dcr_test)\n",
        "\n",
        "        dcrs_train = torch.cat(dcrs_train)\n",
        "        dcrs_test = torch.cat(dcrs_test)\n",
        "\n",
        "        score = (dcrs_train < dcrs_test).nonzero().shape[0] / dcrs_train.shape[0]\n",
        "        print(f'DCR Score = {score:.6f}')\n",
        "\n",
        "        return score\n",
        "\n",
        "    def collect_all_metrics(self):\n",
        "        metrics_dict = {}\n",
        "\n",
        "        # Классификационные метрики\n",
        "        classification_metrics_result = self.classification_metrics()\n",
        "        metrics_dict.update(classification_metrics_result)\n",
        "\n",
        "        # Оценка плотности\n",
        "        density_metrics = self.density_estimation()\n",
        "        metrics_dict['density_metrics'] = density_metrics\n",
        "\n",
        "        # Корреляционное сходство\n",
        "        correlation_score = self.correlation_similarity()\n",
        "        metrics_dict['correlation_score'] = correlation_score\n",
        "\n",
        "        # Контингентное сходство\n",
        "        contingency_similarity_score = self.contingency_similarity()\n",
        "        metrics_dict['contingency_similarity_score'] = contingency_similarity_score\n",
        "\n",
        "        # Логистическое обнаружение\n",
        "        log_detection_score = self.logistic_detection()\n",
        "        metrics_dict['log_detection_score'] = log_detection_score\n",
        "\n",
        "        # Alpha Precision\n",
        "        alpha_precision, beta_recall = self.alpha_precision()\n",
        "        metrics_dict['alpha_precision'] = alpha_precision\n",
        "        metrics_dict['beta_recall'] = beta_recall\n",
        "\n",
        "        # DCR Score\n",
        "        dcr_score_value = self.dcr_score()\n",
        "        metrics_dict['dcr_score'] = dcr_score_value\n",
        "\n",
        "        return metrics_dict"
      ],
      "metadata": {
        "id": "8khwo-rJS7cU"
      },
      "execution_count": 3,
      "outputs": []
    },
    {
      "cell_type": "markdown",
      "source": [
        "## CTGAN\n",
        "### Adult\n"
      ],
      "metadata": {
        "id": "5J0C0N2gPkH3"
      }
    },
    {
      "cell_type": "code",
      "source": [
        "# fetch dataset\n",
        "adult = fetch_ucirepo(id=2)\n",
        "\n",
        "# data (as pandas dataframes)\n",
        "X = adult.data.features\n",
        "y = adult.data.targets\n",
        "\n",
        "# metadata\n",
        "print(adult.metadata)\n",
        "\n",
        "# variable information\n",
        "print(adult.variables)\n"
      ],
      "metadata": {
        "id": "GOIU6MteO0wA",
        "colab": {
          "base_uri": "https://localhost:8080/"
        },
        "outputId": "eaf3f529-58b9-45b0-c488-a219f045e2a7"
      },
      "execution_count": 3,
      "outputs": [
        {
          "output_type": "stream",
          "name": "stdout",
          "text": [
            "{'uci_id': 2, 'name': 'Adult', 'repository_url': 'https://archive.ics.uci.edu/dataset/2/adult', 'data_url': 'https://archive.ics.uci.edu/static/public/2/data.csv', 'abstract': 'Predict whether annual income of an individual exceeds $50K/yr based on census data. Also known as \"Census Income\" dataset. ', 'area': 'Social Science', 'tasks': ['Classification'], 'characteristics': ['Multivariate'], 'num_instances': 48842, 'num_features': 14, 'feature_types': ['Categorical', 'Integer'], 'demographics': ['Age', 'Income', 'Education Level', 'Other', 'Race', 'Sex'], 'target_col': ['income'], 'index_col': None, 'has_missing_values': 'yes', 'missing_values_symbol': 'NaN', 'year_of_dataset_creation': 1996, 'last_updated': 'Tue Sep 24 2024', 'dataset_doi': '10.24432/C5XW20', 'creators': ['Barry Becker', 'Ronny Kohavi'], 'intro_paper': None, 'additional_info': {'summary': \"Extraction was done by Barry Becker from the 1994 Census database.  A set of reasonably clean records was extracted using the following conditions: ((AAGE>16) && (AGI>100) && (AFNLWGT>1)&& (HRSWK>0))\\n\\nPrediction task is to determine whether a person's income is over $50,000 a year.\\n\", 'purpose': None, 'funded_by': None, 'instances_represent': None, 'recommended_data_splits': None, 'sensitive_data': None, 'preprocessing_description': None, 'variable_info': 'Listing of attributes:\\r\\n\\r\\n>50K, <=50K.\\r\\n\\r\\nage: continuous.\\r\\nworkclass: Private, Self-emp-not-inc, Self-emp-inc, Federal-gov, Local-gov, State-gov, Without-pay, Never-worked.\\r\\nfnlwgt: continuous.\\r\\neducation: Bachelors, Some-college, 11th, HS-grad, Prof-school, Assoc-acdm, Assoc-voc, 9th, 7th-8th, 12th, Masters, 1st-4th, 10th, Doctorate, 5th-6th, Preschool.\\r\\neducation-num: continuous.\\r\\nmarital-status: Married-civ-spouse, Divorced, Never-married, Separated, Widowed, Married-spouse-absent, Married-AF-spouse.\\r\\noccupation: Tech-support, Craft-repair, Other-service, Sales, Exec-managerial, Prof-specialty, Handlers-cleaners, Machine-op-inspct, Adm-clerical, Farming-fishing, Transport-moving, Priv-house-serv, Protective-serv, Armed-Forces.\\r\\nrelationship: Wife, Own-child, Husband, Not-in-family, Other-relative, Unmarried.\\r\\nrace: White, Asian-Pac-Islander, Amer-Indian-Eskimo, Other, Black.\\r\\nsex: Female, Male.\\r\\ncapital-gain: continuous.\\r\\ncapital-loss: continuous.\\r\\nhours-per-week: continuous.\\r\\nnative-country: United-States, Cambodia, England, Puerto-Rico, Canada, Germany, Outlying-US(Guam-USVI-etc), India, Japan, Greece, South, China, Cuba, Iran, Honduras, Philippines, Italy, Poland, Jamaica, Vietnam, Mexico, Portugal, Ireland, France, Dominican-Republic, Laos, Ecuador, Taiwan, Haiti, Columbia, Hungary, Guatemala, Nicaragua, Scotland, Thailand, Yugoslavia, El-Salvador, Trinadad&Tobago, Peru, Hong, Holand-Netherlands.', 'citation': None}}\n",
            "              name     role         type      demographic  \\\n",
            "0              age  Feature      Integer              Age   \n",
            "1        workclass  Feature  Categorical           Income   \n",
            "2           fnlwgt  Feature      Integer             None   \n",
            "3        education  Feature  Categorical  Education Level   \n",
            "4    education-num  Feature      Integer  Education Level   \n",
            "5   marital-status  Feature  Categorical            Other   \n",
            "6       occupation  Feature  Categorical            Other   \n",
            "7     relationship  Feature  Categorical            Other   \n",
            "8             race  Feature  Categorical             Race   \n",
            "9              sex  Feature       Binary              Sex   \n",
            "10    capital-gain  Feature      Integer             None   \n",
            "11    capital-loss  Feature      Integer             None   \n",
            "12  hours-per-week  Feature      Integer             None   \n",
            "13  native-country  Feature  Categorical            Other   \n",
            "14          income   Target       Binary           Income   \n",
            "\n",
            "                                                                                                                                                                                                                                                                                                                                                                                                                        description  \\\n",
            "0                                                                                                                                                                                                                                                                                                                                                                                                                               N/A   \n",
            "1                                                                                                                                                                                                                                                                                                                            Private, Self-emp-not-inc, Self-emp-inc, Federal-gov, Local-gov, State-gov, Without-pay, Never-worked.   \n",
            "2                                                                                                                                                                                                                                                                                                                                                                                                                              None   \n",
            "3                                                                                                                                                                                                                                                                            Bachelors, Some-college, 11th, HS-grad, Prof-school, Assoc-acdm, Assoc-voc, 9th, 7th-8th, 12th, Masters, 1st-4th, 10th, Doctorate, 5th-6th, Preschool.   \n",
            "4                                                                                                                                                                                                                                                                                                                                                                                                                              None   \n",
            "5                                                                                                                                                                                                                                                                                                                        Married-civ-spouse, Divorced, Never-married, Separated, Widowed, Married-spouse-absent, Married-AF-spouse.   \n",
            "6                                                                                                                                                                                                         Tech-support, Craft-repair, Other-service, Sales, Exec-managerial, Prof-specialty, Handlers-cleaners, Machine-op-inspct, Adm-clerical, Farming-fishing, Transport-moving, Priv-house-serv, Protective-serv, Armed-Forces.   \n",
            "7                                                                                                                                                                                                                                                                                                                                                               Wife, Own-child, Husband, Not-in-family, Other-relative, Unmarried.   \n",
            "8                                                                                                                                                                                                                                                                                                                                                                      White, Asian-Pac-Islander, Amer-Indian-Eskimo, Other, Black.   \n",
            "9                                                                                                                                                                                                                                                                                                                                                                                                                     Female, Male.   \n",
            "10                                                                                                                                                                                                                                                                                                                                                                                                                             None   \n",
            "11                                                                                                                                                                                                                                                                                                                                                                                                                             None   \n",
            "12                                                                                                                                                                                                                                                                                                                                                                                                                             None   \n",
            "13  United-States, Cambodia, England, Puerto-Rico, Canada, Germany, Outlying-US(Guam-USVI-etc), India, Japan, Greece, South, China, Cuba, Iran, Honduras, Philippines, Italy, Poland, Jamaica, Vietnam, Mexico, Portugal, Ireland, France, Dominican-Republic, Laos, Ecuador, Taiwan, Haiti, Columbia, Hungary, Guatemala, Nicaragua, Scotland, Thailand, Yugoslavia, El-Salvador, Trinadad&Tobago, Peru, Hong, Holand-Netherlands.   \n",
            "14                                                                                                                                                                                                                                                                                                                                                                                                                     >50K, <=50K.   \n",
            "\n",
            "   units missing_values  \n",
            "0   None             no  \n",
            "1   None            yes  \n",
            "2   None             no  \n",
            "3   None             no  \n",
            "4   None             no  \n",
            "5   None             no  \n",
            "6   None            yes  \n",
            "7   None             no  \n",
            "8   None             no  \n",
            "9   None             no  \n",
            "10  None             no  \n",
            "11  None             no  \n",
            "12  None             no  \n",
            "13  None            yes  \n",
            "14  None             no  \n"
          ]
        }
      ]
    },
    {
      "cell_type": "code",
      "source": [
        "all_data = pd.concat([X, y], axis=1)"
      ],
      "metadata": {
        "id": "vxowYeu_FBh5"
      },
      "execution_count": 4,
      "outputs": []
    },
    {
      "cell_type": "code",
      "source": [
        "cat_cols = ['workclass', 'education', 'marital-status', 'occupation',\n",
        "            'relationship', 'race', 'sex', 'native-country', 'income']\n",
        "numeric_cols = [x for x in all_data.columns if x not in cat_cols]"
      ],
      "metadata": {
        "id": "_loEpIj2bnT7"
      },
      "execution_count": 5,
      "outputs": []
    },
    {
      "cell_type": "code",
      "source": [
        "ctgan = CTGAN(epochs=300)\n",
        "ctgan.fit(all_data, cat_cols)"
      ],
      "metadata": {
        "id": "Z8drTZMSZ6Nt"
      },
      "execution_count": 6,
      "outputs": []
    },
    {
      "cell_type": "code",
      "source": [
        "synthetic_data = ctgan.sample(len(all_data))"
      ],
      "metadata": {
        "id": "sdl1qagmcbvX"
      },
      "execution_count": 7,
      "outputs": []
    },
    {
      "cell_type": "code",
      "source": [
        "synthetic_data.to_csv('adult_CTGAN.csv')"
      ],
      "metadata": {
        "id": "qfQYMVKROGf_"
      },
      "execution_count": 8,
      "outputs": []
    },
    {
      "cell_type": "code",
      "source": [
        "ctgan_metrics = Metrics(all_data, synthetic_data, numeric_cols, cat_cols, 'income')"
      ],
      "metadata": {
        "id": "5wG6Rt__bvSQ"
      },
      "execution_count": 9,
      "outputs": []
    },
    {
      "cell_type": "code",
      "source": [
        "all_data['income'] = all_data['income'].apply(lambda x: x[:-1] if x[-1]=='.' else x)\n",
        "synthetic_data['income'] = synthetic_data['income'].apply(lambda x: x[:-1] if x[-1]=='.' else x)"
      ],
      "metadata": {
        "id": "NS1PmEkOmurx"
      },
      "execution_count": 18,
      "outputs": []
    },
    {
      "cell_type": "code",
      "source": [
        "metrics = ctgan_metrics.collect_all_metrics()"
      ],
      "metadata": {
        "colab": {
          "base_uri": "https://localhost:8080/",
          "height": 1000
        },
        "id": "TNp3wNs_2cdV",
        "outputId": "cbaee4be-2be4-4086-b0a9-e6546d244916"
      },
      "execution_count": 22,
      "outputs": [
        {
          "output_type": "stream",
          "name": "stdout",
          "text": [
            "Classificator results:\n",
            "Real data - AUC: 0.923 ± 0.001\n",
            "Synthetic data - AUC: 0.878 ± 0.000\n",
            "Generating report ...\n",
            "\n",
            "(1/2) Evaluating Column Shapes: |██████████| 15/15 [00:00<00:00, 38.96it/s]|\n",
            "Column Shapes Score: 86.33%\n",
            "\n",
            "(2/2) Evaluating Column Pair Trends: |██████████| 105/105 [00:02<00:00, 39.43it/s]|\n",
            "Column Pair Trends Score: 81.18%\n",
            "\n",
            "Overall Score (Average): 83.76%\n",
            "\n",
            "Generating report ...\n",
            "\n",
            "(1/2) Evaluating Data Validity: |██████████| 15/15 [00:00<00:00, 122.99it/s]|\n",
            "Data Validity Score: 96.63%\n",
            "\n",
            "(2/2) Evaluating Data Structure: |██████████| 1/1 [00:00<00:00, 265.18it/s]|\n",
            "Data Structure Score: 100.0%\n",
            "\n",
            "Overall Score (Average): 98.31%\n",
            "\n"
          ]
        },
        {
          "output_type": "display_data",
          "data": {
            "text/html": [
              "<html>\n",
              "<head><meta charset=\"utf-8\" /></head>\n",
              "<body>\n",
              "    <div>            <script src=\"https://cdnjs.cloudflare.com/ajax/libs/mathjax/2.7.5/MathJax.js?config=TeX-AMS-MML_SVG\"></script><script type=\"text/javascript\">if (window.MathJax && window.MathJax.Hub && window.MathJax.Hub.Config) {window.MathJax.Hub.Config({SVG: {font: \"STIX-Web\"}});}</script>                <script type=\"text/javascript\">window.PlotlyConfig = {MathJaxConfig: 'local'};</script>\n",
              "        <script charset=\"utf-8\" src=\"https://cdn.plot.ly/plotly-2.35.2.min.js\"></script>                <div id=\"ee4e1d97-3072-424a-82ca-e51e62bd7272\" class=\"plotly-graph-div\" style=\"height:525px; width:100%;\"></div>            <script type=\"text/javascript\">                                    window.PLOTLYENV=window.PLOTLYENV || {};                                    if (document.getElementById(\"ee4e1d97-3072-424a-82ca-e51e62bd7272\")) {                    Plotly.newPlot(                        \"ee4e1d97-3072-424a-82ca-e51e62bd7272\",                        [{\"alignmentgroup\":\"True\",\"customdata\":[[\"KSComplement\"],[\"KSComplement\"],[\"KSComplement\"],[\"KSComplement\"],[\"KSComplement\"],[\"KSComplement\"]],\"hovertemplate\":\"\\u003cb\\u003e%{hovertext}\\u003c\\u002fb\\u003e\\u003cbr\\u003e\\u003cbr\\u003eMetric=%{customdata[0]}\\u003cbr\\u003eScore=%{y}\\u003cextra\\u003e\\u003c\\u002fextra\\u003e\",\"hovertext\":[\"age\",\"fnlwgt\",\"education-num\",\"capital-gain\",\"capital-loss\",\"hours-per-week\"],\"legendgroup\":\"KSComplement\",\"marker\":{\"color\":\"#000036\",\"pattern\":{\"shape\":\"\"}},\"name\":\"KSComplement\",\"offsetgroup\":\"KSComplement\",\"orientation\":\"v\",\"showlegend\":true,\"textposition\":\"auto\",\"x\":[\"age\",\"fnlwgt\",\"education-num\",\"capital-gain\",\"capital-loss\",\"hours-per-week\"],\"xaxis\":\"x\",\"y\":[0.9548339543835225,0.9545882641988452,0.9443102248065189,0.5060194095245896,0.6071209205192253,0.9256991933172269],\"yaxis\":\"y\",\"type\":\"bar\"},{\"alignmentgroup\":\"True\",\"customdata\":[[\"TVComplement\"],[\"TVComplement\"],[\"TVComplement\"],[\"TVComplement\"],[\"TVComplement\"],[\"TVComplement\"],[\"TVComplement\"],[\"TVComplement\"],[\"TVComplement\"]],\"hovertemplate\":\"\\u003cb\\u003e%{hovertext}\\u003c\\u002fb\\u003e\\u003cbr\\u003e\\u003cbr\\u003eMetric=%{customdata[0]}\\u003cbr\\u003eScore=%{y}\\u003cextra\\u003e\\u003c\\u002fextra\\u003e\",\"hovertext\":[\"workclass\",\"education\",\"marital-status\",\"occupation\",\"relationship\",\"race\",\"sex\",\"native-country\",\"income\"],\"legendgroup\":\"TVComplement\",\"marker\":{\"color\":\"#03AFF1\",\"pattern\":{\"shape\":\"\\u002f\"}},\"name\":\"TVComplement\",\"offsetgroup\":\"TVComplement\",\"orientation\":\"v\",\"showlegend\":true,\"textposition\":\"auto\",\"x\":[\"workclass\",\"education\",\"marital-status\",\"occupation\",\"relationship\",\"race\",\"sex\",\"native-country\",\"income\"],\"xaxis\":\"x\",\"y\":[0.7797748221491138,0.927767085704926,0.9226690143728757,0.8831446803841053,0.8670201875435076,0.8832357397321977,0.9280741984357725,0.8733170828677566,0.9919331722697678],\"yaxis\":\"y\",\"type\":\"bar\"}],                        {\"template\":{\"data\":{\"histogram2dcontour\":[{\"type\":\"histogram2dcontour\",\"colorbar\":{\"outlinewidth\":0,\"ticks\":\"\"},\"colorscale\":[[0.0,\"#0d0887\"],[0.1111111111111111,\"#46039f\"],[0.2222222222222222,\"#7201a8\"],[0.3333333333333333,\"#9c179e\"],[0.4444444444444444,\"#bd3786\"],[0.5555555555555556,\"#d8576b\"],[0.6666666666666666,\"#ed7953\"],[0.7777777777777778,\"#fb9f3a\"],[0.8888888888888888,\"#fdca26\"],[1.0,\"#f0f921\"]]}],\"choropleth\":[{\"type\":\"choropleth\",\"colorbar\":{\"outlinewidth\":0,\"ticks\":\"\"}}],\"histogram2d\":[{\"type\":\"histogram2d\",\"colorbar\":{\"outlinewidth\":0,\"ticks\":\"\"},\"colorscale\":[[0.0,\"#0d0887\"],[0.1111111111111111,\"#46039f\"],[0.2222222222222222,\"#7201a8\"],[0.3333333333333333,\"#9c179e\"],[0.4444444444444444,\"#bd3786\"],[0.5555555555555556,\"#d8576b\"],[0.6666666666666666,\"#ed7953\"],[0.7777777777777778,\"#fb9f3a\"],[0.8888888888888888,\"#fdca26\"],[1.0,\"#f0f921\"]]}],\"heatmap\":[{\"type\":\"heatmap\",\"colorbar\":{\"outlinewidth\":0,\"ticks\":\"\"},\"colorscale\":[[0.0,\"#0d0887\"],[0.1111111111111111,\"#46039f\"],[0.2222222222222222,\"#7201a8\"],[0.3333333333333333,\"#9c179e\"],[0.4444444444444444,\"#bd3786\"],[0.5555555555555556,\"#d8576b\"],[0.6666666666666666,\"#ed7953\"],[0.7777777777777778,\"#fb9f3a\"],[0.8888888888888888,\"#fdca26\"],[1.0,\"#f0f921\"]]}],\"heatmapgl\":[{\"type\":\"heatmapgl\",\"colorbar\":{\"outlinewidth\":0,\"ticks\":\"\"},\"colorscale\":[[0.0,\"#0d0887\"],[0.1111111111111111,\"#46039f\"],[0.2222222222222222,\"#7201a8\"],[0.3333333333333333,\"#9c179e\"],[0.4444444444444444,\"#bd3786\"],[0.5555555555555556,\"#d8576b\"],[0.6666666666666666,\"#ed7953\"],[0.7777777777777778,\"#fb9f3a\"],[0.8888888888888888,\"#fdca26\"],[1.0,\"#f0f921\"]]}],\"contourcarpet\":[{\"type\":\"contourcarpet\",\"colorbar\":{\"outlinewidth\":0,\"ticks\":\"\"}}],\"contour\":[{\"type\":\"contour\",\"colorbar\":{\"outlinewidth\":0,\"ticks\":\"\"},\"colorscale\":[[0.0,\"#0d0887\"],[0.1111111111111111,\"#46039f\"],[0.2222222222222222,\"#7201a8\"],[0.3333333333333333,\"#9c179e\"],[0.4444444444444444,\"#bd3786\"],[0.5555555555555556,\"#d8576b\"],[0.6666666666666666,\"#ed7953\"],[0.7777777777777778,\"#fb9f3a\"],[0.8888888888888888,\"#fdca26\"],[1.0,\"#f0f921\"]]}],\"surface\":[{\"type\":\"surface\",\"colorbar\":{\"outlinewidth\":0,\"ticks\":\"\"},\"colorscale\":[[0.0,\"#0d0887\"],[0.1111111111111111,\"#46039f\"],[0.2222222222222222,\"#7201a8\"],[0.3333333333333333,\"#9c179e\"],[0.4444444444444444,\"#bd3786\"],[0.5555555555555556,\"#d8576b\"],[0.6666666666666666,\"#ed7953\"],[0.7777777777777778,\"#fb9f3a\"],[0.8888888888888888,\"#fdca26\"],[1.0,\"#f0f921\"]]}],\"mesh3d\":[{\"type\":\"mesh3d\",\"colorbar\":{\"outlinewidth\":0,\"ticks\":\"\"}}],\"scatter\":[{\"fillpattern\":{\"fillmode\":\"overlay\",\"size\":10,\"solidity\":0.2},\"type\":\"scatter\"}],\"parcoords\":[{\"type\":\"parcoords\",\"line\":{\"colorbar\":{\"outlinewidth\":0,\"ticks\":\"\"}}}],\"scatterpolargl\":[{\"type\":\"scatterpolargl\",\"marker\":{\"colorbar\":{\"outlinewidth\":0,\"ticks\":\"\"}}}],\"bar\":[{\"error_x\":{\"color\":\"#2a3f5f\"},\"error_y\":{\"color\":\"#2a3f5f\"},\"marker\":{\"line\":{\"color\":\"#E5ECF6\",\"width\":0.5},\"pattern\":{\"fillmode\":\"overlay\",\"size\":10,\"solidity\":0.2}},\"type\":\"bar\"}],\"scattergeo\":[{\"type\":\"scattergeo\",\"marker\":{\"colorbar\":{\"outlinewidth\":0,\"ticks\":\"\"}}}],\"scatterpolar\":[{\"type\":\"scatterpolar\",\"marker\":{\"colorbar\":{\"outlinewidth\":0,\"ticks\":\"\"}}}],\"histogram\":[{\"marker\":{\"pattern\":{\"fillmode\":\"overlay\",\"size\":10,\"solidity\":0.2}},\"type\":\"histogram\"}],\"scattergl\":[{\"type\":\"scattergl\",\"marker\":{\"colorbar\":{\"outlinewidth\":0,\"ticks\":\"\"}}}],\"scatter3d\":[{\"type\":\"scatter3d\",\"line\":{\"colorbar\":{\"outlinewidth\":0,\"ticks\":\"\"}},\"marker\":{\"colorbar\":{\"outlinewidth\":0,\"ticks\":\"\"}}}],\"scattermapbox\":[{\"type\":\"scattermapbox\",\"marker\":{\"colorbar\":{\"outlinewidth\":0,\"ticks\":\"\"}}}],\"scatterternary\":[{\"type\":\"scatterternary\",\"marker\":{\"colorbar\":{\"outlinewidth\":0,\"ticks\":\"\"}}}],\"scattercarpet\":[{\"type\":\"scattercarpet\",\"marker\":{\"colorbar\":{\"outlinewidth\":0,\"ticks\":\"\"}}}],\"carpet\":[{\"aaxis\":{\"endlinecolor\":\"#2a3f5f\",\"gridcolor\":\"white\",\"linecolor\":\"white\",\"minorgridcolor\":\"white\",\"startlinecolor\":\"#2a3f5f\"},\"baxis\":{\"endlinecolor\":\"#2a3f5f\",\"gridcolor\":\"white\",\"linecolor\":\"white\",\"minorgridcolor\":\"white\",\"startlinecolor\":\"#2a3f5f\"},\"type\":\"carpet\"}],\"table\":[{\"cells\":{\"fill\":{\"color\":\"#EBF0F8\"},\"line\":{\"color\":\"white\"}},\"header\":{\"fill\":{\"color\":\"#C8D4E3\"},\"line\":{\"color\":\"white\"}},\"type\":\"table\"}],\"barpolar\":[{\"marker\":{\"line\":{\"color\":\"#E5ECF6\",\"width\":0.5},\"pattern\":{\"fillmode\":\"overlay\",\"size\":10,\"solidity\":0.2}},\"type\":\"barpolar\"}],\"pie\":[{\"automargin\":true,\"type\":\"pie\"}]},\"layout\":{\"autotypenumbers\":\"strict\",\"colorway\":[\"#636efa\",\"#EF553B\",\"#00cc96\",\"#ab63fa\",\"#FFA15A\",\"#19d3f3\",\"#FF6692\",\"#B6E880\",\"#FF97FF\",\"#FECB52\"],\"font\":{\"color\":\"#2a3f5f\"},\"hovermode\":\"closest\",\"hoverlabel\":{\"align\":\"left\"},\"paper_bgcolor\":\"white\",\"plot_bgcolor\":\"#E5ECF6\",\"polar\":{\"bgcolor\":\"#E5ECF6\",\"angularaxis\":{\"gridcolor\":\"white\",\"linecolor\":\"white\",\"ticks\":\"\"},\"radialaxis\":{\"gridcolor\":\"white\",\"linecolor\":\"white\",\"ticks\":\"\"}},\"ternary\":{\"bgcolor\":\"#E5ECF6\",\"aaxis\":{\"gridcolor\":\"white\",\"linecolor\":\"white\",\"ticks\":\"\"},\"baxis\":{\"gridcolor\":\"white\",\"linecolor\":\"white\",\"ticks\":\"\"},\"caxis\":{\"gridcolor\":\"white\",\"linecolor\":\"white\",\"ticks\":\"\"}},\"coloraxis\":{\"colorbar\":{\"outlinewidth\":0,\"ticks\":\"\"}},\"colorscale\":{\"sequential\":[[0.0,\"#0d0887\"],[0.1111111111111111,\"#46039f\"],[0.2222222222222222,\"#7201a8\"],[0.3333333333333333,\"#9c179e\"],[0.4444444444444444,\"#bd3786\"],[0.5555555555555556,\"#d8576b\"],[0.6666666666666666,\"#ed7953\"],[0.7777777777777778,\"#fb9f3a\"],[0.8888888888888888,\"#fdca26\"],[1.0,\"#f0f921\"]],\"sequentialminus\":[[0.0,\"#0d0887\"],[0.1111111111111111,\"#46039f\"],[0.2222222222222222,\"#7201a8\"],[0.3333333333333333,\"#9c179e\"],[0.4444444444444444,\"#bd3786\"],[0.5555555555555556,\"#d8576b\"],[0.6666666666666666,\"#ed7953\"],[0.7777777777777778,\"#fb9f3a\"],[0.8888888888888888,\"#fdca26\"],[1.0,\"#f0f921\"]],\"diverging\":[[0,\"#8e0152\"],[0.1,\"#c51b7d\"],[0.2,\"#de77ae\"],[0.3,\"#f1b6da\"],[0.4,\"#fde0ef\"],[0.5,\"#f7f7f7\"],[0.6,\"#e6f5d0\"],[0.7,\"#b8e186\"],[0.8,\"#7fbc41\"],[0.9,\"#4d9221\"],[1,\"#276419\"]]},\"xaxis\":{\"gridcolor\":\"white\",\"linecolor\":\"white\",\"ticks\":\"\",\"title\":{\"standoff\":15},\"zerolinecolor\":\"white\",\"automargin\":true,\"zerolinewidth\":2},\"yaxis\":{\"gridcolor\":\"white\",\"linecolor\":\"white\",\"ticks\":\"\",\"title\":{\"standoff\":15},\"zerolinecolor\":\"white\",\"automargin\":true,\"zerolinewidth\":2},\"scene\":{\"xaxis\":{\"backgroundcolor\":\"#E5ECF6\",\"gridcolor\":\"white\",\"linecolor\":\"white\",\"showbackground\":true,\"ticks\":\"\",\"zerolinecolor\":\"white\",\"gridwidth\":2},\"yaxis\":{\"backgroundcolor\":\"#E5ECF6\",\"gridcolor\":\"white\",\"linecolor\":\"white\",\"showbackground\":true,\"ticks\":\"\",\"zerolinecolor\":\"white\",\"gridwidth\":2},\"zaxis\":{\"backgroundcolor\":\"#E5ECF6\",\"gridcolor\":\"white\",\"linecolor\":\"white\",\"showbackground\":true,\"ticks\":\"\",\"zerolinecolor\":\"white\",\"gridwidth\":2}},\"shapedefaults\":{\"line\":{\"color\":\"#2a3f5f\"}},\"annotationdefaults\":{\"arrowcolor\":\"#2a3f5f\",\"arrowhead\":0,\"arrowwidth\":1},\"geo\":{\"bgcolor\":\"white\",\"landcolor\":\"#E5ECF6\",\"subunitcolor\":\"white\",\"showland\":true,\"showlakes\":true,\"lakecolor\":\"white\"},\"title\":{\"x\":0.05},\"mapbox\":{\"style\":\"light\"}}},\"xaxis\":{\"anchor\":\"y\",\"domain\":[0.0,1.0],\"title\":{\"text\":\"Column\"},\"categoryorder\":\"total ascending\"},\"yaxis\":{\"anchor\":\"x\",\"domain\":[0.0,1.0],\"title\":{\"text\":\"Score\"},\"range\":[0,1]},\"legend\":{\"title\":{\"text\":\"Metric\"},\"tracegroupgap\":0},\"title\":{\"text\":\"Data Quality: Column Shapes (Average Score=0.86)\"},\"barmode\":\"relative\",\"margin\":{\"t\":150},\"font\":{\"size\":18},\"plot_bgcolor\":\"#F5F5F8\"},                        {\"responsive\": true}                    ).then(function(){\n",
              "                            \n",
              "var gd = document.getElementById('ee4e1d97-3072-424a-82ca-e51e62bd7272');\n",
              "var x = new MutationObserver(function (mutations, observer) {{\n",
              "        var display = window.getComputedStyle(gd).display;\n",
              "        if (!display || display === 'none') {{\n",
              "            console.log([gd, 'removed!']);\n",
              "            Plotly.purge(gd);\n",
              "            observer.disconnect();\n",
              "        }}\n",
              "}});\n",
              "\n",
              "// Listen for the removal of the full notebook cells\n",
              "var notebookContainer = gd.closest('#notebook-container');\n",
              "if (notebookContainer) {{\n",
              "    x.observe(notebookContainer, {childList: true});\n",
              "}}\n",
              "\n",
              "// Listen for the clearing of the current output cell\n",
              "var outputEl = gd.closest('.output');\n",
              "if (outputEl) {{\n",
              "    x.observe(outputEl, {childList: true});\n",
              "}}\n",
              "\n",
              "                        })                };                            </script>        </div>\n",
              "</body>\n",
              "</html>"
            ]
          },
          "metadata": {}
        },
        {
          "output_type": "display_data",
          "data": {
            "text/html": [
              "<html>\n",
              "<head><meta charset=\"utf-8\" /></head>\n",
              "<body>\n",
              "    <div>            <script src=\"https://cdnjs.cloudflare.com/ajax/libs/mathjax/2.7.5/MathJax.js?config=TeX-AMS-MML_SVG\"></script><script type=\"text/javascript\">if (window.MathJax && window.MathJax.Hub && window.MathJax.Hub.Config) {window.MathJax.Hub.Config({SVG: {font: \"STIX-Web\"}});}</script>                <script type=\"text/javascript\">window.PlotlyConfig = {MathJaxConfig: 'local'};</script>\n",
              "        <script charset=\"utf-8\" src=\"https://cdn.plot.ly/plotly-2.35.2.min.js\"></script>                <div id=\"7fd0376e-a579-4e3c-9821-3bd4504d6aab\" class=\"plotly-graph-div\" style=\"height:900px; width:900px;\"></div>            <script type=\"text/javascript\">                                    window.PLOTLYENV=window.PLOTLYENV || {};                                    if (document.getElementById(\"7fd0376e-a579-4e3c-9821-3bd4504d6aab\")) {                    Plotly.newPlot(                        \"7fd0376e-a579-4e3c-9821-3bd4504d6aab\",                        [{\"coloraxis\":\"coloraxis\",\"hovertemplate\":\"\\u003cb\\u003eColumn Pair\\u003c\\u002fb\\u003e\\u003cbr\\u003e(%{x},%{y})\\u003cbr\\u003e\\u003cbr\\u003eSimilarity: %{z}\\u003cextra\\u003e\\u003c\\u002fextra\\u003e\",\"x\":[\"age\",\"workclass\",\"fnlwgt\",\"education\",\"education-num\",\"marital-status\",\"occupation\",\"relationship\",\"race\",\"sex\",\"capital-gain\",\"capital-loss\",\"hours-per-week\",\"native-country\",\"income\"],\"y\":[\"age\",\"workclass\",\"fnlwgt\",\"education\",\"education-num\",\"marital-status\",\"occupation\",\"relationship\",\"race\",\"sex\",\"capital-gain\",\"capital-loss\",\"hours-per-week\",\"native-country\",\"income\"],\"z\":[[1.0,0.76,0.978,0.854,1.0,0.87,0.824,0.834,0.852,0.878,0.992,0.983,0.996,0.835,0.888],[0.76,1.0,0.554,0.747,0.733,0.767,0.739,0.735,0.746,0.778,0.773,0.755,0.444,0.716,0.773],[0.978,0.554,1.0,0.602,0.999,0.595,0.6,0.579,0.574,0.606,0.996,0.988,0.98,0.573,0.606],[0.854,0.747,0.602,1.0,0.845,0.869,0.819,0.819,0.836,0.879,0.922,0.908,0.445,0.839,0.925],[1.0,0.733,0.999,0.845,1.0,0.858,0.815,0.811,0.822,0.869,0.998,0.969,0.994,0.824,0.918],[0.87,0.767,0.595,0.869,0.858,1.0,0.841,0.847,0.853,0.908,0.917,0.902,0.482,0.834,0.922],[0.824,0.739,0.6,0.819,0.815,0.841,1.0,0.811,0.829,0.848,0.873,0.854,0.475,0.822,0.869],[0.834,0.735,0.579,0.819,0.811,0.847,0.811,1.0,0.817,0.853,0.862,0.848,0.475,0.793,0.865],[0.852,0.746,0.574,0.836,0.822,0.853,0.829,0.817,1.0,0.879,0.878,0.865,0.484,0.824,0.883],[0.878,0.778,0.606,0.879,0.869,0.908,0.848,0.853,0.879,1.0,0.923,0.905,0.486,0.855,0.928],[0.992,0.773,0.996,0.922,0.998,0.917,0.873,0.862,0.878,0.923,1.0,0.965,0.984,0.866,0.985],[0.983,0.755,0.988,0.908,0.969,0.902,0.854,0.848,0.865,0.905,0.965,1.0,0.99,0.855,0.954],[0.996,0.444,0.98,0.445,0.994,0.482,0.475,0.475,0.484,0.486,0.984,0.99,1.0,0.48,0.495],[0.835,0.716,0.573,0.839,0.824,0.834,0.822,0.793,0.824,0.855,0.866,0.855,0.48,1.0,0.87],[0.888,0.773,0.606,0.925,0.918,0.922,0.869,0.865,0.883,0.928,0.985,0.954,0.495,0.87,1.0]],\"type\":\"heatmap\",\"xaxis\":\"x\",\"yaxis\":\"y\"},{\"coloraxis\":\"coloraxis2\",\"customdata\":[[1.0,-0.121,0.03,0.061,0.023,0.064],[-0.121,1.0,-0.04,-0.012,0.02,0.026],[0.03,-0.04,1.0,0.129,0.019,0.131],[0.061,-0.012,0.129,1.0,0.039,0.113],[0.023,0.02,0.019,0.039,1.0,0.035],[0.064,0.026,0.131,0.113,0.035,1.0]],\"hovertemplate\":\"\\u003cb\\u003eCorrelation\\u003c\\u002fb\\u003e\\u003cbr\\u003e(%{x},%{y})\\u003cbr\\u003e\\u003cbr\\u003eSynthetic: %{z}\\u003cbr\\u003e(vs. Real: %{customdata})\\u003cextra\\u003e\\u003c\\u002fextra\\u003e\",\"x\":[\"age\",\"fnlwgt\",\"education-num\",\"capital-gain\",\"capital-loss\",\"hours-per-week\"],\"y\":[\"age\",\"fnlwgt\",\"education-num\",\"capital-gain\",\"capital-loss\",\"hours-per-week\"],\"z\":[[1.0,-0.077,0.031,0.077,0.057,0.072],[-0.077,1.0,-0.039,-0.004,-0.004,-0.014],[0.031,-0.039,1.0,0.125,0.081,0.144],[0.077,-0.004,0.125,1.0,-0.031,0.082],[0.057,-0.004,0.081,-0.031,1.0,0.054],[0.072,-0.014,0.144,0.082,0.054,1.0]],\"type\":\"heatmap\",\"xaxis\":\"x2\",\"yaxis\":\"y2\"},{\"coloraxis\":\"coloraxis2\",\"customdata\":[[1.0,-0.077,0.031,0.077,0.057,0.072],[-0.077,1.0,-0.039,-0.004,-0.004,-0.014],[0.031,-0.039,1.0,0.125,0.081,0.144],[0.077,-0.004,0.125,1.0,-0.031,0.082],[0.057,-0.004,0.081,-0.031,1.0,0.054],[0.072,-0.014,0.144,0.082,0.054,1.0]],\"hovertemplate\":\"\\u003cb\\u003eCorrelation\\u003c\\u002fb\\u003e\\u003cbr\\u003e(%{x},%{y})\\u003cbr\\u003e\\u003cbr\\u003eSynthetic: %{z}\\u003cbr\\u003e(vs. Real: %{customdata})\\u003cextra\\u003e\\u003c\\u002fextra\\u003e\",\"x\":[\"age\",\"fnlwgt\",\"education-num\",\"capital-gain\",\"capital-loss\",\"hours-per-week\"],\"y\":[\"age\",\"fnlwgt\",\"education-num\",\"capital-gain\",\"capital-loss\",\"hours-per-week\"],\"z\":[[1.0,-0.121,0.03,0.061,0.023,0.064],[-0.121,1.0,-0.04,-0.012,0.02,0.026],[0.03,-0.04,1.0,0.129,0.019,0.131],[0.061,-0.012,0.129,1.0,0.039,0.113],[0.023,0.02,0.019,0.039,1.0,0.035],[0.064,0.026,0.131,0.113,0.035,1.0]],\"type\":\"heatmap\",\"xaxis\":\"x3\",\"yaxis\":\"y3\"}],                        {\"template\":{\"data\":{\"histogram2dcontour\":[{\"type\":\"histogram2dcontour\",\"colorbar\":{\"outlinewidth\":0,\"ticks\":\"\"},\"colorscale\":[[0.0,\"#0d0887\"],[0.1111111111111111,\"#46039f\"],[0.2222222222222222,\"#7201a8\"],[0.3333333333333333,\"#9c179e\"],[0.4444444444444444,\"#bd3786\"],[0.5555555555555556,\"#d8576b\"],[0.6666666666666666,\"#ed7953\"],[0.7777777777777778,\"#fb9f3a\"],[0.8888888888888888,\"#fdca26\"],[1.0,\"#f0f921\"]]}],\"choropleth\":[{\"type\":\"choropleth\",\"colorbar\":{\"outlinewidth\":0,\"ticks\":\"\"}}],\"histogram2d\":[{\"type\":\"histogram2d\",\"colorbar\":{\"outlinewidth\":0,\"ticks\":\"\"},\"colorscale\":[[0.0,\"#0d0887\"],[0.1111111111111111,\"#46039f\"],[0.2222222222222222,\"#7201a8\"],[0.3333333333333333,\"#9c179e\"],[0.4444444444444444,\"#bd3786\"],[0.5555555555555556,\"#d8576b\"],[0.6666666666666666,\"#ed7953\"],[0.7777777777777778,\"#fb9f3a\"],[0.8888888888888888,\"#fdca26\"],[1.0,\"#f0f921\"]]}],\"heatmap\":[{\"type\":\"heatmap\",\"colorbar\":{\"outlinewidth\":0,\"ticks\":\"\"},\"colorscale\":[[0.0,\"#0d0887\"],[0.1111111111111111,\"#46039f\"],[0.2222222222222222,\"#7201a8\"],[0.3333333333333333,\"#9c179e\"],[0.4444444444444444,\"#bd3786\"],[0.5555555555555556,\"#d8576b\"],[0.6666666666666666,\"#ed7953\"],[0.7777777777777778,\"#fb9f3a\"],[0.8888888888888888,\"#fdca26\"],[1.0,\"#f0f921\"]]}],\"heatmapgl\":[{\"type\":\"heatmapgl\",\"colorbar\":{\"outlinewidth\":0,\"ticks\":\"\"},\"colorscale\":[[0.0,\"#0d0887\"],[0.1111111111111111,\"#46039f\"],[0.2222222222222222,\"#7201a8\"],[0.3333333333333333,\"#9c179e\"],[0.4444444444444444,\"#bd3786\"],[0.5555555555555556,\"#d8576b\"],[0.6666666666666666,\"#ed7953\"],[0.7777777777777778,\"#fb9f3a\"],[0.8888888888888888,\"#fdca26\"],[1.0,\"#f0f921\"]]}],\"contourcarpet\":[{\"type\":\"contourcarpet\",\"colorbar\":{\"outlinewidth\":0,\"ticks\":\"\"}}],\"contour\":[{\"type\":\"contour\",\"colorbar\":{\"outlinewidth\":0,\"ticks\":\"\"},\"colorscale\":[[0.0,\"#0d0887\"],[0.1111111111111111,\"#46039f\"],[0.2222222222222222,\"#7201a8\"],[0.3333333333333333,\"#9c179e\"],[0.4444444444444444,\"#bd3786\"],[0.5555555555555556,\"#d8576b\"],[0.6666666666666666,\"#ed7953\"],[0.7777777777777778,\"#fb9f3a\"],[0.8888888888888888,\"#fdca26\"],[1.0,\"#f0f921\"]]}],\"surface\":[{\"type\":\"surface\",\"colorbar\":{\"outlinewidth\":0,\"ticks\":\"\"},\"colorscale\":[[0.0,\"#0d0887\"],[0.1111111111111111,\"#46039f\"],[0.2222222222222222,\"#7201a8\"],[0.3333333333333333,\"#9c179e\"],[0.4444444444444444,\"#bd3786\"],[0.5555555555555556,\"#d8576b\"],[0.6666666666666666,\"#ed7953\"],[0.7777777777777778,\"#fb9f3a\"],[0.8888888888888888,\"#fdca26\"],[1.0,\"#f0f921\"]]}],\"mesh3d\":[{\"type\":\"mesh3d\",\"colorbar\":{\"outlinewidth\":0,\"ticks\":\"\"}}],\"scatter\":[{\"fillpattern\":{\"fillmode\":\"overlay\",\"size\":10,\"solidity\":0.2},\"type\":\"scatter\"}],\"parcoords\":[{\"type\":\"parcoords\",\"line\":{\"colorbar\":{\"outlinewidth\":0,\"ticks\":\"\"}}}],\"scatterpolargl\":[{\"type\":\"scatterpolargl\",\"marker\":{\"colorbar\":{\"outlinewidth\":0,\"ticks\":\"\"}}}],\"bar\":[{\"error_x\":{\"color\":\"#2a3f5f\"},\"error_y\":{\"color\":\"#2a3f5f\"},\"marker\":{\"line\":{\"color\":\"#E5ECF6\",\"width\":0.5},\"pattern\":{\"fillmode\":\"overlay\",\"size\":10,\"solidity\":0.2}},\"type\":\"bar\"}],\"scattergeo\":[{\"type\":\"scattergeo\",\"marker\":{\"colorbar\":{\"outlinewidth\":0,\"ticks\":\"\"}}}],\"scatterpolar\":[{\"type\":\"scatterpolar\",\"marker\":{\"colorbar\":{\"outlinewidth\":0,\"ticks\":\"\"}}}],\"histogram\":[{\"marker\":{\"pattern\":{\"fillmode\":\"overlay\",\"size\":10,\"solidity\":0.2}},\"type\":\"histogram\"}],\"scattergl\":[{\"type\":\"scattergl\",\"marker\":{\"colorbar\":{\"outlinewidth\":0,\"ticks\":\"\"}}}],\"scatter3d\":[{\"type\":\"scatter3d\",\"line\":{\"colorbar\":{\"outlinewidth\":0,\"ticks\":\"\"}},\"marker\":{\"colorbar\":{\"outlinewidth\":0,\"ticks\":\"\"}}}],\"scattermapbox\":[{\"type\":\"scattermapbox\",\"marker\":{\"colorbar\":{\"outlinewidth\":0,\"ticks\":\"\"}}}],\"scatterternary\":[{\"type\":\"scatterternary\",\"marker\":{\"colorbar\":{\"outlinewidth\":0,\"ticks\":\"\"}}}],\"scattercarpet\":[{\"type\":\"scattercarpet\",\"marker\":{\"colorbar\":{\"outlinewidth\":0,\"ticks\":\"\"}}}],\"carpet\":[{\"aaxis\":{\"endlinecolor\":\"#2a3f5f\",\"gridcolor\":\"white\",\"linecolor\":\"white\",\"minorgridcolor\":\"white\",\"startlinecolor\":\"#2a3f5f\"},\"baxis\":{\"endlinecolor\":\"#2a3f5f\",\"gridcolor\":\"white\",\"linecolor\":\"white\",\"minorgridcolor\":\"white\",\"startlinecolor\":\"#2a3f5f\"},\"type\":\"carpet\"}],\"table\":[{\"cells\":{\"fill\":{\"color\":\"#EBF0F8\"},\"line\":{\"color\":\"white\"}},\"header\":{\"fill\":{\"color\":\"#C8D4E3\"},\"line\":{\"color\":\"white\"}},\"type\":\"table\"}],\"barpolar\":[{\"marker\":{\"line\":{\"color\":\"#E5ECF6\",\"width\":0.5},\"pattern\":{\"fillmode\":\"overlay\",\"size\":10,\"solidity\":0.2}},\"type\":\"barpolar\"}],\"pie\":[{\"automargin\":true,\"type\":\"pie\"}]},\"layout\":{\"autotypenumbers\":\"strict\",\"colorway\":[\"#636efa\",\"#EF553B\",\"#00cc96\",\"#ab63fa\",\"#FFA15A\",\"#19d3f3\",\"#FF6692\",\"#B6E880\",\"#FF97FF\",\"#FECB52\"],\"font\":{\"color\":\"#2a3f5f\"},\"hovermode\":\"closest\",\"hoverlabel\":{\"align\":\"left\"},\"paper_bgcolor\":\"white\",\"plot_bgcolor\":\"#E5ECF6\",\"polar\":{\"bgcolor\":\"#E5ECF6\",\"angularaxis\":{\"gridcolor\":\"white\",\"linecolor\":\"white\",\"ticks\":\"\"},\"radialaxis\":{\"gridcolor\":\"white\",\"linecolor\":\"white\",\"ticks\":\"\"}},\"ternary\":{\"bgcolor\":\"#E5ECF6\",\"aaxis\":{\"gridcolor\":\"white\",\"linecolor\":\"white\",\"ticks\":\"\"},\"baxis\":{\"gridcolor\":\"white\",\"linecolor\":\"white\",\"ticks\":\"\"},\"caxis\":{\"gridcolor\":\"white\",\"linecolor\":\"white\",\"ticks\":\"\"}},\"coloraxis\":{\"colorbar\":{\"outlinewidth\":0,\"ticks\":\"\"}},\"colorscale\":{\"sequential\":[[0.0,\"#0d0887\"],[0.1111111111111111,\"#46039f\"],[0.2222222222222222,\"#7201a8\"],[0.3333333333333333,\"#9c179e\"],[0.4444444444444444,\"#bd3786\"],[0.5555555555555556,\"#d8576b\"],[0.6666666666666666,\"#ed7953\"],[0.7777777777777778,\"#fb9f3a\"],[0.8888888888888888,\"#fdca26\"],[1.0,\"#f0f921\"]],\"sequentialminus\":[[0.0,\"#0d0887\"],[0.1111111111111111,\"#46039f\"],[0.2222222222222222,\"#7201a8\"],[0.3333333333333333,\"#9c179e\"],[0.4444444444444444,\"#bd3786\"],[0.5555555555555556,\"#d8576b\"],[0.6666666666666666,\"#ed7953\"],[0.7777777777777778,\"#fb9f3a\"],[0.8888888888888888,\"#fdca26\"],[1.0,\"#f0f921\"]],\"diverging\":[[0,\"#8e0152\"],[0.1,\"#c51b7d\"],[0.2,\"#de77ae\"],[0.3,\"#f1b6da\"],[0.4,\"#fde0ef\"],[0.5,\"#f7f7f7\"],[0.6,\"#e6f5d0\"],[0.7,\"#b8e186\"],[0.8,\"#7fbc41\"],[0.9,\"#4d9221\"],[1,\"#276419\"]]},\"xaxis\":{\"gridcolor\":\"white\",\"linecolor\":\"white\",\"ticks\":\"\",\"title\":{\"standoff\":15},\"zerolinecolor\":\"white\",\"automargin\":true,\"zerolinewidth\":2},\"yaxis\":{\"gridcolor\":\"white\",\"linecolor\":\"white\",\"ticks\":\"\",\"title\":{\"standoff\":15},\"zerolinecolor\":\"white\",\"automargin\":true,\"zerolinewidth\":2},\"scene\":{\"xaxis\":{\"backgroundcolor\":\"#E5ECF6\",\"gridcolor\":\"white\",\"linecolor\":\"white\",\"showbackground\":true,\"ticks\":\"\",\"zerolinecolor\":\"white\",\"gridwidth\":2},\"yaxis\":{\"backgroundcolor\":\"#E5ECF6\",\"gridcolor\":\"white\",\"linecolor\":\"white\",\"showbackground\":true,\"ticks\":\"\",\"zerolinecolor\":\"white\",\"gridwidth\":2},\"zaxis\":{\"backgroundcolor\":\"#E5ECF6\",\"gridcolor\":\"white\",\"linecolor\":\"white\",\"showbackground\":true,\"ticks\":\"\",\"zerolinecolor\":\"white\",\"gridwidth\":2}},\"shapedefaults\":{\"line\":{\"color\":\"#2a3f5f\"}},\"annotationdefaults\":{\"arrowcolor\":\"#2a3f5f\",\"arrowhead\":0,\"arrowwidth\":1},\"geo\":{\"bgcolor\":\"white\",\"landcolor\":\"#E5ECF6\",\"subunitcolor\":\"white\",\"showland\":true,\"showlakes\":true,\"lakecolor\":\"white\"},\"title\":{\"x\":0.05},\"mapbox\":{\"style\":\"light\"}}},\"xaxis\":{\"anchor\":\"y\",\"domain\":[0.26,0.74],\"tickangle\":45},\"yaxis\":{\"anchor\":\"x\",\"domain\":[0.625,1.0],\"autorange\":\"reversed\"},\"xaxis2\":{\"anchor\":\"y2\",\"domain\":[0.0,0.45],\"tickangle\":45},\"yaxis2\":{\"anchor\":\"x2\",\"domain\":[0.0,0.375],\"autorange\":\"reversed\"},\"xaxis3\":{\"anchor\":\"y3\",\"domain\":[0.55,1.0],\"tickangle\":45,\"matches\":\"x2\"},\"yaxis3\":{\"anchor\":\"x3\",\"domain\":[0.0,0.375],\"visible\":false,\"matches\":\"y2\",\"autorange\":\"reversed\"},\"annotations\":[{\"font\":{\"size\":16},\"showarrow\":false,\"text\":\"Real vs. Synthetic Similarity\",\"x\":0.5,\"xanchor\":\"center\",\"xref\":\"paper\",\"y\":1.0,\"yanchor\":\"bottom\",\"yref\":\"paper\"},{\"font\":{\"size\":16},\"showarrow\":false,\"text\":\"Numerical Correlation (Real Data)\",\"x\":0.225,\"xanchor\":\"center\",\"xref\":\"paper\",\"y\":0.375,\"yanchor\":\"bottom\",\"yref\":\"paper\"},{\"font\":{\"size\":16},\"showarrow\":false,\"text\":\"Numerical Correlation (Synthetic Data)\",\"x\":0.775,\"xanchor\":\"center\",\"xref\":\"paper\",\"y\":0.375,\"yanchor\":\"bottom\",\"yref\":\"paper\"}],\"title\":{\"text\":\"Data Quality: Column Pair Trends (Average Score=0.81)\"},\"coloraxis\":{\"colorbar\":{\"len\":0.5,\"x\":0.8,\"y\":0.8},\"cmin\":0,\"cmax\":1,\"colorscale\":[[0.0,\"#FF0000\"],[0.5,\"#F16141\"],[1.0,\"#36B37E\"]]},\"coloraxis2\":{\"colorbar\":{\"len\":0.5,\"y\":0.2},\"cmin\":-1,\"cmax\":1,\"colorscale\":[[0.0,\"#03AFF1\"],[0.5,\"#000036\"],[1.0,\"#01E0C9\"]]},\"font\":{\"size\":18},\"height\":900,\"width\":900},                        {\"responsive\": true}                    ).then(function(){\n",
              "                            \n",
              "var gd = document.getElementById('7fd0376e-a579-4e3c-9821-3bd4504d6aab');\n",
              "var x = new MutationObserver(function (mutations, observer) {{\n",
              "        var display = window.getComputedStyle(gd).display;\n",
              "        if (!display || display === 'none') {{\n",
              "            console.log([gd, 'removed!']);\n",
              "            Plotly.purge(gd);\n",
              "            observer.disconnect();\n",
              "        }}\n",
              "}});\n",
              "\n",
              "// Listen for the removal of the full notebook cells\n",
              "var notebookContainer = gd.closest('#notebook-container');\n",
              "if (notebookContainer) {{\n",
              "    x.observe(notebookContainer, {childList: true});\n",
              "}}\n",
              "\n",
              "// Listen for the clearing of the current output cell\n",
              "var outputEl = gd.closest('.output');\n",
              "if (outputEl) {{\n",
              "    x.observe(outputEl, {childList: true});\n",
              "}}\n",
              "\n",
              "                        })                };                            </script>        </div>\n",
              "</body>\n",
              "</html>"
            ]
          },
          "metadata": {}
        },
        {
          "output_type": "stream",
          "name": "stdout",
          "text": [
            "\n",
            "================================ METRICS REPORT ================================\n",
            "Column Shapes Score: 0.863\n",
            "Column Trends Score: 0.812\n",
            "Overall Score: 0.838\n",
            "correlation score: 0.978\n",
            "contingency similarity score: 0.883\n",
            "log detection score: 0.567\n",
            "Alpha Precision: 0.662991, Beta Recall: 0.261488\n",
            "DCR Score = 0.498423\n"
          ]
        }
      ]
    },
    {
      "cell_type": "markdown",
      "source": [
        "### Default"
      ],
      "metadata": {
        "id": "DOG-H2NVab9j"
      }
    },
    {
      "cell_type": "code",
      "source": [
        "# fetch dataset\n",
        "default_of_credit_card_clients = fetch_ucirepo(id=350)\n",
        "\n",
        "# data (as pandas dataframes)\n",
        "X = default_of_credit_card_clients.data.features\n",
        "y = default_of_credit_card_clients.data.targets\n",
        "\n",
        "# metadata\n",
        "print(default_of_credit_card_clients.metadata)\n",
        "\n",
        "# variable information\n",
        "print(default_of_credit_card_clients.variables)\n"
      ],
      "metadata": {
        "colab": {
          "base_uri": "https://localhost:8080/"
        },
        "id": "4CytCu6MeP-S",
        "outputId": "dbb38a42-04b7-40ba-97ba-4e2ed940bcd1"
      },
      "execution_count": 24,
      "outputs": [
        {
          "output_type": "stream",
          "name": "stdout",
          "text": [
            "{'uci_id': 350, 'name': 'Default of Credit Card Clients', 'repository_url': 'https://archive.ics.uci.edu/dataset/350/default+of+credit+card+clients', 'data_url': 'https://archive.ics.uci.edu/static/public/350/data.csv', 'abstract': \"This research aimed at the case of customers' default payments in Taiwan and compares the predictive accuracy of probability of default among six data mining methods.\", 'area': 'Business', 'tasks': ['Classification'], 'characteristics': ['Multivariate'], 'num_instances': 30000, 'num_features': 23, 'feature_types': ['Integer', 'Real'], 'demographics': ['Sex', 'Education Level', 'Marital Status', 'Age'], 'target_col': ['Y'], 'index_col': ['ID'], 'has_missing_values': 'no', 'missing_values_symbol': None, 'year_of_dataset_creation': 2009, 'last_updated': 'Fri Mar 29 2024', 'dataset_doi': '10.24432/C55S3H', 'creators': ['I-Cheng Yeh'], 'intro_paper': {'ID': 365, 'type': 'NATIVE', 'title': 'The comparisons of data mining techniques for the predictive accuracy of probability of default of credit card clients', 'authors': 'I. Yeh, Che-hui Lien', 'venue': 'Expert systems with applications', 'year': 2009, 'journal': None, 'DOI': '10.1016/j.eswa.2007.12.020', 'URL': 'https://www.semanticscholar.org/paper/1cacac4f0ea9fdff3cd88c151c94115a9fddcf33', 'sha': None, 'corpus': None, 'arxiv': None, 'mag': None, 'acl': None, 'pmid': None, 'pmcid': None}, 'additional_info': {'summary': \"This research aimed at the case of customers' default payments in Taiwan and compares the predictive accuracy of probability of default among six data mining methods. From the perspective of risk management, the result of predictive accuracy of the estimated probability of default will be more valuable than the binary result of classification - credible or not credible clients. Because the real probability of default is unknown, this study presented the novel Sorting Smoothing Method to estimate the real probability of default. With the real probability of default as the response variable (Y), and the predictive probability of default as the independent variable (X), the simple linear regression result (Y = A + BX) shows that the forecasting model produced by artificial neural network has the highest coefficient of determination; its regression intercept (A) is close to zero, and regression coefficient (B) to one. Therefore, among the six data mining techniques, artificial neural network is the only one that can accurately estimate the real probability of default.\", 'purpose': None, 'funded_by': None, 'instances_represent': None, 'recommended_data_splits': None, 'sensitive_data': None, 'preprocessing_description': None, 'variable_info': 'This research employed a binary variable, default payment (Yes = 1, No = 0), as the response variable. This study reviewed the literature and used the following 23 variables as explanatory variables:\\r\\nX1: Amount of the given credit (NT dollar): it includes both the individual consumer credit and his/her family (supplementary) credit.\\r\\nX2: Gender (1 = male; 2 = female).\\r\\nX3: Education (1 = graduate school; 2 = university; 3 = high school; 4 = others).\\r\\nX4: Marital status (1 = married; 2 = single; 3 = others).\\r\\nX5: Age (year).\\r\\nX6 - X11: History of past payment. We tracked the past monthly payment records (from April to September, 2005) as follows: X6 = the repayment status in September, 2005; X7 = the repayment status in August, 2005; . . .;X11 = the repayment status in April, 2005. The measurement scale for the repayment status is: -1 = pay duly; 1 = payment delay for one month; 2 = payment delay for two months; . . .; 8 = payment delay for eight months; 9 = payment delay for nine months and above.\\r\\nX12-X17: Amount of bill statement (NT dollar). X12 = amount of bill statement in September, 2005; X13 = amount of bill statement in August, 2005; . . .; X17 = amount of bill statement in April, 2005. \\r\\nX18-X23: Amount of previous payment (NT dollar). X18 = amount paid in September, 2005; X19 = amount paid in August, 2005; . . .;X23 = amount paid in April, 2005.\\r\\n', 'citation': None}}\n",
            "   name     role     type      demographic                 description units  \\\n",
            "0    ID       ID  Integer             None                        None  None   \n",
            "1    X1  Feature  Integer             None                   LIMIT_BAL  None   \n",
            "2    X2  Feature  Integer              Sex                         SEX  None   \n",
            "3    X3  Feature  Integer  Education Level                   EDUCATION  None   \n",
            "4    X4  Feature  Integer   Marital Status                    MARRIAGE  None   \n",
            "5    X5  Feature  Integer              Age                         AGE  None   \n",
            "6    X6  Feature  Integer             None                       PAY_0  None   \n",
            "7    X7  Feature  Integer             None                       PAY_2  None   \n",
            "8    X8  Feature  Integer             None                       PAY_3  None   \n",
            "9    X9  Feature  Integer             None                       PAY_4  None   \n",
            "10  X10  Feature  Integer             None                       PAY_5  None   \n",
            "11  X11  Feature  Integer             None                       PAY_6  None   \n",
            "12  X12  Feature  Integer             None                   BILL_AMT1  None   \n",
            "13  X13  Feature  Integer             None                   BILL_AMT2  None   \n",
            "14  X14  Feature  Integer             None                   BILL_AMT3  None   \n",
            "15  X15  Feature  Integer             None                   BILL_AMT4  None   \n",
            "16  X16  Feature  Integer             None                   BILL_AMT5  None   \n",
            "17  X17  Feature  Integer             None                   BILL_AMT6  None   \n",
            "18  X18  Feature  Integer             None                    PAY_AMT1  None   \n",
            "19  X19  Feature  Integer             None                    PAY_AMT2  None   \n",
            "20  X20  Feature  Integer             None                    PAY_AMT3  None   \n",
            "21  X21  Feature  Integer             None                    PAY_AMT4  None   \n",
            "22  X22  Feature  Integer             None                    PAY_AMT5  None   \n",
            "23  X23  Feature  Integer             None                    PAY_AMT6  None   \n",
            "24    Y   Target   Binary             None  default payment next month  None   \n",
            "\n",
            "   missing_values  \n",
            "0              no  \n",
            "1              no  \n",
            "2              no  \n",
            "3              no  \n",
            "4              no  \n",
            "5              no  \n",
            "6              no  \n",
            "7              no  \n",
            "8              no  \n",
            "9              no  \n",
            "10             no  \n",
            "11             no  \n",
            "12             no  \n",
            "13             no  \n",
            "14             no  \n",
            "15             no  \n",
            "16             no  \n",
            "17             no  \n",
            "18             no  \n",
            "19             no  \n",
            "20             no  \n",
            "21             no  \n",
            "22             no  \n",
            "23             no  \n",
            "24             no  \n"
          ]
        }
      ]
    },
    {
      "cell_type": "code",
      "source": [
        "all_data_ucirepo = pd.concat([X, y], axis=1)"
      ],
      "metadata": {
        "id": "_gQjBSv_Wyze"
      },
      "execution_count": 25,
      "outputs": []
    },
    {
      "cell_type": "code",
      "source": [
        "cat_cols = ['X2', 'X3', 'X4', 'Y']\n",
        "numeric_cols = [x for x in all_data_ucirepo.columns if x not in cat_cols]\n",
        "\n",
        "ctgan = CTGAN(epochs=300)\n",
        "ctgan.fit(all_data_ucirepo, cat_cols)"
      ],
      "metadata": {
        "id": "Wq6oCNTSk_RY"
      },
      "execution_count": 27,
      "outputs": []
    },
    {
      "cell_type": "code",
      "source": [
        "synthetic_data = ctgan.sample(len(all_data_ucirepo))\n",
        "\n",
        "ctgan_metrics = Metrics(all_data_ucirepo, synthetic_data, numeric_cols, cat_cols, 'Y')\n",
        "metrics = ctgan_metrics.collect_all_metrics()"
      ],
      "metadata": {
        "colab": {
          "base_uri": "https://localhost:8080/",
          "height": 1000
        },
        "id": "jSdDgTvbk9Cx",
        "outputId": "ca9dfda0-0d34-4baa-bb29-302fc3d6d6f3"
      },
      "execution_count": 28,
      "outputs": [
        {
          "output_type": "stream",
          "name": "stdout",
          "text": [
            "Classificator results:\n",
            "Real data - AUC: 0.778 ± 0.000\n",
            "Synthetic data - AUC: 0.757 ± 0.005\n",
            "Generating report ...\n",
            "\n",
            "(1/2) Evaluating Column Shapes: |██████████| 24/24 [00:00<00:00, 48.84it/s]|\n",
            "Column Shapes Score: 90.7%\n",
            "\n",
            "(2/2) Evaluating Column Pair Trends: |██████████| 276/276 [00:04<00:00, 67.18it/s]|\n",
            "Column Pair Trends Score: 84.94%\n",
            "\n",
            "Overall Score (Average): 87.82%\n",
            "\n",
            "Generating report ...\n",
            "\n",
            "(1/2) Evaluating Data Validity: |██████████| 24/24 [00:00<00:00, 362.45it/s]|\n",
            "Data Validity Score: 97.26%\n",
            "\n",
            "(2/2) Evaluating Data Structure: |██████████| 1/1 [00:00<00:00, 183.45it/s]|\n",
            "Data Structure Score: 100.0%\n",
            "\n",
            "Overall Score (Average): 98.63%\n",
            "\n"
          ]
        },
        {
          "output_type": "display_data",
          "data": {
            "text/html": [
              "<html>\n",
              "<head><meta charset=\"utf-8\" /></head>\n",
              "<body>\n",
              "    <div>            <script src=\"https://cdnjs.cloudflare.com/ajax/libs/mathjax/2.7.5/MathJax.js?config=TeX-AMS-MML_SVG\"></script><script type=\"text/javascript\">if (window.MathJax && window.MathJax.Hub && window.MathJax.Hub.Config) {window.MathJax.Hub.Config({SVG: {font: \"STIX-Web\"}});}</script>                <script type=\"text/javascript\">window.PlotlyConfig = {MathJaxConfig: 'local'};</script>\n",
              "        <script charset=\"utf-8\" src=\"https://cdn.plot.ly/plotly-2.35.2.min.js\"></script>                <div id=\"220242da-bc74-4de9-a8f2-9b520fe72621\" class=\"plotly-graph-div\" style=\"height:525px; width:100%;\"></div>            <script type=\"text/javascript\">                                    window.PLOTLYENV=window.PLOTLYENV || {};                                    if (document.getElementById(\"220242da-bc74-4de9-a8f2-9b520fe72621\")) {                    Plotly.newPlot(                        \"220242da-bc74-4de9-a8f2-9b520fe72621\",                        [{\"alignmentgroup\":\"True\",\"customdata\":[[\"KSComplement\"],[\"KSComplement\"],[\"KSComplement\"],[\"KSComplement\"],[\"KSComplement\"],[\"KSComplement\"],[\"KSComplement\"],[\"KSComplement\"],[\"KSComplement\"],[\"KSComplement\"],[\"KSComplement\"],[\"KSComplement\"],[\"KSComplement\"],[\"KSComplement\"],[\"KSComplement\"],[\"KSComplement\"],[\"KSComplement\"],[\"KSComplement\"],[\"KSComplement\"],[\"KSComplement\"]],\"hovertemplate\":\"\\u003cb\\u003e%{hovertext}\\u003c\\u002fb\\u003e\\u003cbr\\u003e\\u003cbr\\u003eMetric=%{customdata[0]}\\u003cbr\\u003eScore=%{y}\\u003cextra\\u003e\\u003c\\u002fextra\\u003e\",\"hovertext\":[\"X1\",\"X5\",\"X6\",\"X7\",\"X8\",\"X9\",\"X10\",\"X11\",\"X12\",\"X13\",\"X14\",\"X15\",\"X16\",\"X17\",\"X18\",\"X19\",\"X20\",\"X21\",\"X22\",\"X23\"],\"legendgroup\":\"KSComplement\",\"marker\":{\"color\":\"#000036\",\"pattern\":{\"shape\":\"\"}},\"name\":\"KSComplement\",\"offsetgroup\":\"KSComplement\",\"orientation\":\"v\",\"showlegend\":true,\"textposition\":\"auto\",\"x\":[\"X1\",\"X5\",\"X6\",\"X7\",\"X8\",\"X9\",\"X10\",\"X11\",\"X12\",\"X13\",\"X14\",\"X15\",\"X16\",\"X17\",\"X18\",\"X19\",\"X20\",\"X21\",\"X22\",\"X23\"],\"xaxis\":\"x\",\"y\":[0.8937666666666666,0.9609333333333333,0.9584333333333334,0.9600666666666667,0.9622999999999999,0.99,0.9813000000000001,0.9743666666666666,0.9373,0.9064,0.9034333333333333,0.8951333333333333,0.8961,0.9023333333333333,0.8967666666666666,0.8589333333333333,0.856,0.8331,0.8375,0.8373666666666667],\"yaxis\":\"y\",\"type\":\"bar\"},{\"alignmentgroup\":\"True\",\"customdata\":[[\"TVComplement\"],[\"TVComplement\"],[\"TVComplement\"],[\"TVComplement\"]],\"hovertemplate\":\"\\u003cb\\u003e%{hovertext}\\u003c\\u002fb\\u003e\\u003cbr\\u003e\\u003cbr\\u003eMetric=%{customdata[0]}\\u003cbr\\u003eScore=%{y}\\u003cextra\\u003e\\u003c\\u002fextra\\u003e\",\"hovertext\":[\"X2\",\"X3\",\"X4\",\"Y\"],\"legendgroup\":\"TVComplement\",\"marker\":{\"color\":\"#03AFF1\",\"pattern\":{\"shape\":\"\\u002f\"}},\"name\":\"TVComplement\",\"offsetgroup\":\"TVComplement\",\"orientation\":\"v\",\"showlegend\":true,\"textposition\":\"auto\",\"x\":[\"X2\",\"X3\",\"X4\",\"Y\"],\"xaxis\":\"x\",\"y\":[0.8922333333333333,0.8400333333333333,0.9162333333333333,0.8785999999999999],\"yaxis\":\"y\",\"type\":\"bar\"}],                        {\"template\":{\"data\":{\"histogram2dcontour\":[{\"type\":\"histogram2dcontour\",\"colorbar\":{\"outlinewidth\":0,\"ticks\":\"\"},\"colorscale\":[[0.0,\"#0d0887\"],[0.1111111111111111,\"#46039f\"],[0.2222222222222222,\"#7201a8\"],[0.3333333333333333,\"#9c179e\"],[0.4444444444444444,\"#bd3786\"],[0.5555555555555556,\"#d8576b\"],[0.6666666666666666,\"#ed7953\"],[0.7777777777777778,\"#fb9f3a\"],[0.8888888888888888,\"#fdca26\"],[1.0,\"#f0f921\"]]}],\"choropleth\":[{\"type\":\"choropleth\",\"colorbar\":{\"outlinewidth\":0,\"ticks\":\"\"}}],\"histogram2d\":[{\"type\":\"histogram2d\",\"colorbar\":{\"outlinewidth\":0,\"ticks\":\"\"},\"colorscale\":[[0.0,\"#0d0887\"],[0.1111111111111111,\"#46039f\"],[0.2222222222222222,\"#7201a8\"],[0.3333333333333333,\"#9c179e\"],[0.4444444444444444,\"#bd3786\"],[0.5555555555555556,\"#d8576b\"],[0.6666666666666666,\"#ed7953\"],[0.7777777777777778,\"#fb9f3a\"],[0.8888888888888888,\"#fdca26\"],[1.0,\"#f0f921\"]]}],\"heatmap\":[{\"type\":\"heatmap\",\"colorbar\":{\"outlinewidth\":0,\"ticks\":\"\"},\"colorscale\":[[0.0,\"#0d0887\"],[0.1111111111111111,\"#46039f\"],[0.2222222222222222,\"#7201a8\"],[0.3333333333333333,\"#9c179e\"],[0.4444444444444444,\"#bd3786\"],[0.5555555555555556,\"#d8576b\"],[0.6666666666666666,\"#ed7953\"],[0.7777777777777778,\"#fb9f3a\"],[0.8888888888888888,\"#fdca26\"],[1.0,\"#f0f921\"]]}],\"heatmapgl\":[{\"type\":\"heatmapgl\",\"colorbar\":{\"outlinewidth\":0,\"ticks\":\"\"},\"colorscale\":[[0.0,\"#0d0887\"],[0.1111111111111111,\"#46039f\"],[0.2222222222222222,\"#7201a8\"],[0.3333333333333333,\"#9c179e\"],[0.4444444444444444,\"#bd3786\"],[0.5555555555555556,\"#d8576b\"],[0.6666666666666666,\"#ed7953\"],[0.7777777777777778,\"#fb9f3a\"],[0.8888888888888888,\"#fdca26\"],[1.0,\"#f0f921\"]]}],\"contourcarpet\":[{\"type\":\"contourcarpet\",\"colorbar\":{\"outlinewidth\":0,\"ticks\":\"\"}}],\"contour\":[{\"type\":\"contour\",\"colorbar\":{\"outlinewidth\":0,\"ticks\":\"\"},\"colorscale\":[[0.0,\"#0d0887\"],[0.1111111111111111,\"#46039f\"],[0.2222222222222222,\"#7201a8\"],[0.3333333333333333,\"#9c179e\"],[0.4444444444444444,\"#bd3786\"],[0.5555555555555556,\"#d8576b\"],[0.6666666666666666,\"#ed7953\"],[0.7777777777777778,\"#fb9f3a\"],[0.8888888888888888,\"#fdca26\"],[1.0,\"#f0f921\"]]}],\"surface\":[{\"type\":\"surface\",\"colorbar\":{\"outlinewidth\":0,\"ticks\":\"\"},\"colorscale\":[[0.0,\"#0d0887\"],[0.1111111111111111,\"#46039f\"],[0.2222222222222222,\"#7201a8\"],[0.3333333333333333,\"#9c179e\"],[0.4444444444444444,\"#bd3786\"],[0.5555555555555556,\"#d8576b\"],[0.6666666666666666,\"#ed7953\"],[0.7777777777777778,\"#fb9f3a\"],[0.8888888888888888,\"#fdca26\"],[1.0,\"#f0f921\"]]}],\"mesh3d\":[{\"type\":\"mesh3d\",\"colorbar\":{\"outlinewidth\":0,\"ticks\":\"\"}}],\"scatter\":[{\"fillpattern\":{\"fillmode\":\"overlay\",\"size\":10,\"solidity\":0.2},\"type\":\"scatter\"}],\"parcoords\":[{\"type\":\"parcoords\",\"line\":{\"colorbar\":{\"outlinewidth\":0,\"ticks\":\"\"}}}],\"scatterpolargl\":[{\"type\":\"scatterpolargl\",\"marker\":{\"colorbar\":{\"outlinewidth\":0,\"ticks\":\"\"}}}],\"bar\":[{\"error_x\":{\"color\":\"#2a3f5f\"},\"error_y\":{\"color\":\"#2a3f5f\"},\"marker\":{\"line\":{\"color\":\"#E5ECF6\",\"width\":0.5},\"pattern\":{\"fillmode\":\"overlay\",\"size\":10,\"solidity\":0.2}},\"type\":\"bar\"}],\"scattergeo\":[{\"type\":\"scattergeo\",\"marker\":{\"colorbar\":{\"outlinewidth\":0,\"ticks\":\"\"}}}],\"scatterpolar\":[{\"type\":\"scatterpolar\",\"marker\":{\"colorbar\":{\"outlinewidth\":0,\"ticks\":\"\"}}}],\"histogram\":[{\"marker\":{\"pattern\":{\"fillmode\":\"overlay\",\"size\":10,\"solidity\":0.2}},\"type\":\"histogram\"}],\"scattergl\":[{\"type\":\"scattergl\",\"marker\":{\"colorbar\":{\"outlinewidth\":0,\"ticks\":\"\"}}}],\"scatter3d\":[{\"type\":\"scatter3d\",\"line\":{\"colorbar\":{\"outlinewidth\":0,\"ticks\":\"\"}},\"marker\":{\"colorbar\":{\"outlinewidth\":0,\"ticks\":\"\"}}}],\"scattermapbox\":[{\"type\":\"scattermapbox\",\"marker\":{\"colorbar\":{\"outlinewidth\":0,\"ticks\":\"\"}}}],\"scatterternary\":[{\"type\":\"scatterternary\",\"marker\":{\"colorbar\":{\"outlinewidth\":0,\"ticks\":\"\"}}}],\"scattercarpet\":[{\"type\":\"scattercarpet\",\"marker\":{\"colorbar\":{\"outlinewidth\":0,\"ticks\":\"\"}}}],\"carpet\":[{\"aaxis\":{\"endlinecolor\":\"#2a3f5f\",\"gridcolor\":\"white\",\"linecolor\":\"white\",\"minorgridcolor\":\"white\",\"startlinecolor\":\"#2a3f5f\"},\"baxis\":{\"endlinecolor\":\"#2a3f5f\",\"gridcolor\":\"white\",\"linecolor\":\"white\",\"minorgridcolor\":\"white\",\"startlinecolor\":\"#2a3f5f\"},\"type\":\"carpet\"}],\"table\":[{\"cells\":{\"fill\":{\"color\":\"#EBF0F8\"},\"line\":{\"color\":\"white\"}},\"header\":{\"fill\":{\"color\":\"#C8D4E3\"},\"line\":{\"color\":\"white\"}},\"type\":\"table\"}],\"barpolar\":[{\"marker\":{\"line\":{\"color\":\"#E5ECF6\",\"width\":0.5},\"pattern\":{\"fillmode\":\"overlay\",\"size\":10,\"solidity\":0.2}},\"type\":\"barpolar\"}],\"pie\":[{\"automargin\":true,\"type\":\"pie\"}]},\"layout\":{\"autotypenumbers\":\"strict\",\"colorway\":[\"#636efa\",\"#EF553B\",\"#00cc96\",\"#ab63fa\",\"#FFA15A\",\"#19d3f3\",\"#FF6692\",\"#B6E880\",\"#FF97FF\",\"#FECB52\"],\"font\":{\"color\":\"#2a3f5f\"},\"hovermode\":\"closest\",\"hoverlabel\":{\"align\":\"left\"},\"paper_bgcolor\":\"white\",\"plot_bgcolor\":\"#E5ECF6\",\"polar\":{\"bgcolor\":\"#E5ECF6\",\"angularaxis\":{\"gridcolor\":\"white\",\"linecolor\":\"white\",\"ticks\":\"\"},\"radialaxis\":{\"gridcolor\":\"white\",\"linecolor\":\"white\",\"ticks\":\"\"}},\"ternary\":{\"bgcolor\":\"#E5ECF6\",\"aaxis\":{\"gridcolor\":\"white\",\"linecolor\":\"white\",\"ticks\":\"\"},\"baxis\":{\"gridcolor\":\"white\",\"linecolor\":\"white\",\"ticks\":\"\"},\"caxis\":{\"gridcolor\":\"white\",\"linecolor\":\"white\",\"ticks\":\"\"}},\"coloraxis\":{\"colorbar\":{\"outlinewidth\":0,\"ticks\":\"\"}},\"colorscale\":{\"sequential\":[[0.0,\"#0d0887\"],[0.1111111111111111,\"#46039f\"],[0.2222222222222222,\"#7201a8\"],[0.3333333333333333,\"#9c179e\"],[0.4444444444444444,\"#bd3786\"],[0.5555555555555556,\"#d8576b\"],[0.6666666666666666,\"#ed7953\"],[0.7777777777777778,\"#fb9f3a\"],[0.8888888888888888,\"#fdca26\"],[1.0,\"#f0f921\"]],\"sequentialminus\":[[0.0,\"#0d0887\"],[0.1111111111111111,\"#46039f\"],[0.2222222222222222,\"#7201a8\"],[0.3333333333333333,\"#9c179e\"],[0.4444444444444444,\"#bd3786\"],[0.5555555555555556,\"#d8576b\"],[0.6666666666666666,\"#ed7953\"],[0.7777777777777778,\"#fb9f3a\"],[0.8888888888888888,\"#fdca26\"],[1.0,\"#f0f921\"]],\"diverging\":[[0,\"#8e0152\"],[0.1,\"#c51b7d\"],[0.2,\"#de77ae\"],[0.3,\"#f1b6da\"],[0.4,\"#fde0ef\"],[0.5,\"#f7f7f7\"],[0.6,\"#e6f5d0\"],[0.7,\"#b8e186\"],[0.8,\"#7fbc41\"],[0.9,\"#4d9221\"],[1,\"#276419\"]]},\"xaxis\":{\"gridcolor\":\"white\",\"linecolor\":\"white\",\"ticks\":\"\",\"title\":{\"standoff\":15},\"zerolinecolor\":\"white\",\"automargin\":true,\"zerolinewidth\":2},\"yaxis\":{\"gridcolor\":\"white\",\"linecolor\":\"white\",\"ticks\":\"\",\"title\":{\"standoff\":15},\"zerolinecolor\":\"white\",\"automargin\":true,\"zerolinewidth\":2},\"scene\":{\"xaxis\":{\"backgroundcolor\":\"#E5ECF6\",\"gridcolor\":\"white\",\"linecolor\":\"white\",\"showbackground\":true,\"ticks\":\"\",\"zerolinecolor\":\"white\",\"gridwidth\":2},\"yaxis\":{\"backgroundcolor\":\"#E5ECF6\",\"gridcolor\":\"white\",\"linecolor\":\"white\",\"showbackground\":true,\"ticks\":\"\",\"zerolinecolor\":\"white\",\"gridwidth\":2},\"zaxis\":{\"backgroundcolor\":\"#E5ECF6\",\"gridcolor\":\"white\",\"linecolor\":\"white\",\"showbackground\":true,\"ticks\":\"\",\"zerolinecolor\":\"white\",\"gridwidth\":2}},\"shapedefaults\":{\"line\":{\"color\":\"#2a3f5f\"}},\"annotationdefaults\":{\"arrowcolor\":\"#2a3f5f\",\"arrowhead\":0,\"arrowwidth\":1},\"geo\":{\"bgcolor\":\"white\",\"landcolor\":\"#E5ECF6\",\"subunitcolor\":\"white\",\"showland\":true,\"showlakes\":true,\"lakecolor\":\"white\"},\"title\":{\"x\":0.05},\"mapbox\":{\"style\":\"light\"}}},\"xaxis\":{\"anchor\":\"y\",\"domain\":[0.0,1.0],\"title\":{\"text\":\"Column\"},\"categoryorder\":\"total ascending\"},\"yaxis\":{\"anchor\":\"x\",\"domain\":[0.0,1.0],\"title\":{\"text\":\"Score\"},\"range\":[0,1]},\"legend\":{\"title\":{\"text\":\"Metric\"},\"tracegroupgap\":0},\"title\":{\"text\":\"Data Quality: Column Shapes (Average Score=0.91)\"},\"barmode\":\"relative\",\"margin\":{\"t\":150},\"font\":{\"size\":18},\"plot_bgcolor\":\"#F5F5F8\"},                        {\"responsive\": true}                    ).then(function(){\n",
              "                            \n",
              "var gd = document.getElementById('220242da-bc74-4de9-a8f2-9b520fe72621');\n",
              "var x = new MutationObserver(function (mutations, observer) {{\n",
              "        var display = window.getComputedStyle(gd).display;\n",
              "        if (!display || display === 'none') {{\n",
              "            console.log([gd, 'removed!']);\n",
              "            Plotly.purge(gd);\n",
              "            observer.disconnect();\n",
              "        }}\n",
              "}});\n",
              "\n",
              "// Listen for the removal of the full notebook cells\n",
              "var notebookContainer = gd.closest('#notebook-container');\n",
              "if (notebookContainer) {{\n",
              "    x.observe(notebookContainer, {childList: true});\n",
              "}}\n",
              "\n",
              "// Listen for the clearing of the current output cell\n",
              "var outputEl = gd.closest('.output');\n",
              "if (outputEl) {{\n",
              "    x.observe(outputEl, {childList: true});\n",
              "}}\n",
              "\n",
              "                        })                };                            </script>        </div>\n",
              "</body>\n",
              "</html>"
            ]
          },
          "metadata": {}
        },
        {
          "output_type": "display_data",
          "data": {
            "text/html": [
              "<html>\n",
              "<head><meta charset=\"utf-8\" /></head>\n",
              "<body>\n",
              "    <div>            <script src=\"https://cdnjs.cloudflare.com/ajax/libs/mathjax/2.7.5/MathJax.js?config=TeX-AMS-MML_SVG\"></script><script type=\"text/javascript\">if (window.MathJax && window.MathJax.Hub && window.MathJax.Hub.Config) {window.MathJax.Hub.Config({SVG: {font: \"STIX-Web\"}});}</script>                <script type=\"text/javascript\">window.PlotlyConfig = {MathJaxConfig: 'local'};</script>\n",
              "        <script charset=\"utf-8\" src=\"https://cdn.plot.ly/plotly-2.35.2.min.js\"></script>                <div id=\"bac9ce5e-2e94-4efc-b43a-8ad00fd430d2\" class=\"plotly-graph-div\" style=\"height:900px; width:900px;\"></div>            <script type=\"text/javascript\">                                    window.PLOTLYENV=window.PLOTLYENV || {};                                    if (document.getElementById(\"bac9ce5e-2e94-4efc-b43a-8ad00fd430d2\")) {                    Plotly.newPlot(                        \"bac9ce5e-2e94-4efc-b43a-8ad00fd430d2\",                        [{\"coloraxis\":\"coloraxis\",\"hovertemplate\":\"\\u003cb\\u003eColumn Pair\\u003c\\u002fb\\u003e\\u003cbr\\u003e(%{x},%{y})\\u003cbr\\u003e\\u003cbr\\u003eSimilarity: %{z}\\u003cextra\\u003e\\u003c\\u002fextra\\u003e\",\"x\":[\"X1\",\"X2\",\"X3\",\"X4\",\"X5\",\"X6\",\"X7\",\"X8\",\"X9\",\"X10\",\"X11\",\"X12\",\"X13\",\"X14\",\"X15\",\"X16\",\"X17\",\"X18\",\"X19\",\"X20\",\"X21\",\"X22\",\"X23\",\"Y\"],\"y\":[\"X1\",\"X2\",\"X3\",\"X4\",\"X5\",\"X6\",\"X7\",\"X8\",\"X9\",\"X10\",\"X11\",\"X12\",\"X13\",\"X14\",\"X15\",\"X16\",\"X17\",\"X18\",\"X19\",\"X20\",\"X21\",\"X22\",\"X23\",\"Y\"],\"z\":[[1.0,0.787,0.743,0.733,0.964,0.989,0.985,0.99,0.995,0.994,0.981,0.99,0.991,0.99,0.984,0.978,0.995,0.94,0.954,0.963,0.944,0.939,0.988,0.757],[0.787,1.0,0.811,0.849,0.873,0.332,0.416,0.409,0.446,0.42,0.4,0.267,0.81,0.776,0.243,0.818,0.099,0.846,0.86,0.233,0.85,0.853,0.883,0.859],[0.743,0.811,1.0,0.818,0.801,0.31,0.391,0.379,0.413,0.39,0.368,0.25,0.759,0.725,0.229,0.774,0.096,0.799,0.818,0.225,0.804,0.809,0.837,0.798],[0.733,0.849,0.818,1.0,0.833,0.318,0.406,0.4,0.427,0.403,0.392,0.261,0.8,0.76,0.238,0.799,0.098,0.83,0.857,0.227,0.841,0.845,0.894,0.819],[0.964,0.873,0.801,0.833,1.0,0.984,0.981,0.985,0.977,0.987,0.986,0.987,0.996,1.0,1.0,0.999,0.992,0.994,0.995,1.0,0.991,0.989,0.996,0.852],[0.989,0.332,0.31,0.318,0.984,1.0,0.959,0.952,0.963,0.981,0.989,0.946,0.946,0.957,0.949,0.965,0.953,0.989,0.995,0.992,0.982,0.994,0.999,0.329],[0.985,0.416,0.391,0.406,0.981,0.959,1.0,0.943,0.969,0.99,0.999,0.941,0.943,0.958,0.945,0.968,0.95,0.995,0.999,1.0,0.984,0.991,0.995,0.412],[0.99,0.409,0.379,0.4,0.985,0.952,0.943,1.0,0.955,0.98,0.993,0.97,0.953,0.969,0.954,0.976,0.957,0.986,0.99,0.985,0.993,1.0,0.995,0.404],[0.995,0.446,0.413,0.427,0.977,0.963,0.969,0.955,1.0,0.951,0.987,0.995,0.984,0.984,0.968,0.994,0.974,0.998,0.988,0.969,0.999,0.989,0.991,0.437],[0.994,0.42,0.39,0.403,0.987,0.981,0.99,0.98,0.951,1.0,0.959,0.999,0.994,0.996,0.963,0.99,0.972,0.999,0.991,0.997,0.99,0.991,0.987,0.413],[0.981,0.4,0.368,0.392,0.986,0.989,0.999,0.993,0.987,0.959,1.0,0.992,0.988,0.988,0.958,0.974,0.956,0.991,0.989,0.994,0.97,0.99,0.989,0.4],[0.99,0.267,0.25,0.261,0.987,0.946,0.941,0.97,0.995,0.999,0.992,1.0,0.912,0.929,0.958,0.941,0.973,0.921,0.947,0.965,0.963,0.922,0.948,0.267],[0.991,0.81,0.759,0.8,0.996,0.946,0.943,0.953,0.984,0.994,0.988,0.912,1.0,0.925,0.941,0.932,0.958,0.986,0.948,0.96,0.966,0.92,0.954,0.811],[0.99,0.776,0.725,0.76,1.0,0.957,0.958,0.969,0.984,0.996,0.988,0.929,0.925,1.0,0.924,0.925,0.942,0.978,0.937,0.957,0.97,0.945,0.971,0.763],[0.984,0.243,0.229,0.238,1.0,0.949,0.945,0.954,0.968,0.963,0.958,0.958,0.941,0.924,1.0,0.903,0.937,0.96,0.999,0.967,0.939,0.9,0.942,0.243],[0.978,0.818,0.774,0.799,0.999,0.965,0.968,0.976,0.994,0.99,0.974,0.941,0.932,0.925,0.903,1.0,0.902,0.978,0.998,0.979,0.967,0.912,0.957,0.815],[0.995,0.099,0.096,0.098,0.992,0.953,0.95,0.957,0.974,0.972,0.956,0.973,0.958,0.942,0.937,0.902,1.0,0.957,0.986,0.995,0.997,0.984,0.915,0.099],[0.94,0.846,0.799,0.83,0.994,0.989,0.995,0.986,0.998,0.999,0.991,0.921,0.986,0.978,0.96,0.978,0.957,1.0,0.986,0.989,0.935,0.902,0.974,0.809],[0.954,0.86,0.818,0.857,0.995,0.995,0.999,0.99,0.988,0.991,0.989,0.947,0.948,0.937,0.999,0.998,0.986,0.986,1.0,0.995,0.935,0.943,0.971,0.826],[0.963,0.233,0.225,0.227,1.0,0.992,1.0,0.985,0.969,0.997,0.994,0.965,0.96,0.957,0.967,0.979,0.995,0.989,0.995,1.0,0.955,0.92,0.983,0.233],[0.944,0.85,0.804,0.841,0.991,0.982,0.984,0.993,0.999,0.99,0.97,0.963,0.966,0.97,0.939,0.967,0.997,0.935,0.935,0.955,1.0,0.864,0.94,0.816],[0.939,0.853,0.809,0.845,0.989,0.994,0.991,1.0,0.989,0.991,0.99,0.922,0.92,0.945,0.9,0.912,0.984,0.902,0.943,0.92,0.864,1.0,0.93,0.82],[0.988,0.883,0.837,0.894,0.996,0.999,0.995,0.995,0.991,0.987,0.989,0.948,0.954,0.971,0.942,0.957,0.915,0.974,0.971,0.983,0.94,0.93,1.0,0.859],[0.757,0.859,0.798,0.819,0.852,0.329,0.412,0.404,0.437,0.413,0.4,0.267,0.811,0.763,0.243,0.815,0.099,0.809,0.826,0.233,0.816,0.82,0.859,1.0]],\"type\":\"heatmap\",\"xaxis\":\"x\",\"yaxis\":\"y\"},{\"coloraxis\":\"coloraxis2\",\"customdata\":[[1.0,0.072,-0.294,-0.326,-0.306,-0.278,-0.262,-0.274,0.306,0.297,0.263,0.326,0.251,0.301,0.315,0.271,0.283,0.315,0.338,0.243],[0.072,1.0,-0.008,-0.011,-0.024,-0.003,-0.027,-0.021,0.031,0.063,0.054,0.052,0.047,0.031,0.038,0.032,0.029,0.04,0.046,0.027],[-0.294,-0.008,1.0,0.59,0.478,0.465,0.472,0.452,0.08,0.082,0.095,0.078,0.111,0.082,-0.102,-0.08,-0.087,-0.1,-0.07,-0.06],[-0.326,-0.011,0.59,1.0,0.653,0.601,0.602,0.574,0.116,0.121,0.14,0.113,0.158,0.12,-0.071,-0.06,-0.056,-0.08,-0.055,-0.047],[-0.306,-0.024,0.478,0.653,1.0,0.687,0.646,0.619,0.148,0.144,0.165,0.136,0.177,0.137,-0.027,-0.048,-0.024,-0.06,-0.037,-0.025],[-0.278,-0.003,0.465,0.601,0.687,1.0,0.723,0.69,0.194,0.193,0.213,0.183,0.23,0.187,-0.006,-0.025,-0.007,-0.041,-0.012,-0.009],[-0.262,-0.027,0.472,0.602,0.646,0.723,1.0,0.735,0.209,0.215,0.235,0.198,0.249,0.207,-0.009,-0.021,0.002,-0.039,-0.016,0.003],[-0.274,-0.021,0.452,0.574,0.619,0.69,0.735,1.0,0.192,0.203,0.217,0.183,0.239,0.196,-0.02,-0.027,-0.006,-0.04,-0.027,-0.003],[0.306,0.031,0.08,0.116,0.148,0.194,0.209,0.192,1.0,0.775,0.75,0.776,0.712,0.748,0.298,0.206,0.226,0.232,0.322,0.284],[0.297,0.063,0.082,0.121,0.144,0.193,0.215,0.203,0.775,1.0,0.779,0.775,0.724,0.748,0.309,0.206,0.231,0.216,0.318,0.266],[0.263,0.054,0.095,0.14,0.165,0.213,0.235,0.217,0.75,0.779,1.0,0.772,0.735,0.738,0.287,0.191,0.215,0.203,0.289,0.24],[0.326,0.052,0.078,0.113,0.136,0.183,0.198,0.183,0.776,0.775,0.772,1.0,0.747,0.776,0.314,0.21,0.235,0.252,0.361,0.294],[0.251,0.047,0.111,0.158,0.177,0.23,0.249,0.239,0.712,0.724,0.735,0.747,1.0,0.751,0.261,0.185,0.211,0.226,0.317,0.249],[0.301,0.031,0.082,0.12,0.137,0.187,0.207,0.196,0.748,0.748,0.738,0.776,0.751,1.0,0.287,0.202,0.224,0.257,0.341,0.285],[0.315,0.038,-0.102,-0.071,-0.027,-0.006,-0.009,-0.02,0.298,0.309,0.287,0.314,0.261,0.287,1.0,0.258,0.275,0.329,0.345,0.238],[0.271,0.032,-0.08,-0.06,-0.048,-0.025,-0.021,-0.027,0.206,0.206,0.191,0.21,0.185,0.202,0.258,1.0,0.255,0.31,0.295,0.215],[0.283,0.029,-0.087,-0.056,-0.024,-0.007,0.002,-0.006,0.226,0.231,0.215,0.235,0.211,0.224,0.275,0.255,1.0,0.306,0.32,0.196],[0.315,0.04,-0.1,-0.08,-0.06,-0.041,-0.039,-0.04,0.232,0.216,0.203,0.252,0.226,0.257,0.329,0.31,0.306,1.0,0.424,0.279],[0.338,0.046,-0.07,-0.055,-0.037,-0.012,-0.016,-0.027,0.322,0.318,0.289,0.361,0.317,0.341,0.345,0.295,0.32,0.424,1.0,0.295],[0.243,0.027,-0.06,-0.047,-0.025,-0.009,0.003,-0.003,0.284,0.266,0.24,0.294,0.249,0.285,0.238,0.215,0.196,0.279,0.295,1.0]],\"hovertemplate\":\"\\u003cb\\u003eCorrelation\\u003c\\u002fb\\u003e\\u003cbr\\u003e(%{x},%{y})\\u003cbr\\u003e\\u003cbr\\u003eSynthetic: %{z}\\u003cbr\\u003e(vs. Real: %{customdata})\\u003cextra\\u003e\\u003c\\u002fextra\\u003e\",\"x\":[\"X1\",\"X5\",\"X6\",\"X7\",\"X8\",\"X9\",\"X10\",\"X11\",\"X12\",\"X13\",\"X14\",\"X15\",\"X16\",\"X17\",\"X18\",\"X19\",\"X20\",\"X21\",\"X22\",\"X23\"],\"y\":[\"X1\",\"X5\",\"X6\",\"X7\",\"X8\",\"X9\",\"X10\",\"X11\",\"X12\",\"X13\",\"X14\",\"X15\",\"X16\",\"X17\",\"X18\",\"X19\",\"X20\",\"X21\",\"X22\",\"X23\"],\"z\":[[1.0,0.145,-0.271,-0.296,-0.286,-0.267,-0.249,-0.235,0.285,0.278,0.283,0.294,0.296,0.29,0.195,0.178,0.21,0.203,0.217,0.22],[0.145,1.0,-0.039,-0.05,-0.053,-0.05,-0.054,-0.049,0.056,0.054,0.054,0.051,0.049,0.048,0.026,0.022,0.029,0.021,0.023,0.019],[-0.271,-0.039,1.0,0.672,0.574,0.539,0.509,0.475,0.187,0.19,0.18,0.179,0.181,0.177,-0.079,-0.07,-0.071,-0.064,-0.058,-0.059],[-0.296,-0.05,0.672,1.0,0.767,0.662,0.623,0.576,0.235,0.235,0.224,0.222,0.221,0.219,-0.081,-0.059,-0.056,-0.047,-0.037,-0.037],[-0.286,-0.053,0.574,0.767,1.0,0.777,0.687,0.633,0.208,0.237,0.227,0.227,0.225,0.222,0.001,-0.067,-0.053,-0.046,-0.036,-0.036],[-0.267,-0.05,0.539,0.662,0.777,1.0,0.82,0.716,0.203,0.226,0.245,0.246,0.243,0.239,-0.009,-0.002,-0.069,-0.043,-0.034,-0.027],[-0.249,-0.054,0.509,0.623,0.687,0.82,1.0,0.817,0.207,0.227,0.243,0.272,0.27,0.263,-0.006,-0.003,0.009,-0.058,-0.033,-0.023],[-0.235,-0.049,0.475,0.576,0.633,0.716,0.817,1.0,0.207,0.227,0.241,0.266,0.291,0.285,-0.001,-0.005,0.006,0.019,-0.046,-0.025],[0.285,0.056,0.187,0.235,0.208,0.203,0.207,0.207,1.0,0.951,0.892,0.86,0.83,0.803,0.14,0.099,0.157,0.158,0.167,0.179],[0.278,0.054,0.19,0.235,0.237,0.226,0.227,0.227,0.951,1.0,0.928,0.892,0.86,0.832,0.28,0.101,0.151,0.147,0.158,0.174],[0.283,0.054,0.18,0.224,0.227,0.245,0.243,0.241,0.892,0.928,1.0,0.924,0.884,0.853,0.244,0.317,0.13,0.143,0.18,0.182],[0.294,0.051,0.179,0.222,0.227,0.246,0.272,0.266,0.86,0.892,0.924,1.0,0.94,0.901,0.233,0.208,0.3,0.13,0.16,0.178],[0.296,0.049,0.181,0.221,0.225,0.243,0.27,0.291,0.83,0.86,0.884,0.94,1.0,0.946,0.217,0.181,0.252,0.293,0.142,0.164],[0.29,0.048,0.177,0.219,0.222,0.239,0.263,0.285,0.803,0.832,0.853,0.901,0.946,1.0,0.2,0.173,0.234,0.25,0.308,0.115],[0.195,0.026,-0.079,-0.081,0.001,-0.009,-0.006,-0.001,0.14,0.28,0.244,0.233,0.217,0.2,1.0,0.286,0.252,0.2,0.148,0.186],[0.178,0.022,-0.07,-0.059,-0.067,-0.002,-0.003,-0.005,0.099,0.101,0.317,0.208,0.181,0.173,0.286,1.0,0.245,0.18,0.181,0.158],[0.21,0.029,-0.071,-0.056,-0.053,-0.069,0.009,0.006,0.157,0.151,0.13,0.3,0.252,0.234,0.252,0.245,1.0,0.216,0.159,0.163],[0.203,0.021,-0.064,-0.047,-0.046,-0.043,-0.058,0.019,0.158,0.147,0.143,0.13,0.293,0.25,0.2,0.18,0.216,1.0,0.152,0.158],[0.217,0.023,-0.058,-0.037,-0.036,-0.034,-0.033,-0.046,0.167,0.158,0.18,0.16,0.142,0.308,0.148,0.181,0.159,0.152,1.0,0.155],[0.22,0.019,-0.059,-0.037,-0.036,-0.027,-0.023,-0.025,0.179,0.174,0.182,0.178,0.164,0.115,0.186,0.158,0.163,0.158,0.155,1.0]],\"type\":\"heatmap\",\"xaxis\":\"x2\",\"yaxis\":\"y2\"},{\"coloraxis\":\"coloraxis2\",\"customdata\":[[1.0,0.145,-0.271,-0.296,-0.286,-0.267,-0.249,-0.235,0.285,0.278,0.283,0.294,0.296,0.29,0.195,0.178,0.21,0.203,0.217,0.22],[0.145,1.0,-0.039,-0.05,-0.053,-0.05,-0.054,-0.049,0.056,0.054,0.054,0.051,0.049,0.048,0.026,0.022,0.029,0.021,0.023,0.019],[-0.271,-0.039,1.0,0.672,0.574,0.539,0.509,0.475,0.187,0.19,0.18,0.179,0.181,0.177,-0.079,-0.07,-0.071,-0.064,-0.058,-0.059],[-0.296,-0.05,0.672,1.0,0.767,0.662,0.623,0.576,0.235,0.235,0.224,0.222,0.221,0.219,-0.081,-0.059,-0.056,-0.047,-0.037,-0.037],[-0.286,-0.053,0.574,0.767,1.0,0.777,0.687,0.633,0.208,0.237,0.227,0.227,0.225,0.222,0.001,-0.067,-0.053,-0.046,-0.036,-0.036],[-0.267,-0.05,0.539,0.662,0.777,1.0,0.82,0.716,0.203,0.226,0.245,0.246,0.243,0.239,-0.009,-0.002,-0.069,-0.043,-0.034,-0.027],[-0.249,-0.054,0.509,0.623,0.687,0.82,1.0,0.817,0.207,0.227,0.243,0.272,0.27,0.263,-0.006,-0.003,0.009,-0.058,-0.033,-0.023],[-0.235,-0.049,0.475,0.576,0.633,0.716,0.817,1.0,0.207,0.227,0.241,0.266,0.291,0.285,-0.001,-0.005,0.006,0.019,-0.046,-0.025],[0.285,0.056,0.187,0.235,0.208,0.203,0.207,0.207,1.0,0.951,0.892,0.86,0.83,0.803,0.14,0.099,0.157,0.158,0.167,0.179],[0.278,0.054,0.19,0.235,0.237,0.226,0.227,0.227,0.951,1.0,0.928,0.892,0.86,0.832,0.28,0.101,0.151,0.147,0.158,0.174],[0.283,0.054,0.18,0.224,0.227,0.245,0.243,0.241,0.892,0.928,1.0,0.924,0.884,0.853,0.244,0.317,0.13,0.143,0.18,0.182],[0.294,0.051,0.179,0.222,0.227,0.246,0.272,0.266,0.86,0.892,0.924,1.0,0.94,0.901,0.233,0.208,0.3,0.13,0.16,0.178],[0.296,0.049,0.181,0.221,0.225,0.243,0.27,0.291,0.83,0.86,0.884,0.94,1.0,0.946,0.217,0.181,0.252,0.293,0.142,0.164],[0.29,0.048,0.177,0.219,0.222,0.239,0.263,0.285,0.803,0.832,0.853,0.901,0.946,1.0,0.2,0.173,0.234,0.25,0.308,0.115],[0.195,0.026,-0.079,-0.081,0.001,-0.009,-0.006,-0.001,0.14,0.28,0.244,0.233,0.217,0.2,1.0,0.286,0.252,0.2,0.148,0.186],[0.178,0.022,-0.07,-0.059,-0.067,-0.002,-0.003,-0.005,0.099,0.101,0.317,0.208,0.181,0.173,0.286,1.0,0.245,0.18,0.181,0.158],[0.21,0.029,-0.071,-0.056,-0.053,-0.069,0.009,0.006,0.157,0.151,0.13,0.3,0.252,0.234,0.252,0.245,1.0,0.216,0.159,0.163],[0.203,0.021,-0.064,-0.047,-0.046,-0.043,-0.058,0.019,0.158,0.147,0.143,0.13,0.293,0.25,0.2,0.18,0.216,1.0,0.152,0.158],[0.217,0.023,-0.058,-0.037,-0.036,-0.034,-0.033,-0.046,0.167,0.158,0.18,0.16,0.142,0.308,0.148,0.181,0.159,0.152,1.0,0.155],[0.22,0.019,-0.059,-0.037,-0.036,-0.027,-0.023,-0.025,0.179,0.174,0.182,0.178,0.164,0.115,0.186,0.158,0.163,0.158,0.155,1.0]],\"hovertemplate\":\"\\u003cb\\u003eCorrelation\\u003c\\u002fb\\u003e\\u003cbr\\u003e(%{x},%{y})\\u003cbr\\u003e\\u003cbr\\u003eSynthetic: %{z}\\u003cbr\\u003e(vs. Real: %{customdata})\\u003cextra\\u003e\\u003c\\u002fextra\\u003e\",\"x\":[\"X1\",\"X5\",\"X6\",\"X7\",\"X8\",\"X9\",\"X10\",\"X11\",\"X12\",\"X13\",\"X14\",\"X15\",\"X16\",\"X17\",\"X18\",\"X19\",\"X20\",\"X21\",\"X22\",\"X23\"],\"y\":[\"X1\",\"X5\",\"X6\",\"X7\",\"X8\",\"X9\",\"X10\",\"X11\",\"X12\",\"X13\",\"X14\",\"X15\",\"X16\",\"X17\",\"X18\",\"X19\",\"X20\",\"X21\",\"X22\",\"X23\"],\"z\":[[1.0,0.072,-0.294,-0.326,-0.306,-0.278,-0.262,-0.274,0.306,0.297,0.263,0.326,0.251,0.301,0.315,0.271,0.283,0.315,0.338,0.243],[0.072,1.0,-0.008,-0.011,-0.024,-0.003,-0.027,-0.021,0.031,0.063,0.054,0.052,0.047,0.031,0.038,0.032,0.029,0.04,0.046,0.027],[-0.294,-0.008,1.0,0.59,0.478,0.465,0.472,0.452,0.08,0.082,0.095,0.078,0.111,0.082,-0.102,-0.08,-0.087,-0.1,-0.07,-0.06],[-0.326,-0.011,0.59,1.0,0.653,0.601,0.602,0.574,0.116,0.121,0.14,0.113,0.158,0.12,-0.071,-0.06,-0.056,-0.08,-0.055,-0.047],[-0.306,-0.024,0.478,0.653,1.0,0.687,0.646,0.619,0.148,0.144,0.165,0.136,0.177,0.137,-0.027,-0.048,-0.024,-0.06,-0.037,-0.025],[-0.278,-0.003,0.465,0.601,0.687,1.0,0.723,0.69,0.194,0.193,0.213,0.183,0.23,0.187,-0.006,-0.025,-0.007,-0.041,-0.012,-0.009],[-0.262,-0.027,0.472,0.602,0.646,0.723,1.0,0.735,0.209,0.215,0.235,0.198,0.249,0.207,-0.009,-0.021,0.002,-0.039,-0.016,0.003],[-0.274,-0.021,0.452,0.574,0.619,0.69,0.735,1.0,0.192,0.203,0.217,0.183,0.239,0.196,-0.02,-0.027,-0.006,-0.04,-0.027,-0.003],[0.306,0.031,0.08,0.116,0.148,0.194,0.209,0.192,1.0,0.775,0.75,0.776,0.712,0.748,0.298,0.206,0.226,0.232,0.322,0.284],[0.297,0.063,0.082,0.121,0.144,0.193,0.215,0.203,0.775,1.0,0.779,0.775,0.724,0.748,0.309,0.206,0.231,0.216,0.318,0.266],[0.263,0.054,0.095,0.14,0.165,0.213,0.235,0.217,0.75,0.779,1.0,0.772,0.735,0.738,0.287,0.191,0.215,0.203,0.289,0.24],[0.326,0.052,0.078,0.113,0.136,0.183,0.198,0.183,0.776,0.775,0.772,1.0,0.747,0.776,0.314,0.21,0.235,0.252,0.361,0.294],[0.251,0.047,0.111,0.158,0.177,0.23,0.249,0.239,0.712,0.724,0.735,0.747,1.0,0.751,0.261,0.185,0.211,0.226,0.317,0.249],[0.301,0.031,0.082,0.12,0.137,0.187,0.207,0.196,0.748,0.748,0.738,0.776,0.751,1.0,0.287,0.202,0.224,0.257,0.341,0.285],[0.315,0.038,-0.102,-0.071,-0.027,-0.006,-0.009,-0.02,0.298,0.309,0.287,0.314,0.261,0.287,1.0,0.258,0.275,0.329,0.345,0.238],[0.271,0.032,-0.08,-0.06,-0.048,-0.025,-0.021,-0.027,0.206,0.206,0.191,0.21,0.185,0.202,0.258,1.0,0.255,0.31,0.295,0.215],[0.283,0.029,-0.087,-0.056,-0.024,-0.007,0.002,-0.006,0.226,0.231,0.215,0.235,0.211,0.224,0.275,0.255,1.0,0.306,0.32,0.196],[0.315,0.04,-0.1,-0.08,-0.06,-0.041,-0.039,-0.04,0.232,0.216,0.203,0.252,0.226,0.257,0.329,0.31,0.306,1.0,0.424,0.279],[0.338,0.046,-0.07,-0.055,-0.037,-0.012,-0.016,-0.027,0.322,0.318,0.289,0.361,0.317,0.341,0.345,0.295,0.32,0.424,1.0,0.295],[0.243,0.027,-0.06,-0.047,-0.025,-0.009,0.003,-0.003,0.284,0.266,0.24,0.294,0.249,0.285,0.238,0.215,0.196,0.279,0.295,1.0]],\"type\":\"heatmap\",\"xaxis\":\"x3\",\"yaxis\":\"y3\"}],                        {\"template\":{\"data\":{\"histogram2dcontour\":[{\"type\":\"histogram2dcontour\",\"colorbar\":{\"outlinewidth\":0,\"ticks\":\"\"},\"colorscale\":[[0.0,\"#0d0887\"],[0.1111111111111111,\"#46039f\"],[0.2222222222222222,\"#7201a8\"],[0.3333333333333333,\"#9c179e\"],[0.4444444444444444,\"#bd3786\"],[0.5555555555555556,\"#d8576b\"],[0.6666666666666666,\"#ed7953\"],[0.7777777777777778,\"#fb9f3a\"],[0.8888888888888888,\"#fdca26\"],[1.0,\"#f0f921\"]]}],\"choropleth\":[{\"type\":\"choropleth\",\"colorbar\":{\"outlinewidth\":0,\"ticks\":\"\"}}],\"histogram2d\":[{\"type\":\"histogram2d\",\"colorbar\":{\"outlinewidth\":0,\"ticks\":\"\"},\"colorscale\":[[0.0,\"#0d0887\"],[0.1111111111111111,\"#46039f\"],[0.2222222222222222,\"#7201a8\"],[0.3333333333333333,\"#9c179e\"],[0.4444444444444444,\"#bd3786\"],[0.5555555555555556,\"#d8576b\"],[0.6666666666666666,\"#ed7953\"],[0.7777777777777778,\"#fb9f3a\"],[0.8888888888888888,\"#fdca26\"],[1.0,\"#f0f921\"]]}],\"heatmap\":[{\"type\":\"heatmap\",\"colorbar\":{\"outlinewidth\":0,\"ticks\":\"\"},\"colorscale\":[[0.0,\"#0d0887\"],[0.1111111111111111,\"#46039f\"],[0.2222222222222222,\"#7201a8\"],[0.3333333333333333,\"#9c179e\"],[0.4444444444444444,\"#bd3786\"],[0.5555555555555556,\"#d8576b\"],[0.6666666666666666,\"#ed7953\"],[0.7777777777777778,\"#fb9f3a\"],[0.8888888888888888,\"#fdca26\"],[1.0,\"#f0f921\"]]}],\"heatmapgl\":[{\"type\":\"heatmapgl\",\"colorbar\":{\"outlinewidth\":0,\"ticks\":\"\"},\"colorscale\":[[0.0,\"#0d0887\"],[0.1111111111111111,\"#46039f\"],[0.2222222222222222,\"#7201a8\"],[0.3333333333333333,\"#9c179e\"],[0.4444444444444444,\"#bd3786\"],[0.5555555555555556,\"#d8576b\"],[0.6666666666666666,\"#ed7953\"],[0.7777777777777778,\"#fb9f3a\"],[0.8888888888888888,\"#fdca26\"],[1.0,\"#f0f921\"]]}],\"contourcarpet\":[{\"type\":\"contourcarpet\",\"colorbar\":{\"outlinewidth\":0,\"ticks\":\"\"}}],\"contour\":[{\"type\":\"contour\",\"colorbar\":{\"outlinewidth\":0,\"ticks\":\"\"},\"colorscale\":[[0.0,\"#0d0887\"],[0.1111111111111111,\"#46039f\"],[0.2222222222222222,\"#7201a8\"],[0.3333333333333333,\"#9c179e\"],[0.4444444444444444,\"#bd3786\"],[0.5555555555555556,\"#d8576b\"],[0.6666666666666666,\"#ed7953\"],[0.7777777777777778,\"#fb9f3a\"],[0.8888888888888888,\"#fdca26\"],[1.0,\"#f0f921\"]]}],\"surface\":[{\"type\":\"surface\",\"colorbar\":{\"outlinewidth\":0,\"ticks\":\"\"},\"colorscale\":[[0.0,\"#0d0887\"],[0.1111111111111111,\"#46039f\"],[0.2222222222222222,\"#7201a8\"],[0.3333333333333333,\"#9c179e\"],[0.4444444444444444,\"#bd3786\"],[0.5555555555555556,\"#d8576b\"],[0.6666666666666666,\"#ed7953\"],[0.7777777777777778,\"#fb9f3a\"],[0.8888888888888888,\"#fdca26\"],[1.0,\"#f0f921\"]]}],\"mesh3d\":[{\"type\":\"mesh3d\",\"colorbar\":{\"outlinewidth\":0,\"ticks\":\"\"}}],\"scatter\":[{\"fillpattern\":{\"fillmode\":\"overlay\",\"size\":10,\"solidity\":0.2},\"type\":\"scatter\"}],\"parcoords\":[{\"type\":\"parcoords\",\"line\":{\"colorbar\":{\"outlinewidth\":0,\"ticks\":\"\"}}}],\"scatterpolargl\":[{\"type\":\"scatterpolargl\",\"marker\":{\"colorbar\":{\"outlinewidth\":0,\"ticks\":\"\"}}}],\"bar\":[{\"error_x\":{\"color\":\"#2a3f5f\"},\"error_y\":{\"color\":\"#2a3f5f\"},\"marker\":{\"line\":{\"color\":\"#E5ECF6\",\"width\":0.5},\"pattern\":{\"fillmode\":\"overlay\",\"size\":10,\"solidity\":0.2}},\"type\":\"bar\"}],\"scattergeo\":[{\"type\":\"scattergeo\",\"marker\":{\"colorbar\":{\"outlinewidth\":0,\"ticks\":\"\"}}}],\"scatterpolar\":[{\"type\":\"scatterpolar\",\"marker\":{\"colorbar\":{\"outlinewidth\":0,\"ticks\":\"\"}}}],\"histogram\":[{\"marker\":{\"pattern\":{\"fillmode\":\"overlay\",\"size\":10,\"solidity\":0.2}},\"type\":\"histogram\"}],\"scattergl\":[{\"type\":\"scattergl\",\"marker\":{\"colorbar\":{\"outlinewidth\":0,\"ticks\":\"\"}}}],\"scatter3d\":[{\"type\":\"scatter3d\",\"line\":{\"colorbar\":{\"outlinewidth\":0,\"ticks\":\"\"}},\"marker\":{\"colorbar\":{\"outlinewidth\":0,\"ticks\":\"\"}}}],\"scattermapbox\":[{\"type\":\"scattermapbox\",\"marker\":{\"colorbar\":{\"outlinewidth\":0,\"ticks\":\"\"}}}],\"scatterternary\":[{\"type\":\"scatterternary\",\"marker\":{\"colorbar\":{\"outlinewidth\":0,\"ticks\":\"\"}}}],\"scattercarpet\":[{\"type\":\"scattercarpet\",\"marker\":{\"colorbar\":{\"outlinewidth\":0,\"ticks\":\"\"}}}],\"carpet\":[{\"aaxis\":{\"endlinecolor\":\"#2a3f5f\",\"gridcolor\":\"white\",\"linecolor\":\"white\",\"minorgridcolor\":\"white\",\"startlinecolor\":\"#2a3f5f\"},\"baxis\":{\"endlinecolor\":\"#2a3f5f\",\"gridcolor\":\"white\",\"linecolor\":\"white\",\"minorgridcolor\":\"white\",\"startlinecolor\":\"#2a3f5f\"},\"type\":\"carpet\"}],\"table\":[{\"cells\":{\"fill\":{\"color\":\"#EBF0F8\"},\"line\":{\"color\":\"white\"}},\"header\":{\"fill\":{\"color\":\"#C8D4E3\"},\"line\":{\"color\":\"white\"}},\"type\":\"table\"}],\"barpolar\":[{\"marker\":{\"line\":{\"color\":\"#E5ECF6\",\"width\":0.5},\"pattern\":{\"fillmode\":\"overlay\",\"size\":10,\"solidity\":0.2}},\"type\":\"barpolar\"}],\"pie\":[{\"automargin\":true,\"type\":\"pie\"}]},\"layout\":{\"autotypenumbers\":\"strict\",\"colorway\":[\"#636efa\",\"#EF553B\",\"#00cc96\",\"#ab63fa\",\"#FFA15A\",\"#19d3f3\",\"#FF6692\",\"#B6E880\",\"#FF97FF\",\"#FECB52\"],\"font\":{\"color\":\"#2a3f5f\"},\"hovermode\":\"closest\",\"hoverlabel\":{\"align\":\"left\"},\"paper_bgcolor\":\"white\",\"plot_bgcolor\":\"#E5ECF6\",\"polar\":{\"bgcolor\":\"#E5ECF6\",\"angularaxis\":{\"gridcolor\":\"white\",\"linecolor\":\"white\",\"ticks\":\"\"},\"radialaxis\":{\"gridcolor\":\"white\",\"linecolor\":\"white\",\"ticks\":\"\"}},\"ternary\":{\"bgcolor\":\"#E5ECF6\",\"aaxis\":{\"gridcolor\":\"white\",\"linecolor\":\"white\",\"ticks\":\"\"},\"baxis\":{\"gridcolor\":\"white\",\"linecolor\":\"white\",\"ticks\":\"\"},\"caxis\":{\"gridcolor\":\"white\",\"linecolor\":\"white\",\"ticks\":\"\"}},\"coloraxis\":{\"colorbar\":{\"outlinewidth\":0,\"ticks\":\"\"}},\"colorscale\":{\"sequential\":[[0.0,\"#0d0887\"],[0.1111111111111111,\"#46039f\"],[0.2222222222222222,\"#7201a8\"],[0.3333333333333333,\"#9c179e\"],[0.4444444444444444,\"#bd3786\"],[0.5555555555555556,\"#d8576b\"],[0.6666666666666666,\"#ed7953\"],[0.7777777777777778,\"#fb9f3a\"],[0.8888888888888888,\"#fdca26\"],[1.0,\"#f0f921\"]],\"sequentialminus\":[[0.0,\"#0d0887\"],[0.1111111111111111,\"#46039f\"],[0.2222222222222222,\"#7201a8\"],[0.3333333333333333,\"#9c179e\"],[0.4444444444444444,\"#bd3786\"],[0.5555555555555556,\"#d8576b\"],[0.6666666666666666,\"#ed7953\"],[0.7777777777777778,\"#fb9f3a\"],[0.8888888888888888,\"#fdca26\"],[1.0,\"#f0f921\"]],\"diverging\":[[0,\"#8e0152\"],[0.1,\"#c51b7d\"],[0.2,\"#de77ae\"],[0.3,\"#f1b6da\"],[0.4,\"#fde0ef\"],[0.5,\"#f7f7f7\"],[0.6,\"#e6f5d0\"],[0.7,\"#b8e186\"],[0.8,\"#7fbc41\"],[0.9,\"#4d9221\"],[1,\"#276419\"]]},\"xaxis\":{\"gridcolor\":\"white\",\"linecolor\":\"white\",\"ticks\":\"\",\"title\":{\"standoff\":15},\"zerolinecolor\":\"white\",\"automargin\":true,\"zerolinewidth\":2},\"yaxis\":{\"gridcolor\":\"white\",\"linecolor\":\"white\",\"ticks\":\"\",\"title\":{\"standoff\":15},\"zerolinecolor\":\"white\",\"automargin\":true,\"zerolinewidth\":2},\"scene\":{\"xaxis\":{\"backgroundcolor\":\"#E5ECF6\",\"gridcolor\":\"white\",\"linecolor\":\"white\",\"showbackground\":true,\"ticks\":\"\",\"zerolinecolor\":\"white\",\"gridwidth\":2},\"yaxis\":{\"backgroundcolor\":\"#E5ECF6\",\"gridcolor\":\"white\",\"linecolor\":\"white\",\"showbackground\":true,\"ticks\":\"\",\"zerolinecolor\":\"white\",\"gridwidth\":2},\"zaxis\":{\"backgroundcolor\":\"#E5ECF6\",\"gridcolor\":\"white\",\"linecolor\":\"white\",\"showbackground\":true,\"ticks\":\"\",\"zerolinecolor\":\"white\",\"gridwidth\":2}},\"shapedefaults\":{\"line\":{\"color\":\"#2a3f5f\"}},\"annotationdefaults\":{\"arrowcolor\":\"#2a3f5f\",\"arrowhead\":0,\"arrowwidth\":1},\"geo\":{\"bgcolor\":\"white\",\"landcolor\":\"#E5ECF6\",\"subunitcolor\":\"white\",\"showland\":true,\"showlakes\":true,\"lakecolor\":\"white\"},\"title\":{\"x\":0.05},\"mapbox\":{\"style\":\"light\"}}},\"xaxis\":{\"anchor\":\"y\",\"domain\":[0.26,0.74],\"tickangle\":45},\"yaxis\":{\"anchor\":\"x\",\"domain\":[0.625,1.0],\"autorange\":\"reversed\"},\"xaxis2\":{\"anchor\":\"y2\",\"domain\":[0.0,0.45],\"tickangle\":45},\"yaxis2\":{\"anchor\":\"x2\",\"domain\":[0.0,0.375],\"autorange\":\"reversed\"},\"xaxis3\":{\"anchor\":\"y3\",\"domain\":[0.55,1.0],\"tickangle\":45,\"matches\":\"x2\"},\"yaxis3\":{\"anchor\":\"x3\",\"domain\":[0.0,0.375],\"visible\":false,\"matches\":\"y2\",\"autorange\":\"reversed\"},\"annotations\":[{\"font\":{\"size\":16},\"showarrow\":false,\"text\":\"Real vs. Synthetic Similarity\",\"x\":0.5,\"xanchor\":\"center\",\"xref\":\"paper\",\"y\":1.0,\"yanchor\":\"bottom\",\"yref\":\"paper\"},{\"font\":{\"size\":16},\"showarrow\":false,\"text\":\"Numerical Correlation (Real Data)\",\"x\":0.225,\"xanchor\":\"center\",\"xref\":\"paper\",\"y\":0.375,\"yanchor\":\"bottom\",\"yref\":\"paper\"},{\"font\":{\"size\":16},\"showarrow\":false,\"text\":\"Numerical Correlation (Synthetic Data)\",\"x\":0.775,\"xanchor\":\"center\",\"xref\":\"paper\",\"y\":0.375,\"yanchor\":\"bottom\",\"yref\":\"paper\"}],\"title\":{\"text\":\"Data Quality: Column Pair Trends (Average Score=0.85)\"},\"coloraxis\":{\"colorbar\":{\"len\":0.5,\"x\":0.8,\"y\":0.8},\"cmin\":0,\"cmax\":1,\"colorscale\":[[0.0,\"#FF0000\"],[0.5,\"#F16141\"],[1.0,\"#36B37E\"]]},\"coloraxis2\":{\"colorbar\":{\"len\":0.5,\"y\":0.2},\"cmin\":-1,\"cmax\":1,\"colorscale\":[[0.0,\"#03AFF1\"],[0.5,\"#000036\"],[1.0,\"#01E0C9\"]]},\"font\":{\"size\":18},\"height\":900,\"width\":900},                        {\"responsive\": true}                    ).then(function(){\n",
              "                            \n",
              "var gd = document.getElementById('bac9ce5e-2e94-4efc-b43a-8ad00fd430d2');\n",
              "var x = new MutationObserver(function (mutations, observer) {{\n",
              "        var display = window.getComputedStyle(gd).display;\n",
              "        if (!display || display === 'none') {{\n",
              "            console.log([gd, 'removed!']);\n",
              "            Plotly.purge(gd);\n",
              "            observer.disconnect();\n",
              "        }}\n",
              "}});\n",
              "\n",
              "// Listen for the removal of the full notebook cells\n",
              "var notebookContainer = gd.closest('#notebook-container');\n",
              "if (notebookContainer) {{\n",
              "    x.observe(notebookContainer, {childList: true});\n",
              "}}\n",
              "\n",
              "// Listen for the clearing of the current output cell\n",
              "var outputEl = gd.closest('.output');\n",
              "if (outputEl) {{\n",
              "    x.observe(outputEl, {childList: true});\n",
              "}}\n",
              "\n",
              "                        })                };                            </script>        </div>\n",
              "</body>\n",
              "</html>"
            ]
          },
          "metadata": {}
        },
        {
          "output_type": "stream",
          "name": "stdout",
          "text": [
            "\n",
            "================================ METRICS REPORT ================================\n",
            "Column Shapes Score: 0.907\n",
            "Column Trends Score: 0.849\n",
            "Overall Score: 0.878\n",
            "correlation score: 0.964\n",
            "contingency similarity score: 0.937\n",
            "log detection score: 0.645\n",
            "Alpha Precision: 0.698198, Beta Recall: 0.203227\n",
            "DCR Score = 0.506733\n"
          ]
        }
      ]
    },
    {
      "cell_type": "markdown",
      "source": [
        "### Shoppers"
      ],
      "metadata": {
        "id": "AKzLUyOVadpl"
      }
    },
    {
      "cell_type": "code",
      "source": [
        "# fetch dataset\n",
        "online_shoppers_purchasing_intention_dataset = fetch_ucirepo(id=468)\n",
        "\n",
        "# data (as pandas dataframes)\n",
        "X = online_shoppers_purchasing_intention_dataset.data.features\n",
        "y = online_shoppers_purchasing_intention_dataset.data.targets\n",
        "\n",
        "# metadata\n",
        "print(online_shoppers_purchasing_intention_dataset.metadata)\n",
        "\n",
        "# variable information\n",
        "print(online_shoppers_purchasing_intention_dataset.variables)"
      ],
      "metadata": {
        "colab": {
          "base_uri": "https://localhost:8080/"
        },
        "id": "EIXYUfWPeQ0g",
        "outputId": "0b2bfa29-4ca4-4eb1-cece-0c30649595b1"
      },
      "execution_count": 29,
      "outputs": [
        {
          "output_type": "stream",
          "name": "stdout",
          "text": [
            "{'uci_id': 468, 'name': 'Online Shoppers Purchasing Intention Dataset', 'repository_url': 'https://archive.ics.uci.edu/dataset/468/online+shoppers+purchasing+intention+dataset', 'data_url': 'https://archive.ics.uci.edu/static/public/468/data.csv', 'abstract': 'Of the 12,330 sessions in the dataset,\\n84.5% (10,422) were negative class samples that did not\\nend with shopping, and the rest (1908) were positive class\\nsamples ending with shopping.', 'area': 'Business', 'tasks': ['Classification', 'Clustering'], 'characteristics': ['Multivariate'], 'num_instances': 12330, 'num_features': 17, 'feature_types': ['Integer', 'Real'], 'demographics': [], 'target_col': ['Revenue'], 'index_col': None, 'has_missing_values': 'no', 'missing_values_symbol': None, 'year_of_dataset_creation': 2018, 'last_updated': 'Thu Jan 11 2024', 'dataset_doi': '10.24432/C5F88Q', 'creators': ['C. Sakar', 'Yomi Kastro'], 'intro_paper': {'ID': 367, 'type': 'NATIVE', 'title': 'Real-time prediction of online shoppers’ purchasing intention using multilayer perceptron and LSTM recurrent neural networks', 'authors': 'C. O. Sakar, S. Polat, Mete Katircioglu, Yomi Kastro', 'venue': 'Neural computing & applications (Print)', 'year': 2019, 'journal': None, 'DOI': '10.1007/s00521-018-3523-0', 'URL': 'https://www.semanticscholar.org/paper/747e098f85ca2d20afd6313b11242c0c427e6fb3', 'sha': None, 'corpus': None, 'arxiv': None, 'mag': None, 'acl': None, 'pmid': None, 'pmcid': None}, 'additional_info': {'summary': 'The dataset consists of feature vectors belonging to 12,330 sessions. \\r\\nThe dataset was formed so that each session\\r\\nwould belong to a different user in a 1-year period to avoid\\r\\nany tendency to a specific campaign, special day, user\\r\\nprofile, or period. ', 'purpose': None, 'funded_by': None, 'instances_represent': None, 'recommended_data_splits': None, 'sensitive_data': None, 'preprocessing_description': None, 'variable_info': 'The dataset consists of 10 numerical and 8 categorical attributes.\\r\\nThe \\'Revenue\\' attribute can be used as the class label.\\r\\n\\r\\n\"Administrative\", \"Administrative Duration\", \"Informational\", \"Informational Duration\", \"Product Related\" and \"Product Related Duration\" represent the number of different types of pages visited by the visitor in that session and total time spent in each of these page categories. The values of these features are derived from the URL information of the pages visited by the user and updated in real time when a user takes an action, e.g. moving from one page to another. The \"Bounce Rate\", \"Exit Rate\" and \"Page Value\" features represent the metrics measured by \"Google Analytics\" for each page in the e-commerce site. The value of \"Bounce Rate\" feature for a web page refers to the percentage of visitors who enter the site from that page and then leave (\"bounce\") without triggering any other requests to the analytics server during that session. The value of \"Exit Rate\" feature for a specific web page is calculated as for all pageviews to the page, the percentage that were the last in the session. The \"Page Value\" feature represents the average value for a web page that a user visited before completing an e-commerce transaction. The \"Special Day\" feature indicates the closeness of the site visiting time to a specific special day (e.g. Mother’s Day, Valentine\\'s Day) in which the sessions are more likely to be finalized with transaction. The value of this attribute is determined by considering the dynamics of e-commerce such as the duration between the order date and delivery date. For example, for Valentina’s day, this value takes a nonzero value between February 2 and February 12, zero before and after this date unless it is close to another special day, and its maximum value of 1 on February 8. The dataset also includes operating system, browser, region, traffic type, visitor type as returning or new visitor, a Boolean value indicating whether the date of the visit is weekend, and month of the year.', 'citation': None}}\n",
            "                       name     role         type demographic description  \\\n",
            "0            Administrative  Feature      Integer        None        None   \n",
            "1   Administrative_Duration  Feature      Integer        None        None   \n",
            "2             Informational  Feature      Integer        None        None   \n",
            "3    Informational_Duration  Feature      Integer        None        None   \n",
            "4            ProductRelated  Feature      Integer        None        None   \n",
            "5   ProductRelated_Duration  Feature   Continuous        None        None   \n",
            "6               BounceRates  Feature   Continuous        None        None   \n",
            "7                 ExitRates  Feature   Continuous        None        None   \n",
            "8                PageValues  Feature      Integer        None        None   \n",
            "9                SpecialDay  Feature      Integer        None        None   \n",
            "10                    Month  Feature  Categorical        None        None   \n",
            "11         OperatingSystems  Feature      Integer        None        None   \n",
            "12                  Browser  Feature      Integer        None        None   \n",
            "13                   Region  Feature      Integer        None        None   \n",
            "14              TrafficType  Feature      Integer        None        None   \n",
            "15              VisitorType  Feature  Categorical        None        None   \n",
            "16                  Weekend  Feature       Binary        None        None   \n",
            "17                  Revenue   Target       Binary        None        None   \n",
            "\n",
            "   units missing_values  \n",
            "0   None             no  \n",
            "1   None             no  \n",
            "2   None             no  \n",
            "3   None             no  \n",
            "4   None             no  \n",
            "5   None             no  \n",
            "6   None             no  \n",
            "7   None             no  \n",
            "8   None             no  \n",
            "9   None             no  \n",
            "10  None             no  \n",
            "11  None             no  \n",
            "12  None             no  \n",
            "13  None             no  \n",
            "14  None             no  \n",
            "15  None             no  \n",
            "16  None             no  \n",
            "17  None             no  \n"
          ]
        }
      ]
    },
    {
      "cell_type": "code",
      "source": [
        "all_data_shoppers = pd.concat([X, y], axis=1)"
      ],
      "metadata": {
        "id": "DlKc8LpDeymi"
      },
      "execution_count": 30,
      "outputs": []
    },
    {
      "cell_type": "code",
      "source": [
        "cat_cols = ['Month', 'VisitorType', 'Weekend', 'Revenue']\n",
        "numeric_cols = [x for x in all_data_shoppers.columns if x not in cat_cols]\n",
        "\n",
        "ctgan = CTGAN(epochs=300)\n",
        "ctgan.fit(all_data_shoppers, cat_cols)"
      ],
      "metadata": {
        "id": "eBY2QrJbnVVy"
      },
      "execution_count": 32,
      "outputs": []
    },
    {
      "cell_type": "code",
      "source": [
        "synthetic_data = ctgan.sample(len(all_data_shoppers))\n",
        "\n",
        "ctgan_metrics = Metrics(all_data_shoppers, synthetic_data, numeric_cols, cat_cols, 'Revenue')\n",
        "metrics = ctgan_metrics.collect_all_metrics()"
      ],
      "metadata": {
        "colab": {
          "base_uri": "https://localhost:8080/",
          "height": 1000
        },
        "id": "_S9sH1CRnV3g",
        "outputId": "d26d994f-b5f8-4ac1-e52b-7e9e2647f6b8"
      },
      "execution_count": 33,
      "outputs": [
        {
          "output_type": "stream",
          "name": "stdout",
          "text": [
            "Classificator results:\n",
            "Real data - AUC: 0.925 ± 0.001\n",
            "Synthetic data - AUC: 0.875 ± 0.000\n",
            "Generating report ...\n",
            "\n",
            "(1/2) Evaluating Column Shapes: |██████████| 18/18 [00:00<00:00, 91.01it/s]|\n",
            "Column Shapes Score: 82.84%\n",
            "\n",
            "(2/2) Evaluating Column Pair Trends: |██████████| 153/153 [00:01<00:00, 107.01it/s]|\n",
            "Column Pair Trends Score: 88.99%\n",
            "\n",
            "Overall Score (Average): 85.91%\n",
            "\n",
            "Generating report ...\n",
            "\n",
            "(1/2) Evaluating Data Validity: |██████████| 18/18 [00:00<00:00, 461.21it/s]|\n",
            "Data Validity Score: 90.78%\n",
            "\n",
            "(2/2) Evaluating Data Structure: |██████████| 1/1 [00:00<00:00, 201.79it/s]|\n",
            "Data Structure Score: 100.0%\n",
            "\n",
            "Overall Score (Average): 95.39%\n",
            "\n"
          ]
        },
        {
          "output_type": "display_data",
          "data": {
            "text/html": [
              "<html>\n",
              "<head><meta charset=\"utf-8\" /></head>\n",
              "<body>\n",
              "    <div>            <script src=\"https://cdnjs.cloudflare.com/ajax/libs/mathjax/2.7.5/MathJax.js?config=TeX-AMS-MML_SVG\"></script><script type=\"text/javascript\">if (window.MathJax && window.MathJax.Hub && window.MathJax.Hub.Config) {window.MathJax.Hub.Config({SVG: {font: \"STIX-Web\"}});}</script>                <script type=\"text/javascript\">window.PlotlyConfig = {MathJaxConfig: 'local'};</script>\n",
              "        <script charset=\"utf-8\" src=\"https://cdn.plot.ly/plotly-2.35.2.min.js\"></script>                <div id=\"839666e3-ffed-444a-84ab-457c115133c7\" class=\"plotly-graph-div\" style=\"height:525px; width:100%;\"></div>            <script type=\"text/javascript\">                                    window.PLOTLYENV=window.PLOTLYENV || {};                                    if (document.getElementById(\"839666e3-ffed-444a-84ab-457c115133c7\")) {                    Plotly.newPlot(                        \"839666e3-ffed-444a-84ab-457c115133c7\",                        [{\"alignmentgroup\":\"True\",\"customdata\":[[\"KSComplement\"],[\"KSComplement\"],[\"KSComplement\"],[\"KSComplement\"],[\"KSComplement\"],[\"KSComplement\"],[\"KSComplement\"],[\"KSComplement\"],[\"KSComplement\"],[\"KSComplement\"],[\"KSComplement\"],[\"KSComplement\"]],\"hovertemplate\":\"\\u003cb\\u003e%{hovertext}\\u003c\\u002fb\\u003e\\u003cbr\\u003e\\u003cbr\\u003eMetric=%{customdata[0]}\\u003cbr\\u003eScore=%{y}\\u003cextra\\u003e\\u003c\\u002fextra\\u003e\",\"hovertext\":[\"Administrative\",\"Administrative_Duration\",\"Informational\",\"Informational_Duration\",\"ProductRelated\",\"ProductRelated_Duration\",\"BounceRates\",\"ExitRates\",\"PageValues\",\"SpecialDay\",\"Browser\",\"TrafficType\"],\"legendgroup\":\"KSComplement\",\"marker\":{\"color\":\"#000036\",\"pattern\":{\"shape\":\"\"}},\"name\":\"KSComplement\",\"offsetgroup\":\"KSComplement\",\"orientation\":\"v\",\"showlegend\":true,\"textposition\":\"auto\",\"x\":[\"Administrative\",\"Administrative_Duration\",\"Informational\",\"Informational_Duration\",\"ProductRelated\",\"ProductRelated_Duration\",\"BounceRates\",\"ExitRates\",\"PageValues\",\"SpecialDay\",\"Browser\",\"TrafficType\"],\"xaxis\":\"x\",\"y\":[0.9417680454176804,0.6169505271695053,0.9753446877534468,0.5804541768045417,0.9273317112733171,0.9168694241686942,0.7171127331711273,0.8905920519059205,0.5352798053527981,0.5175993511759935,0.9527980535279805,0.9125709651257097],\"yaxis\":\"y\",\"type\":\"bar\"},{\"alignmentgroup\":\"True\",\"customdata\":[[\"TVComplement\"],[\"TVComplement\"],[\"TVComplement\"],[\"TVComplement\"],[\"TVComplement\"],[\"TVComplement\"]],\"hovertemplate\":\"\\u003cb\\u003e%{hovertext}\\u003c\\u002fb\\u003e\\u003cbr\\u003e\\u003cbr\\u003eMetric=%{customdata[0]}\\u003cbr\\u003eScore=%{y}\\u003cextra\\u003e\\u003c\\u002fextra\\u003e\",\"hovertext\":[\"Month\",\"OperatingSystems\",\"Region\",\"VisitorType\",\"Weekend\",\"Revenue\"],\"legendgroup\":\"TVComplement\",\"marker\":{\"color\":\"#03AFF1\",\"pattern\":{\"shape\":\"\\u002f\"}},\"name\":\"TVComplement\",\"offsetgroup\":\"TVComplement\",\"orientation\":\"v\",\"showlegend\":true,\"textposition\":\"auto\",\"x\":[\"Month\",\"OperatingSystems\",\"Region\",\"VisitorType\",\"Weekend\",\"Revenue\"],\"xaxis\":\"x\",\"y\":[0.8773722627737226,0.9175993512365807,0.7721005677210057,0.9382806163828061,0.9771289537712895,0.9443633414436334],\"yaxis\":\"y\",\"type\":\"bar\"}],                        {\"template\":{\"data\":{\"histogram2dcontour\":[{\"type\":\"histogram2dcontour\",\"colorbar\":{\"outlinewidth\":0,\"ticks\":\"\"},\"colorscale\":[[0.0,\"#0d0887\"],[0.1111111111111111,\"#46039f\"],[0.2222222222222222,\"#7201a8\"],[0.3333333333333333,\"#9c179e\"],[0.4444444444444444,\"#bd3786\"],[0.5555555555555556,\"#d8576b\"],[0.6666666666666666,\"#ed7953\"],[0.7777777777777778,\"#fb9f3a\"],[0.8888888888888888,\"#fdca26\"],[1.0,\"#f0f921\"]]}],\"choropleth\":[{\"type\":\"choropleth\",\"colorbar\":{\"outlinewidth\":0,\"ticks\":\"\"}}],\"histogram2d\":[{\"type\":\"histogram2d\",\"colorbar\":{\"outlinewidth\":0,\"ticks\":\"\"},\"colorscale\":[[0.0,\"#0d0887\"],[0.1111111111111111,\"#46039f\"],[0.2222222222222222,\"#7201a8\"],[0.3333333333333333,\"#9c179e\"],[0.4444444444444444,\"#bd3786\"],[0.5555555555555556,\"#d8576b\"],[0.6666666666666666,\"#ed7953\"],[0.7777777777777778,\"#fb9f3a\"],[0.8888888888888888,\"#fdca26\"],[1.0,\"#f0f921\"]]}],\"heatmap\":[{\"type\":\"heatmap\",\"colorbar\":{\"outlinewidth\":0,\"ticks\":\"\"},\"colorscale\":[[0.0,\"#0d0887\"],[0.1111111111111111,\"#46039f\"],[0.2222222222222222,\"#7201a8\"],[0.3333333333333333,\"#9c179e\"],[0.4444444444444444,\"#bd3786\"],[0.5555555555555556,\"#d8576b\"],[0.6666666666666666,\"#ed7953\"],[0.7777777777777778,\"#fb9f3a\"],[0.8888888888888888,\"#fdca26\"],[1.0,\"#f0f921\"]]}],\"heatmapgl\":[{\"type\":\"heatmapgl\",\"colorbar\":{\"outlinewidth\":0,\"ticks\":\"\"},\"colorscale\":[[0.0,\"#0d0887\"],[0.1111111111111111,\"#46039f\"],[0.2222222222222222,\"#7201a8\"],[0.3333333333333333,\"#9c179e\"],[0.4444444444444444,\"#bd3786\"],[0.5555555555555556,\"#d8576b\"],[0.6666666666666666,\"#ed7953\"],[0.7777777777777778,\"#fb9f3a\"],[0.8888888888888888,\"#fdca26\"],[1.0,\"#f0f921\"]]}],\"contourcarpet\":[{\"type\":\"contourcarpet\",\"colorbar\":{\"outlinewidth\":0,\"ticks\":\"\"}}],\"contour\":[{\"type\":\"contour\",\"colorbar\":{\"outlinewidth\":0,\"ticks\":\"\"},\"colorscale\":[[0.0,\"#0d0887\"],[0.1111111111111111,\"#46039f\"],[0.2222222222222222,\"#7201a8\"],[0.3333333333333333,\"#9c179e\"],[0.4444444444444444,\"#bd3786\"],[0.5555555555555556,\"#d8576b\"],[0.6666666666666666,\"#ed7953\"],[0.7777777777777778,\"#fb9f3a\"],[0.8888888888888888,\"#fdca26\"],[1.0,\"#f0f921\"]]}],\"surface\":[{\"type\":\"surface\",\"colorbar\":{\"outlinewidth\":0,\"ticks\":\"\"},\"colorscale\":[[0.0,\"#0d0887\"],[0.1111111111111111,\"#46039f\"],[0.2222222222222222,\"#7201a8\"],[0.3333333333333333,\"#9c179e\"],[0.4444444444444444,\"#bd3786\"],[0.5555555555555556,\"#d8576b\"],[0.6666666666666666,\"#ed7953\"],[0.7777777777777778,\"#fb9f3a\"],[0.8888888888888888,\"#fdca26\"],[1.0,\"#f0f921\"]]}],\"mesh3d\":[{\"type\":\"mesh3d\",\"colorbar\":{\"outlinewidth\":0,\"ticks\":\"\"}}],\"scatter\":[{\"fillpattern\":{\"fillmode\":\"overlay\",\"size\":10,\"solidity\":0.2},\"type\":\"scatter\"}],\"parcoords\":[{\"type\":\"parcoords\",\"line\":{\"colorbar\":{\"outlinewidth\":0,\"ticks\":\"\"}}}],\"scatterpolargl\":[{\"type\":\"scatterpolargl\",\"marker\":{\"colorbar\":{\"outlinewidth\":0,\"ticks\":\"\"}}}],\"bar\":[{\"error_x\":{\"color\":\"#2a3f5f\"},\"error_y\":{\"color\":\"#2a3f5f\"},\"marker\":{\"line\":{\"color\":\"#E5ECF6\",\"width\":0.5},\"pattern\":{\"fillmode\":\"overlay\",\"size\":10,\"solidity\":0.2}},\"type\":\"bar\"}],\"scattergeo\":[{\"type\":\"scattergeo\",\"marker\":{\"colorbar\":{\"outlinewidth\":0,\"ticks\":\"\"}}}],\"scatterpolar\":[{\"type\":\"scatterpolar\",\"marker\":{\"colorbar\":{\"outlinewidth\":0,\"ticks\":\"\"}}}],\"histogram\":[{\"marker\":{\"pattern\":{\"fillmode\":\"overlay\",\"size\":10,\"solidity\":0.2}},\"type\":\"histogram\"}],\"scattergl\":[{\"type\":\"scattergl\",\"marker\":{\"colorbar\":{\"outlinewidth\":0,\"ticks\":\"\"}}}],\"scatter3d\":[{\"type\":\"scatter3d\",\"line\":{\"colorbar\":{\"outlinewidth\":0,\"ticks\":\"\"}},\"marker\":{\"colorbar\":{\"outlinewidth\":0,\"ticks\":\"\"}}}],\"scattermapbox\":[{\"type\":\"scattermapbox\",\"marker\":{\"colorbar\":{\"outlinewidth\":0,\"ticks\":\"\"}}}],\"scatterternary\":[{\"type\":\"scatterternary\",\"marker\":{\"colorbar\":{\"outlinewidth\":0,\"ticks\":\"\"}}}],\"scattercarpet\":[{\"type\":\"scattercarpet\",\"marker\":{\"colorbar\":{\"outlinewidth\":0,\"ticks\":\"\"}}}],\"carpet\":[{\"aaxis\":{\"endlinecolor\":\"#2a3f5f\",\"gridcolor\":\"white\",\"linecolor\":\"white\",\"minorgridcolor\":\"white\",\"startlinecolor\":\"#2a3f5f\"},\"baxis\":{\"endlinecolor\":\"#2a3f5f\",\"gridcolor\":\"white\",\"linecolor\":\"white\",\"minorgridcolor\":\"white\",\"startlinecolor\":\"#2a3f5f\"},\"type\":\"carpet\"}],\"table\":[{\"cells\":{\"fill\":{\"color\":\"#EBF0F8\"},\"line\":{\"color\":\"white\"}},\"header\":{\"fill\":{\"color\":\"#C8D4E3\"},\"line\":{\"color\":\"white\"}},\"type\":\"table\"}],\"barpolar\":[{\"marker\":{\"line\":{\"color\":\"#E5ECF6\",\"width\":0.5},\"pattern\":{\"fillmode\":\"overlay\",\"size\":10,\"solidity\":0.2}},\"type\":\"barpolar\"}],\"pie\":[{\"automargin\":true,\"type\":\"pie\"}]},\"layout\":{\"autotypenumbers\":\"strict\",\"colorway\":[\"#636efa\",\"#EF553B\",\"#00cc96\",\"#ab63fa\",\"#FFA15A\",\"#19d3f3\",\"#FF6692\",\"#B6E880\",\"#FF97FF\",\"#FECB52\"],\"font\":{\"color\":\"#2a3f5f\"},\"hovermode\":\"closest\",\"hoverlabel\":{\"align\":\"left\"},\"paper_bgcolor\":\"white\",\"plot_bgcolor\":\"#E5ECF6\",\"polar\":{\"bgcolor\":\"#E5ECF6\",\"angularaxis\":{\"gridcolor\":\"white\",\"linecolor\":\"white\",\"ticks\":\"\"},\"radialaxis\":{\"gridcolor\":\"white\",\"linecolor\":\"white\",\"ticks\":\"\"}},\"ternary\":{\"bgcolor\":\"#E5ECF6\",\"aaxis\":{\"gridcolor\":\"white\",\"linecolor\":\"white\",\"ticks\":\"\"},\"baxis\":{\"gridcolor\":\"white\",\"linecolor\":\"white\",\"ticks\":\"\"},\"caxis\":{\"gridcolor\":\"white\",\"linecolor\":\"white\",\"ticks\":\"\"}},\"coloraxis\":{\"colorbar\":{\"outlinewidth\":0,\"ticks\":\"\"}},\"colorscale\":{\"sequential\":[[0.0,\"#0d0887\"],[0.1111111111111111,\"#46039f\"],[0.2222222222222222,\"#7201a8\"],[0.3333333333333333,\"#9c179e\"],[0.4444444444444444,\"#bd3786\"],[0.5555555555555556,\"#d8576b\"],[0.6666666666666666,\"#ed7953\"],[0.7777777777777778,\"#fb9f3a\"],[0.8888888888888888,\"#fdca26\"],[1.0,\"#f0f921\"]],\"sequentialminus\":[[0.0,\"#0d0887\"],[0.1111111111111111,\"#46039f\"],[0.2222222222222222,\"#7201a8\"],[0.3333333333333333,\"#9c179e\"],[0.4444444444444444,\"#bd3786\"],[0.5555555555555556,\"#d8576b\"],[0.6666666666666666,\"#ed7953\"],[0.7777777777777778,\"#fb9f3a\"],[0.8888888888888888,\"#fdca26\"],[1.0,\"#f0f921\"]],\"diverging\":[[0,\"#8e0152\"],[0.1,\"#c51b7d\"],[0.2,\"#de77ae\"],[0.3,\"#f1b6da\"],[0.4,\"#fde0ef\"],[0.5,\"#f7f7f7\"],[0.6,\"#e6f5d0\"],[0.7,\"#b8e186\"],[0.8,\"#7fbc41\"],[0.9,\"#4d9221\"],[1,\"#276419\"]]},\"xaxis\":{\"gridcolor\":\"white\",\"linecolor\":\"white\",\"ticks\":\"\",\"title\":{\"standoff\":15},\"zerolinecolor\":\"white\",\"automargin\":true,\"zerolinewidth\":2},\"yaxis\":{\"gridcolor\":\"white\",\"linecolor\":\"white\",\"ticks\":\"\",\"title\":{\"standoff\":15},\"zerolinecolor\":\"white\",\"automargin\":true,\"zerolinewidth\":2},\"scene\":{\"xaxis\":{\"backgroundcolor\":\"#E5ECF6\",\"gridcolor\":\"white\",\"linecolor\":\"white\",\"showbackground\":true,\"ticks\":\"\",\"zerolinecolor\":\"white\",\"gridwidth\":2},\"yaxis\":{\"backgroundcolor\":\"#E5ECF6\",\"gridcolor\":\"white\",\"linecolor\":\"white\",\"showbackground\":true,\"ticks\":\"\",\"zerolinecolor\":\"white\",\"gridwidth\":2},\"zaxis\":{\"backgroundcolor\":\"#E5ECF6\",\"gridcolor\":\"white\",\"linecolor\":\"white\",\"showbackground\":true,\"ticks\":\"\",\"zerolinecolor\":\"white\",\"gridwidth\":2}},\"shapedefaults\":{\"line\":{\"color\":\"#2a3f5f\"}},\"annotationdefaults\":{\"arrowcolor\":\"#2a3f5f\",\"arrowhead\":0,\"arrowwidth\":1},\"geo\":{\"bgcolor\":\"white\",\"landcolor\":\"#E5ECF6\",\"subunitcolor\":\"white\",\"showland\":true,\"showlakes\":true,\"lakecolor\":\"white\"},\"title\":{\"x\":0.05},\"mapbox\":{\"style\":\"light\"}}},\"xaxis\":{\"anchor\":\"y\",\"domain\":[0.0,1.0],\"title\":{\"text\":\"Column\"},\"categoryorder\":\"total ascending\"},\"yaxis\":{\"anchor\":\"x\",\"domain\":[0.0,1.0],\"title\":{\"text\":\"Score\"},\"range\":[0,1]},\"legend\":{\"title\":{\"text\":\"Metric\"},\"tracegroupgap\":0},\"title\":{\"text\":\"Data Quality: Column Shapes (Average Score=0.83)\"},\"barmode\":\"relative\",\"margin\":{\"t\":150},\"font\":{\"size\":18},\"plot_bgcolor\":\"#F5F5F8\"},                        {\"responsive\": true}                    ).then(function(){\n",
              "                            \n",
              "var gd = document.getElementById('839666e3-ffed-444a-84ab-457c115133c7');\n",
              "var x = new MutationObserver(function (mutations, observer) {{\n",
              "        var display = window.getComputedStyle(gd).display;\n",
              "        if (!display || display === 'none') {{\n",
              "            console.log([gd, 'removed!']);\n",
              "            Plotly.purge(gd);\n",
              "            observer.disconnect();\n",
              "        }}\n",
              "}});\n",
              "\n",
              "// Listen for the removal of the full notebook cells\n",
              "var notebookContainer = gd.closest('#notebook-container');\n",
              "if (notebookContainer) {{\n",
              "    x.observe(notebookContainer, {childList: true});\n",
              "}}\n",
              "\n",
              "// Listen for the clearing of the current output cell\n",
              "var outputEl = gd.closest('.output');\n",
              "if (outputEl) {{\n",
              "    x.observe(outputEl, {childList: true});\n",
              "}}\n",
              "\n",
              "                        })                };                            </script>        </div>\n",
              "</body>\n",
              "</html>"
            ]
          },
          "metadata": {}
        },
        {
          "output_type": "display_data",
          "data": {
            "text/html": [
              "<html>\n",
              "<head><meta charset=\"utf-8\" /></head>\n",
              "<body>\n",
              "    <div>            <script src=\"https://cdnjs.cloudflare.com/ajax/libs/mathjax/2.7.5/MathJax.js?config=TeX-AMS-MML_SVG\"></script><script type=\"text/javascript\">if (window.MathJax && window.MathJax.Hub && window.MathJax.Hub.Config) {window.MathJax.Hub.Config({SVG: {font: \"STIX-Web\"}});}</script>                <script type=\"text/javascript\">window.PlotlyConfig = {MathJaxConfig: 'local'};</script>\n",
              "        <script charset=\"utf-8\" src=\"https://cdn.plot.ly/plotly-2.35.2.min.js\"></script>                <div id=\"a8b799c3-aaa0-456d-837b-df174f855573\" class=\"plotly-graph-div\" style=\"height:900px; width:900px;\"></div>            <script type=\"text/javascript\">                                    window.PLOTLYENV=window.PLOTLYENV || {};                                    if (document.getElementById(\"a8b799c3-aaa0-456d-837b-df174f855573\")) {                    Plotly.newPlot(                        \"a8b799c3-aaa0-456d-837b-df174f855573\",                        [{\"coloraxis\":\"coloraxis\",\"hovertemplate\":\"\\u003cb\\u003eColumn Pair\\u003c\\u002fb\\u003e\\u003cbr\\u003e(%{x},%{y})\\u003cbr\\u003e\\u003cbr\\u003eSimilarity: %{z}\\u003cextra\\u003e\\u003c\\u002fextra\\u003e\",\"x\":[\"Administrative\",\"Administrative_Duration\",\"Informational\",\"Informational_Duration\",\"ProductRelated\",\"ProductRelated_Duration\",\"BounceRates\",\"ExitRates\",\"PageValues\",\"SpecialDay\",\"Month\",\"OperatingSystems\",\"Browser\",\"Region\",\"TrafficType\",\"VisitorType\",\"Weekend\",\"Revenue\"],\"y\":[\"Administrative\",\"Administrative_Duration\",\"Informational\",\"Informational_Duration\",\"ProductRelated\",\"ProductRelated_Duration\",\"BounceRates\",\"ExitRates\",\"PageValues\",\"SpecialDay\",\"Month\",\"OperatingSystems\",\"Browser\",\"Region\",\"TrafficType\",\"VisitorType\",\"Weekend\",\"Revenue\"],\"z\":[[1.0,0.909,0.966,0.953,0.973,0.985,0.978,0.996,0.967,0.999,0.773,0.751,0.925,0.736,0.974,0.775,0.836,0.829],[0.909,1.0,0.985,0.997,0.989,0.965,0.99,0.994,0.986,0.991,0.838,0.881,0.947,0.758,0.98,0.867,0.919,0.901],[0.966,0.985,1.0,0.87,0.989,0.99,0.984,0.987,0.976,0.986,0.838,0.877,0.969,0.763,0.986,0.884,0.936,0.912],[0.953,0.997,0.87,1.0,0.987,0.973,0.993,0.984,0.994,0.984,0.857,0.909,0.975,0.768,0.986,0.91,0.953,0.93],[0.973,0.989,0.989,0.987,1.0,0.754,0.971,0.982,0.98,0.98,0.859,0.893,0.968,0.767,0.997,0.883,0.931,0.917],[0.985,0.965,0.99,0.973,0.754,1.0,0.976,0.994,0.998,0.987,0.754,0.745,0.96,0.71,0.993,0.73,0.781,0.781],[0.978,0.99,0.984,0.993,0.971,0.976,1.0,0.824,0.995,0.992,0.817,0.819,0.939,0.724,0.958,0.891,0.891,0.892],[0.996,0.994,0.987,0.984,0.982,0.994,0.824,1.0,0.986,0.998,0.811,0.802,0.956,0.717,0.949,0.869,0.9,0.872],[0.967,0.986,0.976,0.994,0.98,0.998,0.995,0.986,1.0,0.987,0.83,0.825,0.996,0.743,0.98,0.819,0.864,0.864],[0.999,0.991,0.986,0.984,0.98,0.987,0.992,0.998,0.987,1.0,0.822,0.841,0.99,0.712,0.95,0.868,0.903,0.873],[0.773,0.838,0.838,0.857,0.859,0.754,0.817,0.811,0.83,0.822,1.0,0.844,0.841,0.746,0.719,0.829,0.858,0.86],[0.751,0.881,0.877,0.909,0.893,0.745,0.819,0.802,0.825,0.841,0.844,1.0,0.868,0.755,0.721,0.904,0.913,0.897],[0.925,0.947,0.969,0.975,0.968,0.96,0.939,0.956,0.996,0.99,0.841,0.868,1.0,0.746,0.813,0.916,0.907,0.882],[0.736,0.758,0.763,0.768,0.767,0.71,0.724,0.717,0.743,0.712,0.746,0.755,0.746,1.0,0.656,0.749,0.772,0.772],[0.974,0.98,0.986,0.986,0.997,0.993,0.958,0.949,0.98,0.95,0.719,0.721,0.813,0.656,1.0,0.731,0.73,0.733],[0.775,0.867,0.884,0.91,0.883,0.73,0.891,0.869,0.819,0.868,0.829,0.904,0.916,0.749,0.731,1.0,0.93,0.892],[0.836,0.919,0.936,0.953,0.931,0.781,0.891,0.9,0.864,0.903,0.858,0.913,0.907,0.772,0.73,0.93,1.0,0.944],[0.829,0.901,0.912,0.93,0.917,0.781,0.892,0.872,0.864,0.873,0.86,0.897,0.882,0.772,0.733,0.892,0.944,1.0]],\"type\":\"heatmap\",\"xaxis\":\"x\",\"yaxis\":\"y\"},{\"coloraxis\":\"coloraxis2\",\"customdata\":[[1.0,0.42,0.444,0.35,0.377,0.404,-0.179,-0.309,0.033,-0.092,-0.176,-0.086],[0.42,1.0,0.332,0.244,0.268,0.284,-0.124,-0.217,0.04,-0.055,-0.121,-0.055],[0.444,0.332,1.0,0.359,0.351,0.368,-0.084,-0.189,0.0,-0.075,-0.101,-0.063],[0.35,0.244,0.359,1.0,0.253,0.294,-0.06,-0.137,0.018,-0.063,-0.07,-0.053],[0.377,0.268,0.351,0.253,1.0,0.369,-0.147,-0.256,0.095,-0.064,-0.078,-0.036],[0.404,0.284,0.368,0.294,0.369,1.0,-0.136,-0.239,0.048,-0.062,-0.086,-0.05],[-0.179,-0.124,-0.084,-0.06,-0.147,-0.136,1.0,0.562,-0.13,0.057,0.105,-0.006],[-0.309,-0.217,-0.189,-0.137,-0.256,-0.239,0.562,1.0,-0.202,0.098,0.084,-0.023],[0.033,0.04,0.0,0.018,0.095,0.048,-0.13,-0.202,1.0,-0.09,0.053,0.052],[-0.092,-0.055,-0.075,-0.063,-0.064,-0.062,0.057,0.098,-0.09,1.0,-0.017,-0.049],[-0.176,-0.121,-0.101,-0.07,-0.078,-0.086,0.105,0.084,0.053,-0.017,1.0,0.487],[-0.086,-0.055,-0.063,-0.053,-0.036,-0.05,-0.006,-0.023,0.052,-0.049,0.487,1.0]],\"hovertemplate\":\"\\u003cb\\u003eCorrelation\\u003c\\u002fb\\u003e\\u003cbr\\u003e(%{x},%{y})\\u003cbr\\u003e\\u003cbr\\u003eSynthetic: %{z}\\u003cbr\\u003e(vs. Real: %{customdata})\\u003cextra\\u003e\\u003c\\u002fextra\\u003e\",\"x\":[\"Administrative\",\"Administrative_Duration\",\"Informational\",\"Informational_Duration\",\"ProductRelated\",\"ProductRelated_Duration\",\"BounceRates\",\"ExitRates\",\"PageValues\",\"SpecialDay\",\"Browser\",\"TrafficType\"],\"y\":[\"Administrative\",\"Administrative_Duration\",\"Informational\",\"Informational_Duration\",\"ProductRelated\",\"ProductRelated_Duration\",\"BounceRates\",\"ExitRates\",\"PageValues\",\"SpecialDay\",\"Browser\",\"TrafficType\"],\"z\":[[1.0,0.602,0.377,0.256,0.431,0.374,-0.224,-0.316,0.099,-0.095,-0.025,-0.034],[0.602,1.0,0.303,0.238,0.289,0.355,-0.144,-0.206,0.068,-0.073,-0.015,-0.014],[0.377,0.303,1.0,0.619,0.374,0.388,-0.116,-0.164,0.049,-0.048,-0.038,-0.034],[0.256,0.238,0.619,1.0,0.28,0.347,-0.074,-0.105,0.031,-0.031,-0.019,-0.025],[0.431,0.289,0.374,0.28,1.0,0.861,-0.205,-0.293,0.056,-0.024,-0.013,-0.043],[0.374,0.355,0.388,0.347,0.861,1.0,-0.185,-0.252,0.053,-0.036,-0.007,-0.036],[-0.224,-0.144,-0.116,-0.074,-0.205,-0.185,1.0,0.913,-0.119,0.073,-0.016,0.078],[-0.316,-0.206,-0.164,-0.105,-0.293,-0.252,0.913,1.0,-0.174,0.102,-0.004,0.079],[0.099,0.068,0.049,0.031,0.056,0.053,-0.119,-0.174,1.0,-0.064,0.046,0.013],[-0.095,-0.073,-0.048,-0.031,-0.024,-0.036,0.073,0.102,-0.064,1.0,0.003,0.052],[-0.025,-0.015,-0.038,-0.019,-0.013,-0.007,-0.016,-0.004,0.046,0.003,1.0,0.112],[-0.034,-0.014,-0.034,-0.025,-0.043,-0.036,0.078,0.079,0.013,0.052,0.112,1.0]],\"type\":\"heatmap\",\"xaxis\":\"x2\",\"yaxis\":\"y2\"},{\"coloraxis\":\"coloraxis2\",\"customdata\":[[1.0,0.602,0.377,0.256,0.431,0.374,-0.224,-0.316,0.099,-0.095,-0.025,-0.034],[0.602,1.0,0.303,0.238,0.289,0.355,-0.144,-0.206,0.068,-0.073,-0.015,-0.014],[0.377,0.303,1.0,0.619,0.374,0.388,-0.116,-0.164,0.049,-0.048,-0.038,-0.034],[0.256,0.238,0.619,1.0,0.28,0.347,-0.074,-0.105,0.031,-0.031,-0.019,-0.025],[0.431,0.289,0.374,0.28,1.0,0.861,-0.205,-0.293,0.056,-0.024,-0.013,-0.043],[0.374,0.355,0.388,0.347,0.861,1.0,-0.185,-0.252,0.053,-0.036,-0.007,-0.036],[-0.224,-0.144,-0.116,-0.074,-0.205,-0.185,1.0,0.913,-0.119,0.073,-0.016,0.078],[-0.316,-0.206,-0.164,-0.105,-0.293,-0.252,0.913,1.0,-0.174,0.102,-0.004,0.079],[0.099,0.068,0.049,0.031,0.056,0.053,-0.119,-0.174,1.0,-0.064,0.046,0.013],[-0.095,-0.073,-0.048,-0.031,-0.024,-0.036,0.073,0.102,-0.064,1.0,0.003,0.052],[-0.025,-0.015,-0.038,-0.019,-0.013,-0.007,-0.016,-0.004,0.046,0.003,1.0,0.112],[-0.034,-0.014,-0.034,-0.025,-0.043,-0.036,0.078,0.079,0.013,0.052,0.112,1.0]],\"hovertemplate\":\"\\u003cb\\u003eCorrelation\\u003c\\u002fb\\u003e\\u003cbr\\u003e(%{x},%{y})\\u003cbr\\u003e\\u003cbr\\u003eSynthetic: %{z}\\u003cbr\\u003e(vs. Real: %{customdata})\\u003cextra\\u003e\\u003c\\u002fextra\\u003e\",\"x\":[\"Administrative\",\"Administrative_Duration\",\"Informational\",\"Informational_Duration\",\"ProductRelated\",\"ProductRelated_Duration\",\"BounceRates\",\"ExitRates\",\"PageValues\",\"SpecialDay\",\"Browser\",\"TrafficType\"],\"y\":[\"Administrative\",\"Administrative_Duration\",\"Informational\",\"Informational_Duration\",\"ProductRelated\",\"ProductRelated_Duration\",\"BounceRates\",\"ExitRates\",\"PageValues\",\"SpecialDay\",\"Browser\",\"TrafficType\"],\"z\":[[1.0,0.42,0.444,0.35,0.377,0.404,-0.179,-0.309,0.033,-0.092,-0.176,-0.086],[0.42,1.0,0.332,0.244,0.268,0.284,-0.124,-0.217,0.04,-0.055,-0.121,-0.055],[0.444,0.332,1.0,0.359,0.351,0.368,-0.084,-0.189,0.0,-0.075,-0.101,-0.063],[0.35,0.244,0.359,1.0,0.253,0.294,-0.06,-0.137,0.018,-0.063,-0.07,-0.053],[0.377,0.268,0.351,0.253,1.0,0.369,-0.147,-0.256,0.095,-0.064,-0.078,-0.036],[0.404,0.284,0.368,0.294,0.369,1.0,-0.136,-0.239,0.048,-0.062,-0.086,-0.05],[-0.179,-0.124,-0.084,-0.06,-0.147,-0.136,1.0,0.562,-0.13,0.057,0.105,-0.006],[-0.309,-0.217,-0.189,-0.137,-0.256,-0.239,0.562,1.0,-0.202,0.098,0.084,-0.023],[0.033,0.04,0.0,0.018,0.095,0.048,-0.13,-0.202,1.0,-0.09,0.053,0.052],[-0.092,-0.055,-0.075,-0.063,-0.064,-0.062,0.057,0.098,-0.09,1.0,-0.017,-0.049],[-0.176,-0.121,-0.101,-0.07,-0.078,-0.086,0.105,0.084,0.053,-0.017,1.0,0.487],[-0.086,-0.055,-0.063,-0.053,-0.036,-0.05,-0.006,-0.023,0.052,-0.049,0.487,1.0]],\"type\":\"heatmap\",\"xaxis\":\"x3\",\"yaxis\":\"y3\"}],                        {\"template\":{\"data\":{\"histogram2dcontour\":[{\"type\":\"histogram2dcontour\",\"colorbar\":{\"outlinewidth\":0,\"ticks\":\"\"},\"colorscale\":[[0.0,\"#0d0887\"],[0.1111111111111111,\"#46039f\"],[0.2222222222222222,\"#7201a8\"],[0.3333333333333333,\"#9c179e\"],[0.4444444444444444,\"#bd3786\"],[0.5555555555555556,\"#d8576b\"],[0.6666666666666666,\"#ed7953\"],[0.7777777777777778,\"#fb9f3a\"],[0.8888888888888888,\"#fdca26\"],[1.0,\"#f0f921\"]]}],\"choropleth\":[{\"type\":\"choropleth\",\"colorbar\":{\"outlinewidth\":0,\"ticks\":\"\"}}],\"histogram2d\":[{\"type\":\"histogram2d\",\"colorbar\":{\"outlinewidth\":0,\"ticks\":\"\"},\"colorscale\":[[0.0,\"#0d0887\"],[0.1111111111111111,\"#46039f\"],[0.2222222222222222,\"#7201a8\"],[0.3333333333333333,\"#9c179e\"],[0.4444444444444444,\"#bd3786\"],[0.5555555555555556,\"#d8576b\"],[0.6666666666666666,\"#ed7953\"],[0.7777777777777778,\"#fb9f3a\"],[0.8888888888888888,\"#fdca26\"],[1.0,\"#f0f921\"]]}],\"heatmap\":[{\"type\":\"heatmap\",\"colorbar\":{\"outlinewidth\":0,\"ticks\":\"\"},\"colorscale\":[[0.0,\"#0d0887\"],[0.1111111111111111,\"#46039f\"],[0.2222222222222222,\"#7201a8\"],[0.3333333333333333,\"#9c179e\"],[0.4444444444444444,\"#bd3786\"],[0.5555555555555556,\"#d8576b\"],[0.6666666666666666,\"#ed7953\"],[0.7777777777777778,\"#fb9f3a\"],[0.8888888888888888,\"#fdca26\"],[1.0,\"#f0f921\"]]}],\"heatmapgl\":[{\"type\":\"heatmapgl\",\"colorbar\":{\"outlinewidth\":0,\"ticks\":\"\"},\"colorscale\":[[0.0,\"#0d0887\"],[0.1111111111111111,\"#46039f\"],[0.2222222222222222,\"#7201a8\"],[0.3333333333333333,\"#9c179e\"],[0.4444444444444444,\"#bd3786\"],[0.5555555555555556,\"#d8576b\"],[0.6666666666666666,\"#ed7953\"],[0.7777777777777778,\"#fb9f3a\"],[0.8888888888888888,\"#fdca26\"],[1.0,\"#f0f921\"]]}],\"contourcarpet\":[{\"type\":\"contourcarpet\",\"colorbar\":{\"outlinewidth\":0,\"ticks\":\"\"}}],\"contour\":[{\"type\":\"contour\",\"colorbar\":{\"outlinewidth\":0,\"ticks\":\"\"},\"colorscale\":[[0.0,\"#0d0887\"],[0.1111111111111111,\"#46039f\"],[0.2222222222222222,\"#7201a8\"],[0.3333333333333333,\"#9c179e\"],[0.4444444444444444,\"#bd3786\"],[0.5555555555555556,\"#d8576b\"],[0.6666666666666666,\"#ed7953\"],[0.7777777777777778,\"#fb9f3a\"],[0.8888888888888888,\"#fdca26\"],[1.0,\"#f0f921\"]]}],\"surface\":[{\"type\":\"surface\",\"colorbar\":{\"outlinewidth\":0,\"ticks\":\"\"},\"colorscale\":[[0.0,\"#0d0887\"],[0.1111111111111111,\"#46039f\"],[0.2222222222222222,\"#7201a8\"],[0.3333333333333333,\"#9c179e\"],[0.4444444444444444,\"#bd3786\"],[0.5555555555555556,\"#d8576b\"],[0.6666666666666666,\"#ed7953\"],[0.7777777777777778,\"#fb9f3a\"],[0.8888888888888888,\"#fdca26\"],[1.0,\"#f0f921\"]]}],\"mesh3d\":[{\"type\":\"mesh3d\",\"colorbar\":{\"outlinewidth\":0,\"ticks\":\"\"}}],\"scatter\":[{\"fillpattern\":{\"fillmode\":\"overlay\",\"size\":10,\"solidity\":0.2},\"type\":\"scatter\"}],\"parcoords\":[{\"type\":\"parcoords\",\"line\":{\"colorbar\":{\"outlinewidth\":0,\"ticks\":\"\"}}}],\"scatterpolargl\":[{\"type\":\"scatterpolargl\",\"marker\":{\"colorbar\":{\"outlinewidth\":0,\"ticks\":\"\"}}}],\"bar\":[{\"error_x\":{\"color\":\"#2a3f5f\"},\"error_y\":{\"color\":\"#2a3f5f\"},\"marker\":{\"line\":{\"color\":\"#E5ECF6\",\"width\":0.5},\"pattern\":{\"fillmode\":\"overlay\",\"size\":10,\"solidity\":0.2}},\"type\":\"bar\"}],\"scattergeo\":[{\"type\":\"scattergeo\",\"marker\":{\"colorbar\":{\"outlinewidth\":0,\"ticks\":\"\"}}}],\"scatterpolar\":[{\"type\":\"scatterpolar\",\"marker\":{\"colorbar\":{\"outlinewidth\":0,\"ticks\":\"\"}}}],\"histogram\":[{\"marker\":{\"pattern\":{\"fillmode\":\"overlay\",\"size\":10,\"solidity\":0.2}},\"type\":\"histogram\"}],\"scattergl\":[{\"type\":\"scattergl\",\"marker\":{\"colorbar\":{\"outlinewidth\":0,\"ticks\":\"\"}}}],\"scatter3d\":[{\"type\":\"scatter3d\",\"line\":{\"colorbar\":{\"outlinewidth\":0,\"ticks\":\"\"}},\"marker\":{\"colorbar\":{\"outlinewidth\":0,\"ticks\":\"\"}}}],\"scattermapbox\":[{\"type\":\"scattermapbox\",\"marker\":{\"colorbar\":{\"outlinewidth\":0,\"ticks\":\"\"}}}],\"scatterternary\":[{\"type\":\"scatterternary\",\"marker\":{\"colorbar\":{\"outlinewidth\":0,\"ticks\":\"\"}}}],\"scattercarpet\":[{\"type\":\"scattercarpet\",\"marker\":{\"colorbar\":{\"outlinewidth\":0,\"ticks\":\"\"}}}],\"carpet\":[{\"aaxis\":{\"endlinecolor\":\"#2a3f5f\",\"gridcolor\":\"white\",\"linecolor\":\"white\",\"minorgridcolor\":\"white\",\"startlinecolor\":\"#2a3f5f\"},\"baxis\":{\"endlinecolor\":\"#2a3f5f\",\"gridcolor\":\"white\",\"linecolor\":\"white\",\"minorgridcolor\":\"white\",\"startlinecolor\":\"#2a3f5f\"},\"type\":\"carpet\"}],\"table\":[{\"cells\":{\"fill\":{\"color\":\"#EBF0F8\"},\"line\":{\"color\":\"white\"}},\"header\":{\"fill\":{\"color\":\"#C8D4E3\"},\"line\":{\"color\":\"white\"}},\"type\":\"table\"}],\"barpolar\":[{\"marker\":{\"line\":{\"color\":\"#E5ECF6\",\"width\":0.5},\"pattern\":{\"fillmode\":\"overlay\",\"size\":10,\"solidity\":0.2}},\"type\":\"barpolar\"}],\"pie\":[{\"automargin\":true,\"type\":\"pie\"}]},\"layout\":{\"autotypenumbers\":\"strict\",\"colorway\":[\"#636efa\",\"#EF553B\",\"#00cc96\",\"#ab63fa\",\"#FFA15A\",\"#19d3f3\",\"#FF6692\",\"#B6E880\",\"#FF97FF\",\"#FECB52\"],\"font\":{\"color\":\"#2a3f5f\"},\"hovermode\":\"closest\",\"hoverlabel\":{\"align\":\"left\"},\"paper_bgcolor\":\"white\",\"plot_bgcolor\":\"#E5ECF6\",\"polar\":{\"bgcolor\":\"#E5ECF6\",\"angularaxis\":{\"gridcolor\":\"white\",\"linecolor\":\"white\",\"ticks\":\"\"},\"radialaxis\":{\"gridcolor\":\"white\",\"linecolor\":\"white\",\"ticks\":\"\"}},\"ternary\":{\"bgcolor\":\"#E5ECF6\",\"aaxis\":{\"gridcolor\":\"white\",\"linecolor\":\"white\",\"ticks\":\"\"},\"baxis\":{\"gridcolor\":\"white\",\"linecolor\":\"white\",\"ticks\":\"\"},\"caxis\":{\"gridcolor\":\"white\",\"linecolor\":\"white\",\"ticks\":\"\"}},\"coloraxis\":{\"colorbar\":{\"outlinewidth\":0,\"ticks\":\"\"}},\"colorscale\":{\"sequential\":[[0.0,\"#0d0887\"],[0.1111111111111111,\"#46039f\"],[0.2222222222222222,\"#7201a8\"],[0.3333333333333333,\"#9c179e\"],[0.4444444444444444,\"#bd3786\"],[0.5555555555555556,\"#d8576b\"],[0.6666666666666666,\"#ed7953\"],[0.7777777777777778,\"#fb9f3a\"],[0.8888888888888888,\"#fdca26\"],[1.0,\"#f0f921\"]],\"sequentialminus\":[[0.0,\"#0d0887\"],[0.1111111111111111,\"#46039f\"],[0.2222222222222222,\"#7201a8\"],[0.3333333333333333,\"#9c179e\"],[0.4444444444444444,\"#bd3786\"],[0.5555555555555556,\"#d8576b\"],[0.6666666666666666,\"#ed7953\"],[0.7777777777777778,\"#fb9f3a\"],[0.8888888888888888,\"#fdca26\"],[1.0,\"#f0f921\"]],\"diverging\":[[0,\"#8e0152\"],[0.1,\"#c51b7d\"],[0.2,\"#de77ae\"],[0.3,\"#f1b6da\"],[0.4,\"#fde0ef\"],[0.5,\"#f7f7f7\"],[0.6,\"#e6f5d0\"],[0.7,\"#b8e186\"],[0.8,\"#7fbc41\"],[0.9,\"#4d9221\"],[1,\"#276419\"]]},\"xaxis\":{\"gridcolor\":\"white\",\"linecolor\":\"white\",\"ticks\":\"\",\"title\":{\"standoff\":15},\"zerolinecolor\":\"white\",\"automargin\":true,\"zerolinewidth\":2},\"yaxis\":{\"gridcolor\":\"white\",\"linecolor\":\"white\",\"ticks\":\"\",\"title\":{\"standoff\":15},\"zerolinecolor\":\"white\",\"automargin\":true,\"zerolinewidth\":2},\"scene\":{\"xaxis\":{\"backgroundcolor\":\"#E5ECF6\",\"gridcolor\":\"white\",\"linecolor\":\"white\",\"showbackground\":true,\"ticks\":\"\",\"zerolinecolor\":\"white\",\"gridwidth\":2},\"yaxis\":{\"backgroundcolor\":\"#E5ECF6\",\"gridcolor\":\"white\",\"linecolor\":\"white\",\"showbackground\":true,\"ticks\":\"\",\"zerolinecolor\":\"white\",\"gridwidth\":2},\"zaxis\":{\"backgroundcolor\":\"#E5ECF6\",\"gridcolor\":\"white\",\"linecolor\":\"white\",\"showbackground\":true,\"ticks\":\"\",\"zerolinecolor\":\"white\",\"gridwidth\":2}},\"shapedefaults\":{\"line\":{\"color\":\"#2a3f5f\"}},\"annotationdefaults\":{\"arrowcolor\":\"#2a3f5f\",\"arrowhead\":0,\"arrowwidth\":1},\"geo\":{\"bgcolor\":\"white\",\"landcolor\":\"#E5ECF6\",\"subunitcolor\":\"white\",\"showland\":true,\"showlakes\":true,\"lakecolor\":\"white\"},\"title\":{\"x\":0.05},\"mapbox\":{\"style\":\"light\"}}},\"xaxis\":{\"anchor\":\"y\",\"domain\":[0.26,0.74],\"tickangle\":45},\"yaxis\":{\"anchor\":\"x\",\"domain\":[0.625,1.0],\"autorange\":\"reversed\"},\"xaxis2\":{\"anchor\":\"y2\",\"domain\":[0.0,0.45],\"tickangle\":45},\"yaxis2\":{\"anchor\":\"x2\",\"domain\":[0.0,0.375],\"autorange\":\"reversed\"},\"xaxis3\":{\"anchor\":\"y3\",\"domain\":[0.55,1.0],\"tickangle\":45,\"matches\":\"x2\"},\"yaxis3\":{\"anchor\":\"x3\",\"domain\":[0.0,0.375],\"visible\":false,\"matches\":\"y2\",\"autorange\":\"reversed\"},\"annotations\":[{\"font\":{\"size\":16},\"showarrow\":false,\"text\":\"Real vs. Synthetic Similarity\",\"x\":0.5,\"xanchor\":\"center\",\"xref\":\"paper\",\"y\":1.0,\"yanchor\":\"bottom\",\"yref\":\"paper\"},{\"font\":{\"size\":16},\"showarrow\":false,\"text\":\"Numerical Correlation (Real Data)\",\"x\":0.225,\"xanchor\":\"center\",\"xref\":\"paper\",\"y\":0.375,\"yanchor\":\"bottom\",\"yref\":\"paper\"},{\"font\":{\"size\":16},\"showarrow\":false,\"text\":\"Numerical Correlation (Synthetic Data)\",\"x\":0.775,\"xanchor\":\"center\",\"xref\":\"paper\",\"y\":0.375,\"yanchor\":\"bottom\",\"yref\":\"paper\"}],\"title\":{\"text\":\"Data Quality: Column Pair Trends (Average Score=0.89)\"},\"coloraxis\":{\"colorbar\":{\"len\":0.5,\"x\":0.8,\"y\":0.8},\"cmin\":0,\"cmax\":1,\"colorscale\":[[0.0,\"#FF0000\"],[0.5,\"#F16141\"],[1.0,\"#36B37E\"]]},\"coloraxis2\":{\"colorbar\":{\"len\":0.5,\"y\":0.2},\"cmin\":-1,\"cmax\":1,\"colorscale\":[[0.0,\"#03AFF1\"],[0.5,\"#000036\"],[1.0,\"#01E0C9\"]]},\"font\":{\"size\":18},\"height\":900,\"width\":900},                        {\"responsive\": true}                    ).then(function(){\n",
              "                            \n",
              "var gd = document.getElementById('a8b799c3-aaa0-456d-837b-df174f855573');\n",
              "var x = new MutationObserver(function (mutations, observer) {{\n",
              "        var display = window.getComputedStyle(gd).display;\n",
              "        if (!display || display === 'none') {{\n",
              "            console.log([gd, 'removed!']);\n",
              "            Plotly.purge(gd);\n",
              "            observer.disconnect();\n",
              "        }}\n",
              "}});\n",
              "\n",
              "// Listen for the removal of the full notebook cells\n",
              "var notebookContainer = gd.closest('#notebook-container');\n",
              "if (notebookContainer) {{\n",
              "    x.observe(notebookContainer, {childList: true});\n",
              "}}\n",
              "\n",
              "// Listen for the clearing of the current output cell\n",
              "var outputEl = gd.closest('.output');\n",
              "if (outputEl) {{\n",
              "    x.observe(outputEl, {childList: true});\n",
              "}}\n",
              "\n",
              "                        })                };                            </script>        </div>\n",
              "</body>\n",
              "</html>"
            ]
          },
          "metadata": {}
        },
        {
          "output_type": "stream",
          "name": "stdout",
          "text": [
            "\n",
            "================================ METRICS REPORT ================================\n",
            "Column Shapes Score: 0.828\n",
            "Column Trends Score: 0.890\n",
            "Overall Score: 0.859\n",
            "correlation score: 0.909\n",
            "contingency similarity score: 0.892\n",
            "log detection score: 0.749\n",
            "Alpha Precision: 0.888029, Beta Recall: 0.291901\n",
            "DCR Score = 0.493755\n"
          ]
        }
      ]
    },
    {
      "cell_type": "markdown",
      "source": [
        "### Magic"
      ],
      "metadata": {
        "id": "dGS3SbVxag_V"
      }
    },
    {
      "cell_type": "code",
      "source": [
        "# fetch dataset\n",
        "magic_gamma_telescope = fetch_ucirepo(id=159)\n",
        "\n",
        "# data (as pandas dataframes)\n",
        "X = magic_gamma_telescope.data.features\n",
        "y = magic_gamma_telescope.data.targets\n",
        "\n",
        "# metadata\n",
        "print(magic_gamma_telescope.metadata)\n",
        "\n",
        "# variable information\n",
        "print(magic_gamma_telescope.variables)\n"
      ],
      "metadata": {
        "id": "SqdQ6HNheRMu",
        "colab": {
          "base_uri": "https://localhost:8080/"
        },
        "outputId": "fc27db82-ac43-43da-fd24-9cd1072c5e70"
      },
      "execution_count": 3,
      "outputs": [
        {
          "output_type": "stream",
          "name": "stdout",
          "text": [
            "{'uci_id': 159, 'name': 'MAGIC Gamma Telescope', 'repository_url': 'https://archive.ics.uci.edu/dataset/159/magic+gamma+telescope', 'data_url': 'https://archive.ics.uci.edu/static/public/159/data.csv', 'abstract': 'Data are MC generated to simulate registration of high energy gamma particles in an atmospheric Cherenkov telescope', 'area': 'Physics and Chemistry', 'tasks': ['Classification'], 'characteristics': ['Multivariate'], 'num_instances': 19020, 'num_features': 10, 'feature_types': ['Real'], 'demographics': [], 'target_col': ['class'], 'index_col': None, 'has_missing_values': 'no', 'missing_values_symbol': None, 'year_of_dataset_creation': 2004, 'last_updated': 'Tue Dec 19 2023', 'dataset_doi': '10.24432/C52C8B', 'creators': ['R. Bock'], 'intro_paper': None, 'additional_info': {'summary': \"The data are MC generated (see below) to simulate registration of high energy gamma particles in a ground-based atmospheric Cherenkov gamma telescope using the imaging technique. Cherenkov gamma telescope observes high energy gamma rays, taking advantage of the radiation emitted by charged particles produced inside the electromagnetic showers initiated by the gammas, and developing in the atmosphere. This Cherenkov radiation (of visible to UV wavelengths) leaks through the atmosphere and gets recorded in the detector, allowing reconstruction of the shower parameters. The available information consists of pulses left by the incoming Cherenkov photons on the photomultiplier tubes, arranged in a plane, the camera. Depending on the energy of the primary gamma, a total of few hundreds to some 10000 Cherenkov photons get collected, in patterns (called the shower image), allowing to discriminate statistically those caused by primary gammas (signal) from the images of hadronic showers initiated by cosmic rays in the upper atmosphere (background).\\r\\n\\r\\nTypically, the image of a shower after some pre-processing is an elongated cluster. Its long axis is oriented towards the camera center if the shower axis is parallel to the telescope's optical axis, i.e. if the telescope axis is directed towards a point source. A principal component analysis is performed in the camera plane, which results in a correlation axis and defines an ellipse. If the depositions were distributed as a bivariate Gaussian, this would be an equidensity ellipse. The characteristic parameters of this ellipse (often called Hillas parameters) are among the image parameters that can be used for discrimination. The energy depositions are typically asymmetric along the major axis, and this asymmetry can also be used in discrimination. There are, in addition, further discriminating characteristics, like the extent of the cluster in the image plane, or the total sum of depositions.\\r\\n\\r\\nThe data set was generated by a Monte Carlo program, Corsika, described in:\\r\\n    D. Heck et al., CORSIKA, A Monte Carlo code to simulate extensive air showers,\\r\\n    Forschungszentrum Karlsruhe FZKA 6019 (1998).\\r\\nhttp://rexa.info/paper?id=ac6e674e9af20979b23d3ed4521f1570765e8d68\\r\\n\\r\\nThe program was run with parameters allowing to observe events with energies down to below 50 GeV.\", 'purpose': None, 'funded_by': None, 'instances_represent': None, 'recommended_data_splits': None, 'sensitive_data': None, 'preprocessing_description': None, 'variable_info': '    1.  fLength:  continuous  # major axis of ellipse [mm]\\r\\n    2.  fWidth:   continuous  # minor axis of ellipse [mm] \\r\\n    3.  fSize:    continuous  # 10-log of sum of content of all pixels [in #phot]\\r\\n    4.  fConc:    continuous  # ratio of sum of two highest pixels over fSize  [ratio]\\r\\n    5.  fConc1:   continuous  # ratio of highest pixel over fSize  [ratio]\\r\\n    6.  fAsym:    continuous  # distance from highest pixel to center, projected onto major axis [mm]\\r\\n    7.  fM3Long:  continuous  # 3rd root of third moment along major axis  [mm] \\r\\n    8.  fM3Trans: continuous  # 3rd root of third moment along minor axis  [mm]\\r\\n    9.  fAlpha:   continuous  # angle of major axis with vector to origin [deg]\\r\\n   10.  fDist:    continuous  # distance from origin to center of ellipse [mm]\\r\\n   11.  class:    g,h         # gamma (signal), hadron (background)\\r\\n\\r\\n   g = gamma (signal):     12332\\r\\n   h = hadron (background): 6688\\r\\n\\r\\n   For technical reasons, the number of h events is underestimated. In the real data, the h class represents the majority of the events.\\r\\n\\r\\n   The simple classification accuracy is not meaningful for this data, since classifying a background event as signal is worse than classifying a signal event as background. For comparison of different classifiers an ROC curve has to be used. The relevant points on this curve are those, where the probability of accepting a background event as signal is below one of the following thresholds: 0.01, 0.02, 0.05, 0.1, 0.2 depending on the required quality of the sample of the accepted events for different experiments.', 'citation': None}}\n",
            "        name     role        type demographic  \\\n",
            "0    fLength  Feature  Continuous        None   \n",
            "1     fWidth  Feature  Continuous        None   \n",
            "2      fSize  Feature  Continuous        None   \n",
            "3      fConc  Feature  Continuous        None   \n",
            "4     fConc1  Feature  Continuous        None   \n",
            "5      fAsym  Feature  Continuous        None   \n",
            "6    fM3Long  Feature  Continuous        None   \n",
            "7   fM3Trans  Feature  Continuous        None   \n",
            "8     fAlpha  Feature  Continuous        None   \n",
            "9      fDist  Feature  Continuous        None   \n",
            "10     class   Target      Binary        None   \n",
            "\n",
            "                                                         description  units  \\\n",
            "0                                              major axis of ellipse     mm   \n",
            "1                                              minor axis of ellipse     mm   \n",
            "2                             10-log of sum of content of all pixels  #phot   \n",
            "3                      ratio of sum of two highest pixels over fSize   None   \n",
            "4                                  ratio of highest pixel over fSize   None   \n",
            "5   distance from highest pixel to center, projected onto major axis   None   \n",
            "6                          3rd root of third moment along major axis     mm   \n",
            "7                          3rd root of third moment along minor axis     mm   \n",
            "8                          angle of major axis with vector to origin    deg   \n",
            "9                          distance from origin to center of ellipse     mm   \n",
            "10                               gamma (signal), hadron (background)   None   \n",
            "\n",
            "   missing_values  \n",
            "0              no  \n",
            "1              no  \n",
            "2              no  \n",
            "3              no  \n",
            "4              no  \n",
            "5              no  \n",
            "6              no  \n",
            "7              no  \n",
            "8              no  \n",
            "9              no  \n",
            "10             no  \n"
          ]
        }
      ]
    },
    {
      "cell_type": "code",
      "source": [
        "all_data_telescope = pd.concat([X, y], axis=1)"
      ],
      "metadata": {
        "id": "r36tmT9VteMX"
      },
      "execution_count": 4,
      "outputs": []
    },
    {
      "cell_type": "code",
      "source": [
        "cat_cols = ['class']\n",
        "numeric_cols = [x for x in all_data_telescope.columns if x not in cat_cols]\n",
        "\n",
        "ctgan = CTGAN(epochs=300)\n",
        "ctgan.fit(all_data_telescope, cat_cols)"
      ],
      "metadata": {
        "id": "iCJ92juctpnM"
      },
      "execution_count": 5,
      "outputs": []
    },
    {
      "cell_type": "code",
      "source": [
        "synthetic_data = ctgan.sample(len(all_data_telescope))\n",
        "\n",
        "ctgan_metrics = Metrics(all_data_telescope, synthetic_data, numeric_cols, cat_cols, 'class')\n",
        "metrics = ctgan_metrics.collect_all_metrics()"
      ],
      "metadata": {
        "colab": {
          "base_uri": "https://localhost:8080/",
          "height": 1000
        },
        "id": "43_nqlV6twQa",
        "outputId": "afeb3c23-031f-484e-9204-6ff76fc6b436"
      },
      "execution_count": 6,
      "outputs": [
        {
          "output_type": "stream",
          "name": "stdout",
          "text": [
            "Classificator results:\n",
            "Real data - AUC: 0.929 ± 0.001\n",
            "Synthetic data - AUC: 0.836 ± 0.000\n",
            "Generating report ...\n",
            "\n",
            "(1/2) Evaluating Column Shapes: |██████████| 11/11 [00:00<00:00, 51.05it/s]|\n",
            "Column Shapes Score: 91.35%\n",
            "\n",
            "(2/2) Evaluating Column Pair Trends: |██████████| 55/55 [00:00<00:00, 79.69it/s]|\n",
            "Column Pair Trends Score: 89.36%\n",
            "\n",
            "Overall Score (Average): 90.35%\n",
            "\n",
            "Generating report ...\n",
            "\n",
            "(1/2) Evaluating Data Validity: |██████████| 11/11 [00:00<00:00, 325.97it/s]|\n",
            "Data Validity Score: 99.92%\n",
            "\n",
            "(2/2) Evaluating Data Structure: |██████████| 1/1 [00:00<00:00, 156.60it/s]|\n",
            "Data Structure Score: 100.0%\n",
            "\n",
            "Overall Score (Average): 99.96%\n",
            "\n"
          ]
        },
        {
          "output_type": "display_data",
          "data": {
            "text/html": [
              "<html>\n",
              "<head><meta charset=\"utf-8\" /></head>\n",
              "<body>\n",
              "    <div>            <script src=\"https://cdnjs.cloudflare.com/ajax/libs/mathjax/2.7.5/MathJax.js?config=TeX-AMS-MML_SVG\"></script><script type=\"text/javascript\">if (window.MathJax && window.MathJax.Hub && window.MathJax.Hub.Config) {window.MathJax.Hub.Config({SVG: {font: \"STIX-Web\"}});}</script>                <script type=\"text/javascript\">window.PlotlyConfig = {MathJaxConfig: 'local'};</script>\n",
              "        <script charset=\"utf-8\" src=\"https://cdn.plot.ly/plotly-2.35.2.min.js\"></script>                <div id=\"ce700012-b4ba-4e8f-bb34-3704ac02f787\" class=\"plotly-graph-div\" style=\"height:525px; width:100%;\"></div>            <script type=\"text/javascript\">                                    window.PLOTLYENV=window.PLOTLYENV || {};                                    if (document.getElementById(\"ce700012-b4ba-4e8f-bb34-3704ac02f787\")) {                    Plotly.newPlot(                        \"ce700012-b4ba-4e8f-bb34-3704ac02f787\",                        [{\"alignmentgroup\":\"True\",\"customdata\":[[\"KSComplement\"],[\"KSComplement\"],[\"KSComplement\"],[\"KSComplement\"],[\"KSComplement\"],[\"KSComplement\"],[\"KSComplement\"],[\"KSComplement\"],[\"KSComplement\"],[\"KSComplement\"]],\"hovertemplate\":\"\\u003cb\\u003e%{hovertext}\\u003c\\u002fb\\u003e\\u003cbr\\u003e\\u003cbr\\u003eMetric=%{customdata[0]}\\u003cbr\\u003eScore=%{y}\\u003cextra\\u003e\\u003c\\u002fextra\\u003e\",\"hovertext\":[\"fLength\",\"fWidth\",\"fSize\",\"fConc\",\"fConc1\",\"fAsym\",\"fM3Long\",\"fM3Trans\",\"fAlpha\",\"fDist\"],\"legendgroup\":\"KSComplement\",\"marker\":{\"color\":\"#000036\",\"pattern\":{\"shape\":\"\"}},\"name\":\"KSComplement\",\"offsetgroup\":\"KSComplement\",\"orientation\":\"v\",\"showlegend\":true,\"textposition\":\"auto\",\"x\":[\"fLength\",\"fWidth\",\"fSize\",\"fConc\",\"fConc1\",\"fAsym\",\"fM3Long\",\"fM3Trans\",\"fAlpha\",\"fDist\"],\"xaxis\":\"x\",\"y\":[0.8935856992639326,0.9264984227129337,0.8944794952681387,0.9168243953732913,0.9332281808622502,0.8989484752891693,0.9308096740273396,0.9510515247108307,0.908937960042061,0.9258149316508938],\"yaxis\":\"y\",\"type\":\"bar\"},{\"alignmentgroup\":\"True\",\"customdata\":[[\"TVComplement\"]],\"hovertemplate\":\"\\u003cb\\u003e%{hovertext}\\u003c\\u002fb\\u003e\\u003cbr\\u003e\\u003cbr\\u003eMetric=%{customdata[0]}\\u003cbr\\u003eScore=%{y}\\u003cextra\\u003e\\u003c\\u002fextra\\u003e\",\"hovertext\":[\"class\"],\"legendgroup\":\"TVComplement\",\"marker\":{\"color\":\"#03AFF1\",\"pattern\":{\"shape\":\"\\u002f\"}},\"name\":\"TVComplement\",\"offsetgroup\":\"TVComplement\",\"orientation\":\"v\",\"showlegend\":true,\"textposition\":\"auto\",\"x\":[\"class\"],\"xaxis\":\"x\",\"y\":[0.8679284963196635],\"yaxis\":\"y\",\"type\":\"bar\"}],                        {\"template\":{\"data\":{\"histogram2dcontour\":[{\"type\":\"histogram2dcontour\",\"colorbar\":{\"outlinewidth\":0,\"ticks\":\"\"},\"colorscale\":[[0.0,\"#0d0887\"],[0.1111111111111111,\"#46039f\"],[0.2222222222222222,\"#7201a8\"],[0.3333333333333333,\"#9c179e\"],[0.4444444444444444,\"#bd3786\"],[0.5555555555555556,\"#d8576b\"],[0.6666666666666666,\"#ed7953\"],[0.7777777777777778,\"#fb9f3a\"],[0.8888888888888888,\"#fdca26\"],[1.0,\"#f0f921\"]]}],\"choropleth\":[{\"type\":\"choropleth\",\"colorbar\":{\"outlinewidth\":0,\"ticks\":\"\"}}],\"histogram2d\":[{\"type\":\"histogram2d\",\"colorbar\":{\"outlinewidth\":0,\"ticks\":\"\"},\"colorscale\":[[0.0,\"#0d0887\"],[0.1111111111111111,\"#46039f\"],[0.2222222222222222,\"#7201a8\"],[0.3333333333333333,\"#9c179e\"],[0.4444444444444444,\"#bd3786\"],[0.5555555555555556,\"#d8576b\"],[0.6666666666666666,\"#ed7953\"],[0.7777777777777778,\"#fb9f3a\"],[0.8888888888888888,\"#fdca26\"],[1.0,\"#f0f921\"]]}],\"heatmap\":[{\"type\":\"heatmap\",\"colorbar\":{\"outlinewidth\":0,\"ticks\":\"\"},\"colorscale\":[[0.0,\"#0d0887\"],[0.1111111111111111,\"#46039f\"],[0.2222222222222222,\"#7201a8\"],[0.3333333333333333,\"#9c179e\"],[0.4444444444444444,\"#bd3786\"],[0.5555555555555556,\"#d8576b\"],[0.6666666666666666,\"#ed7953\"],[0.7777777777777778,\"#fb9f3a\"],[0.8888888888888888,\"#fdca26\"],[1.0,\"#f0f921\"]]}],\"heatmapgl\":[{\"type\":\"heatmapgl\",\"colorbar\":{\"outlinewidth\":0,\"ticks\":\"\"},\"colorscale\":[[0.0,\"#0d0887\"],[0.1111111111111111,\"#46039f\"],[0.2222222222222222,\"#7201a8\"],[0.3333333333333333,\"#9c179e\"],[0.4444444444444444,\"#bd3786\"],[0.5555555555555556,\"#d8576b\"],[0.6666666666666666,\"#ed7953\"],[0.7777777777777778,\"#fb9f3a\"],[0.8888888888888888,\"#fdca26\"],[1.0,\"#f0f921\"]]}],\"contourcarpet\":[{\"type\":\"contourcarpet\",\"colorbar\":{\"outlinewidth\":0,\"ticks\":\"\"}}],\"contour\":[{\"type\":\"contour\",\"colorbar\":{\"outlinewidth\":0,\"ticks\":\"\"},\"colorscale\":[[0.0,\"#0d0887\"],[0.1111111111111111,\"#46039f\"],[0.2222222222222222,\"#7201a8\"],[0.3333333333333333,\"#9c179e\"],[0.4444444444444444,\"#bd3786\"],[0.5555555555555556,\"#d8576b\"],[0.6666666666666666,\"#ed7953\"],[0.7777777777777778,\"#fb9f3a\"],[0.8888888888888888,\"#fdca26\"],[1.0,\"#f0f921\"]]}],\"surface\":[{\"type\":\"surface\",\"colorbar\":{\"outlinewidth\":0,\"ticks\":\"\"},\"colorscale\":[[0.0,\"#0d0887\"],[0.1111111111111111,\"#46039f\"],[0.2222222222222222,\"#7201a8\"],[0.3333333333333333,\"#9c179e\"],[0.4444444444444444,\"#bd3786\"],[0.5555555555555556,\"#d8576b\"],[0.6666666666666666,\"#ed7953\"],[0.7777777777777778,\"#fb9f3a\"],[0.8888888888888888,\"#fdca26\"],[1.0,\"#f0f921\"]]}],\"mesh3d\":[{\"type\":\"mesh3d\",\"colorbar\":{\"outlinewidth\":0,\"ticks\":\"\"}}],\"scatter\":[{\"fillpattern\":{\"fillmode\":\"overlay\",\"size\":10,\"solidity\":0.2},\"type\":\"scatter\"}],\"parcoords\":[{\"type\":\"parcoords\",\"line\":{\"colorbar\":{\"outlinewidth\":0,\"ticks\":\"\"}}}],\"scatterpolargl\":[{\"type\":\"scatterpolargl\",\"marker\":{\"colorbar\":{\"outlinewidth\":0,\"ticks\":\"\"}}}],\"bar\":[{\"error_x\":{\"color\":\"#2a3f5f\"},\"error_y\":{\"color\":\"#2a3f5f\"},\"marker\":{\"line\":{\"color\":\"#E5ECF6\",\"width\":0.5},\"pattern\":{\"fillmode\":\"overlay\",\"size\":10,\"solidity\":0.2}},\"type\":\"bar\"}],\"scattergeo\":[{\"type\":\"scattergeo\",\"marker\":{\"colorbar\":{\"outlinewidth\":0,\"ticks\":\"\"}}}],\"scatterpolar\":[{\"type\":\"scatterpolar\",\"marker\":{\"colorbar\":{\"outlinewidth\":0,\"ticks\":\"\"}}}],\"histogram\":[{\"marker\":{\"pattern\":{\"fillmode\":\"overlay\",\"size\":10,\"solidity\":0.2}},\"type\":\"histogram\"}],\"scattergl\":[{\"type\":\"scattergl\",\"marker\":{\"colorbar\":{\"outlinewidth\":0,\"ticks\":\"\"}}}],\"scatter3d\":[{\"type\":\"scatter3d\",\"line\":{\"colorbar\":{\"outlinewidth\":0,\"ticks\":\"\"}},\"marker\":{\"colorbar\":{\"outlinewidth\":0,\"ticks\":\"\"}}}],\"scattermapbox\":[{\"type\":\"scattermapbox\",\"marker\":{\"colorbar\":{\"outlinewidth\":0,\"ticks\":\"\"}}}],\"scatterternary\":[{\"type\":\"scatterternary\",\"marker\":{\"colorbar\":{\"outlinewidth\":0,\"ticks\":\"\"}}}],\"scattercarpet\":[{\"type\":\"scattercarpet\",\"marker\":{\"colorbar\":{\"outlinewidth\":0,\"ticks\":\"\"}}}],\"carpet\":[{\"aaxis\":{\"endlinecolor\":\"#2a3f5f\",\"gridcolor\":\"white\",\"linecolor\":\"white\",\"minorgridcolor\":\"white\",\"startlinecolor\":\"#2a3f5f\"},\"baxis\":{\"endlinecolor\":\"#2a3f5f\",\"gridcolor\":\"white\",\"linecolor\":\"white\",\"minorgridcolor\":\"white\",\"startlinecolor\":\"#2a3f5f\"},\"type\":\"carpet\"}],\"table\":[{\"cells\":{\"fill\":{\"color\":\"#EBF0F8\"},\"line\":{\"color\":\"white\"}},\"header\":{\"fill\":{\"color\":\"#C8D4E3\"},\"line\":{\"color\":\"white\"}},\"type\":\"table\"}],\"barpolar\":[{\"marker\":{\"line\":{\"color\":\"#E5ECF6\",\"width\":0.5},\"pattern\":{\"fillmode\":\"overlay\",\"size\":10,\"solidity\":0.2}},\"type\":\"barpolar\"}],\"pie\":[{\"automargin\":true,\"type\":\"pie\"}]},\"layout\":{\"autotypenumbers\":\"strict\",\"colorway\":[\"#636efa\",\"#EF553B\",\"#00cc96\",\"#ab63fa\",\"#FFA15A\",\"#19d3f3\",\"#FF6692\",\"#B6E880\",\"#FF97FF\",\"#FECB52\"],\"font\":{\"color\":\"#2a3f5f\"},\"hovermode\":\"closest\",\"hoverlabel\":{\"align\":\"left\"},\"paper_bgcolor\":\"white\",\"plot_bgcolor\":\"#E5ECF6\",\"polar\":{\"bgcolor\":\"#E5ECF6\",\"angularaxis\":{\"gridcolor\":\"white\",\"linecolor\":\"white\",\"ticks\":\"\"},\"radialaxis\":{\"gridcolor\":\"white\",\"linecolor\":\"white\",\"ticks\":\"\"}},\"ternary\":{\"bgcolor\":\"#E5ECF6\",\"aaxis\":{\"gridcolor\":\"white\",\"linecolor\":\"white\",\"ticks\":\"\"},\"baxis\":{\"gridcolor\":\"white\",\"linecolor\":\"white\",\"ticks\":\"\"},\"caxis\":{\"gridcolor\":\"white\",\"linecolor\":\"white\",\"ticks\":\"\"}},\"coloraxis\":{\"colorbar\":{\"outlinewidth\":0,\"ticks\":\"\"}},\"colorscale\":{\"sequential\":[[0.0,\"#0d0887\"],[0.1111111111111111,\"#46039f\"],[0.2222222222222222,\"#7201a8\"],[0.3333333333333333,\"#9c179e\"],[0.4444444444444444,\"#bd3786\"],[0.5555555555555556,\"#d8576b\"],[0.6666666666666666,\"#ed7953\"],[0.7777777777777778,\"#fb9f3a\"],[0.8888888888888888,\"#fdca26\"],[1.0,\"#f0f921\"]],\"sequentialminus\":[[0.0,\"#0d0887\"],[0.1111111111111111,\"#46039f\"],[0.2222222222222222,\"#7201a8\"],[0.3333333333333333,\"#9c179e\"],[0.4444444444444444,\"#bd3786\"],[0.5555555555555556,\"#d8576b\"],[0.6666666666666666,\"#ed7953\"],[0.7777777777777778,\"#fb9f3a\"],[0.8888888888888888,\"#fdca26\"],[1.0,\"#f0f921\"]],\"diverging\":[[0,\"#8e0152\"],[0.1,\"#c51b7d\"],[0.2,\"#de77ae\"],[0.3,\"#f1b6da\"],[0.4,\"#fde0ef\"],[0.5,\"#f7f7f7\"],[0.6,\"#e6f5d0\"],[0.7,\"#b8e186\"],[0.8,\"#7fbc41\"],[0.9,\"#4d9221\"],[1,\"#276419\"]]},\"xaxis\":{\"gridcolor\":\"white\",\"linecolor\":\"white\",\"ticks\":\"\",\"title\":{\"standoff\":15},\"zerolinecolor\":\"white\",\"automargin\":true,\"zerolinewidth\":2},\"yaxis\":{\"gridcolor\":\"white\",\"linecolor\":\"white\",\"ticks\":\"\",\"title\":{\"standoff\":15},\"zerolinecolor\":\"white\",\"automargin\":true,\"zerolinewidth\":2},\"scene\":{\"xaxis\":{\"backgroundcolor\":\"#E5ECF6\",\"gridcolor\":\"white\",\"linecolor\":\"white\",\"showbackground\":true,\"ticks\":\"\",\"zerolinecolor\":\"white\",\"gridwidth\":2},\"yaxis\":{\"backgroundcolor\":\"#E5ECF6\",\"gridcolor\":\"white\",\"linecolor\":\"white\",\"showbackground\":true,\"ticks\":\"\",\"zerolinecolor\":\"white\",\"gridwidth\":2},\"zaxis\":{\"backgroundcolor\":\"#E5ECF6\",\"gridcolor\":\"white\",\"linecolor\":\"white\",\"showbackground\":true,\"ticks\":\"\",\"zerolinecolor\":\"white\",\"gridwidth\":2}},\"shapedefaults\":{\"line\":{\"color\":\"#2a3f5f\"}},\"annotationdefaults\":{\"arrowcolor\":\"#2a3f5f\",\"arrowhead\":0,\"arrowwidth\":1},\"geo\":{\"bgcolor\":\"white\",\"landcolor\":\"#E5ECF6\",\"subunitcolor\":\"white\",\"showland\":true,\"showlakes\":true,\"lakecolor\":\"white\"},\"title\":{\"x\":0.05},\"mapbox\":{\"style\":\"light\"}}},\"xaxis\":{\"anchor\":\"y\",\"domain\":[0.0,1.0],\"title\":{\"text\":\"Column\"},\"categoryorder\":\"total ascending\"},\"yaxis\":{\"anchor\":\"x\",\"domain\":[0.0,1.0],\"title\":{\"text\":\"Score\"},\"range\":[0,1]},\"legend\":{\"title\":{\"text\":\"Metric\"},\"tracegroupgap\":0},\"title\":{\"text\":\"Data Quality: Column Shapes (Average Score=0.91)\"},\"barmode\":\"relative\",\"margin\":{\"t\":150},\"font\":{\"size\":18},\"plot_bgcolor\":\"#F5F5F8\"},                        {\"responsive\": true}                    ).then(function(){\n",
              "                            \n",
              "var gd = document.getElementById('ce700012-b4ba-4e8f-bb34-3704ac02f787');\n",
              "var x = new MutationObserver(function (mutations, observer) {{\n",
              "        var display = window.getComputedStyle(gd).display;\n",
              "        if (!display || display === 'none') {{\n",
              "            console.log([gd, 'removed!']);\n",
              "            Plotly.purge(gd);\n",
              "            observer.disconnect();\n",
              "        }}\n",
              "}});\n",
              "\n",
              "// Listen for the removal of the full notebook cells\n",
              "var notebookContainer = gd.closest('#notebook-container');\n",
              "if (notebookContainer) {{\n",
              "    x.observe(notebookContainer, {childList: true});\n",
              "}}\n",
              "\n",
              "// Listen for the clearing of the current output cell\n",
              "var outputEl = gd.closest('.output');\n",
              "if (outputEl) {{\n",
              "    x.observe(outputEl, {childList: true});\n",
              "}}\n",
              "\n",
              "                        })                };                            </script>        </div>\n",
              "</body>\n",
              "</html>"
            ]
          },
          "metadata": {}
        },
        {
          "output_type": "display_data",
          "data": {
            "text/html": [
              "<html>\n",
              "<head><meta charset=\"utf-8\" /></head>\n",
              "<body>\n",
              "    <div>            <script src=\"https://cdnjs.cloudflare.com/ajax/libs/mathjax/2.7.5/MathJax.js?config=TeX-AMS-MML_SVG\"></script><script type=\"text/javascript\">if (window.MathJax && window.MathJax.Hub && window.MathJax.Hub.Config) {window.MathJax.Hub.Config({SVG: {font: \"STIX-Web\"}});}</script>                <script type=\"text/javascript\">window.PlotlyConfig = {MathJaxConfig: 'local'};</script>\n",
              "        <script charset=\"utf-8\" src=\"https://cdn.plot.ly/plotly-2.35.2.min.js\"></script>                <div id=\"c77f2d88-cb4a-438a-a575-827de9a6ab1e\" class=\"plotly-graph-div\" style=\"height:900px; width:900px;\"></div>            <script type=\"text/javascript\">                                    window.PLOTLYENV=window.PLOTLYENV || {};                                    if (document.getElementById(\"c77f2d88-cb4a-438a-a575-827de9a6ab1e\")) {                    Plotly.newPlot(                        \"c77f2d88-cb4a-438a-a575-827de9a6ab1e\",                        [{\"coloraxis\":\"coloraxis\",\"hovertemplate\":\"\\u003cb\\u003eColumn Pair\\u003c\\u002fb\\u003e\\u003cbr\\u003e(%{x},%{y})\\u003cbr\\u003e\\u003cbr\\u003eSimilarity: %{z}\\u003cextra\\u003e\\u003c\\u002fextra\\u003e\",\"x\":[\"fLength\",\"fWidth\",\"fSize\",\"fConc\",\"fConc1\",\"fAsym\",\"fM3Long\",\"fM3Trans\",\"fAlpha\",\"fDist\",\"class\"],\"y\":[\"fLength\",\"fWidth\",\"fSize\",\"fConc\",\"fConc1\",\"fAsym\",\"fM3Long\",\"fM3Trans\",\"fAlpha\",\"fDist\",\"class\"],\"z\":[[1.0,0.89,0.993,0.997,0.993,0.814,0.993,0.83,0.96,0.975,0.82],[0.89,1.0,0.938,0.982,0.983,0.855,0.882,0.905,0.95,0.992,0.436],[0.993,0.938,1.0,0.961,0.96,0.894,0.994,0.877,0.954,0.999,0.767],[0.997,0.982,0.961,1.0,0.894,0.917,0.986,0.917,0.979,0.934,0.838],[0.993,0.983,0.96,0.894,1.0,0.932,0.997,0.917,0.975,0.94,0.825],[0.814,0.855,0.894,0.917,0.932,1.0,0.883,0.994,0.995,0.889,0.201],[0.993,0.882,0.994,0.986,0.997,0.883,1.0,0.916,0.971,0.975,0.715],[0.83,0.905,0.877,0.917,0.917,0.994,0.916,1.0,0.943,0.949,0.53],[0.96,0.95,0.954,0.979,0.975,0.995,0.971,0.943,1.0,0.938,0.823],[0.975,0.992,0.999,0.934,0.94,0.889,0.975,0.949,0.938,1.0,0.78],[0.82,0.436,0.767,0.838,0.825,0.201,0.715,0.53,0.823,0.78,1.0]],\"type\":\"heatmap\",\"xaxis\":\"x\",\"yaxis\":\"y\"},{\"coloraxis\":\"coloraxis2\",\"customdata\":[[1.0,0.55,0.717,-0.637,-0.612,0.004,-0.106,-0.326,0.07,0.368],[0.55,1.0,0.593,-0.573,-0.548,0.023,0.059,-0.15,-0.034,0.32],[0.717,0.593,1.0,-0.772,-0.729,0.051,0.083,-0.231,-0.094,0.44],[-0.637,-0.573,-0.772,1.0,0.765,-0.055,-0.151,0.155,0.194,-0.461],[-0.612,-0.548,-0.729,0.765,1.0,-0.037,-0.113,0.154,0.18,-0.425],[0.004,0.023,0.051,-0.055,-0.037,1.0,0.041,0.015,-0.065,0.016],[-0.106,0.059,0.083,-0.151,-0.113,0.041,1.0,0.15,-0.243,0.087],[-0.326,-0.15,-0.231,0.155,0.154,0.015,0.15,1.0,-0.108,-0.09],[0.07,-0.034,-0.094,0.194,0.18,-0.065,-0.243,-0.108,1.0,-0.096],[0.368,0.32,0.44,-0.461,-0.425,0.016,0.087,-0.09,-0.096,1.0]],\"hovertemplate\":\"\\u003cb\\u003eCorrelation\\u003c\\u002fb\\u003e\\u003cbr\\u003e(%{x},%{y})\\u003cbr\\u003e\\u003cbr\\u003eSynthetic: %{z}\\u003cbr\\u003e(vs. Real: %{customdata})\\u003cextra\\u003e\\u003c\\u002fextra\\u003e\",\"x\":[\"fLength\",\"fWidth\",\"fSize\",\"fConc\",\"fConc1\",\"fAsym\",\"fM3Long\",\"fM3Trans\",\"fAlpha\",\"fDist\"],\"y\":[\"fLength\",\"fWidth\",\"fSize\",\"fConc\",\"fConc1\",\"fAsym\",\"fM3Long\",\"fM3Trans\",\"fAlpha\",\"fDist\"],\"z\":[[1.0,0.771,0.702,-0.631,-0.598,-0.369,-0.12,0.013,-0.009,0.418],[0.771,1.0,0.718,-0.61,-0.581,-0.267,-0.176,0.04,0.066,0.337],[0.702,0.718,1.0,-0.851,-0.809,-0.16,0.095,0.015,-0.187,0.437],[-0.631,-0.61,-0.851,1.0,0.976,0.112,-0.122,-0.011,0.235,-0.328],[-0.598,-0.581,-0.809,0.976,1.0,0.1,-0.119,-0.011,0.23,-0.305],[-0.369,-0.267,-0.16,0.112,0.1,1.0,0.274,0.003,-0.056,-0.207],[-0.12,-0.176,0.095,-0.122,-0.119,0.274,1.0,-0.017,-0.186,0.037],[0.013,0.04,0.015,-0.011,-0.011,0.003,-0.017,1.0,0.005,0.011],[-0.009,0.066,-0.187,0.235,0.23,-0.056,-0.186,0.005,1.0,-0.221],[0.418,0.337,0.437,-0.328,-0.305,-0.207,0.037,0.011,-0.221,1.0]],\"type\":\"heatmap\",\"xaxis\":\"x2\",\"yaxis\":\"y2\"},{\"coloraxis\":\"coloraxis2\",\"customdata\":[[1.0,0.771,0.702,-0.631,-0.598,-0.369,-0.12,0.013,-0.009,0.418],[0.771,1.0,0.718,-0.61,-0.581,-0.267,-0.176,0.04,0.066,0.337],[0.702,0.718,1.0,-0.851,-0.809,-0.16,0.095,0.015,-0.187,0.437],[-0.631,-0.61,-0.851,1.0,0.976,0.112,-0.122,-0.011,0.235,-0.328],[-0.598,-0.581,-0.809,0.976,1.0,0.1,-0.119,-0.011,0.23,-0.305],[-0.369,-0.267,-0.16,0.112,0.1,1.0,0.274,0.003,-0.056,-0.207],[-0.12,-0.176,0.095,-0.122,-0.119,0.274,1.0,-0.017,-0.186,0.037],[0.013,0.04,0.015,-0.011,-0.011,0.003,-0.017,1.0,0.005,0.011],[-0.009,0.066,-0.187,0.235,0.23,-0.056,-0.186,0.005,1.0,-0.221],[0.418,0.337,0.437,-0.328,-0.305,-0.207,0.037,0.011,-0.221,1.0]],\"hovertemplate\":\"\\u003cb\\u003eCorrelation\\u003c\\u002fb\\u003e\\u003cbr\\u003e(%{x},%{y})\\u003cbr\\u003e\\u003cbr\\u003eSynthetic: %{z}\\u003cbr\\u003e(vs. Real: %{customdata})\\u003cextra\\u003e\\u003c\\u002fextra\\u003e\",\"x\":[\"fLength\",\"fWidth\",\"fSize\",\"fConc\",\"fConc1\",\"fAsym\",\"fM3Long\",\"fM3Trans\",\"fAlpha\",\"fDist\"],\"y\":[\"fLength\",\"fWidth\",\"fSize\",\"fConc\",\"fConc1\",\"fAsym\",\"fM3Long\",\"fM3Trans\",\"fAlpha\",\"fDist\"],\"z\":[[1.0,0.55,0.717,-0.637,-0.612,0.004,-0.106,-0.326,0.07,0.368],[0.55,1.0,0.593,-0.573,-0.548,0.023,0.059,-0.15,-0.034,0.32],[0.717,0.593,1.0,-0.772,-0.729,0.051,0.083,-0.231,-0.094,0.44],[-0.637,-0.573,-0.772,1.0,0.765,-0.055,-0.151,0.155,0.194,-0.461],[-0.612,-0.548,-0.729,0.765,1.0,-0.037,-0.113,0.154,0.18,-0.425],[0.004,0.023,0.051,-0.055,-0.037,1.0,0.041,0.015,-0.065,0.016],[-0.106,0.059,0.083,-0.151,-0.113,0.041,1.0,0.15,-0.243,0.087],[-0.326,-0.15,-0.231,0.155,0.154,0.015,0.15,1.0,-0.108,-0.09],[0.07,-0.034,-0.094,0.194,0.18,-0.065,-0.243,-0.108,1.0,-0.096],[0.368,0.32,0.44,-0.461,-0.425,0.016,0.087,-0.09,-0.096,1.0]],\"type\":\"heatmap\",\"xaxis\":\"x3\",\"yaxis\":\"y3\"}],                        {\"template\":{\"data\":{\"histogram2dcontour\":[{\"type\":\"histogram2dcontour\",\"colorbar\":{\"outlinewidth\":0,\"ticks\":\"\"},\"colorscale\":[[0.0,\"#0d0887\"],[0.1111111111111111,\"#46039f\"],[0.2222222222222222,\"#7201a8\"],[0.3333333333333333,\"#9c179e\"],[0.4444444444444444,\"#bd3786\"],[0.5555555555555556,\"#d8576b\"],[0.6666666666666666,\"#ed7953\"],[0.7777777777777778,\"#fb9f3a\"],[0.8888888888888888,\"#fdca26\"],[1.0,\"#f0f921\"]]}],\"choropleth\":[{\"type\":\"choropleth\",\"colorbar\":{\"outlinewidth\":0,\"ticks\":\"\"}}],\"histogram2d\":[{\"type\":\"histogram2d\",\"colorbar\":{\"outlinewidth\":0,\"ticks\":\"\"},\"colorscale\":[[0.0,\"#0d0887\"],[0.1111111111111111,\"#46039f\"],[0.2222222222222222,\"#7201a8\"],[0.3333333333333333,\"#9c179e\"],[0.4444444444444444,\"#bd3786\"],[0.5555555555555556,\"#d8576b\"],[0.6666666666666666,\"#ed7953\"],[0.7777777777777778,\"#fb9f3a\"],[0.8888888888888888,\"#fdca26\"],[1.0,\"#f0f921\"]]}],\"heatmap\":[{\"type\":\"heatmap\",\"colorbar\":{\"outlinewidth\":0,\"ticks\":\"\"},\"colorscale\":[[0.0,\"#0d0887\"],[0.1111111111111111,\"#46039f\"],[0.2222222222222222,\"#7201a8\"],[0.3333333333333333,\"#9c179e\"],[0.4444444444444444,\"#bd3786\"],[0.5555555555555556,\"#d8576b\"],[0.6666666666666666,\"#ed7953\"],[0.7777777777777778,\"#fb9f3a\"],[0.8888888888888888,\"#fdca26\"],[1.0,\"#f0f921\"]]}],\"heatmapgl\":[{\"type\":\"heatmapgl\",\"colorbar\":{\"outlinewidth\":0,\"ticks\":\"\"},\"colorscale\":[[0.0,\"#0d0887\"],[0.1111111111111111,\"#46039f\"],[0.2222222222222222,\"#7201a8\"],[0.3333333333333333,\"#9c179e\"],[0.4444444444444444,\"#bd3786\"],[0.5555555555555556,\"#d8576b\"],[0.6666666666666666,\"#ed7953\"],[0.7777777777777778,\"#fb9f3a\"],[0.8888888888888888,\"#fdca26\"],[1.0,\"#f0f921\"]]}],\"contourcarpet\":[{\"type\":\"contourcarpet\",\"colorbar\":{\"outlinewidth\":0,\"ticks\":\"\"}}],\"contour\":[{\"type\":\"contour\",\"colorbar\":{\"outlinewidth\":0,\"ticks\":\"\"},\"colorscale\":[[0.0,\"#0d0887\"],[0.1111111111111111,\"#46039f\"],[0.2222222222222222,\"#7201a8\"],[0.3333333333333333,\"#9c179e\"],[0.4444444444444444,\"#bd3786\"],[0.5555555555555556,\"#d8576b\"],[0.6666666666666666,\"#ed7953\"],[0.7777777777777778,\"#fb9f3a\"],[0.8888888888888888,\"#fdca26\"],[1.0,\"#f0f921\"]]}],\"surface\":[{\"type\":\"surface\",\"colorbar\":{\"outlinewidth\":0,\"ticks\":\"\"},\"colorscale\":[[0.0,\"#0d0887\"],[0.1111111111111111,\"#46039f\"],[0.2222222222222222,\"#7201a8\"],[0.3333333333333333,\"#9c179e\"],[0.4444444444444444,\"#bd3786\"],[0.5555555555555556,\"#d8576b\"],[0.6666666666666666,\"#ed7953\"],[0.7777777777777778,\"#fb9f3a\"],[0.8888888888888888,\"#fdca26\"],[1.0,\"#f0f921\"]]}],\"mesh3d\":[{\"type\":\"mesh3d\",\"colorbar\":{\"outlinewidth\":0,\"ticks\":\"\"}}],\"scatter\":[{\"fillpattern\":{\"fillmode\":\"overlay\",\"size\":10,\"solidity\":0.2},\"type\":\"scatter\"}],\"parcoords\":[{\"type\":\"parcoords\",\"line\":{\"colorbar\":{\"outlinewidth\":0,\"ticks\":\"\"}}}],\"scatterpolargl\":[{\"type\":\"scatterpolargl\",\"marker\":{\"colorbar\":{\"outlinewidth\":0,\"ticks\":\"\"}}}],\"bar\":[{\"error_x\":{\"color\":\"#2a3f5f\"},\"error_y\":{\"color\":\"#2a3f5f\"},\"marker\":{\"line\":{\"color\":\"#E5ECF6\",\"width\":0.5},\"pattern\":{\"fillmode\":\"overlay\",\"size\":10,\"solidity\":0.2}},\"type\":\"bar\"}],\"scattergeo\":[{\"type\":\"scattergeo\",\"marker\":{\"colorbar\":{\"outlinewidth\":0,\"ticks\":\"\"}}}],\"scatterpolar\":[{\"type\":\"scatterpolar\",\"marker\":{\"colorbar\":{\"outlinewidth\":0,\"ticks\":\"\"}}}],\"histogram\":[{\"marker\":{\"pattern\":{\"fillmode\":\"overlay\",\"size\":10,\"solidity\":0.2}},\"type\":\"histogram\"}],\"scattergl\":[{\"type\":\"scattergl\",\"marker\":{\"colorbar\":{\"outlinewidth\":0,\"ticks\":\"\"}}}],\"scatter3d\":[{\"type\":\"scatter3d\",\"line\":{\"colorbar\":{\"outlinewidth\":0,\"ticks\":\"\"}},\"marker\":{\"colorbar\":{\"outlinewidth\":0,\"ticks\":\"\"}}}],\"scattermapbox\":[{\"type\":\"scattermapbox\",\"marker\":{\"colorbar\":{\"outlinewidth\":0,\"ticks\":\"\"}}}],\"scatterternary\":[{\"type\":\"scatterternary\",\"marker\":{\"colorbar\":{\"outlinewidth\":0,\"ticks\":\"\"}}}],\"scattercarpet\":[{\"type\":\"scattercarpet\",\"marker\":{\"colorbar\":{\"outlinewidth\":0,\"ticks\":\"\"}}}],\"carpet\":[{\"aaxis\":{\"endlinecolor\":\"#2a3f5f\",\"gridcolor\":\"white\",\"linecolor\":\"white\",\"minorgridcolor\":\"white\",\"startlinecolor\":\"#2a3f5f\"},\"baxis\":{\"endlinecolor\":\"#2a3f5f\",\"gridcolor\":\"white\",\"linecolor\":\"white\",\"minorgridcolor\":\"white\",\"startlinecolor\":\"#2a3f5f\"},\"type\":\"carpet\"}],\"table\":[{\"cells\":{\"fill\":{\"color\":\"#EBF0F8\"},\"line\":{\"color\":\"white\"}},\"header\":{\"fill\":{\"color\":\"#C8D4E3\"},\"line\":{\"color\":\"white\"}},\"type\":\"table\"}],\"barpolar\":[{\"marker\":{\"line\":{\"color\":\"#E5ECF6\",\"width\":0.5},\"pattern\":{\"fillmode\":\"overlay\",\"size\":10,\"solidity\":0.2}},\"type\":\"barpolar\"}],\"pie\":[{\"automargin\":true,\"type\":\"pie\"}]},\"layout\":{\"autotypenumbers\":\"strict\",\"colorway\":[\"#636efa\",\"#EF553B\",\"#00cc96\",\"#ab63fa\",\"#FFA15A\",\"#19d3f3\",\"#FF6692\",\"#B6E880\",\"#FF97FF\",\"#FECB52\"],\"font\":{\"color\":\"#2a3f5f\"},\"hovermode\":\"closest\",\"hoverlabel\":{\"align\":\"left\"},\"paper_bgcolor\":\"white\",\"plot_bgcolor\":\"#E5ECF6\",\"polar\":{\"bgcolor\":\"#E5ECF6\",\"angularaxis\":{\"gridcolor\":\"white\",\"linecolor\":\"white\",\"ticks\":\"\"},\"radialaxis\":{\"gridcolor\":\"white\",\"linecolor\":\"white\",\"ticks\":\"\"}},\"ternary\":{\"bgcolor\":\"#E5ECF6\",\"aaxis\":{\"gridcolor\":\"white\",\"linecolor\":\"white\",\"ticks\":\"\"},\"baxis\":{\"gridcolor\":\"white\",\"linecolor\":\"white\",\"ticks\":\"\"},\"caxis\":{\"gridcolor\":\"white\",\"linecolor\":\"white\",\"ticks\":\"\"}},\"coloraxis\":{\"colorbar\":{\"outlinewidth\":0,\"ticks\":\"\"}},\"colorscale\":{\"sequential\":[[0.0,\"#0d0887\"],[0.1111111111111111,\"#46039f\"],[0.2222222222222222,\"#7201a8\"],[0.3333333333333333,\"#9c179e\"],[0.4444444444444444,\"#bd3786\"],[0.5555555555555556,\"#d8576b\"],[0.6666666666666666,\"#ed7953\"],[0.7777777777777778,\"#fb9f3a\"],[0.8888888888888888,\"#fdca26\"],[1.0,\"#f0f921\"]],\"sequentialminus\":[[0.0,\"#0d0887\"],[0.1111111111111111,\"#46039f\"],[0.2222222222222222,\"#7201a8\"],[0.3333333333333333,\"#9c179e\"],[0.4444444444444444,\"#bd3786\"],[0.5555555555555556,\"#d8576b\"],[0.6666666666666666,\"#ed7953\"],[0.7777777777777778,\"#fb9f3a\"],[0.8888888888888888,\"#fdca26\"],[1.0,\"#f0f921\"]],\"diverging\":[[0,\"#8e0152\"],[0.1,\"#c51b7d\"],[0.2,\"#de77ae\"],[0.3,\"#f1b6da\"],[0.4,\"#fde0ef\"],[0.5,\"#f7f7f7\"],[0.6,\"#e6f5d0\"],[0.7,\"#b8e186\"],[0.8,\"#7fbc41\"],[0.9,\"#4d9221\"],[1,\"#276419\"]]},\"xaxis\":{\"gridcolor\":\"white\",\"linecolor\":\"white\",\"ticks\":\"\",\"title\":{\"standoff\":15},\"zerolinecolor\":\"white\",\"automargin\":true,\"zerolinewidth\":2},\"yaxis\":{\"gridcolor\":\"white\",\"linecolor\":\"white\",\"ticks\":\"\",\"title\":{\"standoff\":15},\"zerolinecolor\":\"white\",\"automargin\":true,\"zerolinewidth\":2},\"scene\":{\"xaxis\":{\"backgroundcolor\":\"#E5ECF6\",\"gridcolor\":\"white\",\"linecolor\":\"white\",\"showbackground\":true,\"ticks\":\"\",\"zerolinecolor\":\"white\",\"gridwidth\":2},\"yaxis\":{\"backgroundcolor\":\"#E5ECF6\",\"gridcolor\":\"white\",\"linecolor\":\"white\",\"showbackground\":true,\"ticks\":\"\",\"zerolinecolor\":\"white\",\"gridwidth\":2},\"zaxis\":{\"backgroundcolor\":\"#E5ECF6\",\"gridcolor\":\"white\",\"linecolor\":\"white\",\"showbackground\":true,\"ticks\":\"\",\"zerolinecolor\":\"white\",\"gridwidth\":2}},\"shapedefaults\":{\"line\":{\"color\":\"#2a3f5f\"}},\"annotationdefaults\":{\"arrowcolor\":\"#2a3f5f\",\"arrowhead\":0,\"arrowwidth\":1},\"geo\":{\"bgcolor\":\"white\",\"landcolor\":\"#E5ECF6\",\"subunitcolor\":\"white\",\"showland\":true,\"showlakes\":true,\"lakecolor\":\"white\"},\"title\":{\"x\":0.05},\"mapbox\":{\"style\":\"light\"}}},\"xaxis\":{\"anchor\":\"y\",\"domain\":[0.26,0.74],\"tickangle\":45},\"yaxis\":{\"anchor\":\"x\",\"domain\":[0.625,1.0],\"autorange\":\"reversed\"},\"xaxis2\":{\"anchor\":\"y2\",\"domain\":[0.0,0.45],\"tickangle\":45},\"yaxis2\":{\"anchor\":\"x2\",\"domain\":[0.0,0.375],\"autorange\":\"reversed\"},\"xaxis3\":{\"anchor\":\"y3\",\"domain\":[0.55,1.0],\"tickangle\":45,\"matches\":\"x2\"},\"yaxis3\":{\"anchor\":\"x3\",\"domain\":[0.0,0.375],\"visible\":false,\"matches\":\"y2\",\"autorange\":\"reversed\"},\"annotations\":[{\"font\":{\"size\":16},\"showarrow\":false,\"text\":\"Real vs. Synthetic Similarity\",\"x\":0.5,\"xanchor\":\"center\",\"xref\":\"paper\",\"y\":1.0,\"yanchor\":\"bottom\",\"yref\":\"paper\"},{\"font\":{\"size\":16},\"showarrow\":false,\"text\":\"Numerical Correlation (Real Data)\",\"x\":0.225,\"xanchor\":\"center\",\"xref\":\"paper\",\"y\":0.375,\"yanchor\":\"bottom\",\"yref\":\"paper\"},{\"font\":{\"size\":16},\"showarrow\":false,\"text\":\"Numerical Correlation (Synthetic Data)\",\"x\":0.775,\"xanchor\":\"center\",\"xref\":\"paper\",\"y\":0.375,\"yanchor\":\"bottom\",\"yref\":\"paper\"}],\"title\":{\"text\":\"Data Quality: Column Pair Trends (Average Score=0.89)\"},\"coloraxis\":{\"colorbar\":{\"len\":0.5,\"x\":0.8,\"y\":0.8},\"cmin\":0,\"cmax\":1,\"colorscale\":[[0.0,\"#FF0000\"],[0.5,\"#F16141\"],[1.0,\"#36B37E\"]]},\"coloraxis2\":{\"colorbar\":{\"len\":0.5,\"y\":0.2},\"cmin\":-1,\"cmax\":1,\"colorscale\":[[0.0,\"#03AFF1\"],[0.5,\"#000036\"],[1.0,\"#01E0C9\"]]},\"font\":{\"size\":18},\"height\":900,\"width\":900},                        {\"responsive\": true}                    ).then(function(){\n",
              "                            \n",
              "var gd = document.getElementById('c77f2d88-cb4a-438a-a575-827de9a6ab1e');\n",
              "var x = new MutationObserver(function (mutations, observer) {{\n",
              "        var display = window.getComputedStyle(gd).display;\n",
              "        if (!display || display === 'none') {{\n",
              "            console.log([gd, 'removed!']);\n",
              "            Plotly.purge(gd);\n",
              "            observer.disconnect();\n",
              "        }}\n",
              "}});\n",
              "\n",
              "// Listen for the removal of the full notebook cells\n",
              "var notebookContainer = gd.closest('#notebook-container');\n",
              "if (notebookContainer) {{\n",
              "    x.observe(notebookContainer, {childList: true});\n",
              "}}\n",
              "\n",
              "// Listen for the clearing of the current output cell\n",
              "var outputEl = gd.closest('.output');\n",
              "if (outputEl) {{\n",
              "    x.observe(outputEl, {childList: true});\n",
              "}}\n",
              "\n",
              "                        })                };                            </script>        </div>\n",
              "</body>\n",
              "</html>"
            ]
          },
          "metadata": {}
        },
        {
          "output_type": "stream",
          "name": "stdout",
          "text": [
            "\n",
            "================================ METRICS REPORT ================================\n",
            "Column Shapes Score: 0.913\n",
            "Column Trends Score: 0.894\n",
            "Overall Score: 0.904\n",
            "correlation score: 0.890\n",
            "contingency similarity score: 0.832\n",
            "log detection score: 0.667\n",
            "Alpha Precision: 0.860894, Beta Recall: 0.102001\n",
            "DCR Score = 0.502629\n"
          ]
        }
      ]
    },
    {
      "cell_type": "markdown",
      "source": [
        "### Beijing"
      ],
      "metadata": {
        "id": "1ONxQsvRajfL"
      }
    },
    {
      "cell_type": "code",
      "source": [
        "# fetch dataset\n",
        "beijing_pm2_5 = fetch_ucirepo(id=381)\n",
        "\n",
        "# data (as pandas dataframes)\n",
        "X = beijing_pm2_5.data.features\n",
        "y = beijing_pm2_5.data.targets\n",
        "\n",
        "# metadata\n",
        "print(beijing_pm2_5.metadata)\n",
        "\n",
        "# variable information\n",
        "print(beijing_pm2_5.variables)\n"
      ],
      "metadata": {
        "id": "rsK2Y151eRn6",
        "colab": {
          "base_uri": "https://localhost:8080/"
        },
        "outputId": "b847fa08-00f0-4b30-fa3e-6109445748bd"
      },
      "execution_count": 4,
      "outputs": [
        {
          "output_type": "stream",
          "name": "stdout",
          "text": [
            "{'uci_id': 381, 'name': 'Beijing PM2.5', 'repository_url': 'https://archive.ics.uci.edu/dataset/381/beijing+pm2+5+data', 'data_url': 'https://archive.ics.uci.edu/static/public/381/data.csv', 'abstract': 'This hourly data set contains the PM2.5 data of US Embassy in Beijing. Meanwhile, meteorological data from Beijing Capital International Airport are also included. ', 'area': 'Climate and Environment', 'tasks': ['Regression'], 'characteristics': ['Multivariate', 'Time-Series'], 'num_instances': 43824, 'num_features': 11, 'feature_types': ['Integer', 'Real'], 'demographics': [], 'target_col': ['pm2.5'], 'index_col': ['No'], 'has_missing_values': 'yes', 'missing_values_symbol': 'NaN', 'year_of_dataset_creation': 2015, 'last_updated': 'Sat Mar 16 2024', 'dataset_doi': '10.24432/C5JS49', 'creators': ['Song Chen'], 'intro_paper': {'ID': 432, 'type': 'NATIVE', 'title': \"Assessing Beijing's PM2.5 pollution: severity, weather impact, APEC and winter heating\", 'authors': 'Xuan Liang, T. Zou, Bin Guo, Shuo Li, Haozhe Zhang, Shuyi Zhang, Hui Huang, S. Chen', 'venue': 'Proceedings of the Royal Society A', 'year': 2015, 'journal': None, 'DOI': '10.1098/rspa.2015.0257', 'URL': 'https://www.semanticscholar.org/paper/8a82cccc111cbe3e7ff7bc16a3345afe8351a425', 'sha': None, 'corpus': None, 'arxiv': None, 'mag': None, 'acl': None, 'pmid': None, 'pmcid': None}, 'additional_info': {'summary': 'The data\\'s time period is between Jan 1st, 2010 to Dec 31st, 2014. Missing data are denoted as \"NA\".', 'purpose': None, 'funded_by': None, 'instances_represent': None, 'recommended_data_splits': None, 'sensitive_data': None, 'preprocessing_description': None, 'variable_info': 'No: row number\\r\\nyear: year of data in this row\\r\\nmonth: month of data in this row\\r\\nday: day of data in this row\\r\\nhour: hour of data in this row\\r\\npm2.5: PM2.5 concentration (ug/m^3)\\r\\nDEWP: Dew Point (â„ƒ)\\r\\nTEMP: Temperature (â„ƒ)\\r\\nPRES: Pressure (hPa)\\r\\ncbwd: Combined wind direction\\r\\nIws: Cumulated wind speed (m/s)\\r\\nIs: Cumulated hours of snow\\r\\nIr: Cumulated hours of rain\\r\\n', 'citation': None}}\n",
            "     name     role         type demographic description units missing_values\n",
            "0      No       ID      Integer        None        None  None             no\n",
            "1    year  Feature      Integer        None        None  None             no\n",
            "2   month  Feature      Integer        None        None  None             no\n",
            "3     day  Feature      Integer        None        None  None             no\n",
            "4    hour  Feature      Integer        None        None  None             no\n",
            "5   pm2.5   Target      Integer        None        None  None            yes\n",
            "6    DEWP  Feature      Integer        None        None  None             no\n",
            "7    TEMP  Feature      Integer        None        None  None             no\n",
            "8    PRES  Feature      Integer        None        None  None             no\n",
            "9    cbwd  Feature  Categorical        None        None  None             no\n",
            "10    Iws  Feature   Continuous        None        None  None             no\n",
            "11     Is  Feature      Integer        None        None  None             no\n",
            "12     Ir  Feature      Integer        None        None  None             no\n"
          ]
        }
      ]
    },
    {
      "cell_type": "code",
      "source": [
        "all_data_beijing = pd.concat([X, y], axis=1)"
      ],
      "metadata": {
        "id": "DomnhLqx1QWO"
      },
      "execution_count": 5,
      "outputs": []
    },
    {
      "cell_type": "code",
      "source": [
        "all_data_beijing = all_data_beijing.dropna()"
      ],
      "metadata": {
        "id": "tggpnANQ9MwN"
      },
      "execution_count": 6,
      "outputs": []
    },
    {
      "cell_type": "code",
      "source": [
        "cat_cols = ['cbwd']\n",
        "numeric_cols = [x for x in all_data_beijing.columns if x not in cat_cols]\n",
        "\n",
        "ctgan = CTGAN(epochs=300)\n",
        "ctgan.fit(all_data_beijing, cat_cols)"
      ],
      "metadata": {
        "id": "_kuRpg3z1UDy"
      },
      "execution_count": null,
      "outputs": []
    },
    {
      "cell_type": "code",
      "source": [
        "synthetic_data = ctgan.sample(len(all_data_beijing))\n",
        "\n",
        "ctgan_metrics = Metrics(all_data_beijing, synthetic_data, numeric_cols, cat_cols, 'pm2.5', classification=False)\n",
        "metrics = ctgan_metrics.collect_all_metrics()"
      ],
      "metadata": {
        "id": "EVtFWrAq1X-P"
      },
      "execution_count": null,
      "outputs": []
    }
  ]
}