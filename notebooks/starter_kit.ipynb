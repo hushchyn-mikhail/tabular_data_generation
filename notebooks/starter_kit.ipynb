{
  "nbformat": 4,
  "nbformat_minor": 0,
  "metadata": {
    "colab": {
      "provenance": [],
      "toc_visible": true
    },
    "kernelspec": {
      "name": "python3",
      "display_name": "Python 3"
    },
    "language_info": {
      "name": "python"
    }
  },
  "cells": [
    {
      "cell_type": "code",
      "execution_count": null,
      "metadata": {
        "id": "nXnwvkFAvMWU"
      },
      "outputs": [],
      "source": [
        "%pip install sdv==0.13.1"
      ]
    },
    {
      "cell_type": "markdown",
      "source": [
        "# ML Model Development using Synthetic Data Clones\n",
        "\n",
        "What happens if a machine learning model is trained using synthetic data instead of real data? We ran an experiment to answer this question.\n",
        "\n",
        "In this notebook, we supply the code we used for running our experiment. If you're interested in a high level summary of the set up an results, please see our [blog article](https://sdv.dev/blog/synthetic-clones-for-ml)."
      ],
      "metadata": {
        "id": "we2ogg7Nvgup"
      }
    },
    {
      "cell_type": "markdown",
      "source": [
        "## Datasets\n",
        "\n",
        "We'll look at 3 different datasets. We'll build ML models for the real data vs. synthetic data and we'll compare their performance.\n",
        "\n",
        "Let's load & inspect 3 different datasets to understand the different ML tasks that are required."
      ],
      "metadata": {
        "id": "pxzy9MrtvkMI"
      }
    },
    {
      "cell_type": "code",
      "source": [
        "import pandas as pd"
      ],
      "metadata": {
        "id": "VVxI6JP8vj7M"
      },
      "execution_count": null,
      "outputs": []
    },
    {
      "cell_type": "markdown",
      "source": [
        "### Income Dataset\n",
        "The Income Dataset comes from [Kaggle](https://www.kaggle.com/mastmustu/income?select=train.csv). Download `train.csv` to get the data.\n",
        "\n",
        "The dataset contains information about employees, including personal attributes like gender and education."
      ],
      "metadata": {
        "id": "Vxt23Cgsv6yO"
      }
    },
    {
      "cell_type": "code",
      "source": [
        "income = pd.read_csv(\"income.csv\")\n",
        "\n",
        "# Convert our prediction target column into a string\n",
        "income['income_>50K'] = income['income_>50K'].astype(str)\n",
        "\n",
        "income.head()"
      ],
      "metadata": {
        "colab": {
          "base_uri": "https://localhost:8080/",
          "height": 392
        },
        "id": "DQqmT3MSvYLU",
        "outputId": "e6d9d886-04a0-4b7f-a812-c2515cf57ddb"
      },
      "execution_count": null,
      "outputs": [
        {
          "output_type": "execute_result",
          "data": {
            "text/html": [
              "\n",
              "  <div id=\"df-08456604-94b8-4e61-9fb1-b77c48f61118\">\n",
              "    <div class=\"colab-df-container\">\n",
              "      <div>\n",
              "<style scoped>\n",
              "    .dataframe tbody tr th:only-of-type {\n",
              "        vertical-align: middle;\n",
              "    }\n",
              "\n",
              "    .dataframe tbody tr th {\n",
              "        vertical-align: top;\n",
              "    }\n",
              "\n",
              "    .dataframe thead th {\n",
              "        text-align: right;\n",
              "    }\n",
              "</style>\n",
              "<table border=\"1\" class=\"dataframe\">\n",
              "  <thead>\n",
              "    <tr style=\"text-align: right;\">\n",
              "      <th></th>\n",
              "      <th>age</th>\n",
              "      <th>workclass</th>\n",
              "      <th>fnlwgt</th>\n",
              "      <th>education</th>\n",
              "      <th>educational-num</th>\n",
              "      <th>marital-status</th>\n",
              "      <th>occupation</th>\n",
              "      <th>relationship</th>\n",
              "      <th>race</th>\n",
              "      <th>gender</th>\n",
              "      <th>capital-gain</th>\n",
              "      <th>capital-loss</th>\n",
              "      <th>hours-per-week</th>\n",
              "      <th>native-country</th>\n",
              "      <th>income_&gt;50K</th>\n",
              "    </tr>\n",
              "  </thead>\n",
              "  <tbody>\n",
              "    <tr>\n",
              "      <th>0</th>\n",
              "      <td>67</td>\n",
              "      <td>Private</td>\n",
              "      <td>366425</td>\n",
              "      <td>Doctorate</td>\n",
              "      <td>16</td>\n",
              "      <td>Divorced</td>\n",
              "      <td>Exec-managerial</td>\n",
              "      <td>Not-in-family</td>\n",
              "      <td>White</td>\n",
              "      <td>Male</td>\n",
              "      <td>99999</td>\n",
              "      <td>0</td>\n",
              "      <td>60</td>\n",
              "      <td>United-States</td>\n",
              "      <td>1</td>\n",
              "    </tr>\n",
              "    <tr>\n",
              "      <th>1</th>\n",
              "      <td>17</td>\n",
              "      <td>Private</td>\n",
              "      <td>244602</td>\n",
              "      <td>12th</td>\n",
              "      <td>8</td>\n",
              "      <td>Never-married</td>\n",
              "      <td>Other-service</td>\n",
              "      <td>Own-child</td>\n",
              "      <td>White</td>\n",
              "      <td>Male</td>\n",
              "      <td>0</td>\n",
              "      <td>0</td>\n",
              "      <td>15</td>\n",
              "      <td>United-States</td>\n",
              "      <td>0</td>\n",
              "    </tr>\n",
              "    <tr>\n",
              "      <th>2</th>\n",
              "      <td>31</td>\n",
              "      <td>Private</td>\n",
              "      <td>174201</td>\n",
              "      <td>Bachelors</td>\n",
              "      <td>13</td>\n",
              "      <td>Married-civ-spouse</td>\n",
              "      <td>Exec-managerial</td>\n",
              "      <td>Husband</td>\n",
              "      <td>White</td>\n",
              "      <td>Male</td>\n",
              "      <td>0</td>\n",
              "      <td>0</td>\n",
              "      <td>40</td>\n",
              "      <td>United-States</td>\n",
              "      <td>1</td>\n",
              "    </tr>\n",
              "    <tr>\n",
              "      <th>3</th>\n",
              "      <td>58</td>\n",
              "      <td>State-gov</td>\n",
              "      <td>110199</td>\n",
              "      <td>7th-8th</td>\n",
              "      <td>4</td>\n",
              "      <td>Married-civ-spouse</td>\n",
              "      <td>Transport-moving</td>\n",
              "      <td>Husband</td>\n",
              "      <td>White</td>\n",
              "      <td>Male</td>\n",
              "      <td>0</td>\n",
              "      <td>0</td>\n",
              "      <td>40</td>\n",
              "      <td>United-States</td>\n",
              "      <td>0</td>\n",
              "    </tr>\n",
              "    <tr>\n",
              "      <th>4</th>\n",
              "      <td>25</td>\n",
              "      <td>State-gov</td>\n",
              "      <td>149248</td>\n",
              "      <td>Some-college</td>\n",
              "      <td>10</td>\n",
              "      <td>Never-married</td>\n",
              "      <td>Other-service</td>\n",
              "      <td>Not-in-family</td>\n",
              "      <td>Black</td>\n",
              "      <td>Male</td>\n",
              "      <td>0</td>\n",
              "      <td>0</td>\n",
              "      <td>40</td>\n",
              "      <td>United-States</td>\n",
              "      <td>0</td>\n",
              "    </tr>\n",
              "  </tbody>\n",
              "</table>\n",
              "</div>\n",
              "      <button class=\"colab-df-convert\" onclick=\"convertToInteractive('df-08456604-94b8-4e61-9fb1-b77c48f61118')\"\n",
              "              title=\"Convert this dataframe to an interactive table.\"\n",
              "              style=\"display:none;\">\n",
              "        \n",
              "  <svg xmlns=\"http://www.w3.org/2000/svg\" height=\"24px\"viewBox=\"0 0 24 24\"\n",
              "       width=\"24px\">\n",
              "    <path d=\"M0 0h24v24H0V0z\" fill=\"none\"/>\n",
              "    <path d=\"M18.56 5.44l.94 2.06.94-2.06 2.06-.94-2.06-.94-.94-2.06-.94 2.06-2.06.94zm-11 1L8.5 8.5l.94-2.06 2.06-.94-2.06-.94L8.5 2.5l-.94 2.06-2.06.94zm10 10l.94 2.06.94-2.06 2.06-.94-2.06-.94-.94-2.06-.94 2.06-2.06.94z\"/><path d=\"M17.41 7.96l-1.37-1.37c-.4-.4-.92-.59-1.43-.59-.52 0-1.04.2-1.43.59L10.3 9.45l-7.72 7.72c-.78.78-.78 2.05 0 2.83L4 21.41c.39.39.9.59 1.41.59.51 0 1.02-.2 1.41-.59l7.78-7.78 2.81-2.81c.8-.78.8-2.07 0-2.86zM5.41 20L4 18.59l7.72-7.72 1.47 1.35L5.41 20z\"/>\n",
              "  </svg>\n",
              "      </button>\n",
              "      \n",
              "  <style>\n",
              "    .colab-df-container {\n",
              "      display:flex;\n",
              "      flex-wrap:wrap;\n",
              "      gap: 12px;\n",
              "    }\n",
              "\n",
              "    .colab-df-convert {\n",
              "      background-color: #E8F0FE;\n",
              "      border: none;\n",
              "      border-radius: 50%;\n",
              "      cursor: pointer;\n",
              "      display: none;\n",
              "      fill: #1967D2;\n",
              "      height: 32px;\n",
              "      padding: 0 0 0 0;\n",
              "      width: 32px;\n",
              "    }\n",
              "\n",
              "    .colab-df-convert:hover {\n",
              "      background-color: #E2EBFA;\n",
              "      box-shadow: 0px 1px 2px rgba(60, 64, 67, 0.3), 0px 1px 3px 1px rgba(60, 64, 67, 0.15);\n",
              "      fill: #174EA6;\n",
              "    }\n",
              "\n",
              "    [theme=dark] .colab-df-convert {\n",
              "      background-color: #3B4455;\n",
              "      fill: #D2E3FC;\n",
              "    }\n",
              "\n",
              "    [theme=dark] .colab-df-convert:hover {\n",
              "      background-color: #434B5C;\n",
              "      box-shadow: 0px 1px 3px 1px rgba(0, 0, 0, 0.15);\n",
              "      filter: drop-shadow(0px 1px 2px rgba(0, 0, 0, 0.3));\n",
              "      fill: #FFFFFF;\n",
              "    }\n",
              "  </style>\n",
              "\n",
              "      <script>\n",
              "        const buttonEl =\n",
              "          document.querySelector('#df-08456604-94b8-4e61-9fb1-b77c48f61118 button.colab-df-convert');\n",
              "        buttonEl.style.display =\n",
              "          google.colab.kernel.accessAllowed ? 'block' : 'none';\n",
              "\n",
              "        async function convertToInteractive(key) {\n",
              "          const element = document.querySelector('#df-08456604-94b8-4e61-9fb1-b77c48f61118');\n",
              "          const dataTable =\n",
              "            await google.colab.kernel.invokeFunction('convertToInteractive',\n",
              "                                                     [key], {});\n",
              "          if (!dataTable) return;\n",
              "\n",
              "          const docLinkHtml = 'Like what you see? Visit the ' +\n",
              "            '<a target=\"_blank\" href=https://colab.research.google.com/notebooks/data_table.ipynb>data table notebook</a>'\n",
              "            + ' to learn more about interactive tables.';\n",
              "          element.innerHTML = '';\n",
              "          dataTable['output_type'] = 'display_data';\n",
              "          await google.colab.output.renderOutput(dataTable, element);\n",
              "          const docLink = document.createElement('div');\n",
              "          docLink.innerHTML = docLinkHtml;\n",
              "          element.appendChild(docLink);\n",
              "        }\n",
              "      </script>\n",
              "    </div>\n",
              "  </div>\n",
              "  "
            ],
            "text/plain": [
              "   age  workclass  fnlwgt  ... hours-per-week  native-country income_>50K\n",
              "0   67    Private  366425  ...             60   United-States           1\n",
              "1   17    Private  244602  ...             15   United-States           0\n",
              "2   31    Private  174201  ...             40   United-States           1\n",
              "3   58  State-gov  110199  ...             40   United-States           0\n",
              "4   25  State-gov  149248  ...             40   United-States           0\n",
              "\n",
              "[5 rows x 15 columns]"
            ]
          },
          "metadata": {},
          "execution_count": 4
        }
      ]
    },
    {
      "cell_type": "markdown",
      "source": [
        "**ML Prediction Task:** Is the employee's salary >$50K? This is represented by the last, binary column `income_>50K`."
      ],
      "metadata": {
        "id": "ITW8zd38wT01"
      }
    },
    {
      "cell_type": "code",
      "source": [
        "income['income_>50K'].value_counts()"
      ],
      "metadata": {
        "colab": {
          "base_uri": "https://localhost:8080/"
        },
        "id": "qqAftZRewTQH",
        "outputId": "5fdd58b6-3bc6-4194-cfc6-cd70603c8f05"
      },
      "execution_count": null,
      "outputs": [
        {
          "output_type": "execute_result",
          "data": {
            "text/plain": [
              "0    33439\n",
              "1    10518\n",
              "Name: income_>50K, dtype: int64"
            ]
          },
          "metadata": {},
          "execution_count": 5
        }
      ]
    },
    {
      "cell_type": "markdown",
      "source": [
        "### Bank Dataset\n",
        "The [bank dataset](https://archive.ics.uci.edu/ml/datasets/Bank+Marketing)* comes from the UC Irvine Machine Learning data respository. Download the `bank-additional.zip` folder [from the site](https://archive.ics.uci.edu/ml/machine-learning-databases/00222/) and use the dataset called `bank-additional-full.csv`.\n",
        "\n",
        "This dataset contains marketing calls from a banking institution and includes data about the call recipient, such as age and marital status.\n",
        "\n",
        "\\**\\[Moro et al., 2014\\] S. Moro, P. Cortez and P. Rita. A Data-Driven Approach to Predict the Success of Bank Telemarketing. Decision Support Systems, Elsevier, 62:22-31, June 2014*"
      ],
      "metadata": {
        "id": "-vmiroY-wbDm"
      }
    },
    {
      "cell_type": "code",
      "source": [
        "bank = pd.read_csv(\"bank-additional-full.csv\", sep = \";\")\n",
        "bank.head()"
      ],
      "metadata": {
        "colab": {
          "base_uri": "https://localhost:8080/",
          "height": 270
        },
        "id": "nFlvtfehwLLe",
        "outputId": "4a5a8f79-2b75-45e0-9063-321a2fa8f3d9"
      },
      "execution_count": null,
      "outputs": [
        {
          "output_type": "execute_result",
          "data": {
            "text/html": [
              "\n",
              "  <div id=\"df-68c09066-23fa-4db9-a643-98628054195e\">\n",
              "    <div class=\"colab-df-container\">\n",
              "      <div>\n",
              "<style scoped>\n",
              "    .dataframe tbody tr th:only-of-type {\n",
              "        vertical-align: middle;\n",
              "    }\n",
              "\n",
              "    .dataframe tbody tr th {\n",
              "        vertical-align: top;\n",
              "    }\n",
              "\n",
              "    .dataframe thead th {\n",
              "        text-align: right;\n",
              "    }\n",
              "</style>\n",
              "<table border=\"1\" class=\"dataframe\">\n",
              "  <thead>\n",
              "    <tr style=\"text-align: right;\">\n",
              "      <th></th>\n",
              "      <th>age</th>\n",
              "      <th>job</th>\n",
              "      <th>marital</th>\n",
              "      <th>education</th>\n",
              "      <th>default</th>\n",
              "      <th>housing</th>\n",
              "      <th>loan</th>\n",
              "      <th>contact</th>\n",
              "      <th>month</th>\n",
              "      <th>day_of_week</th>\n",
              "      <th>duration</th>\n",
              "      <th>campaign</th>\n",
              "      <th>pdays</th>\n",
              "      <th>previous</th>\n",
              "      <th>poutcome</th>\n",
              "      <th>emp.var.rate</th>\n",
              "      <th>cons.price.idx</th>\n",
              "      <th>cons.conf.idx</th>\n",
              "      <th>euribor3m</th>\n",
              "      <th>nr.employed</th>\n",
              "      <th>y</th>\n",
              "    </tr>\n",
              "  </thead>\n",
              "  <tbody>\n",
              "    <tr>\n",
              "      <th>0</th>\n",
              "      <td>56</td>\n",
              "      <td>housemaid</td>\n",
              "      <td>married</td>\n",
              "      <td>basic.4y</td>\n",
              "      <td>no</td>\n",
              "      <td>no</td>\n",
              "      <td>no</td>\n",
              "      <td>telephone</td>\n",
              "      <td>may</td>\n",
              "      <td>mon</td>\n",
              "      <td>261</td>\n",
              "      <td>1</td>\n",
              "      <td>999</td>\n",
              "      <td>0</td>\n",
              "      <td>nonexistent</td>\n",
              "      <td>1.1</td>\n",
              "      <td>93.994</td>\n",
              "      <td>-36.4</td>\n",
              "      <td>4.857</td>\n",
              "      <td>5191.0</td>\n",
              "      <td>no</td>\n",
              "    </tr>\n",
              "    <tr>\n",
              "      <th>1</th>\n",
              "      <td>57</td>\n",
              "      <td>services</td>\n",
              "      <td>married</td>\n",
              "      <td>high.school</td>\n",
              "      <td>unknown</td>\n",
              "      <td>no</td>\n",
              "      <td>no</td>\n",
              "      <td>telephone</td>\n",
              "      <td>may</td>\n",
              "      <td>mon</td>\n",
              "      <td>149</td>\n",
              "      <td>1</td>\n",
              "      <td>999</td>\n",
              "      <td>0</td>\n",
              "      <td>nonexistent</td>\n",
              "      <td>1.1</td>\n",
              "      <td>93.994</td>\n",
              "      <td>-36.4</td>\n",
              "      <td>4.857</td>\n",
              "      <td>5191.0</td>\n",
              "      <td>no</td>\n",
              "    </tr>\n",
              "    <tr>\n",
              "      <th>2</th>\n",
              "      <td>37</td>\n",
              "      <td>services</td>\n",
              "      <td>married</td>\n",
              "      <td>high.school</td>\n",
              "      <td>no</td>\n",
              "      <td>yes</td>\n",
              "      <td>no</td>\n",
              "      <td>telephone</td>\n",
              "      <td>may</td>\n",
              "      <td>mon</td>\n",
              "      <td>226</td>\n",
              "      <td>1</td>\n",
              "      <td>999</td>\n",
              "      <td>0</td>\n",
              "      <td>nonexistent</td>\n",
              "      <td>1.1</td>\n",
              "      <td>93.994</td>\n",
              "      <td>-36.4</td>\n",
              "      <td>4.857</td>\n",
              "      <td>5191.0</td>\n",
              "      <td>no</td>\n",
              "    </tr>\n",
              "    <tr>\n",
              "      <th>3</th>\n",
              "      <td>40</td>\n",
              "      <td>admin.</td>\n",
              "      <td>married</td>\n",
              "      <td>basic.6y</td>\n",
              "      <td>no</td>\n",
              "      <td>no</td>\n",
              "      <td>no</td>\n",
              "      <td>telephone</td>\n",
              "      <td>may</td>\n",
              "      <td>mon</td>\n",
              "      <td>151</td>\n",
              "      <td>1</td>\n",
              "      <td>999</td>\n",
              "      <td>0</td>\n",
              "      <td>nonexistent</td>\n",
              "      <td>1.1</td>\n",
              "      <td>93.994</td>\n",
              "      <td>-36.4</td>\n",
              "      <td>4.857</td>\n",
              "      <td>5191.0</td>\n",
              "      <td>no</td>\n",
              "    </tr>\n",
              "    <tr>\n",
              "      <th>4</th>\n",
              "      <td>56</td>\n",
              "      <td>services</td>\n",
              "      <td>married</td>\n",
              "      <td>high.school</td>\n",
              "      <td>no</td>\n",
              "      <td>no</td>\n",
              "      <td>yes</td>\n",
              "      <td>telephone</td>\n",
              "      <td>may</td>\n",
              "      <td>mon</td>\n",
              "      <td>307</td>\n",
              "      <td>1</td>\n",
              "      <td>999</td>\n",
              "      <td>0</td>\n",
              "      <td>nonexistent</td>\n",
              "      <td>1.1</td>\n",
              "      <td>93.994</td>\n",
              "      <td>-36.4</td>\n",
              "      <td>4.857</td>\n",
              "      <td>5191.0</td>\n",
              "      <td>no</td>\n",
              "    </tr>\n",
              "  </tbody>\n",
              "</table>\n",
              "</div>\n",
              "      <button class=\"colab-df-convert\" onclick=\"convertToInteractive('df-68c09066-23fa-4db9-a643-98628054195e')\"\n",
              "              title=\"Convert this dataframe to an interactive table.\"\n",
              "              style=\"display:none;\">\n",
              "        \n",
              "  <svg xmlns=\"http://www.w3.org/2000/svg\" height=\"24px\"viewBox=\"0 0 24 24\"\n",
              "       width=\"24px\">\n",
              "    <path d=\"M0 0h24v24H0V0z\" fill=\"none\"/>\n",
              "    <path d=\"M18.56 5.44l.94 2.06.94-2.06 2.06-.94-2.06-.94-.94-2.06-.94 2.06-2.06.94zm-11 1L8.5 8.5l.94-2.06 2.06-.94-2.06-.94L8.5 2.5l-.94 2.06-2.06.94zm10 10l.94 2.06.94-2.06 2.06-.94-2.06-.94-.94-2.06-.94 2.06-2.06.94z\"/><path d=\"M17.41 7.96l-1.37-1.37c-.4-.4-.92-.59-1.43-.59-.52 0-1.04.2-1.43.59L10.3 9.45l-7.72 7.72c-.78.78-.78 2.05 0 2.83L4 21.41c.39.39.9.59 1.41.59.51 0 1.02-.2 1.41-.59l7.78-7.78 2.81-2.81c.8-.78.8-2.07 0-2.86zM5.41 20L4 18.59l7.72-7.72 1.47 1.35L5.41 20z\"/>\n",
              "  </svg>\n",
              "      </button>\n",
              "      \n",
              "  <style>\n",
              "    .colab-df-container {\n",
              "      display:flex;\n",
              "      flex-wrap:wrap;\n",
              "      gap: 12px;\n",
              "    }\n",
              "\n",
              "    .colab-df-convert {\n",
              "      background-color: #E8F0FE;\n",
              "      border: none;\n",
              "      border-radius: 50%;\n",
              "      cursor: pointer;\n",
              "      display: none;\n",
              "      fill: #1967D2;\n",
              "      height: 32px;\n",
              "      padding: 0 0 0 0;\n",
              "      width: 32px;\n",
              "    }\n",
              "\n",
              "    .colab-df-convert:hover {\n",
              "      background-color: #E2EBFA;\n",
              "      box-shadow: 0px 1px 2px rgba(60, 64, 67, 0.3), 0px 1px 3px 1px rgba(60, 64, 67, 0.15);\n",
              "      fill: #174EA6;\n",
              "    }\n",
              "\n",
              "    [theme=dark] .colab-df-convert {\n",
              "      background-color: #3B4455;\n",
              "      fill: #D2E3FC;\n",
              "    }\n",
              "\n",
              "    [theme=dark] .colab-df-convert:hover {\n",
              "      background-color: #434B5C;\n",
              "      box-shadow: 0px 1px 3px 1px rgba(0, 0, 0, 0.15);\n",
              "      filter: drop-shadow(0px 1px 2px rgba(0, 0, 0, 0.3));\n",
              "      fill: #FFFFFF;\n",
              "    }\n",
              "  </style>\n",
              "\n",
              "      <script>\n",
              "        const buttonEl =\n",
              "          document.querySelector('#df-68c09066-23fa-4db9-a643-98628054195e button.colab-df-convert');\n",
              "        buttonEl.style.display =\n",
              "          google.colab.kernel.accessAllowed ? 'block' : 'none';\n",
              "\n",
              "        async function convertToInteractive(key) {\n",
              "          const element = document.querySelector('#df-68c09066-23fa-4db9-a643-98628054195e');\n",
              "          const dataTable =\n",
              "            await google.colab.kernel.invokeFunction('convertToInteractive',\n",
              "                                                     [key], {});\n",
              "          if (!dataTable) return;\n",
              "\n",
              "          const docLinkHtml = 'Like what you see? Visit the ' +\n",
              "            '<a target=\"_blank\" href=https://colab.research.google.com/notebooks/data_table.ipynb>data table notebook</a>'\n",
              "            + ' to learn more about interactive tables.';\n",
              "          element.innerHTML = '';\n",
              "          dataTable['output_type'] = 'display_data';\n",
              "          await google.colab.output.renderOutput(dataTable, element);\n",
              "          const docLink = document.createElement('div');\n",
              "          docLink.innerHTML = docLinkHtml;\n",
              "          element.appendChild(docLink);\n",
              "        }\n",
              "      </script>\n",
              "    </div>\n",
              "  </div>\n",
              "  "
            ],
            "text/plain": [
              "   age        job  marital  ... euribor3m nr.employed   y\n",
              "0   56  housemaid  married  ...     4.857      5191.0  no\n",
              "1   57   services  married  ...     4.857      5191.0  no\n",
              "2   37   services  married  ...     4.857      5191.0  no\n",
              "3   40     admin.  married  ...     4.857      5191.0  no\n",
              "4   56   services  married  ...     4.857      5191.0  no\n",
              "\n",
              "[5 rows x 21 columns]"
            ]
          },
          "metadata": {},
          "execution_count": 6
        }
      ]
    },
    {
      "cell_type": "markdown",
      "source": [
        "**ML Prediction Task:** Did the recipient subscribe to the new product? This is represented by the final, binary column named `y`."
      ],
      "metadata": {
        "id": "9ItoQ1l8wqxk"
      }
    },
    {
      "cell_type": "code",
      "source": [
        "bank['y'].value_counts()"
      ],
      "metadata": {
        "colab": {
          "base_uri": "https://localhost:8080/"
        },
        "id": "XCan5plbwn6N",
        "outputId": "0b3c6d9c-4212-41e2-9732-80518b64009e"
      },
      "execution_count": null,
      "outputs": [
        {
          "output_type": "execute_result",
          "data": {
            "text/plain": [
              "no     36548\n",
              "yes     4640\n",
              "Name: y, dtype: int64"
            ]
          },
          "metadata": {},
          "execution_count": 7
        }
      ]
    },
    {
      "cell_type": "markdown",
      "source": [
        "### Airline Dataset\n",
        "The [Airline Dataset](https://www.kaggle.com/teejmahal20/airline-passenger-satisfaction?select=train.csv) comes from Kaggle. Download `train.csv` to get the data.\n",
        "\n",
        "The dataset contains the of a survey given to passengers, including attributes like flight distance and loyalty status."
      ],
      "metadata": {
        "id": "TKj2yv-EwxzG"
      }
    },
    {
      "cell_type": "code",
      "source": [
        "airline = pd.read_csv(\"airline.csv\")\n",
        "airline.head()"
      ],
      "metadata": {
        "colab": {
          "base_uri": "https://localhost:8080/",
          "height": 409
        },
        "id": "RCFKqRgTwtiq",
        "outputId": "daa24043-236f-4388-e3f0-57fbecac7237"
      },
      "execution_count": null,
      "outputs": [
        {
          "output_type": "execute_result",
          "data": {
            "text/html": [
              "\n",
              "  <div id=\"df-7ebdd72a-09d8-4884-b56b-02b862bfce4e\">\n",
              "    <div class=\"colab-df-container\">\n",
              "      <div>\n",
              "<style scoped>\n",
              "    .dataframe tbody tr th:only-of-type {\n",
              "        vertical-align: middle;\n",
              "    }\n",
              "\n",
              "    .dataframe tbody tr th {\n",
              "        vertical-align: top;\n",
              "    }\n",
              "\n",
              "    .dataframe thead th {\n",
              "        text-align: right;\n",
              "    }\n",
              "</style>\n",
              "<table border=\"1\" class=\"dataframe\">\n",
              "  <thead>\n",
              "    <tr style=\"text-align: right;\">\n",
              "      <th></th>\n",
              "      <th>Unnamed: 0</th>\n",
              "      <th>id</th>\n",
              "      <th>Gender</th>\n",
              "      <th>Customer Type</th>\n",
              "      <th>Age</th>\n",
              "      <th>Type of Travel</th>\n",
              "      <th>Class</th>\n",
              "      <th>Flight Distance</th>\n",
              "      <th>Inflight wifi service</th>\n",
              "      <th>Departure/Arrival time convenient</th>\n",
              "      <th>Ease of Online booking</th>\n",
              "      <th>Gate location</th>\n",
              "      <th>Food and drink</th>\n",
              "      <th>Online boarding</th>\n",
              "      <th>Seat comfort</th>\n",
              "      <th>Inflight entertainment</th>\n",
              "      <th>On-board service</th>\n",
              "      <th>Leg room service</th>\n",
              "      <th>Baggage handling</th>\n",
              "      <th>Checkin service</th>\n",
              "      <th>Inflight service</th>\n",
              "      <th>Cleanliness</th>\n",
              "      <th>Departure Delay in Minutes</th>\n",
              "      <th>Arrival Delay in Minutes</th>\n",
              "      <th>satisfaction</th>\n",
              "    </tr>\n",
              "  </thead>\n",
              "  <tbody>\n",
              "    <tr>\n",
              "      <th>0</th>\n",
              "      <td>0</td>\n",
              "      <td>70172</td>\n",
              "      <td>Male</td>\n",
              "      <td>Loyal Customer</td>\n",
              "      <td>13</td>\n",
              "      <td>Personal Travel</td>\n",
              "      <td>Eco Plus</td>\n",
              "      <td>460</td>\n",
              "      <td>3</td>\n",
              "      <td>4</td>\n",
              "      <td>3</td>\n",
              "      <td>1</td>\n",
              "      <td>5</td>\n",
              "      <td>3</td>\n",
              "      <td>5</td>\n",
              "      <td>5</td>\n",
              "      <td>4</td>\n",
              "      <td>3</td>\n",
              "      <td>4</td>\n",
              "      <td>4</td>\n",
              "      <td>5</td>\n",
              "      <td>5</td>\n",
              "      <td>25</td>\n",
              "      <td>18.0</td>\n",
              "      <td>neutral or dissatisfied</td>\n",
              "    </tr>\n",
              "    <tr>\n",
              "      <th>1</th>\n",
              "      <td>1</td>\n",
              "      <td>5047</td>\n",
              "      <td>Male</td>\n",
              "      <td>disloyal Customer</td>\n",
              "      <td>25</td>\n",
              "      <td>Business travel</td>\n",
              "      <td>Business</td>\n",
              "      <td>235</td>\n",
              "      <td>3</td>\n",
              "      <td>2</td>\n",
              "      <td>3</td>\n",
              "      <td>3</td>\n",
              "      <td>1</td>\n",
              "      <td>3</td>\n",
              "      <td>1</td>\n",
              "      <td>1</td>\n",
              "      <td>1</td>\n",
              "      <td>5</td>\n",
              "      <td>3</td>\n",
              "      <td>1</td>\n",
              "      <td>4</td>\n",
              "      <td>1</td>\n",
              "      <td>1</td>\n",
              "      <td>6.0</td>\n",
              "      <td>neutral or dissatisfied</td>\n",
              "    </tr>\n",
              "    <tr>\n",
              "      <th>2</th>\n",
              "      <td>2</td>\n",
              "      <td>110028</td>\n",
              "      <td>Female</td>\n",
              "      <td>Loyal Customer</td>\n",
              "      <td>26</td>\n",
              "      <td>Business travel</td>\n",
              "      <td>Business</td>\n",
              "      <td>1142</td>\n",
              "      <td>2</td>\n",
              "      <td>2</td>\n",
              "      <td>2</td>\n",
              "      <td>2</td>\n",
              "      <td>5</td>\n",
              "      <td>5</td>\n",
              "      <td>5</td>\n",
              "      <td>5</td>\n",
              "      <td>4</td>\n",
              "      <td>3</td>\n",
              "      <td>4</td>\n",
              "      <td>4</td>\n",
              "      <td>4</td>\n",
              "      <td>5</td>\n",
              "      <td>0</td>\n",
              "      <td>0.0</td>\n",
              "      <td>satisfied</td>\n",
              "    </tr>\n",
              "    <tr>\n",
              "      <th>3</th>\n",
              "      <td>3</td>\n",
              "      <td>24026</td>\n",
              "      <td>Female</td>\n",
              "      <td>Loyal Customer</td>\n",
              "      <td>25</td>\n",
              "      <td>Business travel</td>\n",
              "      <td>Business</td>\n",
              "      <td>562</td>\n",
              "      <td>2</td>\n",
              "      <td>5</td>\n",
              "      <td>5</td>\n",
              "      <td>5</td>\n",
              "      <td>2</td>\n",
              "      <td>2</td>\n",
              "      <td>2</td>\n",
              "      <td>2</td>\n",
              "      <td>2</td>\n",
              "      <td>5</td>\n",
              "      <td>3</td>\n",
              "      <td>1</td>\n",
              "      <td>4</td>\n",
              "      <td>2</td>\n",
              "      <td>11</td>\n",
              "      <td>9.0</td>\n",
              "      <td>neutral or dissatisfied</td>\n",
              "    </tr>\n",
              "    <tr>\n",
              "      <th>4</th>\n",
              "      <td>4</td>\n",
              "      <td>119299</td>\n",
              "      <td>Male</td>\n",
              "      <td>Loyal Customer</td>\n",
              "      <td>61</td>\n",
              "      <td>Business travel</td>\n",
              "      <td>Business</td>\n",
              "      <td>214</td>\n",
              "      <td>3</td>\n",
              "      <td>3</td>\n",
              "      <td>3</td>\n",
              "      <td>3</td>\n",
              "      <td>4</td>\n",
              "      <td>5</td>\n",
              "      <td>5</td>\n",
              "      <td>3</td>\n",
              "      <td>3</td>\n",
              "      <td>4</td>\n",
              "      <td>4</td>\n",
              "      <td>3</td>\n",
              "      <td>3</td>\n",
              "      <td>3</td>\n",
              "      <td>0</td>\n",
              "      <td>0.0</td>\n",
              "      <td>satisfied</td>\n",
              "    </tr>\n",
              "  </tbody>\n",
              "</table>\n",
              "</div>\n",
              "      <button class=\"colab-df-convert\" onclick=\"convertToInteractive('df-7ebdd72a-09d8-4884-b56b-02b862bfce4e')\"\n",
              "              title=\"Convert this dataframe to an interactive table.\"\n",
              "              style=\"display:none;\">\n",
              "        \n",
              "  <svg xmlns=\"http://www.w3.org/2000/svg\" height=\"24px\"viewBox=\"0 0 24 24\"\n",
              "       width=\"24px\">\n",
              "    <path d=\"M0 0h24v24H0V0z\" fill=\"none\"/>\n",
              "    <path d=\"M18.56 5.44l.94 2.06.94-2.06 2.06-.94-2.06-.94-.94-2.06-.94 2.06-2.06.94zm-11 1L8.5 8.5l.94-2.06 2.06-.94-2.06-.94L8.5 2.5l-.94 2.06-2.06.94zm10 10l.94 2.06.94-2.06 2.06-.94-2.06-.94-.94-2.06-.94 2.06-2.06.94z\"/><path d=\"M17.41 7.96l-1.37-1.37c-.4-.4-.92-.59-1.43-.59-.52 0-1.04.2-1.43.59L10.3 9.45l-7.72 7.72c-.78.78-.78 2.05 0 2.83L4 21.41c.39.39.9.59 1.41.59.51 0 1.02-.2 1.41-.59l7.78-7.78 2.81-2.81c.8-.78.8-2.07 0-2.86zM5.41 20L4 18.59l7.72-7.72 1.47 1.35L5.41 20z\"/>\n",
              "  </svg>\n",
              "      </button>\n",
              "      \n",
              "  <style>\n",
              "    .colab-df-container {\n",
              "      display:flex;\n",
              "      flex-wrap:wrap;\n",
              "      gap: 12px;\n",
              "    }\n",
              "\n",
              "    .colab-df-convert {\n",
              "      background-color: #E8F0FE;\n",
              "      border: none;\n",
              "      border-radius: 50%;\n",
              "      cursor: pointer;\n",
              "      display: none;\n",
              "      fill: #1967D2;\n",
              "      height: 32px;\n",
              "      padding: 0 0 0 0;\n",
              "      width: 32px;\n",
              "    }\n",
              "\n",
              "    .colab-df-convert:hover {\n",
              "      background-color: #E2EBFA;\n",
              "      box-shadow: 0px 1px 2px rgba(60, 64, 67, 0.3), 0px 1px 3px 1px rgba(60, 64, 67, 0.15);\n",
              "      fill: #174EA6;\n",
              "    }\n",
              "\n",
              "    [theme=dark] .colab-df-convert {\n",
              "      background-color: #3B4455;\n",
              "      fill: #D2E3FC;\n",
              "    }\n",
              "\n",
              "    [theme=dark] .colab-df-convert:hover {\n",
              "      background-color: #434B5C;\n",
              "      box-shadow: 0px 1px 3px 1px rgba(0, 0, 0, 0.15);\n",
              "      filter: drop-shadow(0px 1px 2px rgba(0, 0, 0, 0.3));\n",
              "      fill: #FFFFFF;\n",
              "    }\n",
              "  </style>\n",
              "\n",
              "      <script>\n",
              "        const buttonEl =\n",
              "          document.querySelector('#df-7ebdd72a-09d8-4884-b56b-02b862bfce4e button.colab-df-convert');\n",
              "        buttonEl.style.display =\n",
              "          google.colab.kernel.accessAllowed ? 'block' : 'none';\n",
              "\n",
              "        async function convertToInteractive(key) {\n",
              "          const element = document.querySelector('#df-7ebdd72a-09d8-4884-b56b-02b862bfce4e');\n",
              "          const dataTable =\n",
              "            await google.colab.kernel.invokeFunction('convertToInteractive',\n",
              "                                                     [key], {});\n",
              "          if (!dataTable) return;\n",
              "\n",
              "          const docLinkHtml = 'Like what you see? Visit the ' +\n",
              "            '<a target=\"_blank\" href=https://colab.research.google.com/notebooks/data_table.ipynb>data table notebook</a>'\n",
              "            + ' to learn more about interactive tables.';\n",
              "          element.innerHTML = '';\n",
              "          dataTable['output_type'] = 'display_data';\n",
              "          await google.colab.output.renderOutput(dataTable, element);\n",
              "          const docLink = document.createElement('div');\n",
              "          docLink.innerHTML = docLinkHtml;\n",
              "          element.appendChild(docLink);\n",
              "        }\n",
              "      </script>\n",
              "    </div>\n",
              "  </div>\n",
              "  "
            ],
            "text/plain": [
              "   Unnamed: 0      id  ... Arrival Delay in Minutes             satisfaction\n",
              "0           0   70172  ...                     18.0  neutral or dissatisfied\n",
              "1           1    5047  ...                      6.0  neutral or dissatisfied\n",
              "2           2  110028  ...                      0.0                satisfied\n",
              "3           3   24026  ...                      9.0  neutral or dissatisfied\n",
              "4           4  119299  ...                      0.0                satisfied\n",
              "\n",
              "[5 rows x 25 columns]"
            ]
          },
          "metadata": {},
          "execution_count": 8
        }
      ]
    },
    {
      "cell_type": "markdown",
      "source": [
        "**ML Prediction Task:** Was the passenger satisfied with the flight? This is represented by the final column named `satisfaction`"
      ],
      "metadata": {
        "id": "N0lV744_w8Yp"
      }
    },
    {
      "cell_type": "code",
      "source": [
        "airline['satisfaction'].value_counts()"
      ],
      "metadata": {
        "colab": {
          "base_uri": "https://localhost:8080/"
        },
        "id": "6oJKY1a1w6Qy",
        "outputId": "aae8a399-a9a8-46b4-e4fa-f5c426cb6ee7"
      },
      "execution_count": null,
      "outputs": [
        {
          "output_type": "execute_result",
          "data": {
            "text/plain": [
              "neutral or dissatisfied    58879\n",
              "satisfied                  45025\n",
              "Name: satisfaction, dtype: int64"
            ]
          },
          "metadata": {},
          "execution_count": 9
        }
      ]
    },
    {
      "cell_type": "markdown",
      "source": [
        "## Original Data (Control)\n",
        "\n",
        "Now that we've loaded our datasets, let's evaluate the general difficulty of performing the ML task for each of our datasets.\n",
        "\n",
        "First, we'll need to split each of our datasets into separate `train` and `test` chunks. We'll use the train data as input for building the ML model and then evaluate it by predicting values for the test data."
      ],
      "metadata": {
        "id": "19e-QE3JxFYP"
      }
    },
    {
      "cell_type": "code",
      "source": [
        "from sklearn.model_selection import train_test_split\n",
        "\n",
        "income_train, income_test = train_test_split(income, test_size = 0.2, shuffle = True)\n",
        "bank_train, bank_test = train_test_split(bank, test_size = 0.2, shuffle = True)\n",
        "airline_train, airline_test = train_test_split(airline, test_size = 0.2, shuffle = True)"
      ],
      "metadata": {
        "id": "9yBEKGV-xBEy"
      },
      "execution_count": null,
      "outputs": []
    },
    {
      "cell_type": "markdown",
      "source": [
        "We'll build & test our ML models using the [SDMetrics](https://github.com/sdv-dev/SDMetrics) library. In particular, the [ML Efficacy](https://sdv.dev/SDV/user_guides/evaluation/single_table_metrics.html#machine-learning-efficacy-metrics) metrics evaluate the data by building an ML model and evaluating its performance. Let's use the Binary Decision Tree Classifier and Binary Logistic Regression models."
      ],
      "metadata": {
        "id": "x8YM0FZcxPMF"
      }
    },
    {
      "cell_type": "code",
      "source": [
        "# SDV contains a wrapper for the SDMetrics we need\n",
        "from sdv.metrics.tabular import BinaryDecisionTreeClassifier, BinaryLogisticRegression\n",
        "\n",
        "# Format our input & test data\n",
        "dataset_names = ['income', 'bank', 'airline']\n",
        "inputs = [income_train, bank_train, airline_train]\n",
        "tests = [income_test, bank_test, airline_test]\n",
        "\n",
        "results = {}\n",
        "\n",
        "# Iterate through each dataset and collect results\n",
        "for i in range(3):\n",
        "  dataset = dataset_names[i]\n",
        "  train = inputs[i]\n",
        "  test = tests[i]\n",
        "\n",
        "  # the column we're trying to predict is always the last one\n",
        "  target_col = train.columns[-1]\n",
        "\n",
        "  # Create & evaluate the ML models\n",
        "  tree = BinaryDecisionTreeClassifier.compute(test, train, target=target_col)\n",
        "  lr = BinaryLogisticRegression.compute(test, train, target=target_col)\n",
        "\n",
        "  # Save results\n",
        "  results[dataset] = {}\n",
        "  results[dataset]['Tree'] = tree\n",
        "  results[dataset]['LR'] = lr"
      ],
      "metadata": {
        "id": "c9EyZnVzxMcO"
      },
      "execution_count": null,
      "outputs": []
    },
    {
      "cell_type": "markdown",
      "source": [
        "The results are now available in our dictionary."
      ],
      "metadata": {
        "id": "6HxQmLWcxalw"
      }
    },
    {
      "cell_type": "code",
      "source": [
        "print('Income:', results['income'])\n",
        "print('Bank:', results['bank'])\n",
        "print('Airline:', results['airline'])"
      ],
      "metadata": {
        "colab": {
          "base_uri": "https://localhost:8080/"
        },
        "id": "MxYfEelcxYLv",
        "outputId": "1314b0a6-f69a-47f0-d9ee-9733bff63227"
      },
      "execution_count": null,
      "outputs": [
        {
          "output_type": "stream",
          "name": "stdout",
          "text": [
            "Income: {'Tree': 0.8668974957726064, 'LR': 0.8710565651797657}\n",
            "Bank:  {'Tree': 0.9241970021413276, 'LR': 0.9108780165774224}\n",
            "Airline:  {'Tree': 0.9564958537103977, 'LR': 0.8837069225143054}\n"
          ]
        }
      ]
    },
    {
      "cell_type": "markdown",
      "source": [
        "These results form our **control**. This helps us identify the difficulty of the ML task. After all, prediction on some datasets is be harder than others just based on the nature of the data.\n",
        "\n",
        "From looking at these results, it seems like the ML task is hardest for the Income Dataset, as we aren't able to obtain high scores compared to the rest."
      ],
      "metadata": {
        "id": "2twmoatYxtKF"
      }
    },
    {
      "cell_type": "markdown",
      "source": [
        "## Synthetic Data (Experiment)\n",
        "\n",
        "Let's see what happens when we use synthetic data for our ML modeling rather than real data. This is our **experiment** case. We'll compare the results from these ML models to the ones that were trained on the real data."
      ],
      "metadata": {
        "id": "W-2PdEiPyWcK"
      }
    },
    {
      "cell_type": "markdown",
      "source": [
        "## Generating the synthetic data\n",
        "\n",
        "First, we need to generate the synthetic data. In this experiment, we used the SDV's [CopulaGAN](https://sdv.dev/SDV/user_guides/single_table/copulagan.html) to create the synthetic datasets.\n",
        "\n",
        "**Note:** Generating the synthetic data using CouplaGAN may take some time. We've saved synthetic data from a previous run."
      ],
      "metadata": {
        "id": "OccEEIqOycxL"
      }
    },
    {
      "cell_type": "code",
      "source": [
        "income_synthetic = pd.read_csv(\"income_synthetic.csv\")\n",
        "income_synthetic['income_>50K'] = income_synthetic['income_>50K'].astype(str)\n",
        "\n",
        "bank_synthetic = pd.read_csv(\"bank_synthetic.csv\")\n",
        "airline_synthetic = pd.read_csv(\"airline_synthetic.csv\")"
      ],
      "metadata": {
        "id": "d1fYG_cKxh9m"
      },
      "execution_count": null,
      "outputs": []
    },
    {
      "cell_type": "markdown",
      "source": [
        "The cell below contains the code we used to generate the synthetic datasets. You can uncomment and run it to generate your own synthetic data.\n",
        "\n",
        "**Warning: This may take a few hours to complete.**"
      ],
      "metadata": {
        "id": "i3kM9NpXy8a4"
      }
    },
    {
      "cell_type": "code",
      "source": [
        "# Uncomment the lines below to run CopulaGAN and regenerate the synthetic data\n",
        "\n",
        "# from sdv.tabular import CopulaGAN\n",
        "\n",
        "# # Income Dataset\n",
        "# income_model = CopulaGAN()\n",
        "# income_model.fit(income_train)\n",
        "# income_synthetic = income_model.sample(income_train.shape[0])\n",
        "\n",
        "# # Bank Dataset\n",
        "# bank_model = CopulaGAN()\n",
        "# bank_model.fit(bank_train)\n",
        "# bank_synthetic = bank_model.sample(bank_train.shape[0])\n",
        "\n",
        "# # Airline dataset\n",
        "# airline_model = CopulaGAN()\n",
        "# airline_model.fit(airline_train)\n",
        "# airline_synthetic = airline_model.sample(airline_train.shape[0])"
      ],
      "metadata": {
        "id": "KafThmRuy5Gq"
      },
      "execution_count": null,
      "outputs": []
    },
    {
      "cell_type": "markdown",
      "source": [
        "## Evaluating the synthetic data\n",
        "\n",
        "Now that we have our synthetic data, we can evaluate how effective it is to use when developing ML models.\n",
        "\n",
        "Similar to the original data (control), we'll use the Binary Decision Tree Classifier and Binary Logistic Regression models."
      ],
      "metadata": {
        "id": "OsvkycDpzFbs"
      }
    },
    {
      "cell_type": "code",
      "source": [
        "synth_inputs = [income_synthetic, bank_synthetic, airline_synthetic]\n",
        "\n",
        "# Iterate through each dataset and collect results\n",
        "for i in range(3):\n",
        "  dataset = dataset_names[i]\n",
        "  train = synth_inputs[i]\n",
        "  test = tests[i]\n",
        "\n",
        "  # the column we're trying to predict is always the last one\n",
        "  target_col = train.columns[-1]\n",
        "\n",
        "  # Create & evaluate the ML models\n",
        "  tree = BinaryDecisionTreeClassifier.compute(test, train, target=target_col)\n",
        "  lr = BinaryLogisticRegression.compute(test, train, target=target_col)\n",
        "\n",
        "  # Save results\n",
        "  results[dataset]['Synth_Tree'] = tree\n",
        "  results[dataset]['Synth_LR'] = lr"
      ],
      "metadata": {
        "id": "xbfeOUR2zFqQ"
      },
      "execution_count": null,
      "outputs": []
    },
    {
      "cell_type": "markdown",
      "source": [
        "# Final results\n",
        "\n",
        "Now we can compare the ML efficacy when we use the original data versus synthetic data.\n",
        "\n",
        "The raw results from our run is printed below."
      ],
      "metadata": {
        "id": "YRv5LY8NzXmC"
      }
    },
    {
      "cell_type": "code",
      "source": [
        "print('Income Dataset')\n",
        "print('Original Logistic:', results['income']['LR'])\n",
        "print('Synthetic Logistic:', results['income']['Synth_LR'])\n",
        "\n",
        "print('Original Tree:', results['income']['Tree'])\n",
        "print('Synthetic Tree:', results['income']['Synth_Tree'], '\\n')\n",
        "\n",
        "print('Bank Dataset')\n",
        "print('Original Logistic:', results['bank']['LR'])\n",
        "print('Synthetic Logistic:', results['bank']['Synth_LR'])\n",
        "\n",
        "print('Original Tree:', results['bank']['Tree'])\n",
        "print('Synthetic Tree:', results['bank']['Synth_Tree'], '\\n')\n",
        "\n",
        "print('Airline Dataset')\n",
        "print('Original Logistic:', results['airline']['LR'])\n",
        "print('Synthetic Logistic:', results['airline']['Synth_LR'])\n",
        "\n",
        "print('Original Tree:', results['airline']['Tree'])\n",
        "print('Synthetic Tree:', results['airline']['Synth_Tree'])"
      ],
      "metadata": {
        "colab": {
          "base_uri": "https://localhost:8080/"
        },
        "id": "WM1G8yvBzH0r",
        "outputId": "15070afa-5fe1-4477-9da9-6e1c515be822"
      },
      "execution_count": null,
      "outputs": [
        {
          "output_type": "stream",
          "name": "stdout",
          "text": [
            "Income Dataset\n",
            "Original Logistic: 0.8682084587359418\n",
            "Synthetic Logistic: 0.8194074710176041\n",
            "Original Tree: 0.8569550571029497\n",
            "Synthetic Tree: 0.8423617315032892 \n",
            "\n",
            "Bank Dataset\n",
            "Original Logistic: 0.5899490167516388\n",
            "Synthetic Logistic: 0.5916632942128693\n",
            "Original Tree: 0.5805637358014304\n",
            "Synthetic Tree: 0.4659038901601831 \n",
            "\n",
            "Airline Dataset\n",
            "Original Logistic: 0.8848334967807956\n",
            "Synthetic Logistic: 0.8709287257019438\n",
            "Original Tree: 0.9580192850225273\n",
            "Synthetic Tree: 0.8928825771857065\n"
          ]
        }
      ]
    },
    {
      "cell_type": "markdown",
      "source": [
        "We can also compute the accuracy lost in switching from the original data to synthetic data."
      ],
      "metadata": {
        "id": "HzvU6LXrzrlp"
      }
    },
    {
      "cell_type": "code",
      "source": [
        "def compute_loss(dataset, metric):\n",
        "  control = results[dataset][metric]\n",
        "  synth = results[dataset]['Synth_' + metric]\n",
        "\n",
        "  return 100 - (synth/control * 100)\n",
        "\n",
        "print('Income Accuracy Loss')\n",
        "print('Logistic:', compute_loss('income', 'LR'), '%')\n",
        "print('Tree:', compute_loss('income', 'Tree'), '%\\n')\n",
        "\n",
        "print('Bank Accuracy Loss')\n",
        "print('Logistic:', compute_loss('bank', 'LR'), '%')\n",
        "print('Tree:', compute_loss('bank', 'Tree'), '%\\n')\n",
        "\n",
        "print('Airline Accuracy Loss')\n",
        "print('Logistic:', compute_loss('airline', 'LR'), '%')\n",
        "print('Tree:', compute_loss('airline', 'Tree'), '%')"
      ],
      "metadata": {
        "colab": {
          "base_uri": "https://localhost:8080/"
        },
        "id": "JFD3k4YmzrMy",
        "outputId": "0febde27-a8ce-42c9-9071-2a1c730629f6"
      },
      "execution_count": null,
      "outputs": [
        {
          "output_type": "stream",
          "name": "stdout",
          "text": [
            "Income Accuracy Loss\n",
            "Logistic: 5.620883697607468 %\n",
            "Tree: 1.7029277648462937 %\n",
            "\n",
            "Bank Accuracy Loss\n",
            "Logistic: -0.29058061163821947 %\n",
            "Tree: 19.749742977481503 %\n",
            "\n",
            "Airline Accuracy Loss\n",
            "Logistic: 1.5714562264471397 %\n",
            "Tree: 6.799101944517659 %\n"
          ]
        }
      ]
    },
    {
      "cell_type": "markdown",
      "source": [
        "**Important note: There were many probabilistic processes involved in our process.**\n",
        "\n",
        "*   Splitting data into `test`/`train` sets\n",
        "*   Generating the synthetic data\n",
        "*   Developing the Logistic Regression & Tree Classifiers\n",
        "\n",
        "For accurate results, it's important to re-run the process multiple times and take the average."
      ],
      "metadata": {
        "id": "w9Q6hGIRzy0p"
      }
    },
    {
      "cell_type": "markdown",
      "source": [
        "## Published Results\n",
        "\n",
        "For our blog article, we re-ran the process 3 times for each dataset and averaged the results. They are encoded below."
      ],
      "metadata": {
        "id": "-iw8CX3xz2r0"
      }
    },
    {
      "cell_type": "code",
      "source": [
        "raw_data = {\n",
        "        'Dataset': ['Income', 'Income', 'Bank', 'Bank', 'Airline', 'Airline'],\n",
        "        'Metric': ['LR', 'Tree', 'LR', 'Tree', 'LR', 'Tree'],\n",
        "        'Original(%)': [87.2, 85.9, 91.3, 92.8, 87.6, 95.4],\n",
        "        'Synthetic(%)': [83.7, 84.1, 89.8, 89.1, 86.2, 86.9]}\n",
        "\n",
        "all_results = pd.DataFrame(data=raw_data)\n",
        "\n",
        "all_results['Diff(%)'] = all_results['Original(%)'] - all_results['Synthetic(%)']\n",
        "all_results['Norm_Diff(%)'] = (1 - (all_results['Synthetic(%)']/all_results['Original(%)']))*100"
      ],
      "metadata": {
        "id": "619s91mUzdCQ"
      },
      "execution_count": null,
      "outputs": []
    },
    {
      "cell_type": "code",
      "source": [
        "all_results"
      ],
      "metadata": {
        "id": "SOTF2FnBz4ny",
        "outputId": "4563ab50-d9db-4c8a-8e02-fe5be36000f3",
        "colab": {
          "base_uri": "https://localhost:8080/",
          "height": 238
        }
      },
      "execution_count": null,
      "outputs": [
        {
          "output_type": "execute_result",
          "data": {
            "text/html": [
              "\n",
              "  <div id=\"df-7ebb234a-0118-4333-8e06-1ea7a2434f4c\">\n",
              "    <div class=\"colab-df-container\">\n",
              "      <div>\n",
              "<style scoped>\n",
              "    .dataframe tbody tr th:only-of-type {\n",
              "        vertical-align: middle;\n",
              "    }\n",
              "\n",
              "    .dataframe tbody tr th {\n",
              "        vertical-align: top;\n",
              "    }\n",
              "\n",
              "    .dataframe thead th {\n",
              "        text-align: right;\n",
              "    }\n",
              "</style>\n",
              "<table border=\"1\" class=\"dataframe\">\n",
              "  <thead>\n",
              "    <tr style=\"text-align: right;\">\n",
              "      <th></th>\n",
              "      <th>Dataset</th>\n",
              "      <th>Metric</th>\n",
              "      <th>Original(%)</th>\n",
              "      <th>Synthetic(%)</th>\n",
              "      <th>Diff(%)</th>\n",
              "      <th>Norm_Diff(%)</th>\n",
              "    </tr>\n",
              "  </thead>\n",
              "  <tbody>\n",
              "    <tr>\n",
              "      <th>0</th>\n",
              "      <td>Income</td>\n",
              "      <td>LR</td>\n",
              "      <td>87.2</td>\n",
              "      <td>83.7</td>\n",
              "      <td>3.5</td>\n",
              "      <td>4.013761</td>\n",
              "    </tr>\n",
              "    <tr>\n",
              "      <th>1</th>\n",
              "      <td>Income</td>\n",
              "      <td>Tree</td>\n",
              "      <td>85.9</td>\n",
              "      <td>84.1</td>\n",
              "      <td>1.8</td>\n",
              "      <td>2.095460</td>\n",
              "    </tr>\n",
              "    <tr>\n",
              "      <th>2</th>\n",
              "      <td>Bank</td>\n",
              "      <td>LR</td>\n",
              "      <td>91.3</td>\n",
              "      <td>89.8</td>\n",
              "      <td>1.5</td>\n",
              "      <td>1.642935</td>\n",
              "    </tr>\n",
              "    <tr>\n",
              "      <th>3</th>\n",
              "      <td>Bank</td>\n",
              "      <td>Tree</td>\n",
              "      <td>92.8</td>\n",
              "      <td>89.1</td>\n",
              "      <td>3.7</td>\n",
              "      <td>3.987069</td>\n",
              "    </tr>\n",
              "    <tr>\n",
              "      <th>4</th>\n",
              "      <td>Airline</td>\n",
              "      <td>LR</td>\n",
              "      <td>87.6</td>\n",
              "      <td>86.2</td>\n",
              "      <td>1.4</td>\n",
              "      <td>1.598174</td>\n",
              "    </tr>\n",
              "    <tr>\n",
              "      <th>5</th>\n",
              "      <td>Airline</td>\n",
              "      <td>Tree</td>\n",
              "      <td>95.4</td>\n",
              "      <td>86.9</td>\n",
              "      <td>8.5</td>\n",
              "      <td>8.909853</td>\n",
              "    </tr>\n",
              "  </tbody>\n",
              "</table>\n",
              "</div>\n",
              "      <button class=\"colab-df-convert\" onclick=\"convertToInteractive('df-7ebb234a-0118-4333-8e06-1ea7a2434f4c')\"\n",
              "              title=\"Convert this dataframe to an interactive table.\"\n",
              "              style=\"display:none;\">\n",
              "        \n",
              "  <svg xmlns=\"http://www.w3.org/2000/svg\" height=\"24px\"viewBox=\"0 0 24 24\"\n",
              "       width=\"24px\">\n",
              "    <path d=\"M0 0h24v24H0V0z\" fill=\"none\"/>\n",
              "    <path d=\"M18.56 5.44l.94 2.06.94-2.06 2.06-.94-2.06-.94-.94-2.06-.94 2.06-2.06.94zm-11 1L8.5 8.5l.94-2.06 2.06-.94-2.06-.94L8.5 2.5l-.94 2.06-2.06.94zm10 10l.94 2.06.94-2.06 2.06-.94-2.06-.94-.94-2.06-.94 2.06-2.06.94z\"/><path d=\"M17.41 7.96l-1.37-1.37c-.4-.4-.92-.59-1.43-.59-.52 0-1.04.2-1.43.59L10.3 9.45l-7.72 7.72c-.78.78-.78 2.05 0 2.83L4 21.41c.39.39.9.59 1.41.59.51 0 1.02-.2 1.41-.59l7.78-7.78 2.81-2.81c.8-.78.8-2.07 0-2.86zM5.41 20L4 18.59l7.72-7.72 1.47 1.35L5.41 20z\"/>\n",
              "  </svg>\n",
              "      </button>\n",
              "      \n",
              "  <style>\n",
              "    .colab-df-container {\n",
              "      display:flex;\n",
              "      flex-wrap:wrap;\n",
              "      gap: 12px;\n",
              "    }\n",
              "\n",
              "    .colab-df-convert {\n",
              "      background-color: #E8F0FE;\n",
              "      border: none;\n",
              "      border-radius: 50%;\n",
              "      cursor: pointer;\n",
              "      display: none;\n",
              "      fill: #1967D2;\n",
              "      height: 32px;\n",
              "      padding: 0 0 0 0;\n",
              "      width: 32px;\n",
              "    }\n",
              "\n",
              "    .colab-df-convert:hover {\n",
              "      background-color: #E2EBFA;\n",
              "      box-shadow: 0px 1px 2px rgba(60, 64, 67, 0.3), 0px 1px 3px 1px rgba(60, 64, 67, 0.15);\n",
              "      fill: #174EA6;\n",
              "    }\n",
              "\n",
              "    [theme=dark] .colab-df-convert {\n",
              "      background-color: #3B4455;\n",
              "      fill: #D2E3FC;\n",
              "    }\n",
              "\n",
              "    [theme=dark] .colab-df-convert:hover {\n",
              "      background-color: #434B5C;\n",
              "      box-shadow: 0px 1px 3px 1px rgba(0, 0, 0, 0.15);\n",
              "      filter: drop-shadow(0px 1px 2px rgba(0, 0, 0, 0.3));\n",
              "      fill: #FFFFFF;\n",
              "    }\n",
              "  </style>\n",
              "\n",
              "      <script>\n",
              "        const buttonEl =\n",
              "          document.querySelector('#df-7ebb234a-0118-4333-8e06-1ea7a2434f4c button.colab-df-convert');\n",
              "        buttonEl.style.display =\n",
              "          google.colab.kernel.accessAllowed ? 'block' : 'none';\n",
              "\n",
              "        async function convertToInteractive(key) {\n",
              "          const element = document.querySelector('#df-7ebb234a-0118-4333-8e06-1ea7a2434f4c');\n",
              "          const dataTable =\n",
              "            await google.colab.kernel.invokeFunction('convertToInteractive',\n",
              "                                                     [key], {});\n",
              "          if (!dataTable) return;\n",
              "\n",
              "          const docLinkHtml = 'Like what you see? Visit the ' +\n",
              "            '<a target=\"_blank\" href=https://colab.research.google.com/notebooks/data_table.ipynb>data table notebook</a>'\n",
              "            + ' to learn more about interactive tables.';\n",
              "          element.innerHTML = '';\n",
              "          dataTable['output_type'] = 'display_data';\n",
              "          await google.colab.output.renderOutput(dataTable, element);\n",
              "          const docLink = document.createElement('div');\n",
              "          docLink.innerHTML = docLinkHtml;\n",
              "          element.appendChild(docLink);\n",
              "        }\n",
              "      </script>\n",
              "    </div>\n",
              "  </div>\n",
              "  "
            ],
            "text/plain": [
              "   Dataset Metric  Original(%)  Synthetic(%)  Diff(%)  Norm_Diff(%)\n",
              "0   Income     LR         87.2          83.7      3.5      4.013761\n",
              "1   Income   Tree         85.9          84.1      1.8      2.095460\n",
              "2     Bank     LR         91.3          89.8      1.5      1.642935\n",
              "3     Bank   Tree         92.8          89.1      3.7      3.987069\n",
              "4  Airline     LR         87.6          86.2      1.4      1.598174\n",
              "5  Airline   Tree         95.4          86.9      8.5      8.909853"
            ]
          },
          "metadata": {},
          "execution_count": 26
        }
      ]
    },
    {
      "cell_type": "markdown",
      "source": [
        "## Conclusions\n",
        "\n",
        "From looking at the published data, we can draw a few conclusions.\n",
        "\n",
        "1. The original data quantifies the general difficulty of the ML task. Income Dataset is the hardest task, as neither of our methods were able to get above 90% accuracy on the original data.\n",
        "2. Comparing the `Original` and `Synthetic` datasets allows us to quantify the sutiability of synthetic data for ML development. Our results show a loss of between 1 and 9% of the original values with a median loss of roughly 2.5%.\n",
        "3. We expect the actual loss to be even lower. In the real-world, the synthetic data quality can be improved through using constraints and tuning hyperparameters. Additionally, improved ML techniques (beyond Binary Tree Classifier & Logistic Regression) can be developed on the synthetic data and re-deployed on the real data.\n",
        "\n",
        "\n",
        "Considering our results, we assess that **it is reasonable to replace the original data with synthetic data for the purpose of ML development**. So go ahead and try giving your ML development team synthetic data. You might be pleasantly surprised with the results!"
      ],
      "metadata": {
        "id": "lIbdMxLIz_EH"
      }
    }
  ]
}