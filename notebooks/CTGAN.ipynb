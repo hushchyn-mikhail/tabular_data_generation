{
  "nbformat": 4,
  "nbformat_minor": 0,
  "metadata": {
    "colab": {
      "provenance": []
    },
    "kernelspec": {
      "name": "python3",
      "display_name": "Python 3"
    },
    "language_info": {
      "name": "python"
    }
  },
  "cells": [
    {
      "cell_type": "code",
      "execution_count": 1,
      "metadata": {
        "id": "BNF5R71GXviB"
      },
      "outputs": [],
      "source": [
        "%%capture\n",
        "\n",
        "!pip install sdv\n",
        "!pip install ucimlrepo"
      ]
    },
    {
      "cell_type": "code",
      "source": [
        "import sdv\n",
        "from ctgan import CTGAN\n",
        "from ucimlrepo import fetch_ucirepo\n",
        "import pandas as pd\n",
        "import numpy as np\n",
        "from sklearn.model_selection import train_test_split, GridSearchCV\n",
        "from xgboost import XGBClassifier\n",
        "from sklearn.metrics import roc_auc_score\n",
        "from sklearn.preprocessing import LabelEncoder\n",
        "import warnings"
      ],
      "metadata": {
        "id": "mzkm8O123B_W"
      },
      "execution_count": 10,
      "outputs": []
    },
    {
      "cell_type": "code",
      "source": [
        "warnings.filterwarnings('ignore')"
      ],
      "metadata": {
        "id": "N6MIpsIwhgYW"
      },
      "execution_count": 3,
      "outputs": []
    },
    {
      "cell_type": "markdown",
      "source": [
        "## Loading data"
      ],
      "metadata": {
        "id": "g9i1LxetzkIN"
      }
    },
    {
      "cell_type": "code",
      "source": [
        "# fetch dataset\n",
        "adult = fetch_ucirepo(id=2)\n",
        "\n",
        "# data (as pandas dataframes)\n",
        "X = adult.data.features\n",
        "y = adult.data.targets\n",
        "\n",
        "# metadata\n",
        "print(adult.metadata)\n",
        "\n",
        "# variable information\n",
        "print(adult.variables)"
      ],
      "metadata": {
        "id": "Ohnd7g3Q438M",
        "colab": {
          "base_uri": "https://localhost:8080/"
        },
        "outputId": "5a32f663-4ef9-4a10-e39a-6a1d8a4d8c33"
      },
      "execution_count": 11,
      "outputs": [
        {
          "output_type": "stream",
          "name": "stdout",
          "text": [
            "{'uci_id': 2, 'name': 'Adult', 'repository_url': 'https://archive.ics.uci.edu/dataset/2/adult', 'data_url': 'https://archive.ics.uci.edu/static/public/2/data.csv', 'abstract': 'Predict whether annual income of an individual exceeds $50K/yr based on census data. Also known as \"Census Income\" dataset. ', 'area': 'Social Science', 'tasks': ['Classification'], 'characteristics': ['Multivariate'], 'num_instances': 48842, 'num_features': 14, 'feature_types': ['Categorical', 'Integer'], 'demographics': ['Age', 'Income', 'Education Level', 'Other', 'Race', 'Sex'], 'target_col': ['income'], 'index_col': None, 'has_missing_values': 'yes', 'missing_values_symbol': 'NaN', 'year_of_dataset_creation': 1996, 'last_updated': 'Tue Sep 24 2024', 'dataset_doi': '10.24432/C5XW20', 'creators': ['Barry Becker', 'Ronny Kohavi'], 'intro_paper': None, 'additional_info': {'summary': \"Extraction was done by Barry Becker from the 1994 Census database.  A set of reasonably clean records was extracted using the following conditions: ((AAGE>16) && (AGI>100) && (AFNLWGT>1)&& (HRSWK>0))\\n\\nPrediction task is to determine whether a person's income is over $50,000 a year.\\n\", 'purpose': None, 'funded_by': None, 'instances_represent': None, 'recommended_data_splits': None, 'sensitive_data': None, 'preprocessing_description': None, 'variable_info': 'Listing of attributes:\\r\\n\\r\\n>50K, <=50K.\\r\\n\\r\\nage: continuous.\\r\\nworkclass: Private, Self-emp-not-inc, Self-emp-inc, Federal-gov, Local-gov, State-gov, Without-pay, Never-worked.\\r\\nfnlwgt: continuous.\\r\\neducation: Bachelors, Some-college, 11th, HS-grad, Prof-school, Assoc-acdm, Assoc-voc, 9th, 7th-8th, 12th, Masters, 1st-4th, 10th, Doctorate, 5th-6th, Preschool.\\r\\neducation-num: continuous.\\r\\nmarital-status: Married-civ-spouse, Divorced, Never-married, Separated, Widowed, Married-spouse-absent, Married-AF-spouse.\\r\\noccupation: Tech-support, Craft-repair, Other-service, Sales, Exec-managerial, Prof-specialty, Handlers-cleaners, Machine-op-inspct, Adm-clerical, Farming-fishing, Transport-moving, Priv-house-serv, Protective-serv, Armed-Forces.\\r\\nrelationship: Wife, Own-child, Husband, Not-in-family, Other-relative, Unmarried.\\r\\nrace: White, Asian-Pac-Islander, Amer-Indian-Eskimo, Other, Black.\\r\\nsex: Female, Male.\\r\\ncapital-gain: continuous.\\r\\ncapital-loss: continuous.\\r\\nhours-per-week: continuous.\\r\\nnative-country: United-States, Cambodia, England, Puerto-Rico, Canada, Germany, Outlying-US(Guam-USVI-etc), India, Japan, Greece, South, China, Cuba, Iran, Honduras, Philippines, Italy, Poland, Jamaica, Vietnam, Mexico, Portugal, Ireland, France, Dominican-Republic, Laos, Ecuador, Taiwan, Haiti, Columbia, Hungary, Guatemala, Nicaragua, Scotland, Thailand, Yugoslavia, El-Salvador, Trinadad&Tobago, Peru, Hong, Holand-Netherlands.', 'citation': None}}\n",
            "              name     role         type      demographic  \\\n",
            "0              age  Feature      Integer              Age   \n",
            "1        workclass  Feature  Categorical           Income   \n",
            "2           fnlwgt  Feature      Integer             None   \n",
            "3        education  Feature  Categorical  Education Level   \n",
            "4    education-num  Feature      Integer  Education Level   \n",
            "5   marital-status  Feature  Categorical            Other   \n",
            "6       occupation  Feature  Categorical            Other   \n",
            "7     relationship  Feature  Categorical            Other   \n",
            "8             race  Feature  Categorical             Race   \n",
            "9              sex  Feature       Binary              Sex   \n",
            "10    capital-gain  Feature      Integer             None   \n",
            "11    capital-loss  Feature      Integer             None   \n",
            "12  hours-per-week  Feature      Integer             None   \n",
            "13  native-country  Feature  Categorical            Other   \n",
            "14          income   Target       Binary           Income   \n",
            "\n",
            "                                          description units missing_values  \n",
            "0                                                 N/A  None             no  \n",
            "1   Private, Self-emp-not-inc, Self-emp-inc, Feder...  None            yes  \n",
            "2                                                None  None             no  \n",
            "3    Bachelors, Some-college, 11th, HS-grad, Prof-...  None             no  \n",
            "4                                                None  None             no  \n",
            "5   Married-civ-spouse, Divorced, Never-married, S...  None             no  \n",
            "6   Tech-support, Craft-repair, Other-service, Sal...  None            yes  \n",
            "7   Wife, Own-child, Husband, Not-in-family, Other...  None             no  \n",
            "8   White, Asian-Pac-Islander, Amer-Indian-Eskimo,...  None             no  \n",
            "9                                       Female, Male.  None             no  \n",
            "10                                               None  None             no  \n",
            "11                                               None  None             no  \n",
            "12                                               None  None             no  \n",
            "13  United-States, Cambodia, England, Puerto-Rico,...  None            yes  \n",
            "14                                       >50K, <=50K.  None             no  \n"
          ]
        }
      ]
    },
    {
      "cell_type": "code",
      "source": [
        "y['income'] = y['income'].str.replace('.', '', regex=False)"
      ],
      "metadata": {
        "id": "c3oKMqDLjO72"
      },
      "execution_count": 12,
      "outputs": []
    },
    {
      "cell_type": "code",
      "source": [
        "all_data = pd.concat([X, y], axis=1)"
      ],
      "metadata": {
        "id": "-vL0L3Lai7b-"
      },
      "execution_count": 13,
      "outputs": []
    },
    {
      "cell_type": "markdown",
      "source": [
        "## Fit CTGAN"
      ],
      "metadata": {
        "id": "UGG1wimxbHyo"
      }
    },
    {
      "cell_type": "code",
      "source": [
        "# Names of the columns that are discrete\n",
        "discrete_columns = [\n",
        "    'workclass',\n",
        "    'education',\n",
        "    'marital-status',\n",
        "    'occupation',\n",
        "    'relationship',\n",
        "    'race',\n",
        "    'sex',\n",
        "    'native-country',\n",
        "    'income'\n",
        "]\n",
        "\n",
        "ctgan = CTGAN(epochs=100)\n",
        "ctgan.fit(all_data, discrete_columns)\n",
        "\n",
        "# Create synthetic data\n",
        "#synthetic_data = ctgan.sample(1000)"
      ],
      "metadata": {
        "id": "JaZmGvI93pN-"
      },
      "execution_count": 14,
      "outputs": []
    },
    {
      "cell_type": "markdown",
      "source": [
        "## Classification results"
      ],
      "metadata": {
        "id": "qPs-i8k3bX1J"
      }
    },
    {
      "cell_type": "code",
      "source": [
        "def preprocess_data(data):\n",
        "    df = data.copy()\n",
        "\n",
        "    le_dict = {}\n",
        "    for column in discrete_columns:\n",
        "        if column in df.columns:\n",
        "            le = LabelEncoder()\n",
        "            df[column] = le.fit_transform(df[column].astype(str))\n",
        "            le_dict[column] = le\n",
        "\n",
        "    return df, le_dict\n",
        "\n",
        "\n",
        "def train_and_evaluate(X_train, X_test, y_train, y_test, n_splits=20):\n",
        "    param_grid = {\n",
        "        'n_estimators': [10, 50, 100],\n",
        "        'min_child_weight': [5, 10, 20],\n",
        "        'max_depth': [1, 10],\n",
        "        'gamma': [0.0, 1.0]\n",
        "    }\n",
        "\n",
        "    scores = []\n",
        "\n",
        "    for i in range(n_splits):\n",
        "        X_train_split, X_val, y_train_split, y_val = train_test_split(\n",
        "            X_train, y_train, test_size=0.111, random_state=i\n",
        "        )\n",
        "\n",
        "        model = XGBClassifier(use_label_encoder=False, eval_metric='logloss')\n",
        "        grid_search = GridSearchCV(\n",
        "            model, param_grid, scoring='roc_auc', cv=3\n",
        "        )\n",
        "\n",
        "        grid_search.fit(X_train_split, y_train_split)\n",
        "\n",
        "        best_model = XGBClassifier(**grid_search.best_params_,\n",
        "                                 use_label_encoder=False,\n",
        "                                 eval_metric='auc')\n",
        "\n",
        "        best_model.fit(X_train, y_train)\n",
        "\n",
        "        y_pred = best_model.predict_proba(X_test)[:, 1]\n",
        "        score = roc_auc_score(y_test, y_pred)\n",
        "        scores.append(score)\n",
        "\n",
        "    return np.mean(scores), np.std(scores)\n",
        "\n",
        "X_processed, le_dict = preprocess_data(X)\n",
        "y_processed = LabelEncoder().fit_transform(y)\n",
        "\n",
        "X_train_real, X_test, y_train_real, y_test = train_test_split(\n",
        "    X_processed, y_processed, test_size=0.2, random_state=42\n",
        ")\n",
        "\n",
        "# Generate synthetic data of the same size\n",
        "synthetic_data = ctgan.sample(len(X_train_real))\n",
        "synthetic_data_processed, _ = preprocess_data(synthetic_data)\n",
        "\n",
        "synthetic_y = synthetic_data_processed['income']\n",
        "synthetic_X = synthetic_data_processed.drop('income', axis=1)\n",
        "\n",
        "\n",
        "real_mean, real_std = train_and_evaluate(\n",
        "    X_train_real, X_test, y_train_real, y_test\n",
        ")\n",
        "\n",
        "synthetic_mean, synthetic_std = train_and_evaluate(\n",
        "    synthetic_X, X_test, synthetic_y, y_test\n",
        ")\n",
        "\n",
        "print(\"Результаты оценки классификаторов:\")\n",
        "print(f\"Реальные данные - AUC: {real_mean:.3f} ± {real_std:.3f}\")\n",
        "print(f\"Синтетические данные - AUC: {synthetic_mean:.3f} ± {synthetic_std:.3f}\")"
      ],
      "metadata": {
        "id": "umPwqfZr7r7c",
        "colab": {
          "base_uri": "https://localhost:8080/"
        },
        "outputId": "e64388ba-e720-411d-ad9d-24b32287d11c"
      },
      "execution_count": 15,
      "outputs": [
        {
          "output_type": "stream",
          "name": "stdout",
          "text": [
            "Результаты оценки классификаторов:\n",
            "Реальные данные - AUC: 0.923 ± 0.001\n",
            "Синтетические данные - AUC: 0.873 ± 0.000\n"
          ]
        }
      ]
    }
  ]
}