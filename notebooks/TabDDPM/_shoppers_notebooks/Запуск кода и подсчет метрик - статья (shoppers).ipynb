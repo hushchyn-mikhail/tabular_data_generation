{
 "cells": [
  {
   "cell_type": "markdown",
   "metadata": {},
   "source": [
    "В этом ноутбуке берется переписанный код статьи и проверяется корректность его запуска, а именно, что итоговые метрики будут похожи на предоставленные в статье."
   ]
  },
  {
   "cell_type": "code",
   "execution_count": 1,
   "metadata": {},
   "outputs": [
    {
     "name": "stdout",
     "output_type": "stream",
     "text": [
      "/workspace/TabDDPM_copy/TabDDPM\n"
     ]
    },
    {
     "name": "stderr",
     "output_type": "stream",
     "text": [
      "/venv/main/lib/python3.10/site-packages/IPython/core/magics/osm.py:417: UserWarning: This is now an optional IPython functionality, setting dhist requires you to install the `pickleshare` library.\n",
      "  self.shell.db['dhist'] = compress_dhist(dhist)[-100:]\n"
     ]
    }
   ],
   "source": [
    "%cd .."
   ]
  },
  {
   "cell_type": "code",
   "execution_count": 2,
   "metadata": {
    "executionInfo": {
     "elapsed": 11435,
     "status": "ok",
     "timestamp": 1742850942286,
     "user": {
      "displayName": "Elina Telesheva",
      "userId": "03968090829384653347"
     },
     "user_tz": -180
    },
    "id": "o77KHt0w3DWc"
   },
   "outputs": [],
   "source": [
    "import json\n",
    "import pandas as pd\n",
    "import torch\n",
    "import matplotlib.pyplot as plt\n",
    "\n",
    "from utils import *\n",
    "from models.tabddpm.tabddpm import *\n",
    "\n",
    "from tqdm.notebook import tqdm"
   ]
  },
  {
   "cell_type": "code",
   "execution_count": 3,
   "metadata": {},
   "outputs": [],
   "source": [
    "model_name = 'tabddpm'\n",
    "dataname = 'shoppers'\n",
    "dataname_initial = dataname\n",
    "model_name_postfix=''"
   ]
  },
  {
   "cell_type": "code",
   "execution_count": 4,
   "metadata": {
    "executionInfo": {
     "elapsed": 18,
     "status": "ok",
     "timestamp": 1742849874658,
     "user": {
      "displayName": "Elina Telesheva",
      "userId": "03968090829384653347"
     },
     "user_tz": -180
    },
    "id": "o9DuAPKa2yey"
   },
   "outputs": [],
   "source": [
    "with open('./config.json', 'w', encoding='utf-8') as f:\n",
    "    json.dump({\n",
    "        'path': 'tabddpm.json',\n",
    "        'model_name':'tabddpm'\n",
    "    }, f, ensure_ascii=False, indent=4)"
   ]
  },
  {
   "cell_type": "code",
   "execution_count": 5,
   "metadata": {
    "executionInfo": {
     "elapsed": 24,
     "status": "ok",
     "timestamp": 1742849874685,
     "user": {
      "displayName": "Elina Telesheva",
      "userId": "03968090829384653347"
     },
     "user_tz": -180
    },
    "id": "mDTuHIDqlu0n"
   },
   "outputs": [
    {
     "name": "stdout",
     "output_type": "stream",
     "text": [
      "Start processing dataset shoppers from UCI.\n",
      "Aready downloaded.\n",
      "shoppers (11097, 18) (1233, 18) (12330, 18)\n"
     ]
    },
    {
     "name": "stderr",
     "output_type": "stream",
     "text": [
      "/workspace/TabDDPM_copy/TabDDPM/utils.py:268: FutureWarning: Setting an item of incompatible dtype is deprecated and will raise an error in a future version of pandas. Value 'nan' has dtype incompatible with int64, please explicitly cast to a compatible dtype first.\n",
      "  train_df.loc[train_df[col] == '?', col] = 'nan'\n",
      "/workspace/TabDDPM_copy/TabDDPM/utils.py:268: FutureWarning: Setting an item of incompatible dtype is deprecated and will raise an error in a future version of pandas. Value 'nan' has dtype incompatible with int64, please explicitly cast to a compatible dtype first.\n",
      "  train_df.loc[train_df[col] == '?', col] = 'nan'\n",
      "/workspace/TabDDPM_copy/TabDDPM/utils.py:268: FutureWarning: Setting an item of incompatible dtype is deprecated and will raise an error in a future version of pandas. Value 'nan' has dtype incompatible with int64, please explicitly cast to a compatible dtype first.\n",
      "  train_df.loc[train_df[col] == '?', col] = 'nan'\n",
      "/workspace/TabDDPM_copy/TabDDPM/utils.py:268: FutureWarning: Setting an item of incompatible dtype is deprecated and will raise an error in a future version of pandas. Value 'nan' has dtype incompatible with int64, please explicitly cast to a compatible dtype first.\n",
      "  train_df.loc[train_df[col] == '?', col] = 'nan'\n",
      "/workspace/TabDDPM_copy/TabDDPM/utils.py:268: FutureWarning: Setting an item of incompatible dtype is deprecated and will raise an error in a future version of pandas. Value 'nan' has dtype incompatible with bool, please explicitly cast to a compatible dtype first.\n",
      "  train_df.loc[train_df[col] == '?', col] = 'nan'\n",
      "/workspace/TabDDPM_copy/TabDDPM/utils.py:272: FutureWarning: Setting an item of incompatible dtype is deprecated and will raise an error in a future version of pandas. Value 'nan' has dtype incompatible with int64, please explicitly cast to a compatible dtype first.\n",
      "  test_df.loc[test_df[col] == '?', col] = 'nan'\n",
      "/workspace/TabDDPM_copy/TabDDPM/utils.py:272: FutureWarning: Setting an item of incompatible dtype is deprecated and will raise an error in a future version of pandas. Value 'nan' has dtype incompatible with int64, please explicitly cast to a compatible dtype first.\n",
      "  test_df.loc[test_df[col] == '?', col] = 'nan'\n",
      "/workspace/TabDDPM_copy/TabDDPM/utils.py:272: FutureWarning: Setting an item of incompatible dtype is deprecated and will raise an error in a future version of pandas. Value 'nan' has dtype incompatible with int64, please explicitly cast to a compatible dtype first.\n",
      "  test_df.loc[test_df[col] == '?', col] = 'nan'\n",
      "/workspace/TabDDPM_copy/TabDDPM/utils.py:272: FutureWarning: Setting an item of incompatible dtype is deprecated and will raise an error in a future version of pandas. Value 'nan' has dtype incompatible with int64, please explicitly cast to a compatible dtype first.\n",
      "  test_df.loc[test_df[col] == '?', col] = 'nan'\n",
      "/workspace/TabDDPM_copy/TabDDPM/utils.py:272: FutureWarning: Setting an item of incompatible dtype is deprecated and will raise an error in a future version of pandas. Value 'nan' has dtype incompatible with bool, please explicitly cast to a compatible dtype first.\n",
      "  test_df.loc[test_df[col] == '?', col] = 'nan'\n"
     ]
    },
    {
     "name": "stdout",
     "output_type": "stream",
     "text": [
      "Numerical (11097, 10)\n",
      "Categorical (11097, 7)\n",
      "Processing and Saving shoppers Successfully!\n",
      "shoppers\n",
      "Total 12330\n",
      "Train 11097\n",
      "Test 1233\n",
      "Num 10\n",
      "Cat 8\n"
     ]
    }
   ],
   "source": [
    "download_dataset(dataname)\n",
    "process_data(dataname)"
   ]
  },
  {
   "cell_type": "code",
   "execution_count": 6,
   "metadata": {},
   "outputs": [
    {
     "data": {
      "text/plain": [
       "{'dataname': 'shoppers',\n",
       " 'method': 'tabddpm',\n",
       " 'device': 'cuda',\n",
       " 'mode': 'train',\n",
       " 'train': 1,\n",
       " 'sample_save_path': 'synthetic/shoppers/tabddpm.csv',\n",
       " 'sigma_scheduller_name': 'constant',\n",
       " 'sigma_value': 0.001,\n",
       " 'num_noise': 103,\n",
       " 'real_path': 'synthetic/shoppers/real.csv',\n",
       " 'test_path': 'synthetic/shoppers/test.csv',\n",
       " 'info_path': 'data/shoppers/info.json',\n",
       " 'save_path': './synthetic/x/initial_tabddpm_test.csv'}"
      ]
     },
     "execution_count": 6,
     "metadata": {},
     "output_type": "execute_result"
    }
   ],
   "source": [
    "CONFIG.get_all_args()"
   ]
  },
  {
   "cell_type": "markdown",
   "metadata": {
    "id": "O1OrGo4GoOJ1"
   },
   "source": [
    "### Подготовка"
   ]
  },
  {
   "cell_type": "code",
   "execution_count": 4,
   "metadata": {
    "executionInfo": {
     "elapsed": 4,
     "status": "ok",
     "timestamp": 1742849874691,
     "user": {
      "displayName": "Elina Telesheva",
      "userId": "03968090829384653347"
     },
     "user_tz": -180
    },
    "id": "HDL4dxAaubQa"
   },
   "outputs": [],
   "source": [
    "CONFIG.add_arg('dataname', dataname)\n",
    "CONFIG.add_arg('method', model_name)"
   ]
  },
  {
   "cell_type": "code",
   "execution_count": 5,
   "metadata": {
    "colab": {
     "base_uri": "https://localhost:8080/"
    },
    "executionInfo": {
     "elapsed": 163,
     "status": "ok",
     "timestamp": 1742849874855,
     "user": {
      "displayName": "Elina Telesheva",
      "userId": "03968090829384653347"
     },
     "user_tz": -180
    },
    "id": "VsKZydqtt3mn",
    "outputId": "6c5765d8-cd82-4629-d27b-51ed0d5dd820"
   },
   "outputs": [
    {
     "name": "stdout",
     "output_type": "stream",
     "text": [
      "Device: cuda\n"
     ]
    }
   ],
   "source": [
    "if torch.cuda.is_available():\n",
    "    device = f'cuda'\n",
    "else:\n",
    "    device = 'cpu'\n",
    "CONFIG.add_arg('device', device)\n",
    "print(f\"Device: {device}\")\n",
    "\n",
    "\n",
    "CONFIG.add_arg('sample_save_path',\n",
    "               f\"synthetic/{CONFIG.get_arg('dataname')}/{CONFIG.get_arg('method')}.csv\")\n",
    "CONFIG.add_arg('real_path',\n",
    "               f\"synthetic/{CONFIG.get_arg('dataname')}/real.csv\")\n",
    "CONFIG.add_arg('test_path',\n",
    "               f\"synthetic/{CONFIG.get_arg('dataname')}/test.csv\")\n",
    "CONFIG.add_arg('info_path',\n",
    "               f\"data/{CONFIG.get_arg('dataname')}/info.json\")"
   ]
  },
  {
   "cell_type": "code",
   "execution_count": 6,
   "metadata": {
    "colab": {
     "base_uri": "https://localhost:8080/"
    },
    "executionInfo": {
     "elapsed": 63,
     "status": "ok",
     "timestamp": 1742849874933,
     "user": {
      "displayName": "Elina Telesheva",
      "userId": "03968090829384653347"
     },
     "user_tz": -180
    },
    "id": "gFtvnuj1tjB7",
    "outputId": "c2b24970-cea9-4ae2-feff-45c29f92788a"
   },
   "outputs": [
    {
     "data": {
      "text/plain": [
       "{'dataname': 'shoppers',\n",
       " 'method': 'tabddpm',\n",
       " 'device': 'cuda',\n",
       " 'mode': 'train',\n",
       " 'train': 1,\n",
       " 'sample_save_path': 'synthetic/shoppers/tabddpm.csv',\n",
       " 'sigma_scheduller_name': 'constant',\n",
       " 'sigma_value': 0.001,\n",
       " 'num_noise': 1,\n",
       " 'real_path': 'synthetic/shoppers/real.csv',\n",
       " 'test_path': 'synthetic/shoppers/test.csv',\n",
       " 'info_path': 'data/shoppers/info.json',\n",
       " 'save_path': './synthetic/magic_ON_QnSC_100k/initial_tabddpm_ON_QnSC_100k_mult_6.csv',\n",
       " 'num_clusters': 25,\n",
       " 'save_cat': None}"
      ]
     },
     "execution_count": 6,
     "metadata": {},
     "output_type": "execute_result"
    }
   ],
   "source": [
    "CONFIG.get_all_args()"
   ]
  },
  {
   "cell_type": "markdown",
   "metadata": {
    "id": "uL818VPDwpaW"
   },
   "source": [
    "### Train"
   ]
  },
  {
   "cell_type": "code",
   "execution_count": 10,
   "metadata": {
    "executionInfo": {
     "elapsed": 30,
     "status": "ok",
     "timestamp": 1742849874982,
     "user": {
      "displayName": "Elina Telesheva",
      "userId": "03968090829384653347"
     },
     "user_tz": -180
    },
    "id": "fBJBP6k5woSK"
   },
   "outputs": [],
   "source": [
    "CONFIG.add_arg('mode', 'train')"
   ]
  },
  {
   "cell_type": "code",
   "execution_count": 11,
   "metadata": {},
   "outputs": [],
   "source": [
    "model_save_path=f\"./models/{model_name}/ckpt/{dataname_initial}/{model_name}{model_name_postfix}\""
   ]
  },
  {
   "cell_type": "code",
   "execution_count": 12,
   "metadata": {},
   "outputs": [
    {
     "data": {
      "text/plain": [
       "'./models/tabddpm/ckpt/shoppers/tabddpm'"
      ]
     },
     "execution_count": 12,
     "metadata": {},
     "output_type": "execute_result"
    }
   ],
   "source": [
    "model_save_path"
   ]
  },
  {
   "cell_type": "code",
   "execution_count": 13,
   "metadata": {
    "executionInfo": {
     "elapsed": 70,
     "status": "ok",
     "timestamp": 1742849875060,
     "user": {
      "displayName": "Elina Telesheva",
      "userId": "03968090829384653347"
     },
     "user_tz": -180
    },
    "id": "1mULrEuFluee"
   },
   "outputs": [],
   "source": [
    "tabddpm = TabDDPM(CONFIG, model_save_path=model_save_path)"
   ]
  },
  {
   "cell_type": "code",
   "execution_count": 19,
   "metadata": {
    "executionInfo": {
     "elapsed": 30,
     "status": "ok",
     "timestamp": 1742849875101,
     "user": {
      "displayName": "Elina Telesheva",
      "userId": "03968090829384653347"
     },
     "user_tz": -180
    },
    "id": "4Urv02tmnbqa",
    "scrolled": true
   },
   "outputs": [],
   "source": [
    "tabddpm.train()"
   ]
  },
  {
   "cell_type": "code",
   "execution_count": 20,
   "metadata": {},
   "outputs": [
    {
     "data": {
      "application/vnd.jupyter.widget-view+json": {
       "model_id": "cbdcd119145f4c4ab6e57f38d96a1591",
       "version_major": 2,
       "version_minor": 0
      },
      "text/plain": [
       "  0%|          | 0/5 [00:00<?, ?it/s]"
      ]
     },
     "metadata": {},
     "output_type": "display_data"
    }
   ],
   "source": [
    "for file in tqdm(os.listdir(model_save_path)):\n",
    "    if ('0000' in file) or ('model_ema.pt' in file):\n",
    "        os.remove(os.path.join(model_save_path, file))"
   ]
  },
  {
   "cell_type": "code",
   "execution_count": 21,
   "metadata": {},
   "outputs": [
    {
     "name": "stderr",
     "output_type": "stream",
     "text": [
      "/tmp/ipykernel_104308/2983808042.py:4: MatplotlibDeprecationWarning: The get_cmap function was deprecated in Matplotlib 3.7 and will be removed in 3.11. Use ``matplotlib.colormaps[name]`` or ``matplotlib.colormaps.get_cmap()`` or ``pyplot.get_cmap()`` instead.\n",
      "  return plt.cm.get_cmap(name, n)\n"
     ]
    }
   ],
   "source": [
    "def get_cmap(n, name='hsv'):\n",
    "    '''Returns a function that maps each index in 0, 1, ..., n-1 to a distinct \n",
    "    RGB color; the keyword argument name must be a standard mpl colormap name.'''\n",
    "    return plt.cm.get_cmap(name, n)\n",
    "    \n",
    "cmap = get_cmap(10)"
   ]
  },
  {
   "cell_type": "code",
   "execution_count": 22,
   "metadata": {
    "colab": {
     "base_uri": "https://localhost:8080/",
     "height": 491
    },
    "executionInfo": {
     "elapsed": 1353,
     "status": "ok",
     "timestamp": 1742849876457,
     "user": {
      "displayName": "Elina Telesheva",
      "userId": "03968090829384653347"
     },
     "user_tz": -180
    },
    "id": "J_2etdriv20a",
    "outputId": "fdb4781b-139c-46e1-f722-e17f7a4f375a"
   },
   "outputs": [
    {
     "data": {
      "image/png": "[encoded data removed]",
      "text/plain": [
       "<Figure size 640x480 with 1 Axes>"
      ]
     },
     "metadata": {},
     "output_type": "display_data"
    }
   ],
   "source": [
    "loss = pd.read_csv(f'{model_save_path}/loss.csv')\n",
    "max_v, min_v = -np.inf, np.inf\n",
    "window = 250\n",
    "\n",
    "start_step = 100\n",
    "for i, l in enumerate(loss.columns[1:]):\n",
    "    plt.plot(loss['step'][start_step:], loss[l][start_step:], alpha=0.25, color=cmap(i))\n",
    "    smoothed = np.convolve(loss[l][start_step:], np.ones(window)/window, 'valid')  \n",
    "    plt.plot(loss['step'][start_step+window-1:], smoothed, label=l, color=cmap(i))\n",
    "\n",
    "    max_v = np.max([np.quantile(loss[l][start_step:], 0.99), max_v])\n",
    "    min_v = np.min([np.quantile(loss[l][start_step:], 0.01), min_v])\n",
    "\n",
    "plt.ylim([min_v-0.1, max_v+0.1]) \n",
    "plt.legend()\n",
    "plt.title(f\"Model name: {model_name.upper()}\\nLoss by steps from step #{start_step}\")\n",
    "plt.savefig(f'{model_save_path}/loss_image.png')\n",
    "plt.show()"
   ]
  },
  {
   "cell_type": "code",
   "execution_count": 23,
   "metadata": {
    "executionInfo": {
     "elapsed": 19,
     "status": "ok",
     "timestamp": 1742849876500,
     "user": {
      "displayName": "Elina Telesheva",
      "userId": "03968090829384653347"
     },
     "user_tz": -180
    },
    "id": "_dh1_KeYveNz"
   },
   "outputs": [
    {
     "name": "stdout",
     "output_type": "stream",
     "text": [
      "No NaNs in numerical features, skipping\n",
      "mlp\n",
      "torch.Size([10000, 67])\n",
      "Sample timestep    0\n",
      "torch.Size([10000, 67])\n",
      "Sample timestep    0\n",
      "Shape torch.Size([11097, 18])\n",
      "(11097, 8)\n",
      "Sampling time: 103.05639672279358\n"
     ]
    }
   ],
   "source": [
    "tabddpm.sample(sample_save_path=CONFIG.get_arg('sample_save_path'))"
   ]
  },
  {
   "cell_type": "markdown",
   "metadata": {
    "id": "_pRj_6inEVEL"
   },
   "source": [
    "### Расчет метрик"
   ]
  },
  {
   "cell_type": "code",
   "execution_count": 7,
   "metadata": {
    "executionInfo": {
     "elapsed": 12806,
     "status": "ok",
     "timestamp": 1742849889325,
     "user": {
      "displayName": "Elina Telesheva",
      "userId": "03968090829384653347"
     },
     "user_tz": -180
    },
    "id": "TgJLMonR8Q-E"
   },
   "outputs": [],
   "source": [
    "from eval.base_metrics import calculate_base_metrics\n",
    "from eval.similarity import calculate_similarity\n",
    "from eval.mle import calculate_mle\n",
    "from eval.alpha_beta import calculate_alpha_beta\n",
    "from eval.detection import calculate_detection\n",
    "from eval.dcr import calculate_DCR"
   ]
  },
  {
   "cell_type": "code",
   "execution_count": 8,
   "metadata": {},
   "outputs": [
    {
     "data": {
      "text/plain": [
       "'synthetic/shoppers/tabddpm.csv'"
      ]
     },
     "execution_count": 8,
     "metadata": {},
     "output_type": "execute_result"
    }
   ],
   "source": [
    "CONFIG.get_arg('sample_save_path')"
   ]
  },
  {
   "cell_type": "code",
   "execution_count": 9,
   "metadata": {},
   "outputs": [
    {
     "data": {
      "text/plain": [
       "{'dataname': 'shoppers',\n",
       " 'method': 'tabddpm',\n",
       " 'device': 'cuda',\n",
       " 'mode': 'train',\n",
       " 'train': 1,\n",
       " 'sample_save_path': 'synthetic/shoppers/tabddpm.csv',\n",
       " 'sigma_scheduller_name': 'constant',\n",
       " 'sigma_value': 0.001,\n",
       " 'num_noise': 1,\n",
       " 'real_path': 'synthetic/shoppers/real.csv',\n",
       " 'test_path': 'synthetic/shoppers/test.csv',\n",
       " 'info_path': 'data/shoppers/info.json',\n",
       " 'save_path': './synthetic/magic_ON_QnSC_100k/initial_tabddpm_ON_QnSC_100k_mult_6.csv',\n",
       " 'num_clusters': 25,\n",
       " 'save_cat': None}"
      ]
     },
     "execution_count": 9,
     "metadata": {},
     "output_type": "execute_result"
    }
   ],
   "source": [
    "CONFIG.get_all_args()"
   ]
  },
  {
   "cell_type": "code",
   "execution_count": 10,
   "metadata": {},
   "outputs": [],
   "source": [
    "overall_metrics = {}\n",
    "overall_metrics[model_name] = {}"
   ]
  },
  {
   "cell_type": "markdown",
   "metadata": {
    "id": "Vuzd6IpwJJs8"
   },
   "source": [
    "#### Метрики из starter_kit"
   ]
  },
  {
   "cell_type": "code",
   "execution_count": 11,
   "metadata": {},
   "outputs": [
    {
     "name": "stderr",
     "output_type": "stream",
     "text": [
      "/venv/main/lib/python3.10/site-packages/sklearn/linear_model/_logistic.py:465: ConvergenceWarning: lbfgs failed to converge (status=1):\n",
      "STOP: TOTAL NO. OF ITERATIONS REACHED LIMIT.\n",
      "\n",
      "Increase the number of iterations (max_iter) or scale the data as shown in:\n",
      "    https://scikit-learn.org/stable/modules/preprocessing.html\n",
      "Please also refer to the documentation for alternative solver options:\n",
      "    https://scikit-learn.org/stable/modules/linear_model.html#logistic-regression\n",
      "  n_iter_i = _check_optimize_result(\n"
     ]
    },
    {
     "name": "stdout",
     "output_type": "stream",
     "text": [
      "TABDDPM: SHOPPERS Dataset\n",
      "Original Logistic: 0.621\n",
      "Synthetic Logistic: 0.562\n",
      "Original Tree: 0.571\n",
      "Synthetic Tree: 0.556 \n",
      "\n",
      "TABDDPM Accuracy Loss: SHOPPERS\n",
      "Logistic: 9.401%\n",
      "Tree: 2.730% \n",
      "\n"
     ]
    },
    {
     "name": "stderr",
     "output_type": "stream",
     "text": [
      "/venv/main/lib/python3.10/site-packages/sklearn/linear_model/_logistic.py:465: ConvergenceWarning: lbfgs failed to converge (status=1):\n",
      "STOP: TOTAL NO. OF ITERATIONS REACHED LIMIT.\n",
      "\n",
      "Increase the number of iterations (max_iter) or scale the data as shown in:\n",
      "    https://scikit-learn.org/stable/modules/preprocessing.html\n",
      "Please also refer to the documentation for alternative solver options:\n",
      "    https://scikit-learn.org/stable/modules/linear_model.html#logistic-regression\n",
      "  n_iter_i = _check_optimize_result(\n"
     ]
    }
   ],
   "source": [
    "overall_metrics[model_name]['base_metrics'] = calculate_base_metrics(make_binary=False, value=None)"
   ]
  },
  {
   "cell_type": "markdown",
   "metadata": {
    "id": "VPqKYB_6OxEo"
   },
   "source": [
    "#### Метрики из статьи TabSyn"
   ]
  },
  {
   "cell_type": "code",
   "execution_count": 12,
   "metadata": {
    "scrolled": true
   },
   "outputs": [
    {
     "name": "stdout",
     "output_type": "stream",
     "text": [
      "CALCULATING COLUMN-WISE DENSITY ESTIMATION & PAIR-WISE COLUMN CORRELATION...\n",
      "Generating report ...\n",
      "\n",
      "(1/2) Evaluating Column Shapes: |██████████| 18/18 [00:00<00:00, 125.13it/s]|\n",
      "Column Shapes Score: 97.08%\n",
      "\n",
      "(2/2) Evaluating Column Pair Trends: |██████████| 153/153 [00:01<00:00, 128.29it/s]|\n",
      "Column Pair Trends Score: 90.94%\n",
      "\n",
      "Overall Score (Average): 94.01%\n",
      "\n",
      "Error rate (%) of column-wise density estimation TABDDPM: 2.919 ± 1.104\n",
      "Error rate (%) of pair-wise column correlation score TABDDPM: 9.061 ± 8.331\n"
     ]
    },
    {
     "data": {
      "text/html": [
       "<iframe\n",
       "    scrolling=\"no\"\n",
       "    width=\"100%\"\n",
       "    height=\"545px\"\n",
       "    src=\"iframe_figures/figure_12.html\"\n",
       "    frameborder=\"0\"\n",
       "    allowfullscreen\n",
       "></iframe>\n"
      ]
     },
     "metadata": {},
     "output_type": "display_data"
    },
    {
     "data": {
      "text/html": [
       "<iframe\n",
       "    scrolling=\"no\"\n",
       "    width=\"920px\"\n",
       "    height=\"920\"\n",
       "    src=\"iframe_figures/figure_12.html\"\n",
       "    frameborder=\"0\"\n",
       "    allowfullscreen\n",
       "></iframe>\n"
      ]
     },
     "metadata": {},
     "output_type": "display_data"
    },
    {
     "name": "stdout",
     "output_type": "stream",
     "text": [
      "DONE! \n",
      "\n",
      "DRAW COLUMN VALUES DISTRIBUTIONS...\n"
     ]
    },
    {
     "data": {
      "text/html": [
       "<iframe\n",
       "    scrolling=\"no\"\n",
       "    width=\"100%\"\n",
       "    height=\"545px\"\n",
       "    src=\"iframe_figures/figure_12.html\"\n",
       "    frameborder=\"0\"\n",
       "    allowfullscreen\n",
       "></iframe>\n"
      ]
     },
     "metadata": {},
     "output_type": "display_data"
    },
    {
     "data": {
      "text/html": [
       "<iframe\n",
       "    scrolling=\"no\"\n",
       "    width=\"100%\"\n",
       "    height=\"545px\"\n",
       "    src=\"iframe_figures/figure_12.html\"\n",
       "    frameborder=\"0\"\n",
       "    allowfullscreen\n",
       "></iframe>\n"
      ]
     },
     "metadata": {},
     "output_type": "display_data"
    },
    {
     "data": {
      "text/html": [
       "<iframe\n",
       "    scrolling=\"no\"\n",
       "    width=\"100%\"\n",
       "    height=\"545px\"\n",
       "    src=\"iframe_figures/figure_12.html\"\n",
       "    frameborder=\"0\"\n",
       "    allowfullscreen\n",
       "></iframe>\n"
      ]
     },
     "metadata": {},
     "output_type": "display_data"
    },
    {
     "data": {
      "text/html": [
       "<iframe\n",
       "    scrolling=\"no\"\n",
       "    width=\"100%\"\n",
       "    height=\"545px\"\n",
       "    src=\"iframe_figures/figure_12.html\"\n",
       "    frameborder=\"0\"\n",
       "    allowfullscreen\n",
       "></iframe>\n"
      ]
     },
     "metadata": {},
     "output_type": "display_data"
    },
    {
     "data": {
      "text/html": [
       "<iframe\n",
       "    scrolling=\"no\"\n",
       "    width=\"100%\"\n",
       "    height=\"545px\"\n",
       "    src=\"iframe_figures/figure_12.html\"\n",
       "    frameborder=\"0\"\n",
       "    allowfullscreen\n",
       "></iframe>\n"
      ]
     },
     "metadata": {},
     "output_type": "display_data"
    },
    {
     "data": {
      "text/html": [
       "<iframe\n",
       "    scrolling=\"no\"\n",
       "    width=\"100%\"\n",
       "    height=\"545px\"\n",
       "    src=\"iframe_figures/figure_12.html\"\n",
       "    frameborder=\"0\"\n",
       "    allowfullscreen\n",
       "></iframe>\n"
      ]
     },
     "metadata": {},
     "output_type": "display_data"
    },
    {
     "data": {
      "text/html": [
       "<iframe\n",
       "    scrolling=\"no\"\n",
       "    width=\"100%\"\n",
       "    height=\"545px\"\n",
       "    src=\"iframe_figures/figure_12.html\"\n",
       "    frameborder=\"0\"\n",
       "    allowfullscreen\n",
       "></iframe>\n"
      ]
     },
     "metadata": {},
     "output_type": "display_data"
    },
    {
     "data": {
      "text/html": [
       "<iframe\n",
       "    scrolling=\"no\"\n",
       "    width=\"100%\"\n",
       "    height=\"545px\"\n",
       "    src=\"iframe_figures/figure_12.html\"\n",
       "    frameborder=\"0\"\n",
       "    allowfullscreen\n",
       "></iframe>\n"
      ]
     },
     "metadata": {},
     "output_type": "display_data"
    },
    {
     "data": {
      "text/html": [
       "<iframe\n",
       "    scrolling=\"no\"\n",
       "    width=\"100%\"\n",
       "    height=\"545px\"\n",
       "    src=\"iframe_figures/figure_12.html\"\n",
       "    frameborder=\"0\"\n",
       "    allowfullscreen\n",
       "></iframe>\n"
      ]
     },
     "metadata": {},
     "output_type": "display_data"
    },
    {
     "data": {
      "text/html": [
       "<iframe\n",
       "    scrolling=\"no\"\n",
       "    width=\"100%\"\n",
       "    height=\"545px\"\n",
       "    src=\"iframe_figures/figure_12.html\"\n",
       "    frameborder=\"0\"\n",
       "    allowfullscreen\n",
       "></iframe>\n"
      ]
     },
     "metadata": {},
     "output_type": "display_data"
    },
    {
     "data": {
      "text/html": [
       "<iframe\n",
       "    scrolling=\"no\"\n",
       "    width=\"100%\"\n",
       "    height=\"545px\"\n",
       "    src=\"iframe_figures/figure_12.html\"\n",
       "    frameborder=\"0\"\n",
       "    allowfullscreen\n",
       "></iframe>\n"
      ]
     },
     "metadata": {},
     "output_type": "display_data"
    },
    {
     "data": {
      "text/html": [
       "<iframe\n",
       "    scrolling=\"no\"\n",
       "    width=\"100%\"\n",
       "    height=\"545px\"\n",
       "    src=\"iframe_figures/figure_12.html\"\n",
       "    frameborder=\"0\"\n",
       "    allowfullscreen\n",
       "></iframe>\n"
      ]
     },
     "metadata": {},
     "output_type": "display_data"
    },
    {
     "data": {
      "text/html": [
       "<iframe\n",
       "    scrolling=\"no\"\n",
       "    width=\"100%\"\n",
       "    height=\"545px\"\n",
       "    src=\"iframe_figures/figure_12.html\"\n",
       "    frameborder=\"0\"\n",
       "    allowfullscreen\n",
       "></iframe>\n"
      ]
     },
     "metadata": {},
     "output_type": "display_data"
    },
    {
     "data": {
      "text/html": [
       "<iframe\n",
       "    scrolling=\"no\"\n",
       "    width=\"100%\"\n",
       "    height=\"545px\"\n",
       "    src=\"iframe_figures/figure_12.html\"\n",
       "    frameborder=\"0\"\n",
       "    allowfullscreen\n",
       "></iframe>\n"
      ]
     },
     "metadata": {},
     "output_type": "display_data"
    },
    {
     "data": {
      "text/html": [
       "<iframe\n",
       "    scrolling=\"no\"\n",
       "    width=\"100%\"\n",
       "    height=\"545px\"\n",
       "    src=\"iframe_figures/figure_12.html\"\n",
       "    frameborder=\"0\"\n",
       "    allowfullscreen\n",
       "></iframe>\n"
      ]
     },
     "metadata": {},
     "output_type": "display_data"
    },
    {
     "data": {
      "text/html": [
       "<iframe\n",
       "    scrolling=\"no\"\n",
       "    width=\"100%\"\n",
       "    height=\"545px\"\n",
       "    src=\"iframe_figures/figure_12.html\"\n",
       "    frameborder=\"0\"\n",
       "    allowfullscreen\n",
       "></iframe>\n"
      ]
     },
     "metadata": {},
     "output_type": "display_data"
    },
    {
     "data": {
      "text/html": [
       "<iframe\n",
       "    scrolling=\"no\"\n",
       "    width=\"100%\"\n",
       "    height=\"545px\"\n",
       "    src=\"iframe_figures/figure_12.html\"\n",
       "    frameborder=\"0\"\n",
       "    allowfullscreen\n",
       "></iframe>\n"
      ]
     },
     "metadata": {},
     "output_type": "display_data"
    },
    {
     "data": {
      "text/html": [
       "<iframe\n",
       "    scrolling=\"no\"\n",
       "    width=\"100%\"\n",
       "    height=\"545px\"\n",
       "    src=\"iframe_figures/figure_12.html\"\n",
       "    frameborder=\"0\"\n",
       "    allowfullscreen\n",
       "></iframe>\n"
      ]
     },
     "metadata": {},
     "output_type": "display_data"
    },
    {
     "name": "stdout",
     "output_type": "stream",
     "text": [
      "DONE!\n"
     ]
    }
   ],
   "source": [
    "overall_metrics[model_name]['similarity'] = calculate_similarity()"
   ]
  },
  {
   "cell_type": "markdown",
   "metadata": {
    "id": "Z1eBqfgraJlp"
   },
   "source": [
    "#### MLE"
   ]
  },
  {
   "cell_type": "code",
   "execution_count": 13,
   "metadata": {},
   "outputs": [
    {
     "name": "stderr",
     "output_type": "stream",
     "text": [
      "100%|██████████| 36/36 [00:06<00:00,  5.92it/s]\n"
     ]
    },
    {
     "name": "stdout",
     "output_type": "stream",
     "text": [
      "Saving scores to  eval/mle/shoppers/tabddpm.json\n",
      "ROC - AUC обучения на синтетических данных TABDDPM: 0.957 ± 0.003\n"
     ]
    }
   ],
   "source": [
    "overall_metrics[model_name]['mle'] = calculate_mle()"
   ]
  },
  {
   "cell_type": "markdown",
   "metadata": {
    "id": "Lcrk8gbLdDS-"
   },
   "source": [
    "#### Detection: classifier two sample tests (C2ST)"
   ]
  },
  {
   "cell_type": "code",
   "execution_count": 14,
   "metadata": {},
   "outputs": [
    {
     "name": "stdout",
     "output_type": "stream",
     "text": [
      "shoppers, tabddpm: 0.8710814072071044\n"
     ]
    }
   ],
   "source": [
    "overall_metrics[model_name]['detection'] = calculate_detection()"
   ]
  },
  {
   "cell_type": "markdown",
   "metadata": {
    "id": "ROQgcQGLeP02"
   },
   "source": [
    "#### DCR"
   ]
  },
  {
   "cell_type": "code",
   "execution_count": 15,
   "metadata": {},
   "outputs": [
    {
     "name": "stdout",
     "output_type": "stream",
     "text": [
      "n_clusters: 25\n",
      "DCR Score, a value closer to 0.5 is better\n",
      "shoppers-tabddpm, DCR Score = 0.5241957285752906\n"
     ]
    }
   ],
   "source": [
    "overall_metrics[model_name]['DCR'] = calculate_DCR()"
   ]
  },
  {
   "cell_type": "markdown",
   "metadata": {
    "id": "rKRNoZmzbpTm"
   },
   "source": [
    "#### Alpha precision & Beta recall"
   ]
  },
  {
   "cell_type": "code",
   "execution_count": 16,
   "metadata": {},
   "outputs": [
    {
     "data": {
      "text/plain": [
       "'synthetic/shoppers/tabddpm.csv'"
      ]
     },
     "execution_count": 16,
     "metadata": {},
     "output_type": "execute_result"
    }
   ],
   "source": [
    "dataname = CONFIG.get_arg('dataname')\n",
    "model = CONFIG.get_arg('method')\n",
    "f'synthetic/{dataname}/{model}.csv'"
   ]
  },
  {
   "cell_type": "code",
   "execution_count": 17,
   "metadata": {},
   "outputs": [
    {
     "name": "stdout",
     "output_type": "stream",
     "text": [
      "=========== All Features ===========\n",
      "Data shape:  (11097, 77)\n",
      "alpha precision: 0.915324, beta recall: 0.546250\n"
     ]
    }
   ],
   "source": [
    "overall_metrics[model_name]['quality'] = calculate_alpha_beta()"
   ]
  },
  {
   "cell_type": "markdown",
   "metadata": {},
   "source": [
    "### Табличка"
   ]
  },
  {
   "cell_type": "code",
   "execution_count": 18,
   "metadata": {},
   "outputs": [],
   "source": [
    "final_metrics_table = []\n",
    "for m in overall_metrics.keys():\n",
    "    # Сбор таблички результатов\n",
    "    tmp = pd.DataFrame([{'Model':'TabDDPM', 'Type':m, 'Data':dataname}])\n",
    "    tmp.columns = pd.MultiIndex.from_tuples([('', i) for i in tmp.columns])\n",
    "    result = [tmp]\n",
    "    \n",
    "    for metric_group in overall_metrics[m].keys():\n",
    "        tmp = pd.DataFrame([overall_metrics[m][metric_group]])\n",
    "        tmp.columns = pd.MultiIndex.from_tuples([(metric_group, i) for i in tmp.columns])\n",
    "        result.append(tmp)\n",
    "    result = pd.concat(result, axis = 1)\n",
    "    final_metrics_table.append(result)\n",
    "    \n",
    "final_metrics_table = pd.concat(final_metrics_table)"
   ]
  },
  {
   "cell_type": "code",
   "execution_count": 19,
   "metadata": {},
   "outputs": [
    {
     "data": {
      "text/html": [
       "<div>\n",
       "<style scoped>\n",
       "    .dataframe tbody tr th:only-of-type {\n",
       "        vertical-align: middle;\n",
       "    }\n",
       "\n",
       "    .dataframe tbody tr th {\n",
       "        vertical-align: top;\n",
       "    }\n",
       "\n",
       "    .dataframe thead tr th {\n",
       "        text-align: left;\n",
       "    }\n",
       "</style>\n",
       "<table border=\"1\" class=\"dataframe\">\n",
       "  <thead>\n",
       "    <tr>\n",
       "      <th></th>\n",
       "      <th colspan=\"3\" halign=\"left\"></th>\n",
       "      <th colspan=\"6\" halign=\"left\">base_metrics</th>\n",
       "      <th colspan=\"7\" halign=\"left\">similarity</th>\n",
       "      <th colspan=\"2\" halign=\"left\">mle</th>\n",
       "      <th>detection</th>\n",
       "      <th>DCR</th>\n",
       "      <th colspan=\"2\" halign=\"left\">quality</th>\n",
       "    </tr>\n",
       "    <tr>\n",
       "      <th></th>\n",
       "      <th>Model</th>\n",
       "      <th>Type</th>\n",
       "      <th>Data</th>\n",
       "      <th>Original Logistic</th>\n",
       "      <th>Synthetic Logistic</th>\n",
       "      <th>Original Tree</th>\n",
       "      <th>Synthetic Tree</th>\n",
       "      <th>Accuracy Loss Logistic, %</th>\n",
       "      <th>Accuracy Loss Tree, %</th>\n",
       "      <th>Column Shapes Score, %</th>\n",
       "      <th>Column Pair Trends Score, %</th>\n",
       "      <th>Overall Score (Average), %</th>\n",
       "      <th>Error rate (%) of column-wise density estimation, %</th>\n",
       "      <th>Error rate (%) of column-wise density estimation std, %</th>\n",
       "      <th>Error rate (%) of pair-wise column correlation score, %</th>\n",
       "      <th>Error rate (%) of pair-wise column correlation score std, %</th>\n",
       "      <th>ROC - AUC обучения на синтетических данных</th>\n",
       "      <th>ROC - AUC обучения на синтетических данных, std</th>\n",
       "      <th>Score</th>\n",
       "      <th>Score</th>\n",
       "      <th>alpha precision</th>\n",
       "      <th>beta recall</th>\n",
       "    </tr>\n",
       "  </thead>\n",
       "  <tbody>\n",
       "    <tr>\n",
       "      <th>0</th>\n",
       "      <td>TabDDPM</td>\n",
       "      <td>tabddpm</td>\n",
       "      <td>shoppers</td>\n",
       "      <td>0.6205</td>\n",
       "      <td>0.5622</td>\n",
       "      <td>0.5714</td>\n",
       "      <td>0.5558</td>\n",
       "      <td>9.4011</td>\n",
       "      <td>2.7295</td>\n",
       "      <td>97.0808</td>\n",
       "      <td>90.9392</td>\n",
       "      <td>94.01</td>\n",
       "      <td>2.9192</td>\n",
       "      <td>1.1044</td>\n",
       "      <td>9.0608</td>\n",
       "      <td>8.3307</td>\n",
       "      <td>0.957</td>\n",
       "      <td>0.0026</td>\n",
       "      <td>0.8711</td>\n",
       "      <td>0.5242</td>\n",
       "      <td>0.9153</td>\n",
       "      <td>0.5462</td>\n",
       "    </tr>\n",
       "  </tbody>\n",
       "</table>\n",
       "</div>"
      ],
      "text/plain": [
       "                                   base_metrics                     \\\n",
       "     Model     Type      Data Original Logistic Synthetic Logistic   \n",
       "0  TabDDPM  tabddpm  shoppers            0.6205             0.5622   \n",
       "\n",
       "                                                          \\\n",
       "  Original Tree Synthetic Tree Accuracy Loss Logistic, %   \n",
       "0        0.5714         0.5558                    9.4011   \n",
       "\n",
       "                                    similarity                              \\\n",
       "  Accuracy Loss Tree, % Column Shapes Score, % Column Pair Trends Score, %   \n",
       "0                2.7295                97.0808                     90.9392   \n",
       "\n",
       "                              \\\n",
       "  Overall Score (Average), %   \n",
       "0                      94.01   \n",
       "\n",
       "                                                       \\\n",
       "  Error rate (%) of column-wise density estimation, %   \n",
       "0                                              2.9192   \n",
       "\n",
       "                                                           \\\n",
       "  Error rate (%) of column-wise density estimation std, %   \n",
       "0                                                  1.1044   \n",
       "\n",
       "                                                           \\\n",
       "  Error rate (%) of pair-wise column correlation score, %   \n",
       "0                                                  9.0608   \n",
       "\n",
       "                                                               \\\n",
       "  Error rate (%) of pair-wise column correlation score std, %   \n",
       "0                                                      8.3307   \n",
       "\n",
       "                                         mle  \\\n",
       "  ROC - AUC обучения на синтетических данных   \n",
       "0                                      0.957   \n",
       "\n",
       "                                                  detection     DCR  \\\n",
       "  ROC - AUC обучения на синтетических данных, std     Score   Score   \n",
       "0                                          0.0026    0.8711  0.5242   \n",
       "\n",
       "          quality              \n",
       "  alpha precision beta recall  \n",
       "0          0.9153      0.5462  "
      ]
     },
     "execution_count": 19,
     "metadata": {},
     "output_type": "execute_result"
    }
   ],
   "source": [
    "pd.set_option('display.max_columns', None)\n",
    "final_metrics_table.round(4)"
   ]
  },
  {
   "cell_type": "code",
   "execution_count": 20,
   "metadata": {},
   "outputs": [],
   "source": [
    "import os\n",
    "if not os.path.exists(f'./eval/total/{dataname}'):\n",
    "    os.makedirs(f'./eval/total/{dataname}')\n",
    "final_metrics_table.to_csv(f'./eval/total/{dataname}/{model_name}{model_name_postfix}_final_metrcs_table.csv', index=False)"
   ]
  },
  {
   "cell_type": "code",
   "execution_count": 21,
   "metadata": {},
   "outputs": [
    {
     "data": {
      "text/plain": [
       "'./eval/total/shoppers/tabddpm_final_metrcs_table.csv'"
      ]
     },
     "execution_count": 21,
     "metadata": {},
     "output_type": "execute_result"
    }
   ],
   "source": [
    "f'./eval/total/{dataname}/{model_name}{model_name_postfix}_final_metrcs_table.csv'"
   ]
  },
  {
   "cell_type": "code",
   "execution_count": null,
   "metadata": {},
   "outputs": [],
   "source": []
  }
 ],
 "metadata": {
  "colab": {
   "authorship_tag": "ABX9TyM87OAyAZDeZ/KEr1BVC60/",
   "mount_file_id": "1-H09AG2TbV5ZzQ-ytJRNbFUCirBvOV9p",
   "provenance": []
  },
  "kernelspec": {
   "display_name": "Python3 (ipykernel)",
   "language": "python",
   "name": "python3"
  },
  "language_info": {
   "codemirror_mode": {
    "name": "ipython",
    "version": 3
   },
   "file_extension": ".py",
   "mimetype": "text/x-python",
   "name": "python",
   "nbconvert_exporter": "python",
   "pygments_lexer": "ipython3",
   "version": "3.10.12"
  },
  "widgets": {
   "application/vnd.jupyter.widget-state+json": {
    "state": {},
    "version_major": 2,
    "version_minor": 0
   }
  }
 },
 "nbformat": 4,
 "nbformat_minor": 4
}
