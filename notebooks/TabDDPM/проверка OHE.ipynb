{
 "cells": [
  {
   "cell_type": "markdown",
   "metadata": {},
   "source": [
    "В этом ноубуке проверяем правильность работы предобработки данных"
   ]
  },
  {
   "cell_type": "code",
   "execution_count": 8,
   "metadata": {
    "executionInfo": {
     "elapsed": 11435,
     "status": "ok",
     "timestamp": 1742850942286,
     "user": {
      "displayName": "Elina Telesheva",
      "userId": "03968090829384653347"
     },
     "user_tz": -180
    },
    "id": "o77KHt0w3DWc"
   },
   "outputs": [],
   "source": [
    "import json\n",
    "import pandas as pd\n",
    "import torch\n",
    "import matplotlib.pyplot as plt\n",
    "\n",
    "from utils import *\n",
    "from models.tabddpm_ohe_noise.tabddpm_ohe_noise import *\n",
    "\n",
    "from tqdm.notebook import tqdm\n",
    "\n",
    "from eval.base_metrics import calculate_base_metrics\n",
    "from eval.similarity import calculate_similarity\n",
    "from eval.mle import calculate_mle\n",
    "from eval.alpha_beta import calculate_alpha_beta\n",
    "from eval.detection import calculate_detection\n",
    "from eval.dcr import calculate_DCR"
   ]
  },
  {
   "cell_type": "markdown",
   "metadata": {},
   "source": [
    "### Скачиваем данные"
   ]
  },
  {
   "cell_type": "code",
   "execution_count": 9,
   "metadata": {},
   "outputs": [],
   "source": [
    "dataname = 'x'\n",
    "model_short = 'x'"
   ]
  },
  {
   "cell_type": "code",
   "execution_count": 10,
   "metadata": {},
   "outputs": [
    {
     "data": {
      "text/plain": [
       "['./data/x/adult.zip',\n",
       " './data/x/Index',\n",
       " './data/x/adult.data',\n",
       " './data/x/adult.names',\n",
       " './data/x/adult.test',\n",
       " './data/x/old.adult.names',\n",
       " './data/x/test.data',\n",
       " './data/x/X_num_train.npy',\n",
       " './data/x/X_cat_train.npy',\n",
       " './data/x/y_train.npy',\n",
       " './data/x/X_num_test.npy',\n",
       " './data/x/X_cat_test.npy',\n",
       " './data/x/y_test.npy',\n",
       " './data/x/train.csv',\n",
       " './data/x/test.csv',\n",
       " './data/x/info.json',\n",
       " './data/x/.ipynb_checkpoints/info-checkpoint.json']"
      ]
     },
     "execution_count": 10,
     "metadata": {},
     "output_type": "execute_result"
    }
   ],
   "source": [
    "from distutils.dir_util import copy_tree\n",
    "copy_tree(\"./data/adult\", \"./data/x\")"
   ]
  },
  {
   "cell_type": "code",
   "execution_count": 11,
   "metadata": {
    "scrolled": true
   },
   "outputs": [
    {
     "name": "stdout",
     "output_type": "stream",
     "text": [
      "Start processing dataset adult from UCI.\n",
      "Aready downloaded.\n"
     ]
    },
    {
     "data": {
      "application/vnd.jupyter.widget-view+json": {
       "model_id": "360cd7eac9e147aaadf713812bfe39ce",
       "version_major": 2,
       "version_minor": 0
      },
      "text/plain": [
       "  0%|          | 0/17 [00:00<?, ?it/s]"
      ]
     },
     "metadata": {},
     "output_type": "display_data"
    },
    {
     "name": "stdout",
     "output_type": "stream",
     "text": [
      "{'cat_col_idx': [],\n",
      " 'cat_col_idx_initial': [6, 7, 8, 9, 10, 11, 12, 13],\n",
      " 'column_info': {'0': 'float',\n",
      "                 '10': 'float',\n",
      "                 '11': 'float',\n",
      "                 '12': 'float',\n",
      "                 '13_ ?': 'float',\n",
      "                 '13_ Cambodia': 'float',\n",
      "                 '13_ Canada': 'float',\n",
      "                 '13_ China': 'float',\n",
      "                 '13_ Columbia': 'float',\n",
      "                 '13_ Cuba': 'float',\n",
      "                 '13_ Dominican-Republic': 'float',\n",
      "                 '13_ Ecuador': 'float',\n",
      "                 '13_ El-Salvador': 'float',\n",
      "                 '13_ England': 'float',\n",
      "                 '13_ France': 'float',\n",
      "                 '13_ Germany': 'float',\n",
      "                 '13_ Greece': 'float',\n",
      "                 '13_ Guatemala': 'float',\n",
      "                 '13_ Haiti': 'float',\n",
      "                 '13_ Holand-Netherlands': 'float',\n",
      "                 '13_ Honduras': 'float',\n",
      "                 '13_ Hong': 'float',\n",
      "                 '13_ Hungary': 'float',\n",
      "                 '13_ India': 'float',\n",
      "                 '13_ Iran': 'float',\n",
      "                 '13_ Ireland': 'float',\n",
      "                 '13_ Italy': 'float',\n",
      "                 '13_ Jamaica': 'float',\n",
      "                 '13_ Japan': 'float',\n",
      "                 '13_ Laos': 'float',\n",
      "                 '13_ Mexico': 'float',\n",
      "                 '13_ Nicaragua': 'float',\n",
      "                 '13_ Outlying-US(Guam-USVI-etc)': 'float',\n",
      "                 '13_ Peru': 'float',\n",
      "                 '13_ Philippines': 'float',\n",
      "                 '13_ Poland': 'float',\n",
      "                 '13_ Portugal': 'float',\n",
      "                 '13_ Puerto-Rico': 'float',\n",
      "                 '13_ Scotland': 'float',\n",
      "                 '13_ South': 'float',\n",
      "                 '13_ Taiwan': 'float',\n",
      "                 '13_ Thailand': 'float',\n",
      "                 '13_ Trinadad&Tobago': 'float',\n",
      "                 '13_ United-States': 'float',\n",
      "                 '13_ Vietnam': 'float',\n",
      "                 '13_ Yugoslavia': 'float',\n",
      "                 '14_ <=50K': 'float',\n",
      "                 '1_ ?': 'float',\n",
      "                 '1_ Federal-gov': 'float',\n",
      "                 '1_ Local-gov': 'float',\n",
      "                 '1_ Never-worked': 'float',\n",
      "                 '1_ Private': 'float',\n",
      "                 '1_ Self-emp-inc': 'float',\n",
      "                 '1_ Self-emp-not-inc': 'float',\n",
      "                 '1_ State-gov': 'float',\n",
      "                 '1_ Without-pay': 'float',\n",
      "                 '2': 'float',\n",
      "                 '3_ 10th': 'float',\n",
      "                 '3_ 11th': 'float',\n",
      "                 '3_ 12th': 'float',\n",
      "                 '3_ 1st-4th': 'float',\n",
      "                 '3_ 5th-6th': 'float',\n",
      "                 '3_ 7th-8th': 'float',\n",
      "                 '3_ 9th': 'float',\n",
      "                 '3_ Assoc-acdm': 'float',\n",
      "                 '3_ Assoc-voc': 'float',\n",
      "                 '3_ Bachelors': 'float',\n",
      "                 '3_ Doctorate': 'float',\n",
      "                 '3_ HS-grad': 'float',\n",
      "                 '3_ Masters': 'float',\n",
      "                 '3_ Preschool': 'float',\n",
      "                 '3_ Prof-school': 'float',\n",
      "                 '3_ Some-college': 'float',\n",
      "                 '4': 'float',\n",
      "                 '5_ Divorced': 'float',\n",
      "                 '5_ Married-AF-spouse': 'float',\n",
      "                 '5_ Married-civ-spouse': 'float',\n",
      "                 '5_ Married-spouse-absent': 'float',\n",
      "                 '5_ Never-married': 'float',\n",
      "                 '5_ Separated': 'float',\n",
      "                 '5_ Widowed': 'float',\n",
      "                 '6_ ?': 'float',\n",
      "                 '6_ Adm-clerical': 'float',\n",
      "                 '6_ Armed-Forces': 'float',\n",
      "                 '6_ Craft-repair': 'float',\n",
      "                 '6_ Exec-managerial': 'float',\n",
      "                 '6_ Farming-fishing': 'float',\n",
      "                 '6_ Handlers-cleaners': 'float',\n",
      "                 '6_ Machine-op-inspct': 'float',\n",
      "                 '6_ Other-service': 'float',\n",
      "                 '6_ Priv-house-serv': 'float',\n",
      "                 '6_ Prof-specialty': 'float',\n",
      "                 '6_ Protective-serv': 'float',\n",
      "                 '6_ Sales': 'float',\n",
      "                 '6_ Tech-support': 'float',\n",
      "                 '6_ Transport-moving': 'float',\n",
      "                 '7_ Husband': 'float',\n",
      "                 '7_ Not-in-family': 'float',\n",
      "                 '7_ Other-relative': 'float',\n",
      "                 '7_ Own-child': 'float',\n",
      "                 '7_ Unmarried': 'float',\n",
      "                 '7_ Wife': 'float',\n",
      "                 '8_ Amer-Indian-Eskimo': 'float',\n",
      "                 '8_ Asian-Pac-Islander': 'float',\n",
      "                 '8_ Black': 'float',\n",
      "                 '8_ Other': 'float',\n",
      "                 '8_ White': 'float',\n",
      "                 '9_ Female': 'float',\n",
      "                 '9_ Male': 'float'},\n",
      " 'column_names': ['0',\n",
      "                  '2',\n",
      "                  '4',\n",
      "                  '10',\n",
      "                  '11',\n",
      "                  '12',\n",
      "                  '1_ ?',\n",
      "                  '1_ Federal-gov',\n",
      "                  '1_ Local-gov',\n",
      "                  '1_ Never-worked',\n",
      "                  '1_ Private',\n",
      "                  '1_ Self-emp-inc',\n",
      "                  '1_ Self-emp-not-inc',\n",
      "                  '1_ State-gov',\n",
      "                  '1_ Without-pay',\n",
      "                  '3_ 10th',\n",
      "                  '3_ 11th',\n",
      "                  '3_ 12th',\n",
      "                  '3_ 1st-4th',\n",
      "                  '3_ 5th-6th',\n",
      "                  '3_ 7th-8th',\n",
      "                  '3_ 9th',\n",
      "                  '3_ Assoc-acdm',\n",
      "                  '3_ Assoc-voc',\n",
      "                  '3_ Bachelors',\n",
      "                  '3_ Doctorate',\n",
      "                  '3_ HS-grad',\n",
      "                  '3_ Masters',\n",
      "                  '3_ Preschool',\n",
      "                  '3_ Prof-school',\n",
      "                  '3_ Some-college',\n",
      "                  '5_ Divorced',\n",
      "                  '5_ Married-AF-spouse',\n",
      "                  '5_ Married-civ-spouse',\n",
      "                  '5_ Married-spouse-absent',\n",
      "                  '5_ Never-married',\n",
      "                  '5_ Separated',\n",
      "                  '5_ Widowed',\n",
      "                  '6_ ?',\n",
      "                  '6_ Adm-clerical',\n",
      "                  '6_ Armed-Forces',\n",
      "                  '6_ Craft-repair',\n",
      "                  '6_ Exec-managerial',\n",
      "                  '6_ Farming-fishing',\n",
      "                  '6_ Handlers-cleaners',\n",
      "                  '6_ Machine-op-inspct',\n",
      "                  '6_ Other-service',\n",
      "                  '6_ Priv-house-serv',\n",
      "                  '6_ Prof-specialty',\n",
      "                  '6_ Protective-serv',\n",
      "                  '6_ Sales',\n",
      "                  '6_ Tech-support',\n",
      "                  '6_ Transport-moving',\n",
      "                  '7_ Husband',\n",
      "                  '7_ Not-in-family',\n",
      "                  '7_ Other-relative',\n",
      "                  '7_ Own-child',\n",
      "                  '7_ Unmarried',\n",
      "                  '7_ Wife',\n",
      "                  '8_ Amer-Indian-Eskimo',\n",
      "                  '8_ Asian-Pac-Islander',\n",
      "                  '8_ Black',\n",
      "                  '8_ Other',\n",
      "                  '8_ White',\n",
      "                  '9_ Female',\n",
      "                  '9_ Male',\n",
      "                  '13_ ?',\n",
      "                  '13_ Cambodia',\n",
      "                  '13_ Canada',\n",
      "                  '13_ China',\n",
      "                  '13_ Columbia',\n",
      "                  '13_ Cuba',\n",
      "                  '13_ Dominican-Republic',\n",
      "                  '13_ Ecuador',\n",
      "                  '13_ El-Salvador',\n",
      "                  '13_ England',\n",
      "                  '13_ France',\n",
      "                  '13_ Germany',\n",
      "                  '13_ Greece',\n",
      "                  '13_ Guatemala',\n",
      "                  '13_ Haiti',\n",
      "                  '13_ Holand-Netherlands',\n",
      "                  '13_ Honduras',\n",
      "                  '13_ Hong',\n",
      "                  '13_ Hungary',\n",
      "                  '13_ India',\n",
      "                  '13_ Iran',\n",
      "                  '13_ Ireland',\n",
      "                  '13_ Italy',\n",
      "                  '13_ Jamaica',\n",
      "                  '13_ Japan',\n",
      "                  '13_ Laos',\n",
      "                  '13_ Mexico',\n",
      "                  '13_ Nicaragua',\n",
      "                  '13_ Outlying-US(Guam-USVI-etc)',\n",
      "                  '13_ Peru',\n",
      "                  '13_ Philippines',\n",
      "                  '13_ Poland',\n",
      "                  '13_ Portugal',\n",
      "                  '13_ Puerto-Rico',\n",
      "                  '13_ Scotland',\n",
      "                  '13_ South',\n",
      "                  '13_ Taiwan',\n",
      "                  '13_ Thailand',\n",
      "                  '13_ Trinadad&Tobago',\n",
      "                  '13_ United-States',\n",
      "                  '13_ Vietnam',\n",
      "                  '13_ Yugoslavia',\n",
      "                  '14_ <=50K'],\n",
      " 'column_names_initial': ['age',\n",
      "                          'fnlwgt',\n",
      "                          'education.num',\n",
      "                          'capital.gain',\n",
      "                          'capital.loss',\n",
      "                          'hours.per.week',\n",
      "                          'workclass',\n",
      "                          'education',\n",
      "                          'marital.status',\n",
      "                          'occupation',\n",
      "                          'relationship',\n",
      "                          'race',\n",
      "                          'sex',\n",
      "                          'native.country',\n",
      "                          'income'],\n",
      " 'data_path': 'data/x/x.data',\n",
      " 'done_ohe_noise': 'yes',\n",
      " 'file_type': 'csv',\n",
      " 'header': None,\n",
      " 'initial_column_names': [0,\n",
      "                          2,\n",
      "                          4,\n",
      "                          10,\n",
      "                          11,\n",
      "                          12,\n",
      "                          '1_ ?',\n",
      "                          '1_ Federal-gov',\n",
      "                          '1_ Local-gov',\n",
      "                          '1_ Never-worked',\n",
      "                          '1_ Private',\n",
      "                          '1_ Self-emp-inc',\n",
      "                          '1_ Self-emp-not-inc',\n",
      "                          '1_ State-gov',\n",
      "                          '1_ Without-pay',\n",
      "                          '3_ 10th',\n",
      "                          '3_ 11th',\n",
      "                          '3_ 12th',\n",
      "                          '3_ 1st-4th',\n",
      "                          '3_ 5th-6th',\n",
      "                          '3_ 7th-8th',\n",
      "                          '3_ 9th',\n",
      "                          '3_ Assoc-acdm',\n",
      "                          '3_ Assoc-voc',\n",
      "                          '3_ Bachelors',\n",
      "                          '3_ Doctorate',\n",
      "                          '3_ HS-grad',\n",
      "                          '3_ Masters',\n",
      "                          '3_ Preschool',\n",
      "                          '3_ Prof-school',\n",
      "                          '3_ Some-college',\n",
      "                          '5_ Divorced',\n",
      "                          '5_ Married-AF-spouse',\n",
      "                          '5_ Married-civ-spouse',\n",
      "                          '5_ Married-spouse-absent',\n",
      "                          '5_ Never-married',\n",
      "                          '5_ Separated',\n",
      "                          '5_ Widowed',\n",
      "                          '6_ ?',\n",
      "                          '6_ Adm-clerical',\n",
      "                          '6_ Armed-Forces',\n",
      "                          '6_ Craft-repair',\n",
      "                          '6_ Exec-managerial',\n",
      "                          '6_ Farming-fishing',\n",
      "                          '6_ Handlers-cleaners',\n",
      "                          '6_ Machine-op-inspct',\n",
      "                          '6_ Other-service',\n",
      "                          '6_ Priv-house-serv',\n",
      "                          '6_ Prof-specialty',\n",
      "                          '6_ Protective-serv',\n",
      "                          '6_ Sales',\n",
      "                          '6_ Tech-support',\n",
      "                          '6_ Transport-moving',\n",
      "                          '7_ Husband',\n",
      "                          '7_ Not-in-family',\n",
      "                          '7_ Other-relative',\n",
      "                          '7_ Own-child',\n",
      "                          '7_ Unmarried',\n",
      "                          '7_ Wife',\n",
      "                          '8_ Amer-Indian-Eskimo',\n",
      "                          '8_ Asian-Pac-Islander',\n",
      "                          '8_ Black',\n",
      "                          '8_ Other',\n",
      "                          '8_ White',\n",
      "                          '9_ Female',\n",
      "                          '9_ Male',\n",
      "                          '13_ ?',\n",
      "                          '13_ Cambodia',\n",
      "                          '13_ Canada',\n",
      "                          '13_ China',\n",
      "                          '13_ Columbia',\n",
      "                          '13_ Cuba',\n",
      "                          '13_ Dominican-Republic',\n",
      "                          '13_ Ecuador',\n",
      "                          '13_ El-Salvador',\n",
      "                          '13_ England',\n",
      "                          '13_ France',\n",
      "                          '13_ Germany',\n",
      "                          '13_ Greece',\n",
      "                          '13_ Guatemala',\n",
      "                          '13_ Haiti',\n",
      "                          '13_ Holand-Netherlands',\n",
      "                          '13_ Honduras',\n",
      "                          '13_ Hong',\n",
      "                          '13_ Hungary',\n",
      "                          '13_ India',\n",
      "                          '13_ Iran',\n",
      "                          '13_ Ireland',\n",
      "                          '13_ Italy',\n",
      "                          '13_ Jamaica',\n",
      "                          '13_ Japan',\n",
      "                          '13_ Laos',\n",
      "                          '13_ Mexico',\n",
      "                          '13_ Nicaragua',\n",
      "                          '13_ Outlying-US(Guam-USVI-etc)',\n",
      "                          '13_ Peru',\n",
      "                          '13_ Philippines',\n",
      "                          '13_ Poland',\n",
      "                          '13_ Portugal',\n",
      "                          '13_ Puerto-Rico',\n",
      "                          '13_ Scotland',\n",
      "                          '13_ South',\n",
      "                          '13_ Taiwan',\n",
      "                          '13_ Thailand',\n",
      "                          '13_ Trinadad&Tobago',\n",
      "                          '13_ United-States',\n",
      "                          '13_ Vietnam',\n",
      "                          '13_ Yugoslavia',\n",
      "                          '14_ <=50K',\n",
      "                          '14_ >50K'],\n",
      " 'name': 'x',\n",
      " 'num_col_idx': [0,\n",
      "                 1,\n",
      "                 2,\n",
      "                 3,\n",
      "                 4,\n",
      "                 5,\n",
      "                 6,\n",
      "                 7,\n",
      "                 8,\n",
      "                 9,\n",
      "                 10,\n",
      "                 11,\n",
      "                 12,\n",
      "                 13,\n",
      "                 14,\n",
      "                 15,\n",
      "                 16,\n",
      "                 17,\n",
      "                 18,\n",
      "                 19,\n",
      "                 20,\n",
      "                 21,\n",
      "                 22,\n",
      "                 23,\n",
      "                 24,\n",
      "                 25,\n",
      "                 26,\n",
      "                 27,\n",
      "                 28,\n",
      "                 29,\n",
      "                 30,\n",
      "                 31,\n",
      "                 32,\n",
      "                 33,\n",
      "                 34,\n",
      "                 35,\n",
      "                 36,\n",
      "                 37,\n",
      "                 38,\n",
      "                 39,\n",
      "                 40,\n",
      "                 41,\n",
      "                 42,\n",
      "                 43,\n",
      "                 44,\n",
      "                 45,\n",
      "                 46,\n",
      "                 47,\n",
      "                 48,\n",
      "                 49,\n",
      "                 50,\n",
      "                 51,\n",
      "                 52,\n",
      "                 53,\n",
      "                 54,\n",
      "                 55,\n",
      "                 56,\n",
      "                 57,\n",
      "                 58,\n",
      "                 59,\n",
      "                 60,\n",
      "                 61,\n",
      "                 62,\n",
      "                 63,\n",
      "                 64,\n",
      "                 65,\n",
      "                 66,\n",
      "                 67,\n",
      "                 68,\n",
      "                 69,\n",
      "                 70,\n",
      "                 71,\n",
      "                 72,\n",
      "                 73,\n",
      "                 74,\n",
      "                 75,\n",
      "                 76,\n",
      "                 77,\n",
      "                 78,\n",
      "                 79,\n",
      "                 80,\n",
      "                 81,\n",
      "                 82,\n",
      "                 83,\n",
      "                 84,\n",
      "                 85,\n",
      "                 86,\n",
      "                 87,\n",
      "                 88,\n",
      "                 89,\n",
      "                 90,\n",
      "                 91,\n",
      "                 92,\n",
      "                 93,\n",
      "                 94,\n",
      "                 95,\n",
      "                 96,\n",
      "                 97,\n",
      "                 98,\n",
      "                 99,\n",
      "                 100,\n",
      "                 101,\n",
      "                 102,\n",
      "                 103,\n",
      "                 104,\n",
      "                 105,\n",
      "                 106,\n",
      "                 107],\n",
      " 'num_col_idx_initial': [0, 1, 2, 3, 4, 5],\n",
      " 'prev_cat_num': 103,\n",
      " 'target_col_idx': [108],\n",
      " 'target_col_idx_initial': [14],\n",
      " 'task_type': 'regression',\n",
      " 'test_num': 16281,\n",
      " 'test_path': 'data/x/x.test',\n",
      " 'train_num': 32561}\n",
      "DONE CONVERTING DATA!\n",
      "x (32561, 109) (16281, 109) (32561, 109)\n",
      "Numerical (32561, 108)\n",
      "Categorical (32561, 0)\n",
      "Processing and Saving x Successfully!\n",
      "x\n",
      "Total 48842\n",
      "Train 32561\n",
      "Test 16281\n",
      "Num 109\n",
      "Cat 0\n",
      "NEW FILE CREATED\n"
     ]
    }
   ],
   "source": [
    "dataname_initial = 'adult'\n",
    "\n",
    "with open(f'data/Info/{dataname_initial}.json', 'r') as f:\n",
    "    info = json.load(f)\n",
    "\n",
    "info['name'] = dataname\n",
    "info['data_path'] = f'data/{dataname}/{dataname}.data'\n",
    "info['test_path'] = f'data/{dataname}/{dataname}.test'\n",
    "info['task_type'] = 'regression'\n",
    "\n",
    "with open(f'data/Info/{dataname}.json', 'w', encoding='utf-8') as f:\n",
    "    json.dump(info, f, ensure_ascii=False, indent=4)\n",
    "\n",
    "download_dataset('adult', dataname)\n",
    "\n",
    "import os\n",
    "for file in tqdm(os.listdir(f'./data/{dataname}')):\n",
    "    old_file = os.path.join(f'./data/{dataname}', file)\n",
    "    new_file = os.path.join(f'./data/{dataname}', file.replace(dataname_initial, dataname))\n",
    "    os.rename(old_file, new_file)\n",
    "    \n",
    "categorial_to_OHE(dataname)\n",
    "process_data(dataname)\n",
    "postprocess_OHE(dataname, dataname_initial)"
   ]
  },
  {
   "cell_type": "code",
   "execution_count": 14,
   "metadata": {},
   "outputs": [],
   "source": [
    "model_name = 'x'\n",
    "sample_save_path = f'./synthetic/{dataname}/real.csv'\n",
    "\n",
    "CONFIG.add_arg('method', model_name)\n",
    "CONFIG.add_arg('dataname', dataname)\n",
    "\n",
    "CONFIG.add_arg('real_path',\n",
    "                   f\"synthetic/{CONFIG.get_arg('dataname')}/initial_real.csv\")\n",
    "CONFIG.add_arg('test_path',\n",
    "                   f\"synthetic/{CONFIG.get_arg('dataname')}/initial_test.csv\")\n",
    "CONFIG.add_arg('sample_save_path',\n",
    "                   f\"synthetic/{CONFIG.get_arg('dataname')}/real.csv\")\n",
    "\n",
    "\n",
    "CONFIG.add_arg('info_path',\n",
    "                   f\"./data/{CONFIG.get_arg('dataname')}/initial_info.json\")"
   ]
  },
  {
   "cell_type": "code",
   "execution_count": 15,
   "metadata": {},
   "outputs": [
    {
     "data": {
      "text/plain": [
       "{'dataname': 'x',\n",
       " 'method': 'x',\n",
       " 'device': 'cuda',\n",
       " 'mode': 'train',\n",
       " 'train': 1,\n",
       " 'sample_save_path': 'synthetic/x/real.csv',\n",
       " 'sigma_scheduller_name': 'constant',\n",
       " 'sigma_value': 0.001,\n",
       " 'num_noise': 103,\n",
       " 'real_path': 'synthetic/x/initial_real.csv',\n",
       " 'test_path': 'synthetic/x/initial_test.csv',\n",
       " 'info_path': './data/x/initial_info.json',\n",
       " 'save_path': './synthetic/adult_test/initial_tabddpm_test.csv'}"
      ]
     },
     "execution_count": 15,
     "metadata": {},
     "output_type": "execute_result"
    }
   ],
   "source": [
    "CONFIG.get_all_args()"
   ]
  },
  {
   "cell_type": "code",
   "execution_count": 16,
   "metadata": {},
   "outputs": [
    {
     "name": "stdout",
     "output_type": "stream",
     "text": [
      "Sample path changed to ./synthetic/x/initial_x.csv\n"
     ]
    }
   ],
   "source": [
    "postsample_OHE(dataname, f'./synthetic/{dataname}/initial_{model_name}.csv')"
   ]
  },
  {
   "cell_type": "code",
   "execution_count": 17,
   "metadata": {
    "scrolled": true
   },
   "outputs": [
    {
     "name": "stdout",
     "output_type": "stream",
     "text": [
      "tabddpm_test ./synthetic/x/real.csv\n",
      "Sample path changed to ./synthetic/x/initial_tabddpm_test.csv\n",
      "CALCULATING COLUMN-WISE DENSITY ESTIMATION & PAIR-WISE COLUMN CORRELATION...\n",
      "Generating report ...\n",
      "\n",
      "(1/2) Evaluating Column Shapes: |██████████| 15/15 [00:00<00:00, 91.20it/s]|\n",
      "Column Shapes Score: 100.0%\n",
      "\n",
      "(2/2) Evaluating Column Pair Trends: |██████████| 105/105 [00:01<00:00, 59.90it/s]|\n",
      "Column Pair Trends Score: 100.0%\n",
      "\n",
      "Overall Score (Average): 100.0%\n",
      "\n",
      "Error rate (%) of column-wise density estimation TABDDPM_TEST: 0.000 ± 0.001\n",
      "Error rate (%) of pair-wise column correlation score TABDDPM_TEST: 0.000 ± 0.000\n"
     ]
    },
    {
     "data": {
      "text/html": [
       "<iframe\n",
       "    scrolling=\"no\"\n",
       "    width=\"100%\"\n",
       "    height=\"545px\"\n",
       "    src=\"iframe_figures/figure_17.html\"\n",
       "    frameborder=\"0\"\n",
       "    allowfullscreen\n",
       "></iframe>\n"
      ]
     },
     "metadata": {},
     "output_type": "display_data"
    },
    {
     "data": {
      "text/html": [
       "<iframe\n",
       "    scrolling=\"no\"\n",
       "    width=\"920px\"\n",
       "    height=\"920\"\n",
       "    src=\"iframe_figures/figure_17.html\"\n",
       "    frameborder=\"0\"\n",
       "    allowfullscreen\n",
       "></iframe>\n"
      ]
     },
     "metadata": {},
     "output_type": "display_data"
    },
    {
     "name": "stdout",
     "output_type": "stream",
     "text": [
      "DONE! \n",
      "\n",
      "DRAW COLUMN VALUES DISTRIBUTIONS...\n"
     ]
    },
    {
     "data": {
      "text/html": [
       "<iframe\n",
       "    scrolling=\"no\"\n",
       "    width=\"100%\"\n",
       "    height=\"545px\"\n",
       "    src=\"iframe_figures/figure_17.html\"\n",
       "    frameborder=\"0\"\n",
       "    allowfullscreen\n",
       "></iframe>\n"
      ]
     },
     "metadata": {},
     "output_type": "display_data"
    },
    {
     "data": {
      "text/html": [
       "<iframe\n",
       "    scrolling=\"no\"\n",
       "    width=\"100%\"\n",
       "    height=\"545px\"\n",
       "    src=\"iframe_figures/figure_17.html\"\n",
       "    frameborder=\"0\"\n",
       "    allowfullscreen\n",
       "></iframe>\n"
      ]
     },
     "metadata": {},
     "output_type": "display_data"
    },
    {
     "data": {
      "text/html": [
       "<iframe\n",
       "    scrolling=\"no\"\n",
       "    width=\"100%\"\n",
       "    height=\"545px\"\n",
       "    src=\"iframe_figures/figure_17.html\"\n",
       "    frameborder=\"0\"\n",
       "    allowfullscreen\n",
       "></iframe>\n"
      ]
     },
     "metadata": {},
     "output_type": "display_data"
    },
    {
     "data": {
      "text/html": [
       "<iframe\n",
       "    scrolling=\"no\"\n",
       "    width=\"100%\"\n",
       "    height=\"545px\"\n",
       "    src=\"iframe_figures/figure_17.html\"\n",
       "    frameborder=\"0\"\n",
       "    allowfullscreen\n",
       "></iframe>\n"
      ]
     },
     "metadata": {},
     "output_type": "display_data"
    },
    {
     "data": {
      "text/html": [
       "<iframe\n",
       "    scrolling=\"no\"\n",
       "    width=\"100%\"\n",
       "    height=\"545px\"\n",
       "    src=\"iframe_figures/figure_17.html\"\n",
       "    frameborder=\"0\"\n",
       "    allowfullscreen\n",
       "></iframe>\n"
      ]
     },
     "metadata": {},
     "output_type": "display_data"
    },
    {
     "data": {
      "text/html": [
       "<iframe\n",
       "    scrolling=\"no\"\n",
       "    width=\"100%\"\n",
       "    height=\"545px\"\n",
       "    src=\"iframe_figures/figure_17.html\"\n",
       "    frameborder=\"0\"\n",
       "    allowfullscreen\n",
       "></iframe>\n"
      ]
     },
     "metadata": {},
     "output_type": "display_data"
    },
    {
     "data": {
      "text/html": [
       "<iframe\n",
       "    scrolling=\"no\"\n",
       "    width=\"100%\"\n",
       "    height=\"545px\"\n",
       "    src=\"iframe_figures/figure_17.html\"\n",
       "    frameborder=\"0\"\n",
       "    allowfullscreen\n",
       "></iframe>\n"
      ]
     },
     "metadata": {},
     "output_type": "display_data"
    },
    {
     "data": {
      "text/html": [
       "<iframe\n",
       "    scrolling=\"no\"\n",
       "    width=\"100%\"\n",
       "    height=\"545px\"\n",
       "    src=\"iframe_figures/figure_17.html\"\n",
       "    frameborder=\"0\"\n",
       "    allowfullscreen\n",
       "></iframe>\n"
      ]
     },
     "metadata": {},
     "output_type": "display_data"
    },
    {
     "data": {
      "text/html": [
       "<iframe\n",
       "    scrolling=\"no\"\n",
       "    width=\"100%\"\n",
       "    height=\"545px\"\n",
       "    src=\"iframe_figures/figure_17.html\"\n",
       "    frameborder=\"0\"\n",
       "    allowfullscreen\n",
       "></iframe>\n"
      ]
     },
     "metadata": {},
     "output_type": "display_data"
    },
    {
     "data": {
      "text/html": [
       "<iframe\n",
       "    scrolling=\"no\"\n",
       "    width=\"100%\"\n",
       "    height=\"545px\"\n",
       "    src=\"iframe_figures/figure_17.html\"\n",
       "    frameborder=\"0\"\n",
       "    allowfullscreen\n",
       "></iframe>\n"
      ]
     },
     "metadata": {},
     "output_type": "display_data"
    },
    {
     "data": {
      "text/html": [
       "<iframe\n",
       "    scrolling=\"no\"\n",
       "    width=\"100%\"\n",
       "    height=\"545px\"\n",
       "    src=\"iframe_figures/figure_17.html\"\n",
       "    frameborder=\"0\"\n",
       "    allowfullscreen\n",
       "></iframe>\n"
      ]
     },
     "metadata": {},
     "output_type": "display_data"
    },
    {
     "data": {
      "text/html": [
       "<iframe\n",
       "    scrolling=\"no\"\n",
       "    width=\"100%\"\n",
       "    height=\"545px\"\n",
       "    src=\"iframe_figures/figure_17.html\"\n",
       "    frameborder=\"0\"\n",
       "    allowfullscreen\n",
       "></iframe>\n"
      ]
     },
     "metadata": {},
     "output_type": "display_data"
    },
    {
     "data": {
      "text/html": [
       "<iframe\n",
       "    scrolling=\"no\"\n",
       "    width=\"100%\"\n",
       "    height=\"545px\"\n",
       "    src=\"iframe_figures/figure_17.html\"\n",
       "    frameborder=\"0\"\n",
       "    allowfullscreen\n",
       "></iframe>\n"
      ]
     },
     "metadata": {},
     "output_type": "display_data"
    },
    {
     "data": {
      "text/html": [
       "<iframe\n",
       "    scrolling=\"no\"\n",
       "    width=\"100%\"\n",
       "    height=\"545px\"\n",
       "    src=\"iframe_figures/figure_17.html\"\n",
       "    frameborder=\"0\"\n",
       "    allowfullscreen\n",
       "></iframe>\n"
      ]
     },
     "metadata": {},
     "output_type": "display_data"
    },
    {
     "data": {
      "text/html": [
       "<iframe\n",
       "    scrolling=\"no\"\n",
       "    width=\"100%\"\n",
       "    height=\"545px\"\n",
       "    src=\"iframe_figures/figure_17.html\"\n",
       "    frameborder=\"0\"\n",
       "    allowfullscreen\n",
       "></iframe>\n"
      ]
     },
     "metadata": {},
     "output_type": "display_data"
    },
    {
     "name": "stdout",
     "output_type": "stream",
     "text": [
      "DONE!\n"
     ]
    },
    {
     "name": "stderr",
     "output_type": "stream",
     "text": [
      "100%|██████████| 36/36 [00:10<00:00,  3.35it/s]\n"
     ]
    },
    {
     "name": "stdout",
     "output_type": "stream",
     "text": [
      "Saving scores to  eval/mle/x/tabddpm_test.json\n",
      "ROC - AUC обучения на синтетических данных TABDDPM_TEST: 0.918 ± 0.005\n",
      "x, tabddpm_test: 1.0\n",
      "DCR Score, a value closer to 0.5 is better\n",
      "x-tabddpm_test, DCR Score = 0.9992322103129511\n",
      "=========== All Features ===========\n",
      "Data shape:  (32561, 110)\n",
      "alpha precision: 0.999978, beta recall: 0.999978\n"
     ]
    }
   ],
   "source": [
    "overall_metrics = {}\n",
    "\n",
    "model_name = 'tabddpm_test'\n",
    "sample_save_path = f'./synthetic/{dataname}/real.csv'\n",
    "\n",
    "CONFIG.add_arg('method', model_name)\n",
    "CONFIG.add_arg('dataname', dataname)\n",
    "CONFIG.add_arg('sample_save_path',\n",
    "                   f\"synthetic/{CONFIG.get_arg('dataname')}/real.csv\")\n",
    "\n",
    "overall_metrics[model_name] = {}\n",
    "\n",
    "print(model_name, sample_save_path)\n",
    "\n",
    "# tabddpm_noise_ohe = TabDDPM_OHE_Noise(CONFIG, model_save_path=model_save_path, sigmas=None)\n",
    "# tabddpm_noise_ohe.sample(sample_save_path=sample_save_path)\n",
    "postsample_OHE(dataname, f'./synthetic/{dataname}/initial_{model_name}.csv')\n",
    "\n",
    "# подсчет метрик\n",
    "# overall_metrics[model_name]['base_metrics'] = calculate_base_metrics(make_binary=True, value=' >50K') - ошибка\n",
    "overall_metrics[model_name]['similarity'] = calculate_similarity()\n",
    "overall_metrics[model_name]['mle'] = calculate_mle()\n",
    "overall_metrics[model_name]['detection'] = calculate_detection()\n",
    "overall_metrics[model_name]['DCR'] = calculate_DCR()\n",
    "overall_metrics[model_name]['quality'] = calculate_alpha_beta()"
   ]
  }
 ],
 "metadata": {
  "colab": {
   "authorship_tag": "ABX9TyM87OAyAZDeZ/KEr1BVC60/",
   "mount_file_id": "1-H09AG2TbV5ZzQ-ytJRNbFUCirBvOV9p",
   "provenance": []
  },
  "kernelspec": {
   "display_name": "Python3 (ipykernel)",
   "language": "python",
   "name": "python3"
  },
  "language_info": {
   "codemirror_mode": {
    "name": "ipython",
    "version": 3
   },
   "file_extension": ".py",
   "mimetype": "text/x-python",
   "name": "python",
   "nbconvert_exporter": "python",
   "pygments_lexer": "ipython3",
   "version": "3.10.12"
  },
  "widgets": {
   "application/vnd.jupyter.widget-state+json": {
    "state": {},
    "version_major": 2,
    "version_minor": 0
   }
  }
 },
 "nbformat": 4,
 "nbformat_minor": 4
}
