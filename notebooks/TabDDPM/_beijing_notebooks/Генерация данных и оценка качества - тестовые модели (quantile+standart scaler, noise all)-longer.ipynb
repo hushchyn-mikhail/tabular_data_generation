{
 "cells": [
  {
   "cell_type": "markdown",
   "metadata": {},
   "source": [
    "В этом ноубуке используются обeченные тестовые модели, с их помощью происходит сэмплирование и далее закодированные категориальные переменные переводятся в изначальные. После чего замеряется качество.\n",
    "\n",
    "Способ нормализации: quantile transformation для числовых признаков и standart scale для категориальных OHE\n",
    "\n",
    "Добавление шума: ко всем признакам"
   ]
  },
  {
   "cell_type": "code",
   "execution_count": 1,
   "metadata": {},
   "outputs": [
    {
     "name": "stderr",
     "output_type": "stream",
     "text": [
      "/venv/main/lib/python3.10/site-packages/IPython/core/magics/osm.py:417: UserWarning: This is now an optional IPython functionality, setting dhist requires you to install the `pickleshare` library.\n",
      "  self.shell.db['dhist'] = compress_dhist(dhist)[-100:]\n"
     ]
    },
    {
     "name": "stdout",
     "output_type": "stream",
     "text": [
      "/workspace/TabDDPM_copy/TabDDPM\n"
     ]
    }
   ],
   "source": [
    "%cd .."
   ]
  },
  {
   "cell_type": "code",
   "execution_count": 2,
   "metadata": {
    "executionInfo": {
     "elapsed": 11435,
     "status": "ok",
     "timestamp": 1742850942286,
     "user": {
      "displayName": "Elina Telesheva",
      "userId": "03968090829384653347"
     },
     "user_tz": -180
    },
    "id": "o77KHt0w3DWc"
   },
   "outputs": [],
   "source": [
    "import json\n",
    "import pandas as pd\n",
    "import torch\n",
    "import matplotlib.pyplot as plt\n",
    "\n",
    "from utils import *\n",
    "from models.tabddpm_ON_QnSC.tabddpm_ON_QnSC import *\n",
    "\n",
    "from tqdm.notebook import tqdm\n",
    "\n",
    "from eval.base_metrics import calculate_base_metrics\n",
    "from eval.similarity import calculate_similarity\n",
    "from eval.mle import calculate_mle\n",
    "from eval.alpha_beta import calculate_alpha_beta\n",
    "from eval.detection import calculate_detection\n",
    "from eval.dcr import calculate_DCR"
   ]
  },
  {
   "cell_type": "markdown",
   "metadata": {},
   "source": [
    "### Подготовка"
   ]
  },
  {
   "cell_type": "code",
   "execution_count": 3,
   "metadata": {},
   "outputs": [],
   "source": [
    "dataname = 'beijing_ON_QnSC_200k'\n",
    "dataname_initial = 'beijing'\n",
    "model_short = 'tabddpm_ON_QnSC'\n",
    "model_name = 'tabddpm_ON_QnSC'\n",
    "model_name_postfix = '_200k'\n",
    "\n",
    "idx = list(range(10))\n",
    "constants = [0, 0.001, 0.01, 0.1, 0.25, 0.5]\n",
    "\n",
    "CONFIG.add_arg('save_cat', None)\n",
    "target_cat=False"
   ]
  },
  {
   "cell_type": "code",
   "execution_count": 4,
   "metadata": {},
   "outputs": [
    {
     "name": "stdout",
     "output_type": "stream",
     "text": [
      "Device: cuda\n"
     ]
    }
   ],
   "source": [
    "if torch.cuda.is_available():\n",
    "    device = f'cuda'\n",
    "else:\n",
    "    device = 'cpu'\n",
    "CONFIG.add_arg('device', device)\n",
    "print(f\"Device: {device}\")\n",
    "\n",
    "CONFIG.add_arg('dataname', dataname)\n",
    "CONFIG.add_arg('real_path',\n",
    "                   f'./synthetic/{dataname}/initial_real.csv')\n",
    "CONFIG.add_arg('test_path',\n",
    "                   f'./synthetic/{dataname}/initial_test.csv')\n",
    "\n",
    "CONFIG.add_arg('info_path',\n",
    "                   f'./data/{dataname}/initial_info.json')"
   ]
  },
  {
   "cell_type": "code",
   "execution_count": 5,
   "metadata": {},
   "outputs": [],
   "source": [
    "model_save_path_hist = []\n",
    "for sigma in constants:\n",
    "    model_save_path=f\"./models/{model_name}/ckpt/{dataname_initial}/{model_name}{model_name_postfix}_const_{str(sigma).replace('.', '_')}\"\n",
    "    model_save_path_hist.append(model_save_path)\n",
    "\n",
    "for i in idx:\n",
    "    model_save_path=f\"./models/{model_name}/ckpt/{dataname_initial}/{model_name}{model_name_postfix}_mult_{i}\"\n",
    "    model_save_path_hist.append(model_save_path)"
   ]
  },
  {
   "cell_type": "code",
   "execution_count": 6,
   "metadata": {},
   "outputs": [
    {
     "name": "stdout",
     "output_type": "stream",
     "text": [
      "normalizers received from `data/beijing_ON_QnSC_200k` folder\n"
     ]
    }
   ],
   "source": [
    "from pickle import dump, load\n",
    "with open(f'data/{dataname}/normalizers.json', 'r') as f:\n",
    "        normalizers = json.load(f)\n",
    "normalizers['num_normalizer'] = load(open(f'./data/{dataname}/num_normalizer_{dataname}.pkl', 'rb'))\n",
    "normalizers['cat_normalizer'] = load(open(f'./data/{dataname}/cat_normalizer_{dataname}.pkl', 'rb'))\n",
    "print(f\"normalizers received from `data/{dataname}` folder\")"
   ]
  },
  {
   "cell_type": "code",
   "execution_count": 7,
   "metadata": {},
   "outputs": [
    {
     "data": {
      "text/plain": [
       "{'dataname': 'beijing_ON_QnSC_200k',\n",
       " 'method': 'tabddpm',\n",
       " 'device': 'cuda',\n",
       " 'mode': 'train',\n",
       " 'train': 1,\n",
       " 'sample_save_path': 'synthetic/beijing/tabddpm.csv',\n",
       " 'sigma_scheduller_name': 'constant',\n",
       " 'sigma_value': 0.001,\n",
       " 'num_noise': 66,\n",
       " 'real_path': './synthetic/beijing_ON_QnSC_200k/initial_real.csv',\n",
       " 'test_path': './synthetic/beijing_ON_QnSC_200k/initial_test.csv',\n",
       " 'info_path': './data/beijing_ON_QnSC_200k/initial_info.json',\n",
       " 'save_path': './synthetic/shoppers_ON_QnSC_200k/initial_tabddpm_ON_QnSC_200k_mult_9.csv',\n",
       " 'num_clusters': 25,\n",
       " 'save_cat': None}"
      ]
     },
     "execution_count": 7,
     "metadata": {},
     "output_type": "execute_result"
    }
   ],
   "source": [
    "CONFIG.get_all_args()"
   ]
  },
  {
   "cell_type": "markdown",
   "metadata": {},
   "source": [
    "### Sample + Eval"
   ]
  },
  {
   "cell_type": "code",
   "execution_count": 13,
   "metadata": {
    "scrolled": true
   },
   "outputs": [
    {
     "name": "stdout",
     "output_type": "stream",
     "text": [
      "./models/tabddpm_ON_QnSC/ckpt/beijing/tabddpm_ON_QnSC_200k_const_0 tabddpm_ON_QnSC_200k_const_0 ./synthetic/beijing_ON_QnSC_200k/tabddpm_ON_QnSC_200k_const_0.csv\n",
      "No NaNs in numerical features, skipping\n",
      "mlp\n",
      "Sample timestep    0\n",
      "Sample timestep    0\n",
      "Sample timestep    0\n",
      "Sample timestep    0\n",
      "Shape torch.Size([37581, 83])\n",
      "Sampling time: 199.2336893081665\n",
      "Sample path changed to ./synthetic/beijing_ON_QnSC_200k/initial_tabddpm_ON_QnSC_200k_const_0.csv\n",
      "CALCULATING COLUMN-WISE DENSITY ESTIMATION & PAIR-WISE COLUMN CORRELATION...\n",
      "Generating report ...\n",
      "\n",
      "(1/2) Evaluating Column Shapes: |██████████| 12/12 [00:00<00:00, 41.72it/s]|\n",
      "Column Shapes Score: 97.99%\n",
      "\n",
      "(2/2) Evaluating Column Pair Trends: |██████████| 66/66 [00:00<00:00, 81.35it/s]|\n",
      "Column Pair Trends Score: 96.7%\n",
      "\n",
      "Overall Score (Average): 97.34%\n",
      "\n",
      "Error rate (%) of column-wise density estimation TABDDPM_ON_QNSC_200K_CONST_0: 2.011 ± 1.964\n",
      "Error rate (%) of pair-wise column correlation score TABDDPM_ON_QNSC_200K_CONST_0: 3.303 ± 2.502\n"
     ]
    },
    {
     "data": {
      "text/html": [
       "<iframe\n",
       "    scrolling=\"no\"\n",
       "    width=\"100%\"\n",
       "    height=\"545px\"\n",
       "    src=\"iframe_figures/figure_13.html\"\n",
       "    frameborder=\"0\"\n",
       "    allowfullscreen\n",
       "></iframe>\n"
      ]
     },
     "metadata": {},
     "output_type": "display_data"
    },
    {
     "data": {
      "text/html": [
       "<iframe\n",
       "    scrolling=\"no\"\n",
       "    width=\"920px\"\n",
       "    height=\"920\"\n",
       "    src=\"iframe_figures/figure_13.html\"\n",
       "    frameborder=\"0\"\n",
       "    allowfullscreen\n",
       "></iframe>\n"
      ]
     },
     "metadata": {},
     "output_type": "display_data"
    },
    {
     "name": "stdout",
     "output_type": "stream",
     "text": [
      "DONE! \n",
      "\n",
      "DRAW COLUMN VALUES DISTRIBUTIONS...\n"
     ]
    },
    {
     "data": {
      "text/html": [
       "<iframe\n",
       "    scrolling=\"no\"\n",
       "    width=\"100%\"\n",
       "    height=\"545px\"\n",
       "    src=\"iframe_figures/figure_13.html\"\n",
       "    frameborder=\"0\"\n",
       "    allowfullscreen\n",
       "></iframe>\n"
      ]
     },
     "metadata": {},
     "output_type": "display_data"
    },
    {
     "data": {
      "text/html": [
       "<iframe\n",
       "    scrolling=\"no\"\n",
       "    width=\"100%\"\n",
       "    height=\"545px\"\n",
       "    src=\"iframe_figures/figure_13.html\"\n",
       "    frameborder=\"0\"\n",
       "    allowfullscreen\n",
       "></iframe>\n"
      ]
     },
     "metadata": {},
     "output_type": "display_data"
    },
    {
     "data": {
      "text/html": [
       "<iframe\n",
       "    scrolling=\"no\"\n",
       "    width=\"100%\"\n",
       "    height=\"545px\"\n",
       "    src=\"iframe_figures/figure_13.html\"\n",
       "    frameborder=\"0\"\n",
       "    allowfullscreen\n",
       "></iframe>\n"
      ]
     },
     "metadata": {},
     "output_type": "display_data"
    },
    {
     "data": {
      "text/html": [
       "<iframe\n",
       "    scrolling=\"no\"\n",
       "    width=\"100%\"\n",
       "    height=\"545px\"\n",
       "    src=\"iframe_figures/figure_13.html\"\n",
       "    frameborder=\"0\"\n",
       "    allowfullscreen\n",
       "></iframe>\n"
      ]
     },
     "metadata": {},
     "output_type": "display_data"
    },
    {
     "data": {
      "text/html": [
       "<iframe\n",
       "    scrolling=\"no\"\n",
       "    width=\"100%\"\n",
       "    height=\"545px\"\n",
       "    src=\"iframe_figures/figure_13.html\"\n",
       "    frameborder=\"0\"\n",
       "    allowfullscreen\n",
       "></iframe>\n"
      ]
     },
     "metadata": {},
     "output_type": "display_data"
    },
    {
     "data": {
      "text/html": [
       "<iframe\n",
       "    scrolling=\"no\"\n",
       "    width=\"100%\"\n",
       "    height=\"545px\"\n",
       "    src=\"iframe_figures/figure_13.html\"\n",
       "    frameborder=\"0\"\n",
       "    allowfullscreen\n",
       "></iframe>\n"
      ]
     },
     "metadata": {},
     "output_type": "display_data"
    },
    {
     "data": {
      "text/html": [
       "<iframe\n",
       "    scrolling=\"no\"\n",
       "    width=\"100%\"\n",
       "    height=\"545px\"\n",
       "    src=\"iframe_figures/figure_13.html\"\n",
       "    frameborder=\"0\"\n",
       "    allowfullscreen\n",
       "></iframe>\n"
      ]
     },
     "metadata": {},
     "output_type": "display_data"
    },
    {
     "data": {
      "text/html": [
       "<iframe\n",
       "    scrolling=\"no\"\n",
       "    width=\"100%\"\n",
       "    height=\"545px\"\n",
       "    src=\"iframe_figures/figure_13.html\"\n",
       "    frameborder=\"0\"\n",
       "    allowfullscreen\n",
       "></iframe>\n"
      ]
     },
     "metadata": {},
     "output_type": "display_data"
    },
    {
     "data": {
      "text/html": [
       "<iframe\n",
       "    scrolling=\"no\"\n",
       "    width=\"100%\"\n",
       "    height=\"545px\"\n",
       "    src=\"iframe_figures/figure_13.html\"\n",
       "    frameborder=\"0\"\n",
       "    allowfullscreen\n",
       "></iframe>\n"
      ]
     },
     "metadata": {},
     "output_type": "display_data"
    },
    {
     "data": {
      "text/html": [
       "<iframe\n",
       "    scrolling=\"no\"\n",
       "    width=\"100%\"\n",
       "    height=\"545px\"\n",
       "    src=\"iframe_figures/figure_13.html\"\n",
       "    frameborder=\"0\"\n",
       "    allowfullscreen\n",
       "></iframe>\n"
      ]
     },
     "metadata": {},
     "output_type": "display_data"
    },
    {
     "data": {
      "text/html": [
       "<iframe\n",
       "    scrolling=\"no\"\n",
       "    width=\"100%\"\n",
       "    height=\"545px\"\n",
       "    src=\"iframe_figures/figure_13.html\"\n",
       "    frameborder=\"0\"\n",
       "    allowfullscreen\n",
       "></iframe>\n"
      ]
     },
     "metadata": {},
     "output_type": "display_data"
    },
    {
     "data": {
      "text/html": [
       "<iframe\n",
       "    scrolling=\"no\"\n",
       "    width=\"100%\"\n",
       "    height=\"545px\"\n",
       "    src=\"iframe_figures/figure_13.html\"\n",
       "    frameborder=\"0\"\n",
       "    allowfullscreen\n",
       "></iframe>\n"
      ]
     },
     "metadata": {},
     "output_type": "display_data"
    },
    {
     "name": "stdout",
     "output_type": "stream",
     "text": [
      "DONE!\n"
     ]
    },
    {
     "name": "stderr",
     "output_type": "stream",
     "text": [
      "100%|██████████| 36/36 [00:24<00:00,  1.44it/s]\n"
     ]
    },
    {
     "name": "stdout",
     "output_type": "stream",
     "text": [
      "Saving scores to  eval/mle/beijing_ON_QnSC_200k/tabddpm_ON_QnSC_200k_const_0.json\n",
      "RMSE обучения на синтетических данных TABDDPM_ON_QNSC_200K_CONST_0: 0.545 ± 0.043\n",
      "beijing_ON_QnSC_200k, tabddpm_ON_QnSC_200k_const_0: 0.9135241126286776\n",
      "n_clusters: 25\n",
      "DCR Score, a value closer to 0.5 is better\n",
      "beijing_ON_QnSC_200k-tabddpm_ON_QnSC_200k_const_0, DCR Score = 0.5089806018998962\n",
      "=========== All Features ===========\n",
      "Data shape:  (37581, 83)\n",
      "alpha precision: 0.974778, beta recall: 0.560530\n",
      "./models/tabddpm_ON_QnSC/ckpt/beijing/tabddpm_ON_QnSC_200k_const_0_001 tabddpm_ON_QnSC_200k_const_0_001 ./synthetic/beijing_ON_QnSC_200k/tabddpm_ON_QnSC_200k_const_0_001.csv\n",
      "No NaNs in numerical features, skipping\n",
      "mlp\n",
      "Sample timestep    0\n",
      "Sample timestep    0\n",
      "Sample timestep    0\n",
      "Sample timestep    0\n",
      "Shape torch.Size([37581, 83])\n",
      "Sampling time: 198.41256022453308\n",
      "Sample path changed to ./synthetic/beijing_ON_QnSC_200k/initial_tabddpm_ON_QnSC_200k_const_0_001.csv\n",
      "CALCULATING COLUMN-WISE DENSITY ESTIMATION & PAIR-WISE COLUMN CORRELATION...\n",
      "Generating report ...\n",
      "\n",
      "(1/2) Evaluating Column Shapes: |██████████| 12/12 [00:00<00:00, 45.25it/s]|\n",
      "Column Shapes Score: 97.68%\n",
      "\n",
      "(2/2) Evaluating Column Pair Trends: |██████████| 66/66 [00:00<00:00, 90.84it/s]|\n",
      "Column Pair Trends Score: 96.08%\n",
      "\n",
      "Overall Score (Average): 96.88%\n",
      "\n",
      "Error rate (%) of column-wise density estimation TABDDPM_ON_QNSC_200K_CONST_0_001: 2.322 ± 2.404\n",
      "Error rate (%) of pair-wise column correlation score TABDDPM_ON_QNSC_200K_CONST_0_001: 3.924 ± 3.394\n"
     ]
    },
    {
     "data": {
      "text/html": [
       "<iframe\n",
       "    scrolling=\"no\"\n",
       "    width=\"100%\"\n",
       "    height=\"545px\"\n",
       "    src=\"iframe_figures/figure_13.html\"\n",
       "    frameborder=\"0\"\n",
       "    allowfullscreen\n",
       "></iframe>\n"
      ]
     },
     "metadata": {},
     "output_type": "display_data"
    },
    {
     "data": {
      "text/html": [
       "<iframe\n",
       "    scrolling=\"no\"\n",
       "    width=\"920px\"\n",
       "    height=\"920\"\n",
       "    src=\"iframe_figures/figure_13.html\"\n",
       "    frameborder=\"0\"\n",
       "    allowfullscreen\n",
       "></iframe>\n"
      ]
     },
     "metadata": {},
     "output_type": "display_data"
    },
    {
     "name": "stdout",
     "output_type": "stream",
     "text": [
      "DONE! \n",
      "\n",
      "DRAW COLUMN VALUES DISTRIBUTIONS...\n"
     ]
    },
    {
     "data": {
      "text/html": [
       "<iframe\n",
       "    scrolling=\"no\"\n",
       "    width=\"100%\"\n",
       "    height=\"545px\"\n",
       "    src=\"iframe_figures/figure_13.html\"\n",
       "    frameborder=\"0\"\n",
       "    allowfullscreen\n",
       "></iframe>\n"
      ]
     },
     "metadata": {},
     "output_type": "display_data"
    },
    {
     "data": {
      "text/html": [
       "<iframe\n",
       "    scrolling=\"no\"\n",
       "    width=\"100%\"\n",
       "    height=\"545px\"\n",
       "    src=\"iframe_figures/figure_13.html\"\n",
       "    frameborder=\"0\"\n",
       "    allowfullscreen\n",
       "></iframe>\n"
      ]
     },
     "metadata": {},
     "output_type": "display_data"
    },
    {
     "data": {
      "text/html": [
       "<iframe\n",
       "    scrolling=\"no\"\n",
       "    width=\"100%\"\n",
       "    height=\"545px\"\n",
       "    src=\"iframe_figures/figure_13.html\"\n",
       "    frameborder=\"0\"\n",
       "    allowfullscreen\n",
       "></iframe>\n"
      ]
     },
     "metadata": {},
     "output_type": "display_data"
    },
    {
     "data": {
      "text/html": [
       "<iframe\n",
       "    scrolling=\"no\"\n",
       "    width=\"100%\"\n",
       "    height=\"545px\"\n",
       "    src=\"iframe_figures/figure_13.html\"\n",
       "    frameborder=\"0\"\n",
       "    allowfullscreen\n",
       "></iframe>\n"
      ]
     },
     "metadata": {},
     "output_type": "display_data"
    },
    {
     "data": {
      "text/html": [
       "<iframe\n",
       "    scrolling=\"no\"\n",
       "    width=\"100%\"\n",
       "    height=\"545px\"\n",
       "    src=\"iframe_figures/figure_13.html\"\n",
       "    frameborder=\"0\"\n",
       "    allowfullscreen\n",
       "></iframe>\n"
      ]
     },
     "metadata": {},
     "output_type": "display_data"
    },
    {
     "data": {
      "text/html": [
       "<iframe\n",
       "    scrolling=\"no\"\n",
       "    width=\"100%\"\n",
       "    height=\"545px\"\n",
       "    src=\"iframe_figures/figure_13.html\"\n",
       "    frameborder=\"0\"\n",
       "    allowfullscreen\n",
       "></iframe>\n"
      ]
     },
     "metadata": {},
     "output_type": "display_data"
    },
    {
     "data": {
      "text/html": [
       "<iframe\n",
       "    scrolling=\"no\"\n",
       "    width=\"100%\"\n",
       "    height=\"545px\"\n",
       "    src=\"iframe_figures/figure_13.html\"\n",
       "    frameborder=\"0\"\n",
       "    allowfullscreen\n",
       "></iframe>\n"
      ]
     },
     "metadata": {},
     "output_type": "display_data"
    },
    {
     "data": {
      "text/html": [
       "<iframe\n",
       "    scrolling=\"no\"\n",
       "    width=\"100%\"\n",
       "    height=\"545px\"\n",
       "    src=\"iframe_figures/figure_13.html\"\n",
       "    frameborder=\"0\"\n",
       "    allowfullscreen\n",
       "></iframe>\n"
      ]
     },
     "metadata": {},
     "output_type": "display_data"
    },
    {
     "data": {
      "text/html": [
       "<iframe\n",
       "    scrolling=\"no\"\n",
       "    width=\"100%\"\n",
       "    height=\"545px\"\n",
       "    src=\"iframe_figures/figure_13.html\"\n",
       "    frameborder=\"0\"\n",
       "    allowfullscreen\n",
       "></iframe>\n"
      ]
     },
     "metadata": {},
     "output_type": "display_data"
    },
    {
     "data": {
      "text/html": [
       "<iframe\n",
       "    scrolling=\"no\"\n",
       "    width=\"100%\"\n",
       "    height=\"545px\"\n",
       "    src=\"iframe_figures/figure_13.html\"\n",
       "    frameborder=\"0\"\n",
       "    allowfullscreen\n",
       "></iframe>\n"
      ]
     },
     "metadata": {},
     "output_type": "display_data"
    },
    {
     "data": {
      "text/html": [
       "<iframe\n",
       "    scrolling=\"no\"\n",
       "    width=\"100%\"\n",
       "    height=\"545px\"\n",
       "    src=\"iframe_figures/figure_13.html\"\n",
       "    frameborder=\"0\"\n",
       "    allowfullscreen\n",
       "></iframe>\n"
      ]
     },
     "metadata": {},
     "output_type": "display_data"
    },
    {
     "data": {
      "text/html": [
       "<iframe\n",
       "    scrolling=\"no\"\n",
       "    width=\"100%\"\n",
       "    height=\"545px\"\n",
       "    src=\"iframe_figures/figure_13.html\"\n",
       "    frameborder=\"0\"\n",
       "    allowfullscreen\n",
       "></iframe>\n"
      ]
     },
     "metadata": {},
     "output_type": "display_data"
    },
    {
     "name": "stdout",
     "output_type": "stream",
     "text": [
      "DONE!\n"
     ]
    },
    {
     "name": "stderr",
     "output_type": "stream",
     "text": [
      "100%|██████████| 36/36 [00:24<00:00,  1.49it/s]\n"
     ]
    },
    {
     "name": "stdout",
     "output_type": "stream",
     "text": [
      "Saving scores to  eval/mle/beijing_ON_QnSC_200k/tabddpm_ON_QnSC_200k_const_0_001.json\n",
      "RMSE обучения на синтетических данных TABDDPM_ON_QNSC_200K_CONST_0_001: 0.543 ± 0.050\n",
      "beijing_ON_QnSC_200k, tabddpm_ON_QnSC_200k_const_0_001: 0.9034091004074077\n",
      "n_clusters: 25\n",
      "DCR Score, a value closer to 0.5 is better\n",
      "beijing_ON_QnSC_200k-tabddpm_ON_QnSC_200k_const_0_001, DCR Score = 0.5051222692317927\n",
      "=========== All Features ===========\n",
      "Data shape:  (37581, 83)\n",
      "alpha precision: 0.969586, beta recall: 0.586073\n",
      "./models/tabddpm_ON_QnSC/ckpt/beijing/tabddpm_ON_QnSC_200k_const_0_01 tabddpm_ON_QnSC_200k_const_0_01 ./synthetic/beijing_ON_QnSC_200k/tabddpm_ON_QnSC_200k_const_0_01.csv\n",
      "No NaNs in numerical features, skipping\n",
      "mlp\n",
      "Sample timestep    0\n",
      "Sample timestep    0\n",
      "Sample timestep    0\n",
      "Sample timestep    0\n",
      "Shape torch.Size([37581, 83])\n",
      "Sampling time: 197.94645500183105\n",
      "Sample path changed to ./synthetic/beijing_ON_QnSC_200k/initial_tabddpm_ON_QnSC_200k_const_0_01.csv\n",
      "CALCULATING COLUMN-WISE DENSITY ESTIMATION & PAIR-WISE COLUMN CORRELATION...\n",
      "Generating report ...\n",
      "\n",
      "(1/2) Evaluating Column Shapes: |██████████| 12/12 [00:00<00:00, 40.63it/s]|\n",
      "Column Shapes Score: 97.48%\n",
      "\n",
      "(2/2) Evaluating Column Pair Trends: |██████████| 66/66 [00:00<00:00, 82.85it/s]|\n",
      "Column Pair Trends Score: 95.64%\n",
      "\n",
      "Overall Score (Average): 96.56%\n",
      "\n",
      "Error rate (%) of column-wise density estimation TABDDPM_ON_QNSC_200K_CONST_0_01: 2.519 ± 2.580\n",
      "Error rate (%) of pair-wise column correlation score TABDDPM_ON_QNSC_200K_CONST_0_01: 4.363 ± 4.000\n"
     ]
    },
    {
     "data": {
      "text/html": [
       "<iframe\n",
       "    scrolling=\"no\"\n",
       "    width=\"100%\"\n",
       "    height=\"545px\"\n",
       "    src=\"iframe_figures/figure_13.html\"\n",
       "    frameborder=\"0\"\n",
       "    allowfullscreen\n",
       "></iframe>\n"
      ]
     },
     "metadata": {},
     "output_type": "display_data"
    },
    {
     "data": {
      "text/html": [
       "<iframe\n",
       "    scrolling=\"no\"\n",
       "    width=\"920px\"\n",
       "    height=\"920\"\n",
       "    src=\"iframe_figures/figure_13.html\"\n",
       "    frameborder=\"0\"\n",
       "    allowfullscreen\n",
       "></iframe>\n"
      ]
     },
     "metadata": {},
     "output_type": "display_data"
    },
    {
     "name": "stdout",
     "output_type": "stream",
     "text": [
      "DONE! \n",
      "\n",
      "DRAW COLUMN VALUES DISTRIBUTIONS...\n"
     ]
    },
    {
     "data": {
      "text/html": [
       "<iframe\n",
       "    scrolling=\"no\"\n",
       "    width=\"100%\"\n",
       "    height=\"545px\"\n",
       "    src=\"iframe_figures/figure_13.html\"\n",
       "    frameborder=\"0\"\n",
       "    allowfullscreen\n",
       "></iframe>\n"
      ]
     },
     "metadata": {},
     "output_type": "display_data"
    },
    {
     "data": {
      "text/html": [
       "<iframe\n",
       "    scrolling=\"no\"\n",
       "    width=\"100%\"\n",
       "    height=\"545px\"\n",
       "    src=\"iframe_figures/figure_13.html\"\n",
       "    frameborder=\"0\"\n",
       "    allowfullscreen\n",
       "></iframe>\n"
      ]
     },
     "metadata": {},
     "output_type": "display_data"
    },
    {
     "data": {
      "text/html": [
       "<iframe\n",
       "    scrolling=\"no\"\n",
       "    width=\"100%\"\n",
       "    height=\"545px\"\n",
       "    src=\"iframe_figures/figure_13.html\"\n",
       "    frameborder=\"0\"\n",
       "    allowfullscreen\n",
       "></iframe>\n"
      ]
     },
     "metadata": {},
     "output_type": "display_data"
    },
    {
     "data": {
      "text/html": [
       "<iframe\n",
       "    scrolling=\"no\"\n",
       "    width=\"100%\"\n",
       "    height=\"545px\"\n",
       "    src=\"iframe_figures/figure_13.html\"\n",
       "    frameborder=\"0\"\n",
       "    allowfullscreen\n",
       "></iframe>\n"
      ]
     },
     "metadata": {},
     "output_type": "display_data"
    },
    {
     "data": {
      "text/html": [
       "<iframe\n",
       "    scrolling=\"no\"\n",
       "    width=\"100%\"\n",
       "    height=\"545px\"\n",
       "    src=\"iframe_figures/figure_13.html\"\n",
       "    frameborder=\"0\"\n",
       "    allowfullscreen\n",
       "></iframe>\n"
      ]
     },
     "metadata": {},
     "output_type": "display_data"
    },
    {
     "data": {
      "text/html": [
       "<iframe\n",
       "    scrolling=\"no\"\n",
       "    width=\"100%\"\n",
       "    height=\"545px\"\n",
       "    src=\"iframe_figures/figure_13.html\"\n",
       "    frameborder=\"0\"\n",
       "    allowfullscreen\n",
       "></iframe>\n"
      ]
     },
     "metadata": {},
     "output_type": "display_data"
    },
    {
     "data": {
      "text/html": [
       "<iframe\n",
       "    scrolling=\"no\"\n",
       "    width=\"100%\"\n",
       "    height=\"545px\"\n",
       "    src=\"iframe_figures/figure_13.html\"\n",
       "    frameborder=\"0\"\n",
       "    allowfullscreen\n",
       "></iframe>\n"
      ]
     },
     "metadata": {},
     "output_type": "display_data"
    },
    {
     "data": {
      "text/html": [
       "<iframe\n",
       "    scrolling=\"no\"\n",
       "    width=\"100%\"\n",
       "    height=\"545px\"\n",
       "    src=\"iframe_figures/figure_13.html\"\n",
       "    frameborder=\"0\"\n",
       "    allowfullscreen\n",
       "></iframe>\n"
      ]
     },
     "metadata": {},
     "output_type": "display_data"
    },
    {
     "data": {
      "text/html": [
       "<iframe\n",
       "    scrolling=\"no\"\n",
       "    width=\"100%\"\n",
       "    height=\"545px\"\n",
       "    src=\"iframe_figures/figure_13.html\"\n",
       "    frameborder=\"0\"\n",
       "    allowfullscreen\n",
       "></iframe>\n"
      ]
     },
     "metadata": {},
     "output_type": "display_data"
    },
    {
     "data": {
      "text/html": [
       "<iframe\n",
       "    scrolling=\"no\"\n",
       "    width=\"100%\"\n",
       "    height=\"545px\"\n",
       "    src=\"iframe_figures/figure_13.html\"\n",
       "    frameborder=\"0\"\n",
       "    allowfullscreen\n",
       "></iframe>\n"
      ]
     },
     "metadata": {},
     "output_type": "display_data"
    },
    {
     "data": {
      "text/html": [
       "<iframe\n",
       "    scrolling=\"no\"\n",
       "    width=\"100%\"\n",
       "    height=\"545px\"\n",
       "    src=\"iframe_figures/figure_13.html\"\n",
       "    frameborder=\"0\"\n",
       "    allowfullscreen\n",
       "></iframe>\n"
      ]
     },
     "metadata": {},
     "output_type": "display_data"
    },
    {
     "data": {
      "text/html": [
       "<iframe\n",
       "    scrolling=\"no\"\n",
       "    width=\"100%\"\n",
       "    height=\"545px\"\n",
       "    src=\"iframe_figures/figure_13.html\"\n",
       "    frameborder=\"0\"\n",
       "    allowfullscreen\n",
       "></iframe>\n"
      ]
     },
     "metadata": {},
     "output_type": "display_data"
    },
    {
     "name": "stdout",
     "output_type": "stream",
     "text": [
      "DONE!\n"
     ]
    },
    {
     "name": "stderr",
     "output_type": "stream",
     "text": [
      "100%|██████████| 36/36 [00:23<00:00,  1.54it/s]\n"
     ]
    },
    {
     "name": "stdout",
     "output_type": "stream",
     "text": [
      "Saving scores to  eval/mle/beijing_ON_QnSC_200k/tabddpm_ON_QnSC_200k_const_0_01.json\n",
      "RMSE обучения на синтетических данных TABDDPM_ON_QNSC_200K_CONST_0_01: 0.539 ± 0.049\n",
      "beijing_ON_QnSC_200k, tabddpm_ON_QnSC_200k_const_0_01: 0.9012174670222497\n",
      "n_clusters: 25\n",
      "DCR Score, a value closer to 0.5 is better\n",
      "beijing_ON_QnSC_200k-tabddpm_ON_QnSC_200k_const_0_01, DCR Score = 0.5050424416593491\n",
      "=========== All Features ===========\n",
      "Data shape:  (37581, 83)\n",
      "alpha precision: 0.967537, beta recall: 0.589120\n",
      "./models/tabddpm_ON_QnSC/ckpt/beijing/tabddpm_ON_QnSC_200k_const_0_1 tabddpm_ON_QnSC_200k_const_0_1 ./synthetic/beijing_ON_QnSC_200k/tabddpm_ON_QnSC_200k_const_0_1.csv\n",
      "No NaNs in numerical features, skipping\n",
      "mlp\n",
      "Sample timestep    0\n",
      "Sample timestep    0\n",
      "Sample timestep    0\n",
      "Sample timestep    0\n",
      "Shape torch.Size([37581, 83])\n",
      "Sampling time: 198.27632427215576\n",
      "Sample path changed to ./synthetic/beijing_ON_QnSC_200k/initial_tabddpm_ON_QnSC_200k_const_0_1.csv\n",
      "CALCULATING COLUMN-WISE DENSITY ESTIMATION & PAIR-WISE COLUMN CORRELATION...\n",
      "Generating report ...\n",
      "\n",
      "(1/2) Evaluating Column Shapes: |██████████| 12/12 [00:00<00:00, 54.39it/s]|\n",
      "Column Shapes Score: 97.75%\n",
      "\n",
      "(2/2) Evaluating Column Pair Trends: |██████████| 66/66 [00:00<00:00, 83.67it/s]|\n",
      "Column Pair Trends Score: 96.18%\n",
      "\n",
      "Overall Score (Average): 96.96%\n",
      "\n",
      "Error rate (%) of column-wise density estimation TABDDPM_ON_QNSC_200K_CONST_0_1: 2.250 ± 2.195\n",
      "Error rate (%) of pair-wise column correlation score TABDDPM_ON_QNSC_200K_CONST_0_1: 3.825 ± 3.054\n"
     ]
    },
    {
     "data": {
      "text/html": [
       "<iframe\n",
       "    scrolling=\"no\"\n",
       "    width=\"100%\"\n",
       "    height=\"545px\"\n",
       "    src=\"iframe_figures/figure_13.html\"\n",
       "    frameborder=\"0\"\n",
       "    allowfullscreen\n",
       "></iframe>\n"
      ]
     },
     "metadata": {},
     "output_type": "display_data"
    },
    {
     "data": {
      "text/html": [
       "<iframe\n",
       "    scrolling=\"no\"\n",
       "    width=\"920px\"\n",
       "    height=\"920\"\n",
       "    src=\"iframe_figures/figure_13.html\"\n",
       "    frameborder=\"0\"\n",
       "    allowfullscreen\n",
       "></iframe>\n"
      ]
     },
     "metadata": {},
     "output_type": "display_data"
    },
    {
     "name": "stdout",
     "output_type": "stream",
     "text": [
      "DONE! \n",
      "\n",
      "DRAW COLUMN VALUES DISTRIBUTIONS...\n"
     ]
    },
    {
     "data": {
      "text/html": [
       "<iframe\n",
       "    scrolling=\"no\"\n",
       "    width=\"100%\"\n",
       "    height=\"545px\"\n",
       "    src=\"iframe_figures/figure_13.html\"\n",
       "    frameborder=\"0\"\n",
       "    allowfullscreen\n",
       "></iframe>\n"
      ]
     },
     "metadata": {},
     "output_type": "display_data"
    },
    {
     "data": {
      "text/html": [
       "<iframe\n",
       "    scrolling=\"no\"\n",
       "    width=\"100%\"\n",
       "    height=\"545px\"\n",
       "    src=\"iframe_figures/figure_13.html\"\n",
       "    frameborder=\"0\"\n",
       "    allowfullscreen\n",
       "></iframe>\n"
      ]
     },
     "metadata": {},
     "output_type": "display_data"
    },
    {
     "data": {
      "text/html": [
       "<iframe\n",
       "    scrolling=\"no\"\n",
       "    width=\"100%\"\n",
       "    height=\"545px\"\n",
       "    src=\"iframe_figures/figure_13.html\"\n",
       "    frameborder=\"0\"\n",
       "    allowfullscreen\n",
       "></iframe>\n"
      ]
     },
     "metadata": {},
     "output_type": "display_data"
    },
    {
     "data": {
      "text/html": [
       "<iframe\n",
       "    scrolling=\"no\"\n",
       "    width=\"100%\"\n",
       "    height=\"545px\"\n",
       "    src=\"iframe_figures/figure_13.html\"\n",
       "    frameborder=\"0\"\n",
       "    allowfullscreen\n",
       "></iframe>\n"
      ]
     },
     "metadata": {},
     "output_type": "display_data"
    },
    {
     "data": {
      "text/html": [
       "<iframe\n",
       "    scrolling=\"no\"\n",
       "    width=\"100%\"\n",
       "    height=\"545px\"\n",
       "    src=\"iframe_figures/figure_13.html\"\n",
       "    frameborder=\"0\"\n",
       "    allowfullscreen\n",
       "></iframe>\n"
      ]
     },
     "metadata": {},
     "output_type": "display_data"
    },
    {
     "data": {
      "text/html": [
       "<iframe\n",
       "    scrolling=\"no\"\n",
       "    width=\"100%\"\n",
       "    height=\"545px\"\n",
       "    src=\"iframe_figures/figure_13.html\"\n",
       "    frameborder=\"0\"\n",
       "    allowfullscreen\n",
       "></iframe>\n"
      ]
     },
     "metadata": {},
     "output_type": "display_data"
    },
    {
     "data": {
      "text/html": [
       "<iframe\n",
       "    scrolling=\"no\"\n",
       "    width=\"100%\"\n",
       "    height=\"545px\"\n",
       "    src=\"iframe_figures/figure_13.html\"\n",
       "    frameborder=\"0\"\n",
       "    allowfullscreen\n",
       "></iframe>\n"
      ]
     },
     "metadata": {},
     "output_type": "display_data"
    },
    {
     "data": {
      "text/html": [
       "<iframe\n",
       "    scrolling=\"no\"\n",
       "    width=\"100%\"\n",
       "    height=\"545px\"\n",
       "    src=\"iframe_figures/figure_13.html\"\n",
       "    frameborder=\"0\"\n",
       "    allowfullscreen\n",
       "></iframe>\n"
      ]
     },
     "metadata": {},
     "output_type": "display_data"
    },
    {
     "data": {
      "text/html": [
       "<iframe\n",
       "    scrolling=\"no\"\n",
       "    width=\"100%\"\n",
       "    height=\"545px\"\n",
       "    src=\"iframe_figures/figure_13.html\"\n",
       "    frameborder=\"0\"\n",
       "    allowfullscreen\n",
       "></iframe>\n"
      ]
     },
     "metadata": {},
     "output_type": "display_data"
    },
    {
     "data": {
      "text/html": [
       "<iframe\n",
       "    scrolling=\"no\"\n",
       "    width=\"100%\"\n",
       "    height=\"545px\"\n",
       "    src=\"iframe_figures/figure_13.html\"\n",
       "    frameborder=\"0\"\n",
       "    allowfullscreen\n",
       "></iframe>\n"
      ]
     },
     "metadata": {},
     "output_type": "display_data"
    },
    {
     "data": {
      "text/html": [
       "<iframe\n",
       "    scrolling=\"no\"\n",
       "    width=\"100%\"\n",
       "    height=\"545px\"\n",
       "    src=\"iframe_figures/figure_13.html\"\n",
       "    frameborder=\"0\"\n",
       "    allowfullscreen\n",
       "></iframe>\n"
      ]
     },
     "metadata": {},
     "output_type": "display_data"
    },
    {
     "data": {
      "text/html": [
       "<iframe\n",
       "    scrolling=\"no\"\n",
       "    width=\"100%\"\n",
       "    height=\"545px\"\n",
       "    src=\"iframe_figures/figure_13.html\"\n",
       "    frameborder=\"0\"\n",
       "    allowfullscreen\n",
       "></iframe>\n"
      ]
     },
     "metadata": {},
     "output_type": "display_data"
    },
    {
     "name": "stdout",
     "output_type": "stream",
     "text": [
      "DONE!\n"
     ]
    },
    {
     "name": "stderr",
     "output_type": "stream",
     "text": [
      "100%|██████████| 36/36 [00:22<00:00,  1.58it/s]\n"
     ]
    },
    {
     "name": "stdout",
     "output_type": "stream",
     "text": [
      "Saving scores to  eval/mle/beijing_ON_QnSC_200k/tabddpm_ON_QnSC_200k_const_0_1.json\n",
      "RMSE обучения на синтетических данных TABDDPM_ON_QNSC_200K_CONST_0_1: 0.548 ± 0.044\n",
      "beijing_ON_QnSC_200k, tabddpm_ON_QnSC_200k_const_0_1: 0.8961065821568791\n",
      "n_clusters: 25\n",
      "DCR Score, a value closer to 0.5 is better\n",
      "beijing_ON_QnSC_200k-tabddpm_ON_QnSC_200k_const_0_1, DCR Score = 0.5119874404619356\n",
      "=========== All Features ===========\n",
      "Data shape:  (37581, 83)\n",
      "alpha precision: 0.973713, beta recall: 0.558080\n",
      "./models/tabddpm_ON_QnSC/ckpt/beijing/tabddpm_ON_QnSC_200k_const_0_25 tabddpm_ON_QnSC_200k_const_0_25 ./synthetic/beijing_ON_QnSC_200k/tabddpm_ON_QnSC_200k_const_0_25.csv\n",
      "No NaNs in numerical features, skipping\n",
      "mlp\n",
      "Sample timestep    0\n",
      "Sample timestep    0\n",
      "Sample timestep    0\n",
      "Sample timestep    0\n",
      "Shape torch.Size([37581, 83])\n",
      "Sampling time: 198.247642993927\n",
      "Sample path changed to ./synthetic/beijing_ON_QnSC_200k/initial_tabddpm_ON_QnSC_200k_const_0_25.csv\n",
      "CALCULATING COLUMN-WISE DENSITY ESTIMATION & PAIR-WISE COLUMN CORRELATION...\n",
      "Generating report ...\n",
      "\n",
      "(1/2) Evaluating Column Shapes: |██████████| 12/12 [00:00<00:00, 45.80it/s]|\n",
      "Column Shapes Score: 98.08%\n",
      "\n",
      "(2/2) Evaluating Column Pair Trends: |██████████| 66/66 [00:00<00:00, 81.63it/s]|\n",
      "Column Pair Trends Score: 96.58%\n",
      "\n",
      "Overall Score (Average): 97.33%\n",
      "\n",
      "Error rate (%) of column-wise density estimation TABDDPM_ON_QNSC_200K_CONST_0_25: 1.921 ± 1.508\n",
      "Error rate (%) of pair-wise column correlation score TABDDPM_ON_QNSC_200K_CONST_0_25: 3.421 ± 2.342\n"
     ]
    },
    {
     "data": {
      "text/html": [
       "<iframe\n",
       "    scrolling=\"no\"\n",
       "    width=\"100%\"\n",
       "    height=\"545px\"\n",
       "    src=\"iframe_figures/figure_13.html\"\n",
       "    frameborder=\"0\"\n",
       "    allowfullscreen\n",
       "></iframe>\n"
      ]
     },
     "metadata": {},
     "output_type": "display_data"
    },
    {
     "data": {
      "text/html": [
       "<iframe\n",
       "    scrolling=\"no\"\n",
       "    width=\"920px\"\n",
       "    height=\"920\"\n",
       "    src=\"iframe_figures/figure_13.html\"\n",
       "    frameborder=\"0\"\n",
       "    allowfullscreen\n",
       "></iframe>\n"
      ]
     },
     "metadata": {},
     "output_type": "display_data"
    },
    {
     "name": "stdout",
     "output_type": "stream",
     "text": [
      "DONE! \n",
      "\n",
      "DRAW COLUMN VALUES DISTRIBUTIONS...\n"
     ]
    },
    {
     "data": {
      "text/html": [
       "<iframe\n",
       "    scrolling=\"no\"\n",
       "    width=\"100%\"\n",
       "    height=\"545px\"\n",
       "    src=\"iframe_figures/figure_13.html\"\n",
       "    frameborder=\"0\"\n",
       "    allowfullscreen\n",
       "></iframe>\n"
      ]
     },
     "metadata": {},
     "output_type": "display_data"
    },
    {
     "data": {
      "text/html": [
       "<iframe\n",
       "    scrolling=\"no\"\n",
       "    width=\"100%\"\n",
       "    height=\"545px\"\n",
       "    src=\"iframe_figures/figure_13.html\"\n",
       "    frameborder=\"0\"\n",
       "    allowfullscreen\n",
       "></iframe>\n"
      ]
     },
     "metadata": {},
     "output_type": "display_data"
    },
    {
     "data": {
      "text/html": [
       "<iframe\n",
       "    scrolling=\"no\"\n",
       "    width=\"100%\"\n",
       "    height=\"545px\"\n",
       "    src=\"iframe_figures/figure_13.html\"\n",
       "    frameborder=\"0\"\n",
       "    allowfullscreen\n",
       "></iframe>\n"
      ]
     },
     "metadata": {},
     "output_type": "display_data"
    },
    {
     "data": {
      "text/html": [
       "<iframe\n",
       "    scrolling=\"no\"\n",
       "    width=\"100%\"\n",
       "    height=\"545px\"\n",
       "    src=\"iframe_figures/figure_13.html\"\n",
       "    frameborder=\"0\"\n",
       "    allowfullscreen\n",
       "></iframe>\n"
      ]
     },
     "metadata": {},
     "output_type": "display_data"
    },
    {
     "data": {
      "text/html": [
       "<iframe\n",
       "    scrolling=\"no\"\n",
       "    width=\"100%\"\n",
       "    height=\"545px\"\n",
       "    src=\"iframe_figures/figure_13.html\"\n",
       "    frameborder=\"0\"\n",
       "    allowfullscreen\n",
       "></iframe>\n"
      ]
     },
     "metadata": {},
     "output_type": "display_data"
    },
    {
     "data": {
      "text/html": [
       "<iframe\n",
       "    scrolling=\"no\"\n",
       "    width=\"100%\"\n",
       "    height=\"545px\"\n",
       "    src=\"iframe_figures/figure_13.html\"\n",
       "    frameborder=\"0\"\n",
       "    allowfullscreen\n",
       "></iframe>\n"
      ]
     },
     "metadata": {},
     "output_type": "display_data"
    },
    {
     "data": {
      "text/html": [
       "<iframe\n",
       "    scrolling=\"no\"\n",
       "    width=\"100%\"\n",
       "    height=\"545px\"\n",
       "    src=\"iframe_figures/figure_13.html\"\n",
       "    frameborder=\"0\"\n",
       "    allowfullscreen\n",
       "></iframe>\n"
      ]
     },
     "metadata": {},
     "output_type": "display_data"
    },
    {
     "data": {
      "text/html": [
       "<iframe\n",
       "    scrolling=\"no\"\n",
       "    width=\"100%\"\n",
       "    height=\"545px\"\n",
       "    src=\"iframe_figures/figure_13.html\"\n",
       "    frameborder=\"0\"\n",
       "    allowfullscreen\n",
       "></iframe>\n"
      ]
     },
     "metadata": {},
     "output_type": "display_data"
    },
    {
     "data": {
      "text/html": [
       "<iframe\n",
       "    scrolling=\"no\"\n",
       "    width=\"100%\"\n",
       "    height=\"545px\"\n",
       "    src=\"iframe_figures/figure_13.html\"\n",
       "    frameborder=\"0\"\n",
       "    allowfullscreen\n",
       "></iframe>\n"
      ]
     },
     "metadata": {},
     "output_type": "display_data"
    },
    {
     "data": {
      "text/html": [
       "<iframe\n",
       "    scrolling=\"no\"\n",
       "    width=\"100%\"\n",
       "    height=\"545px\"\n",
       "    src=\"iframe_figures/figure_13.html\"\n",
       "    frameborder=\"0\"\n",
       "    allowfullscreen\n",
       "></iframe>\n"
      ]
     },
     "metadata": {},
     "output_type": "display_data"
    },
    {
     "data": {
      "text/html": [
       "<iframe\n",
       "    scrolling=\"no\"\n",
       "    width=\"100%\"\n",
       "    height=\"545px\"\n",
       "    src=\"iframe_figures/figure_13.html\"\n",
       "    frameborder=\"0\"\n",
       "    allowfullscreen\n",
       "></iframe>\n"
      ]
     },
     "metadata": {},
     "output_type": "display_data"
    },
    {
     "data": {
      "text/html": [
       "<iframe\n",
       "    scrolling=\"no\"\n",
       "    width=\"100%\"\n",
       "    height=\"545px\"\n",
       "    src=\"iframe_figures/figure_13.html\"\n",
       "    frameborder=\"0\"\n",
       "    allowfullscreen\n",
       "></iframe>\n"
      ]
     },
     "metadata": {},
     "output_type": "display_data"
    },
    {
     "name": "stdout",
     "output_type": "stream",
     "text": [
      "DONE!\n"
     ]
    },
    {
     "name": "stderr",
     "output_type": "stream",
     "text": [
      "100%|██████████| 36/36 [00:22<00:00,  1.57it/s]\n"
     ]
    },
    {
     "name": "stdout",
     "output_type": "stream",
     "text": [
      "Saving scores to  eval/mle/beijing_ON_QnSC_200k/tabddpm_ON_QnSC_200k_const_0_25.json\n",
      "RMSE обучения на синтетических данных TABDDPM_ON_QNSC_200K_CONST_0_25: 0.606 ± 0.036\n",
      "beijing_ON_QnSC_200k, tabddpm_ON_QnSC_200k_const_0_25: 0.9220966902969323\n",
      "n_clusters: 25\n",
      "DCR Score, a value closer to 0.5 is better\n",
      "beijing_ON_QnSC_200k-tabddpm_ON_QnSC_200k_const_0_25, DCR Score = 0.5045900854155025\n",
      "=========== All Features ===========\n",
      "Data shape:  (37581, 83)\n",
      "alpha precision: 0.983240, beta recall: 0.527641\n",
      "./models/tabddpm_ON_QnSC/ckpt/beijing/tabddpm_ON_QnSC_200k_const_0_5 tabddpm_ON_QnSC_200k_const_0_5 ./synthetic/beijing_ON_QnSC_200k/tabddpm_ON_QnSC_200k_const_0_5.csv\n",
      "No NaNs in numerical features, skipping\n",
      "mlp\n",
      "Sample timestep    0\n",
      "Sample timestep    0\n",
      "Sample timestep    0\n",
      "Sample timestep    0\n",
      "Shape torch.Size([37581, 83])\n",
      "Sampling time: 197.69835448265076\n",
      "Sample path changed to ./synthetic/beijing_ON_QnSC_200k/initial_tabddpm_ON_QnSC_200k_const_0_5.csv\n",
      "CALCULATING COLUMN-WISE DENSITY ESTIMATION & PAIR-WISE COLUMN CORRELATION...\n",
      "Generating report ...\n",
      "\n",
      "(1/2) Evaluating Column Shapes: |██████████| 12/12 [00:00<00:00, 35.59it/s]|\n",
      "Column Shapes Score: 98.03%\n",
      "\n",
      "(2/2) Evaluating Column Pair Trends: |██████████| 66/66 [00:00<00:00, 86.28it/s]|\n",
      "Column Pair Trends Score: 95.48%\n",
      "\n",
      "Overall Score (Average): 96.76%\n",
      "\n",
      "Error rate (%) of column-wise density estimation TABDDPM_ON_QNSC_200K_CONST_0_5: 1.966 ± 1.219\n",
      "Error rate (%) of pair-wise column correlation score TABDDPM_ON_QNSC_200K_CONST_0_5: 4.521 ± 3.866\n"
     ]
    },
    {
     "data": {
      "text/html": [
       "<iframe\n",
       "    scrolling=\"no\"\n",
       "    width=\"100%\"\n",
       "    height=\"545px\"\n",
       "    src=\"iframe_figures/figure_13.html\"\n",
       "    frameborder=\"0\"\n",
       "    allowfullscreen\n",
       "></iframe>\n"
      ]
     },
     "metadata": {},
     "output_type": "display_data"
    },
    {
     "data": {
      "text/html": [
       "<iframe\n",
       "    scrolling=\"no\"\n",
       "    width=\"920px\"\n",
       "    height=\"920\"\n",
       "    src=\"iframe_figures/figure_13.html\"\n",
       "    frameborder=\"0\"\n",
       "    allowfullscreen\n",
       "></iframe>\n"
      ]
     },
     "metadata": {},
     "output_type": "display_data"
    },
    {
     "name": "stdout",
     "output_type": "stream",
     "text": [
      "DONE! \n",
      "\n",
      "DRAW COLUMN VALUES DISTRIBUTIONS...\n"
     ]
    },
    {
     "data": {
      "text/html": [
       "<iframe\n",
       "    scrolling=\"no\"\n",
       "    width=\"100%\"\n",
       "    height=\"545px\"\n",
       "    src=\"iframe_figures/figure_13.html\"\n",
       "    frameborder=\"0\"\n",
       "    allowfullscreen\n",
       "></iframe>\n"
      ]
     },
     "metadata": {},
     "output_type": "display_data"
    },
    {
     "data": {
      "text/html": [
       "<iframe\n",
       "    scrolling=\"no\"\n",
       "    width=\"100%\"\n",
       "    height=\"545px\"\n",
       "    src=\"iframe_figures/figure_13.html\"\n",
       "    frameborder=\"0\"\n",
       "    allowfullscreen\n",
       "></iframe>\n"
      ]
     },
     "metadata": {},
     "output_type": "display_data"
    },
    {
     "data": {
      "text/html": [
       "<iframe\n",
       "    scrolling=\"no\"\n",
       "    width=\"100%\"\n",
       "    height=\"545px\"\n",
       "    src=\"iframe_figures/figure_13.html\"\n",
       "    frameborder=\"0\"\n",
       "    allowfullscreen\n",
       "></iframe>\n"
      ]
     },
     "metadata": {},
     "output_type": "display_data"
    },
    {
     "data": {
      "text/html": [
       "<iframe\n",
       "    scrolling=\"no\"\n",
       "    width=\"100%\"\n",
       "    height=\"545px\"\n",
       "    src=\"iframe_figures/figure_13.html\"\n",
       "    frameborder=\"0\"\n",
       "    allowfullscreen\n",
       "></iframe>\n"
      ]
     },
     "metadata": {},
     "output_type": "display_data"
    },
    {
     "data": {
      "text/html": [
       "<iframe\n",
       "    scrolling=\"no\"\n",
       "    width=\"100%\"\n",
       "    height=\"545px\"\n",
       "    src=\"iframe_figures/figure_13.html\"\n",
       "    frameborder=\"0\"\n",
       "    allowfullscreen\n",
       "></iframe>\n"
      ]
     },
     "metadata": {},
     "output_type": "display_data"
    },
    {
     "data": {
      "text/html": [
       "<iframe\n",
       "    scrolling=\"no\"\n",
       "    width=\"100%\"\n",
       "    height=\"545px\"\n",
       "    src=\"iframe_figures/figure_13.html\"\n",
       "    frameborder=\"0\"\n",
       "    allowfullscreen\n",
       "></iframe>\n"
      ]
     },
     "metadata": {},
     "output_type": "display_data"
    },
    {
     "data": {
      "text/html": [
       "<iframe\n",
       "    scrolling=\"no\"\n",
       "    width=\"100%\"\n",
       "    height=\"545px\"\n",
       "    src=\"iframe_figures/figure_13.html\"\n",
       "    frameborder=\"0\"\n",
       "    allowfullscreen\n",
       "></iframe>\n"
      ]
     },
     "metadata": {},
     "output_type": "display_data"
    },
    {
     "data": {
      "text/html": [
       "<iframe\n",
       "    scrolling=\"no\"\n",
       "    width=\"100%\"\n",
       "    height=\"545px\"\n",
       "    src=\"iframe_figures/figure_13.html\"\n",
       "    frameborder=\"0\"\n",
       "    allowfullscreen\n",
       "></iframe>\n"
      ]
     },
     "metadata": {},
     "output_type": "display_data"
    },
    {
     "data": {
      "text/html": [
       "<iframe\n",
       "    scrolling=\"no\"\n",
       "    width=\"100%\"\n",
       "    height=\"545px\"\n",
       "    src=\"iframe_figures/figure_13.html\"\n",
       "    frameborder=\"0\"\n",
       "    allowfullscreen\n",
       "></iframe>\n"
      ]
     },
     "metadata": {},
     "output_type": "display_data"
    },
    {
     "data": {
      "text/html": [
       "<iframe\n",
       "    scrolling=\"no\"\n",
       "    width=\"100%\"\n",
       "    height=\"545px\"\n",
       "    src=\"iframe_figures/figure_13.html\"\n",
       "    frameborder=\"0\"\n",
       "    allowfullscreen\n",
       "></iframe>\n"
      ]
     },
     "metadata": {},
     "output_type": "display_data"
    },
    {
     "data": {
      "text/html": [
       "<iframe\n",
       "    scrolling=\"no\"\n",
       "    width=\"100%\"\n",
       "    height=\"545px\"\n",
       "    src=\"iframe_figures/figure_13.html\"\n",
       "    frameborder=\"0\"\n",
       "    allowfullscreen\n",
       "></iframe>\n"
      ]
     },
     "metadata": {},
     "output_type": "display_data"
    },
    {
     "data": {
      "text/html": [
       "<iframe\n",
       "    scrolling=\"no\"\n",
       "    width=\"100%\"\n",
       "    height=\"545px\"\n",
       "    src=\"iframe_figures/figure_13.html\"\n",
       "    frameborder=\"0\"\n",
       "    allowfullscreen\n",
       "></iframe>\n"
      ]
     },
     "metadata": {},
     "output_type": "display_data"
    },
    {
     "name": "stdout",
     "output_type": "stream",
     "text": [
      "DONE!\n"
     ]
    },
    {
     "name": "stderr",
     "output_type": "stream",
     "text": [
      "100%|██████████| 36/36 [00:23<00:00,  1.50it/s]\n"
     ]
    },
    {
     "name": "stdout",
     "output_type": "stream",
     "text": [
      "Saving scores to  eval/mle/beijing_ON_QnSC_200k/tabddpm_ON_QnSC_200k_const_0_5.json\n",
      "RMSE обучения на синтетических данных TABDDPM_ON_QNSC_200K_CONST_0_5: 0.746 ± 0.018\n",
      "beijing_ON_QnSC_200k, tabddpm_ON_QnSC_200k_const_0_5: 0.9837704136670498\n",
      "n_clusters: 25\n",
      "DCR Score, a value closer to 0.5 is better\n",
      "beijing_ON_QnSC_200k-tabddpm_ON_QnSC_200k_const_0_5, DCR Score = 0.5046965221787606\n",
      "=========== All Features ===========\n",
      "Data shape:  (37581, 83)\n",
      "alpha precision: 0.955789, beta recall: 0.492925\n",
      "./models/tabddpm_ON_QnSC/ckpt/beijing/tabddpm_ON_QnSC_200k_mult_0 tabddpm_ON_QnSC_200k_mult_0 ./synthetic/beijing_ON_QnSC_200k/tabddpm_ON_QnSC_200k_mult_0.csv\n",
      "No NaNs in numerical features, skipping\n",
      "mlp\n",
      "Sample timestep    0\n",
      "Sample timestep    0\n",
      "Sample timestep    0\n",
      "Sample timestep    0\n",
      "Shape torch.Size([37581, 83])\n",
      "Sampling time: 198.0700249671936\n",
      "Sample path changed to ./synthetic/beijing_ON_QnSC_200k/initial_tabddpm_ON_QnSC_200k_mult_0.csv\n",
      "CALCULATING COLUMN-WISE DENSITY ESTIMATION & PAIR-WISE COLUMN CORRELATION...\n",
      "Generating report ...\n",
      "\n",
      "(1/2) Evaluating Column Shapes: |██████████| 12/12 [00:00<00:00, 40.42it/s]|\n",
      "Column Shapes Score: 96.98%\n",
      "\n",
      "(2/2) Evaluating Column Pair Trends: |██████████| 66/66 [00:00<00:00, 82.28it/s]|\n",
      "Column Pair Trends Score: 95.23%\n",
      "\n",
      "Overall Score (Average): 96.11%\n",
      "\n",
      "Error rate (%) of column-wise density estimation TABDDPM_ON_QNSC_200K_MULT_0: 3.023 ± 2.853\n",
      "Error rate (%) of pair-wise column correlation score TABDDPM_ON_QNSC_200K_MULT_0: 4.767 ± 3.936\n"
     ]
    },
    {
     "data": {
      "text/html": [
       "<iframe\n",
       "    scrolling=\"no\"\n",
       "    width=\"100%\"\n",
       "    height=\"545px\"\n",
       "    src=\"iframe_figures/figure_13.html\"\n",
       "    frameborder=\"0\"\n",
       "    allowfullscreen\n",
       "></iframe>\n"
      ]
     },
     "metadata": {},
     "output_type": "display_data"
    },
    {
     "data": {
      "text/html": [
       "<iframe\n",
       "    scrolling=\"no\"\n",
       "    width=\"920px\"\n",
       "    height=\"920\"\n",
       "    src=\"iframe_figures/figure_13.html\"\n",
       "    frameborder=\"0\"\n",
       "    allowfullscreen\n",
       "></iframe>\n"
      ]
     },
     "metadata": {},
     "output_type": "display_data"
    },
    {
     "name": "stdout",
     "output_type": "stream",
     "text": [
      "DONE! \n",
      "\n",
      "DRAW COLUMN VALUES DISTRIBUTIONS...\n"
     ]
    },
    {
     "data": {
      "text/html": [
       "<iframe\n",
       "    scrolling=\"no\"\n",
       "    width=\"100%\"\n",
       "    height=\"545px\"\n",
       "    src=\"iframe_figures/figure_13.html\"\n",
       "    frameborder=\"0\"\n",
       "    allowfullscreen\n",
       "></iframe>\n"
      ]
     },
     "metadata": {},
     "output_type": "display_data"
    },
    {
     "data": {
      "text/html": [
       "<iframe\n",
       "    scrolling=\"no\"\n",
       "    width=\"100%\"\n",
       "    height=\"545px\"\n",
       "    src=\"iframe_figures/figure_13.html\"\n",
       "    frameborder=\"0\"\n",
       "    allowfullscreen\n",
       "></iframe>\n"
      ]
     },
     "metadata": {},
     "output_type": "display_data"
    },
    {
     "data": {
      "text/html": [
       "<iframe\n",
       "    scrolling=\"no\"\n",
       "    width=\"100%\"\n",
       "    height=\"545px\"\n",
       "    src=\"iframe_figures/figure_13.html\"\n",
       "    frameborder=\"0\"\n",
       "    allowfullscreen\n",
       "></iframe>\n"
      ]
     },
     "metadata": {},
     "output_type": "display_data"
    },
    {
     "data": {
      "text/html": [
       "<iframe\n",
       "    scrolling=\"no\"\n",
       "    width=\"100%\"\n",
       "    height=\"545px\"\n",
       "    src=\"iframe_figures/figure_13.html\"\n",
       "    frameborder=\"0\"\n",
       "    allowfullscreen\n",
       "></iframe>\n"
      ]
     },
     "metadata": {},
     "output_type": "display_data"
    },
    {
     "data": {
      "text/html": [
       "<iframe\n",
       "    scrolling=\"no\"\n",
       "    width=\"100%\"\n",
       "    height=\"545px\"\n",
       "    src=\"iframe_figures/figure_13.html\"\n",
       "    frameborder=\"0\"\n",
       "    allowfullscreen\n",
       "></iframe>\n"
      ]
     },
     "metadata": {},
     "output_type": "display_data"
    },
    {
     "data": {
      "text/html": [
       "<iframe\n",
       "    scrolling=\"no\"\n",
       "    width=\"100%\"\n",
       "    height=\"545px\"\n",
       "    src=\"iframe_figures/figure_13.html\"\n",
       "    frameborder=\"0\"\n",
       "    allowfullscreen\n",
       "></iframe>\n"
      ]
     },
     "metadata": {},
     "output_type": "display_data"
    },
    {
     "data": {
      "text/html": [
       "<iframe\n",
       "    scrolling=\"no\"\n",
       "    width=\"100%\"\n",
       "    height=\"545px\"\n",
       "    src=\"iframe_figures/figure_13.html\"\n",
       "    frameborder=\"0\"\n",
       "    allowfullscreen\n",
       "></iframe>\n"
      ]
     },
     "metadata": {},
     "output_type": "display_data"
    },
    {
     "data": {
      "text/html": [
       "<iframe\n",
       "    scrolling=\"no\"\n",
       "    width=\"100%\"\n",
       "    height=\"545px\"\n",
       "    src=\"iframe_figures/figure_13.html\"\n",
       "    frameborder=\"0\"\n",
       "    allowfullscreen\n",
       "></iframe>\n"
      ]
     },
     "metadata": {},
     "output_type": "display_data"
    },
    {
     "data": {
      "text/html": [
       "<iframe\n",
       "    scrolling=\"no\"\n",
       "    width=\"100%\"\n",
       "    height=\"545px\"\n",
       "    src=\"iframe_figures/figure_13.html\"\n",
       "    frameborder=\"0\"\n",
       "    allowfullscreen\n",
       "></iframe>\n"
      ]
     },
     "metadata": {},
     "output_type": "display_data"
    },
    {
     "data": {
      "text/html": [
       "<iframe\n",
       "    scrolling=\"no\"\n",
       "    width=\"100%\"\n",
       "    height=\"545px\"\n",
       "    src=\"iframe_figures/figure_13.html\"\n",
       "    frameborder=\"0\"\n",
       "    allowfullscreen\n",
       "></iframe>\n"
      ]
     },
     "metadata": {},
     "output_type": "display_data"
    },
    {
     "data": {
      "text/html": [
       "<iframe\n",
       "    scrolling=\"no\"\n",
       "    width=\"100%\"\n",
       "    height=\"545px\"\n",
       "    src=\"iframe_figures/figure_13.html\"\n",
       "    frameborder=\"0\"\n",
       "    allowfullscreen\n",
       "></iframe>\n"
      ]
     },
     "metadata": {},
     "output_type": "display_data"
    },
    {
     "data": {
      "text/html": [
       "<iframe\n",
       "    scrolling=\"no\"\n",
       "    width=\"100%\"\n",
       "    height=\"545px\"\n",
       "    src=\"iframe_figures/figure_13.html\"\n",
       "    frameborder=\"0\"\n",
       "    allowfullscreen\n",
       "></iframe>\n"
      ]
     },
     "metadata": {},
     "output_type": "display_data"
    },
    {
     "name": "stdout",
     "output_type": "stream",
     "text": [
      "DONE!\n"
     ]
    },
    {
     "name": "stderr",
     "output_type": "stream",
     "text": [
      "100%|██████████| 36/36 [00:22<00:00,  1.57it/s]\n"
     ]
    },
    {
     "name": "stdout",
     "output_type": "stream",
     "text": [
      "Saving scores to  eval/mle/beijing_ON_QnSC_200k/tabddpm_ON_QnSC_200k_mult_0.json\n",
      "RMSE обучения на синтетических данных TABDDPM_ON_QNSC_200K_MULT_0: 0.584 ± 0.035\n",
      "beijing_ON_QnSC_200k, tabddpm_ON_QnSC_200k_mult_0: 0.9021966988387652\n",
      "n_clusters: 25\n",
      "DCR Score, a value closer to 0.5 is better\n",
      "beijing_ON_QnSC_200k-tabddpm_ON_QnSC_200k_mult_0, DCR Score = 0.5048295681328331\n",
      "=========== All Features ===========\n",
      "Data shape:  (37581, 83)\n",
      "alpha precision: 0.959281, beta recall: 0.548685\n",
      "./models/tabddpm_ON_QnSC/ckpt/beijing/tabddpm_ON_QnSC_200k_mult_1 tabddpm_ON_QnSC_200k_mult_1 ./synthetic/beijing_ON_QnSC_200k/tabddpm_ON_QnSC_200k_mult_1.csv\n",
      "No NaNs in numerical features, skipping\n",
      "mlp\n",
      "Sample timestep    0\n",
      "Sample timestep    0\n",
      "Sample timestep    0\n",
      "Sample timestep    0\n",
      "Shape torch.Size([37581, 83])\n",
      "Sampling time: 198.1630916595459\n",
      "Sample path changed to ./synthetic/beijing_ON_QnSC_200k/initial_tabddpm_ON_QnSC_200k_mult_1.csv\n",
      "CALCULATING COLUMN-WISE DENSITY ESTIMATION & PAIR-WISE COLUMN CORRELATION...\n",
      "Generating report ...\n",
      "\n",
      "(1/2) Evaluating Column Shapes: |██████████| 12/12 [00:00<00:00, 45.53it/s]|\n",
      "Column Shapes Score: 96.91%\n",
      "\n",
      "(2/2) Evaluating Column Pair Trends: |██████████| 66/66 [00:00<00:00, 89.66it/s]|\n",
      "Column Pair Trends Score: 95.06%\n",
      "\n",
      "Overall Score (Average): 95.98%\n",
      "\n",
      "Error rate (%) of column-wise density estimation TABDDPM_ON_QNSC_200K_MULT_1: 3.088 ± 3.072\n",
      "Error rate (%) of pair-wise column correlation score TABDDPM_ON_QNSC_200K_MULT_1: 4.944 ± 4.083\n"
     ]
    },
    {
     "data": {
      "text/html": [
       "<iframe\n",
       "    scrolling=\"no\"\n",
       "    width=\"100%\"\n",
       "    height=\"545px\"\n",
       "    src=\"iframe_figures/figure_13.html\"\n",
       "    frameborder=\"0\"\n",
       "    allowfullscreen\n",
       "></iframe>\n"
      ]
     },
     "metadata": {},
     "output_type": "display_data"
    },
    {
     "data": {
      "text/html": [
       "<iframe\n",
       "    scrolling=\"no\"\n",
       "    width=\"920px\"\n",
       "    height=\"920\"\n",
       "    src=\"iframe_figures/figure_13.html\"\n",
       "    frameborder=\"0\"\n",
       "    allowfullscreen\n",
       "></iframe>\n"
      ]
     },
     "metadata": {},
     "output_type": "display_data"
    },
    {
     "name": "stdout",
     "output_type": "stream",
     "text": [
      "DONE! \n",
      "\n",
      "DRAW COLUMN VALUES DISTRIBUTIONS...\n"
     ]
    },
    {
     "data": {
      "text/html": [
       "<iframe\n",
       "    scrolling=\"no\"\n",
       "    width=\"100%\"\n",
       "    height=\"545px\"\n",
       "    src=\"iframe_figures/figure_13.html\"\n",
       "    frameborder=\"0\"\n",
       "    allowfullscreen\n",
       "></iframe>\n"
      ]
     },
     "metadata": {},
     "output_type": "display_data"
    },
    {
     "data": {
      "text/html": [
       "<iframe\n",
       "    scrolling=\"no\"\n",
       "    width=\"100%\"\n",
       "    height=\"545px\"\n",
       "    src=\"iframe_figures/figure_13.html\"\n",
       "    frameborder=\"0\"\n",
       "    allowfullscreen\n",
       "></iframe>\n"
      ]
     },
     "metadata": {},
     "output_type": "display_data"
    },
    {
     "data": {
      "text/html": [
       "<iframe\n",
       "    scrolling=\"no\"\n",
       "    width=\"100%\"\n",
       "    height=\"545px\"\n",
       "    src=\"iframe_figures/figure_13.html\"\n",
       "    frameborder=\"0\"\n",
       "    allowfullscreen\n",
       "></iframe>\n"
      ]
     },
     "metadata": {},
     "output_type": "display_data"
    },
    {
     "data": {
      "text/html": [
       "<iframe\n",
       "    scrolling=\"no\"\n",
       "    width=\"100%\"\n",
       "    height=\"545px\"\n",
       "    src=\"iframe_figures/figure_13.html\"\n",
       "    frameborder=\"0\"\n",
       "    allowfullscreen\n",
       "></iframe>\n"
      ]
     },
     "metadata": {},
     "output_type": "display_data"
    },
    {
     "data": {
      "text/html": [
       "<iframe\n",
       "    scrolling=\"no\"\n",
       "    width=\"100%\"\n",
       "    height=\"545px\"\n",
       "    src=\"iframe_figures/figure_13.html\"\n",
       "    frameborder=\"0\"\n",
       "    allowfullscreen\n",
       "></iframe>\n"
      ]
     },
     "metadata": {},
     "output_type": "display_data"
    },
    {
     "data": {
      "text/html": [
       "<iframe\n",
       "    scrolling=\"no\"\n",
       "    width=\"100%\"\n",
       "    height=\"545px\"\n",
       "    src=\"iframe_figures/figure_13.html\"\n",
       "    frameborder=\"0\"\n",
       "    allowfullscreen\n",
       "></iframe>\n"
      ]
     },
     "metadata": {},
     "output_type": "display_data"
    },
    {
     "data": {
      "text/html": [
       "<iframe\n",
       "    scrolling=\"no\"\n",
       "    width=\"100%\"\n",
       "    height=\"545px\"\n",
       "    src=\"iframe_figures/figure_13.html\"\n",
       "    frameborder=\"0\"\n",
       "    allowfullscreen\n",
       "></iframe>\n"
      ]
     },
     "metadata": {},
     "output_type": "display_data"
    },
    {
     "data": {
      "text/html": [
       "<iframe\n",
       "    scrolling=\"no\"\n",
       "    width=\"100%\"\n",
       "    height=\"545px\"\n",
       "    src=\"iframe_figures/figure_13.html\"\n",
       "    frameborder=\"0\"\n",
       "    allowfullscreen\n",
       "></iframe>\n"
      ]
     },
     "metadata": {},
     "output_type": "display_data"
    },
    {
     "data": {
      "text/html": [
       "<iframe\n",
       "    scrolling=\"no\"\n",
       "    width=\"100%\"\n",
       "    height=\"545px\"\n",
       "    src=\"iframe_figures/figure_13.html\"\n",
       "    frameborder=\"0\"\n",
       "    allowfullscreen\n",
       "></iframe>\n"
      ]
     },
     "metadata": {},
     "output_type": "display_data"
    },
    {
     "data": {
      "text/html": [
       "<iframe\n",
       "    scrolling=\"no\"\n",
       "    width=\"100%\"\n",
       "    height=\"545px\"\n",
       "    src=\"iframe_figures/figure_13.html\"\n",
       "    frameborder=\"0\"\n",
       "    allowfullscreen\n",
       "></iframe>\n"
      ]
     },
     "metadata": {},
     "output_type": "display_data"
    },
    {
     "data": {
      "text/html": [
       "<iframe\n",
       "    scrolling=\"no\"\n",
       "    width=\"100%\"\n",
       "    height=\"545px\"\n",
       "    src=\"iframe_figures/figure_13.html\"\n",
       "    frameborder=\"0\"\n",
       "    allowfullscreen\n",
       "></iframe>\n"
      ]
     },
     "metadata": {},
     "output_type": "display_data"
    },
    {
     "data": {
      "text/html": [
       "<iframe\n",
       "    scrolling=\"no\"\n",
       "    width=\"100%\"\n",
       "    height=\"545px\"\n",
       "    src=\"iframe_figures/figure_13.html\"\n",
       "    frameborder=\"0\"\n",
       "    allowfullscreen\n",
       "></iframe>\n"
      ]
     },
     "metadata": {},
     "output_type": "display_data"
    },
    {
     "name": "stdout",
     "output_type": "stream",
     "text": [
      "DONE!\n"
     ]
    },
    {
     "name": "stderr",
     "output_type": "stream",
     "text": [
      "100%|██████████| 36/36 [00:23<00:00,  1.55it/s]\n"
     ]
    },
    {
     "name": "stdout",
     "output_type": "stream",
     "text": [
      "Saving scores to  eval/mle/beijing_ON_QnSC_200k/tabddpm_ON_QnSC_200k_mult_1.json\n",
      "RMSE обучения на синтетических данных TABDDPM_ON_QNSC_200K_MULT_1: 0.594 ± 0.035\n",
      "beijing_ON_QnSC_200k, tabddpm_ON_QnSC_200k_mult_1: 0.9066432312065281\n",
      "n_clusters: 25\n",
      "DCR Score, a value closer to 0.5 is better\n",
      "beijing_ON_QnSC_200k-tabddpm_ON_QnSC_200k_mult_1, DCR Score = 0.5107900268752827\n",
      "=========== All Features ===========\n",
      "Data shape:  (37581, 83)\n",
      "alpha precision: 0.968490, beta recall: 0.540592\n",
      "./models/tabddpm_ON_QnSC/ckpt/beijing/tabddpm_ON_QnSC_200k_mult_2 tabddpm_ON_QnSC_200k_mult_2 ./synthetic/beijing_ON_QnSC_200k/tabddpm_ON_QnSC_200k_mult_2.csv\n",
      "No NaNs in numerical features, skipping\n",
      "mlp\n",
      "Sample timestep    0\n",
      "Sample timestep    0\n",
      "Sample timestep    0\n",
      "Sample timestep    0\n",
      "Shape torch.Size([37581, 83])\n",
      "Sampling time: 198.18497133255005\n",
      "Sample path changed to ./synthetic/beijing_ON_QnSC_200k/initial_tabddpm_ON_QnSC_200k_mult_2.csv\n",
      "CALCULATING COLUMN-WISE DENSITY ESTIMATION & PAIR-WISE COLUMN CORRELATION...\n",
      "Generating report ...\n",
      "\n",
      "(1/2) Evaluating Column Shapes: |██████████| 12/12 [00:00<00:00, 46.72it/s]|\n",
      "Column Shapes Score: 96.35%\n",
      "\n",
      "(2/2) Evaluating Column Pair Trends: |██████████| 66/66 [00:00<00:00, 84.54it/s]|\n",
      "Column Pair Trends Score: 93.96%\n",
      "\n",
      "Overall Score (Average): 95.15%\n",
      "\n",
      "Error rate (%) of column-wise density estimation TABDDPM_ON_QNSC_200K_MULT_2: 3.648 ± 3.762\n",
      "Error rate (%) of pair-wise column correlation score TABDDPM_ON_QNSC_200K_MULT_2: 6.044 ± 5.332\n"
     ]
    },
    {
     "data": {
      "text/html": [
       "<iframe\n",
       "    scrolling=\"no\"\n",
       "    width=\"100%\"\n",
       "    height=\"545px\"\n",
       "    src=\"iframe_figures/figure_13.html\"\n",
       "    frameborder=\"0\"\n",
       "    allowfullscreen\n",
       "></iframe>\n"
      ]
     },
     "metadata": {},
     "output_type": "display_data"
    },
    {
     "data": {
      "text/html": [
       "<iframe\n",
       "    scrolling=\"no\"\n",
       "    width=\"920px\"\n",
       "    height=\"920\"\n",
       "    src=\"iframe_figures/figure_13.html\"\n",
       "    frameborder=\"0\"\n",
       "    allowfullscreen\n",
       "></iframe>\n"
      ]
     },
     "metadata": {},
     "output_type": "display_data"
    },
    {
     "name": "stdout",
     "output_type": "stream",
     "text": [
      "DONE! \n",
      "\n",
      "DRAW COLUMN VALUES DISTRIBUTIONS...\n"
     ]
    },
    {
     "data": {
      "text/html": [
       "<iframe\n",
       "    scrolling=\"no\"\n",
       "    width=\"100%\"\n",
       "    height=\"545px\"\n",
       "    src=\"iframe_figures/figure_13.html\"\n",
       "    frameborder=\"0\"\n",
       "    allowfullscreen\n",
       "></iframe>\n"
      ]
     },
     "metadata": {},
     "output_type": "display_data"
    },
    {
     "data": {
      "text/html": [
       "<iframe\n",
       "    scrolling=\"no\"\n",
       "    width=\"100%\"\n",
       "    height=\"545px\"\n",
       "    src=\"iframe_figures/figure_13.html\"\n",
       "    frameborder=\"0\"\n",
       "    allowfullscreen\n",
       "></iframe>\n"
      ]
     },
     "metadata": {},
     "output_type": "display_data"
    },
    {
     "data": {
      "text/html": [
       "<iframe\n",
       "    scrolling=\"no\"\n",
       "    width=\"100%\"\n",
       "    height=\"545px\"\n",
       "    src=\"iframe_figures/figure_13.html\"\n",
       "    frameborder=\"0\"\n",
       "    allowfullscreen\n",
       "></iframe>\n"
      ]
     },
     "metadata": {},
     "output_type": "display_data"
    },
    {
     "data": {
      "text/html": [
       "<iframe\n",
       "    scrolling=\"no\"\n",
       "    width=\"100%\"\n",
       "    height=\"545px\"\n",
       "    src=\"iframe_figures/figure_13.html\"\n",
       "    frameborder=\"0\"\n",
       "    allowfullscreen\n",
       "></iframe>\n"
      ]
     },
     "metadata": {},
     "output_type": "display_data"
    },
    {
     "data": {
      "text/html": [
       "<iframe\n",
       "    scrolling=\"no\"\n",
       "    width=\"100%\"\n",
       "    height=\"545px\"\n",
       "    src=\"iframe_figures/figure_13.html\"\n",
       "    frameborder=\"0\"\n",
       "    allowfullscreen\n",
       "></iframe>\n"
      ]
     },
     "metadata": {},
     "output_type": "display_data"
    },
    {
     "data": {
      "text/html": [
       "<iframe\n",
       "    scrolling=\"no\"\n",
       "    width=\"100%\"\n",
       "    height=\"545px\"\n",
       "    src=\"iframe_figures/figure_13.html\"\n",
       "    frameborder=\"0\"\n",
       "    allowfullscreen\n",
       "></iframe>\n"
      ]
     },
     "metadata": {},
     "output_type": "display_data"
    },
    {
     "data": {
      "text/html": [
       "<iframe\n",
       "    scrolling=\"no\"\n",
       "    width=\"100%\"\n",
       "    height=\"545px\"\n",
       "    src=\"iframe_figures/figure_13.html\"\n",
       "    frameborder=\"0\"\n",
       "    allowfullscreen\n",
       "></iframe>\n"
      ]
     },
     "metadata": {},
     "output_type": "display_data"
    },
    {
     "data": {
      "text/html": [
       "<iframe\n",
       "    scrolling=\"no\"\n",
       "    width=\"100%\"\n",
       "    height=\"545px\"\n",
       "    src=\"iframe_figures/figure_13.html\"\n",
       "    frameborder=\"0\"\n",
       "    allowfullscreen\n",
       "></iframe>\n"
      ]
     },
     "metadata": {},
     "output_type": "display_data"
    },
    {
     "data": {
      "text/html": [
       "<iframe\n",
       "    scrolling=\"no\"\n",
       "    width=\"100%\"\n",
       "    height=\"545px\"\n",
       "    src=\"iframe_figures/figure_13.html\"\n",
       "    frameborder=\"0\"\n",
       "    allowfullscreen\n",
       "></iframe>\n"
      ]
     },
     "metadata": {},
     "output_type": "display_data"
    },
    {
     "data": {
      "text/html": [
       "<iframe\n",
       "    scrolling=\"no\"\n",
       "    width=\"100%\"\n",
       "    height=\"545px\"\n",
       "    src=\"iframe_figures/figure_13.html\"\n",
       "    frameborder=\"0\"\n",
       "    allowfullscreen\n",
       "></iframe>\n"
      ]
     },
     "metadata": {},
     "output_type": "display_data"
    },
    {
     "data": {
      "text/html": [
       "<iframe\n",
       "    scrolling=\"no\"\n",
       "    width=\"100%\"\n",
       "    height=\"545px\"\n",
       "    src=\"iframe_figures/figure_13.html\"\n",
       "    frameborder=\"0\"\n",
       "    allowfullscreen\n",
       "></iframe>\n"
      ]
     },
     "metadata": {},
     "output_type": "display_data"
    },
    {
     "data": {
      "text/html": [
       "<iframe\n",
       "    scrolling=\"no\"\n",
       "    width=\"100%\"\n",
       "    height=\"545px\"\n",
       "    src=\"iframe_figures/figure_13.html\"\n",
       "    frameborder=\"0\"\n",
       "    allowfullscreen\n",
       "></iframe>\n"
      ]
     },
     "metadata": {},
     "output_type": "display_data"
    },
    {
     "name": "stdout",
     "output_type": "stream",
     "text": [
      "DONE!\n"
     ]
    },
    {
     "name": "stderr",
     "output_type": "stream",
     "text": [
      "100%|██████████| 36/36 [00:22<00:00,  1.58it/s]\n"
     ]
    },
    {
     "name": "stdout",
     "output_type": "stream",
     "text": [
      "Saving scores to  eval/mle/beijing_ON_QnSC_200k/tabddpm_ON_QnSC_200k_mult_2.json\n",
      "RMSE обучения на синтетических данных TABDDPM_ON_QNSC_200K_MULT_2: 0.576 ± 0.036\n",
      "beijing_ON_QnSC_200k, tabddpm_ON_QnSC_200k_mult_2: 0.8848270466427678\n",
      "n_clusters: 25\n",
      "DCR Score, a value closer to 0.5 is better\n",
      "beijing_ON_QnSC_200k-tabddpm_ON_QnSC_200k_mult_2, DCR Score = 0.5038450280726963\n",
      "=========== All Features ===========\n",
      "Data shape:  (37581, 83)\n",
      "alpha precision: 0.960644, beta recall: 0.517941\n",
      "./models/tabddpm_ON_QnSC/ckpt/beijing/tabddpm_ON_QnSC_200k_mult_3 tabddpm_ON_QnSC_200k_mult_3 ./synthetic/beijing_ON_QnSC_200k/tabddpm_ON_QnSC_200k_mult_3.csv\n",
      "No NaNs in numerical features, skipping\n",
      "mlp\n",
      "Sample timestep    0\n",
      "Sample timestep    0\n",
      "Sample timestep    0\n",
      "Sample timestep    0\n",
      "Shape torch.Size([37581, 83])\n",
      "Sampling time: 197.79949641227722\n",
      "Sample path changed to ./synthetic/beijing_ON_QnSC_200k/initial_tabddpm_ON_QnSC_200k_mult_3.csv\n",
      "CALCULATING COLUMN-WISE DENSITY ESTIMATION & PAIR-WISE COLUMN CORRELATION...\n",
      "Generating report ...\n",
      "\n",
      "(1/2) Evaluating Column Shapes: |██████████| 12/12 [00:00<00:00, 42.39it/s]|\n",
      "Column Shapes Score: 96.48%\n",
      "\n",
      "(2/2) Evaluating Column Pair Trends: |██████████| 66/66 [00:00<00:00, 93.85it/s]|\n",
      "Column Pair Trends Score: 94.41%\n",
      "\n",
      "Overall Score (Average): 95.44%\n",
      "\n",
      "Error rate (%) of column-wise density estimation TABDDPM_ON_QNSC_200K_MULT_3: 3.518 ± 3.880\n",
      "Error rate (%) of pair-wise column correlation score TABDDPM_ON_QNSC_200K_MULT_3: 5.594 ± 5.193\n"
     ]
    },
    {
     "data": {
      "text/html": [
       "<iframe\n",
       "    scrolling=\"no\"\n",
       "    width=\"100%\"\n",
       "    height=\"545px\"\n",
       "    src=\"iframe_figures/figure_13.html\"\n",
       "    frameborder=\"0\"\n",
       "    allowfullscreen\n",
       "></iframe>\n"
      ]
     },
     "metadata": {},
     "output_type": "display_data"
    },
    {
     "data": {
      "text/html": [
       "<iframe\n",
       "    scrolling=\"no\"\n",
       "    width=\"920px\"\n",
       "    height=\"920\"\n",
       "    src=\"iframe_figures/figure_13.html\"\n",
       "    frameborder=\"0\"\n",
       "    allowfullscreen\n",
       "></iframe>\n"
      ]
     },
     "metadata": {},
     "output_type": "display_data"
    },
    {
     "name": "stdout",
     "output_type": "stream",
     "text": [
      "DONE! \n",
      "\n",
      "DRAW COLUMN VALUES DISTRIBUTIONS...\n"
     ]
    },
    {
     "data": {
      "text/html": [
       "<iframe\n",
       "    scrolling=\"no\"\n",
       "    width=\"100%\"\n",
       "    height=\"545px\"\n",
       "    src=\"iframe_figures/figure_13.html\"\n",
       "    frameborder=\"0\"\n",
       "    allowfullscreen\n",
       "></iframe>\n"
      ]
     },
     "metadata": {},
     "output_type": "display_data"
    },
    {
     "data": {
      "text/html": [
       "<iframe\n",
       "    scrolling=\"no\"\n",
       "    width=\"100%\"\n",
       "    height=\"545px\"\n",
       "    src=\"iframe_figures/figure_13.html\"\n",
       "    frameborder=\"0\"\n",
       "    allowfullscreen\n",
       "></iframe>\n"
      ]
     },
     "metadata": {},
     "output_type": "display_data"
    },
    {
     "data": {
      "text/html": [
       "<iframe\n",
       "    scrolling=\"no\"\n",
       "    width=\"100%\"\n",
       "    height=\"545px\"\n",
       "    src=\"iframe_figures/figure_13.html\"\n",
       "    frameborder=\"0\"\n",
       "    allowfullscreen\n",
       "></iframe>\n"
      ]
     },
     "metadata": {},
     "output_type": "display_data"
    },
    {
     "data": {
      "text/html": [
       "<iframe\n",
       "    scrolling=\"no\"\n",
       "    width=\"100%\"\n",
       "    height=\"545px\"\n",
       "    src=\"iframe_figures/figure_13.html\"\n",
       "    frameborder=\"0\"\n",
       "    allowfullscreen\n",
       "></iframe>\n"
      ]
     },
     "metadata": {},
     "output_type": "display_data"
    },
    {
     "data": {
      "text/html": [
       "<iframe\n",
       "    scrolling=\"no\"\n",
       "    width=\"100%\"\n",
       "    height=\"545px\"\n",
       "    src=\"iframe_figures/figure_13.html\"\n",
       "    frameborder=\"0\"\n",
       "    allowfullscreen\n",
       "></iframe>\n"
      ]
     },
     "metadata": {},
     "output_type": "display_data"
    },
    {
     "data": {
      "text/html": [
       "<iframe\n",
       "    scrolling=\"no\"\n",
       "    width=\"100%\"\n",
       "    height=\"545px\"\n",
       "    src=\"iframe_figures/figure_13.html\"\n",
       "    frameborder=\"0\"\n",
       "    allowfullscreen\n",
       "></iframe>\n"
      ]
     },
     "metadata": {},
     "output_type": "display_data"
    },
    {
     "data": {
      "text/html": [
       "<iframe\n",
       "    scrolling=\"no\"\n",
       "    width=\"100%\"\n",
       "    height=\"545px\"\n",
       "    src=\"iframe_figures/figure_13.html\"\n",
       "    frameborder=\"0\"\n",
       "    allowfullscreen\n",
       "></iframe>\n"
      ]
     },
     "metadata": {},
     "output_type": "display_data"
    },
    {
     "data": {
      "text/html": [
       "<iframe\n",
       "    scrolling=\"no\"\n",
       "    width=\"100%\"\n",
       "    height=\"545px\"\n",
       "    src=\"iframe_figures/figure_13.html\"\n",
       "    frameborder=\"0\"\n",
       "    allowfullscreen\n",
       "></iframe>\n"
      ]
     },
     "metadata": {},
     "output_type": "display_data"
    },
    {
     "data": {
      "text/html": [
       "<iframe\n",
       "    scrolling=\"no\"\n",
       "    width=\"100%\"\n",
       "    height=\"545px\"\n",
       "    src=\"iframe_figures/figure_13.html\"\n",
       "    frameborder=\"0\"\n",
       "    allowfullscreen\n",
       "></iframe>\n"
      ]
     },
     "metadata": {},
     "output_type": "display_data"
    },
    {
     "data": {
      "text/html": [
       "<iframe\n",
       "    scrolling=\"no\"\n",
       "    width=\"100%\"\n",
       "    height=\"545px\"\n",
       "    src=\"iframe_figures/figure_13.html\"\n",
       "    frameborder=\"0\"\n",
       "    allowfullscreen\n",
       "></iframe>\n"
      ]
     },
     "metadata": {},
     "output_type": "display_data"
    },
    {
     "data": {
      "text/html": [
       "<iframe\n",
       "    scrolling=\"no\"\n",
       "    width=\"100%\"\n",
       "    height=\"545px\"\n",
       "    src=\"iframe_figures/figure_13.html\"\n",
       "    frameborder=\"0\"\n",
       "    allowfullscreen\n",
       "></iframe>\n"
      ]
     },
     "metadata": {},
     "output_type": "display_data"
    },
    {
     "data": {
      "text/html": [
       "<iframe\n",
       "    scrolling=\"no\"\n",
       "    width=\"100%\"\n",
       "    height=\"545px\"\n",
       "    src=\"iframe_figures/figure_13.html\"\n",
       "    frameborder=\"0\"\n",
       "    allowfullscreen\n",
       "></iframe>\n"
      ]
     },
     "metadata": {},
     "output_type": "display_data"
    },
    {
     "name": "stdout",
     "output_type": "stream",
     "text": [
      "DONE!\n"
     ]
    },
    {
     "name": "stderr",
     "output_type": "stream",
     "text": [
      "100%|██████████| 36/36 [00:22<00:00,  1.58it/s]\n"
     ]
    },
    {
     "name": "stdout",
     "output_type": "stream",
     "text": [
      "Saving scores to  eval/mle/beijing_ON_QnSC_200k/tabddpm_ON_QnSC_200k_mult_3.json\n",
      "RMSE обучения на синтетических данных TABDDPM_ON_QNSC_200K_MULT_3: 0.633 ± 0.035\n",
      "beijing_ON_QnSC_200k, tabddpm_ON_QnSC_200k_mult_3: 0.8614867737845588\n",
      "n_clusters: 25\n",
      "DCR Score, a value closer to 0.5 is better\n",
      "beijing_ON_QnSC_200k-tabddpm_ON_QnSC_200k_mult_3, DCR Score = 0.49894893696282694\n",
      "=========== All Features ===========\n",
      "Data shape:  (37581, 83)\n",
      "alpha precision: 0.967956, beta recall: 0.514111\n",
      "./models/tabddpm_ON_QnSC/ckpt/beijing/tabddpm_ON_QnSC_200k_mult_4 tabddpm_ON_QnSC_200k_mult_4 ./synthetic/beijing_ON_QnSC_200k/tabddpm_ON_QnSC_200k_mult_4.csv\n",
      "No NaNs in numerical features, skipping\n",
      "mlp\n",
      "Sample timestep    0\n",
      "Sample timestep    0\n",
      "Sample timestep    0\n",
      "Sample timestep    0\n",
      "Shape torch.Size([37581, 83])\n",
      "Sampling time: 197.93990969657898\n",
      "Sample path changed to ./synthetic/beijing_ON_QnSC_200k/initial_tabddpm_ON_QnSC_200k_mult_4.csv\n",
      "CALCULATING COLUMN-WISE DENSITY ESTIMATION & PAIR-WISE COLUMN CORRELATION...\n",
      "Generating report ...\n",
      "\n",
      "(1/2) Evaluating Column Shapes: |██████████| 12/12 [00:00<00:00, 45.06it/s]|\n",
      "Column Shapes Score: 97.68%\n",
      "\n",
      "(2/2) Evaluating Column Pair Trends: |██████████| 66/66 [00:00<00:00, 83.07it/s]|\n",
      "Column Pair Trends Score: 96.69%\n",
      "\n",
      "Overall Score (Average): 97.19%\n",
      "\n",
      "Error rate (%) of column-wise density estimation TABDDPM_ON_QNSC_200K_MULT_4: 2.316 ± 2.227\n",
      "Error rate (%) of pair-wise column correlation score TABDDPM_ON_QNSC_200K_MULT_4: 3.310 ± 2.478\n"
     ]
    },
    {
     "data": {
      "text/html": [
       "<iframe\n",
       "    scrolling=\"no\"\n",
       "    width=\"100%\"\n",
       "    height=\"545px\"\n",
       "    src=\"iframe_figures/figure_13.html\"\n",
       "    frameborder=\"0\"\n",
       "    allowfullscreen\n",
       "></iframe>\n"
      ]
     },
     "metadata": {},
     "output_type": "display_data"
    },
    {
     "data": {
      "text/html": [
       "<iframe\n",
       "    scrolling=\"no\"\n",
       "    width=\"920px\"\n",
       "    height=\"920\"\n",
       "    src=\"iframe_figures/figure_13.html\"\n",
       "    frameborder=\"0\"\n",
       "    allowfullscreen\n",
       "></iframe>\n"
      ]
     },
     "metadata": {},
     "output_type": "display_data"
    },
    {
     "name": "stdout",
     "output_type": "stream",
     "text": [
      "DONE! \n",
      "\n",
      "DRAW COLUMN VALUES DISTRIBUTIONS...\n"
     ]
    },
    {
     "data": {
      "text/html": [
       "<iframe\n",
       "    scrolling=\"no\"\n",
       "    width=\"100%\"\n",
       "    height=\"545px\"\n",
       "    src=\"iframe_figures/figure_13.html\"\n",
       "    frameborder=\"0\"\n",
       "    allowfullscreen\n",
       "></iframe>\n"
      ]
     },
     "metadata": {},
     "output_type": "display_data"
    },
    {
     "data": {
      "text/html": [
       "<iframe\n",
       "    scrolling=\"no\"\n",
       "    width=\"100%\"\n",
       "    height=\"545px\"\n",
       "    src=\"iframe_figures/figure_13.html\"\n",
       "    frameborder=\"0\"\n",
       "    allowfullscreen\n",
       "></iframe>\n"
      ]
     },
     "metadata": {},
     "output_type": "display_data"
    },
    {
     "data": {
      "text/html": [
       "<iframe\n",
       "    scrolling=\"no\"\n",
       "    width=\"100%\"\n",
       "    height=\"545px\"\n",
       "    src=\"iframe_figures/figure_13.html\"\n",
       "    frameborder=\"0\"\n",
       "    allowfullscreen\n",
       "></iframe>\n"
      ]
     },
     "metadata": {},
     "output_type": "display_data"
    },
    {
     "data": {
      "text/html": [
       "<iframe\n",
       "    scrolling=\"no\"\n",
       "    width=\"100%\"\n",
       "    height=\"545px\"\n",
       "    src=\"iframe_figures/figure_13.html\"\n",
       "    frameborder=\"0\"\n",
       "    allowfullscreen\n",
       "></iframe>\n"
      ]
     },
     "metadata": {},
     "output_type": "display_data"
    },
    {
     "data": {
      "text/html": [
       "<iframe\n",
       "    scrolling=\"no\"\n",
       "    width=\"100%\"\n",
       "    height=\"545px\"\n",
       "    src=\"iframe_figures/figure_13.html\"\n",
       "    frameborder=\"0\"\n",
       "    allowfullscreen\n",
       "></iframe>\n"
      ]
     },
     "metadata": {},
     "output_type": "display_data"
    },
    {
     "data": {
      "text/html": [
       "<iframe\n",
       "    scrolling=\"no\"\n",
       "    width=\"100%\"\n",
       "    height=\"545px\"\n",
       "    src=\"iframe_figures/figure_13.html\"\n",
       "    frameborder=\"0\"\n",
       "    allowfullscreen\n",
       "></iframe>\n"
      ]
     },
     "metadata": {},
     "output_type": "display_data"
    },
    {
     "data": {
      "text/html": [
       "<iframe\n",
       "    scrolling=\"no\"\n",
       "    width=\"100%\"\n",
       "    height=\"545px\"\n",
       "    src=\"iframe_figures/figure_13.html\"\n",
       "    frameborder=\"0\"\n",
       "    allowfullscreen\n",
       "></iframe>\n"
      ]
     },
     "metadata": {},
     "output_type": "display_data"
    },
    {
     "data": {
      "text/html": [
       "<iframe\n",
       "    scrolling=\"no\"\n",
       "    width=\"100%\"\n",
       "    height=\"545px\"\n",
       "    src=\"iframe_figures/figure_13.html\"\n",
       "    frameborder=\"0\"\n",
       "    allowfullscreen\n",
       "></iframe>\n"
      ]
     },
     "metadata": {},
     "output_type": "display_data"
    },
    {
     "data": {
      "text/html": [
       "<iframe\n",
       "    scrolling=\"no\"\n",
       "    width=\"100%\"\n",
       "    height=\"545px\"\n",
       "    src=\"iframe_figures/figure_13.html\"\n",
       "    frameborder=\"0\"\n",
       "    allowfullscreen\n",
       "></iframe>\n"
      ]
     },
     "metadata": {},
     "output_type": "display_data"
    },
    {
     "data": {
      "text/html": [
       "<iframe\n",
       "    scrolling=\"no\"\n",
       "    width=\"100%\"\n",
       "    height=\"545px\"\n",
       "    src=\"iframe_figures/figure_13.html\"\n",
       "    frameborder=\"0\"\n",
       "    allowfullscreen\n",
       "></iframe>\n"
      ]
     },
     "metadata": {},
     "output_type": "display_data"
    },
    {
     "data": {
      "text/html": [
       "<iframe\n",
       "    scrolling=\"no\"\n",
       "    width=\"100%\"\n",
       "    height=\"545px\"\n",
       "    src=\"iframe_figures/figure_13.html\"\n",
       "    frameborder=\"0\"\n",
       "    allowfullscreen\n",
       "></iframe>\n"
      ]
     },
     "metadata": {},
     "output_type": "display_data"
    },
    {
     "data": {
      "text/html": [
       "<iframe\n",
       "    scrolling=\"no\"\n",
       "    width=\"100%\"\n",
       "    height=\"545px\"\n",
       "    src=\"iframe_figures/figure_13.html\"\n",
       "    frameborder=\"0\"\n",
       "    allowfullscreen\n",
       "></iframe>\n"
      ]
     },
     "metadata": {},
     "output_type": "display_data"
    },
    {
     "name": "stdout",
     "output_type": "stream",
     "text": [
      "DONE!\n"
     ]
    },
    {
     "name": "stderr",
     "output_type": "stream",
     "text": [
      "100%|██████████| 36/36 [00:22<00:00,  1.59it/s]\n"
     ]
    },
    {
     "name": "stdout",
     "output_type": "stream",
     "text": [
      "Saving scores to  eval/mle/beijing_ON_QnSC_200k/tabddpm_ON_QnSC_200k_mult_4.json\n",
      "RMSE обучения на синтетических данных TABDDPM_ON_QNSC_200K_MULT_4: 0.531 ± 0.050\n",
      "beijing_ON_QnSC_200k, tabddpm_ON_QnSC_200k_mult_4: 0.8850909166930384\n",
      "n_clusters: 25\n",
      "DCR Score, a value closer to 0.5 is better\n",
      "beijing_ON_QnSC_200k-tabddpm_ON_QnSC_200k_mult_4, DCR Score = 0.5060003725286714\n",
      "=========== All Features ===========\n",
      "Data shape:  (37581, 83)\n",
      "alpha precision: 0.969168, beta recall: 0.598994\n",
      "./models/tabddpm_ON_QnSC/ckpt/beijing/tabddpm_ON_QnSC_200k_mult_5 tabddpm_ON_QnSC_200k_mult_5 ./synthetic/beijing_ON_QnSC_200k/tabddpm_ON_QnSC_200k_mult_5.csv\n",
      "No NaNs in numerical features, skipping\n",
      "mlp\n",
      "Sample timestep    0\n",
      "Sample timestep    0\n",
      "Sample timestep    0\n",
      "Sample timestep    0\n",
      "Shape torch.Size([37581, 83])\n",
      "Sampling time: 198.05426239967346\n",
      "Sample path changed to ./synthetic/beijing_ON_QnSC_200k/initial_tabddpm_ON_QnSC_200k_mult_5.csv\n",
      "CALCULATING COLUMN-WISE DENSITY ESTIMATION & PAIR-WISE COLUMN CORRELATION...\n",
      "Generating report ...\n",
      "\n",
      "(1/2) Evaluating Column Shapes: |██████████| 12/12 [00:00<00:00, 45.91it/s]|\n",
      "Column Shapes Score: 97.03%\n",
      "\n",
      "(2/2) Evaluating Column Pair Trends: |██████████| 66/66 [00:00<00:00, 84.24it/s]|\n",
      "Column Pair Trends Score: 94.78%\n",
      "\n",
      "Overall Score (Average): 95.91%\n",
      "\n",
      "Error rate (%) of column-wise density estimation TABDDPM_ON_QNSC_200K_MULT_5: 2.974 ± 3.163\n",
      "Error rate (%) of pair-wise column correlation score TABDDPM_ON_QNSC_200K_MULT_5: 5.215 ± 4.521\n"
     ]
    },
    {
     "data": {
      "text/html": [
       "<iframe\n",
       "    scrolling=\"no\"\n",
       "    width=\"100%\"\n",
       "    height=\"545px\"\n",
       "    src=\"iframe_figures/figure_13.html\"\n",
       "    frameborder=\"0\"\n",
       "    allowfullscreen\n",
       "></iframe>\n"
      ]
     },
     "metadata": {},
     "output_type": "display_data"
    },
    {
     "data": {
      "text/html": [
       "<iframe\n",
       "    scrolling=\"no\"\n",
       "    width=\"920px\"\n",
       "    height=\"920\"\n",
       "    src=\"iframe_figures/figure_13.html\"\n",
       "    frameborder=\"0\"\n",
       "    allowfullscreen\n",
       "></iframe>\n"
      ]
     },
     "metadata": {},
     "output_type": "display_data"
    },
    {
     "name": "stdout",
     "output_type": "stream",
     "text": [
      "DONE! \n",
      "\n",
      "DRAW COLUMN VALUES DISTRIBUTIONS...\n"
     ]
    },
    {
     "data": {
      "text/html": [
       "<iframe\n",
       "    scrolling=\"no\"\n",
       "    width=\"100%\"\n",
       "    height=\"545px\"\n",
       "    src=\"iframe_figures/figure_13.html\"\n",
       "    frameborder=\"0\"\n",
       "    allowfullscreen\n",
       "></iframe>\n"
      ]
     },
     "metadata": {},
     "output_type": "display_data"
    },
    {
     "data": {
      "text/html": [
       "<iframe\n",
       "    scrolling=\"no\"\n",
       "    width=\"100%\"\n",
       "    height=\"545px\"\n",
       "    src=\"iframe_figures/figure_13.html\"\n",
       "    frameborder=\"0\"\n",
       "    allowfullscreen\n",
       "></iframe>\n"
      ]
     },
     "metadata": {},
     "output_type": "display_data"
    },
    {
     "data": {
      "text/html": [
       "<iframe\n",
       "    scrolling=\"no\"\n",
       "    width=\"100%\"\n",
       "    height=\"545px\"\n",
       "    src=\"iframe_figures/figure_13.html\"\n",
       "    frameborder=\"0\"\n",
       "    allowfullscreen\n",
       "></iframe>\n"
      ]
     },
     "metadata": {},
     "output_type": "display_data"
    },
    {
     "data": {
      "text/html": [
       "<iframe\n",
       "    scrolling=\"no\"\n",
       "    width=\"100%\"\n",
       "    height=\"545px\"\n",
       "    src=\"iframe_figures/figure_13.html\"\n",
       "    frameborder=\"0\"\n",
       "    allowfullscreen\n",
       "></iframe>\n"
      ]
     },
     "metadata": {},
     "output_type": "display_data"
    },
    {
     "data": {
      "text/html": [
       "<iframe\n",
       "    scrolling=\"no\"\n",
       "    width=\"100%\"\n",
       "    height=\"545px\"\n",
       "    src=\"iframe_figures/figure_13.html\"\n",
       "    frameborder=\"0\"\n",
       "    allowfullscreen\n",
       "></iframe>\n"
      ]
     },
     "metadata": {},
     "output_type": "display_data"
    },
    {
     "data": {
      "text/html": [
       "<iframe\n",
       "    scrolling=\"no\"\n",
       "    width=\"100%\"\n",
       "    height=\"545px\"\n",
       "    src=\"iframe_figures/figure_13.html\"\n",
       "    frameborder=\"0\"\n",
       "    allowfullscreen\n",
       "></iframe>\n"
      ]
     },
     "metadata": {},
     "output_type": "display_data"
    },
    {
     "data": {
      "text/html": [
       "<iframe\n",
       "    scrolling=\"no\"\n",
       "    width=\"100%\"\n",
       "    height=\"545px\"\n",
       "    src=\"iframe_figures/figure_13.html\"\n",
       "    frameborder=\"0\"\n",
       "    allowfullscreen\n",
       "></iframe>\n"
      ]
     },
     "metadata": {},
     "output_type": "display_data"
    },
    {
     "data": {
      "text/html": [
       "<iframe\n",
       "    scrolling=\"no\"\n",
       "    width=\"100%\"\n",
       "    height=\"545px\"\n",
       "    src=\"iframe_figures/figure_13.html\"\n",
       "    frameborder=\"0\"\n",
       "    allowfullscreen\n",
       "></iframe>\n"
      ]
     },
     "metadata": {},
     "output_type": "display_data"
    },
    {
     "data": {
      "text/html": [
       "<iframe\n",
       "    scrolling=\"no\"\n",
       "    width=\"100%\"\n",
       "    height=\"545px\"\n",
       "    src=\"iframe_figures/figure_13.html\"\n",
       "    frameborder=\"0\"\n",
       "    allowfullscreen\n",
       "></iframe>\n"
      ]
     },
     "metadata": {},
     "output_type": "display_data"
    },
    {
     "data": {
      "text/html": [
       "<iframe\n",
       "    scrolling=\"no\"\n",
       "    width=\"100%\"\n",
       "    height=\"545px\"\n",
       "    src=\"iframe_figures/figure_13.html\"\n",
       "    frameborder=\"0\"\n",
       "    allowfullscreen\n",
       "></iframe>\n"
      ]
     },
     "metadata": {},
     "output_type": "display_data"
    },
    {
     "data": {
      "text/html": [
       "<iframe\n",
       "    scrolling=\"no\"\n",
       "    width=\"100%\"\n",
       "    height=\"545px\"\n",
       "    src=\"iframe_figures/figure_13.html\"\n",
       "    frameborder=\"0\"\n",
       "    allowfullscreen\n",
       "></iframe>\n"
      ]
     },
     "metadata": {},
     "output_type": "display_data"
    },
    {
     "data": {
      "text/html": [
       "<iframe\n",
       "    scrolling=\"no\"\n",
       "    width=\"100%\"\n",
       "    height=\"545px\"\n",
       "    src=\"iframe_figures/figure_13.html\"\n",
       "    frameborder=\"0\"\n",
       "    allowfullscreen\n",
       "></iframe>\n"
      ]
     },
     "metadata": {},
     "output_type": "display_data"
    },
    {
     "name": "stdout",
     "output_type": "stream",
     "text": [
      "DONE!\n"
     ]
    },
    {
     "name": "stderr",
     "output_type": "stream",
     "text": [
      "100%|██████████| 36/36 [00:22<00:00,  1.58it/s]\n"
     ]
    },
    {
     "name": "stdout",
     "output_type": "stream",
     "text": [
      "Saving scores to  eval/mle/beijing_ON_QnSC_200k/tabddpm_ON_QnSC_200k_mult_5.json\n",
      "RMSE обучения на синтетических данных TABDDPM_ON_QNSC_200K_MULT_5: 0.606 ± 0.038\n",
      "beijing_ON_QnSC_200k, tabddpm_ON_QnSC_200k_mult_5: 0.89081603268087\n",
      "n_clusters: 25\n",
      "DCR Score, a value closer to 0.5 is better\n",
      "beijing_ON_QnSC_200k-tabddpm_ON_QnSC_200k_mult_5, DCR Score = 0.506239855246002\n",
      "=========== All Features ===========\n",
      "Data shape:  (37581, 83)\n",
      "alpha precision: 0.957887, beta recall: 0.538465\n",
      "./models/tabddpm_ON_QnSC/ckpt/beijing/tabddpm_ON_QnSC_200k_mult_6 tabddpm_ON_QnSC_200k_mult_6 ./synthetic/beijing_ON_QnSC_200k/tabddpm_ON_QnSC_200k_mult_6.csv\n",
      "No NaNs in numerical features, skipping\n",
      "mlp\n",
      "Sample timestep    0\n",
      "Sample timestep    0\n",
      "Sample timestep    0\n",
      "Sample timestep    0\n",
      "Shape torch.Size([37581, 83])\n",
      "Sampling time: 197.80302786827087\n",
      "Sample path changed to ./synthetic/beijing_ON_QnSC_200k/initial_tabddpm_ON_QnSC_200k_mult_6.csv\n",
      "CALCULATING COLUMN-WISE DENSITY ESTIMATION & PAIR-WISE COLUMN CORRELATION...\n",
      "Generating report ...\n",
      "\n",
      "(1/2) Evaluating Column Shapes: |██████████| 12/12 [00:00<00:00, 39.34it/s]|\n",
      "Column Shapes Score: 97.77%\n",
      "\n",
      "(2/2) Evaluating Column Pair Trends: |██████████| 66/66 [00:00<00:00, 78.93it/s]|\n",
      "Column Pair Trends Score: 96.3%\n",
      "\n",
      "Overall Score (Average): 97.04%\n",
      "\n",
      "Error rate (%) of column-wise density estimation TABDDPM_ON_QNSC_200K_MULT_6: 2.226 ± 2.131\n",
      "Error rate (%) of pair-wise column correlation score TABDDPM_ON_QNSC_200K_MULT_6: 3.701 ± 2.991\n"
     ]
    },
    {
     "data": {
      "text/html": [
       "<iframe\n",
       "    scrolling=\"no\"\n",
       "    width=\"100%\"\n",
       "    height=\"545px\"\n",
       "    src=\"iframe_figures/figure_13.html\"\n",
       "    frameborder=\"0\"\n",
       "    allowfullscreen\n",
       "></iframe>\n"
      ]
     },
     "metadata": {},
     "output_type": "display_data"
    },
    {
     "data": {
      "text/html": [
       "<iframe\n",
       "    scrolling=\"no\"\n",
       "    width=\"920px\"\n",
       "    height=\"920\"\n",
       "    src=\"iframe_figures/figure_13.html\"\n",
       "    frameborder=\"0\"\n",
       "    allowfullscreen\n",
       "></iframe>\n"
      ]
     },
     "metadata": {},
     "output_type": "display_data"
    },
    {
     "name": "stdout",
     "output_type": "stream",
     "text": [
      "DONE! \n",
      "\n",
      "DRAW COLUMN VALUES DISTRIBUTIONS...\n"
     ]
    },
    {
     "data": {
      "text/html": [
       "<iframe\n",
       "    scrolling=\"no\"\n",
       "    width=\"100%\"\n",
       "    height=\"545px\"\n",
       "    src=\"iframe_figures/figure_13.html\"\n",
       "    frameborder=\"0\"\n",
       "    allowfullscreen\n",
       "></iframe>\n"
      ]
     },
     "metadata": {},
     "output_type": "display_data"
    },
    {
     "data": {
      "text/html": [
       "<iframe\n",
       "    scrolling=\"no\"\n",
       "    width=\"100%\"\n",
       "    height=\"545px\"\n",
       "    src=\"iframe_figures/figure_13.html\"\n",
       "    frameborder=\"0\"\n",
       "    allowfullscreen\n",
       "></iframe>\n"
      ]
     },
     "metadata": {},
     "output_type": "display_data"
    },
    {
     "data": {
      "text/html": [
       "<iframe\n",
       "    scrolling=\"no\"\n",
       "    width=\"100%\"\n",
       "    height=\"545px\"\n",
       "    src=\"iframe_figures/figure_13.html\"\n",
       "    frameborder=\"0\"\n",
       "    allowfullscreen\n",
       "></iframe>\n"
      ]
     },
     "metadata": {},
     "output_type": "display_data"
    },
    {
     "data": {
      "text/html": [
       "<iframe\n",
       "    scrolling=\"no\"\n",
       "    width=\"100%\"\n",
       "    height=\"545px\"\n",
       "    src=\"iframe_figures/figure_13.html\"\n",
       "    frameborder=\"0\"\n",
       "    allowfullscreen\n",
       "></iframe>\n"
      ]
     },
     "metadata": {},
     "output_type": "display_data"
    },
    {
     "data": {
      "text/html": [
       "<iframe\n",
       "    scrolling=\"no\"\n",
       "    width=\"100%\"\n",
       "    height=\"545px\"\n",
       "    src=\"iframe_figures/figure_13.html\"\n",
       "    frameborder=\"0\"\n",
       "    allowfullscreen\n",
       "></iframe>\n"
      ]
     },
     "metadata": {},
     "output_type": "display_data"
    },
    {
     "data": {
      "text/html": [
       "<iframe\n",
       "    scrolling=\"no\"\n",
       "    width=\"100%\"\n",
       "    height=\"545px\"\n",
       "    src=\"iframe_figures/figure_13.html\"\n",
       "    frameborder=\"0\"\n",
       "    allowfullscreen\n",
       "></iframe>\n"
      ]
     },
     "metadata": {},
     "output_type": "display_data"
    },
    {
     "data": {
      "text/html": [
       "<iframe\n",
       "    scrolling=\"no\"\n",
       "    width=\"100%\"\n",
       "    height=\"545px\"\n",
       "    src=\"iframe_figures/figure_13.html\"\n",
       "    frameborder=\"0\"\n",
       "    allowfullscreen\n",
       "></iframe>\n"
      ]
     },
     "metadata": {},
     "output_type": "display_data"
    },
    {
     "data": {
      "text/html": [
       "<iframe\n",
       "    scrolling=\"no\"\n",
       "    width=\"100%\"\n",
       "    height=\"545px\"\n",
       "    src=\"iframe_figures/figure_13.html\"\n",
       "    frameborder=\"0\"\n",
       "    allowfullscreen\n",
       "></iframe>\n"
      ]
     },
     "metadata": {},
     "output_type": "display_data"
    },
    {
     "data": {
      "text/html": [
       "<iframe\n",
       "    scrolling=\"no\"\n",
       "    width=\"100%\"\n",
       "    height=\"545px\"\n",
       "    src=\"iframe_figures/figure_13.html\"\n",
       "    frameborder=\"0\"\n",
       "    allowfullscreen\n",
       "></iframe>\n"
      ]
     },
     "metadata": {},
     "output_type": "display_data"
    },
    {
     "data": {
      "text/html": [
       "<iframe\n",
       "    scrolling=\"no\"\n",
       "    width=\"100%\"\n",
       "    height=\"545px\"\n",
       "    src=\"iframe_figures/figure_13.html\"\n",
       "    frameborder=\"0\"\n",
       "    allowfullscreen\n",
       "></iframe>\n"
      ]
     },
     "metadata": {},
     "output_type": "display_data"
    },
    {
     "data": {
      "text/html": [
       "<iframe\n",
       "    scrolling=\"no\"\n",
       "    width=\"100%\"\n",
       "    height=\"545px\"\n",
       "    src=\"iframe_figures/figure_13.html\"\n",
       "    frameborder=\"0\"\n",
       "    allowfullscreen\n",
       "></iframe>\n"
      ]
     },
     "metadata": {},
     "output_type": "display_data"
    },
    {
     "data": {
      "text/html": [
       "<iframe\n",
       "    scrolling=\"no\"\n",
       "    width=\"100%\"\n",
       "    height=\"545px\"\n",
       "    src=\"iframe_figures/figure_13.html\"\n",
       "    frameborder=\"0\"\n",
       "    allowfullscreen\n",
       "></iframe>\n"
      ]
     },
     "metadata": {},
     "output_type": "display_data"
    },
    {
     "name": "stdout",
     "output_type": "stream",
     "text": [
      "DONE!\n"
     ]
    },
    {
     "name": "stderr",
     "output_type": "stream",
     "text": [
      "100%|██████████| 36/36 [00:22<00:00,  1.59it/s]\n"
     ]
    },
    {
     "name": "stdout",
     "output_type": "stream",
     "text": [
      "Saving scores to  eval/mle/beijing_ON_QnSC_200k/tabddpm_ON_QnSC_200k_mult_6.json\n",
      "RMSE обучения на синтетических данных TABDDPM_ON_QNSC_200K_MULT_6: 0.539 ± 0.051\n",
      "beijing_ON_QnSC_200k, tabddpm_ON_QnSC_200k_mult_6: 0.9083943186057569\n",
      "n_clusters: 25\n",
      "DCR Score, a value closer to 0.5 is better\n",
      "beijing_ON_QnSC_200k-tabddpm_ON_QnSC_200k_mult_6, DCR Score = 0.5028072696309305\n",
      "=========== All Features ===========\n",
      "Data shape:  (37581, 83)\n",
      "alpha precision: 0.973990, beta recall: 0.581948\n",
      "./models/tabddpm_ON_QnSC/ckpt/beijing/tabddpm_ON_QnSC_200k_mult_7 tabddpm_ON_QnSC_200k_mult_7 ./synthetic/beijing_ON_QnSC_200k/tabddpm_ON_QnSC_200k_mult_7.csv\n",
      "No NaNs in numerical features, skipping\n",
      "mlp\n",
      "Sample timestep    0\n",
      "Sample timestep    0\n",
      "Sample timestep    0\n",
      "Sample timestep    0\n",
      "Shape torch.Size([37581, 83])\n",
      "Sampling time: 197.94419264793396\n",
      "Sample path changed to ./synthetic/beijing_ON_QnSC_200k/initial_tabddpm_ON_QnSC_200k_mult_7.csv\n",
      "CALCULATING COLUMN-WISE DENSITY ESTIMATION & PAIR-WISE COLUMN CORRELATION...\n",
      "Generating report ...\n",
      "\n",
      "(1/2) Evaluating Column Shapes: |██████████| 12/12 [00:00<00:00, 46.51it/s]|\n",
      "Column Shapes Score: 96.84%\n",
      "\n",
      "(2/2) Evaluating Column Pair Trends: |██████████| 66/66 [00:00<00:00, 83.95it/s]|\n",
      "Column Pair Trends Score: 93.98%\n",
      "\n",
      "Overall Score (Average): 95.41%\n",
      "\n",
      "Error rate (%) of column-wise density estimation TABDDPM_ON_QNSC_200K_MULT_7: 3.161 ± 3.193\n",
      "Error rate (%) of pair-wise column correlation score TABDDPM_ON_QNSC_200K_MULT_7: 6.019 ± 5.194\n"
     ]
    },
    {
     "data": {
      "text/html": [
       "<iframe\n",
       "    scrolling=\"no\"\n",
       "    width=\"100%\"\n",
       "    height=\"545px\"\n",
       "    src=\"iframe_figures/figure_13.html\"\n",
       "    frameborder=\"0\"\n",
       "    allowfullscreen\n",
       "></iframe>\n"
      ]
     },
     "metadata": {},
     "output_type": "display_data"
    },
    {
     "data": {
      "text/html": [
       "<iframe\n",
       "    scrolling=\"no\"\n",
       "    width=\"920px\"\n",
       "    height=\"920\"\n",
       "    src=\"iframe_figures/figure_13.html\"\n",
       "    frameborder=\"0\"\n",
       "    allowfullscreen\n",
       "></iframe>\n"
      ]
     },
     "metadata": {},
     "output_type": "display_data"
    },
    {
     "name": "stdout",
     "output_type": "stream",
     "text": [
      "DONE! \n",
      "\n",
      "DRAW COLUMN VALUES DISTRIBUTIONS...\n"
     ]
    },
    {
     "data": {
      "text/html": [
       "<iframe\n",
       "    scrolling=\"no\"\n",
       "    width=\"100%\"\n",
       "    height=\"545px\"\n",
       "    src=\"iframe_figures/figure_13.html\"\n",
       "    frameborder=\"0\"\n",
       "    allowfullscreen\n",
       "></iframe>\n"
      ]
     },
     "metadata": {},
     "output_type": "display_data"
    },
    {
     "data": {
      "text/html": [
       "<iframe\n",
       "    scrolling=\"no\"\n",
       "    width=\"100%\"\n",
       "    height=\"545px\"\n",
       "    src=\"iframe_figures/figure_13.html\"\n",
       "    frameborder=\"0\"\n",
       "    allowfullscreen\n",
       "></iframe>\n"
      ]
     },
     "metadata": {},
     "output_type": "display_data"
    },
    {
     "data": {
      "text/html": [
       "<iframe\n",
       "    scrolling=\"no\"\n",
       "    width=\"100%\"\n",
       "    height=\"545px\"\n",
       "    src=\"iframe_figures/figure_13.html\"\n",
       "    frameborder=\"0\"\n",
       "    allowfullscreen\n",
       "></iframe>\n"
      ]
     },
     "metadata": {},
     "output_type": "display_data"
    },
    {
     "data": {
      "text/html": [
       "<iframe\n",
       "    scrolling=\"no\"\n",
       "    width=\"100%\"\n",
       "    height=\"545px\"\n",
       "    src=\"iframe_figures/figure_13.html\"\n",
       "    frameborder=\"0\"\n",
       "    allowfullscreen\n",
       "></iframe>\n"
      ]
     },
     "metadata": {},
     "output_type": "display_data"
    },
    {
     "data": {
      "text/html": [
       "<iframe\n",
       "    scrolling=\"no\"\n",
       "    width=\"100%\"\n",
       "    height=\"545px\"\n",
       "    src=\"iframe_figures/figure_13.html\"\n",
       "    frameborder=\"0\"\n",
       "    allowfullscreen\n",
       "></iframe>\n"
      ]
     },
     "metadata": {},
     "output_type": "display_data"
    },
    {
     "data": {
      "text/html": [
       "<iframe\n",
       "    scrolling=\"no\"\n",
       "    width=\"100%\"\n",
       "    height=\"545px\"\n",
       "    src=\"iframe_figures/figure_13.html\"\n",
       "    frameborder=\"0\"\n",
       "    allowfullscreen\n",
       "></iframe>\n"
      ]
     },
     "metadata": {},
     "output_type": "display_data"
    },
    {
     "data": {
      "text/html": [
       "<iframe\n",
       "    scrolling=\"no\"\n",
       "    width=\"100%\"\n",
       "    height=\"545px\"\n",
       "    src=\"iframe_figures/figure_13.html\"\n",
       "    frameborder=\"0\"\n",
       "    allowfullscreen\n",
       "></iframe>\n"
      ]
     },
     "metadata": {},
     "output_type": "display_data"
    },
    {
     "data": {
      "text/html": [
       "<iframe\n",
       "    scrolling=\"no\"\n",
       "    width=\"100%\"\n",
       "    height=\"545px\"\n",
       "    src=\"iframe_figures/figure_13.html\"\n",
       "    frameborder=\"0\"\n",
       "    allowfullscreen\n",
       "></iframe>\n"
      ]
     },
     "metadata": {},
     "output_type": "display_data"
    },
    {
     "data": {
      "text/html": [
       "<iframe\n",
       "    scrolling=\"no\"\n",
       "    width=\"100%\"\n",
       "    height=\"545px\"\n",
       "    src=\"iframe_figures/figure_13.html\"\n",
       "    frameborder=\"0\"\n",
       "    allowfullscreen\n",
       "></iframe>\n"
      ]
     },
     "metadata": {},
     "output_type": "display_data"
    },
    {
     "data": {
      "text/html": [
       "<iframe\n",
       "    scrolling=\"no\"\n",
       "    width=\"100%\"\n",
       "    height=\"545px\"\n",
       "    src=\"iframe_figures/figure_13.html\"\n",
       "    frameborder=\"0\"\n",
       "    allowfullscreen\n",
       "></iframe>\n"
      ]
     },
     "metadata": {},
     "output_type": "display_data"
    },
    {
     "data": {
      "text/html": [
       "<iframe\n",
       "    scrolling=\"no\"\n",
       "    width=\"100%\"\n",
       "    height=\"545px\"\n",
       "    src=\"iframe_figures/figure_13.html\"\n",
       "    frameborder=\"0\"\n",
       "    allowfullscreen\n",
       "></iframe>\n"
      ]
     },
     "metadata": {},
     "output_type": "display_data"
    },
    {
     "data": {
      "text/html": [
       "<iframe\n",
       "    scrolling=\"no\"\n",
       "    width=\"100%\"\n",
       "    height=\"545px\"\n",
       "    src=\"iframe_figures/figure_13.html\"\n",
       "    frameborder=\"0\"\n",
       "    allowfullscreen\n",
       "></iframe>\n"
      ]
     },
     "metadata": {},
     "output_type": "display_data"
    },
    {
     "name": "stdout",
     "output_type": "stream",
     "text": [
      "DONE!\n"
     ]
    },
    {
     "name": "stderr",
     "output_type": "stream",
     "text": [
      "100%|██████████| 36/36 [00:23<00:00,  1.55it/s]\n"
     ]
    },
    {
     "name": "stdout",
     "output_type": "stream",
     "text": [
      "Saving scores to  eval/mle/beijing_ON_QnSC_200k/tabddpm_ON_QnSC_200k_mult_7.json\n",
      "RMSE обучения на синтетических данных TABDDPM_ON_QNSC_200K_MULT_7: 0.601 ± 0.031\n",
      "beijing_ON_QnSC_200k, tabddpm_ON_QnSC_200k_mult_7: 0.8819081838814758\n",
      "n_clusters: 25\n",
      "DCR Score, a value closer to 0.5 is better\n",
      "beijing_ON_QnSC_200k-tabddpm_ON_QnSC_200k_mult_7, DCR Score = 0.4983901439557223\n",
      "=========== All Features ===========\n",
      "Data shape:  (37581, 83)\n",
      "alpha precision: 0.957733, beta recall: 0.521609\n",
      "./models/tabddpm_ON_QnSC/ckpt/beijing/tabddpm_ON_QnSC_200k_mult_8 tabddpm_ON_QnSC_200k_mult_8 ./synthetic/beijing_ON_QnSC_200k/tabddpm_ON_QnSC_200k_mult_8.csv\n",
      "No NaNs in numerical features, skipping\n",
      "mlp\n",
      "Sample timestep    0\n",
      "Sample timestep    0\n",
      "Sample timestep    0\n",
      "Sample timestep    0\n",
      "Shape torch.Size([37581, 83])\n",
      "Sampling time: 197.72036933898926\n",
      "Sample path changed to ./synthetic/beijing_ON_QnSC_200k/initial_tabddpm_ON_QnSC_200k_mult_8.csv\n",
      "CALCULATING COLUMN-WISE DENSITY ESTIMATION & PAIR-WISE COLUMN CORRELATION...\n",
      "Generating report ...\n",
      "\n",
      "(1/2) Evaluating Column Shapes: |██████████| 12/12 [00:00<00:00, 47.08it/s]|\n",
      "Column Shapes Score: 97.67%\n",
      "\n",
      "(2/2) Evaluating Column Pair Trends: |██████████| 66/66 [00:00<00:00, 98.63it/s]| \n",
      "Column Pair Trends Score: 96.11%\n",
      "\n",
      "Overall Score (Average): 96.89%\n",
      "\n",
      "Error rate (%) of column-wise density estimation TABDDPM_ON_QNSC_200K_MULT_8: 2.333 ± 2.053\n",
      "Error rate (%) of pair-wise column correlation score TABDDPM_ON_QNSC_200K_MULT_8: 3.894 ± 3.178\n"
     ]
    },
    {
     "data": {
      "text/html": [
       "<iframe\n",
       "    scrolling=\"no\"\n",
       "    width=\"100%\"\n",
       "    height=\"545px\"\n",
       "    src=\"iframe_figures/figure_13.html\"\n",
       "    frameborder=\"0\"\n",
       "    allowfullscreen\n",
       "></iframe>\n"
      ]
     },
     "metadata": {},
     "output_type": "display_data"
    },
    {
     "data": {
      "text/html": [
       "<iframe\n",
       "    scrolling=\"no\"\n",
       "    width=\"920px\"\n",
       "    height=\"920\"\n",
       "    src=\"iframe_figures/figure_13.html\"\n",
       "    frameborder=\"0\"\n",
       "    allowfullscreen\n",
       "></iframe>\n"
      ]
     },
     "metadata": {},
     "output_type": "display_data"
    },
    {
     "name": "stdout",
     "output_type": "stream",
     "text": [
      "DONE! \n",
      "\n",
      "DRAW COLUMN VALUES DISTRIBUTIONS...\n"
     ]
    },
    {
     "data": {
      "text/html": [
       "<iframe\n",
       "    scrolling=\"no\"\n",
       "    width=\"100%\"\n",
       "    height=\"545px\"\n",
       "    src=\"iframe_figures/figure_13.html\"\n",
       "    frameborder=\"0\"\n",
       "    allowfullscreen\n",
       "></iframe>\n"
      ]
     },
     "metadata": {},
     "output_type": "display_data"
    },
    {
     "data": {
      "text/html": [
       "<iframe\n",
       "    scrolling=\"no\"\n",
       "    width=\"100%\"\n",
       "    height=\"545px\"\n",
       "    src=\"iframe_figures/figure_13.html\"\n",
       "    frameborder=\"0\"\n",
       "    allowfullscreen\n",
       "></iframe>\n"
      ]
     },
     "metadata": {},
     "output_type": "display_data"
    },
    {
     "data": {
      "text/html": [
       "<iframe\n",
       "    scrolling=\"no\"\n",
       "    width=\"100%\"\n",
       "    height=\"545px\"\n",
       "    src=\"iframe_figures/figure_13.html\"\n",
       "    frameborder=\"0\"\n",
       "    allowfullscreen\n",
       "></iframe>\n"
      ]
     },
     "metadata": {},
     "output_type": "display_data"
    },
    {
     "data": {
      "text/html": [
       "<iframe\n",
       "    scrolling=\"no\"\n",
       "    width=\"100%\"\n",
       "    height=\"545px\"\n",
       "    src=\"iframe_figures/figure_13.html\"\n",
       "    frameborder=\"0\"\n",
       "    allowfullscreen\n",
       "></iframe>\n"
      ]
     },
     "metadata": {},
     "output_type": "display_data"
    },
    {
     "data": {
      "text/html": [
       "<iframe\n",
       "    scrolling=\"no\"\n",
       "    width=\"100%\"\n",
       "    height=\"545px\"\n",
       "    src=\"iframe_figures/figure_13.html\"\n",
       "    frameborder=\"0\"\n",
       "    allowfullscreen\n",
       "></iframe>\n"
      ]
     },
     "metadata": {},
     "output_type": "display_data"
    },
    {
     "data": {
      "text/html": [
       "<iframe\n",
       "    scrolling=\"no\"\n",
       "    width=\"100%\"\n",
       "    height=\"545px\"\n",
       "    src=\"iframe_figures/figure_13.html\"\n",
       "    frameborder=\"0\"\n",
       "    allowfullscreen\n",
       "></iframe>\n"
      ]
     },
     "metadata": {},
     "output_type": "display_data"
    },
    {
     "data": {
      "text/html": [
       "<iframe\n",
       "    scrolling=\"no\"\n",
       "    width=\"100%\"\n",
       "    height=\"545px\"\n",
       "    src=\"iframe_figures/figure_13.html\"\n",
       "    frameborder=\"0\"\n",
       "    allowfullscreen\n",
       "></iframe>\n"
      ]
     },
     "metadata": {},
     "output_type": "display_data"
    },
    {
     "data": {
      "text/html": [
       "<iframe\n",
       "    scrolling=\"no\"\n",
       "    width=\"100%\"\n",
       "    height=\"545px\"\n",
       "    src=\"iframe_figures/figure_13.html\"\n",
       "    frameborder=\"0\"\n",
       "    allowfullscreen\n",
       "></iframe>\n"
      ]
     },
     "metadata": {},
     "output_type": "display_data"
    },
    {
     "data": {
      "text/html": [
       "<iframe\n",
       "    scrolling=\"no\"\n",
       "    width=\"100%\"\n",
       "    height=\"545px\"\n",
       "    src=\"iframe_figures/figure_13.html\"\n",
       "    frameborder=\"0\"\n",
       "    allowfullscreen\n",
       "></iframe>\n"
      ]
     },
     "metadata": {},
     "output_type": "display_data"
    },
    {
     "data": {
      "text/html": [
       "<iframe\n",
       "    scrolling=\"no\"\n",
       "    width=\"100%\"\n",
       "    height=\"545px\"\n",
       "    src=\"iframe_figures/figure_13.html\"\n",
       "    frameborder=\"0\"\n",
       "    allowfullscreen\n",
       "></iframe>\n"
      ]
     },
     "metadata": {},
     "output_type": "display_data"
    },
    {
     "data": {
      "text/html": [
       "<iframe\n",
       "    scrolling=\"no\"\n",
       "    width=\"100%\"\n",
       "    height=\"545px\"\n",
       "    src=\"iframe_figures/figure_13.html\"\n",
       "    frameborder=\"0\"\n",
       "    allowfullscreen\n",
       "></iframe>\n"
      ]
     },
     "metadata": {},
     "output_type": "display_data"
    },
    {
     "data": {
      "text/html": [
       "<iframe\n",
       "    scrolling=\"no\"\n",
       "    width=\"100%\"\n",
       "    height=\"545px\"\n",
       "    src=\"iframe_figures/figure_13.html\"\n",
       "    frameborder=\"0\"\n",
       "    allowfullscreen\n",
       "></iframe>\n"
      ]
     },
     "metadata": {},
     "output_type": "display_data"
    },
    {
     "name": "stdout",
     "output_type": "stream",
     "text": [
      "DONE!\n"
     ]
    },
    {
     "name": "stderr",
     "output_type": "stream",
     "text": [
      "100%|██████████| 36/36 [00:23<00:00,  1.56it/s]\n"
     ]
    },
    {
     "name": "stdout",
     "output_type": "stream",
     "text": [
      "Saving scores to  eval/mle/beijing_ON_QnSC_200k/tabddpm_ON_QnSC_200k_mult_8.json\n",
      "RMSE обучения на синтетических данных TABDDPM_ON_QNSC_200K_MULT_8: 0.579 ± 0.041\n",
      "beijing_ON_QnSC_200k, tabddpm_ON_QnSC_200k_mult_8: 0.8920349787467505\n",
      "n_clusters: 25\n",
      "DCR Score, a value closer to 0.5 is better\n",
      "beijing_ON_QnSC_200k-tabddpm_ON_QnSC_200k_mult_8, DCR Score = 0.5009712354647295\n",
      "=========== All Features ===========\n",
      "Data shape:  (37581, 83)\n",
      "alpha precision: 0.965287, beta recall: 0.575725\n",
      "./models/tabddpm_ON_QnSC/ckpt/beijing/tabddpm_ON_QnSC_200k_mult_9 tabddpm_ON_QnSC_200k_mult_9 ./synthetic/beijing_ON_QnSC_200k/tabddpm_ON_QnSC_200k_mult_9.csv\n",
      "No NaNs in numerical features, skipping\n",
      "mlp\n",
      "Sample timestep    0\n",
      "Sample timestep    0\n",
      "Sample timestep    0\n",
      "Sample timestep    0\n",
      "Shape torch.Size([37581, 83])\n",
      "Sampling time: 197.91942858695984\n",
      "Sample path changed to ./synthetic/beijing_ON_QnSC_200k/initial_tabddpm_ON_QnSC_200k_mult_9.csv\n",
      "CALCULATING COLUMN-WISE DENSITY ESTIMATION & PAIR-WISE COLUMN CORRELATION...\n",
      "Generating report ...\n",
      "\n",
      "(1/2) Evaluating Column Shapes: |██████████| 12/12 [00:00<00:00, 46.32it/s]|\n",
      "Column Shapes Score: 97.65%\n",
      "\n",
      "(2/2) Evaluating Column Pair Trends: |██████████| 66/66 [00:00<00:00, 82.26it/s]|\n",
      "Column Pair Trends Score: 96.66%\n",
      "\n",
      "Overall Score (Average): 97.16%\n",
      "\n",
      "Error rate (%) of column-wise density estimation TABDDPM_ON_QNSC_200K_MULT_9: 2.351 ± 2.010\n",
      "Error rate (%) of pair-wise column correlation score TABDDPM_ON_QNSC_200K_MULT_9: 3.335 ± 2.145\n"
     ]
    },
    {
     "data": {
      "text/html": [
       "<iframe\n",
       "    scrolling=\"no\"\n",
       "    width=\"100%\"\n",
       "    height=\"545px\"\n",
       "    src=\"iframe_figures/figure_13.html\"\n",
       "    frameborder=\"0\"\n",
       "    allowfullscreen\n",
       "></iframe>\n"
      ]
     },
     "metadata": {},
     "output_type": "display_data"
    },
    {
     "data": {
      "text/html": [
       "<iframe\n",
       "    scrolling=\"no\"\n",
       "    width=\"920px\"\n",
       "    height=\"920\"\n",
       "    src=\"iframe_figures/figure_13.html\"\n",
       "    frameborder=\"0\"\n",
       "    allowfullscreen\n",
       "></iframe>\n"
      ]
     },
     "metadata": {},
     "output_type": "display_data"
    },
    {
     "name": "stdout",
     "output_type": "stream",
     "text": [
      "DONE! \n",
      "\n",
      "DRAW COLUMN VALUES DISTRIBUTIONS...\n"
     ]
    },
    {
     "data": {
      "text/html": [
       "<iframe\n",
       "    scrolling=\"no\"\n",
       "    width=\"100%\"\n",
       "    height=\"545px\"\n",
       "    src=\"iframe_figures/figure_13.html\"\n",
       "    frameborder=\"0\"\n",
       "    allowfullscreen\n",
       "></iframe>\n"
      ]
     },
     "metadata": {},
     "output_type": "display_data"
    },
    {
     "data": {
      "text/html": [
       "<iframe\n",
       "    scrolling=\"no\"\n",
       "    width=\"100%\"\n",
       "    height=\"545px\"\n",
       "    src=\"iframe_figures/figure_13.html\"\n",
       "    frameborder=\"0\"\n",
       "    allowfullscreen\n",
       "></iframe>\n"
      ]
     },
     "metadata": {},
     "output_type": "display_data"
    },
    {
     "data": {
      "text/html": [
       "<iframe\n",
       "    scrolling=\"no\"\n",
       "    width=\"100%\"\n",
       "    height=\"545px\"\n",
       "    src=\"iframe_figures/figure_13.html\"\n",
       "    frameborder=\"0\"\n",
       "    allowfullscreen\n",
       "></iframe>\n"
      ]
     },
     "metadata": {},
     "output_type": "display_data"
    },
    {
     "data": {
      "text/html": [
       "<iframe\n",
       "    scrolling=\"no\"\n",
       "    width=\"100%\"\n",
       "    height=\"545px\"\n",
       "    src=\"iframe_figures/figure_13.html\"\n",
       "    frameborder=\"0\"\n",
       "    allowfullscreen\n",
       "></iframe>\n"
      ]
     },
     "metadata": {},
     "output_type": "display_data"
    },
    {
     "data": {
      "text/html": [
       "<iframe\n",
       "    scrolling=\"no\"\n",
       "    width=\"100%\"\n",
       "    height=\"545px\"\n",
       "    src=\"iframe_figures/figure_13.html\"\n",
       "    frameborder=\"0\"\n",
       "    allowfullscreen\n",
       "></iframe>\n"
      ]
     },
     "metadata": {},
     "output_type": "display_data"
    },
    {
     "data": {
      "text/html": [
       "<iframe\n",
       "    scrolling=\"no\"\n",
       "    width=\"100%\"\n",
       "    height=\"545px\"\n",
       "    src=\"iframe_figures/figure_13.html\"\n",
       "    frameborder=\"0\"\n",
       "    allowfullscreen\n",
       "></iframe>\n"
      ]
     },
     "metadata": {},
     "output_type": "display_data"
    },
    {
     "data": {
      "text/html": [
       "<iframe\n",
       "    scrolling=\"no\"\n",
       "    width=\"100%\"\n",
       "    height=\"545px\"\n",
       "    src=\"iframe_figures/figure_13.html\"\n",
       "    frameborder=\"0\"\n",
       "    allowfullscreen\n",
       "></iframe>\n"
      ]
     },
     "metadata": {},
     "output_type": "display_data"
    },
    {
     "data": {
      "text/html": [
       "<iframe\n",
       "    scrolling=\"no\"\n",
       "    width=\"100%\"\n",
       "    height=\"545px\"\n",
       "    src=\"iframe_figures/figure_13.html\"\n",
       "    frameborder=\"0\"\n",
       "    allowfullscreen\n",
       "></iframe>\n"
      ]
     },
     "metadata": {},
     "output_type": "display_data"
    },
    {
     "data": {
      "text/html": [
       "<iframe\n",
       "    scrolling=\"no\"\n",
       "    width=\"100%\"\n",
       "    height=\"545px\"\n",
       "    src=\"iframe_figures/figure_13.html\"\n",
       "    frameborder=\"0\"\n",
       "    allowfullscreen\n",
       "></iframe>\n"
      ]
     },
     "metadata": {},
     "output_type": "display_data"
    },
    {
     "data": {
      "text/html": [
       "<iframe\n",
       "    scrolling=\"no\"\n",
       "    width=\"100%\"\n",
       "    height=\"545px\"\n",
       "    src=\"iframe_figures/figure_13.html\"\n",
       "    frameborder=\"0\"\n",
       "    allowfullscreen\n",
       "></iframe>\n"
      ]
     },
     "metadata": {},
     "output_type": "display_data"
    },
    {
     "data": {
      "text/html": [
       "<iframe\n",
       "    scrolling=\"no\"\n",
       "    width=\"100%\"\n",
       "    height=\"545px\"\n",
       "    src=\"iframe_figures/figure_13.html\"\n",
       "    frameborder=\"0\"\n",
       "    allowfullscreen\n",
       "></iframe>\n"
      ]
     },
     "metadata": {},
     "output_type": "display_data"
    },
    {
     "data": {
      "text/html": [
       "<iframe\n",
       "    scrolling=\"no\"\n",
       "    width=\"100%\"\n",
       "    height=\"545px\"\n",
       "    src=\"iframe_figures/figure_13.html\"\n",
       "    frameborder=\"0\"\n",
       "    allowfullscreen\n",
       "></iframe>\n"
      ]
     },
     "metadata": {},
     "output_type": "display_data"
    },
    {
     "name": "stdout",
     "output_type": "stream",
     "text": [
      "DONE!\n"
     ]
    },
    {
     "name": "stderr",
     "output_type": "stream",
     "text": [
      "100%|██████████| 36/36 [00:22<00:00,  1.57it/s]\n"
     ]
    },
    {
     "name": "stdout",
     "output_type": "stream",
     "text": [
      "Saving scores to  eval/mle/beijing_ON_QnSC_200k/tabddpm_ON_QnSC_200k_mult_9.json\n",
      "RMSE обучения на синтетических данных TABDDPM_ON_QNSC_200K_MULT_9: 0.556 ± 0.044\n",
      "beijing_ON_QnSC_200k, tabddpm_ON_QnSC_200k_mult_9: 0.9002641030692083\n",
      "n_clusters: 25\n",
      "DCR Score, a value closer to 0.5 is better\n",
      "beijing_ON_QnSC_200k-tabddpm_ON_QnSC_200k_mult_9, DCR Score = 0.5059205449562278\n",
      "=========== All Features ===========\n",
      "Data shape:  (37581, 83)\n",
      "alpha precision: 0.963272, beta recall: 0.586571\n"
     ]
    }
   ],
   "source": [
    "overall_metrics = {}\n",
    "\n",
    "for model_save_path in model_save_path_hist:\n",
    "    model_name = model_save_path.split('/')[-1]\n",
    "    sample_save_path = f'./synthetic/{dataname}/{model_name}.csv'\n",
    "\n",
    "    CONFIG.add_arg('method', model_name)\n",
    "    CONFIG.add_arg('sample_save_path',\n",
    "                       f\"synthetic/{CONFIG.get_arg('dataname')}/{CONFIG.get_arg('method')}.csv\")\n",
    "\n",
    "    overall_metrics[model_name] = {}\n",
    "\n",
    "    print(model_save_path, model_name, sample_save_path)\n",
    "\n",
    "    tabddpm_noise_ohe = TabDDPM_OHE_Noise_QnSC(CONFIG, model_save_path=model_save_path, sigmas=None)\n",
    "    tabddpm_noise_ohe.sample(sample_save_path=sample_save_path)\n",
    "    postsample_OHE(dataname, f'./synthetic/{dataname}/initial_{model_name}.csv', normalizers=normalizers, target_cat=target_cat)\n",
    "\n",
    "    # подсчет метрик\n",
    "    # try:\n",
    "    #     overall_metrics[model_name]['base_metrics'] = calculate_base_metrics(make_binary=False) # ошибка\n",
    "    # except Exception as e:\n",
    "    #     overall_metrics[model_name]['base_metrics'] = np.nan\n",
    "    overall_metrics[model_name]['similarity'] = calculate_similarity()\n",
    "    overall_metrics[model_name]['mle'] = calculate_mle()\n",
    "    overall_metrics[model_name]['detection'] = calculate_detection()\n",
    "    overall_metrics[model_name]['DCR'] = calculate_DCR()\n",
    "    overall_metrics[model_name]['quality'] = calculate_alpha_beta()"
   ]
  },
  {
   "cell_type": "code",
   "execution_count": 14,
   "metadata": {},
   "outputs": [],
   "source": [
    "final_metrics_table = []\n",
    "for m in overall_metrics.keys():\n",
    "    # Сбор таблички результатов\n",
    "    tmp = pd.DataFrame([{'Model':model_short, 'Type':m, 'Data':dataname_initial}])\n",
    "    tmp.columns = pd.MultiIndex.from_tuples([('', i) for i in tmp.columns])\n",
    "    result = [tmp]\n",
    "    \n",
    "    for metric_group in overall_metrics[m].keys():\n",
    "        tmp = pd.DataFrame([overall_metrics[m][metric_group]])\n",
    "        tmp.columns = pd.MultiIndex.from_tuples([(metric_group, i) for i in tmp.columns])\n",
    "        result.append(tmp)\n",
    "    result = pd.concat(result, axis = 1)\n",
    "    final_metrics_table.append(result)\n",
    "    \n",
    "final_metrics_table = pd.concat(final_metrics_table)"
   ]
  },
  {
   "cell_type": "code",
   "execution_count": 15,
   "metadata": {},
   "outputs": [
    {
     "data": {
      "text/html": [
       "<div>\n",
       "<style scoped>\n",
       "    .dataframe tbody tr th:only-of-type {\n",
       "        vertical-align: middle;\n",
       "    }\n",
       "\n",
       "    .dataframe tbody tr th {\n",
       "        vertical-align: top;\n",
       "    }\n",
       "\n",
       "    .dataframe thead tr th {\n",
       "        text-align: left;\n",
       "    }\n",
       "</style>\n",
       "<table border=\"1\" class=\"dataframe\">\n",
       "  <thead>\n",
       "    <tr>\n",
       "      <th></th>\n",
       "      <th colspan=\"3\" halign=\"left\"></th>\n",
       "      <th colspan=\"7\" halign=\"left\">similarity</th>\n",
       "      <th colspan=\"2\" halign=\"left\">mle</th>\n",
       "      <th>detection</th>\n",
       "      <th>DCR</th>\n",
       "      <th colspan=\"2\" halign=\"left\">quality</th>\n",
       "    </tr>\n",
       "    <tr>\n",
       "      <th></th>\n",
       "      <th>Model</th>\n",
       "      <th>Type</th>\n",
       "      <th>Data</th>\n",
       "      <th>Column Shapes Score, %</th>\n",
       "      <th>Column Pair Trends Score, %</th>\n",
       "      <th>Overall Score (Average), %</th>\n",
       "      <th>Error rate (%) of column-wise density estimation, %</th>\n",
       "      <th>Error rate (%) of column-wise density estimation std, %</th>\n",
       "      <th>Error rate (%) of pair-wise column correlation score, %</th>\n",
       "      <th>Error rate (%) of pair-wise column correlation score std, %</th>\n",
       "      <th>RMSE обучения на синтетических данных</th>\n",
       "      <th>RMSE обучения на синтетических данных, std</th>\n",
       "      <th>Score</th>\n",
       "      <th>Score</th>\n",
       "      <th>alpha precision</th>\n",
       "      <th>beta recall</th>\n",
       "    </tr>\n",
       "  </thead>\n",
       "  <tbody>\n",
       "    <tr>\n",
       "      <th>0</th>\n",
       "      <td>tabddpm_ON_QnSC</td>\n",
       "      <td>tabddpm_ON_QnSC_200k_const_0</td>\n",
       "      <td>beijing</td>\n",
       "      <td>97.9895</td>\n",
       "      <td>96.6970</td>\n",
       "      <td>97.3432</td>\n",
       "      <td>2.0105</td>\n",
       "      <td>1.9636</td>\n",
       "      <td>3.3030</td>\n",
       "      <td>2.5019</td>\n",
       "      <td>0.5453</td>\n",
       "      <td>0.0429</td>\n",
       "      <td>0.9135</td>\n",
       "      <td>0.5090</td>\n",
       "      <td>0.9748</td>\n",
       "      <td>0.5605</td>\n",
       "    </tr>\n",
       "    <tr>\n",
       "      <th>0</th>\n",
       "      <td>tabddpm_ON_QnSC</td>\n",
       "      <td>tabddpm_ON_QnSC_200k_const_0_25</td>\n",
       "      <td>beijing</td>\n",
       "      <td>98.0790</td>\n",
       "      <td>96.5794</td>\n",
       "      <td>97.3292</td>\n",
       "      <td>1.9210</td>\n",
       "      <td>1.5076</td>\n",
       "      <td>3.4206</td>\n",
       "      <td>2.3418</td>\n",
       "      <td>0.6060</td>\n",
       "      <td>0.0361</td>\n",
       "      <td>0.9221</td>\n",
       "      <td>0.5046</td>\n",
       "      <td>0.9832</td>\n",
       "      <td>0.5276</td>\n",
       "    </tr>\n",
       "    <tr>\n",
       "      <th>0</th>\n",
       "      <td>tabddpm_ON_QnSC</td>\n",
       "      <td>tabddpm_ON_QnSC_200k_mult_4</td>\n",
       "      <td>beijing</td>\n",
       "      <td>97.6839</td>\n",
       "      <td>96.6905</td>\n",
       "      <td>97.1872</td>\n",
       "      <td>2.3161</td>\n",
       "      <td>2.2275</td>\n",
       "      <td>3.3095</td>\n",
       "      <td>2.4783</td>\n",
       "      <td>0.5312</td>\n",
       "      <td>0.0505</td>\n",
       "      <td>0.8851</td>\n",
       "      <td>0.5060</td>\n",
       "      <td>0.9692</td>\n",
       "      <td>0.5990</td>\n",
       "    </tr>\n",
       "    <tr>\n",
       "      <th>0</th>\n",
       "      <td>tabddpm_ON_QnSC</td>\n",
       "      <td>tabddpm_ON_QnSC_200k_mult_9</td>\n",
       "      <td>beijing</td>\n",
       "      <td>97.6493</td>\n",
       "      <td>96.6649</td>\n",
       "      <td>97.1571</td>\n",
       "      <td>2.3507</td>\n",
       "      <td>2.0102</td>\n",
       "      <td>3.3351</td>\n",
       "      <td>2.1447</td>\n",
       "      <td>0.5561</td>\n",
       "      <td>0.0438</td>\n",
       "      <td>0.9003</td>\n",
       "      <td>0.5059</td>\n",
       "      <td>0.9633</td>\n",
       "      <td>0.5866</td>\n",
       "    </tr>\n",
       "    <tr>\n",
       "      <th>0</th>\n",
       "      <td>tabddpm_ON_QnSC</td>\n",
       "      <td>tabddpm_ON_QnSC_200k_mult_6</td>\n",
       "      <td>beijing</td>\n",
       "      <td>97.7737</td>\n",
       "      <td>96.2994</td>\n",
       "      <td>97.0366</td>\n",
       "      <td>2.2263</td>\n",
       "      <td>2.1308</td>\n",
       "      <td>3.7006</td>\n",
       "      <td>2.9909</td>\n",
       "      <td>0.5392</td>\n",
       "      <td>0.0514</td>\n",
       "      <td>0.9084</td>\n",
       "      <td>0.5028</td>\n",
       "      <td>0.9740</td>\n",
       "      <td>0.5819</td>\n",
       "    </tr>\n",
       "    <tr>\n",
       "      <th>0</th>\n",
       "      <td>tabddpm_ON_QnSC</td>\n",
       "      <td>tabddpm_ON_QnSC_200k_const_0_1</td>\n",
       "      <td>beijing</td>\n",
       "      <td>97.7497</td>\n",
       "      <td>96.1751</td>\n",
       "      <td>96.9624</td>\n",
       "      <td>2.2503</td>\n",
       "      <td>2.1946</td>\n",
       "      <td>3.8249</td>\n",
       "      <td>3.0537</td>\n",
       "      <td>0.5478</td>\n",
       "      <td>0.0443</td>\n",
       "      <td>0.8961</td>\n",
       "      <td>0.5120</td>\n",
       "      <td>0.9737</td>\n",
       "      <td>0.5581</td>\n",
       "    </tr>\n",
       "    <tr>\n",
       "      <th>0</th>\n",
       "      <td>tabddpm_ON_QnSC</td>\n",
       "      <td>tabddpm_ON_QnSC_200k_mult_8</td>\n",
       "      <td>beijing</td>\n",
       "      <td>97.6668</td>\n",
       "      <td>96.1065</td>\n",
       "      <td>96.8867</td>\n",
       "      <td>2.3332</td>\n",
       "      <td>2.0529</td>\n",
       "      <td>3.8935</td>\n",
       "      <td>3.1778</td>\n",
       "      <td>0.5787</td>\n",
       "      <td>0.0413</td>\n",
       "      <td>0.8920</td>\n",
       "      <td>0.5010</td>\n",
       "      <td>0.9653</td>\n",
       "      <td>0.5757</td>\n",
       "    </tr>\n",
       "    <tr>\n",
       "      <th>0</th>\n",
       "      <td>tabddpm_ON_QnSC</td>\n",
       "      <td>tabddpm_ON_QnSC_200k_const_0_001</td>\n",
       "      <td>beijing</td>\n",
       "      <td>97.6777</td>\n",
       "      <td>96.0761</td>\n",
       "      <td>96.8769</td>\n",
       "      <td>2.3223</td>\n",
       "      <td>2.4043</td>\n",
       "      <td>3.9239</td>\n",
       "      <td>3.3936</td>\n",
       "      <td>0.5426</td>\n",
       "      <td>0.0497</td>\n",
       "      <td>0.9034</td>\n",
       "      <td>0.5051</td>\n",
       "      <td>0.9696</td>\n",
       "      <td>0.5861</td>\n",
       "    </tr>\n",
       "    <tr>\n",
       "      <th>0</th>\n",
       "      <td>tabddpm_ON_QnSC</td>\n",
       "      <td>tabddpm_ON_QnSC_200k_const_0_5</td>\n",
       "      <td>beijing</td>\n",
       "      <td>98.0340</td>\n",
       "      <td>95.4794</td>\n",
       "      <td>96.7567</td>\n",
       "      <td>1.9660</td>\n",
       "      <td>1.2187</td>\n",
       "      <td>4.5206</td>\n",
       "      <td>3.8663</td>\n",
       "      <td>0.7463</td>\n",
       "      <td>0.0185</td>\n",
       "      <td>0.9838</td>\n",
       "      <td>0.5047</td>\n",
       "      <td>0.9558</td>\n",
       "      <td>0.4929</td>\n",
       "    </tr>\n",
       "    <tr>\n",
       "      <th>0</th>\n",
       "      <td>tabddpm_ON_QnSC</td>\n",
       "      <td>tabddpm_ON_QnSC_200k_const_0_01</td>\n",
       "      <td>beijing</td>\n",
       "      <td>97.4806</td>\n",
       "      <td>95.6366</td>\n",
       "      <td>96.5586</td>\n",
       "      <td>2.5194</td>\n",
       "      <td>2.5801</td>\n",
       "      <td>4.3634</td>\n",
       "      <td>3.9999</td>\n",
       "      <td>0.5387</td>\n",
       "      <td>0.0493</td>\n",
       "      <td>0.9012</td>\n",
       "      <td>0.5050</td>\n",
       "      <td>0.9675</td>\n",
       "      <td>0.5891</td>\n",
       "    </tr>\n",
       "    <tr>\n",
       "      <th>0</th>\n",
       "      <td>tabddpm_ON_QnSC</td>\n",
       "      <td>tabddpm_ON_QnSC_200k_mult_0</td>\n",
       "      <td>beijing</td>\n",
       "      <td>96.9774</td>\n",
       "      <td>95.2331</td>\n",
       "      <td>96.1053</td>\n",
       "      <td>3.0226</td>\n",
       "      <td>2.8531</td>\n",
       "      <td>4.7669</td>\n",
       "      <td>3.9359</td>\n",
       "      <td>0.5837</td>\n",
       "      <td>0.0346</td>\n",
       "      <td>0.9022</td>\n",
       "      <td>0.5048</td>\n",
       "      <td>0.9593</td>\n",
       "      <td>0.5487</td>\n",
       "    </tr>\n",
       "    <tr>\n",
       "      <th>0</th>\n",
       "      <td>tabddpm_ON_QnSC</td>\n",
       "      <td>tabddpm_ON_QnSC_200k_mult_1</td>\n",
       "      <td>beijing</td>\n",
       "      <td>96.9118</td>\n",
       "      <td>95.0557</td>\n",
       "      <td>95.9837</td>\n",
       "      <td>3.0882</td>\n",
       "      <td>3.0723</td>\n",
       "      <td>4.9443</td>\n",
       "      <td>4.0829</td>\n",
       "      <td>0.5936</td>\n",
       "      <td>0.0346</td>\n",
       "      <td>0.9066</td>\n",
       "      <td>0.5108</td>\n",
       "      <td>0.9685</td>\n",
       "      <td>0.5406</td>\n",
       "    </tr>\n",
       "    <tr>\n",
       "      <th>0</th>\n",
       "      <td>tabddpm_ON_QnSC</td>\n",
       "      <td>tabddpm_ON_QnSC_200k_mult_5</td>\n",
       "      <td>beijing</td>\n",
       "      <td>97.0255</td>\n",
       "      <td>94.7850</td>\n",
       "      <td>95.9053</td>\n",
       "      <td>2.9745</td>\n",
       "      <td>3.1632</td>\n",
       "      <td>5.2150</td>\n",
       "      <td>4.5214</td>\n",
       "      <td>0.6056</td>\n",
       "      <td>0.0381</td>\n",
       "      <td>0.8908</td>\n",
       "      <td>0.5062</td>\n",
       "      <td>0.9579</td>\n",
       "      <td>0.5385</td>\n",
       "    </tr>\n",
       "    <tr>\n",
       "      <th>0</th>\n",
       "      <td>tabddpm_ON_QnSC</td>\n",
       "      <td>tabddpm_ON_QnSC_200k_mult_3</td>\n",
       "      <td>beijing</td>\n",
       "      <td>96.4816</td>\n",
       "      <td>94.4061</td>\n",
       "      <td>95.4439</td>\n",
       "      <td>3.5184</td>\n",
       "      <td>3.8804</td>\n",
       "      <td>5.5939</td>\n",
       "      <td>5.1930</td>\n",
       "      <td>0.6325</td>\n",
       "      <td>0.0351</td>\n",
       "      <td>0.8615</td>\n",
       "      <td>0.4989</td>\n",
       "      <td>0.9680</td>\n",
       "      <td>0.5141</td>\n",
       "    </tr>\n",
       "    <tr>\n",
       "      <th>0</th>\n",
       "      <td>tabddpm_ON_QnSC</td>\n",
       "      <td>tabddpm_ON_QnSC_200k_mult_7</td>\n",
       "      <td>beijing</td>\n",
       "      <td>96.8395</td>\n",
       "      <td>93.9810</td>\n",
       "      <td>95.4102</td>\n",
       "      <td>3.1605</td>\n",
       "      <td>3.1931</td>\n",
       "      <td>6.0190</td>\n",
       "      <td>5.1936</td>\n",
       "      <td>0.6012</td>\n",
       "      <td>0.0309</td>\n",
       "      <td>0.8819</td>\n",
       "      <td>0.4984</td>\n",
       "      <td>0.9577</td>\n",
       "      <td>0.5216</td>\n",
       "    </tr>\n",
       "    <tr>\n",
       "      <th>0</th>\n",
       "      <td>tabddpm_ON_QnSC</td>\n",
       "      <td>tabddpm_ON_QnSC_200k_mult_2</td>\n",
       "      <td>beijing</td>\n",
       "      <td>96.3523</td>\n",
       "      <td>93.9562</td>\n",
       "      <td>95.1542</td>\n",
       "      <td>3.6477</td>\n",
       "      <td>3.7624</td>\n",
       "      <td>6.0438</td>\n",
       "      <td>5.3319</td>\n",
       "      <td>0.5761</td>\n",
       "      <td>0.0365</td>\n",
       "      <td>0.8848</td>\n",
       "      <td>0.5038</td>\n",
       "      <td>0.9606</td>\n",
       "      <td>0.5179</td>\n",
       "    </tr>\n",
       "  </tbody>\n",
       "</table>\n",
       "</div>"
      ],
      "text/plain": [
       "                                                               \\\n",
       "             Model                              Type     Data   \n",
       "0  tabddpm_ON_QnSC      tabddpm_ON_QnSC_200k_const_0  beijing   \n",
       "0  tabddpm_ON_QnSC   tabddpm_ON_QnSC_200k_const_0_25  beijing   \n",
       "0  tabddpm_ON_QnSC       tabddpm_ON_QnSC_200k_mult_4  beijing   \n",
       "0  tabddpm_ON_QnSC       tabddpm_ON_QnSC_200k_mult_9  beijing   \n",
       "0  tabddpm_ON_QnSC       tabddpm_ON_QnSC_200k_mult_6  beijing   \n",
       "0  tabddpm_ON_QnSC    tabddpm_ON_QnSC_200k_const_0_1  beijing   \n",
       "0  tabddpm_ON_QnSC       tabddpm_ON_QnSC_200k_mult_8  beijing   \n",
       "0  tabddpm_ON_QnSC  tabddpm_ON_QnSC_200k_const_0_001  beijing   \n",
       "0  tabddpm_ON_QnSC    tabddpm_ON_QnSC_200k_const_0_5  beijing   \n",
       "0  tabddpm_ON_QnSC   tabddpm_ON_QnSC_200k_const_0_01  beijing   \n",
       "0  tabddpm_ON_QnSC       tabddpm_ON_QnSC_200k_mult_0  beijing   \n",
       "0  tabddpm_ON_QnSC       tabddpm_ON_QnSC_200k_mult_1  beijing   \n",
       "0  tabddpm_ON_QnSC       tabddpm_ON_QnSC_200k_mult_5  beijing   \n",
       "0  tabddpm_ON_QnSC       tabddpm_ON_QnSC_200k_mult_3  beijing   \n",
       "0  tabddpm_ON_QnSC       tabddpm_ON_QnSC_200k_mult_7  beijing   \n",
       "0  tabddpm_ON_QnSC       tabddpm_ON_QnSC_200k_mult_2  beijing   \n",
       "\n",
       "              similarity                              \\\n",
       "  Column Shapes Score, % Column Pair Trends Score, %   \n",
       "0                97.9895                     96.6970   \n",
       "0                98.0790                     96.5794   \n",
       "0                97.6839                     96.6905   \n",
       "0                97.6493                     96.6649   \n",
       "0                97.7737                     96.2994   \n",
       "0                97.7497                     96.1751   \n",
       "0                97.6668                     96.1065   \n",
       "0                97.6777                     96.0761   \n",
       "0                98.0340                     95.4794   \n",
       "0                97.4806                     95.6366   \n",
       "0                96.9774                     95.2331   \n",
       "0                96.9118                     95.0557   \n",
       "0                97.0255                     94.7850   \n",
       "0                96.4816                     94.4061   \n",
       "0                96.8395                     93.9810   \n",
       "0                96.3523                     93.9562   \n",
       "\n",
       "                              \\\n",
       "  Overall Score (Average), %   \n",
       "0                    97.3432   \n",
       "0                    97.3292   \n",
       "0                    97.1872   \n",
       "0                    97.1571   \n",
       "0                    97.0366   \n",
       "0                    96.9624   \n",
       "0                    96.8867   \n",
       "0                    96.8769   \n",
       "0                    96.7567   \n",
       "0                    96.5586   \n",
       "0                    96.1053   \n",
       "0                    95.9837   \n",
       "0                    95.9053   \n",
       "0                    95.4439   \n",
       "0                    95.4102   \n",
       "0                    95.1542   \n",
       "\n",
       "                                                       \\\n",
       "  Error rate (%) of column-wise density estimation, %   \n",
       "0                                              2.0105   \n",
       "0                                              1.9210   \n",
       "0                                              2.3161   \n",
       "0                                              2.3507   \n",
       "0                                              2.2263   \n",
       "0                                              2.2503   \n",
       "0                                              2.3332   \n",
       "0                                              2.3223   \n",
       "0                                              1.9660   \n",
       "0                                              2.5194   \n",
       "0                                              3.0226   \n",
       "0                                              3.0882   \n",
       "0                                              2.9745   \n",
       "0                                              3.5184   \n",
       "0                                              3.1605   \n",
       "0                                              3.6477   \n",
       "\n",
       "                                                           \\\n",
       "  Error rate (%) of column-wise density estimation std, %   \n",
       "0                                                  1.9636   \n",
       "0                                                  1.5076   \n",
       "0                                                  2.2275   \n",
       "0                                                  2.0102   \n",
       "0                                                  2.1308   \n",
       "0                                                  2.1946   \n",
       "0                                                  2.0529   \n",
       "0                                                  2.4043   \n",
       "0                                                  1.2187   \n",
       "0                                                  2.5801   \n",
       "0                                                  2.8531   \n",
       "0                                                  3.0723   \n",
       "0                                                  3.1632   \n",
       "0                                                  3.8804   \n",
       "0                                                  3.1931   \n",
       "0                                                  3.7624   \n",
       "\n",
       "                                                           \\\n",
       "  Error rate (%) of pair-wise column correlation score, %   \n",
       "0                                                  3.3030   \n",
       "0                                                  3.4206   \n",
       "0                                                  3.3095   \n",
       "0                                                  3.3351   \n",
       "0                                                  3.7006   \n",
       "0                                                  3.8249   \n",
       "0                                                  3.8935   \n",
       "0                                                  3.9239   \n",
       "0                                                  4.5206   \n",
       "0                                                  4.3634   \n",
       "0                                                  4.7669   \n",
       "0                                                  4.9443   \n",
       "0                                                  5.2150   \n",
       "0                                                  5.5939   \n",
       "0                                                  6.0190   \n",
       "0                                                  6.0438   \n",
       "\n",
       "                                                               \\\n",
       "  Error rate (%) of pair-wise column correlation score std, %   \n",
       "0                                                      2.5019   \n",
       "0                                                      2.3418   \n",
       "0                                                      2.4783   \n",
       "0                                                      2.1447   \n",
       "0                                                      2.9909   \n",
       "0                                                      3.0537   \n",
       "0                                                      3.1778   \n",
       "0                                                      3.3936   \n",
       "0                                                      3.8663   \n",
       "0                                                      3.9999   \n",
       "0                                                      3.9359   \n",
       "0                                                      4.0829   \n",
       "0                                                      4.5214   \n",
       "0                                                      5.1930   \n",
       "0                                                      5.1936   \n",
       "0                                                      5.3319   \n",
       "\n",
       "                                    mle  \\\n",
       "  RMSE обучения на синтетических данных   \n",
       "0                                0.5453   \n",
       "0                                0.6060   \n",
       "0                                0.5312   \n",
       "0                                0.5561   \n",
       "0                                0.5392   \n",
       "0                                0.5478   \n",
       "0                                0.5787   \n",
       "0                                0.5426   \n",
       "0                                0.7463   \n",
       "0                                0.5387   \n",
       "0                                0.5837   \n",
       "0                                0.5936   \n",
       "0                                0.6056   \n",
       "0                                0.6325   \n",
       "0                                0.6012   \n",
       "0                                0.5761   \n",
       "\n",
       "                                             detection     DCR  \\\n",
       "  RMSE обучения на синтетических данных, std     Score   Score   \n",
       "0                                     0.0429    0.9135  0.5090   \n",
       "0                                     0.0361    0.9221  0.5046   \n",
       "0                                     0.0505    0.8851  0.5060   \n",
       "0                                     0.0438    0.9003  0.5059   \n",
       "0                                     0.0514    0.9084  0.5028   \n",
       "0                                     0.0443    0.8961  0.5120   \n",
       "0                                     0.0413    0.8920  0.5010   \n",
       "0                                     0.0497    0.9034  0.5051   \n",
       "0                                     0.0185    0.9838  0.5047   \n",
       "0                                     0.0493    0.9012  0.5050   \n",
       "0                                     0.0346    0.9022  0.5048   \n",
       "0                                     0.0346    0.9066  0.5108   \n",
       "0                                     0.0381    0.8908  0.5062   \n",
       "0                                     0.0351    0.8615  0.4989   \n",
       "0                                     0.0309    0.8819  0.4984   \n",
       "0                                     0.0365    0.8848  0.5038   \n",
       "\n",
       "          quality              \n",
       "  alpha precision beta recall  \n",
       "0          0.9748      0.5605  \n",
       "0          0.9832      0.5276  \n",
       "0          0.9692      0.5990  \n",
       "0          0.9633      0.5866  \n",
       "0          0.9740      0.5819  \n",
       "0          0.9737      0.5581  \n",
       "0          0.9653      0.5757  \n",
       "0          0.9696      0.5861  \n",
       "0          0.9558      0.4929  \n",
       "0          0.9675      0.5891  \n",
       "0          0.9593      0.5487  \n",
       "0          0.9685      0.5406  \n",
       "0          0.9579      0.5385  \n",
       "0          0.9680      0.5141  \n",
       "0          0.9577      0.5216  \n",
       "0          0.9606      0.5179  "
      ]
     },
     "execution_count": 15,
     "metadata": {},
     "output_type": "execute_result"
    }
   ],
   "source": [
    "pd.set_option('display.max_columns', None)\n",
    "final_metrics_table.round(4).sort_values([('similarity', 'Overall Score (Average), %')],\n",
    "                                                                          ascending=False)"
   ]
  },
  {
   "cell_type": "code",
   "execution_count": 16,
   "metadata": {},
   "outputs": [],
   "source": [
    "import os\n",
    "if not os.path.exists(f'./eval/total/{dataname_initial}'):\n",
    "    os.makedirs(f'./eval/total/{dataname_initial}')\n",
    "final_metrics_table.to_csv(f'./eval/total/{dataname_initial}/{model_short}{model_name_postfix}_final_metrics_table.csv', index=False)"
   ]
  },
  {
   "cell_type": "code",
   "execution_count": null,
   "metadata": {},
   "outputs": [],
   "source": []
  }
 ],
 "metadata": {
  "colab": {
   "authorship_tag": "ABX9TyM87OAyAZDeZ/KEr1BVC60/",
   "mount_file_id": "1-H09AG2TbV5ZzQ-ytJRNbFUCirBvOV9p",
   "provenance": []
  },
  "kernelspec": {
   "display_name": "Python3 (ipykernel)",
   "language": "python",
   "name": "python3"
  },
  "language_info": {
   "codemirror_mode": {
    "name": "ipython",
    "version": 3
   },
   "file_extension": ".py",
   "mimetype": "text/x-python",
   "name": "python",
   "nbconvert_exporter": "python",
   "pygments_lexer": "ipython3",
   "version": "3.10.12"
  },
  "widgets": {
   "application/vnd.jupyter.widget-state+json": {
    "state": {},
    "version_major": 2,
    "version_minor": 0
   }
  }
 },
 "nbformat": 4,
 "nbformat_minor": 4
}
