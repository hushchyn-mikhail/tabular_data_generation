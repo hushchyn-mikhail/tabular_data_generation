{
 "cells": [
  {
   "cell_type": "markdown",
   "metadata": {},
   "source": [
    "В этом ноубуке используются обeченные тестовые модели, с их помощью происходит сэмплирование и далее закодированные категориальные переменные переводятся в изначальные. После чего замеряется качество.\n",
    "\n",
    "Способ нормализации: quantile transformation для числовых признаков и standart scale для категориальных OHE\n",
    "\n",
    "Добавление шума: ко всем признакам"
   ]
  },
  {
   "cell_type": "code",
   "execution_count": 2,
   "metadata": {},
   "outputs": [
    {
     "name": "stdout",
     "output_type": "stream",
     "text": [
      "/workspace/TabDDPM_copy/TabDDPM\n"
     ]
    },
    {
     "name": "stderr",
     "output_type": "stream",
     "text": [
      "/venv/main/lib/python3.10/site-packages/IPython/core/magics/osm.py:417: UserWarning: This is now an optional IPython functionality, setting dhist requires you to install the `pickleshare` library.\n",
      "  self.shell.db['dhist'] = compress_dhist(dhist)[-100:]\n"
     ]
    }
   ],
   "source": [
    "%cd .."
   ]
  },
  {
   "cell_type": "code",
   "execution_count": 3,
   "metadata": {
    "executionInfo": {
     "elapsed": 11435,
     "status": "ok",
     "timestamp": 1742850942286,
     "user": {
      "displayName": "Elina Telesheva",
      "userId": "03968090829384653347"
     },
     "user_tz": -180
    },
    "id": "o77KHt0w3DWc"
   },
   "outputs": [],
   "source": [
    "import json\n",
    "import pandas as pd\n",
    "import torch\n",
    "import matplotlib.pyplot as plt\n",
    "\n",
    "from utils import *\n",
    "from models.tabddpm_ON_QnSC.tabddpm_ON_QnSC import *\n",
    "\n",
    "from tqdm.notebook import tqdm\n",
    "\n",
    "from eval.base_metrics import calculate_base_metrics\n",
    "from eval.similarity import calculate_similarity\n",
    "from eval.mle import calculate_mle\n",
    "from eval.alpha_beta import calculate_alpha_beta\n",
    "from eval.detection import calculate_detection\n",
    "from eval.dcr import calculate_DCR"
   ]
  },
  {
   "cell_type": "markdown",
   "metadata": {},
   "source": [
    "### Подготовка"
   ]
  },
  {
   "cell_type": "code",
   "execution_count": 4,
   "metadata": {},
   "outputs": [],
   "source": [
    "dataname = 'adult_ON_QnSC_200k'\n",
    "dataname_initial = 'adult'\n",
    "model_short = 'tabddpm_ON_QnSC'\n",
    "model_name = 'tabddpm_ON_QnSC'\n",
    "model_name_postfix = '_200k'\n",
    "\n",
    "idx = list(range(10))\n",
    "constants = [0, 0.001, 0.01, 0.1, 0.25, 0.5]\n",
    "\n",
    "CONFIG.add_arg('save_cat', None)\n",
    "target_cat=True"
   ]
  },
  {
   "cell_type": "code",
   "execution_count": 5,
   "metadata": {},
   "outputs": [
    {
     "name": "stdout",
     "output_type": "stream",
     "text": [
      "Device: cuda\n"
     ]
    }
   ],
   "source": [
    "if torch.cuda.is_available():\n",
    "    device = f'cuda'\n",
    "else:\n",
    "    device = 'cpu'\n",
    "CONFIG.add_arg('device', device)\n",
    "print(f\"Device: {device}\")\n",
    "\n",
    "CONFIG.add_arg('dataname', dataname)\n",
    "CONFIG.add_arg('real_path',\n",
    "                   f'./synthetic/{dataname}/initial_real.csv')\n",
    "CONFIG.add_arg('test_path',\n",
    "                   f'./synthetic/{dataname}/initial_test.csv')\n",
    "\n",
    "CONFIG.add_arg('info_path',\n",
    "                   f'./data/{dataname}/initial_info.json')"
   ]
  },
  {
   "cell_type": "code",
   "execution_count": 6,
   "metadata": {},
   "outputs": [],
   "source": [
    "model_save_path_hist = []\n",
    "for sigma in constants:\n",
    "    model_save_path=f\"./models/{model_name}/ckpt/{dataname_initial}/{model_name}{model_name_postfix}_const_{str(sigma).replace('.', '_')}\"\n",
    "    model_save_path_hist.append(model_save_path)\n",
    "\n",
    "for i in idx:\n",
    "    model_save_path=f\"./models/{model_name}/ckpt/{dataname_initial}/{model_name}{model_name_postfix}_mult_{i}\"\n",
    "    model_save_path_hist.append(model_save_path)"
   ]
  },
  {
   "cell_type": "code",
   "execution_count": 7,
   "metadata": {},
   "outputs": [
    {
     "name": "stdout",
     "output_type": "stream",
     "text": [
      "normalizers received from `data/adult_ON_QnSC_200k` folder\n"
     ]
    }
   ],
   "source": [
    "from pickle import dump, load\n",
    "with open(f'data/{dataname}/normalizers.json', 'r') as f:\n",
    "        normalizers = json.load(f)\n",
    "normalizers['num_normalizer'] = load(open(f'./data/{dataname}/num_normalizer_{dataname}.pkl', 'rb'))\n",
    "normalizers['cat_normalizer'] = load(open(f'./data/{dataname}/cat_normalizer_{dataname}.pkl', 'rb'))\n",
    "print(f\"normalizers received from `data/{dataname}` folder\")"
   ]
  },
  {
   "cell_type": "code",
   "execution_count": 10,
   "metadata": {},
   "outputs": [
    {
     "data": {
      "text/plain": [
       "{'dataname': 'adult_ON_QnSC_200k',\n",
       " 'method': None,\n",
       " 'device': 'cuda',\n",
       " 'mode': 'train',\n",
       " 'train': 1,\n",
       " 'sample_save_path': None,\n",
       " 'sigma_scheduller_name': 'constant',\n",
       " 'sigma_value': 0.001,\n",
       " 'num_noise': 103,\n",
       " 'real_path': './synthetic/adult_ON_QnSC_200k/initial_real.csv',\n",
       " 'test_path': './synthetic/adult_ON_QnSC_200k/initial_test.csv',\n",
       " 'info_path': './data/adult_ON_QnSC_200k/initial_info.json',\n",
       " 'save_path': None,\n",
       " 'num_clusters': 25,\n",
       " 'save_cat': None}"
      ]
     },
     "execution_count": 10,
     "metadata": {},
     "output_type": "execute_result"
    }
   ],
   "source": [
    "CONFIG.get_all_args()"
   ]
  },
  {
   "cell_type": "markdown",
   "metadata": {},
   "source": [
    "### Sample + Eval"
   ]
  },
  {
   "cell_type": "code",
   "execution_count": null,
   "metadata": {
    "scrolled": true
   },
   "outputs": [
    {
     "name": "stdout",
     "output_type": "stream",
     "text": [
      "./models/tabddpm_ON_QnSC/ckpt/adult/tabddpm_ON_QnSC_200k_const_0 tabddpm_ON_QnSC_200k_const_0 ./synthetic/adult_ON_QnSC_200k/tabddpm_ON_QnSC_200k_const_0.csv\n",
      "No NaNs in numerical features, skipping\n",
      "mlp\n",
      "Sample timestep    0\n",
      "Sample timestep    0\n",
      "Sample timestep    0\n",
      "Sample timestep    0\n",
      "Shape torch.Size([32561, 109])\n",
      "Sampling time: 191.06463503837585\n",
      "Sample path changed to ./synthetic/adult_ON_QnSC_200k/initial_tabddpm_ON_QnSC_200k_const_0.csv\n"
     ]
    },
    {
     "name": "stderr",
     "output_type": "stream",
     "text": [
      "/venv/main/lib/python3.10/site-packages/sklearn/linear_model/_logistic.py:465: ConvergenceWarning: lbfgs failed to converge (status=1):\n",
      "STOP: TOTAL NO. OF ITERATIONS REACHED LIMIT.\n",
      "\n",
      "Increase the number of iterations (max_iter) or scale the data as shown in:\n",
      "    https://scikit-learn.org/stable/modules/preprocessing.html\n",
      "Please also refer to the documentation for alternative solver options:\n",
      "    https://scikit-learn.org/stable/modules/linear_model.html#logistic-regression\n",
      "  n_iter_i = _check_optimize_result(\n"
     ]
    },
    {
     "name": "stdout",
     "output_type": "stream",
     "text": [
      "CALCULATING COLUMN-WISE DENSITY ESTIMATION & PAIR-WISE COLUMN CORRELATION...\n",
      "Generating report ...\n",
      "\n",
      "(1/2) Evaluating Column Shapes: |██████████| 15/15 [00:00<00:00, 71.69it/s]|\n",
      "Column Shapes Score: 98.32%\n",
      "\n",
      "(2/2) Evaluating Column Pair Trends: |██████████| 105/105 [00:01<00:00, 66.76it/s]|\n",
      "Column Pair Trends Score: 96.79%\n",
      "\n",
      "Overall Score (Average): 97.56%\n",
      "\n",
      "Error rate (%) of column-wise density estimation TABDDPM_ON_QNSC_200K_CONST_0: 1.675 ± 0.983\n",
      "Error rate (%) of pair-wise column correlation score TABDDPM_ON_QNSC_200K_CONST_0: 3.207 ± 1.547\n"
     ]
    },
    {
     "data": {
      "text/html": [
       "<iframe\n",
       "    scrolling=\"no\"\n",
       "    width=\"100%\"\n",
       "    height=\"545px\"\n",
       "    src=\"iframe_figures/figure_11.html\"\n",
       "    frameborder=\"0\"\n",
       "    allowfullscreen\n",
       "></iframe>\n"
      ]
     },
     "metadata": {},
     "output_type": "display_data"
    },
    {
     "data": {
      "text/html": [
       "<iframe\n",
       "    scrolling=\"no\"\n",
       "    width=\"920px\"\n",
       "    height=\"920\"\n",
       "    src=\"iframe_figures/figure_11.html\"\n",
       "    frameborder=\"0\"\n",
       "    allowfullscreen\n",
       "></iframe>\n"
      ]
     },
     "metadata": {},
     "output_type": "display_data"
    },
    {
     "name": "stdout",
     "output_type": "stream",
     "text": [
      "DONE! \n",
      "\n",
      "DRAW COLUMN VALUES DISTRIBUTIONS...\n"
     ]
    },
    {
     "data": {
      "text/html": [
       "<iframe\n",
       "    scrolling=\"no\"\n",
       "    width=\"100%\"\n",
       "    height=\"545px\"\n",
       "    src=\"iframe_figures/figure_11.html\"\n",
       "    frameborder=\"0\"\n",
       "    allowfullscreen\n",
       "></iframe>\n"
      ]
     },
     "metadata": {},
     "output_type": "display_data"
    },
    {
     "data": {
      "text/html": [
       "<iframe\n",
       "    scrolling=\"no\"\n",
       "    width=\"100%\"\n",
       "    height=\"545px\"\n",
       "    src=\"iframe_figures/figure_11.html\"\n",
       "    frameborder=\"0\"\n",
       "    allowfullscreen\n",
       "></iframe>\n"
      ]
     },
     "metadata": {},
     "output_type": "display_data"
    },
    {
     "data": {
      "text/html": [
       "<iframe\n",
       "    scrolling=\"no\"\n",
       "    width=\"100%\"\n",
       "    height=\"545px\"\n",
       "    src=\"iframe_figures/figure_11.html\"\n",
       "    frameborder=\"0\"\n",
       "    allowfullscreen\n",
       "></iframe>\n"
      ]
     },
     "metadata": {},
     "output_type": "display_data"
    },
    {
     "data": {
      "text/html": [
       "<iframe\n",
       "    scrolling=\"no\"\n",
       "    width=\"100%\"\n",
       "    height=\"545px\"\n",
       "    src=\"iframe_figures/figure_11.html\"\n",
       "    frameborder=\"0\"\n",
       "    allowfullscreen\n",
       "></iframe>\n"
      ]
     },
     "metadata": {},
     "output_type": "display_data"
    },
    {
     "data": {
      "text/html": [
       "<iframe\n",
       "    scrolling=\"no\"\n",
       "    width=\"100%\"\n",
       "    height=\"545px\"\n",
       "    src=\"iframe_figures/figure_11.html\"\n",
       "    frameborder=\"0\"\n",
       "    allowfullscreen\n",
       "></iframe>\n"
      ]
     },
     "metadata": {},
     "output_type": "display_data"
    },
    {
     "data": {
      "text/html": [
       "<iframe\n",
       "    scrolling=\"no\"\n",
       "    width=\"100%\"\n",
       "    height=\"545px\"\n",
       "    src=\"iframe_figures/figure_11.html\"\n",
       "    frameborder=\"0\"\n",
       "    allowfullscreen\n",
       "></iframe>\n"
      ]
     },
     "metadata": {},
     "output_type": "display_data"
    },
    {
     "data": {
      "text/html": [
       "<iframe\n",
       "    scrolling=\"no\"\n",
       "    width=\"100%\"\n",
       "    height=\"545px\"\n",
       "    src=\"iframe_figures/figure_11.html\"\n",
       "    frameborder=\"0\"\n",
       "    allowfullscreen\n",
       "></iframe>\n"
      ]
     },
     "metadata": {},
     "output_type": "display_data"
    },
    {
     "data": {
      "text/html": [
       "<iframe\n",
       "    scrolling=\"no\"\n",
       "    width=\"100%\"\n",
       "    height=\"545px\"\n",
       "    src=\"iframe_figures/figure_11.html\"\n",
       "    frameborder=\"0\"\n",
       "    allowfullscreen\n",
       "></iframe>\n"
      ]
     },
     "metadata": {},
     "output_type": "display_data"
    },
    {
     "data": {
      "text/html": [
       "<iframe\n",
       "    scrolling=\"no\"\n",
       "    width=\"100%\"\n",
       "    height=\"545px\"\n",
       "    src=\"iframe_figures/figure_11.html\"\n",
       "    frameborder=\"0\"\n",
       "    allowfullscreen\n",
       "></iframe>\n"
      ]
     },
     "metadata": {},
     "output_type": "display_data"
    },
    {
     "data": {
      "text/html": [
       "<iframe\n",
       "    scrolling=\"no\"\n",
       "    width=\"100%\"\n",
       "    height=\"545px\"\n",
       "    src=\"iframe_figures/figure_11.html\"\n",
       "    frameborder=\"0\"\n",
       "    allowfullscreen\n",
       "></iframe>\n"
      ]
     },
     "metadata": {},
     "output_type": "display_data"
    },
    {
     "data": {
      "text/html": [
       "<iframe\n",
       "    scrolling=\"no\"\n",
       "    width=\"100%\"\n",
       "    height=\"545px\"\n",
       "    src=\"iframe_figures/figure_11.html\"\n",
       "    frameborder=\"0\"\n",
       "    allowfullscreen\n",
       "></iframe>\n"
      ]
     },
     "metadata": {},
     "output_type": "display_data"
    },
    {
     "data": {
      "text/html": [
       "<iframe\n",
       "    scrolling=\"no\"\n",
       "    width=\"100%\"\n",
       "    height=\"545px\"\n",
       "    src=\"iframe_figures/figure_11.html\"\n",
       "    frameborder=\"0\"\n",
       "    allowfullscreen\n",
       "></iframe>\n"
      ]
     },
     "metadata": {},
     "output_type": "display_data"
    },
    {
     "data": {
      "text/html": [
       "<iframe\n",
       "    scrolling=\"no\"\n",
       "    width=\"100%\"\n",
       "    height=\"545px\"\n",
       "    src=\"iframe_figures/figure_11.html\"\n",
       "    frameborder=\"0\"\n",
       "    allowfullscreen\n",
       "></iframe>\n"
      ]
     },
     "metadata": {},
     "output_type": "display_data"
    },
    {
     "data": {
      "text/html": [
       "<iframe\n",
       "    scrolling=\"no\"\n",
       "    width=\"100%\"\n",
       "    height=\"545px\"\n",
       "    src=\"iframe_figures/figure_11.html\"\n",
       "    frameborder=\"0\"\n",
       "    allowfullscreen\n",
       "></iframe>\n"
      ]
     },
     "metadata": {},
     "output_type": "display_data"
    },
    {
     "data": {
      "text/html": [
       "<iframe\n",
       "    scrolling=\"no\"\n",
       "    width=\"100%\"\n",
       "    height=\"545px\"\n",
       "    src=\"iframe_figures/figure_11.html\"\n",
       "    frameborder=\"0\"\n",
       "    allowfullscreen\n",
       "></iframe>\n"
      ]
     },
     "metadata": {},
     "output_type": "display_data"
    },
    {
     "name": "stdout",
     "output_type": "stream",
     "text": [
      "DONE!\n"
     ]
    },
    {
     "name": "stderr",
     "output_type": "stream",
     "text": [
      "100%|██████████| 36/36 [00:11<00:00,  3.23it/s]\n"
     ]
    },
    {
     "name": "stdout",
     "output_type": "stream",
     "text": [
      "Saving scores to  eval/mle/adult_ON_QnSC_200k/tabddpm_ON_QnSC_200k_const_0.json\n",
      "ROC - AUC обучения на синтетических данных TABDDPM_ON_QNSC_200K_CONST_0: 0.871 ± 0.007\n",
      "adult_ON_QnSC_200k, tabddpm_ON_QnSC_200k_const_0: 0.9281485211032071\n",
      "n_clusters: 25\n",
      "n_clusters: 25\n",
      "n_clusters: 25\n",
      "DCR Score, a value closer to 0.5 is better\n",
      "adult_ON_QnSC_200k-tabddpm_ON_QnSC_200k_const_0, DCR Score = 0.5031479377169006\n",
      "=========== All Features ===========\n",
      "Data shape:  (32561, 110)\n",
      "alpha precision: 0.940598, beta recall: 0.478433\n",
      "./models/tabddpm_ON_QnSC/ckpt/adult/tabddpm_ON_QnSC_200k_const_0_001 tabddpm_ON_QnSC_200k_const_0_001 ./synthetic/adult_ON_QnSC_200k/tabddpm_ON_QnSC_200k_const_0_001.csv\n",
      "No NaNs in numerical features, skipping\n",
      "mlp\n",
      "Sample timestep    0\n",
      "Sample timestep    0\n",
      "Sample timestep    0\n",
      "Sample timestep    0\n",
      "Shape torch.Size([32561, 109])\n",
      "Sampling time: 191.29862451553345\n",
      "Sample path changed to ./synthetic/adult_ON_QnSC_200k/initial_tabddpm_ON_QnSC_200k_const_0_001.csv\n",
      "TABDDPM_ON_QNSC_200K_CONST_0_001: ADULT_ON_QNSC_200K Dataset\n",
      "Original Logistic: 0.657\n",
      "Synthetic Logistic: 0.654\n",
      "Original Tree: 0.661\n",
      "Synthetic Tree: 0.642 \n",
      "\n",
      "TABDDPM_ON_QNSC_200K_CONST_0_001 Accuracy Loss: ADULT_ON_QNSC_200K\n",
      "Logistic: 0.430%\n",
      "Tree: 2.872% \n",
      "\n",
      "CALCULATING COLUMN-WISE DENSITY ESTIMATION & PAIR-WISE COLUMN CORRELATION...\n",
      "Generating report ...\n",
      "\n",
      "(1/2) Evaluating Column Shapes: |██████████| 15/15 [00:00<00:00, 68.59it/s]|\n",
      "Column Shapes Score: 98.57%\n",
      "\n",
      "(2/2) Evaluating Column Pair Trends: |██████████| 105/105 [00:01<00:00, 62.69it/s]|\n",
      "Column Pair Trends Score: 97.29%\n",
      "\n",
      "Overall Score (Average): 97.93%\n",
      "\n",
      "Error rate (%) of column-wise density estimation TABDDPM_ON_QNSC_200K_CONST_0_001: 1.434 ± 0.737\n",
      "Error rate (%) of pair-wise column correlation score TABDDPM_ON_QNSC_200K_CONST_0_001: 2.711 ± 1.416\n"
     ]
    },
    {
     "data": {
      "text/html": [
       "<iframe\n",
       "    scrolling=\"no\"\n",
       "    width=\"100%\"\n",
       "    height=\"545px\"\n",
       "    src=\"iframe_figures/figure_11.html\"\n",
       "    frameborder=\"0\"\n",
       "    allowfullscreen\n",
       "></iframe>\n"
      ]
     },
     "metadata": {},
     "output_type": "display_data"
    },
    {
     "data": {
      "text/html": [
       "<iframe\n",
       "    scrolling=\"no\"\n",
       "    width=\"920px\"\n",
       "    height=\"920\"\n",
       "    src=\"iframe_figures/figure_11.html\"\n",
       "    frameborder=\"0\"\n",
       "    allowfullscreen\n",
       "></iframe>\n"
      ]
     },
     "metadata": {},
     "output_type": "display_data"
    },
    {
     "name": "stdout",
     "output_type": "stream",
     "text": [
      "DONE! \n",
      "\n",
      "DRAW COLUMN VALUES DISTRIBUTIONS...\n"
     ]
    },
    {
     "data": {
      "text/html": [
       "<iframe\n",
       "    scrolling=\"no\"\n",
       "    width=\"100%\"\n",
       "    height=\"545px\"\n",
       "    src=\"iframe_figures/figure_11.html\"\n",
       "    frameborder=\"0\"\n",
       "    allowfullscreen\n",
       "></iframe>\n"
      ]
     },
     "metadata": {},
     "output_type": "display_data"
    },
    {
     "data": {
      "text/html": [
       "<iframe\n",
       "    scrolling=\"no\"\n",
       "    width=\"100%\"\n",
       "    height=\"545px\"\n",
       "    src=\"iframe_figures/figure_11.html\"\n",
       "    frameborder=\"0\"\n",
       "    allowfullscreen\n",
       "></iframe>\n"
      ]
     },
     "metadata": {},
     "output_type": "display_data"
    },
    {
     "data": {
      "text/html": [
       "<iframe\n",
       "    scrolling=\"no\"\n",
       "    width=\"100%\"\n",
       "    height=\"545px\"\n",
       "    src=\"iframe_figures/figure_11.html\"\n",
       "    frameborder=\"0\"\n",
       "    allowfullscreen\n",
       "></iframe>\n"
      ]
     },
     "metadata": {},
     "output_type": "display_data"
    },
    {
     "data": {
      "text/html": [
       "<iframe\n",
       "    scrolling=\"no\"\n",
       "    width=\"100%\"\n",
       "    height=\"545px\"\n",
       "    src=\"iframe_figures/figure_11.html\"\n",
       "    frameborder=\"0\"\n",
       "    allowfullscreen\n",
       "></iframe>\n"
      ]
     },
     "metadata": {},
     "output_type": "display_data"
    },
    {
     "data": {
      "text/html": [
       "<iframe\n",
       "    scrolling=\"no\"\n",
       "    width=\"100%\"\n",
       "    height=\"545px\"\n",
       "    src=\"iframe_figures/figure_11.html\"\n",
       "    frameborder=\"0\"\n",
       "    allowfullscreen\n",
       "></iframe>\n"
      ]
     },
     "metadata": {},
     "output_type": "display_data"
    },
    {
     "data": {
      "text/html": [
       "<iframe\n",
       "    scrolling=\"no\"\n",
       "    width=\"100%\"\n",
       "    height=\"545px\"\n",
       "    src=\"iframe_figures/figure_11.html\"\n",
       "    frameborder=\"0\"\n",
       "    allowfullscreen\n",
       "></iframe>\n"
      ]
     },
     "metadata": {},
     "output_type": "display_data"
    },
    {
     "data": {
      "text/html": [
       "<iframe\n",
       "    scrolling=\"no\"\n",
       "    width=\"100%\"\n",
       "    height=\"545px\"\n",
       "    src=\"iframe_figures/figure_11.html\"\n",
       "    frameborder=\"0\"\n",
       "    allowfullscreen\n",
       "></iframe>\n"
      ]
     },
     "metadata": {},
     "output_type": "display_data"
    },
    {
     "data": {
      "text/html": [
       "<iframe\n",
       "    scrolling=\"no\"\n",
       "    width=\"100%\"\n",
       "    height=\"545px\"\n",
       "    src=\"iframe_figures/figure_11.html\"\n",
       "    frameborder=\"0\"\n",
       "    allowfullscreen\n",
       "></iframe>\n"
      ]
     },
     "metadata": {},
     "output_type": "display_data"
    },
    {
     "data": {
      "text/html": [
       "<iframe\n",
       "    scrolling=\"no\"\n",
       "    width=\"100%\"\n",
       "    height=\"545px\"\n",
       "    src=\"iframe_figures/figure_11.html\"\n",
       "    frameborder=\"0\"\n",
       "    allowfullscreen\n",
       "></iframe>\n"
      ]
     },
     "metadata": {},
     "output_type": "display_data"
    },
    {
     "data": {
      "text/html": [
       "<iframe\n",
       "    scrolling=\"no\"\n",
       "    width=\"100%\"\n",
       "    height=\"545px\"\n",
       "    src=\"iframe_figures/figure_11.html\"\n",
       "    frameborder=\"0\"\n",
       "    allowfullscreen\n",
       "></iframe>\n"
      ]
     },
     "metadata": {},
     "output_type": "display_data"
    },
    {
     "data": {
      "text/html": [
       "<iframe\n",
       "    scrolling=\"no\"\n",
       "    width=\"100%\"\n",
       "    height=\"545px\"\n",
       "    src=\"iframe_figures/figure_11.html\"\n",
       "    frameborder=\"0\"\n",
       "    allowfullscreen\n",
       "></iframe>\n"
      ]
     },
     "metadata": {},
     "output_type": "display_data"
    },
    {
     "data": {
      "text/html": [
       "<iframe\n",
       "    scrolling=\"no\"\n",
       "    width=\"100%\"\n",
       "    height=\"545px\"\n",
       "    src=\"iframe_figures/figure_11.html\"\n",
       "    frameborder=\"0\"\n",
       "    allowfullscreen\n",
       "></iframe>\n"
      ]
     },
     "metadata": {},
     "output_type": "display_data"
    },
    {
     "data": {
      "text/html": [
       "<iframe\n",
       "    scrolling=\"no\"\n",
       "    width=\"100%\"\n",
       "    height=\"545px\"\n",
       "    src=\"iframe_figures/figure_11.html\"\n",
       "    frameborder=\"0\"\n",
       "    allowfullscreen\n",
       "></iframe>\n"
      ]
     },
     "metadata": {},
     "output_type": "display_data"
    },
    {
     "data": {
      "text/html": [
       "<iframe\n",
       "    scrolling=\"no\"\n",
       "    width=\"100%\"\n",
       "    height=\"545px\"\n",
       "    src=\"iframe_figures/figure_11.html\"\n",
       "    frameborder=\"0\"\n",
       "    allowfullscreen\n",
       "></iframe>\n"
      ]
     },
     "metadata": {},
     "output_type": "display_data"
    },
    {
     "data": {
      "text/html": [
       "<iframe\n",
       "    scrolling=\"no\"\n",
       "    width=\"100%\"\n",
       "    height=\"545px\"\n",
       "    src=\"iframe_figures/figure_11.html\"\n",
       "    frameborder=\"0\"\n",
       "    allowfullscreen\n",
       "></iframe>\n"
      ]
     },
     "metadata": {},
     "output_type": "display_data"
    },
    {
     "name": "stdout",
     "output_type": "stream",
     "text": [
      "DONE!\n"
     ]
    },
    {
     "name": "stderr",
     "output_type": "stream",
     "text": [
      "100%|██████████| 36/36 [00:11<00:00,  3.27it/s]\n"
     ]
    },
    {
     "name": "stdout",
     "output_type": "stream",
     "text": [
      "Saving scores to  eval/mle/adult_ON_QnSC_200k/tabddpm_ON_QnSC_200k_const_0_001.json\n",
      "ROC - AUC обучения на синтетических данных TABDDPM_ON_QNSC_200K_CONST_0_001: 0.877 ± 0.006\n"
     ]
    }
   ],
   "source": [
    "overall_metrics = {}\n",
    "\n",
    "for model_save_path in model_save_path_hist:\n",
    "    model_name = model_save_path.split('/')[-1]\n",
    "    sample_save_path = f'./synthetic/{dataname}/{model_name}.csv'\n",
    "\n",
    "    CONFIG.add_arg('method', model_name)\n",
    "    CONFIG.add_arg('sample_save_path',\n",
    "                       f\"synthetic/{CONFIG.get_arg('dataname')}/{CONFIG.get_arg('method')}.csv\")\n",
    "\n",
    "    overall_metrics[model_name] = {}\n",
    "\n",
    "    print(model_save_path, model_name, sample_save_path)\n",
    "\n",
    "    tabddpm_noise_ohe = TabDDPM_OHE_Noise_QnSC(CONFIG, model_save_path=model_save_path, sigmas=None)\n",
    "    tabddpm_noise_ohe.sample(sample_save_path=sample_save_path)\n",
    "    postsample_OHE(dataname, f'./synthetic/{dataname}/initial_{model_name}.csv', normalizers=normalizers, target_cat=target_cat)\n",
    "\n",
    "    # подсчет метрик\n",
    "    try:\n",
    "        overall_metrics[model_name]['base_metrics'] = calculate_base_metrics(make_binary=True, value=' >50K') # ошибка\n",
    "    except Exception as e:\n",
    "        overall_metrics[model_name]['base_metrics'] = np.nan\n",
    "    overall_metrics[model_name]['similarity'] = calculate_similarity()\n",
    "    overall_metrics[model_name]['mle'] = calculate_mle()\n",
    "    overall_metrics[model_name]['detection'] = calculate_detection()\n",
    "    overall_metrics[model_name]['DCR'] = calculate_DCR()\n",
    "    overall_metrics[model_name]['quality'] = calculate_alpha_beta()"
   ]
  },
  {
   "cell_type": "code",
   "execution_count": 13,
   "metadata": {},
   "outputs": [],
   "source": [
    "final_metrics_table = []\n",
    "for m in overall_metrics.keys():\n",
    "    # Сбор таблички результатов\n",
    "    tmp = pd.DataFrame([{'Model':model_short, 'Type':m, 'Data':dataname_initial}])\n",
    "    tmp.columns = pd.MultiIndex.from_tuples([('', i) for i in tmp.columns])\n",
    "    result = [tmp]\n",
    "    \n",
    "    for metric_group in overall_metrics[m].keys():\n",
    "        tmp = pd.DataFrame([overall_metrics[m][metric_group]])\n",
    "        tmp.columns = pd.MultiIndex.from_tuples([(metric_group, i) for i in tmp.columns])\n",
    "        result.append(tmp)\n",
    "    result = pd.concat(result, axis = 1)\n",
    "    final_metrics_table.append(result)\n",
    "    \n",
    "final_metrics_table = pd.concat(final_metrics_table)"
   ]
  },
  {
   "cell_type": "code",
   "execution_count": 16,
   "metadata": {},
   "outputs": [
    {
     "data": {
      "text/html": [
       "<div>\n",
       "<style scoped>\n",
       "    .dataframe tbody tr th:only-of-type {\n",
       "        vertical-align: middle;\n",
       "    }\n",
       "\n",
       "    .dataframe tbody tr th {\n",
       "        vertical-align: top;\n",
       "    }\n",
       "\n",
       "    .dataframe thead tr th {\n",
       "        text-align: left;\n",
       "    }\n",
       "</style>\n",
       "<table border=\"1\" class=\"dataframe\">\n",
       "  <thead>\n",
       "    <tr>\n",
       "      <th></th>\n",
       "      <th colspan=\"3\" halign=\"left\"></th>\n",
       "      <th colspan=\"7\" halign=\"left\">similarity</th>\n",
       "      <th colspan=\"2\" halign=\"left\">mle</th>\n",
       "      <th>detection</th>\n",
       "      <th>DCR</th>\n",
       "      <th colspan=\"2\" halign=\"left\">quality</th>\n",
       "      <th colspan=\"6\" halign=\"left\">base_metrics</th>\n",
       "    </tr>\n",
       "    <tr>\n",
       "      <th></th>\n",
       "      <th>Model</th>\n",
       "      <th>Type</th>\n",
       "      <th>Data</th>\n",
       "      <th>Column Shapes Score, %</th>\n",
       "      <th>Column Pair Trends Score, %</th>\n",
       "      <th>Overall Score (Average), %</th>\n",
       "      <th>Error rate (%) of column-wise density estimation, %</th>\n",
       "      <th>Error rate (%) of column-wise density estimation std, %</th>\n",
       "      <th>Error rate (%) of pair-wise column correlation score, %</th>\n",
       "      <th>Error rate (%) of pair-wise column correlation score std, %</th>\n",
       "      <th>ROC - AUC обучения на синтетических данных</th>\n",
       "      <th>ROC - AUC обучения на синтетических данных, std</th>\n",
       "      <th>Score</th>\n",
       "      <th>Score</th>\n",
       "      <th>alpha precision</th>\n",
       "      <th>beta recall</th>\n",
       "      <th>Original Logistic</th>\n",
       "      <th>Synthetic Logistic</th>\n",
       "      <th>Original Tree</th>\n",
       "      <th>Synthetic Tree</th>\n",
       "      <th>Accuracy Loss Logistic, %</th>\n",
       "      <th>Accuracy Loss Tree, %</th>\n",
       "    </tr>\n",
       "  </thead>\n",
       "  <tbody>\n",
       "    <tr>\n",
       "      <th>0</th>\n",
       "      <td>tabddpm_ON_QnSC</td>\n",
       "      <td>tabddpm_ON_QnSC_200k_mult_6</td>\n",
       "      <td>adult</td>\n",
       "      <td>98.7070</td>\n",
       "      <td>97.3548</td>\n",
       "      <td>98.0309</td>\n",
       "      <td>1.2930</td>\n",
       "      <td>0.7684</td>\n",
       "      <td>2.6452</td>\n",
       "      <td>1.3705</td>\n",
       "      <td>0.8747</td>\n",
       "      <td>0.0066</td>\n",
       "      <td>0.9465</td>\n",
       "      <td>0.5016</td>\n",
       "      <td>0.9557</td>\n",
       "      <td>0.4883</td>\n",
       "      <td>NaN</td>\n",
       "      <td>NaN</td>\n",
       "      <td>NaN</td>\n",
       "      <td>NaN</td>\n",
       "      <td>NaN</td>\n",
       "      <td>NaN</td>\n",
       "    </tr>\n",
       "    <tr>\n",
       "      <th>0</th>\n",
       "      <td>tabddpm_ON_QnSC</td>\n",
       "      <td>tabddpm_ON_QnSC_200k_mult_4</td>\n",
       "      <td>adult</td>\n",
       "      <td>98.6542</td>\n",
       "      <td>97.2714</td>\n",
       "      <td>97.9628</td>\n",
       "      <td>1.3458</td>\n",
       "      <td>0.8565</td>\n",
       "      <td>2.7286</td>\n",
       "      <td>1.4180</td>\n",
       "      <td>0.8674</td>\n",
       "      <td>0.0065</td>\n",
       "      <td>0.9382</td>\n",
       "      <td>0.5040</td>\n",
       "      <td>0.9489</td>\n",
       "      <td>0.4869</td>\n",
       "      <td>0.6571</td>\n",
       "      <td>0.6538</td>\n",
       "      <td>0.6605</td>\n",
       "      <td>0.6396</td>\n",
       "      <td>0.4957</td>\n",
       "      <td>3.1723</td>\n",
       "    </tr>\n",
       "    <tr>\n",
       "      <th>0</th>\n",
       "      <td>tabddpm_ON_QnSC</td>\n",
       "      <td>tabddpm_ON_QnSC_200k_const_0_001</td>\n",
       "      <td>adult</td>\n",
       "      <td>98.5662</td>\n",
       "      <td>97.2887</td>\n",
       "      <td>97.9274</td>\n",
       "      <td>1.4338</td>\n",
       "      <td>0.7373</td>\n",
       "      <td>2.7113</td>\n",
       "      <td>1.4157</td>\n",
       "      <td>0.8773</td>\n",
       "      <td>0.0060</td>\n",
       "      <td>0.9478</td>\n",
       "      <td>0.5039</td>\n",
       "      <td>0.9559</td>\n",
       "      <td>0.4816</td>\n",
       "      <td>0.6571</td>\n",
       "      <td>0.6543</td>\n",
       "      <td>0.6605</td>\n",
       "      <td>0.6416</td>\n",
       "      <td>0.4297</td>\n",
       "      <td>2.8722</td>\n",
       "    </tr>\n",
       "    <tr>\n",
       "      <th>0</th>\n",
       "      <td>tabddpm_ON_QnSC</td>\n",
       "      <td>tabddpm_ON_QnSC_200k_const_0_01</td>\n",
       "      <td>adult</td>\n",
       "      <td>98.5289</td>\n",
       "      <td>97.2021</td>\n",
       "      <td>97.8655</td>\n",
       "      <td>1.4711</td>\n",
       "      <td>0.8379</td>\n",
       "      <td>2.7979</td>\n",
       "      <td>1.3219</td>\n",
       "      <td>0.8825</td>\n",
       "      <td>0.0053</td>\n",
       "      <td>0.9420</td>\n",
       "      <td>0.5007</td>\n",
       "      <td>0.9482</td>\n",
       "      <td>0.4879</td>\n",
       "      <td>0.6571</td>\n",
       "      <td>0.6532</td>\n",
       "      <td>0.6605</td>\n",
       "      <td>0.6419</td>\n",
       "      <td>0.5870</td>\n",
       "      <td>2.8145</td>\n",
       "    </tr>\n",
       "    <tr>\n",
       "      <th>0</th>\n",
       "      <td>tabddpm_ON_QnSC</td>\n",
       "      <td>tabddpm_ON_QnSC_200k_mult_9</td>\n",
       "      <td>adult</td>\n",
       "      <td>98.4693</td>\n",
       "      <td>97.0452</td>\n",
       "      <td>97.7573</td>\n",
       "      <td>1.5307</td>\n",
       "      <td>0.8416</td>\n",
       "      <td>2.9548</td>\n",
       "      <td>1.4493</td>\n",
       "      <td>0.8812</td>\n",
       "      <td>0.0058</td>\n",
       "      <td>0.9387</td>\n",
       "      <td>0.5030</td>\n",
       "      <td>0.9502</td>\n",
       "      <td>0.4812</td>\n",
       "      <td>0.6571</td>\n",
       "      <td>0.6532</td>\n",
       "      <td>0.6605</td>\n",
       "      <td>0.6372</td>\n",
       "      <td>0.5938</td>\n",
       "      <td>3.5321</td>\n",
       "    </tr>\n",
       "    <tr>\n",
       "      <th>0</th>\n",
       "      <td>tabddpm_ON_QnSC</td>\n",
       "      <td>tabddpm_ON_QnSC_200k_const_0_25</td>\n",
       "      <td>adult</td>\n",
       "      <td>98.4392</td>\n",
       "      <td>96.8986</td>\n",
       "      <td>97.6689</td>\n",
       "      <td>1.5608</td>\n",
       "      <td>1.1026</td>\n",
       "      <td>3.1014</td>\n",
       "      <td>2.4652</td>\n",
       "      <td>0.8813</td>\n",
       "      <td>0.0065</td>\n",
       "      <td>0.9510</td>\n",
       "      <td>0.5024</td>\n",
       "      <td>0.9606</td>\n",
       "      <td>0.4372</td>\n",
       "      <td>0.6571</td>\n",
       "      <td>0.6569</td>\n",
       "      <td>0.6605</td>\n",
       "      <td>0.6268</td>\n",
       "      <td>0.0257</td>\n",
       "      <td>5.1085</td>\n",
       "    </tr>\n",
       "    <tr>\n",
       "      <th>0</th>\n",
       "      <td>tabddpm_ON_QnSC</td>\n",
       "      <td>tabddpm_ON_QnSC_200k_const_0_1</td>\n",
       "      <td>adult</td>\n",
       "      <td>98.4822</td>\n",
       "      <td>96.8074</td>\n",
       "      <td>97.6448</td>\n",
       "      <td>1.5178</td>\n",
       "      <td>1.0544</td>\n",
       "      <td>3.1926</td>\n",
       "      <td>1.8414</td>\n",
       "      <td>0.8819</td>\n",
       "      <td>0.0076</td>\n",
       "      <td>0.9378</td>\n",
       "      <td>0.5019</td>\n",
       "      <td>0.9426</td>\n",
       "      <td>0.4766</td>\n",
       "      <td>0.6571</td>\n",
       "      <td>0.6442</td>\n",
       "      <td>0.6605</td>\n",
       "      <td>0.6362</td>\n",
       "      <td>1.9561</td>\n",
       "      <td>3.6867</td>\n",
       "    </tr>\n",
       "    <tr>\n",
       "      <th>0</th>\n",
       "      <td>tabddpm_ON_QnSC</td>\n",
       "      <td>tabddpm_ON_QnSC_200k_const_0</td>\n",
       "      <td>adult</td>\n",
       "      <td>98.3248</td>\n",
       "      <td>96.7932</td>\n",
       "      <td>97.5590</td>\n",
       "      <td>1.6752</td>\n",
       "      <td>0.9831</td>\n",
       "      <td>3.2068</td>\n",
       "      <td>1.5471</td>\n",
       "      <td>0.8714</td>\n",
       "      <td>0.0068</td>\n",
       "      <td>0.9281</td>\n",
       "      <td>0.5031</td>\n",
       "      <td>0.9406</td>\n",
       "      <td>0.4784</td>\n",
       "      <td>NaN</td>\n",
       "      <td>NaN</td>\n",
       "      <td>NaN</td>\n",
       "      <td>NaN</td>\n",
       "      <td>NaN</td>\n",
       "      <td>NaN</td>\n",
       "    </tr>\n",
       "    <tr>\n",
       "      <th>0</th>\n",
       "      <td>tabddpm_ON_QnSC</td>\n",
       "      <td>tabddpm_ON_QnSC_200k_mult_8</td>\n",
       "      <td>adult</td>\n",
       "      <td>98.3244</td>\n",
       "      <td>96.7914</td>\n",
       "      <td>97.5579</td>\n",
       "      <td>1.6756</td>\n",
       "      <td>1.0350</td>\n",
       "      <td>3.2086</td>\n",
       "      <td>1.8499</td>\n",
       "      <td>0.8841</td>\n",
       "      <td>0.0056</td>\n",
       "      <td>0.9313</td>\n",
       "      <td>0.5029</td>\n",
       "      <td>0.9428</td>\n",
       "      <td>0.4860</td>\n",
       "      <td>0.6571</td>\n",
       "      <td>0.6500</td>\n",
       "      <td>0.6605</td>\n",
       "      <td>0.6330</td>\n",
       "      <td>1.0855</td>\n",
       "      <td>4.1750</td>\n",
       "    </tr>\n",
       "    <tr>\n",
       "      <th>0</th>\n",
       "      <td>tabddpm_ON_QnSC</td>\n",
       "      <td>tabddpm_ON_QnSC_200k_mult_5</td>\n",
       "      <td>adult</td>\n",
       "      <td>98.1751</td>\n",
       "      <td>96.6069</td>\n",
       "      <td>97.3910</td>\n",
       "      <td>1.8249</td>\n",
       "      <td>1.1319</td>\n",
       "      <td>3.3931</td>\n",
       "      <td>1.7607</td>\n",
       "      <td>0.8657</td>\n",
       "      <td>0.0073</td>\n",
       "      <td>0.9340</td>\n",
       "      <td>0.5042</td>\n",
       "      <td>0.9453</td>\n",
       "      <td>0.4748</td>\n",
       "      <td>NaN</td>\n",
       "      <td>NaN</td>\n",
       "      <td>NaN</td>\n",
       "      <td>NaN</td>\n",
       "      <td>NaN</td>\n",
       "      <td>NaN</td>\n",
       "    </tr>\n",
       "    <tr>\n",
       "      <th>0</th>\n",
       "      <td>tabddpm_ON_QnSC</td>\n",
       "      <td>tabddpm_ON_QnSC_200k_mult_2</td>\n",
       "      <td>adult</td>\n",
       "      <td>98.0766</td>\n",
       "      <td>96.5317</td>\n",
       "      <td>97.3042</td>\n",
       "      <td>1.9234</td>\n",
       "      <td>1.5289</td>\n",
       "      <td>3.4683</td>\n",
       "      <td>2.0834</td>\n",
       "      <td>0.8842</td>\n",
       "      <td>0.0078</td>\n",
       "      <td>0.9315</td>\n",
       "      <td>0.5021</td>\n",
       "      <td>0.9463</td>\n",
       "      <td>0.4763</td>\n",
       "      <td>0.6571</td>\n",
       "      <td>0.6508</td>\n",
       "      <td>0.6605</td>\n",
       "      <td>0.6338</td>\n",
       "      <td>0.9630</td>\n",
       "      <td>4.0463</td>\n",
       "    </tr>\n",
       "    <tr>\n",
       "      <th>0</th>\n",
       "      <td>tabddpm_ON_QnSC</td>\n",
       "      <td>tabddpm_ON_QnSC_200k_mult_1</td>\n",
       "      <td>adult</td>\n",
       "      <td>98.1831</td>\n",
       "      <td>96.2898</td>\n",
       "      <td>97.2364</td>\n",
       "      <td>1.8169</td>\n",
       "      <td>1.0355</td>\n",
       "      <td>3.7102</td>\n",
       "      <td>1.8788</td>\n",
       "      <td>0.8604</td>\n",
       "      <td>0.0084</td>\n",
       "      <td>0.9235</td>\n",
       "      <td>0.5020</td>\n",
       "      <td>0.9318</td>\n",
       "      <td>0.4812</td>\n",
       "      <td>0.6571</td>\n",
       "      <td>0.6502</td>\n",
       "      <td>0.6605</td>\n",
       "      <td>0.6199</td>\n",
       "      <td>1.0568</td>\n",
       "      <td>6.1563</td>\n",
       "    </tr>\n",
       "    <tr>\n",
       "      <th>0</th>\n",
       "      <td>tabddpm_ON_QnSC</td>\n",
       "      <td>tabddpm_ON_QnSC_200k_mult_7</td>\n",
       "      <td>adult</td>\n",
       "      <td>98.1401</td>\n",
       "      <td>96.2726</td>\n",
       "      <td>97.2063</td>\n",
       "      <td>1.8599</td>\n",
       "      <td>1.0072</td>\n",
       "      <td>3.7274</td>\n",
       "      <td>1.7753</td>\n",
       "      <td>0.8678</td>\n",
       "      <td>0.0067</td>\n",
       "      <td>0.9243</td>\n",
       "      <td>0.4976</td>\n",
       "      <td>0.9362</td>\n",
       "      <td>0.4719</td>\n",
       "      <td>0.6571</td>\n",
       "      <td>0.6538</td>\n",
       "      <td>0.6605</td>\n",
       "      <td>0.6222</td>\n",
       "      <td>0.5017</td>\n",
       "      <td>5.7972</td>\n",
       "    </tr>\n",
       "    <tr>\n",
       "      <th>0</th>\n",
       "      <td>tabddpm_ON_QnSC</td>\n",
       "      <td>tabddpm_ON_QnSC_200k_const_0_5</td>\n",
       "      <td>adult</td>\n",
       "      <td>98.1080</td>\n",
       "      <td>95.8018</td>\n",
       "      <td>96.9549</td>\n",
       "      <td>1.8920</td>\n",
       "      <td>1.0066</td>\n",
       "      <td>4.1982</td>\n",
       "      <td>4.3926</td>\n",
       "      <td>0.8448</td>\n",
       "      <td>0.0087</td>\n",
       "      <td>0.9276</td>\n",
       "      <td>0.5013</td>\n",
       "      <td>0.9613</td>\n",
       "      <td>0.3328</td>\n",
       "      <td>0.6571</td>\n",
       "      <td>0.6196</td>\n",
       "      <td>0.6605</td>\n",
       "      <td>0.6173</td>\n",
       "      <td>5.6992</td>\n",
       "      <td>6.5525</td>\n",
       "    </tr>\n",
       "    <tr>\n",
       "      <th>0</th>\n",
       "      <td>tabddpm_ON_QnSC</td>\n",
       "      <td>tabddpm_ON_QnSC_200k_mult_3</td>\n",
       "      <td>adult</td>\n",
       "      <td>97.8486</td>\n",
       "      <td>95.9311</td>\n",
       "      <td>96.8898</td>\n",
       "      <td>2.1514</td>\n",
       "      <td>1.1856</td>\n",
       "      <td>4.0689</td>\n",
       "      <td>1.9133</td>\n",
       "      <td>0.8541</td>\n",
       "      <td>0.0098</td>\n",
       "      <td>0.9063</td>\n",
       "      <td>0.5052</td>\n",
       "      <td>0.9263</td>\n",
       "      <td>0.4692</td>\n",
       "      <td>0.6571</td>\n",
       "      <td>0.6518</td>\n",
       "      <td>0.6605</td>\n",
       "      <td>0.6206</td>\n",
       "      <td>0.7993</td>\n",
       "      <td>6.0505</td>\n",
       "    </tr>\n",
       "    <tr>\n",
       "      <th>0</th>\n",
       "      <td>tabddpm_ON_QnSC</td>\n",
       "      <td>tabddpm_ON_QnSC_200k_mult_0</td>\n",
       "      <td>adult</td>\n",
       "      <td>97.4282</td>\n",
       "      <td>94.7817</td>\n",
       "      <td>96.1050</td>\n",
       "      <td>2.5718</td>\n",
       "      <td>1.2194</td>\n",
       "      <td>5.2183</td>\n",
       "      <td>3.4485</td>\n",
       "      <td>0.8648</td>\n",
       "      <td>0.0077</td>\n",
       "      <td>0.9063</td>\n",
       "      <td>0.5013</td>\n",
       "      <td>0.9631</td>\n",
       "      <td>0.4704</td>\n",
       "      <td>0.6571</td>\n",
       "      <td>0.6544</td>\n",
       "      <td>0.6605</td>\n",
       "      <td>0.6286</td>\n",
       "      <td>0.4084</td>\n",
       "      <td>4.8306</td>\n",
       "    </tr>\n",
       "  </tbody>\n",
       "</table>\n",
       "</div>"
      ],
      "text/plain": [
       "                                                             \\\n",
       "             Model                              Type   Data   \n",
       "0  tabddpm_ON_QnSC       tabddpm_ON_QnSC_200k_mult_6  adult   \n",
       "0  tabddpm_ON_QnSC       tabddpm_ON_QnSC_200k_mult_4  adult   \n",
       "0  tabddpm_ON_QnSC  tabddpm_ON_QnSC_200k_const_0_001  adult   \n",
       "0  tabddpm_ON_QnSC   tabddpm_ON_QnSC_200k_const_0_01  adult   \n",
       "0  tabddpm_ON_QnSC       tabddpm_ON_QnSC_200k_mult_9  adult   \n",
       "0  tabddpm_ON_QnSC   tabddpm_ON_QnSC_200k_const_0_25  adult   \n",
       "0  tabddpm_ON_QnSC    tabddpm_ON_QnSC_200k_const_0_1  adult   \n",
       "0  tabddpm_ON_QnSC      tabddpm_ON_QnSC_200k_const_0  adult   \n",
       "0  tabddpm_ON_QnSC       tabddpm_ON_QnSC_200k_mult_8  adult   \n",
       "0  tabddpm_ON_QnSC       tabddpm_ON_QnSC_200k_mult_5  adult   \n",
       "0  tabddpm_ON_QnSC       tabddpm_ON_QnSC_200k_mult_2  adult   \n",
       "0  tabddpm_ON_QnSC       tabddpm_ON_QnSC_200k_mult_1  adult   \n",
       "0  tabddpm_ON_QnSC       tabddpm_ON_QnSC_200k_mult_7  adult   \n",
       "0  tabddpm_ON_QnSC    tabddpm_ON_QnSC_200k_const_0_5  adult   \n",
       "0  tabddpm_ON_QnSC       tabddpm_ON_QnSC_200k_mult_3  adult   \n",
       "0  tabddpm_ON_QnSC       tabddpm_ON_QnSC_200k_mult_0  adult   \n",
       "\n",
       "              similarity                              \\\n",
       "  Column Shapes Score, % Column Pair Trends Score, %   \n",
       "0                98.7070                     97.3548   \n",
       "0                98.6542                     97.2714   \n",
       "0                98.5662                     97.2887   \n",
       "0                98.5289                     97.2021   \n",
       "0                98.4693                     97.0452   \n",
       "0                98.4392                     96.8986   \n",
       "0                98.4822                     96.8074   \n",
       "0                98.3248                     96.7932   \n",
       "0                98.3244                     96.7914   \n",
       "0                98.1751                     96.6069   \n",
       "0                98.0766                     96.5317   \n",
       "0                98.1831                     96.2898   \n",
       "0                98.1401                     96.2726   \n",
       "0                98.1080                     95.8018   \n",
       "0                97.8486                     95.9311   \n",
       "0                97.4282                     94.7817   \n",
       "\n",
       "                              \\\n",
       "  Overall Score (Average), %   \n",
       "0                    98.0309   \n",
       "0                    97.9628   \n",
       "0                    97.9274   \n",
       "0                    97.8655   \n",
       "0                    97.7573   \n",
       "0                    97.6689   \n",
       "0                    97.6448   \n",
       "0                    97.5590   \n",
       "0                    97.5579   \n",
       "0                    97.3910   \n",
       "0                    97.3042   \n",
       "0                    97.2364   \n",
       "0                    97.2063   \n",
       "0                    96.9549   \n",
       "0                    96.8898   \n",
       "0                    96.1050   \n",
       "\n",
       "                                                       \\\n",
       "  Error rate (%) of column-wise density estimation, %   \n",
       "0                                              1.2930   \n",
       "0                                              1.3458   \n",
       "0                                              1.4338   \n",
       "0                                              1.4711   \n",
       "0                                              1.5307   \n",
       "0                                              1.5608   \n",
       "0                                              1.5178   \n",
       "0                                              1.6752   \n",
       "0                                              1.6756   \n",
       "0                                              1.8249   \n",
       "0                                              1.9234   \n",
       "0                                              1.8169   \n",
       "0                                              1.8599   \n",
       "0                                              1.8920   \n",
       "0                                              2.1514   \n",
       "0                                              2.5718   \n",
       "\n",
       "                                                           \\\n",
       "  Error rate (%) of column-wise density estimation std, %   \n",
       "0                                                  0.7684   \n",
       "0                                                  0.8565   \n",
       "0                                                  0.7373   \n",
       "0                                                  0.8379   \n",
       "0                                                  0.8416   \n",
       "0                                                  1.1026   \n",
       "0                                                  1.0544   \n",
       "0                                                  0.9831   \n",
       "0                                                  1.0350   \n",
       "0                                                  1.1319   \n",
       "0                                                  1.5289   \n",
       "0                                                  1.0355   \n",
       "0                                                  1.0072   \n",
       "0                                                  1.0066   \n",
       "0                                                  1.1856   \n",
       "0                                                  1.2194   \n",
       "\n",
       "                                                           \\\n",
       "  Error rate (%) of pair-wise column correlation score, %   \n",
       "0                                                  2.6452   \n",
       "0                                                  2.7286   \n",
       "0                                                  2.7113   \n",
       "0                                                  2.7979   \n",
       "0                                                  2.9548   \n",
       "0                                                  3.1014   \n",
       "0                                                  3.1926   \n",
       "0                                                  3.2068   \n",
       "0                                                  3.2086   \n",
       "0                                                  3.3931   \n",
       "0                                                  3.4683   \n",
       "0                                                  3.7102   \n",
       "0                                                  3.7274   \n",
       "0                                                  4.1982   \n",
       "0                                                  4.0689   \n",
       "0                                                  5.2183   \n",
       "\n",
       "                                                               \\\n",
       "  Error rate (%) of pair-wise column correlation score std, %   \n",
       "0                                                      1.3705   \n",
       "0                                                      1.4180   \n",
       "0                                                      1.4157   \n",
       "0                                                      1.3219   \n",
       "0                                                      1.4493   \n",
       "0                                                      2.4652   \n",
       "0                                                      1.8414   \n",
       "0                                                      1.5471   \n",
       "0                                                      1.8499   \n",
       "0                                                      1.7607   \n",
       "0                                                      2.0834   \n",
       "0                                                      1.8788   \n",
       "0                                                      1.7753   \n",
       "0                                                      4.3926   \n",
       "0                                                      1.9133   \n",
       "0                                                      3.4485   \n",
       "\n",
       "                                         mle  \\\n",
       "  ROC - AUC обучения на синтетических данных   \n",
       "0                                     0.8747   \n",
       "0                                     0.8674   \n",
       "0                                     0.8773   \n",
       "0                                     0.8825   \n",
       "0                                     0.8812   \n",
       "0                                     0.8813   \n",
       "0                                     0.8819   \n",
       "0                                     0.8714   \n",
       "0                                     0.8841   \n",
       "0                                     0.8657   \n",
       "0                                     0.8842   \n",
       "0                                     0.8604   \n",
       "0                                     0.8678   \n",
       "0                                     0.8448   \n",
       "0                                     0.8541   \n",
       "0                                     0.8648   \n",
       "\n",
       "                                                  detection     DCR  \\\n",
       "  ROC - AUC обучения на синтетических данных, std     Score   Score   \n",
       "0                                          0.0066    0.9465  0.5016   \n",
       "0                                          0.0065    0.9382  0.5040   \n",
       "0                                          0.0060    0.9478  0.5039   \n",
       "0                                          0.0053    0.9420  0.5007   \n",
       "0                                          0.0058    0.9387  0.5030   \n",
       "0                                          0.0065    0.9510  0.5024   \n",
       "0                                          0.0076    0.9378  0.5019   \n",
       "0                                          0.0068    0.9281  0.5031   \n",
       "0                                          0.0056    0.9313  0.5029   \n",
       "0                                          0.0073    0.9340  0.5042   \n",
       "0                                          0.0078    0.9315  0.5021   \n",
       "0                                          0.0084    0.9235  0.5020   \n",
       "0                                          0.0067    0.9243  0.4976   \n",
       "0                                          0.0087    0.9276  0.5013   \n",
       "0                                          0.0098    0.9063  0.5052   \n",
       "0                                          0.0077    0.9063  0.5013   \n",
       "\n",
       "          quality                  base_metrics                     \\\n",
       "  alpha precision beta recall Original Logistic Synthetic Logistic   \n",
       "0          0.9557      0.4883               NaN                NaN   \n",
       "0          0.9489      0.4869            0.6571             0.6538   \n",
       "0          0.9559      0.4816            0.6571             0.6543   \n",
       "0          0.9482      0.4879            0.6571             0.6532   \n",
       "0          0.9502      0.4812            0.6571             0.6532   \n",
       "0          0.9606      0.4372            0.6571             0.6569   \n",
       "0          0.9426      0.4766            0.6571             0.6442   \n",
       "0          0.9406      0.4784               NaN                NaN   \n",
       "0          0.9428      0.4860            0.6571             0.6500   \n",
       "0          0.9453      0.4748               NaN                NaN   \n",
       "0          0.9463      0.4763            0.6571             0.6508   \n",
       "0          0.9318      0.4812            0.6571             0.6502   \n",
       "0          0.9362      0.4719            0.6571             0.6538   \n",
       "0          0.9613      0.3328            0.6571             0.6196   \n",
       "0          0.9263      0.4692            0.6571             0.6518   \n",
       "0          0.9631      0.4704            0.6571             0.6544   \n",
       "\n",
       "                                                                                \n",
       "  Original Tree Synthetic Tree Accuracy Loss Logistic, % Accuracy Loss Tree, %  \n",
       "0           NaN            NaN                       NaN                   NaN  \n",
       "0        0.6605         0.6396                    0.4957                3.1723  \n",
       "0        0.6605         0.6416                    0.4297                2.8722  \n",
       "0        0.6605         0.6419                    0.5870                2.8145  \n",
       "0        0.6605         0.6372                    0.5938                3.5321  \n",
       "0        0.6605         0.6268                    0.0257                5.1085  \n",
       "0        0.6605         0.6362                    1.9561                3.6867  \n",
       "0           NaN            NaN                       NaN                   NaN  \n",
       "0        0.6605         0.6330                    1.0855                4.1750  \n",
       "0           NaN            NaN                       NaN                   NaN  \n",
       "0        0.6605         0.6338                    0.9630                4.0463  \n",
       "0        0.6605         0.6199                    1.0568                6.1563  \n",
       "0        0.6605         0.6222                    0.5017                5.7972  \n",
       "0        0.6605         0.6173                    5.6992                6.5525  \n",
       "0        0.6605         0.6206                    0.7993                6.0505  \n",
       "0        0.6605         0.6286                    0.4084                4.8306  "
      ]
     },
     "execution_count": 16,
     "metadata": {},
     "output_type": "execute_result"
    }
   ],
   "source": [
    "pd.set_option('display.max_columns', None)\n",
    "final_metrics_table.round(4).drop(columns=('base_metrics', 0)).sort_values([('similarity', 'Overall Score (Average), %')],\n",
    "                                                                          ascending=False)"
   ]
  },
  {
   "cell_type": "code",
   "execution_count": 17,
   "metadata": {},
   "outputs": [],
   "source": [
    "import os\n",
    "if not os.path.exists(f'./eval/total/{dataname_initial}'):\n",
    "    os.makedirs(f'./eval/total/{dataname_initial}')\n",
    "final_metrics_table.to_csv(f'./eval/total/{dataname_initial}/{model_short}{model_name_postfix}_final_metrics_table.csv', index=False)"
   ]
  }
 ],
 "metadata": {
  "colab": {
   "authorship_tag": "ABX9TyM87OAyAZDeZ/KEr1BVC60/",
   "mount_file_id": "1-H09AG2TbV5ZzQ-ytJRNbFUCirBvOV9p",
   "provenance": []
  },
  "kernelspec": {
   "display_name": "Python3 (ipykernel)",
   "language": "python",
   "name": "python3"
  },
  "language_info": {
   "codemirror_mode": {
    "name": "ipython",
    "version": 3
   },
   "file_extension": ".py",
   "mimetype": "text/x-python",
   "name": "python",
   "nbconvert_exporter": "python",
   "pygments_lexer": "ipython3",
   "version": "3.10.12"
  },
  "widgets": {
   "application/vnd.jupyter.widget-state+json": {
    "state": {},
    "version_major": 2,
    "version_minor": 0
   }
  }
 },
 "nbformat": 4,
 "nbformat_minor": 4
}
