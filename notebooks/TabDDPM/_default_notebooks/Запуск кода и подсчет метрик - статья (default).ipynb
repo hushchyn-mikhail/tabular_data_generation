{
 "cells": [
  {
   "cell_type": "markdown",
   "metadata": {},
   "source": [
    "В этом ноутбуке берется переписанный код статьи и проверяется корректность его запуска, а именно, что итоговые метрики будут похожи на предоставленные в статье."
   ]
  },
  {
   "cell_type": "code",
   "execution_count": 1,
   "metadata": {},
   "outputs": [
    {
     "name": "stdout",
     "output_type": "stream",
     "text": [
      "/workspace/TabDDPM_copy/TabDDPM\n"
     ]
    },
    {
     "name": "stderr",
     "output_type": "stream",
     "text": [
      "/venv/main/lib/python3.10/site-packages/IPython/core/magics/osm.py:417: UserWarning: This is now an optional IPython functionality, setting dhist requires you to install the `pickleshare` library.\n",
      "  self.shell.db['dhist'] = compress_dhist(dhist)[-100:]\n"
     ]
    }
   ],
   "source": [
    "%cd .."
   ]
  },
  {
   "cell_type": "code",
   "execution_count": 2,
   "metadata": {
    "executionInfo": {
     "elapsed": 18,
     "status": "ok",
     "timestamp": 1742849874658,
     "user": {
      "displayName": "Elina Telesheva",
      "userId": "03968090829384653347"
     },
     "user_tz": -180
    },
    "id": "o9DuAPKa2yey"
   },
   "outputs": [],
   "source": [
    "import json\n",
    "\n",
    "with open('./config.json', 'w', encoding='utf-8') as f:\n",
    "    json.dump({\n",
    "        'path': 'tabddpm.json',\n",
    "        'model_name':'tabddpm'\n",
    "    }, f, ensure_ascii=False, indent=4)"
   ]
  },
  {
   "cell_type": "code",
   "execution_count": 3,
   "metadata": {
    "executionInfo": {
     "elapsed": 11435,
     "status": "ok",
     "timestamp": 1742850942286,
     "user": {
      "displayName": "Elina Telesheva",
      "userId": "03968090829384653347"
     },
     "user_tz": -180
    },
    "id": "o77KHt0w3DWc"
   },
   "outputs": [],
   "source": [
    "import pandas as pd\n",
    "import torch\n",
    "import matplotlib.pyplot as plt\n",
    "\n",
    "from utils import *\n",
    "from models.tabddpm.tabddpm import *\n",
    "\n",
    "from tqdm.notebook import tqdm\n",
    "\n",
    "from eval.base_metrics import calculate_base_metrics\n",
    "from eval.similarity import calculate_similarity\n",
    "from eval.mle import calculate_mle\n",
    "from eval.alpha_beta import calculate_alpha_beta\n",
    "from eval.detection import calculate_detection\n",
    "from eval.dcr import calculate_DCR\n",
    "\n",
    "from PIL import Image\n",
    "from IPython.display import clear_output"
   ]
  },
  {
   "cell_type": "code",
   "execution_count": 4,
   "metadata": {},
   "outputs": [],
   "source": [
    "model_name = 'tabddpm'\n",
    "dataname = 'default'\n",
    "dataname_initial = dataname\n",
    "model_name_postfix=''"
   ]
  },
  {
   "cell_type": "code",
   "execution_count": 7,
   "metadata": {
    "executionInfo": {
     "elapsed": 24,
     "status": "ok",
     "timestamp": 1742849874685,
     "user": {
      "displayName": "Elina Telesheva",
      "userId": "03968090829384653347"
     },
     "user_tz": -180
    },
    "id": "mDTuHIDqlu0n"
   },
   "outputs": [
    {
     "name": "stdout",
     "output_type": "stream",
     "text": [
      "Start processing dataset default from UCI.\n",
      "Aready downloaded.\n",
      "NEW TRAIN TEST SPLIT v3\n",
      "seed in clusters: 1235\n",
      "seed in clusters: 1236\n",
      "seed in clusters: 1237\n",
      "seed in clusters: 1238\n",
      "seed in clusters: 1239\n",
      "seed in clusters: 1240\n",
      "seed in clusters: 1241\n",
      "seed in clusters: 1242\n",
      "seed in clusters: 1243\n",
      "seed in clusters: 1244\n",
      "seed in clusters: 1245\n",
      "seed in clusters: 1246\n",
      "seed in clusters: 1247\n",
      "default (27000, 24) (3000, 24) (30000, 24)\n",
      "Numerical (27000, 14)\n",
      "Categorical (27000, 9)\n",
      "Processing and Saving default Successfully!\n",
      "default\n",
      "Total 30000\n",
      "Train 27000\n",
      "Test 3000\n",
      "Num 14\n",
      "Cat 10\n"
     ]
    }
   ],
   "source": [
    "download_dataset(dataname)\n",
    "process_data(dataname)"
   ]
  },
  {
   "cell_type": "markdown",
   "metadata": {
    "jp-MarkdownHeadingCollapsed": true
   },
   "source": [
    "### Проверка разделения"
   ]
  },
  {
   "cell_type": "code",
   "execution_count": 8,
   "metadata": {
    "scrolled": true
   },
   "outputs": [],
   "source": [
    "new_conf = {\n",
    "               'dataname': 'default',\n",
    "                 'method': 'tabddpm_v3_WITH_TRAIN_n_REAL',\n",
    "                 'device': 'cuda',\n",
    "                 'mode': 'train',\n",
    "                 'train': 1,\n",
    "                 'sample_save_path': 'synthetic/default/test.csv',\n",
    "                 'sigma_scheduller_name': 'constant',\n",
    "                 'sigma_value': 0.001,\n",
    "                 'num_noise': 66,\n",
    "                 'real_path': 'synthetic/default/real.csv',\n",
    "                 'test_path': 'synthetic/default/test.csv',\n",
    "                 'info_path': 'data/default/info.json',\n",
    "                 'save_path': './synthetic/shoppers_ON_QnSC_100k/initial_tabddpm_ON_QnSC_100k_mult_6.csv'\n",
    "            }\n",
    "for key in new_conf.keys():\n",
    "    CONFIG.add_arg(key, new_conf[key])\n",
    "calculate_similarity()\n",
    "clear_output()"
   ]
  },
  {
   "cell_type": "code",
   "execution_count": 9,
   "metadata": {},
   "outputs": [
    {
     "data": {
      "text/plain": [
       "{'dataname': 'default',\n",
       " 'method': 'tabddpm_v3_WITH_TRAIN_n_REAL',\n",
       " 'device': 'cuda',\n",
       " 'mode': 'train',\n",
       " 'train': 1,\n",
       " 'sample_save_path': 'synthetic/default/test.csv',\n",
       " 'sigma_scheduller_name': 'constant',\n",
       " 'sigma_value': 0.001,\n",
       " 'num_noise': 66,\n",
       " 'real_path': 'synthetic/default/real.csv',\n",
       " 'test_path': 'synthetic/default/test.csv',\n",
       " 'info_path': 'data/default/info.json',\n",
       " 'save_path': './synthetic/shoppers_ON_QnSC_100k/initial_tabddpm_ON_QnSC_100k_mult_6.csv'}"
      ]
     },
     "execution_count": 9,
     "metadata": {},
     "output_type": "execute_result"
    }
   ],
   "source": [
    "CONFIG.get_all_args()"
   ]
  },
  {
   "cell_type": "code",
   "execution_count": 10,
   "metadata": {},
   "outputs": [
    {
     "data": {
      "image/png": "[encoded data removed]",
      "text/plain": [
       "<PIL.PngImagePlugin.PngImageFile image mode=RGBA size=700x500>"
      ]
     },
     "metadata": {},
     "output_type": "display_data"
    }
   ],
   "source": [
    "im = Image.open(\"./eval/similarity/default/tabddpm_v3_WITH_TRAIN_n_REAL/distribution-of-AGE.png\")\n",
    "im.show()"
   ]
  },
  {
   "cell_type": "code",
   "execution_count": 11,
   "metadata": {},
   "outputs": [
    {
     "data": {
      "image/png": "[encoded data removed]",
      "text/plain": [
       "<PIL.PngImagePlugin.PngImageFile image mode=RGBA size=900x900>"
      ]
     },
     "metadata": {},
     "output_type": "display_data"
    }
   ],
   "source": [
    "im = Image.open(\"./eval/similarity/default/tabddpm_v3_WITH_TRAIN_n_REAL/pair-wise-column-correlation.png\")\n",
    "im.show()"
   ]
  },
  {
   "cell_type": "markdown",
   "metadata": {
    "id": "O1OrGo4GoOJ1",
    "jp-MarkdownHeadingCollapsed": true
   },
   "source": [
    "### Подготовка"
   ]
  },
  {
   "cell_type": "code",
   "execution_count": 6,
   "metadata": {
    "executionInfo": {
     "elapsed": 4,
     "status": "ok",
     "timestamp": 1742849874691,
     "user": {
      "displayName": "Elina Telesheva",
      "userId": "03968090829384653347"
     },
     "user_tz": -180
    },
    "id": "HDL4dxAaubQa"
   },
   "outputs": [],
   "source": [
    "CONFIG.add_arg('dataname', dataname)\n",
    "CONFIG.add_arg('method', model_name + model_name_postfix)"
   ]
  },
  {
   "cell_type": "code",
   "execution_count": 7,
   "metadata": {
    "colab": {
     "base_uri": "https://localhost:8080/"
    },
    "executionInfo": {
     "elapsed": 163,
     "status": "ok",
     "timestamp": 1742849874855,
     "user": {
      "displayName": "Elina Telesheva",
      "userId": "03968090829384653347"
     },
     "user_tz": -180
    },
    "id": "VsKZydqtt3mn",
    "outputId": "6c5765d8-cd82-4629-d27b-51ed0d5dd820"
   },
   "outputs": [
    {
     "name": "stdout",
     "output_type": "stream",
     "text": [
      "Device: cuda\n"
     ]
    }
   ],
   "source": [
    "if torch.cuda.is_available():\n",
    "    device = f'cuda'\n",
    "else:\n",
    "    device = 'cpu'\n",
    "CONFIG.add_arg('device', device)\n",
    "print(f\"Device: {device}\")\n",
    "\n",
    "\n",
    "CONFIG.add_arg('sample_save_path',\n",
    "               f\"synthetic/{CONFIG.get_arg('dataname')}/{CONFIG.get_arg('method')}.csv\")\n",
    "CONFIG.add_arg('real_path',\n",
    "               f\"synthetic/{CONFIG.get_arg('dataname')}/real.csv\")\n",
    "CONFIG.add_arg('test_path',\n",
    "               f\"synthetic/{CONFIG.get_arg('dataname')}/test.csv\")\n",
    "CONFIG.add_arg('info_path',\n",
    "               f\"data/{CONFIG.get_arg('dataname')}/info.json\")"
   ]
  },
  {
   "cell_type": "code",
   "execution_count": 6,
   "metadata": {
    "colab": {
     "base_uri": "https://localhost:8080/"
    },
    "executionInfo": {
     "elapsed": 63,
     "status": "ok",
     "timestamp": 1742849874933,
     "user": {
      "displayName": "Elina Telesheva",
      "userId": "03968090829384653347"
     },
     "user_tz": -180
    },
    "id": "gFtvnuj1tjB7",
    "outputId": "c2b24970-cea9-4ae2-feff-45c29f92788a"
   },
   "outputs": [
    {
     "data": {
      "text/plain": [
       "{'dataname': 'default',\n",
       " 'method': 'tabddpm',\n",
       " 'device': 'cuda',\n",
       " 'mode': 'train',\n",
       " 'train': 1,\n",
       " 'sample_save_path': 'synthetic/default/tabddpm.csv',\n",
       " 'sigma_scheduller_name': 'constant',\n",
       " 'sigma_value': 0.001,\n",
       " 'num_noise': 1,\n",
       " 'real_path': 'synthetic/default/real.csv',\n",
       " 'test_path': 'synthetic/default/test.csv',\n",
       " 'info_path': 'data/default/info.json',\n",
       " 'save_path': './synthetic/magic_ON_QnSC_100k/initial_tabddpm_ON_QnSC_100k_mult_6.csv',\n",
       " 'num_clusters': 25,\n",
       " 'save_cat': None}"
      ]
     },
     "execution_count": 6,
     "metadata": {},
     "output_type": "execute_result"
    }
   ],
   "source": [
    "CONFIG.get_all_args()"
   ]
  },
  {
   "cell_type": "markdown",
   "metadata": {
    "id": "uL818VPDwpaW",
    "jp-MarkdownHeadingCollapsed": true
   },
   "source": [
    "### Train"
   ]
  },
  {
   "cell_type": "code",
   "execution_count": 15,
   "metadata": {
    "executionInfo": {
     "elapsed": 30,
     "status": "ok",
     "timestamp": 1742849874982,
     "user": {
      "displayName": "Elina Telesheva",
      "userId": "03968090829384653347"
     },
     "user_tz": -180
    },
    "id": "fBJBP6k5woSK"
   },
   "outputs": [],
   "source": [
    "CONFIG.add_arg('mode', 'train')"
   ]
  },
  {
   "cell_type": "code",
   "execution_count": 16,
   "metadata": {},
   "outputs": [],
   "source": [
    "model_save_path=f\"./models/{model_name}/ckpt/{dataname_initial}/{model_name}{model_name_postfix}\""
   ]
  },
  {
   "cell_type": "code",
   "execution_count": 17,
   "metadata": {
    "executionInfo": {
     "elapsed": 70,
     "status": "ok",
     "timestamp": 1742849875060,
     "user": {
      "displayName": "Elina Telesheva",
      "userId": "03968090829384653347"
     },
     "user_tz": -180
    },
    "id": "1mULrEuFluee"
   },
   "outputs": [],
   "source": [
    "tabddpm = TabDDPM(CONFIG, model_save_path=model_save_path)"
   ]
  },
  {
   "cell_type": "code",
   "execution_count": 18,
   "metadata": {},
   "outputs": [
    {
     "data": {
      "text/plain": [
       "'./models/tabddpm/ckpt/default/tabddpm'"
      ]
     },
     "execution_count": 18,
     "metadata": {},
     "output_type": "execute_result"
    }
   ],
   "source": [
    "model_save_path"
   ]
  },
  {
   "cell_type": "code",
   "execution_count": null,
   "metadata": {
    "executionInfo": {
     "elapsed": 30,
     "status": "ok",
     "timestamp": 1742849875101,
     "user": {
      "displayName": "Elina Telesheva",
      "userId": "03968090829384653347"
     },
     "user_tz": -180
    },
    "id": "4Urv02tmnbqa",
    "scrolled": true
   },
   "outputs": [
    {
     "name": "stdout",
     "output_type": "stream",
     "text": [
      "START TRAINING\n",
      "No NaNs in numerical features, skipping\n",
      "93\n",
      "{'num_classes': 2, 'is_y_cond': False, 'rtdl_params': {'d_layers': [1024, 2048, 2048, 1024], 'dropout': 0.0}, 'd_in': 93}\n",
      "mlp\n",
      "MLPDiffusion(\n",
      "  (mlp): MLP(\n",
      "    (blocks): ModuleList(\n",
      "      (0): Block(\n",
      "        (linear): Linear(in_features=1024, out_features=1024, bias=True)\n",
      "        (activation): ReLU()\n",
      "        (dropout): Dropout(p=0.0, inplace=False)\n",
      "      )\n",
      "      (1): Block(\n",
      "        (linear): Linear(in_features=1024, out_features=2048, bias=True)\n",
      "        (activation): ReLU()\n",
      "        (dropout): Dropout(p=0.0, inplace=False)\n",
      "      )\n",
      "      (2): Block(\n",
      "        (linear): Linear(in_features=2048, out_features=2048, bias=True)\n",
      "        (activation): ReLU()\n",
      "        (dropout): Dropout(p=0.0, inplace=False)\n",
      "      )\n",
      "      (3): Block(\n",
      "        (linear): Linear(in_features=2048, out_features=1024, bias=True)\n",
      "        (activation): ReLU()\n",
      "        (dropout): Dropout(p=0.0, inplace=False)\n",
      "      )\n",
      "    )\n",
      "    (head): Linear(in_features=1024, out_features=93, bias=True)\n",
      "  )\n",
      "  (proj): Linear(in_features=93, out_features=1024, bias=True)\n",
      "  (time_embed): Sequential(\n",
      "    (0): Linear(in_features=1024, out_features=1024, bias=True)\n",
      "    (1): SiLU()\n",
      "    (2): Linear(in_features=1024, out_features=1024, bias=True)\n",
      "  )\n",
      ")\n",
      "the number of parameters 11734109\n",
      "Steps:  100000\n",
      "Step 1/100000 MLoss: 2.0434 GLoss: 1.3203 Sum: 3.3637\n",
      "Step 2/100000 MLoss: 32.7612 GLoss: 22141.7891 Sum: 22174.550300000003\n",
      "Step 3/100000 MLoss: 2.9268 GLoss: 53.9212 Sum: 56.848\n",
      "Step 4/100000 MLoss: 1.5285 GLoss: 1.4556 Sum: 2.9840999999999998\n",
      "Step 5/100000 MLoss: 1.4715 GLoss: 1.066 Sum: 2.5375\n",
      "Step 6/100000 MLoss: 2.2352 GLoss: 8.4566 Sum: 10.6918\n",
      "Step 7/100000 MLoss: 4.8096 GLoss: 245.3508 Sum: 250.16039999999998\n",
      "Step 8/100000 MLoss: 3.2302 GLoss: 11.7081 Sum: 14.9383\n",
      "Step 9/100000 MLoss: 2.8618 GLoss: 4.2409 Sum: 7.1027000000000005\n",
      "Step 10/100000 MLoss: 1.902 GLoss: 1.8161 Sum: 3.7180999999999997\n",
      "Step 11/100000 MLoss: 1.2863 GLoss: 1.3128 Sum: 2.5991\n",
      "Step 12/100000 MLoss: 1.1801 GLoss: 1.1365 Sum: 2.3166\n",
      "Step 13/100000 MLoss: 1.2173 GLoss: 1.0113 Sum: 2.2286\n",
      "Step 14/100000 MLoss: 1.1464 GLoss: 1.0841 Sum: 2.2305\n",
      "Step 15/100000 MLoss: 1.189 GLoss: 1.0351 Sum: 2.2241\n",
      "Step 16/100000 MLoss: 1.0991 GLoss: 1.0246 Sum: 2.1237\n",
      "Step 17/100000 MLoss: 1.1183 GLoss: 1.0114 Sum: 2.1297\n",
      "Step 18/100000 MLoss: 1.0436 GLoss: 1.006 Sum: 2.0496\n",
      "Step 19/100000 MLoss: 1.0819 GLoss: 1.0069 Sum: 2.0888\n",
      "Step 20/100000 MLoss: 1.0094 GLoss: 1.0012 Sum: 2.0106\n",
      "Step 21/100000 MLoss: 1.0798 GLoss: 1.0103 Sum: 2.0901\n",
      "Step 22/100000 MLoss: 1.0282 GLoss: 1.0196 Sum: 2.0478\n",
      "Step 23/100000 MLoss: 1.0706 GLoss: 1.0144 Sum: 2.085\n",
      "Step 24/100000 MLoss: 1.0001 GLoss: 1.0178 Sum: 2.0179\n",
      "Step 25/100000 MLoss: 1.023 GLoss: 1.0212 Sum: 2.0442\n",
      "Step 26/100000 MLoss: 1.0021 GLoss: 1.0052 Sum: 2.0073\n",
      "Step 27/100000 MLoss: 1.0188 GLoss: 1.0149 Sum: 2.0336999999999996\n",
      "Step 28/100000 MLoss: 1.0212 GLoss: 1.0098 Sum: 2.031\n",
      "Step 29/100000 MLoss: 1.0426 GLoss: 1.029 Sum: 2.0716\n",
      "Step 30/100000 MLoss: 0.972 GLoss: 0.9921 Sum: 1.9641\n",
      "Step 31/100000 MLoss: 0.9374 GLoss: 1.0019 Sum: 1.9393\n",
      "Step 32/100000 MLoss: 0.9454 GLoss: 1.0088 Sum: 1.9542\n",
      "Step 33/100000 MLoss: 0.923 GLoss: 1.0174 Sum: 1.9404000000000001\n",
      "Step 34/100000 MLoss: 0.9144 GLoss: 1.0062 Sum: 1.9205999999999999\n",
      "Step 35/100000 MLoss: 0.8732 GLoss: 0.9968 Sum: 1.87\n",
      "Step 36/100000 MLoss: 0.8799 GLoss: 1.0119 Sum: 1.8918\n",
      "Step 37/100000 MLoss: 0.8748 GLoss: 1.0153 Sum: 1.8901000000000001\n",
      "Step 38/100000 MLoss: 0.862 GLoss: 1.0159 Sum: 1.8779\n",
      "Step 39/100000 MLoss: 0.9469 GLoss: 1.0103 Sum: 1.9571999999999998\n",
      "Step 40/100000 MLoss: 0.8178 GLoss: 1.0104 Sum: 1.8281999999999998\n",
      "Step 41/100000 MLoss: 0.8533 GLoss: 1.0024 Sum: 1.8557\n",
      "Step 42/100000 MLoss: 0.8377 GLoss: 1.0064 Sum: 1.8441\n",
      "Step 43/100000 MLoss: 0.8415 GLoss: 0.9952 Sum: 1.8367\n",
      "Step 44/100000 MLoss: 0.8722 GLoss: 1.0067 Sum: 1.8788999999999998\n",
      "Step 45/100000 MLoss: 0.8358 GLoss: 1.0044 Sum: 1.8401999999999998\n",
      "Step 46/100000 MLoss: 0.8407 GLoss: 0.9986 Sum: 1.8393000000000002\n",
      "Step 47/100000 MLoss: 0.8499 GLoss: 1.0083 Sum: 1.8582\n",
      "Step 48/100000 MLoss: 0.82 GLoss: 1.009 Sum: 1.8289999999999997\n",
      "Step 49/100000 MLoss: 0.7844 GLoss: 0.9976 Sum: 1.782\n",
      "Step 50/100000 MLoss: 0.8422 GLoss: 1.0089 Sum: 1.8510999999999997\n",
      "Step 51/100000 MLoss: 0.8045 GLoss: 1.0024 Sum: 1.8069\n",
      "Step 52/100000 MLoss: 0.7973 GLoss: 1.0077 Sum: 1.8050000000000002\n",
      "Step 53/100000 MLoss: 0.8165 GLoss: 1.0033 Sum: 1.8198\n",
      "Step 54/100000 MLoss: 0.8137 GLoss: 1.0078 Sum: 1.8215\n",
      "Step 55/100000 MLoss: 0.8401 GLoss: 1.0137 Sum: 1.8538000000000001\n",
      "Step 56/100000 MLoss: 0.8011 GLoss: 1.0205 Sum: 1.8216\n",
      "Step 57/100000 MLoss: 0.8135 GLoss: 1.0112 Sum: 1.8247\n",
      "Step 58/100000 MLoss: 0.7593 GLoss: 1.0005 Sum: 1.7597999999999998\n",
      "Step 59/100000 MLoss: 0.7796 GLoss: 1.013 Sum: 1.7925999999999997\n",
      "Step 60/100000 MLoss: 0.8075 GLoss: 1.0119 Sum: 1.8194\n",
      "Step 61/100000 MLoss: 0.7822 GLoss: 1.003 Sum: 1.7852\n",
      "Step 62/100000 MLoss: 0.7576 GLoss: 1.0108 Sum: 1.7684\n",
      "Step 63/100000 MLoss: 0.804 GLoss: 0.9961 Sum: 1.8001\n",
      "Step 64/100000 MLoss: 0.7725 GLoss: 0.9996 Sum: 1.7721\n",
      "Step 65/100000 MLoss: 0.8342 GLoss: 1.0152 Sum: 1.8494000000000002\n",
      "Step 66/100000 MLoss: 0.8327 GLoss: 1.0045 Sum: 1.8372\n",
      "Step 67/100000 MLoss: 0.8022 GLoss: 1.0013 Sum: 1.8035\n",
      "Step 68/100000 MLoss: 0.7865 GLoss: 0.9999 Sum: 1.7864\n",
      "Step 69/100000 MLoss: 0.7681 GLoss: 0.9999 Sum: 1.768\n",
      "Step 70/100000 MLoss: 0.7996 GLoss: 1.0107 Sum: 1.8102999999999998\n",
      "Step 71/100000 MLoss: 0.7748 GLoss: 0.9958 Sum: 1.7706\n",
      "Step 72/100000 MLoss: 0.7597 GLoss: 1.0002 Sum: 1.7599\n",
      "Step 73/100000 MLoss: 0.7299 GLoss: 1.008 Sum: 1.7379\n",
      "Step 74/100000 MLoss: 0.7662 GLoss: 1.0016 Sum: 1.7678\n",
      "Step 75/100000 MLoss: 0.7449 GLoss: 0.9944 Sum: 1.7393\n",
      "Step 76/100000 MLoss: 0.8167 GLoss: 1.005 Sum: 1.8216999999999999\n",
      "Step 77/100000 MLoss: 0.7564 GLoss: 0.9873 Sum: 1.7437\n",
      "Step 78/100000 MLoss: 0.763 GLoss: 1.0047 Sum: 1.7677\n",
      "Step 79/100000 MLoss: 0.7526 GLoss: 1.0029 Sum: 1.7555\n",
      "Step 80/100000 MLoss: 0.7613 GLoss: 1.0054 Sum: 1.7667000000000002\n",
      "Step 81/100000 MLoss: 0.7521 GLoss: 1.0122 Sum: 1.7643\n",
      "Step 82/100000 MLoss: 0.7435 GLoss: 1.0011 Sum: 1.7446000000000002\n",
      "Step 83/100000 MLoss: 0.748 GLoss: 0.9903 Sum: 1.7383\n",
      "Step 84/100000 MLoss: 0.7373 GLoss: 0.9931 Sum: 1.7304\n",
      "Step 85/100000 MLoss: 0.7517 GLoss: 1.0069 Sum: 1.7586\n",
      "Step 86/100000 MLoss: 0.7818 GLoss: 1.0011 Sum: 1.7829000000000002\n",
      "Step 87/100000 MLoss: 0.7855 GLoss: 0.9988 Sum: 1.7843\n",
      "Step 88/100000 MLoss: 0.767 GLoss: 1.004 Sum: 1.771\n",
      "Step 89/100000 MLoss: 0.7249 GLoss: 0.9966 Sum: 1.7215\n",
      "Step 90/100000 MLoss: 0.7604 GLoss: 0.9954 Sum: 1.7557999999999998\n",
      "Step 91/100000 MLoss: 0.7811 GLoss: 0.9996 Sum: 1.7807\n",
      "Step 92/100000 MLoss: 0.7717 GLoss: 0.9949 Sum: 1.7666\n",
      "Step 93/100000 MLoss: 0.7389 GLoss: 1.0008 Sum: 1.7397\n",
      "Step 94/100000 MLoss: 0.7241 GLoss: 0.9944 Sum: 1.7185\n",
      "Step 95/100000 MLoss: 0.7652 GLoss: 1.0105 Sum: 1.7757\n",
      "Step 96/100000 MLoss: 0.7402 GLoss: 0.9985 Sum: 1.7387000000000001\n",
      "Step 97/100000 MLoss: 0.76 GLoss: 0.9972 Sum: 1.7572\n",
      "Step 98/100000 MLoss: 0.7148 GLoss: 0.998 Sum: 1.7128\n",
      "Step 99/100000 MLoss: 0.7382 GLoss: 1.0038 Sum: 1.742\n",
      "Step 100/100000 MLoss: 0.7536 GLoss: 1.0041 Sum: 1.7577\n",
      "Step 101/100000 MLoss: 0.7201 GLoss: 1.0049 Sum: 1.7249999999999999\n",
      "Step 102/100000 MLoss: 0.7428 GLoss: 1.0029 Sum: 1.7456999999999998\n",
      "Step 103/100000 MLoss: 0.7351 GLoss: 1.0028 Sum: 1.7378999999999998\n",
      "Step 104/100000 MLoss: 0.7534 GLoss: 1.0001 Sum: 1.7534999999999998\n",
      "Step 105/100000 MLoss: 0.7259 GLoss: 1.0091 Sum: 1.735\n",
      "Step 106/100000 MLoss: 0.7399 GLoss: 1.0055 Sum: 1.7454\n",
      "Step 107/100000 MLoss: 0.7892 GLoss: 0.9999 Sum: 1.7891\n",
      "Step 108/100000 MLoss: 0.7454 GLoss: 1.0099 Sum: 1.7553\n",
      "Step 109/100000 MLoss: 0.7528 GLoss: 0.9969 Sum: 1.7497\n",
      "Step 110/100000 MLoss: 0.7346 GLoss: 1.0007 Sum: 1.7353\n",
      "Step 111/100000 MLoss: 0.7347 GLoss: 0.9971 Sum: 1.7318\n",
      "Step 112/100000 MLoss: 0.7606 GLoss: 1.0061 Sum: 1.7667000000000002\n",
      "Step 113/100000 MLoss: 0.7901 GLoss: 0.9877 Sum: 1.7778\n",
      "Step 114/100000 MLoss: 0.6806 GLoss: 0.9897 Sum: 1.6703000000000001\n",
      "Step 115/100000 MLoss: 0.7672 GLoss: 0.9974 Sum: 1.7646\n",
      "Step 116/100000 MLoss: 0.7651 GLoss: 1.0047 Sum: 1.7698\n",
      "Step 117/100000 MLoss: 0.774 GLoss: 1.0026 Sum: 1.7766\n",
      "Step 118/100000 MLoss: 0.7391 GLoss: 0.9893 Sum: 1.7284\n",
      "Step 119/100000 MLoss: 0.7577 GLoss: 0.9945 Sum: 1.7522000000000002\n",
      "Step 120/100000 MLoss: 0.7605 GLoss: 1.0007 Sum: 1.7611999999999999\n",
      "Step 121/100000 MLoss: 0.7766 GLoss: 0.9917 Sum: 1.7683\n",
      "Step 122/100000 MLoss: 0.749 GLoss: 1.0048 Sum: 1.7538\n",
      "Step 123/100000 MLoss: 0.7547 GLoss: 0.9878 Sum: 1.7425000000000002\n",
      "Step 124/100000 MLoss: 0.7275 GLoss: 1.0036 Sum: 1.7311\n",
      "Step 125/100000 MLoss: 0.7655 GLoss: 1.0038 Sum: 1.7692999999999999\n",
      "Step 126/100000 MLoss: 0.7283 GLoss: 1.0036 Sum: 1.7319\n",
      "Step 127/100000 MLoss: 0.7286 GLoss: 0.9965 Sum: 1.7251\n",
      "Step 128/100000 MLoss: 0.7653 GLoss: 1.0005 Sum: 1.7658\n",
      "Step 129/100000 MLoss: 0.7098 GLoss: 0.989 Sum: 1.6987999999999999\n",
      "Step 130/100000 MLoss: 0.7875 GLoss: 0.9994 Sum: 1.7869\n",
      "Step 131/100000 MLoss: 0.7779 GLoss: 0.9865 Sum: 1.7644000000000002\n",
      "Step 132/100000 MLoss: 0.7402 GLoss: 0.9918 Sum: 1.732\n",
      "Step 133/100000 MLoss: 0.7289 GLoss: 1.0066 Sum: 1.7355\n",
      "Step 134/100000 MLoss: 0.6889 GLoss: 1.008 Sum: 1.6968999999999999\n",
      "Step 135/100000 MLoss: 0.7107 GLoss: 1.0003 Sum: 1.7109999999999999\n",
      "Step 136/100000 MLoss: 0.7276 GLoss: 0.9986 Sum: 1.7262\n",
      "Step 137/100000 MLoss: 0.7162 GLoss: 0.9999 Sum: 1.7161\n",
      "Step 138/100000 MLoss: 0.7422 GLoss: 0.9876 Sum: 1.7298\n",
      "Step 139/100000 MLoss: 0.7603 GLoss: 0.9959 Sum: 1.7562\n",
      "Step 140/100000 MLoss: 0.6884 GLoss: 1.0 Sum: 1.6884000000000001\n",
      "Step 141/100000 MLoss: 0.7063 GLoss: 0.9917 Sum: 1.698\n",
      "Step 142/100000 MLoss: 0.7316 GLoss: 1.0067 Sum: 1.7383\n",
      "Step 143/100000 MLoss: 0.7308 GLoss: 1.0069 Sum: 1.7376999999999998\n",
      "Step 144/100000 MLoss: 0.7514 GLoss: 0.9974 Sum: 1.7488\n",
      "Step 145/100000 MLoss: 0.702 GLoss: 1.0009 Sum: 1.7028999999999999\n",
      "Step 146/100000 MLoss: 0.7327 GLoss: 1.0063 Sum: 1.7389999999999999\n",
      "Step 147/100000 MLoss: 0.7044 GLoss: 0.9818 Sum: 1.6862\n",
      "Step 148/100000 MLoss: 0.7435 GLoss: 1.0024 Sum: 1.7459\n",
      "Step 149/100000 MLoss: 0.7453 GLoss: 0.9993 Sum: 1.7446\n",
      "Step 150/100000 MLoss: 0.7099 GLoss: 0.9906 Sum: 1.7005\n",
      "Step 151/100000 MLoss: 0.766 GLoss: 0.9954 Sum: 1.7614\n",
      "Step 152/100000 MLoss: 0.7271 GLoss: 0.9902 Sum: 1.7172999999999998\n",
      "Step 153/100000 MLoss: 0.7399 GLoss: 0.9957 Sum: 1.7356\n",
      "Step 154/100000 MLoss: 0.6928 GLoss: 0.9917 Sum: 1.6844999999999999\n",
      "Step 155/100000 MLoss: 0.7062 GLoss: 0.9854 Sum: 1.6916000000000002\n",
      "Step 156/100000 MLoss: 0.7403 GLoss: 1.0001 Sum: 1.7404\n",
      "Step 157/100000 MLoss: 0.6997 GLoss: 0.9832 Sum: 1.6829\n",
      "Step 158/100000 MLoss: 0.7031 GLoss: 0.996 Sum: 1.6991\n",
      "Step 159/100000 MLoss: 0.7228 GLoss: 1.0065 Sum: 1.7292999999999998\n",
      "Step 160/100000 MLoss: 0.7075 GLoss: 1.0034 Sum: 1.7109\n",
      "Step 161/100000 MLoss: 0.7391 GLoss: 1.0013 Sum: 1.7404000000000002\n",
      "Step 162/100000 MLoss: 0.6986 GLoss: 0.9971 Sum: 1.6957\n",
      "Step 163/100000 MLoss: 0.7565 GLoss: 0.9845 Sum: 1.741\n",
      "Step 164/100000 MLoss: 0.7214 GLoss: 0.9934 Sum: 1.7147999999999999\n",
      "Step 165/100000 MLoss: 0.7116 GLoss: 0.9991 Sum: 1.7107\n",
      "Step 166/100000 MLoss: 0.6909 GLoss: 0.9909 Sum: 1.6818\n",
      "Step 167/100000 MLoss: 0.6924 GLoss: 0.9969 Sum: 1.6893\n",
      "Step 168/100000 MLoss: 0.7366 GLoss: 0.9884 Sum: 1.725\n",
      "Step 169/100000 MLoss: 0.7062 GLoss: 0.9794 Sum: 1.6856\n",
      "Step 170/100000 MLoss: 0.7424 GLoss: 1.0292 Sum: 1.7715999999999998\n",
      "Step 171/100000 MLoss: 0.7102 GLoss: 1.0037 Sum: 1.7139000000000002\n",
      "Step 172/100000 MLoss: 0.8023 GLoss: 1.0135 Sum: 1.8158\n",
      "Step 173/100000 MLoss: 0.878 GLoss: 1.0145 Sum: 1.8925\n",
      "Step 174/100000 MLoss: 0.7271 GLoss: 1.0049 Sum: 1.7319999999999998\n",
      "Step 175/100000 MLoss: 0.8319 GLoss: 0.9856 Sum: 1.8175\n",
      "Step 176/100000 MLoss: 0.7615 GLoss: 0.9944 Sum: 1.7559\n",
      "Step 177/100000 MLoss: 0.6857 GLoss: 1.0027 Sum: 1.6884\n",
      "Step 178/100000 MLoss: 0.7416 GLoss: 0.9912 Sum: 1.7328000000000001\n",
      "Step 179/100000 MLoss: 0.7278 GLoss: 0.9848 Sum: 1.7126000000000001\n",
      "Step 180/100000 MLoss: 0.7079 GLoss: 1.0051 Sum: 1.713\n",
      "Step 181/100000 MLoss: 0.7494 GLoss: 0.9944 Sum: 1.7437999999999998\n",
      "Step 182/100000 MLoss: 0.6866 GLoss: 0.9858 Sum: 1.6724\n",
      "Step 183/100000 MLoss: 0.7276 GLoss: 0.9941 Sum: 1.7217\n",
      "Step 184/100000 MLoss: 0.6708 GLoss: 0.9804 Sum: 1.6512\n",
      "Step 185/100000 MLoss: 0.7127 GLoss: 1.0055 Sum: 1.7182\n",
      "Step 186/100000 MLoss: 0.7032 GLoss: 0.9861 Sum: 1.6893\n",
      "Step 187/100000 MLoss: 0.6993 GLoss: 0.9974 Sum: 1.6966999999999999\n",
      "Step 188/100000 MLoss: 0.7143 GLoss: 0.9824 Sum: 1.6967\n",
      "Step 189/100000 MLoss: 0.7544 GLoss: 0.993 Sum: 1.7473999999999998\n"
     ]
    }
   ],
   "source": [
    "tabddpm.train()"
   ]
  },
  {
   "cell_type": "code",
   "execution_count": 20,
   "metadata": {},
   "outputs": [
    {
     "data": {
      "application/vnd.jupyter.widget-view+json": {
       "model_id": "11da777f62394542909bdbf705ef080d",
       "version_major": 2,
       "version_minor": 0
      },
      "text/plain": [
       "  0%|          | 0/6 [00:00<?, ?it/s]"
      ]
     },
     "metadata": {},
     "output_type": "display_data"
    }
   ],
   "source": [
    "for file in tqdm(os.listdir(model_save_path)):\n",
    "    if ('0000' in file) or ('model_ema.pt' in file):\n",
    "        os.remove(os.path.join(model_save_path, file))"
   ]
  },
  {
   "cell_type": "code",
   "execution_count": 21,
   "metadata": {},
   "outputs": [],
   "source": [
    "def get_cmap(n, name='hsv'):\n",
    "    '''Returns a function that maps each index in 0, 1, ..., n-1 to a distinct \n",
    "    RGB color; the keyword argument name must be a standard mpl colormap name.'''\n",
    "    return plt.cm.get_cmap(name, n)\n",
    "    \n",
    "cmap = get_cmap(10)"
   ]
  },
  {
   "cell_type": "code",
   "execution_count": 22,
   "metadata": {
    "colab": {
     "base_uri": "https://localhost:8080/",
     "height": 491
    },
    "executionInfo": {
     "elapsed": 1353,
     "status": "ok",
     "timestamp": 1742849876457,
     "user": {
      "displayName": "Elina Telesheva",
      "userId": "03968090829384653347"
     },
     "user_tz": -180
    },
    "id": "J_2etdriv20a",
    "outputId": "fdb4781b-139c-46e1-f722-e17f7a4f375a"
   },
   "outputs": [
    {
     "data": {
      "image/png": "[encoded data removed]",
      "text/plain": [
       "<Figure size 640x480 with 1 Axes>"
      ]
     },
     "metadata": {},
     "output_type": "display_data"
    }
   ],
   "source": [
    "loss = pd.read_csv(f'{model_save_path}/loss.csv')\n",
    "max_v, min_v = -np.inf, np.inf\n",
    "window = 250\n",
    "\n",
    "start_step = 100\n",
    "for i, l in enumerate(loss.columns[1:]):\n",
    "    plt.plot(loss['step'][start_step:], loss[l][start_step:], alpha=0.25, color=cmap(i))\n",
    "    smoothed = np.convolve(loss[l][start_step:], np.ones(window)/window, 'valid')  \n",
    "    plt.plot(loss['step'][start_step+window-1:], smoothed, label=l, color=cmap(i))\n",
    "\n",
    "    max_v = np.max([np.quantile(loss[l][start_step:], 0.99), max_v])\n",
    "    min_v = np.min([np.quantile(loss[l][start_step:], 0.01), min_v])\n",
    "\n",
    "plt.ylim([min_v-0.1, max_v+0.1]) \n",
    "plt.legend()\n",
    "plt.title(f\"Model name: {model_name.upper()}\\nLoss by steps from step #{start_step}\")\n",
    "plt.savefig(f'{model_save_path}/loss_image.png')\n",
    "plt.show()"
   ]
  },
  {
   "cell_type": "code",
   "execution_count": 23,
   "metadata": {},
   "outputs": [
    {
     "data": {
      "text/plain": [
       "'synthetic/default/tabddpm.csv'"
      ]
     },
     "execution_count": 23,
     "metadata": {},
     "output_type": "execute_result"
    }
   ],
   "source": [
    "CONFIG.get_arg('sample_save_path')"
   ]
  },
  {
   "cell_type": "code",
   "execution_count": 24,
   "metadata": {
    "executionInfo": {
     "elapsed": 19,
     "status": "ok",
     "timestamp": 1742849876500,
     "user": {
      "displayName": "Elina Telesheva",
      "userId": "03968090829384653347"
     },
     "user_tz": -180
    },
    "id": "_dh1_KeYveNz"
   },
   "outputs": [
    {
     "name": "stdout",
     "output_type": "stream",
     "text": [
      "No NaNs in numerical features, skipping\n",
      "mlp\n",
      "torch.Size([10000, 79])\n",
      "Sample timestep    0\n",
      "torch.Size([10000, 79])\n",
      "Sample timestep    0\n",
      "torch.Size([10000, 79])\n",
      "Sample timestep    0\n",
      "Shape torch.Size([27000, 24])\n",
      "(27000, 10)\n",
      "Sampling time: 155.2206528186798\n"
     ]
    }
   ],
   "source": [
    "tabddpm.sample(sample_save_path=CONFIG.get_arg('sample_save_path'))"
   ]
  },
  {
   "cell_type": "markdown",
   "metadata": {
    "id": "_pRj_6inEVEL"
   },
   "source": [
    "### Расчет метрик"
   ]
  },
  {
   "cell_type": "code",
   "execution_count": 5,
   "metadata": {},
   "outputs": [
    {
     "data": {
      "text/plain": [
       "'synthetic/default/tabddpm.csv'"
      ]
     },
     "execution_count": 5,
     "metadata": {},
     "output_type": "execute_result"
    }
   ],
   "source": [
    "CONFIG.get_arg('sample_save_path')"
   ]
  },
  {
   "cell_type": "code",
   "execution_count": 6,
   "metadata": {},
   "outputs": [],
   "source": [
    "overall_metrics = {}\n",
    "overall_metrics[model_name] = {}"
   ]
  },
  {
   "cell_type": "code",
   "execution_count": 7,
   "metadata": {},
   "outputs": [],
   "source": [
    "CONFIG.add_arg('method', model_name + model_name_postfix)"
   ]
  },
  {
   "cell_type": "code",
   "execution_count": 8,
   "metadata": {},
   "outputs": [
    {
     "data": {
      "text/plain": [
       "{'dataname': 'default',\n",
       " 'method': 'tabddpm',\n",
       " 'device': 'cuda',\n",
       " 'mode': 'train',\n",
       " 'train': 1,\n",
       " 'sample_save_path': 'synthetic/default/tabddpm.csv',\n",
       " 'sigma_scheduller_name': 'constant',\n",
       " 'sigma_value': 0.001,\n",
       " 'num_noise': 1,\n",
       " 'real_path': 'synthetic/default/real.csv',\n",
       " 'test_path': 'synthetic/default/test.csv',\n",
       " 'info_path': 'data/default/info.json',\n",
       " 'save_path': './synthetic/magic_ON_QnSC_100k/initial_tabddpm_ON_QnSC_100k_mult_6.csv',\n",
       " 'num_clusters': 25,\n",
       " 'save_cat': None}"
      ]
     },
     "execution_count": 8,
     "metadata": {},
     "output_type": "execute_result"
    }
   ],
   "source": [
    "CONFIG.get_all_args()"
   ]
  },
  {
   "cell_type": "markdown",
   "metadata": {
    "id": "Vuzd6IpwJJs8"
   },
   "source": [
    "#### Метрики из starter_kit"
   ]
  },
  {
   "cell_type": "code",
   "execution_count": 9,
   "metadata": {},
   "outputs": [
    {
     "name": "stderr",
     "output_type": "stream",
     "text": [
      "/venv/main/lib/python3.10/site-packages/sklearn/linear_model/_logistic.py:465: ConvergenceWarning: lbfgs failed to converge (status=1):\n",
      "STOP: TOTAL NO. OF ITERATIONS REACHED LIMIT.\n",
      "\n",
      "Increase the number of iterations (max_iter) or scale the data as shown in:\n",
      "    https://scikit-learn.org/stable/modules/preprocessing.html\n",
      "Please also refer to the documentation for alternative solver options:\n",
      "    https://scikit-learn.org/stable/modules/linear_model.html#logistic-regression\n",
      "  n_iter_i = _check_optimize_result(\n",
      "/venv/main/lib/python3.10/site-packages/sklearn/linear_model/_logistic.py:465: ConvergenceWarning: lbfgs failed to converge (status=1):\n",
      "STOP: TOTAL NO. OF ITERATIONS REACHED LIMIT.\n",
      "\n",
      "Increase the number of iterations (max_iter) or scale the data as shown in:\n",
      "    https://scikit-learn.org/stable/modules/preprocessing.html\n",
      "Please also refer to the documentation for alternative solver options:\n",
      "    https://scikit-learn.org/stable/modules/linear_model.html#logistic-regression\n",
      "  n_iter_i = _check_optimize_result(\n"
     ]
    },
    {
     "name": "stdout",
     "output_type": "stream",
     "text": [
      "TABDDPM: DEFAULT Dataset\n",
      "Original Logistic: 0.475\n",
      "Synthetic Logistic: 0.473\n",
      "Original Tree: 0.463\n",
      "Synthetic Tree: 0.439 \n",
      "\n",
      "TABDDPM Accuracy Loss: DEFAULT\n",
      "Logistic: 0.272%\n",
      "Tree: 5.160% \n",
      "\n"
     ]
    }
   ],
   "source": [
    "overall_metrics[model_name]['base_metrics'] = calculate_base_metrics(make_binary=False, value=None)"
   ]
  },
  {
   "cell_type": "markdown",
   "metadata": {
    "id": "VPqKYB_6OxEo"
   },
   "source": [
    "#### Метрики из статьи TabSyn"
   ]
  },
  {
   "cell_type": "code",
   "execution_count": 10,
   "metadata": {
    "scrolled": true
   },
   "outputs": [
    {
     "name": "stdout",
     "output_type": "stream",
     "text": [
      "CALCULATING COLUMN-WISE DENSITY ESTIMATION & PAIR-WISE COLUMN CORRELATION...\n",
      "Generating report ...\n",
      "\n",
      "(1/2) Evaluating Column Shapes: |██████████| 24/24 [00:00<00:00, 77.37it/s]|\n",
      "Column Shapes Score: 98.55%\n",
      "\n",
      "(2/2) Evaluating Column Pair Trends: |██████████| 276/276 [00:02<00:00, 137.02it/s]|\n",
      "Column Pair Trends Score: 97.09%\n",
      "\n",
      "Overall Score (Average): 97.82%\n",
      "\n",
      "Error rate (%) of column-wise density estimation TABDDPM: 1.449 ± 0.578\n",
      "Error rate (%) of pair-wise column correlation score TABDDPM: 2.915 ± 2.949\n"
     ]
    },
    {
     "data": {
      "text/html": [
       "<iframe\n",
       "    scrolling=\"no\"\n",
       "    width=\"100%\"\n",
       "    height=\"545px\"\n",
       "    src=\"iframe_figures/figure_10.html\"\n",
       "    frameborder=\"0\"\n",
       "    allowfullscreen\n",
       "></iframe>\n"
      ]
     },
     "metadata": {},
     "output_type": "display_data"
    },
    {
     "data": {
      "text/html": [
       "<iframe\n",
       "    scrolling=\"no\"\n",
       "    width=\"920px\"\n",
       "    height=\"920\"\n",
       "    src=\"iframe_figures/figure_10.html\"\n",
       "    frameborder=\"0\"\n",
       "    allowfullscreen\n",
       "></iframe>\n"
      ]
     },
     "metadata": {},
     "output_type": "display_data"
    },
    {
     "name": "stdout",
     "output_type": "stream",
     "text": [
      "DONE! \n",
      "\n",
      "DRAW COLUMN VALUES DISTRIBUTIONS...\n"
     ]
    },
    {
     "data": {
      "text/html": [
       "<iframe\n",
       "    scrolling=\"no\"\n",
       "    width=\"100%\"\n",
       "    height=\"545px\"\n",
       "    src=\"iframe_figures/figure_10.html\"\n",
       "    frameborder=\"0\"\n",
       "    allowfullscreen\n",
       "></iframe>\n"
      ]
     },
     "metadata": {},
     "output_type": "display_data"
    },
    {
     "data": {
      "text/html": [
       "<iframe\n",
       "    scrolling=\"no\"\n",
       "    width=\"100%\"\n",
       "    height=\"545px\"\n",
       "    src=\"iframe_figures/figure_10.html\"\n",
       "    frameborder=\"0\"\n",
       "    allowfullscreen\n",
       "></iframe>\n"
      ]
     },
     "metadata": {},
     "output_type": "display_data"
    },
    {
     "data": {
      "text/html": [
       "<iframe\n",
       "    scrolling=\"no\"\n",
       "    width=\"100%\"\n",
       "    height=\"545px\"\n",
       "    src=\"iframe_figures/figure_10.html\"\n",
       "    frameborder=\"0\"\n",
       "    allowfullscreen\n",
       "></iframe>\n"
      ]
     },
     "metadata": {},
     "output_type": "display_data"
    },
    {
     "data": {
      "text/html": [
       "<iframe\n",
       "    scrolling=\"no\"\n",
       "    width=\"100%\"\n",
       "    height=\"545px\"\n",
       "    src=\"iframe_figures/figure_10.html\"\n",
       "    frameborder=\"0\"\n",
       "    allowfullscreen\n",
       "></iframe>\n"
      ]
     },
     "metadata": {},
     "output_type": "display_data"
    },
    {
     "data": {
      "text/html": [
       "<iframe\n",
       "    scrolling=\"no\"\n",
       "    width=\"100%\"\n",
       "    height=\"545px\"\n",
       "    src=\"iframe_figures/figure_10.html\"\n",
       "    frameborder=\"0\"\n",
       "    allowfullscreen\n",
       "></iframe>\n"
      ]
     },
     "metadata": {},
     "output_type": "display_data"
    },
    {
     "data": {
      "text/html": [
       "<iframe\n",
       "    scrolling=\"no\"\n",
       "    width=\"100%\"\n",
       "    height=\"545px\"\n",
       "    src=\"iframe_figures/figure_10.html\"\n",
       "    frameborder=\"0\"\n",
       "    allowfullscreen\n",
       "></iframe>\n"
      ]
     },
     "metadata": {},
     "output_type": "display_data"
    },
    {
     "data": {
      "text/html": [
       "<iframe\n",
       "    scrolling=\"no\"\n",
       "    width=\"100%\"\n",
       "    height=\"545px\"\n",
       "    src=\"iframe_figures/figure_10.html\"\n",
       "    frameborder=\"0\"\n",
       "    allowfullscreen\n",
       "></iframe>\n"
      ]
     },
     "metadata": {},
     "output_type": "display_data"
    },
    {
     "data": {
      "text/html": [
       "<iframe\n",
       "    scrolling=\"no\"\n",
       "    width=\"100%\"\n",
       "    height=\"545px\"\n",
       "    src=\"iframe_figures/figure_10.html\"\n",
       "    frameborder=\"0\"\n",
       "    allowfullscreen\n",
       "></iframe>\n"
      ]
     },
     "metadata": {},
     "output_type": "display_data"
    },
    {
     "data": {
      "text/html": [
       "<iframe\n",
       "    scrolling=\"no\"\n",
       "    width=\"100%\"\n",
       "    height=\"545px\"\n",
       "    src=\"iframe_figures/figure_10.html\"\n",
       "    frameborder=\"0\"\n",
       "    allowfullscreen\n",
       "></iframe>\n"
      ]
     },
     "metadata": {},
     "output_type": "display_data"
    },
    {
     "data": {
      "text/html": [
       "<iframe\n",
       "    scrolling=\"no\"\n",
       "    width=\"100%\"\n",
       "    height=\"545px\"\n",
       "    src=\"iframe_figures/figure_10.html\"\n",
       "    frameborder=\"0\"\n",
       "    allowfullscreen\n",
       "></iframe>\n"
      ]
     },
     "metadata": {},
     "output_type": "display_data"
    },
    {
     "data": {
      "text/html": [
       "<iframe\n",
       "    scrolling=\"no\"\n",
       "    width=\"100%\"\n",
       "    height=\"545px\"\n",
       "    src=\"iframe_figures/figure_10.html\"\n",
       "    frameborder=\"0\"\n",
       "    allowfullscreen\n",
       "></iframe>\n"
      ]
     },
     "metadata": {},
     "output_type": "display_data"
    },
    {
     "data": {
      "text/html": [
       "<iframe\n",
       "    scrolling=\"no\"\n",
       "    width=\"100%\"\n",
       "    height=\"545px\"\n",
       "    src=\"iframe_figures/figure_10.html\"\n",
       "    frameborder=\"0\"\n",
       "    allowfullscreen\n",
       "></iframe>\n"
      ]
     },
     "metadata": {},
     "output_type": "display_data"
    },
    {
     "data": {
      "text/html": [
       "<iframe\n",
       "    scrolling=\"no\"\n",
       "    width=\"100%\"\n",
       "    height=\"545px\"\n",
       "    src=\"iframe_figures/figure_10.html\"\n",
       "    frameborder=\"0\"\n",
       "    allowfullscreen\n",
       "></iframe>\n"
      ]
     },
     "metadata": {},
     "output_type": "display_data"
    },
    {
     "data": {
      "text/html": [
       "<iframe\n",
       "    scrolling=\"no\"\n",
       "    width=\"100%\"\n",
       "    height=\"545px\"\n",
       "    src=\"iframe_figures/figure_10.html\"\n",
       "    frameborder=\"0\"\n",
       "    allowfullscreen\n",
       "></iframe>\n"
      ]
     },
     "metadata": {},
     "output_type": "display_data"
    },
    {
     "data": {
      "text/html": [
       "<iframe\n",
       "    scrolling=\"no\"\n",
       "    width=\"100%\"\n",
       "    height=\"545px\"\n",
       "    src=\"iframe_figures/figure_10.html\"\n",
       "    frameborder=\"0\"\n",
       "    allowfullscreen\n",
       "></iframe>\n"
      ]
     },
     "metadata": {},
     "output_type": "display_data"
    },
    {
     "data": {
      "text/html": [
       "<iframe\n",
       "    scrolling=\"no\"\n",
       "    width=\"100%\"\n",
       "    height=\"545px\"\n",
       "    src=\"iframe_figures/figure_10.html\"\n",
       "    frameborder=\"0\"\n",
       "    allowfullscreen\n",
       "></iframe>\n"
      ]
     },
     "metadata": {},
     "output_type": "display_data"
    },
    {
     "data": {
      "text/html": [
       "<iframe\n",
       "    scrolling=\"no\"\n",
       "    width=\"100%\"\n",
       "    height=\"545px\"\n",
       "    src=\"iframe_figures/figure_10.html\"\n",
       "    frameborder=\"0\"\n",
       "    allowfullscreen\n",
       "></iframe>\n"
      ]
     },
     "metadata": {},
     "output_type": "display_data"
    },
    {
     "data": {
      "text/html": [
       "<iframe\n",
       "    scrolling=\"no\"\n",
       "    width=\"100%\"\n",
       "    height=\"545px\"\n",
       "    src=\"iframe_figures/figure_10.html\"\n",
       "    frameborder=\"0\"\n",
       "    allowfullscreen\n",
       "></iframe>\n"
      ]
     },
     "metadata": {},
     "output_type": "display_data"
    },
    {
     "data": {
      "text/html": [
       "<iframe\n",
       "    scrolling=\"no\"\n",
       "    width=\"100%\"\n",
       "    height=\"545px\"\n",
       "    src=\"iframe_figures/figure_10.html\"\n",
       "    frameborder=\"0\"\n",
       "    allowfullscreen\n",
       "></iframe>\n"
      ]
     },
     "metadata": {},
     "output_type": "display_data"
    },
    {
     "data": {
      "text/html": [
       "<iframe\n",
       "    scrolling=\"no\"\n",
       "    width=\"100%\"\n",
       "    height=\"545px\"\n",
       "    src=\"iframe_figures/figure_10.html\"\n",
       "    frameborder=\"0\"\n",
       "    allowfullscreen\n",
       "></iframe>\n"
      ]
     },
     "metadata": {},
     "output_type": "display_data"
    },
    {
     "data": {
      "text/html": [
       "<iframe\n",
       "    scrolling=\"no\"\n",
       "    width=\"100%\"\n",
       "    height=\"545px\"\n",
       "    src=\"iframe_figures/figure_10.html\"\n",
       "    frameborder=\"0\"\n",
       "    allowfullscreen\n",
       "></iframe>\n"
      ]
     },
     "metadata": {},
     "output_type": "display_data"
    },
    {
     "data": {
      "text/html": [
       "<iframe\n",
       "    scrolling=\"no\"\n",
       "    width=\"100%\"\n",
       "    height=\"545px\"\n",
       "    src=\"iframe_figures/figure_10.html\"\n",
       "    frameborder=\"0\"\n",
       "    allowfullscreen\n",
       "></iframe>\n"
      ]
     },
     "metadata": {},
     "output_type": "display_data"
    },
    {
     "data": {
      "text/html": [
       "<iframe\n",
       "    scrolling=\"no\"\n",
       "    width=\"100%\"\n",
       "    height=\"545px\"\n",
       "    src=\"iframe_figures/figure_10.html\"\n",
       "    frameborder=\"0\"\n",
       "    allowfullscreen\n",
       "></iframe>\n"
      ]
     },
     "metadata": {},
     "output_type": "display_data"
    },
    {
     "data": {
      "text/html": [
       "<iframe\n",
       "    scrolling=\"no\"\n",
       "    width=\"100%\"\n",
       "    height=\"545px\"\n",
       "    src=\"iframe_figures/figure_10.html\"\n",
       "    frameborder=\"0\"\n",
       "    allowfullscreen\n",
       "></iframe>\n"
      ]
     },
     "metadata": {},
     "output_type": "display_data"
    },
    {
     "name": "stdout",
     "output_type": "stream",
     "text": [
      "DONE!\n"
     ]
    }
   ],
   "source": [
    "overall_metrics[model_name]['similarity'] = calculate_similarity()"
   ]
  },
  {
   "cell_type": "markdown",
   "metadata": {
    "id": "Z1eBqfgraJlp"
   },
   "source": [
    "#### MLE"
   ]
  },
  {
   "cell_type": "code",
   "execution_count": 11,
   "metadata": {},
   "outputs": [
    {
     "name": "stderr",
     "output_type": "stream",
     "text": [
      "100%|██████████| 36/36 [00:12<00:00,  2.86it/s]\n"
     ]
    },
    {
     "name": "stdout",
     "output_type": "stream",
     "text": [
      "Saving scores to  eval/mle/default/tabddpm.json\n",
      "ROC - AUC обучения на синтетических данных TABDDPM: 0.766 ± 0.008\n"
     ]
    }
   ],
   "source": [
    "overall_metrics[model_name]['mle'] = calculate_mle()"
   ]
  },
  {
   "cell_type": "markdown",
   "metadata": {
    "id": "Lcrk8gbLdDS-"
   },
   "source": [
    "#### Detection: classifier two sample tests (C2ST)"
   ]
  },
  {
   "cell_type": "code",
   "execution_count": 12,
   "metadata": {},
   "outputs": [
    {
     "name": "stdout",
     "output_type": "stream",
     "text": [
      "default, tabddpm: 0.9834288106995884\n"
     ]
    }
   ],
   "source": [
    "overall_metrics[model_name]['detection'] = calculate_detection()"
   ]
  },
  {
   "cell_type": "markdown",
   "metadata": {
    "id": "ROQgcQGLeP02"
   },
   "source": [
    "#### DCR"
   ]
  },
  {
   "cell_type": "code",
   "execution_count": 13,
   "metadata": {},
   "outputs": [
    {
     "name": "stdout",
     "output_type": "stream",
     "text": [
      "n_clusters: 25\n",
      "DCR Score, a value closer to 0.5 is better\n",
      "default-tabddpm, DCR Score = 0.5017407407407407\n"
     ]
    }
   ],
   "source": [
    "overall_metrics[model_name]['DCR'] = calculate_DCR()"
   ]
  },
  {
   "cell_type": "markdown",
   "metadata": {
    "id": "rKRNoZmzbpTm"
   },
   "source": [
    "#### Alpha precision & Beta recall"
   ]
  },
  {
   "cell_type": "code",
   "execution_count": 14,
   "metadata": {},
   "outputs": [
    {
     "data": {
      "text/plain": [
       "'synthetic/default/tabddpm.csv'"
      ]
     },
     "execution_count": 14,
     "metadata": {},
     "output_type": "execute_result"
    }
   ],
   "source": [
    "dataname = CONFIG.get_arg('dataname')\n",
    "model = CONFIG.get_arg('method')\n",
    "f'synthetic/{dataname}/{model}.csv'"
   ]
  },
  {
   "cell_type": "code",
   "execution_count": 15,
   "metadata": {},
   "outputs": [
    {
     "name": "stdout",
     "output_type": "stream",
     "text": [
      "=========== All Features ===========\n",
      "Data shape:  (27000, 93)\n",
      "alpha precision: 0.977573, beta recall: 0.472452\n"
     ]
    }
   ],
   "source": [
    "overall_metrics[model_name]['quality'] = calculate_alpha_beta()"
   ]
  },
  {
   "cell_type": "markdown",
   "metadata": {},
   "source": [
    "### Табличка"
   ]
  },
  {
   "cell_type": "code",
   "execution_count": 16,
   "metadata": {},
   "outputs": [],
   "source": [
    "model_short = model_name"
   ]
  },
  {
   "cell_type": "code",
   "execution_count": 17,
   "metadata": {},
   "outputs": [],
   "source": [
    "final_metrics_table = []\n",
    "for m in overall_metrics.keys():\n",
    "    # Сбор таблички результатов\n",
    "    tmp = pd.DataFrame([{'Model':'TabDDPM', 'Type':m, 'Data':dataname}])\n",
    "    tmp.columns = pd.MultiIndex.from_tuples([('', i) for i in tmp.columns])\n",
    "    result = [tmp]\n",
    "    \n",
    "    for metric_group in overall_metrics[m].keys():\n",
    "        tmp = pd.DataFrame([overall_metrics[m][metric_group]])\n",
    "        tmp.columns = pd.MultiIndex.from_tuples([(metric_group, i) for i in tmp.columns])\n",
    "        result.append(tmp)\n",
    "    result = pd.concat(result, axis = 1)\n",
    "    final_metrics_table.append(result)\n",
    "    \n",
    "final_metrics_table = pd.concat(final_metrics_table)"
   ]
  },
  {
   "cell_type": "code",
   "execution_count": 18,
   "metadata": {},
   "outputs": [
    {
     "data": {
      "text/html": [
       "<div>\n",
       "<style scoped>\n",
       "    .dataframe tbody tr th:only-of-type {\n",
       "        vertical-align: middle;\n",
       "    }\n",
       "\n",
       "    .dataframe tbody tr th {\n",
       "        vertical-align: top;\n",
       "    }\n",
       "\n",
       "    .dataframe thead tr th {\n",
       "        text-align: left;\n",
       "    }\n",
       "</style>\n",
       "<table border=\"1\" class=\"dataframe\">\n",
       "  <thead>\n",
       "    <tr>\n",
       "      <th></th>\n",
       "      <th colspan=\"3\" halign=\"left\"></th>\n",
       "      <th colspan=\"6\" halign=\"left\">base_metrics</th>\n",
       "      <th colspan=\"7\" halign=\"left\">similarity</th>\n",
       "      <th colspan=\"2\" halign=\"left\">mle</th>\n",
       "      <th>detection</th>\n",
       "      <th>DCR</th>\n",
       "      <th colspan=\"2\" halign=\"left\">quality</th>\n",
       "    </tr>\n",
       "    <tr>\n",
       "      <th></th>\n",
       "      <th>Model</th>\n",
       "      <th>Type</th>\n",
       "      <th>Data</th>\n",
       "      <th>Original Logistic</th>\n",
       "      <th>Synthetic Logistic</th>\n",
       "      <th>Original Tree</th>\n",
       "      <th>Synthetic Tree</th>\n",
       "      <th>Accuracy Loss Logistic, %</th>\n",
       "      <th>Accuracy Loss Tree, %</th>\n",
       "      <th>Column Shapes Score, %</th>\n",
       "      <th>Column Pair Trends Score, %</th>\n",
       "      <th>Overall Score (Average), %</th>\n",
       "      <th>Error rate (%) of column-wise density estimation, %</th>\n",
       "      <th>Error rate (%) of column-wise density estimation std, %</th>\n",
       "      <th>Error rate (%) of pair-wise column correlation score, %</th>\n",
       "      <th>Error rate (%) of pair-wise column correlation score std, %</th>\n",
       "      <th>ROC - AUC обучения на синтетических данных</th>\n",
       "      <th>ROC - AUC обучения на синтетических данных, std</th>\n",
       "      <th>Score</th>\n",
       "      <th>Score</th>\n",
       "      <th>alpha precision</th>\n",
       "      <th>beta recall</th>\n",
       "    </tr>\n",
       "  </thead>\n",
       "  <tbody>\n",
       "    <tr>\n",
       "      <th>0</th>\n",
       "      <td>TabDDPM</td>\n",
       "      <td>tabddpm</td>\n",
       "      <td>default</td>\n",
       "      <td>0.4747</td>\n",
       "      <td>0.4734</td>\n",
       "      <td>0.4632</td>\n",
       "      <td>0.4393</td>\n",
       "      <td>0.2715</td>\n",
       "      <td>5.1602</td>\n",
       "      <td>98.5509</td>\n",
       "      <td>97.0851</td>\n",
       "      <td>97.818</td>\n",
       "      <td>1.4491</td>\n",
       "      <td>0.5776</td>\n",
       "      <td>2.9149</td>\n",
       "      <td>2.9494</td>\n",
       "      <td>0.7655</td>\n",
       "      <td>0.0081</td>\n",
       "      <td>0.9834</td>\n",
       "      <td>0.5017</td>\n",
       "      <td>0.9776</td>\n",
       "      <td>0.4725</td>\n",
       "    </tr>\n",
       "  </tbody>\n",
       "</table>\n",
       "</div>"
      ],
      "text/plain": [
       "                                  base_metrics                     \\\n",
       "     Model     Type     Data Original Logistic Synthetic Logistic   \n",
       "0  TabDDPM  tabddpm  default            0.4747             0.4734   \n",
       "\n",
       "                                                          \\\n",
       "  Original Tree Synthetic Tree Accuracy Loss Logistic, %   \n",
       "0        0.4632         0.4393                    0.2715   \n",
       "\n",
       "                                    similarity                              \\\n",
       "  Accuracy Loss Tree, % Column Shapes Score, % Column Pair Trends Score, %   \n",
       "0                5.1602                98.5509                     97.0851   \n",
       "\n",
       "                              \\\n",
       "  Overall Score (Average), %   \n",
       "0                     97.818   \n",
       "\n",
       "                                                       \\\n",
       "  Error rate (%) of column-wise density estimation, %   \n",
       "0                                              1.4491   \n",
       "\n",
       "                                                           \\\n",
       "  Error rate (%) of column-wise density estimation std, %   \n",
       "0                                                  0.5776   \n",
       "\n",
       "                                                           \\\n",
       "  Error rate (%) of pair-wise column correlation score, %   \n",
       "0                                                  2.9149   \n",
       "\n",
       "                                                               \\\n",
       "  Error rate (%) of pair-wise column correlation score std, %   \n",
       "0                                                      2.9494   \n",
       "\n",
       "                                         mle  \\\n",
       "  ROC - AUC обучения на синтетических данных   \n",
       "0                                     0.7655   \n",
       "\n",
       "                                                  detection     DCR  \\\n",
       "  ROC - AUC обучения на синтетических данных, std     Score   Score   \n",
       "0                                          0.0081    0.9834  0.5017   \n",
       "\n",
       "          quality              \n",
       "  alpha precision beta recall  \n",
       "0          0.9776      0.4725  "
      ]
     },
     "execution_count": 18,
     "metadata": {},
     "output_type": "execute_result"
    }
   ],
   "source": [
    "pd.set_option('display.max_columns', None)\n",
    "final_metrics_table.round(4)"
   ]
  },
  {
   "cell_type": "code",
   "execution_count": 19,
   "metadata": {},
   "outputs": [
    {
     "data": {
      "text/plain": [
       "'./eval/total/default/tabddpm_final_metrcs_table.csv'"
      ]
     },
     "execution_count": 19,
     "metadata": {},
     "output_type": "execute_result"
    }
   ],
   "source": [
    "f'./eval/total/{dataname}/{model_short}_final_metrcs_table.csv'"
   ]
  },
  {
   "cell_type": "code",
   "execution_count": 21,
   "metadata": {},
   "outputs": [],
   "source": [
    "import os\n",
    "if not os.path.exists(f'./eval/total/{dataname}'):\n",
    "    os.makedirs(f'./eval/total/{dataname}')\n",
    "final_metrics_table.to_csv(f'./eval/total/{dataname}/{model_short}_final_metrcs_table.csv', index=False)"
   ]
  },
  {
   "cell_type": "code",
   "execution_count": null,
   "metadata": {},
   "outputs": [],
   "source": []
  }
 ],
 "metadata": {
  "colab": {
   "authorship_tag": "ABX9TyM87OAyAZDeZ/KEr1BVC60/",
   "mount_file_id": "1-H09AG2TbV5ZzQ-ytJRNbFUCirBvOV9p",
   "provenance": []
  },
  "kernelspec": {
   "display_name": "Python3 (ipykernel)",
   "language": "python",
   "name": "python3"
  },
  "language_info": {
   "codemirror_mode": {
    "name": "ipython",
    "version": 3
   },
   "file_extension": ".py",
   "mimetype": "text/x-python",
   "name": "python",
   "nbconvert_exporter": "python",
   "pygments_lexer": "ipython3",
   "version": "3.10.12"
  },
  "widgets": {
   "application/vnd.jupyter.widget-state+json": {
    "state": {},
    "version_major": 2,
    "version_minor": 0
   }
  }
 },
 "nbformat": 4,
 "nbformat_minor": 4
}
