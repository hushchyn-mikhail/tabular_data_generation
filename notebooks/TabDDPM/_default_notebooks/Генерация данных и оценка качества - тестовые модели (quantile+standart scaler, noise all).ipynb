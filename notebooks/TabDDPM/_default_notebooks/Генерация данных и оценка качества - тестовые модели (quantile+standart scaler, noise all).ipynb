{
 "cells": [
  {
   "cell_type": "markdown",
   "metadata": {},
   "source": [
    "В этом ноубуке используются обeченные тестовые модели, с их помощью происходит сэмплирование и далее закодированные категориальные переменные переводятся в изначальные. После чего замеряется качество.\n",
    "\n",
    "Способ нормализации: quantile transformation для числовых признаков и standart scale для категориальных OHE\n",
    "\n",
    "Добавление шума: ко всем признакам"
   ]
  },
  {
   "cell_type": "code",
   "execution_count": 1,
   "metadata": {},
   "outputs": [
    {
     "name": "stdout",
     "output_type": "stream",
     "text": [
      "/workspace/TabDDPM_copy/TabDDPM\n"
     ]
    },
    {
     "name": "stderr",
     "output_type": "stream",
     "text": [
      "/venv/main/lib/python3.10/site-packages/IPython/core/magics/osm.py:417: UserWarning: This is now an optional IPython functionality, setting dhist requires you to install the `pickleshare` library.\n",
      "  self.shell.db['dhist'] = compress_dhist(dhist)[-100:]\n"
     ]
    }
   ],
   "source": [
    "%cd .."
   ]
  },
  {
   "cell_type": "code",
   "execution_count": 2,
   "metadata": {
    "executionInfo": {
     "elapsed": 11435,
     "status": "ok",
     "timestamp": 1742850942286,
     "user": {
      "displayName": "Elina Telesheva",
      "userId": "03968090829384653347"
     },
     "user_tz": -180
    },
    "id": "o77KHt0w3DWc"
   },
   "outputs": [],
   "source": [
    "import json\n",
    "import pandas as pd\n",
    "import torch\n",
    "import matplotlib.pyplot as plt\n",
    "\n",
    "from utils import *\n",
    "from models.tabddpm_ON_QnSC.tabddpm_ON_QnSC import *\n",
    "\n",
    "from tqdm.notebook import tqdm\n",
    "\n",
    "from eval.base_metrics import calculate_base_metrics\n",
    "from eval.similarity import calculate_similarity\n",
    "from eval.mle import calculate_mle\n",
    "from eval.alpha_beta import calculate_alpha_beta\n",
    "from eval.detection import calculate_detection\n",
    "from eval.dcr import calculate_DCR"
   ]
  },
  {
   "cell_type": "markdown",
   "metadata": {},
   "source": [
    "### Подготовка"
   ]
  },
  {
   "cell_type": "code",
   "execution_count": 20,
   "metadata": {},
   "outputs": [],
   "source": [
    "dataname = 'default_ON_QnSC_100k'\n",
    "dataname_initial = 'default'\n",
    "model_name = 'tabddpm_ON_QnSC'\n",
    "model_name_postfix = '_100k'"
   ]
  },
  {
   "cell_type": "code",
   "execution_count": 4,
   "metadata": {},
   "outputs": [
    {
     "name": "stdout",
     "output_type": "stream",
     "text": [
      "Device: cuda\n"
     ]
    }
   ],
   "source": [
    "if torch.cuda.is_available():\n",
    "    device = f'cuda'\n",
    "else:\n",
    "    device = 'cpu'\n",
    "CONFIG.add_arg('device', device)\n",
    "print(f\"Device: {device}\")\n",
    "\n",
    "CONFIG.add_arg('dataname', dataname)\n",
    "CONFIG.add_arg('real_path',\n",
    "                   f'./synthetic/{dataname}/initial_real.csv')\n",
    "CONFIG.add_arg('test_path',\n",
    "                   f'./synthetic/{dataname}/initial_test.csv')\n",
    "\n",
    "CONFIG.add_arg('info_path',\n",
    "                   f'./data/{dataname}/initial_info.json')"
   ]
  },
  {
   "cell_type": "code",
   "execution_count": 21,
   "metadata": {},
   "outputs": [],
   "source": [
    "model_save_path_hist = []\n",
    "idx = [5, 6]\n",
    "\n",
    "for sigma in [0.01, 0.25]:\n",
    "    model_save_path=f\"./models/{model_name}/ckpt/{dataname_initial}/{model_name}{model_name_postfix}_const_{str(sigma).replace('.', '_')}\"\n",
    "    model_save_path_hist.append(model_save_path)\n",
    "\n",
    "for i in idx:\n",
    "    model_save_path=f\"./models/{model_name}/ckpt/{dataname_initial}/{model_name}{model_name_postfix}_mult_{i}\"\n",
    "    model_save_path_hist.append(model_save_path)"
   ]
  },
  {
   "cell_type": "code",
   "execution_count": 15,
   "metadata": {},
   "outputs": [
    {
     "name": "stdout",
     "output_type": "stream",
     "text": [
      "normalizers received from `data/default_ON_QnSC_100k` folder\n"
     ]
    }
   ],
   "source": [
    "from pickle import dump, load\n",
    "with open(f'data/{dataname}/normalizers.json', 'r') as f:\n",
    "        normalizers = json.load(f)\n",
    "normalizers['num_normalizer'] = load(open(f'./data/{dataname}/num_normalizer_{dataname}.pkl', 'rb'))\n",
    "normalizers['cat_normalizer'] = load(open(f'./data/{dataname}/cat_normalizer_{dataname}.pkl', 'rb'))\n",
    "print(f\"normalizers received from `data/{dataname}` folder\")"
   ]
  },
  {
   "cell_type": "code",
   "execution_count": 16,
   "metadata": {},
   "outputs": [
    {
     "data": {
      "text/plain": [
       "{'len_num_prev': 14,\n",
       " 'len_cat_prev': 77,\n",
       " 'len_target_prev': 1,\n",
       " 'num_normalizer': QuantileTransformer(n_quantiles=900, output_distribution='normal',\n",
       "                     random_state=0, subsample=1000000000),\n",
       " 'cat_normalizer': StandardScaler()}"
      ]
     },
     "execution_count": 16,
     "metadata": {},
     "output_type": "execute_result"
    }
   ],
   "source": [
    "normalizers"
   ]
  },
  {
   "cell_type": "markdown",
   "metadata": {},
   "source": [
    "### Sample + Eval"
   ]
  },
  {
   "cell_type": "code",
   "execution_count": 22,
   "metadata": {},
   "outputs": [
    {
     "data": {
      "text/plain": [
       "{'dataname': 'default_ON_QnSC_100k',\n",
       " 'method': 'tabddpm_ON_QnSC_100k_const_0_100k_const_0_01',\n",
       " 'device': 'cuda',\n",
       " 'mode': 'train',\n",
       " 'train': 1,\n",
       " 'sample_save_path': './synthetic/default_ON_QnSC_100k/initial_tabddpm_ON_QnSC_100k_const_0_100k_const_0_01.csv',\n",
       " 'sigma_scheduller_name': 'constant',\n",
       " 'sigma_value': 0.001,\n",
       " 'num_noise': 1,\n",
       " 'real_path': './synthetic/default_ON_QnSC_100k/initial_real.csv',\n",
       " 'test_path': './synthetic/default_ON_QnSC_100k/initial_test.csv',\n",
       " 'info_path': './data/default_ON_QnSC_100k/initial_info.json',\n",
       " 'save_path': './synthetic/magic_ON_QnSC_100k/initial_tabddpm_ON_QnSC_100k_mult_6.csv',\n",
       " 'num_clusters': 25,\n",
       " 'save_cat': None}"
      ]
     },
     "execution_count": 22,
     "metadata": {},
     "output_type": "execute_result"
    }
   ],
   "source": [
    "CONFIG.get_all_args()"
   ]
  },
  {
   "cell_type": "code",
   "execution_count": 18,
   "metadata": {},
   "outputs": [
    {
     "data": {
      "text/plain": [
       "['./models/tabddpm_ON_QnSC_100k_const_0/ckpt/default/tabddpm_ON_QnSC_100k_const_0_100k_const_0_01',\n",
       " './models/tabddpm_ON_QnSC_100k_const_0/ckpt/default/tabddpm_ON_QnSC_100k_const_0_100k_const_0_25',\n",
       " './models/tabddpm_ON_QnSC_100k_const_0/ckpt/default/tabddpm_ON_QnSC_100k_const_0_100k_mult_5',\n",
       " './models/tabddpm_ON_QnSC_100k_const_0/ckpt/default/tabddpm_ON_QnSC_100k_const_0_100k_mult_6']"
      ]
     },
     "execution_count": 18,
     "metadata": {},
     "output_type": "execute_result"
    }
   ],
   "source": [
    "model_save_path_hist"
   ]
  },
  {
   "cell_type": "code",
   "execution_count": 23,
   "metadata": {
    "scrolled": true
   },
   "outputs": [
    {
     "name": "stderr",
     "output_type": "stream",
     "text": [
      "/venv/main/lib/python3.10/site-packages/sklearn/linear_model/_logistic.py:465: ConvergenceWarning: lbfgs failed to converge (status=1):\n",
      "STOP: TOTAL NO. OF ITERATIONS REACHED LIMIT.\n",
      "\n",
      "Increase the number of iterations (max_iter) or scale the data as shown in:\n",
      "    https://scikit-learn.org/stable/modules/preprocessing.html\n",
      "Please also refer to the documentation for alternative solver options:\n",
      "    https://scikit-learn.org/stable/modules/linear_model.html#logistic-regression\n",
      "  n_iter_i = _check_optimize_result(\n"
     ]
    },
    {
     "name": "stdout",
     "output_type": "stream",
     "text": [
      "TABDDPM_ON_QNSC_100K_CONST_0_01: DEFAULT_ON_QNSC_100K Dataset\n",
      "Original Logistic: 0.467\n",
      "Synthetic Logistic: 0.469\n",
      "Original Tree: 0.480\n",
      "Synthetic Tree: 0.445 \n",
      "\n",
      "TABDDPM_ON_QNSC_100K_CONST_0_01 Accuracy Loss: DEFAULT_ON_QNSC_100K\n",
      "Logistic: -0.522%\n",
      "Tree: 7.296% \n",
      "\n",
      "CALCULATING COLUMN-WISE DENSITY ESTIMATION & PAIR-WISE COLUMN CORRELATION...\n",
      "Generating report ...\n",
      "\n",
      "(1/2) Evaluating Column Shapes: |██████████| 24/24 [00:00<00:00, 55.48it/s]|\n",
      "Column Shapes Score: 98.58%\n",
      "\n",
      "(2/2) Evaluating Column Pair Trends: |██████████| 276/276 [00:01<00:00, 139.71it/s]|\n",
      "Column Pair Trends Score: 97.79%\n",
      "\n",
      "Overall Score (Average): 98.18%\n",
      "\n",
      "Error rate (%) of column-wise density estimation TABDDPM_ON_QNSC_100K_CONST_0_01: 1.419 ± 0.568\n",
      "Error rate (%) of pair-wise column correlation score TABDDPM_ON_QNSC_100K_CONST_0_01: 2.213 ± 1.375\n"
     ]
    },
    {
     "data": {
      "text/html": [
       "<iframe\n",
       "    scrolling=\"no\"\n",
       "    width=\"100%\"\n",
       "    height=\"545px\"\n",
       "    src=\"iframe_figures/figure_23.html\"\n",
       "    frameborder=\"0\"\n",
       "    allowfullscreen\n",
       "></iframe>\n"
      ]
     },
     "metadata": {},
     "output_type": "display_data"
    },
    {
     "data": {
      "text/html": [
       "<iframe\n",
       "    scrolling=\"no\"\n",
       "    width=\"920px\"\n",
       "    height=\"920\"\n",
       "    src=\"iframe_figures/figure_23.html\"\n",
       "    frameborder=\"0\"\n",
       "    allowfullscreen\n",
       "></iframe>\n"
      ]
     },
     "metadata": {},
     "output_type": "display_data"
    },
    {
     "name": "stdout",
     "output_type": "stream",
     "text": [
      "DONE! \n",
      "\n",
      "DRAW COLUMN VALUES DISTRIBUTIONS...\n"
     ]
    },
    {
     "data": {
      "text/html": [
       "<iframe\n",
       "    scrolling=\"no\"\n",
       "    width=\"100%\"\n",
       "    height=\"545px\"\n",
       "    src=\"iframe_figures/figure_23.html\"\n",
       "    frameborder=\"0\"\n",
       "    allowfullscreen\n",
       "></iframe>\n"
      ]
     },
     "metadata": {},
     "output_type": "display_data"
    },
    {
     "data": {
      "text/html": [
       "<iframe\n",
       "    scrolling=\"no\"\n",
       "    width=\"100%\"\n",
       "    height=\"545px\"\n",
       "    src=\"iframe_figures/figure_23.html\"\n",
       "    frameborder=\"0\"\n",
       "    allowfullscreen\n",
       "></iframe>\n"
      ]
     },
     "metadata": {},
     "output_type": "display_data"
    },
    {
     "data": {
      "text/html": [
       "<iframe\n",
       "    scrolling=\"no\"\n",
       "    width=\"100%\"\n",
       "    height=\"545px\"\n",
       "    src=\"iframe_figures/figure_23.html\"\n",
       "    frameborder=\"0\"\n",
       "    allowfullscreen\n",
       "></iframe>\n"
      ]
     },
     "metadata": {},
     "output_type": "display_data"
    },
    {
     "data": {
      "text/html": [
       "<iframe\n",
       "    scrolling=\"no\"\n",
       "    width=\"100%\"\n",
       "    height=\"545px\"\n",
       "    src=\"iframe_figures/figure_23.html\"\n",
       "    frameborder=\"0\"\n",
       "    allowfullscreen\n",
       "></iframe>\n"
      ]
     },
     "metadata": {},
     "output_type": "display_data"
    },
    {
     "data": {
      "text/html": [
       "<iframe\n",
       "    scrolling=\"no\"\n",
       "    width=\"100%\"\n",
       "    height=\"545px\"\n",
       "    src=\"iframe_figures/figure_23.html\"\n",
       "    frameborder=\"0\"\n",
       "    allowfullscreen\n",
       "></iframe>\n"
      ]
     },
     "metadata": {},
     "output_type": "display_data"
    },
    {
     "data": {
      "text/html": [
       "<iframe\n",
       "    scrolling=\"no\"\n",
       "    width=\"100%\"\n",
       "    height=\"545px\"\n",
       "    src=\"iframe_figures/figure_23.html\"\n",
       "    frameborder=\"0\"\n",
       "    allowfullscreen\n",
       "></iframe>\n"
      ]
     },
     "metadata": {},
     "output_type": "display_data"
    },
    {
     "data": {
      "text/html": [
       "<iframe\n",
       "    scrolling=\"no\"\n",
       "    width=\"100%\"\n",
       "    height=\"545px\"\n",
       "    src=\"iframe_figures/figure_23.html\"\n",
       "    frameborder=\"0\"\n",
       "    allowfullscreen\n",
       "></iframe>\n"
      ]
     },
     "metadata": {},
     "output_type": "display_data"
    },
    {
     "data": {
      "text/html": [
       "<iframe\n",
       "    scrolling=\"no\"\n",
       "    width=\"100%\"\n",
       "    height=\"545px\"\n",
       "    src=\"iframe_figures/figure_23.html\"\n",
       "    frameborder=\"0\"\n",
       "    allowfullscreen\n",
       "></iframe>\n"
      ]
     },
     "metadata": {},
     "output_type": "display_data"
    },
    {
     "data": {
      "text/html": [
       "<iframe\n",
       "    scrolling=\"no\"\n",
       "    width=\"100%\"\n",
       "    height=\"545px\"\n",
       "    src=\"iframe_figures/figure_23.html\"\n",
       "    frameborder=\"0\"\n",
       "    allowfullscreen\n",
       "></iframe>\n"
      ]
     },
     "metadata": {},
     "output_type": "display_data"
    },
    {
     "data": {
      "text/html": [
       "<iframe\n",
       "    scrolling=\"no\"\n",
       "    width=\"100%\"\n",
       "    height=\"545px\"\n",
       "    src=\"iframe_figures/figure_23.html\"\n",
       "    frameborder=\"0\"\n",
       "    allowfullscreen\n",
       "></iframe>\n"
      ]
     },
     "metadata": {},
     "output_type": "display_data"
    },
    {
     "data": {
      "text/html": [
       "<iframe\n",
       "    scrolling=\"no\"\n",
       "    width=\"100%\"\n",
       "    height=\"545px\"\n",
       "    src=\"iframe_figures/figure_23.html\"\n",
       "    frameborder=\"0\"\n",
       "    allowfullscreen\n",
       "></iframe>\n"
      ]
     },
     "metadata": {},
     "output_type": "display_data"
    },
    {
     "data": {
      "text/html": [
       "<iframe\n",
       "    scrolling=\"no\"\n",
       "    width=\"100%\"\n",
       "    height=\"545px\"\n",
       "    src=\"iframe_figures/figure_23.html\"\n",
       "    frameborder=\"0\"\n",
       "    allowfullscreen\n",
       "></iframe>\n"
      ]
     },
     "metadata": {},
     "output_type": "display_data"
    },
    {
     "data": {
      "text/html": [
       "<iframe\n",
       "    scrolling=\"no\"\n",
       "    width=\"100%\"\n",
       "    height=\"545px\"\n",
       "    src=\"iframe_figures/figure_23.html\"\n",
       "    frameborder=\"0\"\n",
       "    allowfullscreen\n",
       "></iframe>\n"
      ]
     },
     "metadata": {},
     "output_type": "display_data"
    },
    {
     "data": {
      "text/html": [
       "<iframe\n",
       "    scrolling=\"no\"\n",
       "    width=\"100%\"\n",
       "    height=\"545px\"\n",
       "    src=\"iframe_figures/figure_23.html\"\n",
       "    frameborder=\"0\"\n",
       "    allowfullscreen\n",
       "></iframe>\n"
      ]
     },
     "metadata": {},
     "output_type": "display_data"
    },
    {
     "data": {
      "text/html": [
       "<iframe\n",
       "    scrolling=\"no\"\n",
       "    width=\"100%\"\n",
       "    height=\"545px\"\n",
       "    src=\"iframe_figures/figure_23.html\"\n",
       "    frameborder=\"0\"\n",
       "    allowfullscreen\n",
       "></iframe>\n"
      ]
     },
     "metadata": {},
     "output_type": "display_data"
    },
    {
     "data": {
      "text/html": [
       "<iframe\n",
       "    scrolling=\"no\"\n",
       "    width=\"100%\"\n",
       "    height=\"545px\"\n",
       "    src=\"iframe_figures/figure_23.html\"\n",
       "    frameborder=\"0\"\n",
       "    allowfullscreen\n",
       "></iframe>\n"
      ]
     },
     "metadata": {},
     "output_type": "display_data"
    },
    {
     "data": {
      "text/html": [
       "<iframe\n",
       "    scrolling=\"no\"\n",
       "    width=\"100%\"\n",
       "    height=\"545px\"\n",
       "    src=\"iframe_figures/figure_23.html\"\n",
       "    frameborder=\"0\"\n",
       "    allowfullscreen\n",
       "></iframe>\n"
      ]
     },
     "metadata": {},
     "output_type": "display_data"
    },
    {
     "data": {
      "text/html": [
       "<iframe\n",
       "    scrolling=\"no\"\n",
       "    width=\"100%\"\n",
       "    height=\"545px\"\n",
       "    src=\"iframe_figures/figure_23.html\"\n",
       "    frameborder=\"0\"\n",
       "    allowfullscreen\n",
       "></iframe>\n"
      ]
     },
     "metadata": {},
     "output_type": "display_data"
    },
    {
     "data": {
      "text/html": [
       "<iframe\n",
       "    scrolling=\"no\"\n",
       "    width=\"100%\"\n",
       "    height=\"545px\"\n",
       "    src=\"iframe_figures/figure_23.html\"\n",
       "    frameborder=\"0\"\n",
       "    allowfullscreen\n",
       "></iframe>\n"
      ]
     },
     "metadata": {},
     "output_type": "display_data"
    },
    {
     "data": {
      "text/html": [
       "<iframe\n",
       "    scrolling=\"no\"\n",
       "    width=\"100%\"\n",
       "    height=\"545px\"\n",
       "    src=\"iframe_figures/figure_23.html\"\n",
       "    frameborder=\"0\"\n",
       "    allowfullscreen\n",
       "></iframe>\n"
      ]
     },
     "metadata": {},
     "output_type": "display_data"
    },
    {
     "data": {
      "text/html": [
       "<iframe\n",
       "    scrolling=\"no\"\n",
       "    width=\"100%\"\n",
       "    height=\"545px\"\n",
       "    src=\"iframe_figures/figure_23.html\"\n",
       "    frameborder=\"0\"\n",
       "    allowfullscreen\n",
       "></iframe>\n"
      ]
     },
     "metadata": {},
     "output_type": "display_data"
    },
    {
     "data": {
      "text/html": [
       "<iframe\n",
       "    scrolling=\"no\"\n",
       "    width=\"100%\"\n",
       "    height=\"545px\"\n",
       "    src=\"iframe_figures/figure_23.html\"\n",
       "    frameborder=\"0\"\n",
       "    allowfullscreen\n",
       "></iframe>\n"
      ]
     },
     "metadata": {},
     "output_type": "display_data"
    },
    {
     "data": {
      "text/html": [
       "<iframe\n",
       "    scrolling=\"no\"\n",
       "    width=\"100%\"\n",
       "    height=\"545px\"\n",
       "    src=\"iframe_figures/figure_23.html\"\n",
       "    frameborder=\"0\"\n",
       "    allowfullscreen\n",
       "></iframe>\n"
      ]
     },
     "metadata": {},
     "output_type": "display_data"
    },
    {
     "data": {
      "text/html": [
       "<iframe\n",
       "    scrolling=\"no\"\n",
       "    width=\"100%\"\n",
       "    height=\"545px\"\n",
       "    src=\"iframe_figures/figure_23.html\"\n",
       "    frameborder=\"0\"\n",
       "    allowfullscreen\n",
       "></iframe>\n"
      ]
     },
     "metadata": {},
     "output_type": "display_data"
    },
    {
     "name": "stdout",
     "output_type": "stream",
     "text": [
      "DONE!\n"
     ]
    },
    {
     "name": "stderr",
     "output_type": "stream",
     "text": [
      "100%|██████████| 36/36 [00:12<00:00,  2.96it/s]\n"
     ]
    },
    {
     "name": "stdout",
     "output_type": "stream",
     "text": [
      "Saving scores to  eval/mle/default_ON_QnSC_100k/tabddpm_ON_QnSC_100k_const_0_01.json\n",
      "ROC - AUC обучения на синтетических данных TABDDPM_ON_QNSC_100K_CONST_0_01: 0.704 ± 0.012\n",
      "default_ON_QnSC_100k, tabddpm_ON_QnSC_100k_const_0_01: 0.9662994485596709\n",
      "n_clusters: 25\n",
      "n_clusters: 25\n",
      "n_clusters: 25\n",
      "n_clusters: 25\n",
      "n_clusters: 25\n",
      "DCR Score, a value closer to 0.5 is better\n",
      "default_ON_QnSC_100k-tabddpm_ON_QnSC_100k_const_0_01, DCR Score = 0.5211851851851852\n",
      "=========== All Features ===========\n",
      "Data shape:  (27000, 93)\n",
      "alpha precision: 0.976261, beta recall: 0.466869\n"
     ]
    },
    {
     "name": "stderr",
     "output_type": "stream",
     "text": [
      "/venv/main/lib/python3.10/site-packages/sklearn/linear_model/_logistic.py:465: ConvergenceWarning: lbfgs failed to converge (status=1):\n",
      "STOP: TOTAL NO. OF ITERATIONS REACHED LIMIT.\n",
      "\n",
      "Increase the number of iterations (max_iter) or scale the data as shown in:\n",
      "    https://scikit-learn.org/stable/modules/preprocessing.html\n",
      "Please also refer to the documentation for alternative solver options:\n",
      "    https://scikit-learn.org/stable/modules/linear_model.html#logistic-regression\n",
      "  n_iter_i = _check_optimize_result(\n"
     ]
    },
    {
     "name": "stdout",
     "output_type": "stream",
     "text": [
      "TABDDPM_ON_QNSC_100K_CONST_0_25: DEFAULT_ON_QNSC_100K Dataset\n",
      "Original Logistic: 0.467\n",
      "Synthetic Logistic: 0.461\n",
      "Original Tree: 0.480\n",
      "Synthetic Tree: 0.451 \n",
      "\n",
      "TABDDPM_ON_QNSC_100K_CONST_0_25 Accuracy Loss: DEFAULT_ON_QNSC_100K\n",
      "Logistic: 1.371%\n",
      "Tree: 6.035% \n",
      "\n",
      "CALCULATING COLUMN-WISE DENSITY ESTIMATION & PAIR-WISE COLUMN CORRELATION...\n",
      "Generating report ...\n",
      "\n",
      "(1/2) Evaluating Column Shapes: |██████████| 24/24 [00:00<00:00, 70.06it/s]|\n",
      "Column Shapes Score: 98.23%\n",
      "\n",
      "(2/2) Evaluating Column Pair Trends: |██████████| 276/276 [00:01<00:00, 150.78it/s]|\n",
      "Column Pair Trends Score: 97.49%\n",
      "\n",
      "Overall Score (Average): 97.86%\n",
      "\n",
      "Error rate (%) of column-wise density estimation TABDDPM_ON_QNSC_100K_CONST_0_25: 1.771 ± 0.961\n",
      "Error rate (%) of pair-wise column correlation score TABDDPM_ON_QNSC_100K_CONST_0_25: 2.509 ± 1.442\n"
     ]
    },
    {
     "data": {
      "text/html": [
       "<iframe\n",
       "    scrolling=\"no\"\n",
       "    width=\"100%\"\n",
       "    height=\"545px\"\n",
       "    src=\"iframe_figures/figure_23.html\"\n",
       "    frameborder=\"0\"\n",
       "    allowfullscreen\n",
       "></iframe>\n"
      ]
     },
     "metadata": {},
     "output_type": "display_data"
    },
    {
     "data": {
      "text/html": [
       "<iframe\n",
       "    scrolling=\"no\"\n",
       "    width=\"920px\"\n",
       "    height=\"920\"\n",
       "    src=\"iframe_figures/figure_23.html\"\n",
       "    frameborder=\"0\"\n",
       "    allowfullscreen\n",
       "></iframe>\n"
      ]
     },
     "metadata": {},
     "output_type": "display_data"
    },
    {
     "name": "stdout",
     "output_type": "stream",
     "text": [
      "DONE! \n",
      "\n",
      "DRAW COLUMN VALUES DISTRIBUTIONS...\n"
     ]
    },
    {
     "data": {
      "text/html": [
       "<iframe\n",
       "    scrolling=\"no\"\n",
       "    width=\"100%\"\n",
       "    height=\"545px\"\n",
       "    src=\"iframe_figures/figure_23.html\"\n",
       "    frameborder=\"0\"\n",
       "    allowfullscreen\n",
       "></iframe>\n"
      ]
     },
     "metadata": {},
     "output_type": "display_data"
    },
    {
     "data": {
      "text/html": [
       "<iframe\n",
       "    scrolling=\"no\"\n",
       "    width=\"100%\"\n",
       "    height=\"545px\"\n",
       "    src=\"iframe_figures/figure_23.html\"\n",
       "    frameborder=\"0\"\n",
       "    allowfullscreen\n",
       "></iframe>\n"
      ]
     },
     "metadata": {},
     "output_type": "display_data"
    },
    {
     "data": {
      "text/html": [
       "<iframe\n",
       "    scrolling=\"no\"\n",
       "    width=\"100%\"\n",
       "    height=\"545px\"\n",
       "    src=\"iframe_figures/figure_23.html\"\n",
       "    frameborder=\"0\"\n",
       "    allowfullscreen\n",
       "></iframe>\n"
      ]
     },
     "metadata": {},
     "output_type": "display_data"
    },
    {
     "data": {
      "text/html": [
       "<iframe\n",
       "    scrolling=\"no\"\n",
       "    width=\"100%\"\n",
       "    height=\"545px\"\n",
       "    src=\"iframe_figures/figure_23.html\"\n",
       "    frameborder=\"0\"\n",
       "    allowfullscreen\n",
       "></iframe>\n"
      ]
     },
     "metadata": {},
     "output_type": "display_data"
    },
    {
     "data": {
      "text/html": [
       "<iframe\n",
       "    scrolling=\"no\"\n",
       "    width=\"100%\"\n",
       "    height=\"545px\"\n",
       "    src=\"iframe_figures/figure_23.html\"\n",
       "    frameborder=\"0\"\n",
       "    allowfullscreen\n",
       "></iframe>\n"
      ]
     },
     "metadata": {},
     "output_type": "display_data"
    },
    {
     "data": {
      "text/html": [
       "<iframe\n",
       "    scrolling=\"no\"\n",
       "    width=\"100%\"\n",
       "    height=\"545px\"\n",
       "    src=\"iframe_figures/figure_23.html\"\n",
       "    frameborder=\"0\"\n",
       "    allowfullscreen\n",
       "></iframe>\n"
      ]
     },
     "metadata": {},
     "output_type": "display_data"
    },
    {
     "data": {
      "text/html": [
       "<iframe\n",
       "    scrolling=\"no\"\n",
       "    width=\"100%\"\n",
       "    height=\"545px\"\n",
       "    src=\"iframe_figures/figure_23.html\"\n",
       "    frameborder=\"0\"\n",
       "    allowfullscreen\n",
       "></iframe>\n"
      ]
     },
     "metadata": {},
     "output_type": "display_data"
    },
    {
     "data": {
      "text/html": [
       "<iframe\n",
       "    scrolling=\"no\"\n",
       "    width=\"100%\"\n",
       "    height=\"545px\"\n",
       "    src=\"iframe_figures/figure_23.html\"\n",
       "    frameborder=\"0\"\n",
       "    allowfullscreen\n",
       "></iframe>\n"
      ]
     },
     "metadata": {},
     "output_type": "display_data"
    },
    {
     "data": {
      "text/html": [
       "<iframe\n",
       "    scrolling=\"no\"\n",
       "    width=\"100%\"\n",
       "    height=\"545px\"\n",
       "    src=\"iframe_figures/figure_23.html\"\n",
       "    frameborder=\"0\"\n",
       "    allowfullscreen\n",
       "></iframe>\n"
      ]
     },
     "metadata": {},
     "output_type": "display_data"
    },
    {
     "data": {
      "text/html": [
       "<iframe\n",
       "    scrolling=\"no\"\n",
       "    width=\"100%\"\n",
       "    height=\"545px\"\n",
       "    src=\"iframe_figures/figure_23.html\"\n",
       "    frameborder=\"0\"\n",
       "    allowfullscreen\n",
       "></iframe>\n"
      ]
     },
     "metadata": {},
     "output_type": "display_data"
    },
    {
     "data": {
      "text/html": [
       "<iframe\n",
       "    scrolling=\"no\"\n",
       "    width=\"100%\"\n",
       "    height=\"545px\"\n",
       "    src=\"iframe_figures/figure_23.html\"\n",
       "    frameborder=\"0\"\n",
       "    allowfullscreen\n",
       "></iframe>\n"
      ]
     },
     "metadata": {},
     "output_type": "display_data"
    },
    {
     "data": {
      "text/html": [
       "<iframe\n",
       "    scrolling=\"no\"\n",
       "    width=\"100%\"\n",
       "    height=\"545px\"\n",
       "    src=\"iframe_figures/figure_23.html\"\n",
       "    frameborder=\"0\"\n",
       "    allowfullscreen\n",
       "></iframe>\n"
      ]
     },
     "metadata": {},
     "output_type": "display_data"
    },
    {
     "data": {
      "text/html": [
       "<iframe\n",
       "    scrolling=\"no\"\n",
       "    width=\"100%\"\n",
       "    height=\"545px\"\n",
       "    src=\"iframe_figures/figure_23.html\"\n",
       "    frameborder=\"0\"\n",
       "    allowfullscreen\n",
       "></iframe>\n"
      ]
     },
     "metadata": {},
     "output_type": "display_data"
    },
    {
     "data": {
      "text/html": [
       "<iframe\n",
       "    scrolling=\"no\"\n",
       "    width=\"100%\"\n",
       "    height=\"545px\"\n",
       "    src=\"iframe_figures/figure_23.html\"\n",
       "    frameborder=\"0\"\n",
       "    allowfullscreen\n",
       "></iframe>\n"
      ]
     },
     "metadata": {},
     "output_type": "display_data"
    },
    {
     "data": {
      "text/html": [
       "<iframe\n",
       "    scrolling=\"no\"\n",
       "    width=\"100%\"\n",
       "    height=\"545px\"\n",
       "    src=\"iframe_figures/figure_23.html\"\n",
       "    frameborder=\"0\"\n",
       "    allowfullscreen\n",
       "></iframe>\n"
      ]
     },
     "metadata": {},
     "output_type": "display_data"
    },
    {
     "data": {
      "text/html": [
       "<iframe\n",
       "    scrolling=\"no\"\n",
       "    width=\"100%\"\n",
       "    height=\"545px\"\n",
       "    src=\"iframe_figures/figure_23.html\"\n",
       "    frameborder=\"0\"\n",
       "    allowfullscreen\n",
       "></iframe>\n"
      ]
     },
     "metadata": {},
     "output_type": "display_data"
    },
    {
     "data": {
      "text/html": [
       "<iframe\n",
       "    scrolling=\"no\"\n",
       "    width=\"100%\"\n",
       "    height=\"545px\"\n",
       "    src=\"iframe_figures/figure_23.html\"\n",
       "    frameborder=\"0\"\n",
       "    allowfullscreen\n",
       "></iframe>\n"
      ]
     },
     "metadata": {},
     "output_type": "display_data"
    },
    {
     "data": {
      "text/html": [
       "<iframe\n",
       "    scrolling=\"no\"\n",
       "    width=\"100%\"\n",
       "    height=\"545px\"\n",
       "    src=\"iframe_figures/figure_23.html\"\n",
       "    frameborder=\"0\"\n",
       "    allowfullscreen\n",
       "></iframe>\n"
      ]
     },
     "metadata": {},
     "output_type": "display_data"
    },
    {
     "data": {
      "text/html": [
       "<iframe\n",
       "    scrolling=\"no\"\n",
       "    width=\"100%\"\n",
       "    height=\"545px\"\n",
       "    src=\"iframe_figures/figure_23.html\"\n",
       "    frameborder=\"0\"\n",
       "    allowfullscreen\n",
       "></iframe>\n"
      ]
     },
     "metadata": {},
     "output_type": "display_data"
    },
    {
     "data": {
      "text/html": [
       "<iframe\n",
       "    scrolling=\"no\"\n",
       "    width=\"100%\"\n",
       "    height=\"545px\"\n",
       "    src=\"iframe_figures/figure_23.html\"\n",
       "    frameborder=\"0\"\n",
       "    allowfullscreen\n",
       "></iframe>\n"
      ]
     },
     "metadata": {},
     "output_type": "display_data"
    },
    {
     "data": {
      "text/html": [
       "<iframe\n",
       "    scrolling=\"no\"\n",
       "    width=\"100%\"\n",
       "    height=\"545px\"\n",
       "    src=\"iframe_figures/figure_23.html\"\n",
       "    frameborder=\"0\"\n",
       "    allowfullscreen\n",
       "></iframe>\n"
      ]
     },
     "metadata": {},
     "output_type": "display_data"
    },
    {
     "data": {
      "text/html": [
       "<iframe\n",
       "    scrolling=\"no\"\n",
       "    width=\"100%\"\n",
       "    height=\"545px\"\n",
       "    src=\"iframe_figures/figure_23.html\"\n",
       "    frameborder=\"0\"\n",
       "    allowfullscreen\n",
       "></iframe>\n"
      ]
     },
     "metadata": {},
     "output_type": "display_data"
    },
    {
     "data": {
      "text/html": [
       "<iframe\n",
       "    scrolling=\"no\"\n",
       "    width=\"100%\"\n",
       "    height=\"545px\"\n",
       "    src=\"iframe_figures/figure_23.html\"\n",
       "    frameborder=\"0\"\n",
       "    allowfullscreen\n",
       "></iframe>\n"
      ]
     },
     "metadata": {},
     "output_type": "display_data"
    },
    {
     "data": {
      "text/html": [
       "<iframe\n",
       "    scrolling=\"no\"\n",
       "    width=\"100%\"\n",
       "    height=\"545px\"\n",
       "    src=\"iframe_figures/figure_23.html\"\n",
       "    frameborder=\"0\"\n",
       "    allowfullscreen\n",
       "></iframe>\n"
      ]
     },
     "metadata": {},
     "output_type": "display_data"
    },
    {
     "name": "stdout",
     "output_type": "stream",
     "text": [
      "DONE!\n"
     ]
    },
    {
     "name": "stderr",
     "output_type": "stream",
     "text": [
      "100%|██████████| 36/36 [00:12<00:00,  2.83it/s]\n"
     ]
    },
    {
     "name": "stdout",
     "output_type": "stream",
     "text": [
      "Saving scores to  eval/mle/default_ON_QnSC_100k/tabddpm_ON_QnSC_100k_const_0_25.json\n",
      "ROC - AUC обучения на синтетических данных TABDDPM_ON_QNSC_100K_CONST_0_25: 0.705 ± 0.015\n",
      "default_ON_QnSC_100k, tabddpm_ON_QnSC_100k_const_0_25: 0.9819190041152264\n",
      "n_clusters: 25\n",
      "n_clusters: 25\n",
      "n_clusters: 25\n",
      "n_clusters: 25\n",
      "n_clusters: 25\n",
      "DCR Score, a value closer to 0.5 is better\n",
      "default_ON_QnSC_100k-tabddpm_ON_QnSC_100k_const_0_25, DCR Score = 0.5158888888888888\n",
      "=========== All Features ===========\n",
      "Data shape:  (27000, 93)\n",
      "alpha precision: 0.970803, beta recall: 0.317462\n",
      "TABDDPM_ON_QNSC_100K_MULT_5: DEFAULT_ON_QNSC_100K Dataset\n",
      "Original Logistic: 0.467\n",
      "Synthetic Logistic: 0.469\n",
      "Original Tree: 0.480\n",
      "Synthetic Tree: 0.446 \n",
      "\n",
      "TABDDPM_ON_QNSC_100K_MULT_5 Accuracy Loss: DEFAULT_ON_QNSC_100K\n",
      "Logistic: -0.416%\n",
      "Tree: 7.019% \n",
      "\n",
      "CALCULATING COLUMN-WISE DENSITY ESTIMATION & PAIR-WISE COLUMN CORRELATION...\n",
      "Generating report ...\n",
      "\n",
      "(1/2) Evaluating Column Shapes: |██████████| 24/24 [00:00<00:00, 56.74it/s]|\n",
      "Column Shapes Score: 98.34%\n",
      "\n",
      "(2/2) Evaluating Column Pair Trends: |██████████| 276/276 [00:01<00:00, 150.36it/s]|\n",
      "Column Pair Trends Score: 97.96%\n",
      "\n",
      "Overall Score (Average): 98.15%\n",
      "\n",
      "Error rate (%) of column-wise density estimation TABDDPM_ON_QNSC_100K_MULT_5: 1.661 ± 0.652\n",
      "Error rate (%) of pair-wise column correlation score TABDDPM_ON_QNSC_100K_MULT_5: 2.043 ± 1.253\n"
     ]
    },
    {
     "data": {
      "text/html": [
       "<iframe\n",
       "    scrolling=\"no\"\n",
       "    width=\"100%\"\n",
       "    height=\"545px\"\n",
       "    src=\"iframe_figures/figure_23.html\"\n",
       "    frameborder=\"0\"\n",
       "    allowfullscreen\n",
       "></iframe>\n"
      ]
     },
     "metadata": {},
     "output_type": "display_data"
    },
    {
     "data": {
      "text/html": [
       "<iframe\n",
       "    scrolling=\"no\"\n",
       "    width=\"920px\"\n",
       "    height=\"920\"\n",
       "    src=\"iframe_figures/figure_23.html\"\n",
       "    frameborder=\"0\"\n",
       "    allowfullscreen\n",
       "></iframe>\n"
      ]
     },
     "metadata": {},
     "output_type": "display_data"
    },
    {
     "name": "stdout",
     "output_type": "stream",
     "text": [
      "DONE! \n",
      "\n",
      "DRAW COLUMN VALUES DISTRIBUTIONS...\n"
     ]
    },
    {
     "data": {
      "text/html": [
       "<iframe\n",
       "    scrolling=\"no\"\n",
       "    width=\"100%\"\n",
       "    height=\"545px\"\n",
       "    src=\"iframe_figures/figure_23.html\"\n",
       "    frameborder=\"0\"\n",
       "    allowfullscreen\n",
       "></iframe>\n"
      ]
     },
     "metadata": {},
     "output_type": "display_data"
    },
    {
     "data": {
      "text/html": [
       "<iframe\n",
       "    scrolling=\"no\"\n",
       "    width=\"100%\"\n",
       "    height=\"545px\"\n",
       "    src=\"iframe_figures/figure_23.html\"\n",
       "    frameborder=\"0\"\n",
       "    allowfullscreen\n",
       "></iframe>\n"
      ]
     },
     "metadata": {},
     "output_type": "display_data"
    },
    {
     "data": {
      "text/html": [
       "<iframe\n",
       "    scrolling=\"no\"\n",
       "    width=\"100%\"\n",
       "    height=\"545px\"\n",
       "    src=\"iframe_figures/figure_23.html\"\n",
       "    frameborder=\"0\"\n",
       "    allowfullscreen\n",
       "></iframe>\n"
      ]
     },
     "metadata": {},
     "output_type": "display_data"
    },
    {
     "data": {
      "text/html": [
       "<iframe\n",
       "    scrolling=\"no\"\n",
       "    width=\"100%\"\n",
       "    height=\"545px\"\n",
       "    src=\"iframe_figures/figure_23.html\"\n",
       "    frameborder=\"0\"\n",
       "    allowfullscreen\n",
       "></iframe>\n"
      ]
     },
     "metadata": {},
     "output_type": "display_data"
    },
    {
     "data": {
      "text/html": [
       "<iframe\n",
       "    scrolling=\"no\"\n",
       "    width=\"100%\"\n",
       "    height=\"545px\"\n",
       "    src=\"iframe_figures/figure_23.html\"\n",
       "    frameborder=\"0\"\n",
       "    allowfullscreen\n",
       "></iframe>\n"
      ]
     },
     "metadata": {},
     "output_type": "display_data"
    },
    {
     "data": {
      "text/html": [
       "<iframe\n",
       "    scrolling=\"no\"\n",
       "    width=\"100%\"\n",
       "    height=\"545px\"\n",
       "    src=\"iframe_figures/figure_23.html\"\n",
       "    frameborder=\"0\"\n",
       "    allowfullscreen\n",
       "></iframe>\n"
      ]
     },
     "metadata": {},
     "output_type": "display_data"
    },
    {
     "data": {
      "text/html": [
       "<iframe\n",
       "    scrolling=\"no\"\n",
       "    width=\"100%\"\n",
       "    height=\"545px\"\n",
       "    src=\"iframe_figures/figure_23.html\"\n",
       "    frameborder=\"0\"\n",
       "    allowfullscreen\n",
       "></iframe>\n"
      ]
     },
     "metadata": {},
     "output_type": "display_data"
    },
    {
     "data": {
      "text/html": [
       "<iframe\n",
       "    scrolling=\"no\"\n",
       "    width=\"100%\"\n",
       "    height=\"545px\"\n",
       "    src=\"iframe_figures/figure_23.html\"\n",
       "    frameborder=\"0\"\n",
       "    allowfullscreen\n",
       "></iframe>\n"
      ]
     },
     "metadata": {},
     "output_type": "display_data"
    },
    {
     "data": {
      "text/html": [
       "<iframe\n",
       "    scrolling=\"no\"\n",
       "    width=\"100%\"\n",
       "    height=\"545px\"\n",
       "    src=\"iframe_figures/figure_23.html\"\n",
       "    frameborder=\"0\"\n",
       "    allowfullscreen\n",
       "></iframe>\n"
      ]
     },
     "metadata": {},
     "output_type": "display_data"
    },
    {
     "data": {
      "text/html": [
       "<iframe\n",
       "    scrolling=\"no\"\n",
       "    width=\"100%\"\n",
       "    height=\"545px\"\n",
       "    src=\"iframe_figures/figure_23.html\"\n",
       "    frameborder=\"0\"\n",
       "    allowfullscreen\n",
       "></iframe>\n"
      ]
     },
     "metadata": {},
     "output_type": "display_data"
    },
    {
     "data": {
      "text/html": [
       "<iframe\n",
       "    scrolling=\"no\"\n",
       "    width=\"100%\"\n",
       "    height=\"545px\"\n",
       "    src=\"iframe_figures/figure_23.html\"\n",
       "    frameborder=\"0\"\n",
       "    allowfullscreen\n",
       "></iframe>\n"
      ]
     },
     "metadata": {},
     "output_type": "display_data"
    },
    {
     "data": {
      "text/html": [
       "<iframe\n",
       "    scrolling=\"no\"\n",
       "    width=\"100%\"\n",
       "    height=\"545px\"\n",
       "    src=\"iframe_figures/figure_23.html\"\n",
       "    frameborder=\"0\"\n",
       "    allowfullscreen\n",
       "></iframe>\n"
      ]
     },
     "metadata": {},
     "output_type": "display_data"
    },
    {
     "data": {
      "text/html": [
       "<iframe\n",
       "    scrolling=\"no\"\n",
       "    width=\"100%\"\n",
       "    height=\"545px\"\n",
       "    src=\"iframe_figures/figure_23.html\"\n",
       "    frameborder=\"0\"\n",
       "    allowfullscreen\n",
       "></iframe>\n"
      ]
     },
     "metadata": {},
     "output_type": "display_data"
    },
    {
     "data": {
      "text/html": [
       "<iframe\n",
       "    scrolling=\"no\"\n",
       "    width=\"100%\"\n",
       "    height=\"545px\"\n",
       "    src=\"iframe_figures/figure_23.html\"\n",
       "    frameborder=\"0\"\n",
       "    allowfullscreen\n",
       "></iframe>\n"
      ]
     },
     "metadata": {},
     "output_type": "display_data"
    },
    {
     "data": {
      "text/html": [
       "<iframe\n",
       "    scrolling=\"no\"\n",
       "    width=\"100%\"\n",
       "    height=\"545px\"\n",
       "    src=\"iframe_figures/figure_23.html\"\n",
       "    frameborder=\"0\"\n",
       "    allowfullscreen\n",
       "></iframe>\n"
      ]
     },
     "metadata": {},
     "output_type": "display_data"
    },
    {
     "data": {
      "text/html": [
       "<iframe\n",
       "    scrolling=\"no\"\n",
       "    width=\"100%\"\n",
       "    height=\"545px\"\n",
       "    src=\"iframe_figures/figure_23.html\"\n",
       "    frameborder=\"0\"\n",
       "    allowfullscreen\n",
       "></iframe>\n"
      ]
     },
     "metadata": {},
     "output_type": "display_data"
    },
    {
     "data": {
      "text/html": [
       "<iframe\n",
       "    scrolling=\"no\"\n",
       "    width=\"100%\"\n",
       "    height=\"545px\"\n",
       "    src=\"iframe_figures/figure_23.html\"\n",
       "    frameborder=\"0\"\n",
       "    allowfullscreen\n",
       "></iframe>\n"
      ]
     },
     "metadata": {},
     "output_type": "display_data"
    },
    {
     "data": {
      "text/html": [
       "<iframe\n",
       "    scrolling=\"no\"\n",
       "    width=\"100%\"\n",
       "    height=\"545px\"\n",
       "    src=\"iframe_figures/figure_23.html\"\n",
       "    frameborder=\"0\"\n",
       "    allowfullscreen\n",
       "></iframe>\n"
      ]
     },
     "metadata": {},
     "output_type": "display_data"
    },
    {
     "data": {
      "text/html": [
       "<iframe\n",
       "    scrolling=\"no\"\n",
       "    width=\"100%\"\n",
       "    height=\"545px\"\n",
       "    src=\"iframe_figures/figure_23.html\"\n",
       "    frameborder=\"0\"\n",
       "    allowfullscreen\n",
       "></iframe>\n"
      ]
     },
     "metadata": {},
     "output_type": "display_data"
    },
    {
     "data": {
      "text/html": [
       "<iframe\n",
       "    scrolling=\"no\"\n",
       "    width=\"100%\"\n",
       "    height=\"545px\"\n",
       "    src=\"iframe_figures/figure_23.html\"\n",
       "    frameborder=\"0\"\n",
       "    allowfullscreen\n",
       "></iframe>\n"
      ]
     },
     "metadata": {},
     "output_type": "display_data"
    },
    {
     "data": {
      "text/html": [
       "<iframe\n",
       "    scrolling=\"no\"\n",
       "    width=\"100%\"\n",
       "    height=\"545px\"\n",
       "    src=\"iframe_figures/figure_23.html\"\n",
       "    frameborder=\"0\"\n",
       "    allowfullscreen\n",
       "></iframe>\n"
      ]
     },
     "metadata": {},
     "output_type": "display_data"
    },
    {
     "data": {
      "text/html": [
       "<iframe\n",
       "    scrolling=\"no\"\n",
       "    width=\"100%\"\n",
       "    height=\"545px\"\n",
       "    src=\"iframe_figures/figure_23.html\"\n",
       "    frameborder=\"0\"\n",
       "    allowfullscreen\n",
       "></iframe>\n"
      ]
     },
     "metadata": {},
     "output_type": "display_data"
    },
    {
     "data": {
      "text/html": [
       "<iframe\n",
       "    scrolling=\"no\"\n",
       "    width=\"100%\"\n",
       "    height=\"545px\"\n",
       "    src=\"iframe_figures/figure_23.html\"\n",
       "    frameborder=\"0\"\n",
       "    allowfullscreen\n",
       "></iframe>\n"
      ]
     },
     "metadata": {},
     "output_type": "display_data"
    },
    {
     "data": {
      "text/html": [
       "<iframe\n",
       "    scrolling=\"no\"\n",
       "    width=\"100%\"\n",
       "    height=\"545px\"\n",
       "    src=\"iframe_figures/figure_23.html\"\n",
       "    frameborder=\"0\"\n",
       "    allowfullscreen\n",
       "></iframe>\n"
      ]
     },
     "metadata": {},
     "output_type": "display_data"
    },
    {
     "name": "stdout",
     "output_type": "stream",
     "text": [
      "DONE!\n"
     ]
    },
    {
     "name": "stderr",
     "output_type": "stream",
     "text": [
      "100%|██████████| 36/36 [00:11<00:00,  3.01it/s]\n"
     ]
    },
    {
     "name": "stdout",
     "output_type": "stream",
     "text": [
      "Saving scores to  eval/mle/default_ON_QnSC_100k/tabddpm_ON_QnSC_100k_mult_5.json\n",
      "ROC - AUC обучения на синтетических данных TABDDPM_ON_QNSC_100K_MULT_5: 0.706 ± 0.013\n",
      "default_ON_QnSC_100k, tabddpm_ON_QnSC_100k_mult_5: 0.9758559465020576\n",
      "n_clusters: 25\n",
      "n_clusters: 25\n",
      "n_clusters: 25\n",
      "n_clusters: 25\n",
      "n_clusters: 25\n",
      "DCR Score, a value closer to 0.5 is better\n",
      "default_ON_QnSC_100k-tabddpm_ON_QnSC_100k_mult_5, DCR Score = 0.5171111111111111\n",
      "=========== All Features ===========\n",
      "Data shape:  (27000, 93)\n",
      "alpha precision: 0.968370, beta recall: 0.461743\n"
     ]
    },
    {
     "name": "stderr",
     "output_type": "stream",
     "text": [
      "/venv/main/lib/python3.10/site-packages/sklearn/linear_model/_logistic.py:465: ConvergenceWarning: lbfgs failed to converge (status=1):\n",
      "STOP: TOTAL NO. OF ITERATIONS REACHED LIMIT.\n",
      "\n",
      "Increase the number of iterations (max_iter) or scale the data as shown in:\n",
      "    https://scikit-learn.org/stable/modules/preprocessing.html\n",
      "Please also refer to the documentation for alternative solver options:\n",
      "    https://scikit-learn.org/stable/modules/linear_model.html#logistic-regression\n",
      "  n_iter_i = _check_optimize_result(\n"
     ]
    },
    {
     "name": "stdout",
     "output_type": "stream",
     "text": [
      "TABDDPM_ON_QNSC_100K_MULT_6: DEFAULT_ON_QNSC_100K Dataset\n",
      "Original Logistic: 0.467\n",
      "Synthetic Logistic: 0.466\n",
      "Original Tree: 0.480\n",
      "Synthetic Tree: 0.433 \n",
      "\n",
      "TABDDPM_ON_QNSC_100K_MULT_6 Accuracy Loss: DEFAULT_ON_QNSC_100K\n",
      "Logistic: 0.299%\n",
      "Tree: 9.649% \n",
      "\n",
      "CALCULATING COLUMN-WISE DENSITY ESTIMATION & PAIR-WISE COLUMN CORRELATION...\n",
      "Generating report ...\n",
      "\n",
      "(1/2) Evaluating Column Shapes: |██████████| 24/24 [00:00<00:00, 61.20it/s]|\n",
      "Column Shapes Score: 98.38%\n",
      "\n",
      "(2/2) Evaluating Column Pair Trends: |██████████| 276/276 [00:01<00:00, 147.50it/s]|\n",
      "Column Pair Trends Score: 97.5%\n",
      "\n",
      "Overall Score (Average): 97.94%\n",
      "\n",
      "Error rate (%) of column-wise density estimation TABDDPM_ON_QNSC_100K_MULT_6: 1.617 ± 0.618\n",
      "Error rate (%) of pair-wise column correlation score TABDDPM_ON_QNSC_100K_MULT_6: 2.496 ± 1.953\n"
     ]
    },
    {
     "data": {
      "text/html": [
       "<iframe\n",
       "    scrolling=\"no\"\n",
       "    width=\"100%\"\n",
       "    height=\"545px\"\n",
       "    src=\"iframe_figures/figure_23.html\"\n",
       "    frameborder=\"0\"\n",
       "    allowfullscreen\n",
       "></iframe>\n"
      ]
     },
     "metadata": {},
     "output_type": "display_data"
    },
    {
     "data": {
      "text/html": [
       "<iframe\n",
       "    scrolling=\"no\"\n",
       "    width=\"920px\"\n",
       "    height=\"920\"\n",
       "    src=\"iframe_figures/figure_23.html\"\n",
       "    frameborder=\"0\"\n",
       "    allowfullscreen\n",
       "></iframe>\n"
      ]
     },
     "metadata": {},
     "output_type": "display_data"
    },
    {
     "name": "stdout",
     "output_type": "stream",
     "text": [
      "DONE! \n",
      "\n",
      "DRAW COLUMN VALUES DISTRIBUTIONS...\n"
     ]
    },
    {
     "data": {
      "text/html": [
       "<iframe\n",
       "    scrolling=\"no\"\n",
       "    width=\"100%\"\n",
       "    height=\"545px\"\n",
       "    src=\"iframe_figures/figure_23.html\"\n",
       "    frameborder=\"0\"\n",
       "    allowfullscreen\n",
       "></iframe>\n"
      ]
     },
     "metadata": {},
     "output_type": "display_data"
    },
    {
     "data": {
      "text/html": [
       "<iframe\n",
       "    scrolling=\"no\"\n",
       "    width=\"100%\"\n",
       "    height=\"545px\"\n",
       "    src=\"iframe_figures/figure_23.html\"\n",
       "    frameborder=\"0\"\n",
       "    allowfullscreen\n",
       "></iframe>\n"
      ]
     },
     "metadata": {},
     "output_type": "display_data"
    },
    {
     "data": {
      "text/html": [
       "<iframe\n",
       "    scrolling=\"no\"\n",
       "    width=\"100%\"\n",
       "    height=\"545px\"\n",
       "    src=\"iframe_figures/figure_23.html\"\n",
       "    frameborder=\"0\"\n",
       "    allowfullscreen\n",
       "></iframe>\n"
      ]
     },
     "metadata": {},
     "output_type": "display_data"
    },
    {
     "data": {
      "text/html": [
       "<iframe\n",
       "    scrolling=\"no\"\n",
       "    width=\"100%\"\n",
       "    height=\"545px\"\n",
       "    src=\"iframe_figures/figure_23.html\"\n",
       "    frameborder=\"0\"\n",
       "    allowfullscreen\n",
       "></iframe>\n"
      ]
     },
     "metadata": {},
     "output_type": "display_data"
    },
    {
     "data": {
      "text/html": [
       "<iframe\n",
       "    scrolling=\"no\"\n",
       "    width=\"100%\"\n",
       "    height=\"545px\"\n",
       "    src=\"iframe_figures/figure_23.html\"\n",
       "    frameborder=\"0\"\n",
       "    allowfullscreen\n",
       "></iframe>\n"
      ]
     },
     "metadata": {},
     "output_type": "display_data"
    },
    {
     "data": {
      "text/html": [
       "<iframe\n",
       "    scrolling=\"no\"\n",
       "    width=\"100%\"\n",
       "    height=\"545px\"\n",
       "    src=\"iframe_figures/figure_23.html\"\n",
       "    frameborder=\"0\"\n",
       "    allowfullscreen\n",
       "></iframe>\n"
      ]
     },
     "metadata": {},
     "output_type": "display_data"
    },
    {
     "data": {
      "text/html": [
       "<iframe\n",
       "    scrolling=\"no\"\n",
       "    width=\"100%\"\n",
       "    height=\"545px\"\n",
       "    src=\"iframe_figures/figure_23.html\"\n",
       "    frameborder=\"0\"\n",
       "    allowfullscreen\n",
       "></iframe>\n"
      ]
     },
     "metadata": {},
     "output_type": "display_data"
    },
    {
     "data": {
      "text/html": [
       "<iframe\n",
       "    scrolling=\"no\"\n",
       "    width=\"100%\"\n",
       "    height=\"545px\"\n",
       "    src=\"iframe_figures/figure_23.html\"\n",
       "    frameborder=\"0\"\n",
       "    allowfullscreen\n",
       "></iframe>\n"
      ]
     },
     "metadata": {},
     "output_type": "display_data"
    },
    {
     "data": {
      "text/html": [
       "<iframe\n",
       "    scrolling=\"no\"\n",
       "    width=\"100%\"\n",
       "    height=\"545px\"\n",
       "    src=\"iframe_figures/figure_23.html\"\n",
       "    frameborder=\"0\"\n",
       "    allowfullscreen\n",
       "></iframe>\n"
      ]
     },
     "metadata": {},
     "output_type": "display_data"
    },
    {
     "data": {
      "text/html": [
       "<iframe\n",
       "    scrolling=\"no\"\n",
       "    width=\"100%\"\n",
       "    height=\"545px\"\n",
       "    src=\"iframe_figures/figure_23.html\"\n",
       "    frameborder=\"0\"\n",
       "    allowfullscreen\n",
       "></iframe>\n"
      ]
     },
     "metadata": {},
     "output_type": "display_data"
    },
    {
     "data": {
      "text/html": [
       "<iframe\n",
       "    scrolling=\"no\"\n",
       "    width=\"100%\"\n",
       "    height=\"545px\"\n",
       "    src=\"iframe_figures/figure_23.html\"\n",
       "    frameborder=\"0\"\n",
       "    allowfullscreen\n",
       "></iframe>\n"
      ]
     },
     "metadata": {},
     "output_type": "display_data"
    },
    {
     "data": {
      "text/html": [
       "<iframe\n",
       "    scrolling=\"no\"\n",
       "    width=\"100%\"\n",
       "    height=\"545px\"\n",
       "    src=\"iframe_figures/figure_23.html\"\n",
       "    frameborder=\"0\"\n",
       "    allowfullscreen\n",
       "></iframe>\n"
      ]
     },
     "metadata": {},
     "output_type": "display_data"
    },
    {
     "data": {
      "text/html": [
       "<iframe\n",
       "    scrolling=\"no\"\n",
       "    width=\"100%\"\n",
       "    height=\"545px\"\n",
       "    src=\"iframe_figures/figure_23.html\"\n",
       "    frameborder=\"0\"\n",
       "    allowfullscreen\n",
       "></iframe>\n"
      ]
     },
     "metadata": {},
     "output_type": "display_data"
    },
    {
     "data": {
      "text/html": [
       "<iframe\n",
       "    scrolling=\"no\"\n",
       "    width=\"100%\"\n",
       "    height=\"545px\"\n",
       "    src=\"iframe_figures/figure_23.html\"\n",
       "    frameborder=\"0\"\n",
       "    allowfullscreen\n",
       "></iframe>\n"
      ]
     },
     "metadata": {},
     "output_type": "display_data"
    },
    {
     "data": {
      "text/html": [
       "<iframe\n",
       "    scrolling=\"no\"\n",
       "    width=\"100%\"\n",
       "    height=\"545px\"\n",
       "    src=\"iframe_figures/figure_23.html\"\n",
       "    frameborder=\"0\"\n",
       "    allowfullscreen\n",
       "></iframe>\n"
      ]
     },
     "metadata": {},
     "output_type": "display_data"
    },
    {
     "data": {
      "text/html": [
       "<iframe\n",
       "    scrolling=\"no\"\n",
       "    width=\"100%\"\n",
       "    height=\"545px\"\n",
       "    src=\"iframe_figures/figure_23.html\"\n",
       "    frameborder=\"0\"\n",
       "    allowfullscreen\n",
       "></iframe>\n"
      ]
     },
     "metadata": {},
     "output_type": "display_data"
    },
    {
     "data": {
      "text/html": [
       "<iframe\n",
       "    scrolling=\"no\"\n",
       "    width=\"100%\"\n",
       "    height=\"545px\"\n",
       "    src=\"iframe_figures/figure_23.html\"\n",
       "    frameborder=\"0\"\n",
       "    allowfullscreen\n",
       "></iframe>\n"
      ]
     },
     "metadata": {},
     "output_type": "display_data"
    },
    {
     "data": {
      "text/html": [
       "<iframe\n",
       "    scrolling=\"no\"\n",
       "    width=\"100%\"\n",
       "    height=\"545px\"\n",
       "    src=\"iframe_figures/figure_23.html\"\n",
       "    frameborder=\"0\"\n",
       "    allowfullscreen\n",
       "></iframe>\n"
      ]
     },
     "metadata": {},
     "output_type": "display_data"
    },
    {
     "data": {
      "text/html": [
       "<iframe\n",
       "    scrolling=\"no\"\n",
       "    width=\"100%\"\n",
       "    height=\"545px\"\n",
       "    src=\"iframe_figures/figure_23.html\"\n",
       "    frameborder=\"0\"\n",
       "    allowfullscreen\n",
       "></iframe>\n"
      ]
     },
     "metadata": {},
     "output_type": "display_data"
    },
    {
     "data": {
      "text/html": [
       "<iframe\n",
       "    scrolling=\"no\"\n",
       "    width=\"100%\"\n",
       "    height=\"545px\"\n",
       "    src=\"iframe_figures/figure_23.html\"\n",
       "    frameborder=\"0\"\n",
       "    allowfullscreen\n",
       "></iframe>\n"
      ]
     },
     "metadata": {},
     "output_type": "display_data"
    },
    {
     "data": {
      "text/html": [
       "<iframe\n",
       "    scrolling=\"no\"\n",
       "    width=\"100%\"\n",
       "    height=\"545px\"\n",
       "    src=\"iframe_figures/figure_23.html\"\n",
       "    frameborder=\"0\"\n",
       "    allowfullscreen\n",
       "></iframe>\n"
      ]
     },
     "metadata": {},
     "output_type": "display_data"
    },
    {
     "data": {
      "text/html": [
       "<iframe\n",
       "    scrolling=\"no\"\n",
       "    width=\"100%\"\n",
       "    height=\"545px\"\n",
       "    src=\"iframe_figures/figure_23.html\"\n",
       "    frameborder=\"0\"\n",
       "    allowfullscreen\n",
       "></iframe>\n"
      ]
     },
     "metadata": {},
     "output_type": "display_data"
    },
    {
     "data": {
      "text/html": [
       "<iframe\n",
       "    scrolling=\"no\"\n",
       "    width=\"100%\"\n",
       "    height=\"545px\"\n",
       "    src=\"iframe_figures/figure_23.html\"\n",
       "    frameborder=\"0\"\n",
       "    allowfullscreen\n",
       "></iframe>\n"
      ]
     },
     "metadata": {},
     "output_type": "display_data"
    },
    {
     "data": {
      "text/html": [
       "<iframe\n",
       "    scrolling=\"no\"\n",
       "    width=\"100%\"\n",
       "    height=\"545px\"\n",
       "    src=\"iframe_figures/figure_23.html\"\n",
       "    frameborder=\"0\"\n",
       "    allowfullscreen\n",
       "></iframe>\n"
      ]
     },
     "metadata": {},
     "output_type": "display_data"
    },
    {
     "name": "stdout",
     "output_type": "stream",
     "text": [
      "DONE!\n"
     ]
    },
    {
     "name": "stderr",
     "output_type": "stream",
     "text": [
      "100%|██████████| 36/36 [00:12<00:00,  2.93it/s]\n"
     ]
    },
    {
     "name": "stdout",
     "output_type": "stream",
     "text": [
      "Saving scores to  eval/mle/default_ON_QnSC_100k/tabddpm_ON_QnSC_100k_mult_6.json\n",
      "ROC - AUC обучения на синтетических данных TABDDPM_ON_QNSC_100K_MULT_6: 0.730 ± 0.013\n",
      "default_ON_QnSC_100k, tabddpm_ON_QnSC_100k_mult_6: 0.9720922839506173\n",
      "n_clusters: 25\n",
      "n_clusters: 25\n",
      "n_clusters: 25\n",
      "n_clusters: 25\n",
      "n_clusters: 25\n",
      "DCR Score, a value closer to 0.5 is better\n",
      "default_ON_QnSC_100k-tabddpm_ON_QnSC_100k_mult_6, DCR Score = 0.5183333333333333\n",
      "=========== All Features ===========\n",
      "Data shape:  (27000, 93)\n",
      "alpha precision: 0.968760, beta recall: 0.470020\n"
     ]
    }
   ],
   "source": [
    "overall_metrics = {}\n",
    "\n",
    "for model_save_path in model_save_path_hist:\n",
    "    model_name = model_save_path.split('/')[-1]\n",
    "    sample_save_path = f'./synthetic/{dataname}/{model_name}.csv'\n",
    "\n",
    "    CONFIG.add_arg('method', model_name)\n",
    "    CONFIG.add_arg('sample_save_path',\n",
    "                       f\"synthetic/{CONFIG.get_arg('dataname')}/{CONFIG.get_arg('method')}.csv\")\n",
    "\n",
    "    overall_metrics[model_name] = {}\n",
    "\n",
    "    print(model_save_path, model_name, sample_save_path)\n",
    "\n",
    "    tabddpm_noise_ohe = TabDDPM_OHE_Noise_QnSC(CONFIG, model_save_path=model_save_path, sigmas=None)\n",
    "    tabddpm_noise_ohe.sample(sample_save_path=sample_save_path)\n",
    "    postsample_OHE(dataname, f'./synthetic/{dataname}/initial_{model_name}.csv', normalizers=normalizers)\n",
    "\n",
    "    # подсчет метрик\n",
    "    try:\n",
    "        overall_metrics[model_name]['base_metrics'] = calculate_base_metrics(make_binary=False) # ошибка\n",
    "    except Exception as e:\n",
    "        overall_metrics[model_name]['base_metrics'] = np.nan\n",
    "    overall_metrics[model_name]['similarity'] = calculate_similarity()\n",
    "    overall_metrics[model_name]['mle'] = calculate_mle()\n",
    "    overall_metrics[model_name]['detection'] = calculate_detection()\n",
    "    overall_metrics[model_name]['DCR'] = calculate_DCR()\n",
    "    overall_metrics[model_name]['quality'] = calculate_alpha_beta()"
   ]
  },
  {
   "cell_type": "code",
   "execution_count": 24,
   "metadata": {},
   "outputs": [],
   "source": [
    "final_metrics_table = []\n",
    "model_short = 'tabddpm_ON_QnSC_100k'\n",
    "for m in overall_metrics.keys():\n",
    "    # Сбор таблички результатов\n",
    "    tmp = pd.DataFrame([{'Model':model_short, 'Type':m, 'Data':dataname}])\n",
    "    tmp.columns = pd.MultiIndex.from_tuples([('', i) for i in tmp.columns])\n",
    "    result = [tmp]\n",
    "    \n",
    "    for metric_group in overall_metrics[m].keys():\n",
    "        tmp = pd.DataFrame([overall_metrics[m][metric_group]])\n",
    "        tmp.columns = pd.MultiIndex.from_tuples([(metric_group, i) for i in tmp.columns])\n",
    "        result.append(tmp)\n",
    "    result = pd.concat(result, axis = 1)\n",
    "    final_metrics_table.append(result)\n",
    "    \n",
    "final_metrics_table = pd.concat(final_metrics_table)"
   ]
  },
  {
   "cell_type": "code",
   "execution_count": 25,
   "metadata": {},
   "outputs": [
    {
     "data": {
      "text/html": [
       "<div>\n",
       "<style scoped>\n",
       "    .dataframe tbody tr th:only-of-type {\n",
       "        vertical-align: middle;\n",
       "    }\n",
       "\n",
       "    .dataframe tbody tr th {\n",
       "        vertical-align: top;\n",
       "    }\n",
       "\n",
       "    .dataframe thead tr th {\n",
       "        text-align: left;\n",
       "    }\n",
       "</style>\n",
       "<table border=\"1\" class=\"dataframe\">\n",
       "  <thead>\n",
       "    <tr>\n",
       "      <th></th>\n",
       "      <th colspan=\"3\" halign=\"left\"></th>\n",
       "      <th colspan=\"6\" halign=\"left\">base_metrics</th>\n",
       "      <th colspan=\"6\" halign=\"left\">similarity</th>\n",
       "      <th colspan=\"2\" halign=\"left\">mle</th>\n",
       "      <th>detection</th>\n",
       "      <th>DCR</th>\n",
       "      <th colspan=\"2\" halign=\"left\">quality</th>\n",
       "    </tr>\n",
       "    <tr>\n",
       "      <th></th>\n",
       "      <th>Model</th>\n",
       "      <th>Type</th>\n",
       "      <th>Data</th>\n",
       "      <th>Original Logistic</th>\n",
       "      <th>Synthetic Logistic</th>\n",
       "      <th>Original Tree</th>\n",
       "      <th>Synthetic Tree</th>\n",
       "      <th>Accuracy Loss Logistic, %</th>\n",
       "      <th>Accuracy Loss Tree, %</th>\n",
       "      <th>Column Shapes Score, %</th>\n",
       "      <th>...</th>\n",
       "      <th>Error rate (%) of column-wise density estimation, %</th>\n",
       "      <th>Error rate (%) of column-wise density estimation std, %</th>\n",
       "      <th>Error rate (%) of pair-wise column correlation score, %</th>\n",
       "      <th>Error rate (%) of pair-wise column correlation score std, %</th>\n",
       "      <th>ROC - AUC обучения на синтетических данных</th>\n",
       "      <th>ROC - AUC обучения на синтетических данных, std</th>\n",
       "      <th>Score</th>\n",
       "      <th>Score</th>\n",
       "      <th>alpha precision</th>\n",
       "      <th>beta recall</th>\n",
       "    </tr>\n",
       "  </thead>\n",
       "  <tbody>\n",
       "    <tr>\n",
       "      <th>0</th>\n",
       "      <td>tabddpm_ON_QnSC_100k</td>\n",
       "      <td>tabddpm_ON_QnSC_100k_const_0_01</td>\n",
       "      <td>default_ON_QnSC_100k</td>\n",
       "      <td>0.46697</td>\n",
       "      <td>0.469409</td>\n",
       "      <td>0.479705</td>\n",
       "      <td>0.444707</td>\n",
       "      <td>-0.522281</td>\n",
       "      <td>7.295638</td>\n",
       "      <td>98.581019</td>\n",
       "      <td>...</td>\n",
       "      <td>1.418981</td>\n",
       "      <td>0.567995</td>\n",
       "      <td>2.212638</td>\n",
       "      <td>1.374723</td>\n",
       "      <td>0.703890</td>\n",
       "      <td>0.011636</td>\n",
       "      <td>0.966299</td>\n",
       "      <td>0.521185</td>\n",
       "      <td>0.976261</td>\n",
       "      <td>0.466869</td>\n",
       "    </tr>\n",
       "    <tr>\n",
       "      <th>0</th>\n",
       "      <td>tabddpm_ON_QnSC_100k</td>\n",
       "      <td>tabddpm_ON_QnSC_100k_const_0_25</td>\n",
       "      <td>default_ON_QnSC_100k</td>\n",
       "      <td>0.46697</td>\n",
       "      <td>0.460568</td>\n",
       "      <td>0.479705</td>\n",
       "      <td>0.450755</td>\n",
       "      <td>1.371086</td>\n",
       "      <td>6.034859</td>\n",
       "      <td>98.228858</td>\n",
       "      <td>...</td>\n",
       "      <td>1.771142</td>\n",
       "      <td>0.961256</td>\n",
       "      <td>2.509200</td>\n",
       "      <td>1.442332</td>\n",
       "      <td>0.704959</td>\n",
       "      <td>0.014833</td>\n",
       "      <td>0.981919</td>\n",
       "      <td>0.515889</td>\n",
       "      <td>0.970803</td>\n",
       "      <td>0.317462</td>\n",
       "    </tr>\n",
       "    <tr>\n",
       "      <th>0</th>\n",
       "      <td>tabddpm_ON_QnSC_100k</td>\n",
       "      <td>tabddpm_ON_QnSC_100k_mult_5</td>\n",
       "      <td>default_ON_QnSC_100k</td>\n",
       "      <td>0.46697</td>\n",
       "      <td>0.468915</td>\n",
       "      <td>0.479705</td>\n",
       "      <td>0.446035</td>\n",
       "      <td>-0.416356</td>\n",
       "      <td>7.018944</td>\n",
       "      <td>98.338580</td>\n",
       "      <td>...</td>\n",
       "      <td>1.661420</td>\n",
       "      <td>0.651641</td>\n",
       "      <td>2.043152</td>\n",
       "      <td>1.253390</td>\n",
       "      <td>0.706248</td>\n",
       "      <td>0.013301</td>\n",
       "      <td>0.975856</td>\n",
       "      <td>0.517111</td>\n",
       "      <td>0.968370</td>\n",
       "      <td>0.461743</td>\n",
       "    </tr>\n",
       "    <tr>\n",
       "      <th>0</th>\n",
       "      <td>tabddpm_ON_QnSC_100k</td>\n",
       "      <td>tabddpm_ON_QnSC_100k_mult_6</td>\n",
       "      <td>default_ON_QnSC_100k</td>\n",
       "      <td>0.46697</td>\n",
       "      <td>0.465574</td>\n",
       "      <td>0.479705</td>\n",
       "      <td>0.433417</td>\n",
       "      <td>0.299080</td>\n",
       "      <td>9.649208</td>\n",
       "      <td>98.383179</td>\n",
       "      <td>...</td>\n",
       "      <td>1.616821</td>\n",
       "      <td>0.618087</td>\n",
       "      <td>2.496215</td>\n",
       "      <td>1.953409</td>\n",
       "      <td>0.730075</td>\n",
       "      <td>0.012778</td>\n",
       "      <td>0.972092</td>\n",
       "      <td>0.518333</td>\n",
       "      <td>0.968760</td>\n",
       "      <td>0.470020</td>\n",
       "    </tr>\n",
       "  </tbody>\n",
       "</table>\n",
       "<p>4 rows × 22 columns</p>\n",
       "</div>"
      ],
      "text/plain": [
       "                                                          \\\n",
       "                  Model                             Type   \n",
       "0  tabddpm_ON_QnSC_100k  tabddpm_ON_QnSC_100k_const_0_01   \n",
       "0  tabddpm_ON_QnSC_100k  tabddpm_ON_QnSC_100k_const_0_25   \n",
       "0  tabddpm_ON_QnSC_100k      tabddpm_ON_QnSC_100k_mult_5   \n",
       "0  tabddpm_ON_QnSC_100k      tabddpm_ON_QnSC_100k_mult_6   \n",
       "\n",
       "                             base_metrics                                   \\\n",
       "                   Data Original Logistic Synthetic Logistic Original Tree   \n",
       "0  default_ON_QnSC_100k           0.46697           0.469409      0.479705   \n",
       "0  default_ON_QnSC_100k           0.46697           0.460568      0.479705   \n",
       "0  default_ON_QnSC_100k           0.46697           0.468915      0.479705   \n",
       "0  default_ON_QnSC_100k           0.46697           0.465574      0.479705   \n",
       "\n",
       "                                                                  \\\n",
       "  Synthetic Tree Accuracy Loss Logistic, % Accuracy Loss Tree, %   \n",
       "0       0.444707                 -0.522281              7.295638   \n",
       "0       0.450755                  1.371086              6.034859   \n",
       "0       0.446035                 -0.416356              7.018944   \n",
       "0       0.433417                  0.299080              9.649208   \n",
       "\n",
       "              similarity  ...  \\\n",
       "  Column Shapes Score, %  ...   \n",
       "0              98.581019  ...   \n",
       "0              98.228858  ...   \n",
       "0              98.338580  ...   \n",
       "0              98.383179  ...   \n",
       "\n",
       "                                                       \\\n",
       "  Error rate (%) of column-wise density estimation, %   \n",
       "0                                            1.418981   \n",
       "0                                            1.771142   \n",
       "0                                            1.661420   \n",
       "0                                            1.616821   \n",
       "\n",
       "                                                           \\\n",
       "  Error rate (%) of column-wise density estimation std, %   \n",
       "0                                                0.567995   \n",
       "0                                                0.961256   \n",
       "0                                                0.651641   \n",
       "0                                                0.618087   \n",
       "\n",
       "                                                           \\\n",
       "  Error rate (%) of pair-wise column correlation score, %   \n",
       "0                                                2.212638   \n",
       "0                                                2.509200   \n",
       "0                                                2.043152   \n",
       "0                                                2.496215   \n",
       "\n",
       "                                                               \\\n",
       "  Error rate (%) of pair-wise column correlation score std, %   \n",
       "0                                                    1.374723   \n",
       "0                                                    1.442332   \n",
       "0                                                    1.253390   \n",
       "0                                                    1.953409   \n",
       "\n",
       "                                         mle  \\\n",
       "  ROC - AUC обучения на синтетических данных   \n",
       "0                                   0.703890   \n",
       "0                                   0.704959   \n",
       "0                                   0.706248   \n",
       "0                                   0.730075   \n",
       "\n",
       "                                                  detection       DCR  \\\n",
       "  ROC - AUC обучения на синтетических данных, std     Score     Score   \n",
       "0                                        0.011636  0.966299  0.521185   \n",
       "0                                        0.014833  0.981919  0.515889   \n",
       "0                                        0.013301  0.975856  0.517111   \n",
       "0                                        0.012778  0.972092  0.518333   \n",
       "\n",
       "          quality              \n",
       "  alpha precision beta recall  \n",
       "0        0.976261    0.466869  \n",
       "0        0.970803    0.317462  \n",
       "0        0.968370    0.461743  \n",
       "0        0.968760    0.470020  \n",
       "\n",
       "[4 rows x 22 columns]"
      ]
     },
     "execution_count": 25,
     "metadata": {},
     "output_type": "execute_result"
    }
   ],
   "source": [
    "final_metrics_table#.drop(columns=('base_metrics', 0))"
   ]
  },
  {
   "cell_type": "code",
   "execution_count": 27,
   "metadata": {},
   "outputs": [
    {
     "data": {
      "text/html": [
       "<div>\n",
       "<style scoped>\n",
       "    .dataframe tbody tr th:only-of-type {\n",
       "        vertical-align: middle;\n",
       "    }\n",
       "\n",
       "    .dataframe tbody tr th {\n",
       "        vertical-align: top;\n",
       "    }\n",
       "\n",
       "    .dataframe thead tr th {\n",
       "        text-align: left;\n",
       "    }\n",
       "</style>\n",
       "<table border=\"1\" class=\"dataframe\">\n",
       "  <thead>\n",
       "    <tr>\n",
       "      <th></th>\n",
       "      <th colspan=\"3\" halign=\"left\"></th>\n",
       "      <th colspan=\"6\" halign=\"left\">base_metrics</th>\n",
       "      <th colspan=\"7\" halign=\"left\">similarity</th>\n",
       "      <th colspan=\"2\" halign=\"left\">mle</th>\n",
       "      <th>detection</th>\n",
       "      <th>DCR</th>\n",
       "      <th colspan=\"2\" halign=\"left\">quality</th>\n",
       "    </tr>\n",
       "    <tr>\n",
       "      <th></th>\n",
       "      <th>Model</th>\n",
       "      <th>Type</th>\n",
       "      <th>Data</th>\n",
       "      <th>Original Logistic</th>\n",
       "      <th>Synthetic Logistic</th>\n",
       "      <th>Original Tree</th>\n",
       "      <th>Synthetic Tree</th>\n",
       "      <th>Accuracy Loss Logistic, %</th>\n",
       "      <th>Accuracy Loss Tree, %</th>\n",
       "      <th>Column Shapes Score, %</th>\n",
       "      <th>Column Pair Trends Score, %</th>\n",
       "      <th>Overall Score (Average), %</th>\n",
       "      <th>Error rate (%) of column-wise density estimation, %</th>\n",
       "      <th>Error rate (%) of column-wise density estimation std, %</th>\n",
       "      <th>Error rate (%) of pair-wise column correlation score, %</th>\n",
       "      <th>Error rate (%) of pair-wise column correlation score std, %</th>\n",
       "      <th>ROC - AUC обучения на синтетических данных</th>\n",
       "      <th>ROC - AUC обучения на синтетических данных, std</th>\n",
       "      <th>Score</th>\n",
       "      <th>Score</th>\n",
       "      <th>alpha precision</th>\n",
       "      <th>beta recall</th>\n",
       "    </tr>\n",
       "  </thead>\n",
       "  <tbody>\n",
       "    <tr>\n",
       "      <th>0</th>\n",
       "      <td>tabddpm_ON_QnSC_100k</td>\n",
       "      <td>tabddpm_ON_QnSC_100k_const_0_01</td>\n",
       "      <td>default_ON_QnSC_100k</td>\n",
       "      <td>0.467</td>\n",
       "      <td>0.4694</td>\n",
       "      <td>0.4797</td>\n",
       "      <td>0.4447</td>\n",
       "      <td>-0.5223</td>\n",
       "      <td>7.2956</td>\n",
       "      <td>98.5810</td>\n",
       "      <td>97.7874</td>\n",
       "      <td>98.1842</td>\n",
       "      <td>1.4190</td>\n",
       "      <td>0.5680</td>\n",
       "      <td>2.2126</td>\n",
       "      <td>1.3747</td>\n",
       "      <td>0.7039</td>\n",
       "      <td>0.0116</td>\n",
       "      <td>0.9663</td>\n",
       "      <td>0.5212</td>\n",
       "      <td>0.9763</td>\n",
       "      <td>0.4669</td>\n",
       "    </tr>\n",
       "    <tr>\n",
       "      <th>0</th>\n",
       "      <td>tabddpm_ON_QnSC_100k</td>\n",
       "      <td>tabddpm_ON_QnSC_100k_mult_5</td>\n",
       "      <td>default_ON_QnSC_100k</td>\n",
       "      <td>0.467</td>\n",
       "      <td>0.4689</td>\n",
       "      <td>0.4797</td>\n",
       "      <td>0.4460</td>\n",
       "      <td>-0.4164</td>\n",
       "      <td>7.0189</td>\n",
       "      <td>98.3386</td>\n",
       "      <td>97.9568</td>\n",
       "      <td>98.1477</td>\n",
       "      <td>1.6614</td>\n",
       "      <td>0.6516</td>\n",
       "      <td>2.0432</td>\n",
       "      <td>1.2534</td>\n",
       "      <td>0.7062</td>\n",
       "      <td>0.0133</td>\n",
       "      <td>0.9759</td>\n",
       "      <td>0.5171</td>\n",
       "      <td>0.9684</td>\n",
       "      <td>0.4617</td>\n",
       "    </tr>\n",
       "    <tr>\n",
       "      <th>0</th>\n",
       "      <td>tabddpm_ON_QnSC_100k</td>\n",
       "      <td>tabddpm_ON_QnSC_100k_mult_6</td>\n",
       "      <td>default_ON_QnSC_100k</td>\n",
       "      <td>0.467</td>\n",
       "      <td>0.4656</td>\n",
       "      <td>0.4797</td>\n",
       "      <td>0.4334</td>\n",
       "      <td>0.2991</td>\n",
       "      <td>9.6492</td>\n",
       "      <td>98.3832</td>\n",
       "      <td>97.5038</td>\n",
       "      <td>97.9435</td>\n",
       "      <td>1.6168</td>\n",
       "      <td>0.6181</td>\n",
       "      <td>2.4962</td>\n",
       "      <td>1.9534</td>\n",
       "      <td>0.7301</td>\n",
       "      <td>0.0128</td>\n",
       "      <td>0.9721</td>\n",
       "      <td>0.5183</td>\n",
       "      <td>0.9688</td>\n",
       "      <td>0.4700</td>\n",
       "    </tr>\n",
       "    <tr>\n",
       "      <th>0</th>\n",
       "      <td>tabddpm_ON_QnSC_100k</td>\n",
       "      <td>tabddpm_ON_QnSC_100k_const_0_25</td>\n",
       "      <td>default_ON_QnSC_100k</td>\n",
       "      <td>0.467</td>\n",
       "      <td>0.4606</td>\n",
       "      <td>0.4797</td>\n",
       "      <td>0.4508</td>\n",
       "      <td>1.3711</td>\n",
       "      <td>6.0349</td>\n",
       "      <td>98.2289</td>\n",
       "      <td>97.4908</td>\n",
       "      <td>97.8598</td>\n",
       "      <td>1.7711</td>\n",
       "      <td>0.9613</td>\n",
       "      <td>2.5092</td>\n",
       "      <td>1.4423</td>\n",
       "      <td>0.7050</td>\n",
       "      <td>0.0148</td>\n",
       "      <td>0.9819</td>\n",
       "      <td>0.5159</td>\n",
       "      <td>0.9708</td>\n",
       "      <td>0.3175</td>\n",
       "    </tr>\n",
       "  </tbody>\n",
       "</table>\n",
       "</div>"
      ],
      "text/plain": [
       "                                                          \\\n",
       "                  Model                             Type   \n",
       "0  tabddpm_ON_QnSC_100k  tabddpm_ON_QnSC_100k_const_0_01   \n",
       "0  tabddpm_ON_QnSC_100k      tabddpm_ON_QnSC_100k_mult_5   \n",
       "0  tabddpm_ON_QnSC_100k      tabddpm_ON_QnSC_100k_mult_6   \n",
       "0  tabddpm_ON_QnSC_100k  tabddpm_ON_QnSC_100k_const_0_25   \n",
       "\n",
       "                             base_metrics                                   \\\n",
       "                   Data Original Logistic Synthetic Logistic Original Tree   \n",
       "0  default_ON_QnSC_100k             0.467             0.4694        0.4797   \n",
       "0  default_ON_QnSC_100k             0.467             0.4689        0.4797   \n",
       "0  default_ON_QnSC_100k             0.467             0.4656        0.4797   \n",
       "0  default_ON_QnSC_100k             0.467             0.4606        0.4797   \n",
       "\n",
       "                                                                  \\\n",
       "  Synthetic Tree Accuracy Loss Logistic, % Accuracy Loss Tree, %   \n",
       "0         0.4447                   -0.5223                7.2956   \n",
       "0         0.4460                   -0.4164                7.0189   \n",
       "0         0.4334                    0.2991                9.6492   \n",
       "0         0.4508                    1.3711                6.0349   \n",
       "\n",
       "              similarity                              \\\n",
       "  Column Shapes Score, % Column Pair Trends Score, %   \n",
       "0                98.5810                     97.7874   \n",
       "0                98.3386                     97.9568   \n",
       "0                98.3832                     97.5038   \n",
       "0                98.2289                     97.4908   \n",
       "\n",
       "                              \\\n",
       "  Overall Score (Average), %   \n",
       "0                    98.1842   \n",
       "0                    98.1477   \n",
       "0                    97.9435   \n",
       "0                    97.8598   \n",
       "\n",
       "                                                       \\\n",
       "  Error rate (%) of column-wise density estimation, %   \n",
       "0                                              1.4190   \n",
       "0                                              1.6614   \n",
       "0                                              1.6168   \n",
       "0                                              1.7711   \n",
       "\n",
       "                                                           \\\n",
       "  Error rate (%) of column-wise density estimation std, %   \n",
       "0                                                  0.5680   \n",
       "0                                                  0.6516   \n",
       "0                                                  0.6181   \n",
       "0                                                  0.9613   \n",
       "\n",
       "                                                           \\\n",
       "  Error rate (%) of pair-wise column correlation score, %   \n",
       "0                                                  2.2126   \n",
       "0                                                  2.0432   \n",
       "0                                                  2.4962   \n",
       "0                                                  2.5092   \n",
       "\n",
       "                                                               \\\n",
       "  Error rate (%) of pair-wise column correlation score std, %   \n",
       "0                                                      1.3747   \n",
       "0                                                      1.2534   \n",
       "0                                                      1.9534   \n",
       "0                                                      1.4423   \n",
       "\n",
       "                                         mle  \\\n",
       "  ROC - AUC обучения на синтетических данных   \n",
       "0                                     0.7039   \n",
       "0                                     0.7062   \n",
       "0                                     0.7301   \n",
       "0                                     0.7050   \n",
       "\n",
       "                                                  detection     DCR  \\\n",
       "  ROC - AUC обучения на синтетических данных, std     Score   Score   \n",
       "0                                          0.0116    0.9663  0.5212   \n",
       "0                                          0.0133    0.9759  0.5171   \n",
       "0                                          0.0128    0.9721  0.5183   \n",
       "0                                          0.0148    0.9819  0.5159   \n",
       "\n",
       "          quality              \n",
       "  alpha precision beta recall  \n",
       "0          0.9763      0.4669  \n",
       "0          0.9684      0.4617  \n",
       "0          0.9688      0.4700  \n",
       "0          0.9708      0.3175  "
      ]
     },
     "execution_count": 27,
     "metadata": {},
     "output_type": "execute_result"
    }
   ],
   "source": [
    "pd.set_option('display.max_columns', None)\n",
    "final_metrics_table.round(4).sort_values([('similarity', 'Overall Score (Average), %')],\n",
    "                                                                          ascending=False)"
   ]
  },
  {
   "cell_type": "code",
   "execution_count": 20,
   "metadata": {},
   "outputs": [
    {
     "data": {
      "text/plain": [
       "'./eval/total/default_ON_QnSC_100k/tabddpm_ON_QnSC_100k_final_metrcs_table.csv'"
      ]
     },
     "execution_count": 20,
     "metadata": {},
     "output_type": "execute_result"
    }
   ],
   "source": [
    "f'./eval/total/{dataname}/{model_short}_final_metrcs_table.csv'"
   ]
  },
  {
   "cell_type": "code",
   "execution_count": 21,
   "metadata": {},
   "outputs": [],
   "source": [
    "import os\n",
    "if not os.path.exists(f'./eval/total/{dataname}'):\n",
    "    os.makedirs(f'./eval/total/{dataname}')\n",
    "final_metrics_table.to_csv(f'./eval/total/{dataname}/{model_short}_final_metrcs_table.csv', index=False)"
   ]
  },
  {
   "cell_type": "code",
   "execution_count": null,
   "metadata": {},
   "outputs": [],
   "source": []
  }
 ],
 "metadata": {
  "colab": {
   "authorship_tag": "ABX9TyM87OAyAZDeZ/KEr1BVC60/",
   "mount_file_id": "1-H09AG2TbV5ZzQ-ytJRNbFUCirBvOV9p",
   "provenance": []
  },
  "kernelspec": {
   "display_name": "Python3 (ipykernel)",
   "language": "python",
   "name": "python3"
  },
  "language_info": {
   "codemirror_mode": {
    "name": "ipython",
    "version": 3
   },
   "file_extension": ".py",
   "mimetype": "text/x-python",
   "name": "python",
   "nbconvert_exporter": "python",
   "pygments_lexer": "ipython3",
   "version": "3.10.12"
  },
  "widgets": {
   "application/vnd.jupyter.widget-state+json": {
    "state": {},
    "version_major": 2,
    "version_minor": 0
   }
  }
 },
 "nbformat": 4,
 "nbformat_minor": 4
}
