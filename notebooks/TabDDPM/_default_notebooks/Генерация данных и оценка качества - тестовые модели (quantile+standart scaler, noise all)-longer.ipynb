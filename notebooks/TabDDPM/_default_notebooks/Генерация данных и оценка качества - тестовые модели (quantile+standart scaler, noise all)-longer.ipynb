{
 "cells": [
  {
   "cell_type": "markdown",
   "metadata": {},
   "source": [
    "В этом ноубуке используются обeченные тестовые модели, с их помощью происходит сэмплирование и далее закодированные категориальные переменные переводятся в изначальные. После чего замеряется качество.\n",
    "\n",
    "Способ нормализации: quantile transformation для числовых признаков и standart scale для категориальных OHE\n",
    "\n",
    "Добавление шума: ко всем признакам"
   ]
  },
  {
   "cell_type": "code",
   "execution_count": 1,
   "metadata": {},
   "outputs": [
    {
     "name": "stdout",
     "output_type": "stream",
     "text": [
      "/workspace/TabDDPM_copy/TabDDPM\n"
     ]
    },
    {
     "name": "stderr",
     "output_type": "stream",
     "text": [
      "/venv/main/lib/python3.10/site-packages/IPython/core/magics/osm.py:417: UserWarning: This is now an optional IPython functionality, setting dhist requires you to install the `pickleshare` library.\n",
      "  self.shell.db['dhist'] = compress_dhist(dhist)[-100:]\n"
     ]
    }
   ],
   "source": [
    "%cd .."
   ]
  },
  {
   "cell_type": "code",
   "execution_count": 2,
   "metadata": {
    "executionInfo": {
     "elapsed": 11435,
     "status": "ok",
     "timestamp": 1742850942286,
     "user": {
      "displayName": "Elina Telesheva",
      "userId": "03968090829384653347"
     },
     "user_tz": -180
    },
    "id": "o77KHt0w3DWc"
   },
   "outputs": [],
   "source": [
    "import json\n",
    "import pandas as pd\n",
    "import torch\n",
    "import matplotlib.pyplot as plt\n",
    "\n",
    "from utils import *\n",
    "from models.tabddpm_ON_QnSC.tabddpm_ON_QnSC import *\n",
    "\n",
    "from tqdm.notebook import tqdm\n",
    "\n",
    "from eval.base_metrics import calculate_base_metrics\n",
    "from eval.similarity import calculate_similarity\n",
    "from eval.mle import calculate_mle\n",
    "from eval.alpha_beta import calculate_alpha_beta\n",
    "from eval.detection import calculate_detection\n",
    "from eval.dcr import calculate_DCR"
   ]
  },
  {
   "cell_type": "markdown",
   "metadata": {},
   "source": [
    "### Подготовка"
   ]
  },
  {
   "cell_type": "code",
   "execution_count": 3,
   "metadata": {},
   "outputs": [],
   "source": [
    "dataname = 'default_ON_QnSC_200k'\n",
    "dataname_initial = 'default'\n",
    "model_short = 'tabddpm_ON_QnSC'\n",
    "model_name = 'tabddpm_ON_QnSC'\n",
    "model_name_postfix = '_200k'\n",
    "\n",
    "idx = list(range(10))\n",
    "constants = [0, 0.001, 0.01, 0.1, 0.25, 0.5]\n",
    "\n",
    "CONFIG.add_arg('save_cat', None)\n",
    "target_cat=True"
   ]
  },
  {
   "cell_type": "code",
   "execution_count": 4,
   "metadata": {},
   "outputs": [
    {
     "name": "stdout",
     "output_type": "stream",
     "text": [
      "Device: cuda\n"
     ]
    }
   ],
   "source": [
    "if torch.cuda.is_available():\n",
    "    device = f'cuda'\n",
    "else:\n",
    "    device = 'cpu'\n",
    "CONFIG.add_arg('device', device)\n",
    "print(f\"Device: {device}\")\n",
    "\n",
    "CONFIG.add_arg('dataname', dataname)\n",
    "CONFIG.add_arg('real_path',\n",
    "                   f'./synthetic/{dataname}/initial_real.csv')\n",
    "CONFIG.add_arg('test_path',\n",
    "                   f'./synthetic/{dataname}/initial_test.csv')\n",
    "\n",
    "CONFIG.add_arg('info_path',\n",
    "                   f'./data/{dataname}/initial_info.json')"
   ]
  },
  {
   "cell_type": "code",
   "execution_count": 5,
   "metadata": {},
   "outputs": [],
   "source": [
    "model_save_path_hist = []\n",
    "for sigma in constants:\n",
    "    model_save_path=f\"./models/{model_name}/ckpt/{dataname_initial}/{model_name}{model_name_postfix}_const_{str(sigma).replace('.', '_')}\"\n",
    "    model_save_path_hist.append(model_save_path)\n",
    "\n",
    "for i in idx:\n",
    "    model_save_path=f\"./models/{model_name}/ckpt/{dataname_initial}/{model_name}{model_name_postfix}_mult_{i}\"\n",
    "    model_save_path_hist.append(model_save_path)"
   ]
  },
  {
   "cell_type": "code",
   "execution_count": 6,
   "metadata": {},
   "outputs": [
    {
     "name": "stdout",
     "output_type": "stream",
     "text": [
      "normalizers received from `data/default_ON_QnSC_200k` folder\n"
     ]
    }
   ],
   "source": [
    "from pickle import dump, load\n",
    "with open(f'data/{dataname}/normalizers.json', 'r') as f:\n",
    "        normalizers = json.load(f)\n",
    "normalizers['num_normalizer'] = load(open(f'./data/{dataname}/num_normalizer_{dataname}.pkl', 'rb'))\n",
    "normalizers['cat_normalizer'] = load(open(f'./data/{dataname}/cat_normalizer_{dataname}.pkl', 'rb'))\n",
    "print(f\"normalizers received from `data/{dataname}` folder\")"
   ]
  },
  {
   "cell_type": "code",
   "execution_count": 7,
   "metadata": {},
   "outputs": [
    {
     "data": {
      "text/plain": [
       "{'dataname': 'default_ON_QnSC_200k',\n",
       " 'method': 'tabddpm',\n",
       " 'device': 'cuda',\n",
       " 'mode': 'train',\n",
       " 'train': 1,\n",
       " 'sample_save_path': 'synthetic/default/tabddpm.csv',\n",
       " 'sigma_scheduller_name': 'constant',\n",
       " 'sigma_value': 0.001,\n",
       " 'num_noise': 66,\n",
       " 'real_path': './synthetic/default_ON_QnSC_200k/initial_real.csv',\n",
       " 'test_path': './synthetic/default_ON_QnSC_200k/initial_test.csv',\n",
       " 'info_path': './data/default_ON_QnSC_200k/initial_info.json',\n",
       " 'save_path': './synthetic/shoppers_ON_QnSC_200k/initial_tabddpm_ON_QnSC_200k_mult_9.csv',\n",
       " 'num_clusters': 25,\n",
       " 'save_cat': None}"
      ]
     },
     "execution_count": 7,
     "metadata": {},
     "output_type": "execute_result"
    }
   ],
   "source": [
    "CONFIG.get_all_args()"
   ]
  },
  {
   "cell_type": "markdown",
   "metadata": {},
   "source": [
    "### Sample + Eval"
   ]
  },
  {
   "cell_type": "code",
   "execution_count": 10,
   "metadata": {},
   "outputs": [
    {
     "data": {
      "text/plain": [
       "'./synthetic/default_ON_QnSC_200k/tabddpm_ON_QnSC_200k_const_0.csv'"
      ]
     },
     "execution_count": 10,
     "metadata": {},
     "output_type": "execute_result"
    }
   ],
   "source": [
    "sample_save_path"
   ]
  },
  {
   "cell_type": "code",
   "execution_count": null,
   "metadata": {},
   "outputs": [
    {
     "name": "stdout",
     "output_type": "stream",
     "text": [
      "./models/tabddpm_ON_QnSC/ckpt/default/tabddpm_ON_QnSC_200k_const_0 tabddpm_ON_QnSC_200k_const_0 ./synthetic/default_ON_QnSC_200k/tabddpm_ON_QnSC_200k_const_0.csv\n",
      "CALCULATING COLUMN-WISE DENSITY ESTIMATION & PAIR-WISE COLUMN CORRELATION...\n",
      "Generating report ...\n",
      "\n",
      "(1/2) Evaluating Column Shapes: |██████████| 24/24 [00:00<00:00, 54.90it/s]|\n",
      "Column Shapes Score: 98.71%\n",
      "\n",
      "(2/2) Evaluating Column Pair Trends: |██████████| 276/276 [00:02<00:00, 97.22it/s]| \n",
      "Column Pair Trends Score: 97.97%\n",
      "\n",
      "Overall Score (Average): 98.34%\n",
      "\n",
      "Error rate (%) of column-wise density estimation TABDDPM_ON_QNSC_200K_CONST_0: 1.294 ± 0.525\n",
      "Error rate (%) of pair-wise column correlation score TABDDPM_ON_QNSC_200K_CONST_0: 2.029 ± 1.683\n"
     ]
    },
    {
     "data": {
      "text/html": [
       "<iframe\n",
       "    scrolling=\"no\"\n",
       "    width=\"100%\"\n",
       "    height=\"545px\"\n",
       "    src=\"iframe_figures/figure_11.html\"\n",
       "    frameborder=\"0\"\n",
       "    allowfullscreen\n",
       "></iframe>\n"
      ]
     },
     "metadata": {},
     "output_type": "display_data"
    },
    {
     "data": {
      "text/html": [
       "<iframe\n",
       "    scrolling=\"no\"\n",
       "    width=\"920px\"\n",
       "    height=\"920\"\n",
       "    src=\"iframe_figures/figure_11.html\"\n",
       "    frameborder=\"0\"\n",
       "    allowfullscreen\n",
       "></iframe>\n"
      ]
     },
     "metadata": {},
     "output_type": "display_data"
    },
    {
     "name": "stdout",
     "output_type": "stream",
     "text": [
      "DONE! \n",
      "\n",
      "DRAW COLUMN VALUES DISTRIBUTIONS...\n"
     ]
    },
    {
     "data": {
      "text/html": [
       "<iframe\n",
       "    scrolling=\"no\"\n",
       "    width=\"100%\"\n",
       "    height=\"545px\"\n",
       "    src=\"iframe_figures/figure_11.html\"\n",
       "    frameborder=\"0\"\n",
       "    allowfullscreen\n",
       "></iframe>\n"
      ]
     },
     "metadata": {},
     "output_type": "display_data"
    },
    {
     "data": {
      "text/html": [
       "<iframe\n",
       "    scrolling=\"no\"\n",
       "    width=\"100%\"\n",
       "    height=\"545px\"\n",
       "    src=\"iframe_figures/figure_11.html\"\n",
       "    frameborder=\"0\"\n",
       "    allowfullscreen\n",
       "></iframe>\n"
      ]
     },
     "metadata": {},
     "output_type": "display_data"
    },
    {
     "data": {
      "text/html": [
       "<iframe\n",
       "    scrolling=\"no\"\n",
       "    width=\"100%\"\n",
       "    height=\"545px\"\n",
       "    src=\"iframe_figures/figure_11.html\"\n",
       "    frameborder=\"0\"\n",
       "    allowfullscreen\n",
       "></iframe>\n"
      ]
     },
     "metadata": {},
     "output_type": "display_data"
    },
    {
     "data": {
      "text/html": [
       "<iframe\n",
       "    scrolling=\"no\"\n",
       "    width=\"100%\"\n",
       "    height=\"545px\"\n",
       "    src=\"iframe_figures/figure_11.html\"\n",
       "    frameborder=\"0\"\n",
       "    allowfullscreen\n",
       "></iframe>\n"
      ]
     },
     "metadata": {},
     "output_type": "display_data"
    },
    {
     "data": {
      "text/html": [
       "<iframe\n",
       "    scrolling=\"no\"\n",
       "    width=\"100%\"\n",
       "    height=\"545px\"\n",
       "    src=\"iframe_figures/figure_11.html\"\n",
       "    frameborder=\"0\"\n",
       "    allowfullscreen\n",
       "></iframe>\n"
      ]
     },
     "metadata": {},
     "output_type": "display_data"
    },
    {
     "data": {
      "text/html": [
       "<iframe\n",
       "    scrolling=\"no\"\n",
       "    width=\"100%\"\n",
       "    height=\"545px\"\n",
       "    src=\"iframe_figures/figure_11.html\"\n",
       "    frameborder=\"0\"\n",
       "    allowfullscreen\n",
       "></iframe>\n"
      ]
     },
     "metadata": {},
     "output_type": "display_data"
    },
    {
     "data": {
      "text/html": [
       "<iframe\n",
       "    scrolling=\"no\"\n",
       "    width=\"100%\"\n",
       "    height=\"545px\"\n",
       "    src=\"iframe_figures/figure_11.html\"\n",
       "    frameborder=\"0\"\n",
       "    allowfullscreen\n",
       "></iframe>\n"
      ]
     },
     "metadata": {},
     "output_type": "display_data"
    },
    {
     "data": {
      "text/html": [
       "<iframe\n",
       "    scrolling=\"no\"\n",
       "    width=\"100%\"\n",
       "    height=\"545px\"\n",
       "    src=\"iframe_figures/figure_11.html\"\n",
       "    frameborder=\"0\"\n",
       "    allowfullscreen\n",
       "></iframe>\n"
      ]
     },
     "metadata": {},
     "output_type": "display_data"
    },
    {
     "data": {
      "text/html": [
       "<iframe\n",
       "    scrolling=\"no\"\n",
       "    width=\"100%\"\n",
       "    height=\"545px\"\n",
       "    src=\"iframe_figures/figure_11.html\"\n",
       "    frameborder=\"0\"\n",
       "    allowfullscreen\n",
       "></iframe>\n"
      ]
     },
     "metadata": {},
     "output_type": "display_data"
    },
    {
     "data": {
      "text/html": [
       "<iframe\n",
       "    scrolling=\"no\"\n",
       "    width=\"100%\"\n",
       "    height=\"545px\"\n",
       "    src=\"iframe_figures/figure_11.html\"\n",
       "    frameborder=\"0\"\n",
       "    allowfullscreen\n",
       "></iframe>\n"
      ]
     },
     "metadata": {},
     "output_type": "display_data"
    },
    {
     "data": {
      "text/html": [
       "<iframe\n",
       "    scrolling=\"no\"\n",
       "    width=\"100%\"\n",
       "    height=\"545px\"\n",
       "    src=\"iframe_figures/figure_11.html\"\n",
       "    frameborder=\"0\"\n",
       "    allowfullscreen\n",
       "></iframe>\n"
      ]
     },
     "metadata": {},
     "output_type": "display_data"
    },
    {
     "data": {
      "text/html": [
       "<iframe\n",
       "    scrolling=\"no\"\n",
       "    width=\"100%\"\n",
       "    height=\"545px\"\n",
       "    src=\"iframe_figures/figure_11.html\"\n",
       "    frameborder=\"0\"\n",
       "    allowfullscreen\n",
       "></iframe>\n"
      ]
     },
     "metadata": {},
     "output_type": "display_data"
    },
    {
     "data": {
      "text/html": [
       "<iframe\n",
       "    scrolling=\"no\"\n",
       "    width=\"100%\"\n",
       "    height=\"545px\"\n",
       "    src=\"iframe_figures/figure_11.html\"\n",
       "    frameborder=\"0\"\n",
       "    allowfullscreen\n",
       "></iframe>\n"
      ]
     },
     "metadata": {},
     "output_type": "display_data"
    },
    {
     "data": {
      "text/html": [
       "<iframe\n",
       "    scrolling=\"no\"\n",
       "    width=\"100%\"\n",
       "    height=\"545px\"\n",
       "    src=\"iframe_figures/figure_11.html\"\n",
       "    frameborder=\"0\"\n",
       "    allowfullscreen\n",
       "></iframe>\n"
      ]
     },
     "metadata": {},
     "output_type": "display_data"
    },
    {
     "data": {
      "text/html": [
       "<iframe\n",
       "    scrolling=\"no\"\n",
       "    width=\"100%\"\n",
       "    height=\"545px\"\n",
       "    src=\"iframe_figures/figure_11.html\"\n",
       "    frameborder=\"0\"\n",
       "    allowfullscreen\n",
       "></iframe>\n"
      ]
     },
     "metadata": {},
     "output_type": "display_data"
    },
    {
     "data": {
      "text/html": [
       "<iframe\n",
       "    scrolling=\"no\"\n",
       "    width=\"100%\"\n",
       "    height=\"545px\"\n",
       "    src=\"iframe_figures/figure_11.html\"\n",
       "    frameborder=\"0\"\n",
       "    allowfullscreen\n",
       "></iframe>\n"
      ]
     },
     "metadata": {},
     "output_type": "display_data"
    },
    {
     "data": {
      "text/html": [
       "<iframe\n",
       "    scrolling=\"no\"\n",
       "    width=\"100%\"\n",
       "    height=\"545px\"\n",
       "    src=\"iframe_figures/figure_11.html\"\n",
       "    frameborder=\"0\"\n",
       "    allowfullscreen\n",
       "></iframe>\n"
      ]
     },
     "metadata": {},
     "output_type": "display_data"
    },
    {
     "data": {
      "text/html": [
       "<iframe\n",
       "    scrolling=\"no\"\n",
       "    width=\"100%\"\n",
       "    height=\"545px\"\n",
       "    src=\"iframe_figures/figure_11.html\"\n",
       "    frameborder=\"0\"\n",
       "    allowfullscreen\n",
       "></iframe>\n"
      ]
     },
     "metadata": {},
     "output_type": "display_data"
    },
    {
     "data": {
      "text/html": [
       "<iframe\n",
       "    scrolling=\"no\"\n",
       "    width=\"100%\"\n",
       "    height=\"545px\"\n",
       "    src=\"iframe_figures/figure_11.html\"\n",
       "    frameborder=\"0\"\n",
       "    allowfullscreen\n",
       "></iframe>\n"
      ]
     },
     "metadata": {},
     "output_type": "display_data"
    },
    {
     "data": {
      "text/html": [
       "<iframe\n",
       "    scrolling=\"no\"\n",
       "    width=\"100%\"\n",
       "    height=\"545px\"\n",
       "    src=\"iframe_figures/figure_11.html\"\n",
       "    frameborder=\"0\"\n",
       "    allowfullscreen\n",
       "></iframe>\n"
      ]
     },
     "metadata": {},
     "output_type": "display_data"
    },
    {
     "data": {
      "text/html": [
       "<iframe\n",
       "    scrolling=\"no\"\n",
       "    width=\"100%\"\n",
       "    height=\"545px\"\n",
       "    src=\"iframe_figures/figure_11.html\"\n",
       "    frameborder=\"0\"\n",
       "    allowfullscreen\n",
       "></iframe>\n"
      ]
     },
     "metadata": {},
     "output_type": "display_data"
    },
    {
     "data": {
      "text/html": [
       "<iframe\n",
       "    scrolling=\"no\"\n",
       "    width=\"100%\"\n",
       "    height=\"545px\"\n",
       "    src=\"iframe_figures/figure_11.html\"\n",
       "    frameborder=\"0\"\n",
       "    allowfullscreen\n",
       "></iframe>\n"
      ]
     },
     "metadata": {},
     "output_type": "display_data"
    },
    {
     "data": {
      "text/html": [
       "<iframe\n",
       "    scrolling=\"no\"\n",
       "    width=\"100%\"\n",
       "    height=\"545px\"\n",
       "    src=\"iframe_figures/figure_11.html\"\n",
       "    frameborder=\"0\"\n",
       "    allowfullscreen\n",
       "></iframe>\n"
      ]
     },
     "metadata": {},
     "output_type": "display_data"
    },
    {
     "data": {
      "text/html": [
       "<iframe\n",
       "    scrolling=\"no\"\n",
       "    width=\"100%\"\n",
       "    height=\"545px\"\n",
       "    src=\"iframe_figures/figure_11.html\"\n",
       "    frameborder=\"0\"\n",
       "    allowfullscreen\n",
       "></iframe>\n"
      ]
     },
     "metadata": {},
     "output_type": "display_data"
    },
    {
     "name": "stdout",
     "output_type": "stream",
     "text": [
      "DONE!\n",
      "./models/tabddpm_ON_QnSC/ckpt/default/tabddpm_ON_QnSC_200k_const_0_001 tabddpm_ON_QnSC_200k_const_0_001 ./synthetic/default_ON_QnSC_200k/tabddpm_ON_QnSC_200k_const_0_001.csv\n",
      "CALCULATING COLUMN-WISE DENSITY ESTIMATION & PAIR-WISE COLUMN CORRELATION...\n",
      "Generating report ...\n",
      "\n",
      "(1/2) Evaluating Column Shapes: |██████████| 24/24 [00:00<00:00, 59.17it/s]|\n",
      "Column Shapes Score: 98.87%\n",
      "\n",
      "(2/2) Evaluating Column Pair Trends: |██████████| 276/276 [00:02<00:00, 92.08it/s]| \n",
      "Column Pair Trends Score: 98.16%\n",
      "\n",
      "Overall Score (Average): 98.52%\n",
      "\n",
      "Error rate (%) of column-wise density estimation TABDDPM_ON_QNSC_200K_CONST_0_001: 1.128 ± 0.454\n",
      "Error rate (%) of pair-wise column correlation score TABDDPM_ON_QNSC_200K_CONST_0_001: 1.842 ± 1.840\n"
     ]
    },
    {
     "data": {
      "text/html": [
       "<iframe\n",
       "    scrolling=\"no\"\n",
       "    width=\"100%\"\n",
       "    height=\"545px\"\n",
       "    src=\"iframe_figures/figure_11.html\"\n",
       "    frameborder=\"0\"\n",
       "    allowfullscreen\n",
       "></iframe>\n"
      ]
     },
     "metadata": {},
     "output_type": "display_data"
    },
    {
     "data": {
      "text/html": [
       "<iframe\n",
       "    scrolling=\"no\"\n",
       "    width=\"920px\"\n",
       "    height=\"920\"\n",
       "    src=\"iframe_figures/figure_11.html\"\n",
       "    frameborder=\"0\"\n",
       "    allowfullscreen\n",
       "></iframe>\n"
      ]
     },
     "metadata": {},
     "output_type": "display_data"
    },
    {
     "name": "stdout",
     "output_type": "stream",
     "text": [
      "DONE! \n",
      "\n",
      "DRAW COLUMN VALUES DISTRIBUTIONS...\n"
     ]
    }
   ],
   "source": [
    "overall_metrics = {}\n",
    "\n",
    "for model_save_path in model_save_path_hist:\n",
    "    model_name = model_save_path.split('/')[-1]\n",
    "    sample_save_path = f'./synthetic/{dataname}/{model_name}.csv'\n",
    "\n",
    "    CONFIG.add_arg('method', model_name)\n",
    "    CONFIG.add_arg('sample_save_path',\n",
    "                       f\"synthetic/{CONFIG.get_arg('dataname')}/{CONFIG.get_arg('method')}.csv\")\n",
    "\n",
    "    overall_metrics[model_name] = {}\n",
    "\n",
    "    print(model_save_path, model_name, sample_save_path)\n",
    "\n",
    "    tabddpm_noise_ohe = TabDDPM_OHE_Noise_QnSC(CONFIG, model_save_path=model_save_path, sigmas=None)\n",
    "    tabddpm_noise_ohe.sample(sample_save_path=sample_save_path)\n",
    "    postsample_OHE(dataname, f'./synthetic/{dataname}/initial_{model_name}.csv', normalizers=normalizers, target_cat=target_cat)\n",
    "\n",
    "    # подсчет метрик\n",
    "    try:\n",
    "        overall_metrics[model_name]['base_metrics'] = calculate_base_metrics(make_binary=False)\n",
    "    except Exception as e:\n",
    "        overall_metrics[model_name]['base_metrics'] = np.nan\n",
    "    overall_metrics[model_name]['similarity'] = calculate_similarity()\n",
    "    overall_metrics[model_name]['mle'] = calculate_mle()\n",
    "    overall_metrics[model_name]['detection'] = calculate_detection()\n",
    "    overall_metrics[model_name]['DCR'] = calculate_DCR()\n",
    "    overall_metrics[model_name]['quality'] = calculate_alpha_beta()"
   ]
  },
  {
   "cell_type": "code",
   "execution_count": 9,
   "metadata": {},
   "outputs": [],
   "source": [
    "final_metrics_table = []\n",
    "for m in overall_metrics.keys():\n",
    "    # Сбор таблички результатов\n",
    "    tmp = pd.DataFrame([{'Model':model_short, 'Type':m, 'Data':dataname_initial}])\n",
    "    tmp.columns = pd.MultiIndex.from_tuples([('', i) for i in tmp.columns])\n",
    "    result = [tmp]\n",
    "    \n",
    "    for metric_group in overall_metrics[m].keys():\n",
    "        tmp = pd.DataFrame([overall_metrics[m][metric_group]])\n",
    "        tmp.columns = pd.MultiIndex.from_tuples([(metric_group, i) for i in tmp.columns])\n",
    "        result.append(tmp)\n",
    "    result = pd.concat(result, axis = 1)\n",
    "    final_metrics_table.append(result)\n",
    "    \n",
    "final_metrics_table = pd.concat(final_metrics_table)"
   ]
  },
  {
   "cell_type": "code",
   "execution_count": 11,
   "metadata": {},
   "outputs": [
    {
     "data": {
      "text/html": [
       "<div>\n",
       "<style scoped>\n",
       "    .dataframe tbody tr th:only-of-type {\n",
       "        vertical-align: middle;\n",
       "    }\n",
       "\n",
       "    .dataframe tbody tr th {\n",
       "        vertical-align: top;\n",
       "    }\n",
       "\n",
       "    .dataframe thead tr th {\n",
       "        text-align: left;\n",
       "    }\n",
       "</style>\n",
       "<table border=\"1\" class=\"dataframe\">\n",
       "  <thead>\n",
       "    <tr>\n",
       "      <th></th>\n",
       "      <th colspan=\"3\" halign=\"left\"></th>\n",
       "      <th colspan=\"6\" halign=\"left\">base_metrics</th>\n",
       "      <th colspan=\"7\" halign=\"left\">similarity</th>\n",
       "      <th colspan=\"2\" halign=\"left\">mle</th>\n",
       "      <th>detection</th>\n",
       "      <th>DCR</th>\n",
       "      <th colspan=\"2\" halign=\"left\">quality</th>\n",
       "    </tr>\n",
       "    <tr>\n",
       "      <th></th>\n",
       "      <th>Model</th>\n",
       "      <th>Type</th>\n",
       "      <th>Data</th>\n",
       "      <th>Original Logistic</th>\n",
       "      <th>Synthetic Logistic</th>\n",
       "      <th>Original Tree</th>\n",
       "      <th>Synthetic Tree</th>\n",
       "      <th>Accuracy Loss Logistic, %</th>\n",
       "      <th>Accuracy Loss Tree, %</th>\n",
       "      <th>Column Shapes Score, %</th>\n",
       "      <th>Column Pair Trends Score, %</th>\n",
       "      <th>Overall Score (Average), %</th>\n",
       "      <th>Error rate (%) of column-wise density estimation, %</th>\n",
       "      <th>Error rate (%) of column-wise density estimation std, %</th>\n",
       "      <th>Error rate (%) of pair-wise column correlation score, %</th>\n",
       "      <th>Error rate (%) of pair-wise column correlation score std, %</th>\n",
       "      <th>ROC - AUC обучения на синтетических данных</th>\n",
       "      <th>ROC - AUC обучения на синтетических данных, std</th>\n",
       "      <th>Score</th>\n",
       "      <th>Score</th>\n",
       "      <th>alpha precision</th>\n",
       "      <th>beta recall</th>\n",
       "    </tr>\n",
       "  </thead>\n",
       "  <tbody>\n",
       "    <tr>\n",
       "      <th>0</th>\n",
       "      <td>tabddpm_ON_QnSC</td>\n",
       "      <td>tabddpm_ON_QnSC_200k_const_0_01</td>\n",
       "      <td>default</td>\n",
       "      <td>0.4855</td>\n",
       "      <td>0.4747</td>\n",
       "      <td>0.4917</td>\n",
       "      <td>0.4726</td>\n",
       "      <td>2.2344</td>\n",
       "      <td>3.8821</td>\n",
       "      <td>99.0273</td>\n",
       "      <td>98.3867</td>\n",
       "      <td>98.7070</td>\n",
       "      <td>0.9727</td>\n",
       "      <td>0.4733</td>\n",
       "      <td>1.6133</td>\n",
       "      <td>1.2719</td>\n",
       "      <td>0.7458</td>\n",
       "      <td>0.0137</td>\n",
       "      <td>0.9985</td>\n",
       "      <td>0.5106</td>\n",
       "      <td>0.9859</td>\n",
       "      <td>0.4812</td>\n",
       "    </tr>\n",
       "    <tr>\n",
       "      <th>0</th>\n",
       "      <td>tabddpm_ON_QnSC</td>\n",
       "      <td>tabddpm_ON_QnSC_200k_const_0_001</td>\n",
       "      <td>default</td>\n",
       "      <td>0.4855</td>\n",
       "      <td>0.4798</td>\n",
       "      <td>0.4917</td>\n",
       "      <td>0.4436</td>\n",
       "      <td>1.1761</td>\n",
       "      <td>9.7745</td>\n",
       "      <td>98.8724</td>\n",
       "      <td>98.1579</td>\n",
       "      <td>98.5151</td>\n",
       "      <td>1.1276</td>\n",
       "      <td>0.4535</td>\n",
       "      <td>1.8421</td>\n",
       "      <td>1.8395</td>\n",
       "      <td>0.7210</td>\n",
       "      <td>0.0080</td>\n",
       "      <td>0.9881</td>\n",
       "      <td>0.5070</td>\n",
       "      <td>0.9849</td>\n",
       "      <td>0.4849</td>\n",
       "    </tr>\n",
       "    <tr>\n",
       "      <th>0</th>\n",
       "      <td>tabddpm_ON_QnSC</td>\n",
       "      <td>tabddpm_ON_QnSC_200k_const_0</td>\n",
       "      <td>default</td>\n",
       "      <td>0.4855</td>\n",
       "      <td>0.4781</td>\n",
       "      <td>0.4920</td>\n",
       "      <td>0.4646</td>\n",
       "      <td>1.5225</td>\n",
       "      <td>5.5503</td>\n",
       "      <td>98.7065</td>\n",
       "      <td>97.9713</td>\n",
       "      <td>98.3389</td>\n",
       "      <td>1.2935</td>\n",
       "      <td>0.5248</td>\n",
       "      <td>2.0287</td>\n",
       "      <td>1.6832</td>\n",
       "      <td>0.7531</td>\n",
       "      <td>0.0113</td>\n",
       "      <td>0.9929</td>\n",
       "      <td>0.5036</td>\n",
       "      <td>0.9796</td>\n",
       "      <td>0.4836</td>\n",
       "    </tr>\n",
       "    <tr>\n",
       "      <th>0</th>\n",
       "      <td>tabddpm_ON_QnSC</td>\n",
       "      <td>tabddpm_ON_QnSC_200k_mult_9</td>\n",
       "      <td>default</td>\n",
       "      <td>0.4855</td>\n",
       "      <td>0.4843</td>\n",
       "      <td>0.4917</td>\n",
       "      <td>0.4638</td>\n",
       "      <td>0.2463</td>\n",
       "      <td>5.6691</td>\n",
       "      <td>98.4269</td>\n",
       "      <td>98.1068</td>\n",
       "      <td>98.2668</td>\n",
       "      <td>1.5731</td>\n",
       "      <td>0.6479</td>\n",
       "      <td>1.8932</td>\n",
       "      <td>1.0520</td>\n",
       "      <td>0.7372</td>\n",
       "      <td>0.0134</td>\n",
       "      <td>0.9819</td>\n",
       "      <td>0.5090</td>\n",
       "      <td>0.9707</td>\n",
       "      <td>0.4728</td>\n",
       "    </tr>\n",
       "    <tr>\n",
       "      <th>0</th>\n",
       "      <td>tabddpm_ON_QnSC</td>\n",
       "      <td>tabddpm_ON_QnSC_200k_const_0_25</td>\n",
       "      <td>default</td>\n",
       "      <td>0.4855</td>\n",
       "      <td>0.4855</td>\n",
       "      <td>0.4917</td>\n",
       "      <td>0.4833</td>\n",
       "      <td>0.0117</td>\n",
       "      <td>1.7037</td>\n",
       "      <td>98.4727</td>\n",
       "      <td>98.0386</td>\n",
       "      <td>98.2556</td>\n",
       "      <td>1.5273</td>\n",
       "      <td>0.7820</td>\n",
       "      <td>1.9614</td>\n",
       "      <td>1.4302</td>\n",
       "      <td>0.7274</td>\n",
       "      <td>0.0122</td>\n",
       "      <td>0.9893</td>\n",
       "      <td>0.5140</td>\n",
       "      <td>0.9782</td>\n",
       "      <td>0.3290</td>\n",
       "    </tr>\n",
       "    <tr>\n",
       "      <th>0</th>\n",
       "      <td>tabddpm_ON_QnSC</td>\n",
       "      <td>tabddpm_ON_QnSC_200k_mult_4</td>\n",
       "      <td>default</td>\n",
       "      <td>0.4855</td>\n",
       "      <td>0.4809</td>\n",
       "      <td>0.4917</td>\n",
       "      <td>0.4494</td>\n",
       "      <td>0.9462</td>\n",
       "      <td>8.6021</td>\n",
       "      <td>98.6201</td>\n",
       "      <td>97.6793</td>\n",
       "      <td>98.1497</td>\n",
       "      <td>1.3799</td>\n",
       "      <td>0.6026</td>\n",
       "      <td>2.3207</td>\n",
       "      <td>2.2346</td>\n",
       "      <td>0.7117</td>\n",
       "      <td>0.0143</td>\n",
       "      <td>0.9749</td>\n",
       "      <td>0.5068</td>\n",
       "      <td>0.9776</td>\n",
       "      <td>0.4843</td>\n",
       "    </tr>\n",
       "    <tr>\n",
       "      <th>0</th>\n",
       "      <td>tabddpm_ON_QnSC</td>\n",
       "      <td>tabddpm_ON_QnSC_200k_const_0_1</td>\n",
       "      <td>default</td>\n",
       "      <td>0.4855</td>\n",
       "      <td>0.4797</td>\n",
       "      <td>0.4917</td>\n",
       "      <td>0.4703</td>\n",
       "      <td>1.2026</td>\n",
       "      <td>4.3484</td>\n",
       "      <td>98.5256</td>\n",
       "      <td>97.6654</td>\n",
       "      <td>98.0955</td>\n",
       "      <td>1.4744</td>\n",
       "      <td>0.6884</td>\n",
       "      <td>2.3346</td>\n",
       "      <td>1.7564</td>\n",
       "      <td>0.7258</td>\n",
       "      <td>0.0130</td>\n",
       "      <td>0.9829</td>\n",
       "      <td>0.5112</td>\n",
       "      <td>0.9668</td>\n",
       "      <td>0.4342</td>\n",
       "    </tr>\n",
       "    <tr>\n",
       "      <th>0</th>\n",
       "      <td>tabddpm_ON_QnSC</td>\n",
       "      <td>tabddpm_ON_QnSC_200k_mult_8</td>\n",
       "      <td>default</td>\n",
       "      <td>0.4855</td>\n",
       "      <td>0.4798</td>\n",
       "      <td>0.4917</td>\n",
       "      <td>0.4464</td>\n",
       "      <td>1.1756</td>\n",
       "      <td>9.2164</td>\n",
       "      <td>98.4867</td>\n",
       "      <td>97.6611</td>\n",
       "      <td>98.0739</td>\n",
       "      <td>1.5133</td>\n",
       "      <td>0.5454</td>\n",
       "      <td>2.3389</td>\n",
       "      <td>2.4712</td>\n",
       "      <td>0.7188</td>\n",
       "      <td>0.0118</td>\n",
       "      <td>0.9758</td>\n",
       "      <td>0.5070</td>\n",
       "      <td>0.9715</td>\n",
       "      <td>0.4783</td>\n",
       "    </tr>\n",
       "    <tr>\n",
       "      <th>0</th>\n",
       "      <td>tabddpm_ON_QnSC</td>\n",
       "      <td>tabddpm_ON_QnSC_200k_mult_3</td>\n",
       "      <td>default</td>\n",
       "      <td>0.4855</td>\n",
       "      <td>0.4825</td>\n",
       "      <td>0.4917</td>\n",
       "      <td>0.4450</td>\n",
       "      <td>0.6193</td>\n",
       "      <td>9.4929</td>\n",
       "      <td>98.4256</td>\n",
       "      <td>97.3088</td>\n",
       "      <td>97.8672</td>\n",
       "      <td>1.5744</td>\n",
       "      <td>0.6507</td>\n",
       "      <td>2.6912</td>\n",
       "      <td>2.3496</td>\n",
       "      <td>0.7261</td>\n",
       "      <td>0.0140</td>\n",
       "      <td>0.9870</td>\n",
       "      <td>0.5054</td>\n",
       "      <td>0.9713</td>\n",
       "      <td>0.4718</td>\n",
       "    </tr>\n",
       "    <tr>\n",
       "      <th>0</th>\n",
       "      <td>tabddpm_ON_QnSC</td>\n",
       "      <td>tabddpm_ON_QnSC_200k_mult_6</td>\n",
       "      <td>default</td>\n",
       "      <td>0.4855</td>\n",
       "      <td>0.4831</td>\n",
       "      <td>0.4917</td>\n",
       "      <td>0.4339</td>\n",
       "      <td>0.5109</td>\n",
       "      <td>11.7522</td>\n",
       "      <td>98.5708</td>\n",
       "      <td>97.1351</td>\n",
       "      <td>97.8530</td>\n",
       "      <td>1.4292</td>\n",
       "      <td>0.6012</td>\n",
       "      <td>2.8649</td>\n",
       "      <td>3.3448</td>\n",
       "      <td>0.7074</td>\n",
       "      <td>0.0143</td>\n",
       "      <td>0.9777</td>\n",
       "      <td>0.5074</td>\n",
       "      <td>0.9772</td>\n",
       "      <td>0.4738</td>\n",
       "    </tr>\n",
       "    <tr>\n",
       "      <th>0</th>\n",
       "      <td>tabddpm_ON_QnSC</td>\n",
       "      <td>tabddpm_ON_QnSC_200k_mult_7</td>\n",
       "      <td>default</td>\n",
       "      <td>0.4855</td>\n",
       "      <td>0.4699</td>\n",
       "      <td>0.4917</td>\n",
       "      <td>0.4477</td>\n",
       "      <td>3.2135</td>\n",
       "      <td>8.9480</td>\n",
       "      <td>98.6211</td>\n",
       "      <td>96.9094</td>\n",
       "      <td>97.7653</td>\n",
       "      <td>1.3789</td>\n",
       "      <td>0.5991</td>\n",
       "      <td>3.0906</td>\n",
       "      <td>4.2719</td>\n",
       "      <td>0.7315</td>\n",
       "      <td>0.0177</td>\n",
       "      <td>0.9848</td>\n",
       "      <td>0.5002</td>\n",
       "      <td>0.9763</td>\n",
       "      <td>0.4634</td>\n",
       "    </tr>\n",
       "    <tr>\n",
       "      <th>0</th>\n",
       "      <td>tabddpm_ON_QnSC</td>\n",
       "      <td>tabddpm_ON_QnSC_200k_mult_2</td>\n",
       "      <td>default</td>\n",
       "      <td>0.4855</td>\n",
       "      <td>0.4657</td>\n",
       "      <td>0.4917</td>\n",
       "      <td>0.4531</td>\n",
       "      <td>4.0775</td>\n",
       "      <td>7.8488</td>\n",
       "      <td>98.3603</td>\n",
       "      <td>97.1235</td>\n",
       "      <td>97.7419</td>\n",
       "      <td>1.6397</td>\n",
       "      <td>0.6740</td>\n",
       "      <td>2.8765</td>\n",
       "      <td>2.8009</td>\n",
       "      <td>0.7211</td>\n",
       "      <td>0.0175</td>\n",
       "      <td>0.9765</td>\n",
       "      <td>0.5037</td>\n",
       "      <td>0.9725</td>\n",
       "      <td>0.4716</td>\n",
       "    </tr>\n",
       "    <tr>\n",
       "      <th>0</th>\n",
       "      <td>tabddpm_ON_QnSC</td>\n",
       "      <td>tabddpm_ON_QnSC_200k_mult_5</td>\n",
       "      <td>default</td>\n",
       "      <td>0.4855</td>\n",
       "      <td>0.4841</td>\n",
       "      <td>0.4917</td>\n",
       "      <td>0.4962</td>\n",
       "      <td>0.2902</td>\n",
       "      <td>-0.9242</td>\n",
       "      <td>98.5688</td>\n",
       "      <td>95.9197</td>\n",
       "      <td>97.2443</td>\n",
       "      <td>1.4312</td>\n",
       "      <td>0.5565</td>\n",
       "      <td>4.0803</td>\n",
       "      <td>5.3778</td>\n",
       "      <td>0.7247</td>\n",
       "      <td>0.0167</td>\n",
       "      <td>0.9776</td>\n",
       "      <td>0.5053</td>\n",
       "      <td>0.9763</td>\n",
       "      <td>0.4646</td>\n",
       "    </tr>\n",
       "    <tr>\n",
       "      <th>0</th>\n",
       "      <td>tabddpm_ON_QnSC</td>\n",
       "      <td>tabddpm_ON_QnSC_200k_mult_0</td>\n",
       "      <td>default</td>\n",
       "      <td>0.4855</td>\n",
       "      <td>0.4801</td>\n",
       "      <td>0.4917</td>\n",
       "      <td>0.4261</td>\n",
       "      <td>1.1220</td>\n",
       "      <td>13.3413</td>\n",
       "      <td>98.4762</td>\n",
       "      <td>95.6942</td>\n",
       "      <td>97.0852</td>\n",
       "      <td>1.5238</td>\n",
       "      <td>0.5185</td>\n",
       "      <td>4.3058</td>\n",
       "      <td>5.8896</td>\n",
       "      <td>0.7256</td>\n",
       "      <td>0.0155</td>\n",
       "      <td>0.9713</td>\n",
       "      <td>0.5105</td>\n",
       "      <td>0.9742</td>\n",
       "      <td>0.4611</td>\n",
       "    </tr>\n",
       "    <tr>\n",
       "      <th>0</th>\n",
       "      <td>tabddpm_ON_QnSC</td>\n",
       "      <td>tabddpm_ON_QnSC_200k_mult_1</td>\n",
       "      <td>default</td>\n",
       "      <td>0.4855</td>\n",
       "      <td>0.4788</td>\n",
       "      <td>0.4917</td>\n",
       "      <td>0.4714</td>\n",
       "      <td>1.3855</td>\n",
       "      <td>4.1255</td>\n",
       "      <td>98.2324</td>\n",
       "      <td>95.7137</td>\n",
       "      <td>96.9731</td>\n",
       "      <td>1.7676</td>\n",
       "      <td>0.6597</td>\n",
       "      <td>4.2863</td>\n",
       "      <td>4.8932</td>\n",
       "      <td>0.7131</td>\n",
       "      <td>0.0136</td>\n",
       "      <td>0.9846</td>\n",
       "      <td>0.5039</td>\n",
       "      <td>0.9691</td>\n",
       "      <td>0.4604</td>\n",
       "    </tr>\n",
       "    <tr>\n",
       "      <th>0</th>\n",
       "      <td>tabddpm_ON_QnSC</td>\n",
       "      <td>tabddpm_ON_QnSC_200k_const_0_5</td>\n",
       "      <td>default</td>\n",
       "      <td>0.4855</td>\n",
       "      <td>0.4811</td>\n",
       "      <td>0.4917</td>\n",
       "      <td>0.4990</td>\n",
       "      <td>0.9091</td>\n",
       "      <td>-1.4836</td>\n",
       "      <td>97.1633</td>\n",
       "      <td>96.7587</td>\n",
       "      <td>96.9610</td>\n",
       "      <td>2.8367</td>\n",
       "      <td>1.9471</td>\n",
       "      <td>3.2413</td>\n",
       "      <td>3.1997</td>\n",
       "      <td>0.7108</td>\n",
       "      <td>0.0174</td>\n",
       "      <td>0.9307</td>\n",
       "      <td>0.5076</td>\n",
       "      <td>0.9796</td>\n",
       "      <td>0.2234</td>\n",
       "    </tr>\n",
       "  </tbody>\n",
       "</table>\n",
       "</div>"
      ],
      "text/plain": [
       "                                                               \\\n",
       "             Model                              Type     Data   \n",
       "0  tabddpm_ON_QnSC   tabddpm_ON_QnSC_200k_const_0_01  default   \n",
       "0  tabddpm_ON_QnSC  tabddpm_ON_QnSC_200k_const_0_001  default   \n",
       "0  tabddpm_ON_QnSC      tabddpm_ON_QnSC_200k_const_0  default   \n",
       "0  tabddpm_ON_QnSC       tabddpm_ON_QnSC_200k_mult_9  default   \n",
       "0  tabddpm_ON_QnSC   tabddpm_ON_QnSC_200k_const_0_25  default   \n",
       "0  tabddpm_ON_QnSC       tabddpm_ON_QnSC_200k_mult_4  default   \n",
       "0  tabddpm_ON_QnSC    tabddpm_ON_QnSC_200k_const_0_1  default   \n",
       "0  tabddpm_ON_QnSC       tabddpm_ON_QnSC_200k_mult_8  default   \n",
       "0  tabddpm_ON_QnSC       tabddpm_ON_QnSC_200k_mult_3  default   \n",
       "0  tabddpm_ON_QnSC       tabddpm_ON_QnSC_200k_mult_6  default   \n",
       "0  tabddpm_ON_QnSC       tabddpm_ON_QnSC_200k_mult_7  default   \n",
       "0  tabddpm_ON_QnSC       tabddpm_ON_QnSC_200k_mult_2  default   \n",
       "0  tabddpm_ON_QnSC       tabddpm_ON_QnSC_200k_mult_5  default   \n",
       "0  tabddpm_ON_QnSC       tabddpm_ON_QnSC_200k_mult_0  default   \n",
       "0  tabddpm_ON_QnSC       tabddpm_ON_QnSC_200k_mult_1  default   \n",
       "0  tabddpm_ON_QnSC    tabddpm_ON_QnSC_200k_const_0_5  default   \n",
       "\n",
       "       base_metrics                                                  \\\n",
       "  Original Logistic Synthetic Logistic Original Tree Synthetic Tree   \n",
       "0            0.4855             0.4747        0.4917         0.4726   \n",
       "0            0.4855             0.4798        0.4917         0.4436   \n",
       "0            0.4855             0.4781        0.4920         0.4646   \n",
       "0            0.4855             0.4843        0.4917         0.4638   \n",
       "0            0.4855             0.4855        0.4917         0.4833   \n",
       "0            0.4855             0.4809        0.4917         0.4494   \n",
       "0            0.4855             0.4797        0.4917         0.4703   \n",
       "0            0.4855             0.4798        0.4917         0.4464   \n",
       "0            0.4855             0.4825        0.4917         0.4450   \n",
       "0            0.4855             0.4831        0.4917         0.4339   \n",
       "0            0.4855             0.4699        0.4917         0.4477   \n",
       "0            0.4855             0.4657        0.4917         0.4531   \n",
       "0            0.4855             0.4841        0.4917         0.4962   \n",
       "0            0.4855             0.4801        0.4917         0.4261   \n",
       "0            0.4855             0.4788        0.4917         0.4714   \n",
       "0            0.4855             0.4811        0.4917         0.4990   \n",
       "\n",
       "                                                              similarity  \\\n",
       "  Accuracy Loss Logistic, % Accuracy Loss Tree, % Column Shapes Score, %   \n",
       "0                    2.2344                3.8821                99.0273   \n",
       "0                    1.1761                9.7745                98.8724   \n",
       "0                    1.5225                5.5503                98.7065   \n",
       "0                    0.2463                5.6691                98.4269   \n",
       "0                    0.0117                1.7037                98.4727   \n",
       "0                    0.9462                8.6021                98.6201   \n",
       "0                    1.2026                4.3484                98.5256   \n",
       "0                    1.1756                9.2164                98.4867   \n",
       "0                    0.6193                9.4929                98.4256   \n",
       "0                    0.5109               11.7522                98.5708   \n",
       "0                    3.2135                8.9480                98.6211   \n",
       "0                    4.0775                7.8488                98.3603   \n",
       "0                    0.2902               -0.9242                98.5688   \n",
       "0                    1.1220               13.3413                98.4762   \n",
       "0                    1.3855                4.1255                98.2324   \n",
       "0                    0.9091               -1.4836                97.1633   \n",
       "\n",
       "                                                          \\\n",
       "  Column Pair Trends Score, % Overall Score (Average), %   \n",
       "0                     98.3867                    98.7070   \n",
       "0                     98.1579                    98.5151   \n",
       "0                     97.9713                    98.3389   \n",
       "0                     98.1068                    98.2668   \n",
       "0                     98.0386                    98.2556   \n",
       "0                     97.6793                    98.1497   \n",
       "0                     97.6654                    98.0955   \n",
       "0                     97.6611                    98.0739   \n",
       "0                     97.3088                    97.8672   \n",
       "0                     97.1351                    97.8530   \n",
       "0                     96.9094                    97.7653   \n",
       "0                     97.1235                    97.7419   \n",
       "0                     95.9197                    97.2443   \n",
       "0                     95.6942                    97.0852   \n",
       "0                     95.7137                    96.9731   \n",
       "0                     96.7587                    96.9610   \n",
       "\n",
       "                                                       \\\n",
       "  Error rate (%) of column-wise density estimation, %   \n",
       "0                                              0.9727   \n",
       "0                                              1.1276   \n",
       "0                                              1.2935   \n",
       "0                                              1.5731   \n",
       "0                                              1.5273   \n",
       "0                                              1.3799   \n",
       "0                                              1.4744   \n",
       "0                                              1.5133   \n",
       "0                                              1.5744   \n",
       "0                                              1.4292   \n",
       "0                                              1.3789   \n",
       "0                                              1.6397   \n",
       "0                                              1.4312   \n",
       "0                                              1.5238   \n",
       "0                                              1.7676   \n",
       "0                                              2.8367   \n",
       "\n",
       "                                                           \\\n",
       "  Error rate (%) of column-wise density estimation std, %   \n",
       "0                                                  0.4733   \n",
       "0                                                  0.4535   \n",
       "0                                                  0.5248   \n",
       "0                                                  0.6479   \n",
       "0                                                  0.7820   \n",
       "0                                                  0.6026   \n",
       "0                                                  0.6884   \n",
       "0                                                  0.5454   \n",
       "0                                                  0.6507   \n",
       "0                                                  0.6012   \n",
       "0                                                  0.5991   \n",
       "0                                                  0.6740   \n",
       "0                                                  0.5565   \n",
       "0                                                  0.5185   \n",
       "0                                                  0.6597   \n",
       "0                                                  1.9471   \n",
       "\n",
       "                                                           \\\n",
       "  Error rate (%) of pair-wise column correlation score, %   \n",
       "0                                                  1.6133   \n",
       "0                                                  1.8421   \n",
       "0                                                  2.0287   \n",
       "0                                                  1.8932   \n",
       "0                                                  1.9614   \n",
       "0                                                  2.3207   \n",
       "0                                                  2.3346   \n",
       "0                                                  2.3389   \n",
       "0                                                  2.6912   \n",
       "0                                                  2.8649   \n",
       "0                                                  3.0906   \n",
       "0                                                  2.8765   \n",
       "0                                                  4.0803   \n",
       "0                                                  4.3058   \n",
       "0                                                  4.2863   \n",
       "0                                                  3.2413   \n",
       "\n",
       "                                                               \\\n",
       "  Error rate (%) of pair-wise column correlation score std, %   \n",
       "0                                                      1.2719   \n",
       "0                                                      1.8395   \n",
       "0                                                      1.6832   \n",
       "0                                                      1.0520   \n",
       "0                                                      1.4302   \n",
       "0                                                      2.2346   \n",
       "0                                                      1.7564   \n",
       "0                                                      2.4712   \n",
       "0                                                      2.3496   \n",
       "0                                                      3.3448   \n",
       "0                                                      4.2719   \n",
       "0                                                      2.8009   \n",
       "0                                                      5.3778   \n",
       "0                                                      5.8896   \n",
       "0                                                      4.8932   \n",
       "0                                                      3.1997   \n",
       "\n",
       "                                         mle  \\\n",
       "  ROC - AUC обучения на синтетических данных   \n",
       "0                                     0.7458   \n",
       "0                                     0.7210   \n",
       "0                                     0.7531   \n",
       "0                                     0.7372   \n",
       "0                                     0.7274   \n",
       "0                                     0.7117   \n",
       "0                                     0.7258   \n",
       "0                                     0.7188   \n",
       "0                                     0.7261   \n",
       "0                                     0.7074   \n",
       "0                                     0.7315   \n",
       "0                                     0.7211   \n",
       "0                                     0.7247   \n",
       "0                                     0.7256   \n",
       "0                                     0.7131   \n",
       "0                                     0.7108   \n",
       "\n",
       "                                                  detection     DCR  \\\n",
       "  ROC - AUC обучения на синтетических данных, std     Score   Score   \n",
       "0                                          0.0137    0.9985  0.5106   \n",
       "0                                          0.0080    0.9881  0.5070   \n",
       "0                                          0.0113    0.9929  0.5036   \n",
       "0                                          0.0134    0.9819  0.5090   \n",
       "0                                          0.0122    0.9893  0.5140   \n",
       "0                                          0.0143    0.9749  0.5068   \n",
       "0                                          0.0130    0.9829  0.5112   \n",
       "0                                          0.0118    0.9758  0.5070   \n",
       "0                                          0.0140    0.9870  0.5054   \n",
       "0                                          0.0143    0.9777  0.5074   \n",
       "0                                          0.0177    0.9848  0.5002   \n",
       "0                                          0.0175    0.9765  0.5037   \n",
       "0                                          0.0167    0.9776  0.5053   \n",
       "0                                          0.0155    0.9713  0.5105   \n",
       "0                                          0.0136    0.9846  0.5039   \n",
       "0                                          0.0174    0.9307  0.5076   \n",
       "\n",
       "          quality              \n",
       "  alpha precision beta recall  \n",
       "0          0.9859      0.4812  \n",
       "0          0.9849      0.4849  \n",
       "0          0.9796      0.4836  \n",
       "0          0.9707      0.4728  \n",
       "0          0.9782      0.3290  \n",
       "0          0.9776      0.4843  \n",
       "0          0.9668      0.4342  \n",
       "0          0.9715      0.4783  \n",
       "0          0.9713      0.4718  \n",
       "0          0.9772      0.4738  \n",
       "0          0.9763      0.4634  \n",
       "0          0.9725      0.4716  \n",
       "0          0.9763      0.4646  \n",
       "0          0.9742      0.4611  \n",
       "0          0.9691      0.4604  \n",
       "0          0.9796      0.2234  "
      ]
     },
     "execution_count": 11,
     "metadata": {},
     "output_type": "execute_result"
    }
   ],
   "source": [
    "pd.set_option('display.max_columns', None)\n",
    "final_metrics_table.round(4).sort_values([('similarity', 'Overall Score (Average), %')],\n",
    "                                                                          ascending=False)"
   ]
  },
  {
   "cell_type": "code",
   "execution_count": 12,
   "metadata": {},
   "outputs": [],
   "source": [
    "import os\n",
    "if not os.path.exists(f'./eval/total/{dataname_initial}'):\n",
    "    os.makedirs(f'./eval/total/{dataname_initial}')\n",
    "final_metrics_table.to_csv(f'./eval/total/{dataname_initial}/{model_short}{model_name_postfix}_final_metrics_table.csv', index=False)"
   ]
  },
  {
   "cell_type": "code",
   "execution_count": null,
   "metadata": {},
   "outputs": [],
   "source": []
  }
 ],
 "metadata": {
  "colab": {
   "authorship_tag": "ABX9TyM87OAyAZDeZ/KEr1BVC60/",
   "mount_file_id": "1-H09AG2TbV5ZzQ-ytJRNbFUCirBvOV9p",
   "provenance": []
  },
  "kernelspec": {
   "display_name": "Python3 (ipykernel)",
   "language": "python",
   "name": "python3"
  },
  "language_info": {
   "codemirror_mode": {
    "name": "ipython",
    "version": 3
   },
   "file_extension": ".py",
   "mimetype": "text/x-python",
   "name": "python",
   "nbconvert_exporter": "python",
   "pygments_lexer": "ipython3",
   "version": "3.10.12"
  },
  "widgets": {
   "application/vnd.jupyter.widget-state+json": {
    "state": {},
    "version_major": 2,
    "version_minor": 0
   }
  }
 },
 "nbformat": 4,
 "nbformat_minor": 4
}
