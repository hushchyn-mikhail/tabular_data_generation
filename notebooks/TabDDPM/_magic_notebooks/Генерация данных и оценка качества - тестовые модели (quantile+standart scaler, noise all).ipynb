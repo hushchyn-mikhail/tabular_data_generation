{
 "cells": [
  {
   "cell_type": "markdown",
   "metadata": {},
   "source": [
    "В этом ноубуке используются обeченные тестовые модели, с их помощью происходит сэмплирование и далее закодированные категориальные переменные переводятся в изначальные. После чего замеряется качество.\n",
    "\n",
    "Способ нормализации: quantile transformation для числовых признаков и standart scale для категориальных OHE\n",
    "\n",
    "Добавление шума: ко всем признакам"
   ]
  },
  {
   "cell_type": "code",
   "execution_count": 1,
   "metadata": {},
   "outputs": [
    {
     "name": "stdout",
     "output_type": "stream",
     "text": [
      "/workspace/TabDDPM_copy/TabDDPM\n"
     ]
    },
    {
     "name": "stderr",
     "output_type": "stream",
     "text": [
      "/venv/main/lib/python3.10/site-packages/IPython/core/magics/osm.py:417: UserWarning: This is now an optional IPython functionality, setting dhist requires you to install the `pickleshare` library.\n",
      "  self.shell.db['dhist'] = compress_dhist(dhist)[-100:]\n"
     ]
    }
   ],
   "source": [
    "%cd .."
   ]
  },
  {
   "cell_type": "code",
   "execution_count": 2,
   "metadata": {
    "executionInfo": {
     "elapsed": 11435,
     "status": "ok",
     "timestamp": 1742850942286,
     "user": {
      "displayName": "Elina Telesheva",
      "userId": "03968090829384653347"
     },
     "user_tz": -180
    },
    "id": "o77KHt0w3DWc"
   },
   "outputs": [],
   "source": [
    "import json\n",
    "import pandas as pd\n",
    "import torch\n",
    "import matplotlib.pyplot as plt\n",
    "\n",
    "from utils import *\n",
    "from models.tabddpm_ON_QnSC.tabddpm_ON_QnSC import *\n",
    "\n",
    "from tqdm.notebook import tqdm\n",
    "\n",
    "from eval.base_metrics import calculate_base_metrics\n",
    "from eval.similarity import calculate_similarity\n",
    "from eval.mle import calculate_mle\n",
    "from eval.alpha_beta import calculate_alpha_beta\n",
    "from eval.detection import calculate_detection\n",
    "from eval.dcr import calculate_DCR"
   ]
  },
  {
   "cell_type": "markdown",
   "metadata": {},
   "source": [
    "### Подготовка"
   ]
  },
  {
   "cell_type": "code",
   "execution_count": 3,
   "metadata": {},
   "outputs": [],
   "source": [
    "dataname = 'magic_ON_QnSC_100k'\n",
    "dataname_initial = 'magic'\n",
    "model_name = 'tabddpm_ON_QnSC'\n",
    "model_name_postfix = '_100k'"
   ]
  },
  {
   "cell_type": "code",
   "execution_count": 4,
   "metadata": {},
   "outputs": [
    {
     "name": "stdout",
     "output_type": "stream",
     "text": [
      "Device: cuda\n"
     ]
    }
   ],
   "source": [
    "if torch.cuda.is_available():\n",
    "    device = f'cuda'\n",
    "else:\n",
    "    device = 'cpu'\n",
    "CONFIG.add_arg('device', device)\n",
    "print(f\"Device: {device}\")\n",
    "\n",
    "CONFIG.add_arg('dataname', dataname)\n",
    "CONFIG.add_arg('real_path',\n",
    "                   f'./synthetic/{dataname}/initial_real.csv')\n",
    "CONFIG.add_arg('test_path',\n",
    "                   f'./synthetic/{dataname}/initial_test.csv')\n",
    "\n",
    "CONFIG.add_arg('info_path',\n",
    "                   f'./data/{dataname}/initial_info.json')"
   ]
  },
  {
   "cell_type": "code",
   "execution_count": 5,
   "metadata": {},
   "outputs": [],
   "source": [
    "model_save_path_hist = []\n",
    "idx = [5, 6]\n",
    "\n",
    "for sigma in [0.01, 0.25, 0]:\n",
    "    model_save_path=f\"./models/{model_name}/ckpt/{dataname_initial}/{model_name}{model_name_postfix}_const_{str(sigma).replace('.', '_')}\"\n",
    "    model_save_path_hist.append(model_save_path)\n",
    "\n",
    "for i in idx:\n",
    "    model_save_path=f\"./models/{model_name}/ckpt/{dataname_initial}/{model_name}{model_name_postfix}_mult_{i}\"\n",
    "    model_save_path_hist.append(model_save_path)"
   ]
  },
  {
   "cell_type": "code",
   "execution_count": 6,
   "metadata": {},
   "outputs": [
    {
     "name": "stdout",
     "output_type": "stream",
     "text": [
      "normalizers received from `data/magic_ON_QnSC_100k` folder\n"
     ]
    }
   ],
   "source": [
    "from pickle import dump, load\n",
    "with open(f'data/{dataname}/normalizers.json', 'r') as f:\n",
    "        normalizers = json.load(f)\n",
    "normalizers['num_normalizer'] = load(open(f'./data/{dataname}/num_normalizer_{dataname}.pkl', 'rb'))\n",
    "normalizers['cat_normalizer'] = load(open(f'./data/{dataname}/cat_normalizer_{dataname}.pkl', 'rb'))\n",
    "print(f\"normalizers received from `data/{dataname}` folder\")"
   ]
  },
  {
   "cell_type": "code",
   "execution_count": 7,
   "metadata": {},
   "outputs": [
    {
     "data": {
      "text/plain": [
       "{'len_num_prev': 10,\n",
       " 'len_cat_prev': 0,\n",
       " 'len_target_prev': 1,\n",
       " 'num_normalizer': QuantileTransformer(n_quantiles=570, output_distribution='normal',\n",
       "                     random_state=0, subsample=1000000000),\n",
       " 'cat_normalizer': StandardScaler()}"
      ]
     },
     "execution_count": 7,
     "metadata": {},
     "output_type": "execute_result"
    }
   ],
   "source": [
    "normalizers"
   ]
  },
  {
   "cell_type": "markdown",
   "metadata": {},
   "source": [
    "### Sample + Eval"
   ]
  },
  {
   "cell_type": "code",
   "execution_count": 8,
   "metadata": {},
   "outputs": [
    {
     "data": {
      "text/plain": [
       "{'dataname': 'magic_ON_QnSC_100k',\n",
       " 'method': None,\n",
       " 'device': 'cuda',\n",
       " 'mode': 'train',\n",
       " 'train': 1,\n",
       " 'sample_save_path': None,\n",
       " 'sigma_scheduller_name': 'constant',\n",
       " 'sigma_value': 0.001,\n",
       " 'num_noise': 1,\n",
       " 'real_path': './synthetic/magic_ON_QnSC_100k/initial_real.csv',\n",
       " 'test_path': './synthetic/magic_ON_QnSC_100k/initial_test.csv',\n",
       " 'info_path': './data/magic_ON_QnSC_100k/initial_info.json',\n",
       " 'save_path': None,\n",
       " 'num_clusters': 25,\n",
       " 'save_cat': None}"
      ]
     },
     "execution_count": 8,
     "metadata": {},
     "output_type": "execute_result"
    }
   ],
   "source": [
    "CONFIG.get_all_args()"
   ]
  },
  {
   "cell_type": "code",
   "execution_count": 9,
   "metadata": {},
   "outputs": [
    {
     "data": {
      "text/plain": [
       "['./models/tabddpm_ON_QnSC/ckpt/magic/tabddpm_ON_QnSC_100k_const_0_01',\n",
       " './models/tabddpm_ON_QnSC/ckpt/magic/tabddpm_ON_QnSC_100k_const_0_25',\n",
       " './models/tabddpm_ON_QnSC/ckpt/magic/tabddpm_ON_QnSC_100k_const_0',\n",
       " './models/tabddpm_ON_QnSC/ckpt/magic/tabddpm_ON_QnSC_100k_mult_5',\n",
       " './models/tabddpm_ON_QnSC/ckpt/magic/tabddpm_ON_QnSC_100k_mult_6']"
      ]
     },
     "execution_count": 9,
     "metadata": {},
     "output_type": "execute_result"
    }
   ],
   "source": [
    "model_save_path_hist"
   ]
  },
  {
   "cell_type": "code",
   "execution_count": 10,
   "metadata": {
    "scrolled": true
   },
   "outputs": [
    {
     "name": "stdout",
     "output_type": "stream",
     "text": [
      "./models/tabddpm_ON_QnSC/ckpt/magic/tabddpm_ON_QnSC_100k_const_0_01 tabddpm_ON_QnSC_100k_const_0_01 ./synthetic/magic_ON_QnSC_100k/tabddpm_ON_QnSC_100k_const_0_01.csv\n",
      "No NaNs in numerical features, skipping\n",
      "mlp\n",
      "Sample timestep    0\n",
      "Sample timestep    0\n",
      "Shape torch.Size([17118, 11])\n",
      "Sampling time: 93.89070439338684\n",
      "Sample path changed to ./synthetic/magic_ON_QnSC_100k/initial_tabddpm_ON_QnSC_100k_const_0_01.csv\n",
      "TABDDPM_ON_QNSC_100K_CONST_0_01: MAGIC_ON_QNSC_100K Dataset\n",
      "Original Logistic: 0.833\n",
      "Synthetic Logistic: 0.830\n",
      "Original Tree: 0.872\n",
      "Synthetic Tree: 0.872 \n",
      "\n",
      "TABDDPM_ON_QNSC_100K_CONST_0_01 Accuracy Loss: MAGIC_ON_QNSC_100K\n",
      "Logistic: 0.318%\n",
      "Tree: 0.047% \n",
      "\n",
      "CALCULATING COLUMN-WISE DENSITY ESTIMATION & PAIR-WISE COLUMN CORRELATION...\n",
      "Generating report ...\n",
      "\n",
      "(1/2) Evaluating Column Shapes: |██████████| 11/11 [00:00<00:00, 126.18it/s]|\n",
      "Column Shapes Score: 99.04%\n",
      "\n",
      "(2/2) Evaluating Column Pair Trends: |██████████| 55/55 [00:00<00:00, 108.57it/s]|\n",
      "Column Pair Trends Score: 97.69%\n",
      "\n",
      "Overall Score (Average): 98.36%\n",
      "\n",
      "Error rate (%) of column-wise density estimation TABDDPM_ON_QNSC_100K_CONST_0_01: 0.965 ± 0.287\n",
      "Error rate (%) of pair-wise column correlation score TABDDPM_ON_QNSC_100K_CONST_0_01: 2.306 ± 8.425\n"
     ]
    },
    {
     "data": {
      "text/html": [
       "<iframe\n",
       "    scrolling=\"no\"\n",
       "    width=\"100%\"\n",
       "    height=\"545px\"\n",
       "    src=\"iframe_figures/figure_10.html\"\n",
       "    frameborder=\"0\"\n",
       "    allowfullscreen\n",
       "></iframe>\n"
      ]
     },
     "metadata": {},
     "output_type": "display_data"
    },
    {
     "data": {
      "text/html": [
       "<iframe\n",
       "    scrolling=\"no\"\n",
       "    width=\"920px\"\n",
       "    height=\"920\"\n",
       "    src=\"iframe_figures/figure_10.html\"\n",
       "    frameborder=\"0\"\n",
       "    allowfullscreen\n",
       "></iframe>\n"
      ]
     },
     "metadata": {},
     "output_type": "display_data"
    },
    {
     "name": "stdout",
     "output_type": "stream",
     "text": [
      "DONE! \n",
      "\n",
      "DRAW COLUMN VALUES DISTRIBUTIONS...\n"
     ]
    },
    {
     "data": {
      "text/html": [
       "<iframe\n",
       "    scrolling=\"no\"\n",
       "    width=\"100%\"\n",
       "    height=\"545px\"\n",
       "    src=\"iframe_figures/figure_10.html\"\n",
       "    frameborder=\"0\"\n",
       "    allowfullscreen\n",
       "></iframe>\n"
      ]
     },
     "metadata": {},
     "output_type": "display_data"
    },
    {
     "data": {
      "text/html": [
       "<iframe\n",
       "    scrolling=\"no\"\n",
       "    width=\"100%\"\n",
       "    height=\"545px\"\n",
       "    src=\"iframe_figures/figure_10.html\"\n",
       "    frameborder=\"0\"\n",
       "    allowfullscreen\n",
       "></iframe>\n"
      ]
     },
     "metadata": {},
     "output_type": "display_data"
    },
    {
     "data": {
      "text/html": [
       "<iframe\n",
       "    scrolling=\"no\"\n",
       "    width=\"100%\"\n",
       "    height=\"545px\"\n",
       "    src=\"iframe_figures/figure_10.html\"\n",
       "    frameborder=\"0\"\n",
       "    allowfullscreen\n",
       "></iframe>\n"
      ]
     },
     "metadata": {},
     "output_type": "display_data"
    },
    {
     "data": {
      "text/html": [
       "<iframe\n",
       "    scrolling=\"no\"\n",
       "    width=\"100%\"\n",
       "    height=\"545px\"\n",
       "    src=\"iframe_figures/figure_10.html\"\n",
       "    frameborder=\"0\"\n",
       "    allowfullscreen\n",
       "></iframe>\n"
      ]
     },
     "metadata": {},
     "output_type": "display_data"
    },
    {
     "data": {
      "text/html": [
       "<iframe\n",
       "    scrolling=\"no\"\n",
       "    width=\"100%\"\n",
       "    height=\"545px\"\n",
       "    src=\"iframe_figures/figure_10.html\"\n",
       "    frameborder=\"0\"\n",
       "    allowfullscreen\n",
       "></iframe>\n"
      ]
     },
     "metadata": {},
     "output_type": "display_data"
    },
    {
     "data": {
      "text/html": [
       "<iframe\n",
       "    scrolling=\"no\"\n",
       "    width=\"100%\"\n",
       "    height=\"545px\"\n",
       "    src=\"iframe_figures/figure_10.html\"\n",
       "    frameborder=\"0\"\n",
       "    allowfullscreen\n",
       "></iframe>\n"
      ]
     },
     "metadata": {},
     "output_type": "display_data"
    },
    {
     "data": {
      "text/html": [
       "<iframe\n",
       "    scrolling=\"no\"\n",
       "    width=\"100%\"\n",
       "    height=\"545px\"\n",
       "    src=\"iframe_figures/figure_10.html\"\n",
       "    frameborder=\"0\"\n",
       "    allowfullscreen\n",
       "></iframe>\n"
      ]
     },
     "metadata": {},
     "output_type": "display_data"
    },
    {
     "data": {
      "text/html": [
       "<iframe\n",
       "    scrolling=\"no\"\n",
       "    width=\"100%\"\n",
       "    height=\"545px\"\n",
       "    src=\"iframe_figures/figure_10.html\"\n",
       "    frameborder=\"0\"\n",
       "    allowfullscreen\n",
       "></iframe>\n"
      ]
     },
     "metadata": {},
     "output_type": "display_data"
    },
    {
     "data": {
      "text/html": [
       "<iframe\n",
       "    scrolling=\"no\"\n",
       "    width=\"100%\"\n",
       "    height=\"545px\"\n",
       "    src=\"iframe_figures/figure_10.html\"\n",
       "    frameborder=\"0\"\n",
       "    allowfullscreen\n",
       "></iframe>\n"
      ]
     },
     "metadata": {},
     "output_type": "display_data"
    },
    {
     "data": {
      "text/html": [
       "<iframe\n",
       "    scrolling=\"no\"\n",
       "    width=\"100%\"\n",
       "    height=\"545px\"\n",
       "    src=\"iframe_figures/figure_10.html\"\n",
       "    frameborder=\"0\"\n",
       "    allowfullscreen\n",
       "></iframe>\n"
      ]
     },
     "metadata": {},
     "output_type": "display_data"
    },
    {
     "data": {
      "text/html": [
       "<iframe\n",
       "    scrolling=\"no\"\n",
       "    width=\"100%\"\n",
       "    height=\"545px\"\n",
       "    src=\"iframe_figures/figure_10.html\"\n",
       "    frameborder=\"0\"\n",
       "    allowfullscreen\n",
       "></iframe>\n"
      ]
     },
     "metadata": {},
     "output_type": "display_data"
    },
    {
     "name": "stdout",
     "output_type": "stream",
     "text": [
      "DONE!\n"
     ]
    },
    {
     "name": "stderr",
     "output_type": "stream",
     "text": [
      "100%|██████████| 36/36 [00:06<00:00,  5.52it/s]\n"
     ]
    },
    {
     "name": "stdout",
     "output_type": "stream",
     "text": [
      "Saving scores to  eval/mle/magic_ON_QnSC_100k/tabddpm_ON_QnSC_100k_const_0_01.json\n",
      "ROC - AUC обучения на синтетических данных TABDDPM_ON_QNSC_100K_CONST_0_01: 0.949 ± 0.010\n",
      "magic_ON_QnSC_100k, tabddpm_ON_QnSC_100k_const_0_01: 0.9802873209265949\n",
      "DCR Score, a value closer to 0.5 is better\n",
      "magic_ON_QnSC_100k-tabddpm_ON_QnSC_100k_const_0_01, DCR Score = 0.9393620750087627\n",
      "=========== All Features ===========\n",
      "Data shape:  (17118, 12)\n",
      "alpha precision: 0.978210, beta recall: 0.618265\n",
      "./models/tabddpm_ON_QnSC/ckpt/magic/tabddpm_ON_QnSC_100k_const_0_25 tabddpm_ON_QnSC_100k_const_0_25 ./synthetic/magic_ON_QnSC_100k/tabddpm_ON_QnSC_100k_const_0_25.csv\n",
      "No NaNs in numerical features, skipping\n",
      "mlp\n",
      "Sample timestep    0\n",
      "Sample timestep    0\n",
      "Shape torch.Size([17118, 11])\n",
      "Sampling time: 92.34795641899109\n",
      "Sample path changed to ./synthetic/magic_ON_QnSC_100k/initial_tabddpm_ON_QnSC_100k_const_0_25.csv\n",
      "TABDDPM_ON_QNSC_100K_CONST_0_25: MAGIC_ON_QNSC_100K Dataset\n",
      "Original Logistic: 0.833\n",
      "Synthetic Logistic: 0.833\n",
      "Original Tree: 0.876\n",
      "Synthetic Tree: 0.865 \n",
      "\n",
      "TABDDPM_ON_QNSC_100K_CONST_0_25 Accuracy Loss: MAGIC_ON_QNSC_100K\n",
      "Logistic: -0.050%\n",
      "Tree: 1.299% \n",
      "\n",
      "CALCULATING COLUMN-WISE DENSITY ESTIMATION & PAIR-WISE COLUMN CORRELATION...\n",
      "Generating report ...\n",
      "\n",
      "(1/2) Evaluating Column Shapes: |██████████| 11/11 [00:00<00:00, 136.74it/s]|\n",
      "Column Shapes Score: 99.06%\n",
      "\n",
      "(2/2) Evaluating Column Pair Trends: |██████████| 55/55 [00:00<00:00, 107.50it/s]|\n",
      "Column Pair Trends Score: 98.66%\n",
      "\n",
      "Overall Score (Average): 98.86%\n",
      "\n",
      "Error rate (%) of column-wise density estimation TABDDPM_ON_QNSC_100K_CONST_0_25: 0.937 ± 0.258\n",
      "Error rate (%) of pair-wise column correlation score TABDDPM_ON_QNSC_100K_CONST_0_25: 1.344 ± 1.043\n"
     ]
    },
    {
     "data": {
      "text/html": [
       "<iframe\n",
       "    scrolling=\"no\"\n",
       "    width=\"100%\"\n",
       "    height=\"545px\"\n",
       "    src=\"iframe_figures/figure_10.html\"\n",
       "    frameborder=\"0\"\n",
       "    allowfullscreen\n",
       "></iframe>\n"
      ]
     },
     "metadata": {},
     "output_type": "display_data"
    },
    {
     "data": {
      "text/html": [
       "<iframe\n",
       "    scrolling=\"no\"\n",
       "    width=\"920px\"\n",
       "    height=\"920\"\n",
       "    src=\"iframe_figures/figure_10.html\"\n",
       "    frameborder=\"0\"\n",
       "    allowfullscreen\n",
       "></iframe>\n"
      ]
     },
     "metadata": {},
     "output_type": "display_data"
    },
    {
     "name": "stdout",
     "output_type": "stream",
     "text": [
      "DONE! \n",
      "\n",
      "DRAW COLUMN VALUES DISTRIBUTIONS...\n"
     ]
    },
    {
     "data": {
      "text/html": [
       "<iframe\n",
       "    scrolling=\"no\"\n",
       "    width=\"100%\"\n",
       "    height=\"545px\"\n",
       "    src=\"iframe_figures/figure_10.html\"\n",
       "    frameborder=\"0\"\n",
       "    allowfullscreen\n",
       "></iframe>\n"
      ]
     },
     "metadata": {},
     "output_type": "display_data"
    },
    {
     "data": {
      "text/html": [
       "<iframe\n",
       "    scrolling=\"no\"\n",
       "    width=\"100%\"\n",
       "    height=\"545px\"\n",
       "    src=\"iframe_figures/figure_10.html\"\n",
       "    frameborder=\"0\"\n",
       "    allowfullscreen\n",
       "></iframe>\n"
      ]
     },
     "metadata": {},
     "output_type": "display_data"
    },
    {
     "data": {
      "text/html": [
       "<iframe\n",
       "    scrolling=\"no\"\n",
       "    width=\"100%\"\n",
       "    height=\"545px\"\n",
       "    src=\"iframe_figures/figure_10.html\"\n",
       "    frameborder=\"0\"\n",
       "    allowfullscreen\n",
       "></iframe>\n"
      ]
     },
     "metadata": {},
     "output_type": "display_data"
    },
    {
     "data": {
      "text/html": [
       "<iframe\n",
       "    scrolling=\"no\"\n",
       "    width=\"100%\"\n",
       "    height=\"545px\"\n",
       "    src=\"iframe_figures/figure_10.html\"\n",
       "    frameborder=\"0\"\n",
       "    allowfullscreen\n",
       "></iframe>\n"
      ]
     },
     "metadata": {},
     "output_type": "display_data"
    },
    {
     "data": {
      "text/html": [
       "<iframe\n",
       "    scrolling=\"no\"\n",
       "    width=\"100%\"\n",
       "    height=\"545px\"\n",
       "    src=\"iframe_figures/figure_10.html\"\n",
       "    frameborder=\"0\"\n",
       "    allowfullscreen\n",
       "></iframe>\n"
      ]
     },
     "metadata": {},
     "output_type": "display_data"
    },
    {
     "data": {
      "text/html": [
       "<iframe\n",
       "    scrolling=\"no\"\n",
       "    width=\"100%\"\n",
       "    height=\"545px\"\n",
       "    src=\"iframe_figures/figure_10.html\"\n",
       "    frameborder=\"0\"\n",
       "    allowfullscreen\n",
       "></iframe>\n"
      ]
     },
     "metadata": {},
     "output_type": "display_data"
    },
    {
     "data": {
      "text/html": [
       "<iframe\n",
       "    scrolling=\"no\"\n",
       "    width=\"100%\"\n",
       "    height=\"545px\"\n",
       "    src=\"iframe_figures/figure_10.html\"\n",
       "    frameborder=\"0\"\n",
       "    allowfullscreen\n",
       "></iframe>\n"
      ]
     },
     "metadata": {},
     "output_type": "display_data"
    },
    {
     "data": {
      "text/html": [
       "<iframe\n",
       "    scrolling=\"no\"\n",
       "    width=\"100%\"\n",
       "    height=\"545px\"\n",
       "    src=\"iframe_figures/figure_10.html\"\n",
       "    frameborder=\"0\"\n",
       "    allowfullscreen\n",
       "></iframe>\n"
      ]
     },
     "metadata": {},
     "output_type": "display_data"
    },
    {
     "data": {
      "text/html": [
       "<iframe\n",
       "    scrolling=\"no\"\n",
       "    width=\"100%\"\n",
       "    height=\"545px\"\n",
       "    src=\"iframe_figures/figure_10.html\"\n",
       "    frameborder=\"0\"\n",
       "    allowfullscreen\n",
       "></iframe>\n"
      ]
     },
     "metadata": {},
     "output_type": "display_data"
    },
    {
     "data": {
      "text/html": [
       "<iframe\n",
       "    scrolling=\"no\"\n",
       "    width=\"100%\"\n",
       "    height=\"545px\"\n",
       "    src=\"iframe_figures/figure_10.html\"\n",
       "    frameborder=\"0\"\n",
       "    allowfullscreen\n",
       "></iframe>\n"
      ]
     },
     "metadata": {},
     "output_type": "display_data"
    },
    {
     "data": {
      "text/html": [
       "<iframe\n",
       "    scrolling=\"no\"\n",
       "    width=\"100%\"\n",
       "    height=\"545px\"\n",
       "    src=\"iframe_figures/figure_10.html\"\n",
       "    frameborder=\"0\"\n",
       "    allowfullscreen\n",
       "></iframe>\n"
      ]
     },
     "metadata": {},
     "output_type": "display_data"
    },
    {
     "name": "stdout",
     "output_type": "stream",
     "text": [
      "DONE!\n"
     ]
    },
    {
     "name": "stderr",
     "output_type": "stream",
     "text": [
      "100%|██████████| 36/36 [00:07<00:00,  5.13it/s]\n"
     ]
    },
    {
     "name": "stdout",
     "output_type": "stream",
     "text": [
      "Saving scores to  eval/mle/magic_ON_QnSC_100k/tabddpm_ON_QnSC_100k_const_0_25.json\n",
      "ROC - AUC обучения на синтетических данных TABDDPM_ON_QNSC_100K_CONST_0_25: 0.885 ± 0.005\n",
      "magic_ON_QnSC_100k, tabddpm_ON_QnSC_100k_const_0_25: 0.9922362978369108\n",
      "DCR Score, a value closer to 0.5 is better\n",
      "magic_ON_QnSC_100k-tabddpm_ON_QnSC_100k_const_0_25, DCR Score = 0.9060637924991237\n",
      "=========== All Features ===========\n",
      "Data shape:  (17118, 12)\n",
      "alpha precision: 0.974499, beta recall: 0.260879\n",
      "./models/tabddpm_ON_QnSC/ckpt/magic/tabddpm_ON_QnSC_100k_const_0 tabddpm_ON_QnSC_100k_const_0 ./synthetic/magic_ON_QnSC_100k/tabddpm_ON_QnSC_100k_const_0.csv\n",
      "No NaNs in numerical features, skipping\n",
      "mlp\n",
      "Sample timestep    0\n",
      "Sample timestep    0\n",
      "Shape torch.Size([17118, 11])\n",
      "Sampling time: 92.5018961429596\n",
      "Sample path changed to ./synthetic/magic_ON_QnSC_100k/initial_tabddpm_ON_QnSC_100k_const_0.csv\n",
      "TABDDPM_ON_QNSC_100K_CONST_0: MAGIC_ON_QNSC_100K Dataset\n",
      "Original Logistic: 0.833\n",
      "Synthetic Logistic: 0.830\n",
      "Original Tree: 0.871\n",
      "Synthetic Tree: 0.864 \n",
      "\n",
      "TABDDPM_ON_QNSC_100K_CONST_0 Accuracy Loss: MAGIC_ON_QNSC_100K\n",
      "Logistic: 0.344%\n",
      "Tree: 0.853% \n",
      "\n",
      "CALCULATING COLUMN-WISE DENSITY ESTIMATION & PAIR-WISE COLUMN CORRELATION...\n",
      "Generating report ...\n",
      "\n",
      "(1/2) Evaluating Column Shapes: |██████████| 11/11 [00:00<00:00, 124.87it/s]|\n",
      "Column Shapes Score: 98.85%\n",
      "\n",
      "(2/2) Evaluating Column Pair Trends: |██████████| 55/55 [00:00<00:00, 111.55it/s]|\n",
      "Column Pair Trends Score: 98.94%\n",
      "\n",
      "Overall Score (Average): 98.9%\n",
      "\n",
      "Error rate (%) of column-wise density estimation TABDDPM_ON_QNSC_100K_CONST_0: 1.146 ± 0.361\n",
      "Error rate (%) of pair-wise column correlation score TABDDPM_ON_QNSC_100K_CONST_0: 1.063 ± 1.255\n"
     ]
    },
    {
     "data": {
      "text/html": [
       "<iframe\n",
       "    scrolling=\"no\"\n",
       "    width=\"100%\"\n",
       "    height=\"545px\"\n",
       "    src=\"iframe_figures/figure_10.html\"\n",
       "    frameborder=\"0\"\n",
       "    allowfullscreen\n",
       "></iframe>\n"
      ]
     },
     "metadata": {},
     "output_type": "display_data"
    },
    {
     "data": {
      "text/html": [
       "<iframe\n",
       "    scrolling=\"no\"\n",
       "    width=\"920px\"\n",
       "    height=\"920\"\n",
       "    src=\"iframe_figures/figure_10.html\"\n",
       "    frameborder=\"0\"\n",
       "    allowfullscreen\n",
       "></iframe>\n"
      ]
     },
     "metadata": {},
     "output_type": "display_data"
    },
    {
     "name": "stdout",
     "output_type": "stream",
     "text": [
      "DONE! \n",
      "\n",
      "DRAW COLUMN VALUES DISTRIBUTIONS...\n"
     ]
    },
    {
     "data": {
      "text/html": [
       "<iframe\n",
       "    scrolling=\"no\"\n",
       "    width=\"100%\"\n",
       "    height=\"545px\"\n",
       "    src=\"iframe_figures/figure_10.html\"\n",
       "    frameborder=\"0\"\n",
       "    allowfullscreen\n",
       "></iframe>\n"
      ]
     },
     "metadata": {},
     "output_type": "display_data"
    },
    {
     "data": {
      "text/html": [
       "<iframe\n",
       "    scrolling=\"no\"\n",
       "    width=\"100%\"\n",
       "    height=\"545px\"\n",
       "    src=\"iframe_figures/figure_10.html\"\n",
       "    frameborder=\"0\"\n",
       "    allowfullscreen\n",
       "></iframe>\n"
      ]
     },
     "metadata": {},
     "output_type": "display_data"
    },
    {
     "data": {
      "text/html": [
       "<iframe\n",
       "    scrolling=\"no\"\n",
       "    width=\"100%\"\n",
       "    height=\"545px\"\n",
       "    src=\"iframe_figures/figure_10.html\"\n",
       "    frameborder=\"0\"\n",
       "    allowfullscreen\n",
       "></iframe>\n"
      ]
     },
     "metadata": {},
     "output_type": "display_data"
    },
    {
     "data": {
      "text/html": [
       "<iframe\n",
       "    scrolling=\"no\"\n",
       "    width=\"100%\"\n",
       "    height=\"545px\"\n",
       "    src=\"iframe_figures/figure_10.html\"\n",
       "    frameborder=\"0\"\n",
       "    allowfullscreen\n",
       "></iframe>\n"
      ]
     },
     "metadata": {},
     "output_type": "display_data"
    },
    {
     "data": {
      "text/html": [
       "<iframe\n",
       "    scrolling=\"no\"\n",
       "    width=\"100%\"\n",
       "    height=\"545px\"\n",
       "    src=\"iframe_figures/figure_10.html\"\n",
       "    frameborder=\"0\"\n",
       "    allowfullscreen\n",
       "></iframe>\n"
      ]
     },
     "metadata": {},
     "output_type": "display_data"
    },
    {
     "data": {
      "text/html": [
       "<iframe\n",
       "    scrolling=\"no\"\n",
       "    width=\"100%\"\n",
       "    height=\"545px\"\n",
       "    src=\"iframe_figures/figure_10.html\"\n",
       "    frameborder=\"0\"\n",
       "    allowfullscreen\n",
       "></iframe>\n"
      ]
     },
     "metadata": {},
     "output_type": "display_data"
    },
    {
     "data": {
      "text/html": [
       "<iframe\n",
       "    scrolling=\"no\"\n",
       "    width=\"100%\"\n",
       "    height=\"545px\"\n",
       "    src=\"iframe_figures/figure_10.html\"\n",
       "    frameborder=\"0\"\n",
       "    allowfullscreen\n",
       "></iframe>\n"
      ]
     },
     "metadata": {},
     "output_type": "display_data"
    },
    {
     "data": {
      "text/html": [
       "<iframe\n",
       "    scrolling=\"no\"\n",
       "    width=\"100%\"\n",
       "    height=\"545px\"\n",
       "    src=\"iframe_figures/figure_10.html\"\n",
       "    frameborder=\"0\"\n",
       "    allowfullscreen\n",
       "></iframe>\n"
      ]
     },
     "metadata": {},
     "output_type": "display_data"
    },
    {
     "data": {
      "text/html": [
       "<iframe\n",
       "    scrolling=\"no\"\n",
       "    width=\"100%\"\n",
       "    height=\"545px\"\n",
       "    src=\"iframe_figures/figure_10.html\"\n",
       "    frameborder=\"0\"\n",
       "    allowfullscreen\n",
       "></iframe>\n"
      ]
     },
     "metadata": {},
     "output_type": "display_data"
    },
    {
     "data": {
      "text/html": [
       "<iframe\n",
       "    scrolling=\"no\"\n",
       "    width=\"100%\"\n",
       "    height=\"545px\"\n",
       "    src=\"iframe_figures/figure_10.html\"\n",
       "    frameborder=\"0\"\n",
       "    allowfullscreen\n",
       "></iframe>\n"
      ]
     },
     "metadata": {},
     "output_type": "display_data"
    },
    {
     "data": {
      "text/html": [
       "<iframe\n",
       "    scrolling=\"no\"\n",
       "    width=\"100%\"\n",
       "    height=\"545px\"\n",
       "    src=\"iframe_figures/figure_10.html\"\n",
       "    frameborder=\"0\"\n",
       "    allowfullscreen\n",
       "></iframe>\n"
      ]
     },
     "metadata": {},
     "output_type": "display_data"
    },
    {
     "name": "stdout",
     "output_type": "stream",
     "text": [
      "DONE!\n"
     ]
    },
    {
     "name": "stderr",
     "output_type": "stream",
     "text": [
      "100%|██████████| 36/36 [00:06<00:00,  5.52it/s]\n"
     ]
    },
    {
     "name": "stdout",
     "output_type": "stream",
     "text": [
      "Saving scores to  eval/mle/magic_ON_QnSC_100k/tabddpm_ON_QnSC_100k_const_0.json\n",
      "ROC - AUC обучения на синтетических данных TABDDPM_ON_QNSC_100K_CONST_0: 0.951 ± 0.007\n",
      "magic_ON_QnSC_100k, tabddpm_ON_QnSC_100k_const_0: 0.9767217524412618\n",
      "DCR Score, a value closer to 0.5 is better\n",
      "magic_ON_QnSC_100k-tabddpm_ON_QnSC_100k_const_0, DCR Score = 0.9439186820890291\n",
      "=========== All Features ===========\n",
      "Data shape:  (17118, 12)\n",
      "alpha precision: 0.982478, beta recall: 0.628002\n",
      "./models/tabddpm_ON_QnSC/ckpt/magic/tabddpm_ON_QnSC_100k_mult_5 tabddpm_ON_QnSC_100k_mult_5 ./synthetic/magic_ON_QnSC_100k/tabddpm_ON_QnSC_100k_mult_5.csv\n",
      "No NaNs in numerical features, skipping\n",
      "mlp\n",
      "Sample timestep    0\n",
      "Sample timestep    0\n",
      "Shape torch.Size([17118, 11])\n",
      "Sampling time: 92.58327412605286\n",
      "Sample path changed to ./synthetic/magic_ON_QnSC_100k/initial_tabddpm_ON_QnSC_100k_mult_5.csv\n",
      "TABDDPM_ON_QNSC_100K_MULT_5: MAGIC_ON_QNSC_100K Dataset\n",
      "Original Logistic: 0.833\n",
      "Synthetic Logistic: 0.832\n",
      "Original Tree: 0.876\n",
      "Synthetic Tree: 0.867 \n",
      "\n",
      "TABDDPM_ON_QNSC_100K_MULT_5 Accuracy Loss: MAGIC_ON_QNSC_100K\n",
      "Logistic: 0.125%\n",
      "Tree: 1.062% \n",
      "\n",
      "CALCULATING COLUMN-WISE DENSITY ESTIMATION & PAIR-WISE COLUMN CORRELATION...\n",
      "Generating report ...\n",
      "\n",
      "(1/2) Evaluating Column Shapes: |██████████| 11/11 [00:00<00:00, 142.90it/s]|\n",
      "Column Shapes Score: 99.14%\n",
      "\n",
      "(2/2) Evaluating Column Pair Trends: |██████████| 55/55 [00:00<00:00, 114.78it/s]|\n",
      "Column Pair Trends Score: 98.44%\n",
      "\n",
      "Overall Score (Average): 98.79%\n",
      "\n",
      "Error rate (%) of column-wise density estimation TABDDPM_ON_QNSC_100K_MULT_5: 0.859 ± 0.380\n",
      "Error rate (%) of pair-wise column correlation score TABDDPM_ON_QNSC_100K_MULT_5: 1.558 ± 3.011\n"
     ]
    },
    {
     "data": {
      "text/html": [
       "<iframe\n",
       "    scrolling=\"no\"\n",
       "    width=\"100%\"\n",
       "    height=\"545px\"\n",
       "    src=\"iframe_figures/figure_10.html\"\n",
       "    frameborder=\"0\"\n",
       "    allowfullscreen\n",
       "></iframe>\n"
      ]
     },
     "metadata": {},
     "output_type": "display_data"
    },
    {
     "data": {
      "text/html": [
       "<iframe\n",
       "    scrolling=\"no\"\n",
       "    width=\"920px\"\n",
       "    height=\"920\"\n",
       "    src=\"iframe_figures/figure_10.html\"\n",
       "    frameborder=\"0\"\n",
       "    allowfullscreen\n",
       "></iframe>\n"
      ]
     },
     "metadata": {},
     "output_type": "display_data"
    },
    {
     "name": "stdout",
     "output_type": "stream",
     "text": [
      "DONE! \n",
      "\n",
      "DRAW COLUMN VALUES DISTRIBUTIONS...\n"
     ]
    },
    {
     "data": {
      "text/html": [
       "<iframe\n",
       "    scrolling=\"no\"\n",
       "    width=\"100%\"\n",
       "    height=\"545px\"\n",
       "    src=\"iframe_figures/figure_10.html\"\n",
       "    frameborder=\"0\"\n",
       "    allowfullscreen\n",
       "></iframe>\n"
      ]
     },
     "metadata": {},
     "output_type": "display_data"
    },
    {
     "data": {
      "text/html": [
       "<iframe\n",
       "    scrolling=\"no\"\n",
       "    width=\"100%\"\n",
       "    height=\"545px\"\n",
       "    src=\"iframe_figures/figure_10.html\"\n",
       "    frameborder=\"0\"\n",
       "    allowfullscreen\n",
       "></iframe>\n"
      ]
     },
     "metadata": {},
     "output_type": "display_data"
    },
    {
     "data": {
      "text/html": [
       "<iframe\n",
       "    scrolling=\"no\"\n",
       "    width=\"100%\"\n",
       "    height=\"545px\"\n",
       "    src=\"iframe_figures/figure_10.html\"\n",
       "    frameborder=\"0\"\n",
       "    allowfullscreen\n",
       "></iframe>\n"
      ]
     },
     "metadata": {},
     "output_type": "display_data"
    },
    {
     "data": {
      "text/html": [
       "<iframe\n",
       "    scrolling=\"no\"\n",
       "    width=\"100%\"\n",
       "    height=\"545px\"\n",
       "    src=\"iframe_figures/figure_10.html\"\n",
       "    frameborder=\"0\"\n",
       "    allowfullscreen\n",
       "></iframe>\n"
      ]
     },
     "metadata": {},
     "output_type": "display_data"
    },
    {
     "data": {
      "text/html": [
       "<iframe\n",
       "    scrolling=\"no\"\n",
       "    width=\"100%\"\n",
       "    height=\"545px\"\n",
       "    src=\"iframe_figures/figure_10.html\"\n",
       "    frameborder=\"0\"\n",
       "    allowfullscreen\n",
       "></iframe>\n"
      ]
     },
     "metadata": {},
     "output_type": "display_data"
    },
    {
     "data": {
      "text/html": [
       "<iframe\n",
       "    scrolling=\"no\"\n",
       "    width=\"100%\"\n",
       "    height=\"545px\"\n",
       "    src=\"iframe_figures/figure_10.html\"\n",
       "    frameborder=\"0\"\n",
       "    allowfullscreen\n",
       "></iframe>\n"
      ]
     },
     "metadata": {},
     "output_type": "display_data"
    },
    {
     "data": {
      "text/html": [
       "<iframe\n",
       "    scrolling=\"no\"\n",
       "    width=\"100%\"\n",
       "    height=\"545px\"\n",
       "    src=\"iframe_figures/figure_10.html\"\n",
       "    frameborder=\"0\"\n",
       "    allowfullscreen\n",
       "></iframe>\n"
      ]
     },
     "metadata": {},
     "output_type": "display_data"
    },
    {
     "data": {
      "text/html": [
       "<iframe\n",
       "    scrolling=\"no\"\n",
       "    width=\"100%\"\n",
       "    height=\"545px\"\n",
       "    src=\"iframe_figures/figure_10.html\"\n",
       "    frameborder=\"0\"\n",
       "    allowfullscreen\n",
       "></iframe>\n"
      ]
     },
     "metadata": {},
     "output_type": "display_data"
    },
    {
     "data": {
      "text/html": [
       "<iframe\n",
       "    scrolling=\"no\"\n",
       "    width=\"100%\"\n",
       "    height=\"545px\"\n",
       "    src=\"iframe_figures/figure_10.html\"\n",
       "    frameborder=\"0\"\n",
       "    allowfullscreen\n",
       "></iframe>\n"
      ]
     },
     "metadata": {},
     "output_type": "display_data"
    },
    {
     "data": {
      "text/html": [
       "<iframe\n",
       "    scrolling=\"no\"\n",
       "    width=\"100%\"\n",
       "    height=\"545px\"\n",
       "    src=\"iframe_figures/figure_10.html\"\n",
       "    frameborder=\"0\"\n",
       "    allowfullscreen\n",
       "></iframe>\n"
      ]
     },
     "metadata": {},
     "output_type": "display_data"
    },
    {
     "data": {
      "text/html": [
       "<iframe\n",
       "    scrolling=\"no\"\n",
       "    width=\"100%\"\n",
       "    height=\"545px\"\n",
       "    src=\"iframe_figures/figure_10.html\"\n",
       "    frameborder=\"0\"\n",
       "    allowfullscreen\n",
       "></iframe>\n"
      ]
     },
     "metadata": {},
     "output_type": "display_data"
    },
    {
     "name": "stdout",
     "output_type": "stream",
     "text": [
      "DONE!\n"
     ]
    },
    {
     "name": "stderr",
     "output_type": "stream",
     "text": [
      "100%|██████████| 36/36 [00:06<00:00,  5.46it/s]\n"
     ]
    },
    {
     "name": "stdout",
     "output_type": "stream",
     "text": [
      "Saving scores to  eval/mle/magic_ON_QnSC_100k/tabddpm_ON_QnSC_100k_mult_5.json\n",
      "ROC - AUC обучения на синтетических данных TABDDPM_ON_QNSC_100K_MULT_5: 0.928 ± 0.005\n",
      "magic_ON_QnSC_100k, tabddpm_ON_QnSC_100k_mult_5: 0.9978806107271246\n",
      "DCR Score, a value closer to 0.5 is better\n",
      "magic_ON_QnSC_100k-tabddpm_ON_QnSC_100k_mult_5, DCR Score = 0.9146512443042412\n",
      "=========== All Features ===========\n",
      "Data shape:  (17118, 12)\n",
      "alpha precision: 0.992337, beta recall: 0.493574\n",
      "./models/tabddpm_ON_QnSC/ckpt/magic/tabddpm_ON_QnSC_100k_mult_6 tabddpm_ON_QnSC_100k_mult_6 ./synthetic/magic_ON_QnSC_100k/tabddpm_ON_QnSC_100k_mult_6.csv\n",
      "No NaNs in numerical features, skipping\n",
      "mlp\n",
      "Sample timestep    0\n",
      "Sample timestep    0\n",
      "Shape torch.Size([17118, 11])\n",
      "Sampling time: 92.60251188278198\n",
      "Sample path changed to ./synthetic/magic_ON_QnSC_100k/initial_tabddpm_ON_QnSC_100k_mult_6.csv\n",
      "TABDDPM_ON_QNSC_100K_MULT_6: MAGIC_ON_QNSC_100K Dataset\n",
      "Original Logistic: 0.833\n",
      "Synthetic Logistic: 0.829\n",
      "Original Tree: 0.873\n",
      "Synthetic Tree: 0.857 \n",
      "\n",
      "TABDDPM_ON_QNSC_100K_MULT_6 Accuracy Loss: MAGIC_ON_QNSC_100K\n",
      "Logistic: 0.443%\n",
      "Tree: 1.899% \n",
      "\n",
      "CALCULATING COLUMN-WISE DENSITY ESTIMATION & PAIR-WISE COLUMN CORRELATION...\n",
      "Generating report ...\n",
      "\n",
      "(1/2) Evaluating Column Shapes: |██████████| 11/11 [00:00<00:00, 145.19it/s]|\n",
      "Column Shapes Score: 99.1%\n",
      "\n",
      "(2/2) Evaluating Column Pair Trends: |██████████| 55/55 [00:00<00:00, 111.52it/s]|\n",
      "Column Pair Trends Score: 98.85%\n",
      "\n",
      "Overall Score (Average): 98.97%\n",
      "\n",
      "Error rate (%) of column-wise density estimation TABDDPM_ON_QNSC_100K_MULT_6: 0.905 ± 0.291\n",
      "Error rate (%) of pair-wise column correlation score TABDDPM_ON_QNSC_100K_MULT_6: 1.149 ± 2.130\n"
     ]
    },
    {
     "data": {
      "text/html": [
       "<iframe\n",
       "    scrolling=\"no\"\n",
       "    width=\"100%\"\n",
       "    height=\"545px\"\n",
       "    src=\"iframe_figures/figure_10.html\"\n",
       "    frameborder=\"0\"\n",
       "    allowfullscreen\n",
       "></iframe>\n"
      ]
     },
     "metadata": {},
     "output_type": "display_data"
    },
    {
     "data": {
      "text/html": [
       "<iframe\n",
       "    scrolling=\"no\"\n",
       "    width=\"920px\"\n",
       "    height=\"920\"\n",
       "    src=\"iframe_figures/figure_10.html\"\n",
       "    frameborder=\"0\"\n",
       "    allowfullscreen\n",
       "></iframe>\n"
      ]
     },
     "metadata": {},
     "output_type": "display_data"
    },
    {
     "name": "stdout",
     "output_type": "stream",
     "text": [
      "DONE! \n",
      "\n",
      "DRAW COLUMN VALUES DISTRIBUTIONS...\n"
     ]
    },
    {
     "data": {
      "text/html": [
       "<iframe\n",
       "    scrolling=\"no\"\n",
       "    width=\"100%\"\n",
       "    height=\"545px\"\n",
       "    src=\"iframe_figures/figure_10.html\"\n",
       "    frameborder=\"0\"\n",
       "    allowfullscreen\n",
       "></iframe>\n"
      ]
     },
     "metadata": {},
     "output_type": "display_data"
    },
    {
     "data": {
      "text/html": [
       "<iframe\n",
       "    scrolling=\"no\"\n",
       "    width=\"100%\"\n",
       "    height=\"545px\"\n",
       "    src=\"iframe_figures/figure_10.html\"\n",
       "    frameborder=\"0\"\n",
       "    allowfullscreen\n",
       "></iframe>\n"
      ]
     },
     "metadata": {},
     "output_type": "display_data"
    },
    {
     "data": {
      "text/html": [
       "<iframe\n",
       "    scrolling=\"no\"\n",
       "    width=\"100%\"\n",
       "    height=\"545px\"\n",
       "    src=\"iframe_figures/figure_10.html\"\n",
       "    frameborder=\"0\"\n",
       "    allowfullscreen\n",
       "></iframe>\n"
      ]
     },
     "metadata": {},
     "output_type": "display_data"
    },
    {
     "data": {
      "text/html": [
       "<iframe\n",
       "    scrolling=\"no\"\n",
       "    width=\"100%\"\n",
       "    height=\"545px\"\n",
       "    src=\"iframe_figures/figure_10.html\"\n",
       "    frameborder=\"0\"\n",
       "    allowfullscreen\n",
       "></iframe>\n"
      ]
     },
     "metadata": {},
     "output_type": "display_data"
    },
    {
     "data": {
      "text/html": [
       "<iframe\n",
       "    scrolling=\"no\"\n",
       "    width=\"100%\"\n",
       "    height=\"545px\"\n",
       "    src=\"iframe_figures/figure_10.html\"\n",
       "    frameborder=\"0\"\n",
       "    allowfullscreen\n",
       "></iframe>\n"
      ]
     },
     "metadata": {},
     "output_type": "display_data"
    },
    {
     "data": {
      "text/html": [
       "<iframe\n",
       "    scrolling=\"no\"\n",
       "    width=\"100%\"\n",
       "    height=\"545px\"\n",
       "    src=\"iframe_figures/figure_10.html\"\n",
       "    frameborder=\"0\"\n",
       "    allowfullscreen\n",
       "></iframe>\n"
      ]
     },
     "metadata": {},
     "output_type": "display_data"
    },
    {
     "data": {
      "text/html": [
       "<iframe\n",
       "    scrolling=\"no\"\n",
       "    width=\"100%\"\n",
       "    height=\"545px\"\n",
       "    src=\"iframe_figures/figure_10.html\"\n",
       "    frameborder=\"0\"\n",
       "    allowfullscreen\n",
       "></iframe>\n"
      ]
     },
     "metadata": {},
     "output_type": "display_data"
    },
    {
     "data": {
      "text/html": [
       "<iframe\n",
       "    scrolling=\"no\"\n",
       "    width=\"100%\"\n",
       "    height=\"545px\"\n",
       "    src=\"iframe_figures/figure_10.html\"\n",
       "    frameborder=\"0\"\n",
       "    allowfullscreen\n",
       "></iframe>\n"
      ]
     },
     "metadata": {},
     "output_type": "display_data"
    },
    {
     "data": {
      "text/html": [
       "<iframe\n",
       "    scrolling=\"no\"\n",
       "    width=\"100%\"\n",
       "    height=\"545px\"\n",
       "    src=\"iframe_figures/figure_10.html\"\n",
       "    frameborder=\"0\"\n",
       "    allowfullscreen\n",
       "></iframe>\n"
      ]
     },
     "metadata": {},
     "output_type": "display_data"
    },
    {
     "data": {
      "text/html": [
       "<iframe\n",
       "    scrolling=\"no\"\n",
       "    width=\"100%\"\n",
       "    height=\"545px\"\n",
       "    src=\"iframe_figures/figure_10.html\"\n",
       "    frameborder=\"0\"\n",
       "    allowfullscreen\n",
       "></iframe>\n"
      ]
     },
     "metadata": {},
     "output_type": "display_data"
    },
    {
     "data": {
      "text/html": [
       "<iframe\n",
       "    scrolling=\"no\"\n",
       "    width=\"100%\"\n",
       "    height=\"545px\"\n",
       "    src=\"iframe_figures/figure_10.html\"\n",
       "    frameborder=\"0\"\n",
       "    allowfullscreen\n",
       "></iframe>\n"
      ]
     },
     "metadata": {},
     "output_type": "display_data"
    },
    {
     "name": "stdout",
     "output_type": "stream",
     "text": [
      "DONE!\n"
     ]
    },
    {
     "name": "stderr",
     "output_type": "stream",
     "text": [
      "100%|██████████| 36/36 [00:06<00:00,  5.23it/s]\n"
     ]
    },
    {
     "name": "stdout",
     "output_type": "stream",
     "text": [
      "Saving scores to  eval/mle/magic_ON_QnSC_100k/tabddpm_ON_QnSC_100k_mult_6.json\n",
      "ROC - AUC обучения на синтетических данных TABDDPM_ON_QNSC_100K_MULT_6: 0.925 ± 0.005\n",
      "magic_ON_QnSC_100k, tabddpm_ON_QnSC_100k_mult_6: 1.0\n",
      "DCR Score, a value closer to 0.5 is better\n",
      "magic_ON_QnSC_100k-tabddpm_ON_QnSC_100k_mult_6, DCR Score = 0.905304357985746\n",
      "=========== All Features ===========\n",
      "Data shape:  (17118, 12)\n",
      "alpha precision: 0.994073, beta recall: 0.493558\n"
     ]
    }
   ],
   "source": [
    "overall_metrics = {}\n",
    "\n",
    "for model_save_path in model_save_path_hist:\n",
    "    model_name = model_save_path.split('/')[-1]\n",
    "    sample_save_path = f'./synthetic/{dataname}/{model_name}.csv'\n",
    "\n",
    "    CONFIG.add_arg('method', model_name)\n",
    "    CONFIG.add_arg('sample_save_path',\n",
    "                       f\"synthetic/{CONFIG.get_arg('dataname')}/{CONFIG.get_arg('method')}.csv\")\n",
    "\n",
    "    overall_metrics[model_name] = {}\n",
    "\n",
    "    print(model_save_path, model_name, sample_save_path)\n",
    "\n",
    "    tabddpm_noise_ohe = TabDDPM_OHE_Noise_QnSC(CONFIG, model_save_path=model_save_path, sigmas=None)\n",
    "    tabddpm_noise_ohe.sample(sample_save_path=sample_save_path)\n",
    "    postsample_OHE(dataname, f'./synthetic/{dataname}/initial_{model_name}.csv', normalizers=normalizers)\n",
    "\n",
    "    # подсчет метрик\n",
    "    try:\n",
    "        overall_metrics[model_name]['base_metrics'] = calculate_base_metrics(make_binary=False) # ошибка\n",
    "    except Exception as e:\n",
    "        overall_metrics[model_name]['base_metrics'] = np.nan\n",
    "    overall_metrics[model_name]['similarity'] = calculate_similarity()\n",
    "    overall_metrics[model_name]['mle'] = calculate_mle()\n",
    "    overall_metrics[model_name]['detection'] = calculate_detection()\n",
    "    overall_metrics[model_name]['DCR'] = calculate_DCR()\n",
    "    overall_metrics[model_name]['quality'] = calculate_alpha_beta()"
   ]
  },
  {
   "cell_type": "code",
   "execution_count": 11,
   "metadata": {},
   "outputs": [],
   "source": [
    "final_metrics_table = []\n",
    "model_short = 'tabddpm_ON_QnSC_100k'\n",
    "for m in overall_metrics.keys():\n",
    "    # Сбор таблички результатов\n",
    "    tmp = pd.DataFrame([{'Model':model_short, 'Type':m, 'Data':dataname}])\n",
    "    tmp.columns = pd.MultiIndex.from_tuples([('', i) for i in tmp.columns])\n",
    "    result = [tmp]\n",
    "    \n",
    "    for metric_group in overall_metrics[m].keys():\n",
    "        tmp = pd.DataFrame([overall_metrics[m][metric_group]])\n",
    "        tmp.columns = pd.MultiIndex.from_tuples([(metric_group, i) for i in tmp.columns])\n",
    "        result.append(tmp)\n",
    "    result = pd.concat(result, axis = 1)\n",
    "    final_metrics_table.append(result)\n",
    "    \n",
    "final_metrics_table = pd.concat(final_metrics_table)"
   ]
  },
  {
   "cell_type": "code",
   "execution_count": 12,
   "metadata": {},
   "outputs": [
    {
     "data": {
      "text/html": [
       "<div>\n",
       "<style scoped>\n",
       "    .dataframe tbody tr th:only-of-type {\n",
       "        vertical-align: middle;\n",
       "    }\n",
       "\n",
       "    .dataframe tbody tr th {\n",
       "        vertical-align: top;\n",
       "    }\n",
       "\n",
       "    .dataframe thead tr th {\n",
       "        text-align: left;\n",
       "    }\n",
       "</style>\n",
       "<table border=\"1\" class=\"dataframe\">\n",
       "  <thead>\n",
       "    <tr>\n",
       "      <th></th>\n",
       "      <th colspan=\"3\" halign=\"left\"></th>\n",
       "      <th colspan=\"6\" halign=\"left\">base_metrics</th>\n",
       "      <th colspan=\"6\" halign=\"left\">similarity</th>\n",
       "      <th colspan=\"2\" halign=\"left\">mle</th>\n",
       "      <th>detection</th>\n",
       "      <th>DCR</th>\n",
       "      <th colspan=\"2\" halign=\"left\">quality</th>\n",
       "    </tr>\n",
       "    <tr>\n",
       "      <th></th>\n",
       "      <th>Model</th>\n",
       "      <th>Type</th>\n",
       "      <th>Data</th>\n",
       "      <th>Original Logistic</th>\n",
       "      <th>Synthetic Logistic</th>\n",
       "      <th>Original Tree</th>\n",
       "      <th>Synthetic Tree</th>\n",
       "      <th>Accuracy Loss Logistic, %</th>\n",
       "      <th>Accuracy Loss Tree, %</th>\n",
       "      <th>Column Shapes Score, %</th>\n",
       "      <th>...</th>\n",
       "      <th>Error rate (%) of column-wise density estimation, %</th>\n",
       "      <th>Error rate (%) of column-wise density estimation std, %</th>\n",
       "      <th>Error rate (%) of pair-wise column correlation score, %</th>\n",
       "      <th>Error rate (%) of pair-wise column correlation score std, %</th>\n",
       "      <th>ROC - AUC обучения на синтетических данных</th>\n",
       "      <th>ROC - AUC обучения на синтетических данных, std</th>\n",
       "      <th>Score</th>\n",
       "      <th>Score</th>\n",
       "      <th>alpha precision</th>\n",
       "      <th>beta recall</th>\n",
       "    </tr>\n",
       "  </thead>\n",
       "  <tbody>\n",
       "    <tr>\n",
       "      <th>0</th>\n",
       "      <td>tabddpm_ON_QnSC_100k</td>\n",
       "      <td>tabddpm_ON_QnSC_100k_const_0_01</td>\n",
       "      <td>magic_ON_QnSC_100k</td>\n",
       "      <td>0.833056</td>\n",
       "      <td>0.830409</td>\n",
       "      <td>0.872102</td>\n",
       "      <td>0.871690</td>\n",
       "      <td>0.317760</td>\n",
       "      <td>0.047230</td>\n",
       "      <td>99.035040</td>\n",
       "      <td>...</td>\n",
       "      <td>0.964960</td>\n",
       "      <td>0.286866</td>\n",
       "      <td>2.305913</td>\n",
       "      <td>8.424607</td>\n",
       "      <td>0.949132</td>\n",
       "      <td>0.010096</td>\n",
       "      <td>0.980287</td>\n",
       "      <td>0.939362</td>\n",
       "      <td>0.978210</td>\n",
       "      <td>0.618265</td>\n",
       "    </tr>\n",
       "    <tr>\n",
       "      <th>0</th>\n",
       "      <td>tabddpm_ON_QnSC_100k</td>\n",
       "      <td>tabddpm_ON_QnSC_100k_const_0_25</td>\n",
       "      <td>magic_ON_QnSC_100k</td>\n",
       "      <td>0.833056</td>\n",
       "      <td>0.833471</td>\n",
       "      <td>0.876099</td>\n",
       "      <td>0.864715</td>\n",
       "      <td>-0.049727</td>\n",
       "      <td>1.299388</td>\n",
       "      <td>99.062656</td>\n",
       "      <td>...</td>\n",
       "      <td>0.937344</td>\n",
       "      <td>0.257747</td>\n",
       "      <td>1.343938</td>\n",
       "      <td>1.043176</td>\n",
       "      <td>0.884717</td>\n",
       "      <td>0.005091</td>\n",
       "      <td>0.992236</td>\n",
       "      <td>0.906064</td>\n",
       "      <td>0.974499</td>\n",
       "      <td>0.260879</td>\n",
       "    </tr>\n",
       "    <tr>\n",
       "      <th>0</th>\n",
       "      <td>tabddpm_ON_QnSC_100k</td>\n",
       "      <td>tabddpm_ON_QnSC_100k_const_0</td>\n",
       "      <td>magic_ON_QnSC_100k</td>\n",
       "      <td>0.833056</td>\n",
       "      <td>0.830189</td>\n",
       "      <td>0.871200</td>\n",
       "      <td>0.863766</td>\n",
       "      <td>0.344250</td>\n",
       "      <td>0.853334</td>\n",
       "      <td>98.853944</td>\n",
       "      <td>...</td>\n",
       "      <td>1.146056</td>\n",
       "      <td>0.360547</td>\n",
       "      <td>1.063164</td>\n",
       "      <td>1.255094</td>\n",
       "      <td>0.950833</td>\n",
       "      <td>0.006802</td>\n",
       "      <td>0.976722</td>\n",
       "      <td>0.943919</td>\n",
       "      <td>0.982478</td>\n",
       "      <td>0.628002</td>\n",
       "    </tr>\n",
       "    <tr>\n",
       "      <th>0</th>\n",
       "      <td>tabddpm_ON_QnSC_100k</td>\n",
       "      <td>tabddpm_ON_QnSC_100k_mult_5</td>\n",
       "      <td>magic_ON_QnSC_100k</td>\n",
       "      <td>0.833056</td>\n",
       "      <td>0.832013</td>\n",
       "      <td>0.876000</td>\n",
       "      <td>0.866694</td>\n",
       "      <td>0.125218</td>\n",
       "      <td>1.062384</td>\n",
       "      <td>99.140724</td>\n",
       "      <td>...</td>\n",
       "      <td>0.859276</td>\n",
       "      <td>0.380000</td>\n",
       "      <td>1.557830</td>\n",
       "      <td>3.011484</td>\n",
       "      <td>0.928089</td>\n",
       "      <td>0.005482</td>\n",
       "      <td>0.997881</td>\n",
       "      <td>0.914651</td>\n",
       "      <td>0.992337</td>\n",
       "      <td>0.493574</td>\n",
       "    </tr>\n",
       "    <tr>\n",
       "      <th>0</th>\n",
       "      <td>tabddpm_ON_QnSC_100k</td>\n",
       "      <td>tabddpm_ON_QnSC_100k_mult_6</td>\n",
       "      <td>magic_ON_QnSC_100k</td>\n",
       "      <td>0.833056</td>\n",
       "      <td>0.829370</td>\n",
       "      <td>0.873499</td>\n",
       "      <td>0.856914</td>\n",
       "      <td>0.442519</td>\n",
       "      <td>1.898683</td>\n",
       "      <td>99.095051</td>\n",
       "      <td>...</td>\n",
       "      <td>0.904949</td>\n",
       "      <td>0.290819</td>\n",
       "      <td>1.148806</td>\n",
       "      <td>2.129984</td>\n",
       "      <td>0.924537</td>\n",
       "      <td>0.005220</td>\n",
       "      <td>1.000000</td>\n",
       "      <td>0.905304</td>\n",
       "      <td>0.994073</td>\n",
       "      <td>0.493558</td>\n",
       "    </tr>\n",
       "  </tbody>\n",
       "</table>\n",
       "<p>5 rows × 22 columns</p>\n",
       "</div>"
      ],
      "text/plain": [
       "                                                                              \\\n",
       "                  Model                             Type                Data   \n",
       "0  tabddpm_ON_QnSC_100k  tabddpm_ON_QnSC_100k_const_0_01  magic_ON_QnSC_100k   \n",
       "0  tabddpm_ON_QnSC_100k  tabddpm_ON_QnSC_100k_const_0_25  magic_ON_QnSC_100k   \n",
       "0  tabddpm_ON_QnSC_100k     tabddpm_ON_QnSC_100k_const_0  magic_ON_QnSC_100k   \n",
       "0  tabddpm_ON_QnSC_100k      tabddpm_ON_QnSC_100k_mult_5  magic_ON_QnSC_100k   \n",
       "0  tabddpm_ON_QnSC_100k      tabddpm_ON_QnSC_100k_mult_6  magic_ON_QnSC_100k   \n",
       "\n",
       "       base_metrics                                                  \\\n",
       "  Original Logistic Synthetic Logistic Original Tree Synthetic Tree   \n",
       "0          0.833056           0.830409      0.872102       0.871690   \n",
       "0          0.833056           0.833471      0.876099       0.864715   \n",
       "0          0.833056           0.830189      0.871200       0.863766   \n",
       "0          0.833056           0.832013      0.876000       0.866694   \n",
       "0          0.833056           0.829370      0.873499       0.856914   \n",
       "\n",
       "                                                              similarity  ...  \\\n",
       "  Accuracy Loss Logistic, % Accuracy Loss Tree, % Column Shapes Score, %  ...   \n",
       "0                  0.317760              0.047230              99.035040  ...   \n",
       "0                 -0.049727              1.299388              99.062656  ...   \n",
       "0                  0.344250              0.853334              98.853944  ...   \n",
       "0                  0.125218              1.062384              99.140724  ...   \n",
       "0                  0.442519              1.898683              99.095051  ...   \n",
       "\n",
       "                                                       \\\n",
       "  Error rate (%) of column-wise density estimation, %   \n",
       "0                                            0.964960   \n",
       "0                                            0.937344   \n",
       "0                                            1.146056   \n",
       "0                                            0.859276   \n",
       "0                                            0.904949   \n",
       "\n",
       "                                                           \\\n",
       "  Error rate (%) of column-wise density estimation std, %   \n",
       "0                                                0.286866   \n",
       "0                                                0.257747   \n",
       "0                                                0.360547   \n",
       "0                                                0.380000   \n",
       "0                                                0.290819   \n",
       "\n",
       "                                                           \\\n",
       "  Error rate (%) of pair-wise column correlation score, %   \n",
       "0                                                2.305913   \n",
       "0                                                1.343938   \n",
       "0                                                1.063164   \n",
       "0                                                1.557830   \n",
       "0                                                1.148806   \n",
       "\n",
       "                                                               \\\n",
       "  Error rate (%) of pair-wise column correlation score std, %   \n",
       "0                                                    8.424607   \n",
       "0                                                    1.043176   \n",
       "0                                                    1.255094   \n",
       "0                                                    3.011484   \n",
       "0                                                    2.129984   \n",
       "\n",
       "                                         mle  \\\n",
       "  ROC - AUC обучения на синтетических данных   \n",
       "0                                   0.949132   \n",
       "0                                   0.884717   \n",
       "0                                   0.950833   \n",
       "0                                   0.928089   \n",
       "0                                   0.924537   \n",
       "\n",
       "                                                  detection       DCR  \\\n",
       "  ROC - AUC обучения на синтетических данных, std     Score     Score   \n",
       "0                                        0.010096  0.980287  0.939362   \n",
       "0                                        0.005091  0.992236  0.906064   \n",
       "0                                        0.006802  0.976722  0.943919   \n",
       "0                                        0.005482  0.997881  0.914651   \n",
       "0                                        0.005220  1.000000  0.905304   \n",
       "\n",
       "          quality              \n",
       "  alpha precision beta recall  \n",
       "0        0.978210    0.618265  \n",
       "0        0.974499    0.260879  \n",
       "0        0.982478    0.628002  \n",
       "0        0.992337    0.493574  \n",
       "0        0.994073    0.493558  \n",
       "\n",
       "[5 rows x 22 columns]"
      ]
     },
     "execution_count": 12,
     "metadata": {},
     "output_type": "execute_result"
    }
   ],
   "source": [
    "final_metrics_table#.drop(columns=('base_metrics', 0))"
   ]
  },
  {
   "cell_type": "code",
   "execution_count": 13,
   "metadata": {},
   "outputs": [
    {
     "data": {
      "text/html": [
       "<div>\n",
       "<style scoped>\n",
       "    .dataframe tbody tr th:only-of-type {\n",
       "        vertical-align: middle;\n",
       "    }\n",
       "\n",
       "    .dataframe tbody tr th {\n",
       "        vertical-align: top;\n",
       "    }\n",
       "\n",
       "    .dataframe thead tr th {\n",
       "        text-align: left;\n",
       "    }\n",
       "</style>\n",
       "<table border=\"1\" class=\"dataframe\">\n",
       "  <thead>\n",
       "    <tr>\n",
       "      <th></th>\n",
       "      <th colspan=\"3\" halign=\"left\"></th>\n",
       "      <th colspan=\"6\" halign=\"left\">base_metrics</th>\n",
       "      <th colspan=\"7\" halign=\"left\">similarity</th>\n",
       "      <th colspan=\"2\" halign=\"left\">mle</th>\n",
       "      <th>detection</th>\n",
       "      <th>DCR</th>\n",
       "      <th colspan=\"2\" halign=\"left\">quality</th>\n",
       "    </tr>\n",
       "    <tr>\n",
       "      <th></th>\n",
       "      <th>Model</th>\n",
       "      <th>Type</th>\n",
       "      <th>Data</th>\n",
       "      <th>Original Logistic</th>\n",
       "      <th>Synthetic Logistic</th>\n",
       "      <th>Original Tree</th>\n",
       "      <th>Synthetic Tree</th>\n",
       "      <th>Accuracy Loss Logistic, %</th>\n",
       "      <th>Accuracy Loss Tree, %</th>\n",
       "      <th>Column Shapes Score, %</th>\n",
       "      <th>Column Pair Trends Score, %</th>\n",
       "      <th>Overall Score (Average), %</th>\n",
       "      <th>Error rate (%) of column-wise density estimation, %</th>\n",
       "      <th>Error rate (%) of column-wise density estimation std, %</th>\n",
       "      <th>Error rate (%) of pair-wise column correlation score, %</th>\n",
       "      <th>Error rate (%) of pair-wise column correlation score std, %</th>\n",
       "      <th>ROC - AUC обучения на синтетических данных</th>\n",
       "      <th>ROC - AUC обучения на синтетических данных, std</th>\n",
       "      <th>Score</th>\n",
       "      <th>Score</th>\n",
       "      <th>alpha precision</th>\n",
       "      <th>beta recall</th>\n",
       "    </tr>\n",
       "  </thead>\n",
       "  <tbody>\n",
       "    <tr>\n",
       "      <th>0</th>\n",
       "      <td>tabddpm_ON_QnSC_100k</td>\n",
       "      <td>tabddpm_ON_QnSC_100k_mult_6</td>\n",
       "      <td>magic_ON_QnSC_100k</td>\n",
       "      <td>0.8331</td>\n",
       "      <td>0.8294</td>\n",
       "      <td>0.8735</td>\n",
       "      <td>0.8569</td>\n",
       "      <td>0.4425</td>\n",
       "      <td>1.8987</td>\n",
       "      <td>99.0951</td>\n",
       "      <td>98.8512</td>\n",
       "      <td>98.9731</td>\n",
       "      <td>0.9049</td>\n",
       "      <td>0.2908</td>\n",
       "      <td>1.1488</td>\n",
       "      <td>2.1300</td>\n",
       "      <td>0.9245</td>\n",
       "      <td>0.0052</td>\n",
       "      <td>1.0000</td>\n",
       "      <td>0.9053</td>\n",
       "      <td>0.9941</td>\n",
       "      <td>0.4936</td>\n",
       "    </tr>\n",
       "    <tr>\n",
       "      <th>0</th>\n",
       "      <td>tabddpm_ON_QnSC_100k</td>\n",
       "      <td>tabddpm_ON_QnSC_100k_const_0</td>\n",
       "      <td>magic_ON_QnSC_100k</td>\n",
       "      <td>0.8331</td>\n",
       "      <td>0.8302</td>\n",
       "      <td>0.8712</td>\n",
       "      <td>0.8638</td>\n",
       "      <td>0.3443</td>\n",
       "      <td>0.8533</td>\n",
       "      <td>98.8539</td>\n",
       "      <td>98.9368</td>\n",
       "      <td>98.8954</td>\n",
       "      <td>1.1461</td>\n",
       "      <td>0.3605</td>\n",
       "      <td>1.0632</td>\n",
       "      <td>1.2551</td>\n",
       "      <td>0.9508</td>\n",
       "      <td>0.0068</td>\n",
       "      <td>0.9767</td>\n",
       "      <td>0.9439</td>\n",
       "      <td>0.9825</td>\n",
       "      <td>0.6280</td>\n",
       "    </tr>\n",
       "    <tr>\n",
       "      <th>0</th>\n",
       "      <td>tabddpm_ON_QnSC_100k</td>\n",
       "      <td>tabddpm_ON_QnSC_100k_const_0_25</td>\n",
       "      <td>magic_ON_QnSC_100k</td>\n",
       "      <td>0.8331</td>\n",
       "      <td>0.8335</td>\n",
       "      <td>0.8761</td>\n",
       "      <td>0.8647</td>\n",
       "      <td>-0.0497</td>\n",
       "      <td>1.2994</td>\n",
       "      <td>99.0627</td>\n",
       "      <td>98.6561</td>\n",
       "      <td>98.8594</td>\n",
       "      <td>0.9373</td>\n",
       "      <td>0.2577</td>\n",
       "      <td>1.3439</td>\n",
       "      <td>1.0432</td>\n",
       "      <td>0.8847</td>\n",
       "      <td>0.0051</td>\n",
       "      <td>0.9922</td>\n",
       "      <td>0.9061</td>\n",
       "      <td>0.9745</td>\n",
       "      <td>0.2609</td>\n",
       "    </tr>\n",
       "    <tr>\n",
       "      <th>0</th>\n",
       "      <td>tabddpm_ON_QnSC_100k</td>\n",
       "      <td>tabddpm_ON_QnSC_100k_mult_5</td>\n",
       "      <td>magic_ON_QnSC_100k</td>\n",
       "      <td>0.8331</td>\n",
       "      <td>0.8320</td>\n",
       "      <td>0.8760</td>\n",
       "      <td>0.8667</td>\n",
       "      <td>0.1252</td>\n",
       "      <td>1.0624</td>\n",
       "      <td>99.1407</td>\n",
       "      <td>98.4422</td>\n",
       "      <td>98.7914</td>\n",
       "      <td>0.8593</td>\n",
       "      <td>0.3800</td>\n",
       "      <td>1.5578</td>\n",
       "      <td>3.0115</td>\n",
       "      <td>0.9281</td>\n",
       "      <td>0.0055</td>\n",
       "      <td>0.9979</td>\n",
       "      <td>0.9147</td>\n",
       "      <td>0.9923</td>\n",
       "      <td>0.4936</td>\n",
       "    </tr>\n",
       "    <tr>\n",
       "      <th>0</th>\n",
       "      <td>tabddpm_ON_QnSC_100k</td>\n",
       "      <td>tabddpm_ON_QnSC_100k_const_0_01</td>\n",
       "      <td>magic_ON_QnSC_100k</td>\n",
       "      <td>0.8331</td>\n",
       "      <td>0.8304</td>\n",
       "      <td>0.8721</td>\n",
       "      <td>0.8717</td>\n",
       "      <td>0.3178</td>\n",
       "      <td>0.0472</td>\n",
       "      <td>99.0350</td>\n",
       "      <td>97.6941</td>\n",
       "      <td>98.3646</td>\n",
       "      <td>0.9650</td>\n",
       "      <td>0.2869</td>\n",
       "      <td>2.3059</td>\n",
       "      <td>8.4246</td>\n",
       "      <td>0.9491</td>\n",
       "      <td>0.0101</td>\n",
       "      <td>0.9803</td>\n",
       "      <td>0.9394</td>\n",
       "      <td>0.9782</td>\n",
       "      <td>0.6183</td>\n",
       "    </tr>\n",
       "  </tbody>\n",
       "</table>\n",
       "</div>"
      ],
      "text/plain": [
       "                                                                              \\\n",
       "                  Model                             Type                Data   \n",
       "0  tabddpm_ON_QnSC_100k      tabddpm_ON_QnSC_100k_mult_6  magic_ON_QnSC_100k   \n",
       "0  tabddpm_ON_QnSC_100k     tabddpm_ON_QnSC_100k_const_0  magic_ON_QnSC_100k   \n",
       "0  tabddpm_ON_QnSC_100k  tabddpm_ON_QnSC_100k_const_0_25  magic_ON_QnSC_100k   \n",
       "0  tabddpm_ON_QnSC_100k      tabddpm_ON_QnSC_100k_mult_5  magic_ON_QnSC_100k   \n",
       "0  tabddpm_ON_QnSC_100k  tabddpm_ON_QnSC_100k_const_0_01  magic_ON_QnSC_100k   \n",
       "\n",
       "       base_metrics                                                  \\\n",
       "  Original Logistic Synthetic Logistic Original Tree Synthetic Tree   \n",
       "0            0.8331             0.8294        0.8735         0.8569   \n",
       "0            0.8331             0.8302        0.8712         0.8638   \n",
       "0            0.8331             0.8335        0.8761         0.8647   \n",
       "0            0.8331             0.8320        0.8760         0.8667   \n",
       "0            0.8331             0.8304        0.8721         0.8717   \n",
       "\n",
       "                                                              similarity  \\\n",
       "  Accuracy Loss Logistic, % Accuracy Loss Tree, % Column Shapes Score, %   \n",
       "0                    0.4425                1.8987                99.0951   \n",
       "0                    0.3443                0.8533                98.8539   \n",
       "0                   -0.0497                1.2994                99.0627   \n",
       "0                    0.1252                1.0624                99.1407   \n",
       "0                    0.3178                0.0472                99.0350   \n",
       "\n",
       "                                                          \\\n",
       "  Column Pair Trends Score, % Overall Score (Average), %   \n",
       "0                     98.8512                    98.9731   \n",
       "0                     98.9368                    98.8954   \n",
       "0                     98.6561                    98.8594   \n",
       "0                     98.4422                    98.7914   \n",
       "0                     97.6941                    98.3646   \n",
       "\n",
       "                                                       \\\n",
       "  Error rate (%) of column-wise density estimation, %   \n",
       "0                                              0.9049   \n",
       "0                                              1.1461   \n",
       "0                                              0.9373   \n",
       "0                                              0.8593   \n",
       "0                                              0.9650   \n",
       "\n",
       "                                                           \\\n",
       "  Error rate (%) of column-wise density estimation std, %   \n",
       "0                                                  0.2908   \n",
       "0                                                  0.3605   \n",
       "0                                                  0.2577   \n",
       "0                                                  0.3800   \n",
       "0                                                  0.2869   \n",
       "\n",
       "                                                           \\\n",
       "  Error rate (%) of pair-wise column correlation score, %   \n",
       "0                                                  1.1488   \n",
       "0                                                  1.0632   \n",
       "0                                                  1.3439   \n",
       "0                                                  1.5578   \n",
       "0                                                  2.3059   \n",
       "\n",
       "                                                               \\\n",
       "  Error rate (%) of pair-wise column correlation score std, %   \n",
       "0                                                      2.1300   \n",
       "0                                                      1.2551   \n",
       "0                                                      1.0432   \n",
       "0                                                      3.0115   \n",
       "0                                                      8.4246   \n",
       "\n",
       "                                         mle  \\\n",
       "  ROC - AUC обучения на синтетических данных   \n",
       "0                                     0.9245   \n",
       "0                                     0.9508   \n",
       "0                                     0.8847   \n",
       "0                                     0.9281   \n",
       "0                                     0.9491   \n",
       "\n",
       "                                                  detection     DCR  \\\n",
       "  ROC - AUC обучения на синтетических данных, std     Score   Score   \n",
       "0                                          0.0052    1.0000  0.9053   \n",
       "0                                          0.0068    0.9767  0.9439   \n",
       "0                                          0.0051    0.9922  0.9061   \n",
       "0                                          0.0055    0.9979  0.9147   \n",
       "0                                          0.0101    0.9803  0.9394   \n",
       "\n",
       "          quality              \n",
       "  alpha precision beta recall  \n",
       "0          0.9941      0.4936  \n",
       "0          0.9825      0.6280  \n",
       "0          0.9745      0.2609  \n",
       "0          0.9923      0.4936  \n",
       "0          0.9782      0.6183  "
      ]
     },
     "execution_count": 13,
     "metadata": {},
     "output_type": "execute_result"
    }
   ],
   "source": [
    "pd.set_option('display.max_columns', None)\n",
    "final_metrics_table.round(4).sort_values([('similarity', 'Overall Score (Average), %')],\n",
    "                                                                          ascending=False)"
   ]
  },
  {
   "cell_type": "code",
   "execution_count": 14,
   "metadata": {},
   "outputs": [
    {
     "data": {
      "text/plain": [
       "'./eval/total/magic_ON_QnSC_100k/tabddpm_ON_QnSC_100k_final_metrcs_table.csv'"
      ]
     },
     "execution_count": 14,
     "metadata": {},
     "output_type": "execute_result"
    }
   ],
   "source": [
    "f'./eval/total/{dataname}/{model_short}_final_metrcs_table.csv'"
   ]
  },
  {
   "cell_type": "code",
   "execution_count": 15,
   "metadata": {},
   "outputs": [],
   "source": [
    "import os\n",
    "if not os.path.exists(f'./eval/total/{dataname}'):\n",
    "    os.makedirs(f'./eval/total/{dataname}')\n",
    "final_metrics_table.to_csv(f'./eval/total/{dataname}/{model_short}_final_metrcs_table.csv', index=False)"
   ]
  },
  {
   "cell_type": "code",
   "execution_count": null,
   "metadata": {},
   "outputs": [],
   "source": []
  }
 ],
 "metadata": {
  "colab": {
   "authorship_tag": "ABX9TyM87OAyAZDeZ/KEr1BVC60/",
   "mount_file_id": "1-H09AG2TbV5ZzQ-ytJRNbFUCirBvOV9p",
   "provenance": []
  },
  "kernelspec": {
   "display_name": "Python3 (ipykernel)",
   "language": "python",
   "name": "python3"
  },
  "language_info": {
   "codemirror_mode": {
    "name": "ipython",
    "version": 3
   },
   "file_extension": ".py",
   "mimetype": "text/x-python",
   "name": "python",
   "nbconvert_exporter": "python",
   "pygments_lexer": "ipython3",
   "version": "3.10.12"
  },
  "widgets": {
   "application/vnd.jupyter.widget-state+json": {
    "state": {},
    "version_major": 2,
    "version_minor": 0
   }
  }
 },
 "nbformat": 4,
 "nbformat_minor": 4
}
