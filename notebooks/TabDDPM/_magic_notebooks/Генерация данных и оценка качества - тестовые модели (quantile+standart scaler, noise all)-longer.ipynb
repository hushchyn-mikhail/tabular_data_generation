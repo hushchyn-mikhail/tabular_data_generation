{
 "cells": [
  {
   "cell_type": "markdown",
   "metadata": {},
   "source": [
    "В этом ноубуке используются обeченные тестовые модели, с их помощью происходит сэмплирование и далее закодированные категориальные переменные переводятся в изначальные. После чего замеряется качество.\n",
    "\n",
    "Способ нормализации: quantile transformation для числовых признаков и standart scale для категориальных OHE\n",
    "\n",
    "Добавление шума: ко всем признакам"
   ]
  },
  {
   "cell_type": "code",
   "execution_count": 1,
   "metadata": {},
   "outputs": [
    {
     "name": "stdout",
     "output_type": "stream",
     "text": [
      "/workspace/TabDDPM_copy/TabDDPM\n"
     ]
    },
    {
     "name": "stderr",
     "output_type": "stream",
     "text": [
      "/venv/main/lib/python3.10/site-packages/IPython/core/magics/osm.py:417: UserWarning: This is now an optional IPython functionality, setting dhist requires you to install the `pickleshare` library.\n",
      "  self.shell.db['dhist'] = compress_dhist(dhist)[-100:]\n"
     ]
    }
   ],
   "source": [
    "%cd .."
   ]
  },
  {
   "cell_type": "code",
   "execution_count": 2,
   "metadata": {
    "executionInfo": {
     "elapsed": 11435,
     "status": "ok",
     "timestamp": 1742850942286,
     "user": {
      "displayName": "Elina Telesheva",
      "userId": "03968090829384653347"
     },
     "user_tz": -180
    },
    "id": "o77KHt0w3DWc"
   },
   "outputs": [],
   "source": [
    "import json\n",
    "import pandas as pd\n",
    "import torch\n",
    "import matplotlib.pyplot as plt\n",
    "\n",
    "from utils import *\n",
    "from models.tabddpm_ON_QnSC.tabddpm_ON_QnSC import *\n",
    "\n",
    "from tqdm.notebook import tqdm\n",
    "\n",
    "from eval.base_metrics import calculate_base_metrics\n",
    "from eval.similarity import calculate_similarity\n",
    "from eval.mle import calculate_mle\n",
    "from eval.alpha_beta import calculate_alpha_beta\n",
    "from eval.detection import calculate_detection\n",
    "from eval.dcr import calculate_DCR"
   ]
  },
  {
   "cell_type": "markdown",
   "metadata": {},
   "source": [
    "### Подготовка"
   ]
  },
  {
   "cell_type": "code",
   "execution_count": 3,
   "metadata": {},
   "outputs": [],
   "source": [
    "dataname = 'magic_ON_QnSC_200k'\n",
    "dataname_initial = 'magic'\n",
    "model_short = 'tabddpm_ON_QnSC'\n",
    "model_name = 'tabddpm_ON_QnSC'\n",
    "model_name_postfix = '_200k'\n",
    "\n",
    "idx = list(range(10))\n",
    "constants = [0, 0.001, 0.01, 0.1, 0.25, 0.5]\n",
    "\n",
    "CONFIG.add_arg('save_cat', None)\n",
    "target_cat=True"
   ]
  },
  {
   "cell_type": "code",
   "execution_count": 4,
   "metadata": {},
   "outputs": [
    {
     "name": "stdout",
     "output_type": "stream",
     "text": [
      "Device: cuda\n"
     ]
    }
   ],
   "source": [
    "if torch.cuda.is_available():\n",
    "    device = f'cuda'\n",
    "else:\n",
    "    device = 'cpu'\n",
    "CONFIG.add_arg('device', device)\n",
    "print(f\"Device: {device}\")\n",
    "\n",
    "CONFIG.add_arg('dataname', dataname)\n",
    "CONFIG.add_arg('real_path',\n",
    "                   f'./synthetic/{dataname}/initial_real.csv')\n",
    "CONFIG.add_arg('test_path',\n",
    "                   f'./synthetic/{dataname}/initial_test.csv')\n",
    "\n",
    "CONFIG.add_arg('info_path',\n",
    "                   f'./data/{dataname}/initial_info.json')"
   ]
  },
  {
   "cell_type": "code",
   "execution_count": 5,
   "metadata": {},
   "outputs": [],
   "source": [
    "model_save_path_hist = []\n",
    "for sigma in constants:\n",
    "    model_save_path=f\"./models/{model_name}/ckpt/{dataname_initial}/{model_name}{model_name_postfix}_const_{str(sigma).replace('.', '_')}\"\n",
    "    model_save_path_hist.append(model_save_path)\n",
    "\n",
    "for i in idx:\n",
    "    model_save_path=f\"./models/{model_name}/ckpt/{dataname_initial}/{model_name}{model_name_postfix}_mult_{i}\"\n",
    "    model_save_path_hist.append(model_save_path)"
   ]
  },
  {
   "cell_type": "code",
   "execution_count": 6,
   "metadata": {},
   "outputs": [
    {
     "name": "stdout",
     "output_type": "stream",
     "text": [
      "normalizers received from `data/magic_ON_QnSC_200k` folder\n"
     ]
    }
   ],
   "source": [
    "from pickle import dump, load\n",
    "with open(f'data/{dataname}/normalizers.json', 'r') as f:\n",
    "        normalizers = json.load(f)\n",
    "normalizers['num_normalizer'] = load(open(f'./data/{dataname}/num_normalizer_{dataname}.pkl', 'rb'))\n",
    "normalizers['cat_normalizer'] = load(open(f'./data/{dataname}/cat_normalizer_{dataname}.pkl', 'rb'))\n",
    "print(f\"normalizers received from `data/{dataname}` folder\")"
   ]
  },
  {
   "cell_type": "code",
   "execution_count": 7,
   "metadata": {},
   "outputs": [
    {
     "data": {
      "text/plain": [
       "{'dataname': 'magic_ON_QnSC_200k',\n",
       " 'method': None,\n",
       " 'device': 'cuda',\n",
       " 'mode': 'train',\n",
       " 'train': 1,\n",
       " 'sample_save_path': None,\n",
       " 'sigma_scheduller_name': 'constant',\n",
       " 'sigma_value': 0.001,\n",
       " 'num_noise': 1,\n",
       " 'real_path': './synthetic/magic_ON_QnSC_200k/initial_real.csv',\n",
       " 'test_path': './synthetic/magic_ON_QnSC_200k/initial_test.csv',\n",
       " 'info_path': './data/magic_ON_QnSC_200k/initial_info.json',\n",
       " 'save_path': None,\n",
       " 'num_clusters': 25,\n",
       " 'save_cat': None}"
      ]
     },
     "execution_count": 7,
     "metadata": {},
     "output_type": "execute_result"
    }
   ],
   "source": [
    "CONFIG.get_all_args()"
   ]
  },
  {
   "cell_type": "markdown",
   "metadata": {},
   "source": [
    "### Sample + Eval"
   ]
  },
  {
   "cell_type": "code",
   "execution_count": 8,
   "metadata": {
    "scrolled": true
   },
   "outputs": [
    {
     "name": "stdout",
     "output_type": "stream",
     "text": [
      "./models/tabddpm_ON_QnSC/ckpt/magic/tabddpm_ON_QnSC_200k_const_0 tabddpm_ON_QnSC_200k_const_0 ./synthetic/magic_ON_QnSC_200k/tabddpm_ON_QnSC_200k_const_0.csv\n",
      "No NaNs in numerical features, skipping\n",
      "mlp\n",
      "Sample timestep    0\n",
      "Sample timestep    0\n",
      "Shape torch.Size([17118, 11])\n",
      "Sampling time: 93.52240109443665\n",
      "Sample path changed to ./synthetic/magic_ON_QnSC_200k/initial_tabddpm_ON_QnSC_200k_const_0.csv\n",
      "TABDDPM_ON_QNSC_200K_CONST_0: MAGIC_ON_QNSC_200K Dataset\n",
      "Original Logistic: 0.833\n",
      "Synthetic Logistic: 0.830\n",
      "Original Tree: 0.878\n",
      "Synthetic Tree: 0.872 \n",
      "\n",
      "TABDDPM_ON_QNSC_200K_CONST_0 Accuracy Loss: MAGIC_ON_QNSC_200K\n",
      "Logistic: 0.401%\n",
      "Tree: 0.679% \n",
      "\n",
      "CALCULATING COLUMN-WISE DENSITY ESTIMATION & PAIR-WISE COLUMN CORRELATION...\n",
      "Generating report ...\n",
      "\n",
      "(1/2) Evaluating Column Shapes: |██████████| 11/11 [00:00<00:00, 101.61it/s]|\n",
      "Column Shapes Score: 98.96%\n",
      "\n",
      "(2/2) Evaluating Column Pair Trends: |██████████| 55/55 [00:00<00:00, 94.93it/s]|\n",
      "Column Pair Trends Score: 97.49%\n",
      "\n",
      "Overall Score (Average): 98.22%\n",
      "\n",
      "Error rate (%) of column-wise density estimation TABDDPM_ON_QNSC_200K_CONST_0: 1.042 ± 0.301\n",
      "Error rate (%) of pair-wise column correlation score TABDDPM_ON_QNSC_200K_CONST_0: 2.513 ± 6.995\n"
     ]
    },
    {
     "data": {
      "text/html": [
       "<iframe\n",
       "    scrolling=\"no\"\n",
       "    width=\"100%\"\n",
       "    height=\"545px\"\n",
       "    src=\"iframe_figures/figure_8.html\"\n",
       "    frameborder=\"0\"\n",
       "    allowfullscreen\n",
       "></iframe>\n"
      ]
     },
     "metadata": {},
     "output_type": "display_data"
    },
    {
     "data": {
      "text/html": [
       "<iframe\n",
       "    scrolling=\"no\"\n",
       "    width=\"920px\"\n",
       "    height=\"920\"\n",
       "    src=\"iframe_figures/figure_8.html\"\n",
       "    frameborder=\"0\"\n",
       "    allowfullscreen\n",
       "></iframe>\n"
      ]
     },
     "metadata": {},
     "output_type": "display_data"
    },
    {
     "name": "stdout",
     "output_type": "stream",
     "text": [
      "DONE! \n",
      "\n",
      "DRAW COLUMN VALUES DISTRIBUTIONS...\n"
     ]
    },
    {
     "data": {
      "text/html": [
       "<iframe\n",
       "    scrolling=\"no\"\n",
       "    width=\"100%\"\n",
       "    height=\"545px\"\n",
       "    src=\"iframe_figures/figure_8.html\"\n",
       "    frameborder=\"0\"\n",
       "    allowfullscreen\n",
       "></iframe>\n"
      ]
     },
     "metadata": {},
     "output_type": "display_data"
    },
    {
     "data": {
      "text/html": [
       "<iframe\n",
       "    scrolling=\"no\"\n",
       "    width=\"100%\"\n",
       "    height=\"545px\"\n",
       "    src=\"iframe_figures/figure_8.html\"\n",
       "    frameborder=\"0\"\n",
       "    allowfullscreen\n",
       "></iframe>\n"
      ]
     },
     "metadata": {},
     "output_type": "display_data"
    },
    {
     "data": {
      "text/html": [
       "<iframe\n",
       "    scrolling=\"no\"\n",
       "    width=\"100%\"\n",
       "    height=\"545px\"\n",
       "    src=\"iframe_figures/figure_8.html\"\n",
       "    frameborder=\"0\"\n",
       "    allowfullscreen\n",
       "></iframe>\n"
      ]
     },
     "metadata": {},
     "output_type": "display_data"
    },
    {
     "data": {
      "text/html": [
       "<iframe\n",
       "    scrolling=\"no\"\n",
       "    width=\"100%\"\n",
       "    height=\"545px\"\n",
       "    src=\"iframe_figures/figure_8.html\"\n",
       "    frameborder=\"0\"\n",
       "    allowfullscreen\n",
       "></iframe>\n"
      ]
     },
     "metadata": {},
     "output_type": "display_data"
    },
    {
     "data": {
      "text/html": [
       "<iframe\n",
       "    scrolling=\"no\"\n",
       "    width=\"100%\"\n",
       "    height=\"545px\"\n",
       "    src=\"iframe_figures/figure_8.html\"\n",
       "    frameborder=\"0\"\n",
       "    allowfullscreen\n",
       "></iframe>\n"
      ]
     },
     "metadata": {},
     "output_type": "display_data"
    },
    {
     "data": {
      "text/html": [
       "<iframe\n",
       "    scrolling=\"no\"\n",
       "    width=\"100%\"\n",
       "    height=\"545px\"\n",
       "    src=\"iframe_figures/figure_8.html\"\n",
       "    frameborder=\"0\"\n",
       "    allowfullscreen\n",
       "></iframe>\n"
      ]
     },
     "metadata": {},
     "output_type": "display_data"
    },
    {
     "data": {
      "text/html": [
       "<iframe\n",
       "    scrolling=\"no\"\n",
       "    width=\"100%\"\n",
       "    height=\"545px\"\n",
       "    src=\"iframe_figures/figure_8.html\"\n",
       "    frameborder=\"0\"\n",
       "    allowfullscreen\n",
       "></iframe>\n"
      ]
     },
     "metadata": {},
     "output_type": "display_data"
    },
    {
     "data": {
      "text/html": [
       "<iframe\n",
       "    scrolling=\"no\"\n",
       "    width=\"100%\"\n",
       "    height=\"545px\"\n",
       "    src=\"iframe_figures/figure_8.html\"\n",
       "    frameborder=\"0\"\n",
       "    allowfullscreen\n",
       "></iframe>\n"
      ]
     },
     "metadata": {},
     "output_type": "display_data"
    },
    {
     "data": {
      "text/html": [
       "<iframe\n",
       "    scrolling=\"no\"\n",
       "    width=\"100%\"\n",
       "    height=\"545px\"\n",
       "    src=\"iframe_figures/figure_8.html\"\n",
       "    frameborder=\"0\"\n",
       "    allowfullscreen\n",
       "></iframe>\n"
      ]
     },
     "metadata": {},
     "output_type": "display_data"
    },
    {
     "data": {
      "text/html": [
       "<iframe\n",
       "    scrolling=\"no\"\n",
       "    width=\"100%\"\n",
       "    height=\"545px\"\n",
       "    src=\"iframe_figures/figure_8.html\"\n",
       "    frameborder=\"0\"\n",
       "    allowfullscreen\n",
       "></iframe>\n"
      ]
     },
     "metadata": {},
     "output_type": "display_data"
    },
    {
     "data": {
      "text/html": [
       "<iframe\n",
       "    scrolling=\"no\"\n",
       "    width=\"100%\"\n",
       "    height=\"545px\"\n",
       "    src=\"iframe_figures/figure_8.html\"\n",
       "    frameborder=\"0\"\n",
       "    allowfullscreen\n",
       "></iframe>\n"
      ]
     },
     "metadata": {},
     "output_type": "display_data"
    },
    {
     "name": "stdout",
     "output_type": "stream",
     "text": [
      "DONE!\n"
     ]
    },
    {
     "name": "stderr",
     "output_type": "stream",
     "text": [
      "100%|██████████| 36/36 [00:07<00:00,  4.66it/s]\n"
     ]
    },
    {
     "name": "stdout",
     "output_type": "stream",
     "text": [
      "Saving scores to  eval/mle/magic_ON_QnSC_200k/tabddpm_ON_QnSC_200k_const_0.json\n",
      "ROC - AUC обучения на синтетических данных TABDDPM_ON_QNSC_200K_CONST_0: 0.946 ± 0.008\n",
      "magic_ON_QnSC_200k, tabddpm_ON_QnSC_200k_const_0: 0.9796035657241029\n",
      "n_clusters: 25\n",
      "DCR Score, a value closer to 0.5 is better\n",
      "magic_ON_QnSC_200k-tabddpm_ON_QnSC_200k_const_0, DCR Score = 0.5541535226077813\n",
      "=========== All Features ===========\n",
      "Data shape:  (17118, 12)\n",
      "alpha precision: 0.975052, beta recall: 0.643907\n",
      "./models/tabddpm_ON_QnSC/ckpt/magic/tabddpm_ON_QnSC_200k_const_0_001 tabddpm_ON_QnSC_200k_const_0_001 ./synthetic/magic_ON_QnSC_200k/tabddpm_ON_QnSC_200k_const_0_001.csv\n",
      "No NaNs in numerical features, skipping\n",
      "mlp\n",
      "Sample timestep    0\n",
      "Sample timestep    0\n",
      "Shape torch.Size([17118, 11])\n",
      "Sampling time: 96.59213185310364\n",
      "Sample path changed to ./synthetic/magic_ON_QnSC_200k/initial_tabddpm_ON_QnSC_200k_const_0_001.csv\n",
      "TABDDPM_ON_QNSC_200K_CONST_0_001: MAGIC_ON_QNSC_200K Dataset\n",
      "Original Logistic: 0.833\n",
      "Synthetic Logistic: 0.831\n",
      "Original Tree: 0.872\n",
      "Synthetic Tree: 0.850 \n",
      "\n",
      "TABDDPM_ON_QNSC_200K_CONST_0_001 Accuracy Loss: MAGIC_ON_QNSC_200K\n",
      "Logistic: 0.234%\n",
      "Tree: 2.478% \n",
      "\n",
      "CALCULATING COLUMN-WISE DENSITY ESTIMATION & PAIR-WISE COLUMN CORRELATION...\n",
      "Generating report ...\n",
      "\n",
      "(1/2) Evaluating Column Shapes: |██████████| 11/11 [00:00<00:00, 91.13it/s]|\n",
      "Column Shapes Score: 99.02%\n",
      "\n",
      "(2/2) Evaluating Column Pair Trends: |██████████| 55/55 [00:00<00:00, 72.33it/s]|\n",
      "Column Pair Trends Score: 98.5%\n",
      "\n",
      "Overall Score (Average): 98.76%\n",
      "\n",
      "Error rate (%) of column-wise density estimation TABDDPM_ON_QNSC_200K_CONST_0_001: 0.984 ± 0.303\n",
      "Error rate (%) of pair-wise column correlation score TABDDPM_ON_QNSC_200K_CONST_0_001: 1.499 ± 2.578\n"
     ]
    },
    {
     "data": {
      "text/html": [
       "<iframe\n",
       "    scrolling=\"no\"\n",
       "    width=\"100%\"\n",
       "    height=\"545px\"\n",
       "    src=\"iframe_figures/figure_8.html\"\n",
       "    frameborder=\"0\"\n",
       "    allowfullscreen\n",
       "></iframe>\n"
      ]
     },
     "metadata": {},
     "output_type": "display_data"
    },
    {
     "data": {
      "text/html": [
       "<iframe\n",
       "    scrolling=\"no\"\n",
       "    width=\"920px\"\n",
       "    height=\"920\"\n",
       "    src=\"iframe_figures/figure_8.html\"\n",
       "    frameborder=\"0\"\n",
       "    allowfullscreen\n",
       "></iframe>\n"
      ]
     },
     "metadata": {},
     "output_type": "display_data"
    },
    {
     "name": "stdout",
     "output_type": "stream",
     "text": [
      "DONE! \n",
      "\n",
      "DRAW COLUMN VALUES DISTRIBUTIONS...\n"
     ]
    },
    {
     "data": {
      "text/html": [
       "<iframe\n",
       "    scrolling=\"no\"\n",
       "    width=\"100%\"\n",
       "    height=\"545px\"\n",
       "    src=\"iframe_figures/figure_8.html\"\n",
       "    frameborder=\"0\"\n",
       "    allowfullscreen\n",
       "></iframe>\n"
      ]
     },
     "metadata": {},
     "output_type": "display_data"
    },
    {
     "data": {
      "text/html": [
       "<iframe\n",
       "    scrolling=\"no\"\n",
       "    width=\"100%\"\n",
       "    height=\"545px\"\n",
       "    src=\"iframe_figures/figure_8.html\"\n",
       "    frameborder=\"0\"\n",
       "    allowfullscreen\n",
       "></iframe>\n"
      ]
     },
     "metadata": {},
     "output_type": "display_data"
    },
    {
     "data": {
      "text/html": [
       "<iframe\n",
       "    scrolling=\"no\"\n",
       "    width=\"100%\"\n",
       "    height=\"545px\"\n",
       "    src=\"iframe_figures/figure_8.html\"\n",
       "    frameborder=\"0\"\n",
       "    allowfullscreen\n",
       "></iframe>\n"
      ]
     },
     "metadata": {},
     "output_type": "display_data"
    },
    {
     "data": {
      "text/html": [
       "<iframe\n",
       "    scrolling=\"no\"\n",
       "    width=\"100%\"\n",
       "    height=\"545px\"\n",
       "    src=\"iframe_figures/figure_8.html\"\n",
       "    frameborder=\"0\"\n",
       "    allowfullscreen\n",
       "></iframe>\n"
      ]
     },
     "metadata": {},
     "output_type": "display_data"
    },
    {
     "data": {
      "text/html": [
       "<iframe\n",
       "    scrolling=\"no\"\n",
       "    width=\"100%\"\n",
       "    height=\"545px\"\n",
       "    src=\"iframe_figures/figure_8.html\"\n",
       "    frameborder=\"0\"\n",
       "    allowfullscreen\n",
       "></iframe>\n"
      ]
     },
     "metadata": {},
     "output_type": "display_data"
    },
    {
     "data": {
      "text/html": [
       "<iframe\n",
       "    scrolling=\"no\"\n",
       "    width=\"100%\"\n",
       "    height=\"545px\"\n",
       "    src=\"iframe_figures/figure_8.html\"\n",
       "    frameborder=\"0\"\n",
       "    allowfullscreen\n",
       "></iframe>\n"
      ]
     },
     "metadata": {},
     "output_type": "display_data"
    },
    {
     "data": {
      "text/html": [
       "<iframe\n",
       "    scrolling=\"no\"\n",
       "    width=\"100%\"\n",
       "    height=\"545px\"\n",
       "    src=\"iframe_figures/figure_8.html\"\n",
       "    frameborder=\"0\"\n",
       "    allowfullscreen\n",
       "></iframe>\n"
      ]
     },
     "metadata": {},
     "output_type": "display_data"
    },
    {
     "data": {
      "text/html": [
       "<iframe\n",
       "    scrolling=\"no\"\n",
       "    width=\"100%\"\n",
       "    height=\"545px\"\n",
       "    src=\"iframe_figures/figure_8.html\"\n",
       "    frameborder=\"0\"\n",
       "    allowfullscreen\n",
       "></iframe>\n"
      ]
     },
     "metadata": {},
     "output_type": "display_data"
    },
    {
     "data": {
      "text/html": [
       "<iframe\n",
       "    scrolling=\"no\"\n",
       "    width=\"100%\"\n",
       "    height=\"545px\"\n",
       "    src=\"iframe_figures/figure_8.html\"\n",
       "    frameborder=\"0\"\n",
       "    allowfullscreen\n",
       "></iframe>\n"
      ]
     },
     "metadata": {},
     "output_type": "display_data"
    },
    {
     "data": {
      "text/html": [
       "<iframe\n",
       "    scrolling=\"no\"\n",
       "    width=\"100%\"\n",
       "    height=\"545px\"\n",
       "    src=\"iframe_figures/figure_8.html\"\n",
       "    frameborder=\"0\"\n",
       "    allowfullscreen\n",
       "></iframe>\n"
      ]
     },
     "metadata": {},
     "output_type": "display_data"
    },
    {
     "data": {
      "text/html": [
       "<iframe\n",
       "    scrolling=\"no\"\n",
       "    width=\"100%\"\n",
       "    height=\"545px\"\n",
       "    src=\"iframe_figures/figure_8.html\"\n",
       "    frameborder=\"0\"\n",
       "    allowfullscreen\n",
       "></iframe>\n"
      ]
     },
     "metadata": {},
     "output_type": "display_data"
    },
    {
     "name": "stdout",
     "output_type": "stream",
     "text": [
      "DONE!\n"
     ]
    },
    {
     "name": "stderr",
     "output_type": "stream",
     "text": [
      "100%|██████████| 36/36 [00:07<00:00,  4.61it/s]\n"
     ]
    },
    {
     "name": "stdout",
     "output_type": "stream",
     "text": [
      "Saving scores to  eval/mle/magic_ON_QnSC_200k/tabddpm_ON_QnSC_200k_const_0_001.json\n",
      "ROC - AUC обучения на синтетических данных TABDDPM_ON_QNSC_200K_CONST_0_001: 0.952 ± 0.007\n",
      "magic_ON_QnSC_200k, tabddpm_ON_QnSC_200k_const_0_001: 0.9872085174279666\n",
      "n_clusters: 25\n",
      "DCR Score, a value closer to 0.5 is better\n",
      "magic_ON_QnSC_200k-tabddpm_ON_QnSC_200k_const_0_001, DCR Score = 0.5550297932001402\n",
      "=========== All Features ===========\n",
      "Data shape:  (17118, 12)\n",
      "alpha precision: 0.977805, beta recall: 0.631978\n",
      "./models/tabddpm_ON_QnSC/ckpt/magic/tabddpm_ON_QnSC_200k_const_0_01 tabddpm_ON_QnSC_200k_const_0_01 ./synthetic/magic_ON_QnSC_200k/tabddpm_ON_QnSC_200k_const_0_01.csv\n",
      "No NaNs in numerical features, skipping\n",
      "mlp\n",
      "Sample timestep    0\n",
      "Sample timestep    0\n",
      "Shape torch.Size([17118, 11])\n",
      "Sampling time: 96.14134788513184\n",
      "Sample path changed to ./synthetic/magic_ON_QnSC_200k/initial_tabddpm_ON_QnSC_200k_const_0_01.csv\n",
      "TABDDPM_ON_QNSC_200K_CONST_0_01: MAGIC_ON_QNSC_200K Dataset\n",
      "Original Logistic: 0.833\n",
      "Synthetic Logistic: 0.830\n",
      "Original Tree: 0.872\n",
      "Synthetic Tree: 0.860 \n",
      "\n",
      "TABDDPM_ON_QNSC_200K_CONST_0_01 Accuracy Loss: MAGIC_ON_QNSC_200K\n",
      "Logistic: 0.344%\n",
      "Tree: 1.401% \n",
      "\n",
      "CALCULATING COLUMN-WISE DENSITY ESTIMATION & PAIR-WISE COLUMN CORRELATION...\n",
      "Generating report ...\n",
      "\n",
      "(1/2) Evaluating Column Shapes: |██████████| 11/11 [00:00<00:00, 96.95it/s]|\n",
      "Column Shapes Score: 98.83%\n",
      "\n",
      "(2/2) Evaluating Column Pair Trends: |██████████| 55/55 [00:00<00:00, 61.87it/s]|\n",
      "Column Pair Trends Score: 97.21%\n",
      "\n",
      "Overall Score (Average): 98.02%\n",
      "\n",
      "Error rate (%) of column-wise density estimation TABDDPM_ON_QNSC_200K_CONST_0_01: 1.166 ± 0.368\n",
      "Error rate (%) of pair-wise column correlation score TABDDPM_ON_QNSC_200K_CONST_0_01: 2.793 ± 8.174\n"
     ]
    },
    {
     "data": {
      "text/html": [
       "<iframe\n",
       "    scrolling=\"no\"\n",
       "    width=\"100%\"\n",
       "    height=\"545px\"\n",
       "    src=\"iframe_figures/figure_8.html\"\n",
       "    frameborder=\"0\"\n",
       "    allowfullscreen\n",
       "></iframe>\n"
      ]
     },
     "metadata": {},
     "output_type": "display_data"
    },
    {
     "data": {
      "text/html": [
       "<iframe\n",
       "    scrolling=\"no\"\n",
       "    width=\"920px\"\n",
       "    height=\"920\"\n",
       "    src=\"iframe_figures/figure_8.html\"\n",
       "    frameborder=\"0\"\n",
       "    allowfullscreen\n",
       "></iframe>\n"
      ]
     },
     "metadata": {},
     "output_type": "display_data"
    },
    {
     "name": "stdout",
     "output_type": "stream",
     "text": [
      "DONE! \n",
      "\n",
      "DRAW COLUMN VALUES DISTRIBUTIONS...\n"
     ]
    },
    {
     "data": {
      "text/html": [
       "<iframe\n",
       "    scrolling=\"no\"\n",
       "    width=\"100%\"\n",
       "    height=\"545px\"\n",
       "    src=\"iframe_figures/figure_8.html\"\n",
       "    frameborder=\"0\"\n",
       "    allowfullscreen\n",
       "></iframe>\n"
      ]
     },
     "metadata": {},
     "output_type": "display_data"
    },
    {
     "data": {
      "text/html": [
       "<iframe\n",
       "    scrolling=\"no\"\n",
       "    width=\"100%\"\n",
       "    height=\"545px\"\n",
       "    src=\"iframe_figures/figure_8.html\"\n",
       "    frameborder=\"0\"\n",
       "    allowfullscreen\n",
       "></iframe>\n"
      ]
     },
     "metadata": {},
     "output_type": "display_data"
    },
    {
     "data": {
      "text/html": [
       "<iframe\n",
       "    scrolling=\"no\"\n",
       "    width=\"100%\"\n",
       "    height=\"545px\"\n",
       "    src=\"iframe_figures/figure_8.html\"\n",
       "    frameborder=\"0\"\n",
       "    allowfullscreen\n",
       "></iframe>\n"
      ]
     },
     "metadata": {},
     "output_type": "display_data"
    },
    {
     "data": {
      "text/html": [
       "<iframe\n",
       "    scrolling=\"no\"\n",
       "    width=\"100%\"\n",
       "    height=\"545px\"\n",
       "    src=\"iframe_figures/figure_8.html\"\n",
       "    frameborder=\"0\"\n",
       "    allowfullscreen\n",
       "></iframe>\n"
      ]
     },
     "metadata": {},
     "output_type": "display_data"
    },
    {
     "data": {
      "text/html": [
       "<iframe\n",
       "    scrolling=\"no\"\n",
       "    width=\"100%\"\n",
       "    height=\"545px\"\n",
       "    src=\"iframe_figures/figure_8.html\"\n",
       "    frameborder=\"0\"\n",
       "    allowfullscreen\n",
       "></iframe>\n"
      ]
     },
     "metadata": {},
     "output_type": "display_data"
    },
    {
     "data": {
      "text/html": [
       "<iframe\n",
       "    scrolling=\"no\"\n",
       "    width=\"100%\"\n",
       "    height=\"545px\"\n",
       "    src=\"iframe_figures/figure_8.html\"\n",
       "    frameborder=\"0\"\n",
       "    allowfullscreen\n",
       "></iframe>\n"
      ]
     },
     "metadata": {},
     "output_type": "display_data"
    },
    {
     "data": {
      "text/html": [
       "<iframe\n",
       "    scrolling=\"no\"\n",
       "    width=\"100%\"\n",
       "    height=\"545px\"\n",
       "    src=\"iframe_figures/figure_8.html\"\n",
       "    frameborder=\"0\"\n",
       "    allowfullscreen\n",
       "></iframe>\n"
      ]
     },
     "metadata": {},
     "output_type": "display_data"
    },
    {
     "data": {
      "text/html": [
       "<iframe\n",
       "    scrolling=\"no\"\n",
       "    width=\"100%\"\n",
       "    height=\"545px\"\n",
       "    src=\"iframe_figures/figure_8.html\"\n",
       "    frameborder=\"0\"\n",
       "    allowfullscreen\n",
       "></iframe>\n"
      ]
     },
     "metadata": {},
     "output_type": "display_data"
    },
    {
     "data": {
      "text/html": [
       "<iframe\n",
       "    scrolling=\"no\"\n",
       "    width=\"100%\"\n",
       "    height=\"545px\"\n",
       "    src=\"iframe_figures/figure_8.html\"\n",
       "    frameborder=\"0\"\n",
       "    allowfullscreen\n",
       "></iframe>\n"
      ]
     },
     "metadata": {},
     "output_type": "display_data"
    },
    {
     "data": {
      "text/html": [
       "<iframe\n",
       "    scrolling=\"no\"\n",
       "    width=\"100%\"\n",
       "    height=\"545px\"\n",
       "    src=\"iframe_figures/figure_8.html\"\n",
       "    frameborder=\"0\"\n",
       "    allowfullscreen\n",
       "></iframe>\n"
      ]
     },
     "metadata": {},
     "output_type": "display_data"
    },
    {
     "data": {
      "text/html": [
       "<iframe\n",
       "    scrolling=\"no\"\n",
       "    width=\"100%\"\n",
       "    height=\"545px\"\n",
       "    src=\"iframe_figures/figure_8.html\"\n",
       "    frameborder=\"0\"\n",
       "    allowfullscreen\n",
       "></iframe>\n"
      ]
     },
     "metadata": {},
     "output_type": "display_data"
    },
    {
     "name": "stdout",
     "output_type": "stream",
     "text": [
      "DONE!\n"
     ]
    },
    {
     "name": "stderr",
     "output_type": "stream",
     "text": [
      "100%|██████████| 36/36 [00:07<00:00,  4.70it/s]\n"
     ]
    },
    {
     "name": "stdout",
     "output_type": "stream",
     "text": [
      "Saving scores to  eval/mle/magic_ON_QnSC_200k/tabddpm_ON_QnSC_200k_const_0_01.json\n",
      "ROC - AUC обучения на синтетических данных TABDDPM_ON_QNSC_200K_CONST_0_01: 0.949 ± 0.009\n",
      "magic_ON_QnSC_200k, tabddpm_ON_QnSC_200k_const_0_01: 0.9759170250069752\n",
      "n_clusters: 25\n",
      "DCR Score, a value closer to 0.5 is better\n",
      "magic_ON_QnSC_200k-tabddpm_ON_QnSC_200k_const_0_01, DCR Score = 0.5571912606612922\n",
      "=========== All Features ===========\n",
      "Data shape:  (17118, 12)\n",
      "alpha precision: 0.979495, beta recall: 0.649387\n",
      "./models/tabddpm_ON_QnSC/ckpt/magic/tabddpm_ON_QnSC_200k_const_0_1 tabddpm_ON_QnSC_200k_const_0_1 ./synthetic/magic_ON_QnSC_200k/tabddpm_ON_QnSC_200k_const_0_1.csv\n",
      "No NaNs in numerical features, skipping\n",
      "mlp\n",
      "Sample timestep    0\n",
      "Sample timestep    0\n",
      "Shape torch.Size([17118, 11])\n",
      "Sampling time: 96.28126430511475\n",
      "Sample path changed to ./synthetic/magic_ON_QnSC_200k/initial_tabddpm_ON_QnSC_200k_const_0_1.csv\n",
      "TABDDPM_ON_QNSC_200K_CONST_0_1: MAGIC_ON_QNSC_200K Dataset\n",
      "Original Logistic: 0.833\n",
      "Synthetic Logistic: 0.831\n",
      "Original Tree: 0.872\n",
      "Synthetic Tree: 0.872 \n",
      "\n",
      "TABDDPM_ON_QNSC_200K_CONST_0_1 Accuracy Loss: MAGIC_ON_QNSC_200K\n",
      "Logistic: 0.192%\n",
      "Tree: 0.026% \n",
      "\n",
      "CALCULATING COLUMN-WISE DENSITY ESTIMATION & PAIR-WISE COLUMN CORRELATION...\n",
      "Generating report ...\n",
      "\n",
      "(1/2) Evaluating Column Shapes: |██████████| 11/11 [00:00<00:00, 105.77it/s]|\n",
      "Column Shapes Score: 99.18%\n",
      "\n",
      "(2/2) Evaluating Column Pair Trends: |██████████| 55/55 [00:00<00:00, 78.95it/s]|\n",
      "Column Pair Trends Score: 98.69%\n",
      "\n",
      "Overall Score (Average): 98.93%\n",
      "\n",
      "Error rate (%) of column-wise density estimation TABDDPM_ON_QNSC_200K_CONST_0_1: 0.823 ± 0.289\n",
      "Error rate (%) of pair-wise column correlation score TABDDPM_ON_QNSC_200K_CONST_0_1: 1.311 ± 2.606\n"
     ]
    },
    {
     "data": {
      "text/html": [
       "<iframe\n",
       "    scrolling=\"no\"\n",
       "    width=\"100%\"\n",
       "    height=\"545px\"\n",
       "    src=\"iframe_figures/figure_8.html\"\n",
       "    frameborder=\"0\"\n",
       "    allowfullscreen\n",
       "></iframe>\n"
      ]
     },
     "metadata": {},
     "output_type": "display_data"
    },
    {
     "data": {
      "text/html": [
       "<iframe\n",
       "    scrolling=\"no\"\n",
       "    width=\"920px\"\n",
       "    height=\"920\"\n",
       "    src=\"iframe_figures/figure_8.html\"\n",
       "    frameborder=\"0\"\n",
       "    allowfullscreen\n",
       "></iframe>\n"
      ]
     },
     "metadata": {},
     "output_type": "display_data"
    },
    {
     "name": "stdout",
     "output_type": "stream",
     "text": [
      "DONE! \n",
      "\n",
      "DRAW COLUMN VALUES DISTRIBUTIONS...\n"
     ]
    },
    {
     "data": {
      "text/html": [
       "<iframe\n",
       "    scrolling=\"no\"\n",
       "    width=\"100%\"\n",
       "    height=\"545px\"\n",
       "    src=\"iframe_figures/figure_8.html\"\n",
       "    frameborder=\"0\"\n",
       "    allowfullscreen\n",
       "></iframe>\n"
      ]
     },
     "metadata": {},
     "output_type": "display_data"
    },
    {
     "data": {
      "text/html": [
       "<iframe\n",
       "    scrolling=\"no\"\n",
       "    width=\"100%\"\n",
       "    height=\"545px\"\n",
       "    src=\"iframe_figures/figure_8.html\"\n",
       "    frameborder=\"0\"\n",
       "    allowfullscreen\n",
       "></iframe>\n"
      ]
     },
     "metadata": {},
     "output_type": "display_data"
    },
    {
     "data": {
      "text/html": [
       "<iframe\n",
       "    scrolling=\"no\"\n",
       "    width=\"100%\"\n",
       "    height=\"545px\"\n",
       "    src=\"iframe_figures/figure_8.html\"\n",
       "    frameborder=\"0\"\n",
       "    allowfullscreen\n",
       "></iframe>\n"
      ]
     },
     "metadata": {},
     "output_type": "display_data"
    },
    {
     "data": {
      "text/html": [
       "<iframe\n",
       "    scrolling=\"no\"\n",
       "    width=\"100%\"\n",
       "    height=\"545px\"\n",
       "    src=\"iframe_figures/figure_8.html\"\n",
       "    frameborder=\"0\"\n",
       "    allowfullscreen\n",
       "></iframe>\n"
      ]
     },
     "metadata": {},
     "output_type": "display_data"
    },
    {
     "data": {
      "text/html": [
       "<iframe\n",
       "    scrolling=\"no\"\n",
       "    width=\"100%\"\n",
       "    height=\"545px\"\n",
       "    src=\"iframe_figures/figure_8.html\"\n",
       "    frameborder=\"0\"\n",
       "    allowfullscreen\n",
       "></iframe>\n"
      ]
     },
     "metadata": {},
     "output_type": "display_data"
    },
    {
     "data": {
      "text/html": [
       "<iframe\n",
       "    scrolling=\"no\"\n",
       "    width=\"100%\"\n",
       "    height=\"545px\"\n",
       "    src=\"iframe_figures/figure_8.html\"\n",
       "    frameborder=\"0\"\n",
       "    allowfullscreen\n",
       "></iframe>\n"
      ]
     },
     "metadata": {},
     "output_type": "display_data"
    },
    {
     "data": {
      "text/html": [
       "<iframe\n",
       "    scrolling=\"no\"\n",
       "    width=\"100%\"\n",
       "    height=\"545px\"\n",
       "    src=\"iframe_figures/figure_8.html\"\n",
       "    frameborder=\"0\"\n",
       "    allowfullscreen\n",
       "></iframe>\n"
      ]
     },
     "metadata": {},
     "output_type": "display_data"
    },
    {
     "data": {
      "text/html": [
       "<iframe\n",
       "    scrolling=\"no\"\n",
       "    width=\"100%\"\n",
       "    height=\"545px\"\n",
       "    src=\"iframe_figures/figure_8.html\"\n",
       "    frameborder=\"0\"\n",
       "    allowfullscreen\n",
       "></iframe>\n"
      ]
     },
     "metadata": {},
     "output_type": "display_data"
    },
    {
     "data": {
      "text/html": [
       "<iframe\n",
       "    scrolling=\"no\"\n",
       "    width=\"100%\"\n",
       "    height=\"545px\"\n",
       "    src=\"iframe_figures/figure_8.html\"\n",
       "    frameborder=\"0\"\n",
       "    allowfullscreen\n",
       "></iframe>\n"
      ]
     },
     "metadata": {},
     "output_type": "display_data"
    },
    {
     "data": {
      "text/html": [
       "<iframe\n",
       "    scrolling=\"no\"\n",
       "    width=\"100%\"\n",
       "    height=\"545px\"\n",
       "    src=\"iframe_figures/figure_8.html\"\n",
       "    frameborder=\"0\"\n",
       "    allowfullscreen\n",
       "></iframe>\n"
      ]
     },
     "metadata": {},
     "output_type": "display_data"
    },
    {
     "data": {
      "text/html": [
       "<iframe\n",
       "    scrolling=\"no\"\n",
       "    width=\"100%\"\n",
       "    height=\"545px\"\n",
       "    src=\"iframe_figures/figure_8.html\"\n",
       "    frameborder=\"0\"\n",
       "    allowfullscreen\n",
       "></iframe>\n"
      ]
     },
     "metadata": {},
     "output_type": "display_data"
    },
    {
     "name": "stdout",
     "output_type": "stream",
     "text": [
      "DONE!\n"
     ]
    },
    {
     "name": "stderr",
     "output_type": "stream",
     "text": [
      "100%|██████████| 36/36 [00:07<00:00,  4.63it/s]\n"
     ]
    },
    {
     "name": "stdout",
     "output_type": "stream",
     "text": [
      "Saving scores to  eval/mle/magic_ON_QnSC_200k/tabddpm_ON_QnSC_200k_const_0_1.json\n",
      "ROC - AUC обучения на синтетических данных TABDDPM_ON_QNSC_200K_CONST_0_1: 0.933 ± 0.005\n",
      "magic_ON_QnSC_200k, tabddpm_ON_QnSC_200k_const_0_1: 0.9950415513406929\n",
      "n_clusters: 25\n",
      "DCR Score, a value closer to 0.5 is better\n",
      "magic_ON_QnSC_200k-tabddpm_ON_QnSC_200k_const_0_1, DCR Score = 0.5384390699848113\n",
      "=========== All Features ===========\n",
      "Data shape:  (17118, 12)\n",
      "alpha precision: 0.994272, beta recall: 0.480188\n",
      "./models/tabddpm_ON_QnSC/ckpt/magic/tabddpm_ON_QnSC_200k_const_0_25 tabddpm_ON_QnSC_200k_const_0_25 ./synthetic/magic_ON_QnSC_200k/tabddpm_ON_QnSC_200k_const_0_25.csv\n",
      "No NaNs in numerical features, skipping\n",
      "mlp\n",
      "Sample timestep    0\n",
      "Sample timestep    0\n",
      "Shape torch.Size([17118, 11])\n",
      "Sampling time: 96.2740638256073\n",
      "Sample path changed to ./synthetic/magic_ON_QnSC_200k/initial_tabddpm_ON_QnSC_200k_const_0_25.csv\n",
      "TABDDPM_ON_QNSC_200K_CONST_0_25: MAGIC_ON_QNSC_200K Dataset\n",
      "Original Logistic: 0.833\n",
      "Synthetic Logistic: 0.832\n",
      "Original Tree: 0.872\n",
      "Synthetic Tree: 0.862 \n",
      "\n",
      "TABDDPM_ON_QNSC_200K_CONST_0_25 Accuracy Loss: MAGIC_ON_QNSC_200K\n",
      "Logistic: 0.148%\n",
      "Tree: 1.139% \n",
      "\n",
      "CALCULATING COLUMN-WISE DENSITY ESTIMATION & PAIR-WISE COLUMN CORRELATION...\n",
      "Generating report ...\n",
      "\n",
      "(1/2) Evaluating Column Shapes: |██████████| 11/11 [00:00<00:00, 110.42it/s]|\n",
      "Column Shapes Score: 98.84%\n",
      "\n",
      "(2/2) Evaluating Column Pair Trends: |██████████| 55/55 [00:00<00:00, 72.59it/s]|\n",
      "Column Pair Trends Score: 98.53%\n",
      "\n",
      "Overall Score (Average): 98.68%\n",
      "\n",
      "Error rate (%) of column-wise density estimation TABDDPM_ON_QNSC_200K_CONST_0_25: 1.163 ± 0.370\n",
      "Error rate (%) of pair-wise column correlation score TABDDPM_ON_QNSC_200K_CONST_0_25: 1.475 ± 1.693\n"
     ]
    },
    {
     "data": {
      "text/html": [
       "<iframe\n",
       "    scrolling=\"no\"\n",
       "    width=\"100%\"\n",
       "    height=\"545px\"\n",
       "    src=\"iframe_figures/figure_8.html\"\n",
       "    frameborder=\"0\"\n",
       "    allowfullscreen\n",
       "></iframe>\n"
      ]
     },
     "metadata": {},
     "output_type": "display_data"
    },
    {
     "data": {
      "text/html": [
       "<iframe\n",
       "    scrolling=\"no\"\n",
       "    width=\"920px\"\n",
       "    height=\"920\"\n",
       "    src=\"iframe_figures/figure_8.html\"\n",
       "    frameborder=\"0\"\n",
       "    allowfullscreen\n",
       "></iframe>\n"
      ]
     },
     "metadata": {},
     "output_type": "display_data"
    },
    {
     "name": "stdout",
     "output_type": "stream",
     "text": [
      "DONE! \n",
      "\n",
      "DRAW COLUMN VALUES DISTRIBUTIONS...\n"
     ]
    },
    {
     "data": {
      "text/html": [
       "<iframe\n",
       "    scrolling=\"no\"\n",
       "    width=\"100%\"\n",
       "    height=\"545px\"\n",
       "    src=\"iframe_figures/figure_8.html\"\n",
       "    frameborder=\"0\"\n",
       "    allowfullscreen\n",
       "></iframe>\n"
      ]
     },
     "metadata": {},
     "output_type": "display_data"
    },
    {
     "data": {
      "text/html": [
       "<iframe\n",
       "    scrolling=\"no\"\n",
       "    width=\"100%\"\n",
       "    height=\"545px\"\n",
       "    src=\"iframe_figures/figure_8.html\"\n",
       "    frameborder=\"0\"\n",
       "    allowfullscreen\n",
       "></iframe>\n"
      ]
     },
     "metadata": {},
     "output_type": "display_data"
    },
    {
     "data": {
      "text/html": [
       "<iframe\n",
       "    scrolling=\"no\"\n",
       "    width=\"100%\"\n",
       "    height=\"545px\"\n",
       "    src=\"iframe_figures/figure_8.html\"\n",
       "    frameborder=\"0\"\n",
       "    allowfullscreen\n",
       "></iframe>\n"
      ]
     },
     "metadata": {},
     "output_type": "display_data"
    },
    {
     "data": {
      "text/html": [
       "<iframe\n",
       "    scrolling=\"no\"\n",
       "    width=\"100%\"\n",
       "    height=\"545px\"\n",
       "    src=\"iframe_figures/figure_8.html\"\n",
       "    frameborder=\"0\"\n",
       "    allowfullscreen\n",
       "></iframe>\n"
      ]
     },
     "metadata": {},
     "output_type": "display_data"
    },
    {
     "data": {
      "text/html": [
       "<iframe\n",
       "    scrolling=\"no\"\n",
       "    width=\"100%\"\n",
       "    height=\"545px\"\n",
       "    src=\"iframe_figures/figure_8.html\"\n",
       "    frameborder=\"0\"\n",
       "    allowfullscreen\n",
       "></iframe>\n"
      ]
     },
     "metadata": {},
     "output_type": "display_data"
    },
    {
     "data": {
      "text/html": [
       "<iframe\n",
       "    scrolling=\"no\"\n",
       "    width=\"100%\"\n",
       "    height=\"545px\"\n",
       "    src=\"iframe_figures/figure_8.html\"\n",
       "    frameborder=\"0\"\n",
       "    allowfullscreen\n",
       "></iframe>\n"
      ]
     },
     "metadata": {},
     "output_type": "display_data"
    },
    {
     "data": {
      "text/html": [
       "<iframe\n",
       "    scrolling=\"no\"\n",
       "    width=\"100%\"\n",
       "    height=\"545px\"\n",
       "    src=\"iframe_figures/figure_8.html\"\n",
       "    frameborder=\"0\"\n",
       "    allowfullscreen\n",
       "></iframe>\n"
      ]
     },
     "metadata": {},
     "output_type": "display_data"
    },
    {
     "data": {
      "text/html": [
       "<iframe\n",
       "    scrolling=\"no\"\n",
       "    width=\"100%\"\n",
       "    height=\"545px\"\n",
       "    src=\"iframe_figures/figure_8.html\"\n",
       "    frameborder=\"0\"\n",
       "    allowfullscreen\n",
       "></iframe>\n"
      ]
     },
     "metadata": {},
     "output_type": "display_data"
    },
    {
     "data": {
      "text/html": [
       "<iframe\n",
       "    scrolling=\"no\"\n",
       "    width=\"100%\"\n",
       "    height=\"545px\"\n",
       "    src=\"iframe_figures/figure_8.html\"\n",
       "    frameborder=\"0\"\n",
       "    allowfullscreen\n",
       "></iframe>\n"
      ]
     },
     "metadata": {},
     "output_type": "display_data"
    },
    {
     "data": {
      "text/html": [
       "<iframe\n",
       "    scrolling=\"no\"\n",
       "    width=\"100%\"\n",
       "    height=\"545px\"\n",
       "    src=\"iframe_figures/figure_8.html\"\n",
       "    frameborder=\"0\"\n",
       "    allowfullscreen\n",
       "></iframe>\n"
      ]
     },
     "metadata": {},
     "output_type": "display_data"
    },
    {
     "data": {
      "text/html": [
       "<iframe\n",
       "    scrolling=\"no\"\n",
       "    width=\"100%\"\n",
       "    height=\"545px\"\n",
       "    src=\"iframe_figures/figure_8.html\"\n",
       "    frameborder=\"0\"\n",
       "    allowfullscreen\n",
       "></iframe>\n"
      ]
     },
     "metadata": {},
     "output_type": "display_data"
    },
    {
     "name": "stdout",
     "output_type": "stream",
     "text": [
      "DONE!\n"
     ]
    },
    {
     "name": "stderr",
     "output_type": "stream",
     "text": [
      "100%|██████████| 36/36 [00:08<00:00,  4.48it/s]\n"
     ]
    },
    {
     "name": "stdout",
     "output_type": "stream",
     "text": [
      "Saving scores to  eval/mle/magic_ON_QnSC_200k/tabddpm_ON_QnSC_200k_const_0_25.json\n",
      "ROC - AUC обучения на синтетических данных TABDDPM_ON_QNSC_200K_CONST_0_25: 0.901 ± 0.005\n",
      "magic_ON_QnSC_200k, tabddpm_ON_QnSC_200k_const_0_25: 0.9926574892397575\n",
      "n_clusters: 25\n",
      "DCR Score, a value closer to 0.5 is better\n",
      "magic_ON_QnSC_200k-tabddpm_ON_QnSC_200k_const_0_25, DCR Score = 0.5177590840051408\n",
      "=========== All Features ===========\n",
      "Data shape:  (17118, 12)\n",
      "alpha precision: 0.970191, beta recall: 0.256202\n",
      "./models/tabddpm_ON_QnSC/ckpt/magic/tabddpm_ON_QnSC_200k_const_0_5 tabddpm_ON_QnSC_200k_const_0_5 ./synthetic/magic_ON_QnSC_200k/tabddpm_ON_QnSC_200k_const_0_5.csv\n",
      "No NaNs in numerical features, skipping\n",
      "mlp\n",
      "Sample timestep    0\n",
      "Sample timestep    0\n",
      "Shape torch.Size([17118, 11])\n",
      "Sampling time: 96.08767771720886\n",
      "Sample path changed to ./synthetic/magic_ON_QnSC_200k/initial_tabddpm_ON_QnSC_200k_const_0_5.csv\n",
      "TABDDPM_ON_QNSC_200K_CONST_0_5: MAGIC_ON_QNSC_200K Dataset\n",
      "Original Logistic: 0.833\n",
      "Synthetic Logistic: 0.835\n",
      "Original Tree: 0.872\n",
      "Synthetic Tree: 0.843 \n",
      "\n",
      "TABDDPM_ON_QNSC_200K_CONST_0_5 Accuracy Loss: MAGIC_ON_QNSC_200K\n",
      "Logistic: -0.253%\n",
      "Tree: 3.300% \n",
      "\n",
      "CALCULATING COLUMN-WISE DENSITY ESTIMATION & PAIR-WISE COLUMN CORRELATION...\n",
      "Generating report ...\n",
      "\n",
      "(1/2) Evaluating Column Shapes: |██████████| 11/11 [00:00<00:00, 44.57it/s]|\n",
      "Column Shapes Score: 97.15%\n",
      "\n",
      "(2/2) Evaluating Column Pair Trends: |██████████| 55/55 [00:00<00:00, 78.24it/s]|\n",
      "Column Pair Trends Score: 96.35%\n",
      "\n",
      "Overall Score (Average): 96.75%\n",
      "\n",
      "Error rate (%) of column-wise density estimation TABDDPM_ON_QNSC_200K_CONST_0_5: 2.854 ± 0.865\n",
      "Error rate (%) of pair-wise column correlation score TABDDPM_ON_QNSC_200K_CONST_0_5: 3.653 ± 2.625\n"
     ]
    },
    {
     "data": {
      "text/html": [
       "<iframe\n",
       "    scrolling=\"no\"\n",
       "    width=\"100%\"\n",
       "    height=\"545px\"\n",
       "    src=\"iframe_figures/figure_8.html\"\n",
       "    frameborder=\"0\"\n",
       "    allowfullscreen\n",
       "></iframe>\n"
      ]
     },
     "metadata": {},
     "output_type": "display_data"
    },
    {
     "data": {
      "text/html": [
       "<iframe\n",
       "    scrolling=\"no\"\n",
       "    width=\"920px\"\n",
       "    height=\"920\"\n",
       "    src=\"iframe_figures/figure_8.html\"\n",
       "    frameborder=\"0\"\n",
       "    allowfullscreen\n",
       "></iframe>\n"
      ]
     },
     "metadata": {},
     "output_type": "display_data"
    },
    {
     "name": "stdout",
     "output_type": "stream",
     "text": [
      "DONE! \n",
      "\n",
      "DRAW COLUMN VALUES DISTRIBUTIONS...\n"
     ]
    },
    {
     "data": {
      "text/html": [
       "<iframe\n",
       "    scrolling=\"no\"\n",
       "    width=\"100%\"\n",
       "    height=\"545px\"\n",
       "    src=\"iframe_figures/figure_8.html\"\n",
       "    frameborder=\"0\"\n",
       "    allowfullscreen\n",
       "></iframe>\n"
      ]
     },
     "metadata": {},
     "output_type": "display_data"
    },
    {
     "data": {
      "text/html": [
       "<iframe\n",
       "    scrolling=\"no\"\n",
       "    width=\"100%\"\n",
       "    height=\"545px\"\n",
       "    src=\"iframe_figures/figure_8.html\"\n",
       "    frameborder=\"0\"\n",
       "    allowfullscreen\n",
       "></iframe>\n"
      ]
     },
     "metadata": {},
     "output_type": "display_data"
    },
    {
     "data": {
      "text/html": [
       "<iframe\n",
       "    scrolling=\"no\"\n",
       "    width=\"100%\"\n",
       "    height=\"545px\"\n",
       "    src=\"iframe_figures/figure_8.html\"\n",
       "    frameborder=\"0\"\n",
       "    allowfullscreen\n",
       "></iframe>\n"
      ]
     },
     "metadata": {},
     "output_type": "display_data"
    },
    {
     "data": {
      "text/html": [
       "<iframe\n",
       "    scrolling=\"no\"\n",
       "    width=\"100%\"\n",
       "    height=\"545px\"\n",
       "    src=\"iframe_figures/figure_8.html\"\n",
       "    frameborder=\"0\"\n",
       "    allowfullscreen\n",
       "></iframe>\n"
      ]
     },
     "metadata": {},
     "output_type": "display_data"
    },
    {
     "data": {
      "text/html": [
       "<iframe\n",
       "    scrolling=\"no\"\n",
       "    width=\"100%\"\n",
       "    height=\"545px\"\n",
       "    src=\"iframe_figures/figure_8.html\"\n",
       "    frameborder=\"0\"\n",
       "    allowfullscreen\n",
       "></iframe>\n"
      ]
     },
     "metadata": {},
     "output_type": "display_data"
    },
    {
     "data": {
      "text/html": [
       "<iframe\n",
       "    scrolling=\"no\"\n",
       "    width=\"100%\"\n",
       "    height=\"545px\"\n",
       "    src=\"iframe_figures/figure_8.html\"\n",
       "    frameborder=\"0\"\n",
       "    allowfullscreen\n",
       "></iframe>\n"
      ]
     },
     "metadata": {},
     "output_type": "display_data"
    },
    {
     "data": {
      "text/html": [
       "<iframe\n",
       "    scrolling=\"no\"\n",
       "    width=\"100%\"\n",
       "    height=\"545px\"\n",
       "    src=\"iframe_figures/figure_8.html\"\n",
       "    frameborder=\"0\"\n",
       "    allowfullscreen\n",
       "></iframe>\n"
      ]
     },
     "metadata": {},
     "output_type": "display_data"
    },
    {
     "data": {
      "text/html": [
       "<iframe\n",
       "    scrolling=\"no\"\n",
       "    width=\"100%\"\n",
       "    height=\"545px\"\n",
       "    src=\"iframe_figures/figure_8.html\"\n",
       "    frameborder=\"0\"\n",
       "    allowfullscreen\n",
       "></iframe>\n"
      ]
     },
     "metadata": {},
     "output_type": "display_data"
    },
    {
     "data": {
      "text/html": [
       "<iframe\n",
       "    scrolling=\"no\"\n",
       "    width=\"100%\"\n",
       "    height=\"545px\"\n",
       "    src=\"iframe_figures/figure_8.html\"\n",
       "    frameborder=\"0\"\n",
       "    allowfullscreen\n",
       "></iframe>\n"
      ]
     },
     "metadata": {},
     "output_type": "display_data"
    },
    {
     "data": {
      "text/html": [
       "<iframe\n",
       "    scrolling=\"no\"\n",
       "    width=\"100%\"\n",
       "    height=\"545px\"\n",
       "    src=\"iframe_figures/figure_8.html\"\n",
       "    frameborder=\"0\"\n",
       "    allowfullscreen\n",
       "></iframe>\n"
      ]
     },
     "metadata": {},
     "output_type": "display_data"
    },
    {
     "data": {
      "text/html": [
       "<iframe\n",
       "    scrolling=\"no\"\n",
       "    width=\"100%\"\n",
       "    height=\"545px\"\n",
       "    src=\"iframe_figures/figure_8.html\"\n",
       "    frameborder=\"0\"\n",
       "    allowfullscreen\n",
       "></iframe>\n"
      ]
     },
     "metadata": {},
     "output_type": "display_data"
    },
    {
     "name": "stdout",
     "output_type": "stream",
     "text": [
      "DONE!\n"
     ]
    },
    {
     "name": "stderr",
     "output_type": "stream",
     "text": [
      "100%|██████████| 36/36 [00:08<00:00,  4.33it/s]\n"
     ]
    },
    {
     "name": "stdout",
     "output_type": "stream",
     "text": [
      "Saving scores to  eval/mle/magic_ON_QnSC_200k/tabddpm_ON_QnSC_200k_const_0_5.json\n",
      "ROC - AUC обучения на синтетических данных TABDDPM_ON_QNSC_200K_CONST_0_5: 0.819 ± 0.007\n",
      "magic_ON_QnSC_200k, tabddpm_ON_QnSC_200k_const_0_5: 0.9281970423886454\n",
      "n_clusters: 25\n",
      "DCR Score, a value closer to 0.5 is better\n",
      "magic_ON_QnSC_200k-tabddpm_ON_QnSC_200k_const_0_5, DCR Score = 0.49935740156560343\n",
      "=========== All Features ===========\n",
      "Data shape:  (17118, 12)\n",
      "alpha precision: 0.883351, beta recall: 0.082591\n",
      "./models/tabddpm_ON_QnSC/ckpt/magic/tabddpm_ON_QnSC_200k_mult_0 tabddpm_ON_QnSC_200k_mult_0 ./synthetic/magic_ON_QnSC_200k/tabddpm_ON_QnSC_200k_mult_0.csv\n",
      "No NaNs in numerical features, skipping\n",
      "mlp\n",
      "Sample timestep    0\n",
      "Sample timestep    0\n",
      "Shape torch.Size([17118, 11])\n",
      "Sampling time: 96.09641718864441\n",
      "Sample path changed to ./synthetic/magic_ON_QnSC_200k/initial_tabddpm_ON_QnSC_200k_mult_0.csv\n",
      "TABDDPM_ON_QNSC_200K_MULT_0: MAGIC_ON_QNSC_200K Dataset\n",
      "Original Logistic: 0.833\n",
      "Synthetic Logistic: 0.833\n",
      "Original Tree: 0.872\n",
      "Synthetic Tree: 0.861 \n",
      "\n",
      "TABDDPM_ON_QNSC_200K_MULT_0 Accuracy Loss: MAGIC_ON_QNSC_200K\n",
      "Logistic: -0.008%\n",
      "Tree: 1.321% \n",
      "\n",
      "CALCULATING COLUMN-WISE DENSITY ESTIMATION & PAIR-WISE COLUMN CORRELATION...\n",
      "Generating report ...\n",
      "\n",
      "(1/2) Evaluating Column Shapes: |██████████| 11/11 [00:00<00:00, 115.72it/s]|\n",
      "Column Shapes Score: 99.12%\n",
      "\n",
      "(2/2) Evaluating Column Pair Trends: |██████████| 55/55 [00:00<00:00, 77.16it/s]|\n",
      "Column Pair Trends Score: 98.55%\n",
      "\n",
      "Overall Score (Average): 98.83%\n",
      "\n",
      "Error rate (%) of column-wise density estimation TABDDPM_ON_QNSC_200K_MULT_0: 0.884 ± 0.313\n",
      "Error rate (%) of pair-wise column correlation score TABDDPM_ON_QNSC_200K_MULT_0: 1.455 ± 4.693\n"
     ]
    },
    {
     "data": {
      "text/html": [
       "<iframe\n",
       "    scrolling=\"no\"\n",
       "    width=\"100%\"\n",
       "    height=\"545px\"\n",
       "    src=\"iframe_figures/figure_8.html\"\n",
       "    frameborder=\"0\"\n",
       "    allowfullscreen\n",
       "></iframe>\n"
      ]
     },
     "metadata": {},
     "output_type": "display_data"
    },
    {
     "data": {
      "text/html": [
       "<iframe\n",
       "    scrolling=\"no\"\n",
       "    width=\"920px\"\n",
       "    height=\"920\"\n",
       "    src=\"iframe_figures/figure_8.html\"\n",
       "    frameborder=\"0\"\n",
       "    allowfullscreen\n",
       "></iframe>\n"
      ]
     },
     "metadata": {},
     "output_type": "display_data"
    },
    {
     "name": "stdout",
     "output_type": "stream",
     "text": [
      "DONE! \n",
      "\n",
      "DRAW COLUMN VALUES DISTRIBUTIONS...\n"
     ]
    },
    {
     "data": {
      "text/html": [
       "<iframe\n",
       "    scrolling=\"no\"\n",
       "    width=\"100%\"\n",
       "    height=\"545px\"\n",
       "    src=\"iframe_figures/figure_8.html\"\n",
       "    frameborder=\"0\"\n",
       "    allowfullscreen\n",
       "></iframe>\n"
      ]
     },
     "metadata": {},
     "output_type": "display_data"
    },
    {
     "data": {
      "text/html": [
       "<iframe\n",
       "    scrolling=\"no\"\n",
       "    width=\"100%\"\n",
       "    height=\"545px\"\n",
       "    src=\"iframe_figures/figure_8.html\"\n",
       "    frameborder=\"0\"\n",
       "    allowfullscreen\n",
       "></iframe>\n"
      ]
     },
     "metadata": {},
     "output_type": "display_data"
    },
    {
     "data": {
      "text/html": [
       "<iframe\n",
       "    scrolling=\"no\"\n",
       "    width=\"100%\"\n",
       "    height=\"545px\"\n",
       "    src=\"iframe_figures/figure_8.html\"\n",
       "    frameborder=\"0\"\n",
       "    allowfullscreen\n",
       "></iframe>\n"
      ]
     },
     "metadata": {},
     "output_type": "display_data"
    },
    {
     "data": {
      "text/html": [
       "<iframe\n",
       "    scrolling=\"no\"\n",
       "    width=\"100%\"\n",
       "    height=\"545px\"\n",
       "    src=\"iframe_figures/figure_8.html\"\n",
       "    frameborder=\"0\"\n",
       "    allowfullscreen\n",
       "></iframe>\n"
      ]
     },
     "metadata": {},
     "output_type": "display_data"
    },
    {
     "data": {
      "text/html": [
       "<iframe\n",
       "    scrolling=\"no\"\n",
       "    width=\"100%\"\n",
       "    height=\"545px\"\n",
       "    src=\"iframe_figures/figure_8.html\"\n",
       "    frameborder=\"0\"\n",
       "    allowfullscreen\n",
       "></iframe>\n"
      ]
     },
     "metadata": {},
     "output_type": "display_data"
    },
    {
     "data": {
      "text/html": [
       "<iframe\n",
       "    scrolling=\"no\"\n",
       "    width=\"100%\"\n",
       "    height=\"545px\"\n",
       "    src=\"iframe_figures/figure_8.html\"\n",
       "    frameborder=\"0\"\n",
       "    allowfullscreen\n",
       "></iframe>\n"
      ]
     },
     "metadata": {},
     "output_type": "display_data"
    },
    {
     "data": {
      "text/html": [
       "<iframe\n",
       "    scrolling=\"no\"\n",
       "    width=\"100%\"\n",
       "    height=\"545px\"\n",
       "    src=\"iframe_figures/figure_8.html\"\n",
       "    frameborder=\"0\"\n",
       "    allowfullscreen\n",
       "></iframe>\n"
      ]
     },
     "metadata": {},
     "output_type": "display_data"
    },
    {
     "data": {
      "text/html": [
       "<iframe\n",
       "    scrolling=\"no\"\n",
       "    width=\"100%\"\n",
       "    height=\"545px\"\n",
       "    src=\"iframe_figures/figure_8.html\"\n",
       "    frameborder=\"0\"\n",
       "    allowfullscreen\n",
       "></iframe>\n"
      ]
     },
     "metadata": {},
     "output_type": "display_data"
    },
    {
     "data": {
      "text/html": [
       "<iframe\n",
       "    scrolling=\"no\"\n",
       "    width=\"100%\"\n",
       "    height=\"545px\"\n",
       "    src=\"iframe_figures/figure_8.html\"\n",
       "    frameborder=\"0\"\n",
       "    allowfullscreen\n",
       "></iframe>\n"
      ]
     },
     "metadata": {},
     "output_type": "display_data"
    },
    {
     "data": {
      "text/html": [
       "<iframe\n",
       "    scrolling=\"no\"\n",
       "    width=\"100%\"\n",
       "    height=\"545px\"\n",
       "    src=\"iframe_figures/figure_8.html\"\n",
       "    frameborder=\"0\"\n",
       "    allowfullscreen\n",
       "></iframe>\n"
      ]
     },
     "metadata": {},
     "output_type": "display_data"
    },
    {
     "data": {
      "text/html": [
       "<iframe\n",
       "    scrolling=\"no\"\n",
       "    width=\"100%\"\n",
       "    height=\"545px\"\n",
       "    src=\"iframe_figures/figure_8.html\"\n",
       "    frameborder=\"0\"\n",
       "    allowfullscreen\n",
       "></iframe>\n"
      ]
     },
     "metadata": {},
     "output_type": "display_data"
    },
    {
     "name": "stdout",
     "output_type": "stream",
     "text": [
      "DONE!\n"
     ]
    },
    {
     "name": "stderr",
     "output_type": "stream",
     "text": [
      "100%|██████████| 36/36 [00:07<00:00,  4.62it/s]\n"
     ]
    },
    {
     "name": "stdout",
     "output_type": "stream",
     "text": [
      "Saving scores to  eval/mle/magic_ON_QnSC_200k/tabddpm_ON_QnSC_200k_mult_0.json\n",
      "ROC - AUC обучения на синтетических данных TABDDPM_ON_QNSC_200K_MULT_0: 0.924 ± 0.004\n",
      "magic_ON_QnSC_200k, tabddpm_ON_QnSC_200k_mult_0: 0.998601837016987\n",
      "n_clusters: 25\n",
      "DCR Score, a value closer to 0.5 is better\n",
      "magic_ON_QnSC_200k-tabddpm_ON_QnSC_200k_mult_0, DCR Score = 0.5133193130038556\n",
      "=========== All Features ===========\n",
      "Data shape:  (17118, 12)\n",
      "alpha precision: 0.989263, beta recall: 0.498769\n",
      "./models/tabddpm_ON_QnSC/ckpt/magic/tabddpm_ON_QnSC_200k_mult_1 tabddpm_ON_QnSC_200k_mult_1 ./synthetic/magic_ON_QnSC_200k/tabddpm_ON_QnSC_200k_mult_1.csv\n",
      "No NaNs in numerical features, skipping\n",
      "mlp\n",
      "Sample timestep    0\n",
      "Sample timestep    0\n",
      "Shape torch.Size([17118, 11])\n",
      "Sampling time: 96.02376222610474\n",
      "Sample path changed to ./synthetic/magic_ON_QnSC_200k/initial_tabddpm_ON_QnSC_200k_mult_1.csv\n",
      "TABDDPM_ON_QNSC_200K_MULT_1: MAGIC_ON_QNSC_200K Dataset\n",
      "Original Logistic: 0.833\n",
      "Synthetic Logistic: 0.830\n",
      "Original Tree: 0.872\n",
      "Synthetic Tree: 0.863 \n",
      "\n",
      "TABDDPM_ON_QNSC_200K_MULT_1 Accuracy Loss: MAGIC_ON_QNSC_200K\n",
      "Logistic: 0.350%\n",
      "Tree: 1.052% \n",
      "\n",
      "CALCULATING COLUMN-WISE DENSITY ESTIMATION & PAIR-WISE COLUMN CORRELATION...\n",
      "Generating report ...\n",
      "\n",
      "(1/2) Evaluating Column Shapes: |██████████| 11/11 [00:00<00:00, 113.45it/s]|\n",
      "Column Shapes Score: 99.27%\n",
      "\n",
      "(2/2) Evaluating Column Pair Trends: |██████████| 55/55 [00:00<00:00, 80.60it/s]|\n",
      "Column Pair Trends Score: 98.69%\n",
      "\n",
      "Overall Score (Average): 98.98%\n",
      "\n",
      "Error rate (%) of column-wise density estimation TABDDPM_ON_QNSC_200K_MULT_1: 0.725 ± 0.321\n",
      "Error rate (%) of pair-wise column correlation score TABDDPM_ON_QNSC_200K_MULT_1: 1.310 ± 2.535\n"
     ]
    },
    {
     "data": {
      "text/html": [
       "<iframe\n",
       "    scrolling=\"no\"\n",
       "    width=\"100%\"\n",
       "    height=\"545px\"\n",
       "    src=\"iframe_figures/figure_8.html\"\n",
       "    frameborder=\"0\"\n",
       "    allowfullscreen\n",
       "></iframe>\n"
      ]
     },
     "metadata": {},
     "output_type": "display_data"
    },
    {
     "data": {
      "text/html": [
       "<iframe\n",
       "    scrolling=\"no\"\n",
       "    width=\"920px\"\n",
       "    height=\"920\"\n",
       "    src=\"iframe_figures/figure_8.html\"\n",
       "    frameborder=\"0\"\n",
       "    allowfullscreen\n",
       "></iframe>\n"
      ]
     },
     "metadata": {},
     "output_type": "display_data"
    },
    {
     "name": "stdout",
     "output_type": "stream",
     "text": [
      "DONE! \n",
      "\n",
      "DRAW COLUMN VALUES DISTRIBUTIONS...\n"
     ]
    },
    {
     "data": {
      "text/html": [
       "<iframe\n",
       "    scrolling=\"no\"\n",
       "    width=\"100%\"\n",
       "    height=\"545px\"\n",
       "    src=\"iframe_figures/figure_8.html\"\n",
       "    frameborder=\"0\"\n",
       "    allowfullscreen\n",
       "></iframe>\n"
      ]
     },
     "metadata": {},
     "output_type": "display_data"
    },
    {
     "data": {
      "text/html": [
       "<iframe\n",
       "    scrolling=\"no\"\n",
       "    width=\"100%\"\n",
       "    height=\"545px\"\n",
       "    src=\"iframe_figures/figure_8.html\"\n",
       "    frameborder=\"0\"\n",
       "    allowfullscreen\n",
       "></iframe>\n"
      ]
     },
     "metadata": {},
     "output_type": "display_data"
    },
    {
     "data": {
      "text/html": [
       "<iframe\n",
       "    scrolling=\"no\"\n",
       "    width=\"100%\"\n",
       "    height=\"545px\"\n",
       "    src=\"iframe_figures/figure_8.html\"\n",
       "    frameborder=\"0\"\n",
       "    allowfullscreen\n",
       "></iframe>\n"
      ]
     },
     "metadata": {},
     "output_type": "display_data"
    },
    {
     "data": {
      "text/html": [
       "<iframe\n",
       "    scrolling=\"no\"\n",
       "    width=\"100%\"\n",
       "    height=\"545px\"\n",
       "    src=\"iframe_figures/figure_8.html\"\n",
       "    frameborder=\"0\"\n",
       "    allowfullscreen\n",
       "></iframe>\n"
      ]
     },
     "metadata": {},
     "output_type": "display_data"
    },
    {
     "data": {
      "text/html": [
       "<iframe\n",
       "    scrolling=\"no\"\n",
       "    width=\"100%\"\n",
       "    height=\"545px\"\n",
       "    src=\"iframe_figures/figure_8.html\"\n",
       "    frameborder=\"0\"\n",
       "    allowfullscreen\n",
       "></iframe>\n"
      ]
     },
     "metadata": {},
     "output_type": "display_data"
    },
    {
     "data": {
      "text/html": [
       "<iframe\n",
       "    scrolling=\"no\"\n",
       "    width=\"100%\"\n",
       "    height=\"545px\"\n",
       "    src=\"iframe_figures/figure_8.html\"\n",
       "    frameborder=\"0\"\n",
       "    allowfullscreen\n",
       "></iframe>\n"
      ]
     },
     "metadata": {},
     "output_type": "display_data"
    },
    {
     "data": {
      "text/html": [
       "<iframe\n",
       "    scrolling=\"no\"\n",
       "    width=\"100%\"\n",
       "    height=\"545px\"\n",
       "    src=\"iframe_figures/figure_8.html\"\n",
       "    frameborder=\"0\"\n",
       "    allowfullscreen\n",
       "></iframe>\n"
      ]
     },
     "metadata": {},
     "output_type": "display_data"
    },
    {
     "data": {
      "text/html": [
       "<iframe\n",
       "    scrolling=\"no\"\n",
       "    width=\"100%\"\n",
       "    height=\"545px\"\n",
       "    src=\"iframe_figures/figure_8.html\"\n",
       "    frameborder=\"0\"\n",
       "    allowfullscreen\n",
       "></iframe>\n"
      ]
     },
     "metadata": {},
     "output_type": "display_data"
    },
    {
     "data": {
      "text/html": [
       "<iframe\n",
       "    scrolling=\"no\"\n",
       "    width=\"100%\"\n",
       "    height=\"545px\"\n",
       "    src=\"iframe_figures/figure_8.html\"\n",
       "    frameborder=\"0\"\n",
       "    allowfullscreen\n",
       "></iframe>\n"
      ]
     },
     "metadata": {},
     "output_type": "display_data"
    },
    {
     "data": {
      "text/html": [
       "<iframe\n",
       "    scrolling=\"no\"\n",
       "    width=\"100%\"\n",
       "    height=\"545px\"\n",
       "    src=\"iframe_figures/figure_8.html\"\n",
       "    frameborder=\"0\"\n",
       "    allowfullscreen\n",
       "></iframe>\n"
      ]
     },
     "metadata": {},
     "output_type": "display_data"
    },
    {
     "data": {
      "text/html": [
       "<iframe\n",
       "    scrolling=\"no\"\n",
       "    width=\"100%\"\n",
       "    height=\"545px\"\n",
       "    src=\"iframe_figures/figure_8.html\"\n",
       "    frameborder=\"0\"\n",
       "    allowfullscreen\n",
       "></iframe>\n"
      ]
     },
     "metadata": {},
     "output_type": "display_data"
    },
    {
     "name": "stdout",
     "output_type": "stream",
     "text": [
      "DONE!\n"
     ]
    },
    {
     "name": "stderr",
     "output_type": "stream",
     "text": [
      "100%|██████████| 36/36 [00:07<00:00,  4.78it/s]\n"
     ]
    },
    {
     "name": "stdout",
     "output_type": "stream",
     "text": [
      "Saving scores to  eval/mle/magic_ON_QnSC_200k/tabddpm_ON_QnSC_200k_mult_1.json\n",
      "ROC - AUC обучения на синтетических данных TABDDPM_ON_QNSC_200K_MULT_1: 0.919 ± 0.005\n",
      "magic_ON_QnSC_200k, tabddpm_ON_QnSC_200k_mult_1: 1.0\n",
      "n_clusters: 25\n",
      "DCR Score, a value closer to 0.5 is better\n",
      "magic_ON_QnSC_200k-tabddpm_ON_QnSC_200k_mult_1, DCR Score = 0.5136698212407992\n",
      "=========== All Features ===========\n",
      "Data shape:  (17118, 12)\n",
      "alpha precision: 0.991881, beta recall: 0.495482\n",
      "./models/tabddpm_ON_QnSC/ckpt/magic/tabddpm_ON_QnSC_200k_mult_2 tabddpm_ON_QnSC_200k_mult_2 ./synthetic/magic_ON_QnSC_200k/tabddpm_ON_QnSC_200k_mult_2.csv\n",
      "No NaNs in numerical features, skipping\n",
      "mlp\n",
      "Sample timestep    0\n",
      "Sample timestep    0\n",
      "Shape torch.Size([17118, 11])\n",
      "Sampling time: 95.969895362854\n",
      "Sample path changed to ./synthetic/magic_ON_QnSC_200k/initial_tabddpm_ON_QnSC_200k_mult_2.csv\n",
      "TABDDPM_ON_QNSC_200K_MULT_2: MAGIC_ON_QNSC_200K Dataset\n",
      "Original Logistic: 0.833\n",
      "Synthetic Logistic: 0.834\n",
      "Original Tree: 0.872\n",
      "Synthetic Tree: 0.868 \n",
      "\n",
      "TABDDPM_ON_QNSC_200K_MULT_2 Accuracy Loss: MAGIC_ON_QNSC_200K\n",
      "Logistic: -0.133%\n",
      "Tree: 0.432% \n",
      "\n",
      "CALCULATING COLUMN-WISE DENSITY ESTIMATION & PAIR-WISE COLUMN CORRELATION...\n",
      "Generating report ...\n",
      "\n",
      "(1/2) Evaluating Column Shapes: |██████████| 11/11 [00:00<00:00, 121.12it/s]|\n",
      "Column Shapes Score: 99.25%\n",
      "\n",
      "(2/2) Evaluating Column Pair Trends: |██████████| 55/55 [00:00<00:00, 85.90it/s]|\n",
      "Column Pair Trends Score: 98.94%\n",
      "\n",
      "Overall Score (Average): 99.1%\n",
      "\n",
      "Error rate (%) of column-wise density estimation TABDDPM_ON_QNSC_200K_MULT_2: 0.745 ± 0.297\n",
      "Error rate (%) of pair-wise column correlation score TABDDPM_ON_QNSC_200K_MULT_2: 1.065 ± 2.295\n"
     ]
    },
    {
     "data": {
      "text/html": [
       "<iframe\n",
       "    scrolling=\"no\"\n",
       "    width=\"100%\"\n",
       "    height=\"545px\"\n",
       "    src=\"iframe_figures/figure_8.html\"\n",
       "    frameborder=\"0\"\n",
       "    allowfullscreen\n",
       "></iframe>\n"
      ]
     },
     "metadata": {},
     "output_type": "display_data"
    },
    {
     "data": {
      "text/html": [
       "<iframe\n",
       "    scrolling=\"no\"\n",
       "    width=\"920px\"\n",
       "    height=\"920\"\n",
       "    src=\"iframe_figures/figure_8.html\"\n",
       "    frameborder=\"0\"\n",
       "    allowfullscreen\n",
       "></iframe>\n"
      ]
     },
     "metadata": {},
     "output_type": "display_data"
    },
    {
     "name": "stdout",
     "output_type": "stream",
     "text": [
      "DONE! \n",
      "\n",
      "DRAW COLUMN VALUES DISTRIBUTIONS...\n"
     ]
    },
    {
     "data": {
      "text/html": [
       "<iframe\n",
       "    scrolling=\"no\"\n",
       "    width=\"100%\"\n",
       "    height=\"545px\"\n",
       "    src=\"iframe_figures/figure_8.html\"\n",
       "    frameborder=\"0\"\n",
       "    allowfullscreen\n",
       "></iframe>\n"
      ]
     },
     "metadata": {},
     "output_type": "display_data"
    },
    {
     "data": {
      "text/html": [
       "<iframe\n",
       "    scrolling=\"no\"\n",
       "    width=\"100%\"\n",
       "    height=\"545px\"\n",
       "    src=\"iframe_figures/figure_8.html\"\n",
       "    frameborder=\"0\"\n",
       "    allowfullscreen\n",
       "></iframe>\n"
      ]
     },
     "metadata": {},
     "output_type": "display_data"
    },
    {
     "data": {
      "text/html": [
       "<iframe\n",
       "    scrolling=\"no\"\n",
       "    width=\"100%\"\n",
       "    height=\"545px\"\n",
       "    src=\"iframe_figures/figure_8.html\"\n",
       "    frameborder=\"0\"\n",
       "    allowfullscreen\n",
       "></iframe>\n"
      ]
     },
     "metadata": {},
     "output_type": "display_data"
    },
    {
     "data": {
      "text/html": [
       "<iframe\n",
       "    scrolling=\"no\"\n",
       "    width=\"100%\"\n",
       "    height=\"545px\"\n",
       "    src=\"iframe_figures/figure_8.html\"\n",
       "    frameborder=\"0\"\n",
       "    allowfullscreen\n",
       "></iframe>\n"
      ]
     },
     "metadata": {},
     "output_type": "display_data"
    },
    {
     "data": {
      "text/html": [
       "<iframe\n",
       "    scrolling=\"no\"\n",
       "    width=\"100%\"\n",
       "    height=\"545px\"\n",
       "    src=\"iframe_figures/figure_8.html\"\n",
       "    frameborder=\"0\"\n",
       "    allowfullscreen\n",
       "></iframe>\n"
      ]
     },
     "metadata": {},
     "output_type": "display_data"
    },
    {
     "data": {
      "text/html": [
       "<iframe\n",
       "    scrolling=\"no\"\n",
       "    width=\"100%\"\n",
       "    height=\"545px\"\n",
       "    src=\"iframe_figures/figure_8.html\"\n",
       "    frameborder=\"0\"\n",
       "    allowfullscreen\n",
       "></iframe>\n"
      ]
     },
     "metadata": {},
     "output_type": "display_data"
    },
    {
     "data": {
      "text/html": [
       "<iframe\n",
       "    scrolling=\"no\"\n",
       "    width=\"100%\"\n",
       "    height=\"545px\"\n",
       "    src=\"iframe_figures/figure_8.html\"\n",
       "    frameborder=\"0\"\n",
       "    allowfullscreen\n",
       "></iframe>\n"
      ]
     },
     "metadata": {},
     "output_type": "display_data"
    },
    {
     "data": {
      "text/html": [
       "<iframe\n",
       "    scrolling=\"no\"\n",
       "    width=\"100%\"\n",
       "    height=\"545px\"\n",
       "    src=\"iframe_figures/figure_8.html\"\n",
       "    frameborder=\"0\"\n",
       "    allowfullscreen\n",
       "></iframe>\n"
      ]
     },
     "metadata": {},
     "output_type": "display_data"
    },
    {
     "data": {
      "text/html": [
       "<iframe\n",
       "    scrolling=\"no\"\n",
       "    width=\"100%\"\n",
       "    height=\"545px\"\n",
       "    src=\"iframe_figures/figure_8.html\"\n",
       "    frameborder=\"0\"\n",
       "    allowfullscreen\n",
       "></iframe>\n"
      ]
     },
     "metadata": {},
     "output_type": "display_data"
    },
    {
     "data": {
      "text/html": [
       "<iframe\n",
       "    scrolling=\"no\"\n",
       "    width=\"100%\"\n",
       "    height=\"545px\"\n",
       "    src=\"iframe_figures/figure_8.html\"\n",
       "    frameborder=\"0\"\n",
       "    allowfullscreen\n",
       "></iframe>\n"
      ]
     },
     "metadata": {},
     "output_type": "display_data"
    },
    {
     "data": {
      "text/html": [
       "<iframe\n",
       "    scrolling=\"no\"\n",
       "    width=\"100%\"\n",
       "    height=\"545px\"\n",
       "    src=\"iframe_figures/figure_8.html\"\n",
       "    frameborder=\"0\"\n",
       "    allowfullscreen\n",
       "></iframe>\n"
      ]
     },
     "metadata": {},
     "output_type": "display_data"
    },
    {
     "name": "stdout",
     "output_type": "stream",
     "text": [
      "DONE!\n"
     ]
    },
    {
     "name": "stderr",
     "output_type": "stream",
     "text": [
      "100%|██████████| 36/36 [00:07<00:00,  4.73it/s]\n"
     ]
    },
    {
     "name": "stdout",
     "output_type": "stream",
     "text": [
      "Saving scores to  eval/mle/magic_ON_QnSC_200k/tabddpm_ON_QnSC_200k_mult_2.json\n",
      "ROC - AUC обучения на синтетических данных TABDDPM_ON_QNSC_200K_MULT_2: 0.913 ± 0.006\n",
      "magic_ON_QnSC_200k, tabddpm_ON_QnSC_200k_mult_2: 0.9937087887145439\n",
      "n_clusters: 25\n",
      "DCR Score, a value closer to 0.5 is better\n",
      "magic_ON_QnSC_200k-tabddpm_ON_QnSC_200k_mult_2, DCR Score = 0.5126767145694591\n",
      "=========== All Features ===========\n",
      "Data shape:  (17118, 12)\n",
      "alpha precision: 0.991779, beta recall: 0.495007\n",
      "./models/tabddpm_ON_QnSC/ckpt/magic/tabddpm_ON_QnSC_200k_mult_3 tabddpm_ON_QnSC_200k_mult_3 ./synthetic/magic_ON_QnSC_200k/tabddpm_ON_QnSC_200k_mult_3.csv\n",
      "No NaNs in numerical features, skipping\n",
      "mlp\n",
      "Sample timestep    0\n",
      "Sample timestep    0\n",
      "Shape torch.Size([17118, 11])\n",
      "Sampling time: 95.95318055152893\n",
      "Sample path changed to ./synthetic/magic_ON_QnSC_200k/initial_tabddpm_ON_QnSC_200k_mult_3.csv\n",
      "TABDDPM_ON_QNSC_200K_MULT_3: MAGIC_ON_QNSC_200K Dataset\n",
      "Original Logistic: 0.833\n",
      "Synthetic Logistic: 0.828\n",
      "Original Tree: 0.872\n",
      "Synthetic Tree: 0.861 \n",
      "\n",
      "TABDDPM_ON_QNSC_200K_MULT_3 Accuracy Loss: MAGIC_ON_QNSC_200K\n",
      "Logistic: 0.643%\n",
      "Tree: 1.301% \n",
      "\n",
      "CALCULATING COLUMN-WISE DENSITY ESTIMATION & PAIR-WISE COLUMN CORRELATION...\n",
      "Generating report ...\n",
      "\n",
      "(1/2) Evaluating Column Shapes: |██████████| 11/11 [00:00<00:00, 119.35it/s]|\n",
      "Column Shapes Score: 99.26%\n",
      "\n",
      "(2/2) Evaluating Column Pair Trends: |██████████| 55/55 [00:00<00:00, 82.39it/s]|\n",
      "Column Pair Trends Score: 98.37%\n",
      "\n",
      "Overall Score (Average): 98.82%\n",
      "\n",
      "Error rate (%) of column-wise density estimation TABDDPM_ON_QNSC_200K_MULT_3: 0.737 ± 0.318\n",
      "Error rate (%) of pair-wise column correlation score TABDDPM_ON_QNSC_200K_MULT_3: 1.633 ± 4.369\n"
     ]
    },
    {
     "data": {
      "text/html": [
       "<iframe\n",
       "    scrolling=\"no\"\n",
       "    width=\"100%\"\n",
       "    height=\"545px\"\n",
       "    src=\"iframe_figures/figure_8.html\"\n",
       "    frameborder=\"0\"\n",
       "    allowfullscreen\n",
       "></iframe>\n"
      ]
     },
     "metadata": {},
     "output_type": "display_data"
    },
    {
     "data": {
      "text/html": [
       "<iframe\n",
       "    scrolling=\"no\"\n",
       "    width=\"920px\"\n",
       "    height=\"920\"\n",
       "    src=\"iframe_figures/figure_8.html\"\n",
       "    frameborder=\"0\"\n",
       "    allowfullscreen\n",
       "></iframe>\n"
      ]
     },
     "metadata": {},
     "output_type": "display_data"
    },
    {
     "name": "stdout",
     "output_type": "stream",
     "text": [
      "DONE! \n",
      "\n",
      "DRAW COLUMN VALUES DISTRIBUTIONS...\n"
     ]
    },
    {
     "data": {
      "text/html": [
       "<iframe\n",
       "    scrolling=\"no\"\n",
       "    width=\"100%\"\n",
       "    height=\"545px\"\n",
       "    src=\"iframe_figures/figure_8.html\"\n",
       "    frameborder=\"0\"\n",
       "    allowfullscreen\n",
       "></iframe>\n"
      ]
     },
     "metadata": {},
     "output_type": "display_data"
    },
    {
     "data": {
      "text/html": [
       "<iframe\n",
       "    scrolling=\"no\"\n",
       "    width=\"100%\"\n",
       "    height=\"545px\"\n",
       "    src=\"iframe_figures/figure_8.html\"\n",
       "    frameborder=\"0\"\n",
       "    allowfullscreen\n",
       "></iframe>\n"
      ]
     },
     "metadata": {},
     "output_type": "display_data"
    },
    {
     "data": {
      "text/html": [
       "<iframe\n",
       "    scrolling=\"no\"\n",
       "    width=\"100%\"\n",
       "    height=\"545px\"\n",
       "    src=\"iframe_figures/figure_8.html\"\n",
       "    frameborder=\"0\"\n",
       "    allowfullscreen\n",
       "></iframe>\n"
      ]
     },
     "metadata": {},
     "output_type": "display_data"
    },
    {
     "data": {
      "text/html": [
       "<iframe\n",
       "    scrolling=\"no\"\n",
       "    width=\"100%\"\n",
       "    height=\"545px\"\n",
       "    src=\"iframe_figures/figure_8.html\"\n",
       "    frameborder=\"0\"\n",
       "    allowfullscreen\n",
       "></iframe>\n"
      ]
     },
     "metadata": {},
     "output_type": "display_data"
    },
    {
     "data": {
      "text/html": [
       "<iframe\n",
       "    scrolling=\"no\"\n",
       "    width=\"100%\"\n",
       "    height=\"545px\"\n",
       "    src=\"iframe_figures/figure_8.html\"\n",
       "    frameborder=\"0\"\n",
       "    allowfullscreen\n",
       "></iframe>\n"
      ]
     },
     "metadata": {},
     "output_type": "display_data"
    },
    {
     "data": {
      "text/html": [
       "<iframe\n",
       "    scrolling=\"no\"\n",
       "    width=\"100%\"\n",
       "    height=\"545px\"\n",
       "    src=\"iframe_figures/figure_8.html\"\n",
       "    frameborder=\"0\"\n",
       "    allowfullscreen\n",
       "></iframe>\n"
      ]
     },
     "metadata": {},
     "output_type": "display_data"
    },
    {
     "data": {
      "text/html": [
       "<iframe\n",
       "    scrolling=\"no\"\n",
       "    width=\"100%\"\n",
       "    height=\"545px\"\n",
       "    src=\"iframe_figures/figure_8.html\"\n",
       "    frameborder=\"0\"\n",
       "    allowfullscreen\n",
       "></iframe>\n"
      ]
     },
     "metadata": {},
     "output_type": "display_data"
    },
    {
     "data": {
      "text/html": [
       "<iframe\n",
       "    scrolling=\"no\"\n",
       "    width=\"100%\"\n",
       "    height=\"545px\"\n",
       "    src=\"iframe_figures/figure_8.html\"\n",
       "    frameborder=\"0\"\n",
       "    allowfullscreen\n",
       "></iframe>\n"
      ]
     },
     "metadata": {},
     "output_type": "display_data"
    },
    {
     "data": {
      "text/html": [
       "<iframe\n",
       "    scrolling=\"no\"\n",
       "    width=\"100%\"\n",
       "    height=\"545px\"\n",
       "    src=\"iframe_figures/figure_8.html\"\n",
       "    frameborder=\"0\"\n",
       "    allowfullscreen\n",
       "></iframe>\n"
      ]
     },
     "metadata": {},
     "output_type": "display_data"
    },
    {
     "data": {
      "text/html": [
       "<iframe\n",
       "    scrolling=\"no\"\n",
       "    width=\"100%\"\n",
       "    height=\"545px\"\n",
       "    src=\"iframe_figures/figure_8.html\"\n",
       "    frameborder=\"0\"\n",
       "    allowfullscreen\n",
       "></iframe>\n"
      ]
     },
     "metadata": {},
     "output_type": "display_data"
    },
    {
     "data": {
      "text/html": [
       "<iframe\n",
       "    scrolling=\"no\"\n",
       "    width=\"100%\"\n",
       "    height=\"545px\"\n",
       "    src=\"iframe_figures/figure_8.html\"\n",
       "    frameborder=\"0\"\n",
       "    allowfullscreen\n",
       "></iframe>\n"
      ]
     },
     "metadata": {},
     "output_type": "display_data"
    },
    {
     "name": "stdout",
     "output_type": "stream",
     "text": [
      "DONE!\n"
     ]
    },
    {
     "name": "stderr",
     "output_type": "stream",
     "text": [
      "100%|██████████| 36/36 [00:08<00:00,  4.44it/s]\n"
     ]
    },
    {
     "name": "stdout",
     "output_type": "stream",
     "text": [
      "Saving scores to  eval/mle/magic_ON_QnSC_200k/tabddpm_ON_QnSC_200k_mult_3.json\n",
      "ROC - AUC обучения на синтетических данных TABDDPM_ON_QNSC_200K_MULT_3: 0.925 ± 0.006\n",
      "magic_ON_QnSC_200k, tabddpm_ON_QnSC_200k_mult_3: 0.9956863816595285\n",
      "n_clusters: 25\n",
      "DCR Score, a value closer to 0.5 is better\n",
      "magic_ON_QnSC_200k-tabddpm_ON_QnSC_200k_mult_3, DCR Score = 0.5188690267554621\n",
      "=========== All Features ===========\n",
      "Data shape:  (17118, 12)\n",
      "alpha precision: 0.994176, beta recall: 0.503817\n",
      "./models/tabddpm_ON_QnSC/ckpt/magic/tabddpm_ON_QnSC_200k_mult_4 tabddpm_ON_QnSC_200k_mult_4 ./synthetic/magic_ON_QnSC_200k/tabddpm_ON_QnSC_200k_mult_4.csv\n",
      "No NaNs in numerical features, skipping\n",
      "mlp\n",
      "Sample timestep    0\n",
      "Sample timestep    0\n",
      "Shape torch.Size([17118, 11])\n",
      "Sampling time: 95.988361120224\n",
      "Sample path changed to ./synthetic/magic_ON_QnSC_200k/initial_tabddpm_ON_QnSC_200k_mult_4.csv\n",
      "TABDDPM_ON_QNSC_200K_MULT_4: MAGIC_ON_QNSC_200K Dataset\n",
      "Original Logistic: 0.833\n",
      "Synthetic Logistic: 0.832\n",
      "Original Tree: 0.872\n",
      "Synthetic Tree: 0.866 \n",
      "\n",
      "TABDDPM_ON_QNSC_200K_MULT_4 Accuracy Loss: MAGIC_ON_QNSC_200K\n",
      "Logistic: 0.125%\n",
      "Tree: 0.739% \n",
      "\n",
      "CALCULATING COLUMN-WISE DENSITY ESTIMATION & PAIR-WISE COLUMN CORRELATION...\n",
      "Generating report ...\n",
      "\n",
      "(1/2) Evaluating Column Shapes: |██████████| 11/11 [00:00<00:00, 104.36it/s]|\n",
      "Column Shapes Score: 99.12%\n",
      "\n",
      "(2/2) Evaluating Column Pair Trends: |██████████| 55/55 [00:00<00:00, 82.72it/s]|\n",
      "Column Pair Trends Score: 97.52%\n",
      "\n",
      "Overall Score (Average): 98.32%\n",
      "\n",
      "Error rate (%) of column-wise density estimation TABDDPM_ON_QNSC_200K_MULT_4: 0.881 ± 0.244\n",
      "Error rate (%) of pair-wise column correlation score TABDDPM_ON_QNSC_200K_MULT_4: 2.481 ± 6.626\n"
     ]
    },
    {
     "data": {
      "text/html": [
       "<iframe\n",
       "    scrolling=\"no\"\n",
       "    width=\"100%\"\n",
       "    height=\"545px\"\n",
       "    src=\"iframe_figures/figure_8.html\"\n",
       "    frameborder=\"0\"\n",
       "    allowfullscreen\n",
       "></iframe>\n"
      ]
     },
     "metadata": {},
     "output_type": "display_data"
    },
    {
     "data": {
      "text/html": [
       "<iframe\n",
       "    scrolling=\"no\"\n",
       "    width=\"920px\"\n",
       "    height=\"920\"\n",
       "    src=\"iframe_figures/figure_8.html\"\n",
       "    frameborder=\"0\"\n",
       "    allowfullscreen\n",
       "></iframe>\n"
      ]
     },
     "metadata": {},
     "output_type": "display_data"
    },
    {
     "name": "stdout",
     "output_type": "stream",
     "text": [
      "DONE! \n",
      "\n",
      "DRAW COLUMN VALUES DISTRIBUTIONS...\n"
     ]
    },
    {
     "data": {
      "text/html": [
       "<iframe\n",
       "    scrolling=\"no\"\n",
       "    width=\"100%\"\n",
       "    height=\"545px\"\n",
       "    src=\"iframe_figures/figure_8.html\"\n",
       "    frameborder=\"0\"\n",
       "    allowfullscreen\n",
       "></iframe>\n"
      ]
     },
     "metadata": {},
     "output_type": "display_data"
    },
    {
     "data": {
      "text/html": [
       "<iframe\n",
       "    scrolling=\"no\"\n",
       "    width=\"100%\"\n",
       "    height=\"545px\"\n",
       "    src=\"iframe_figures/figure_8.html\"\n",
       "    frameborder=\"0\"\n",
       "    allowfullscreen\n",
       "></iframe>\n"
      ]
     },
     "metadata": {},
     "output_type": "display_data"
    },
    {
     "data": {
      "text/html": [
       "<iframe\n",
       "    scrolling=\"no\"\n",
       "    width=\"100%\"\n",
       "    height=\"545px\"\n",
       "    src=\"iframe_figures/figure_8.html\"\n",
       "    frameborder=\"0\"\n",
       "    allowfullscreen\n",
       "></iframe>\n"
      ]
     },
     "metadata": {},
     "output_type": "display_data"
    },
    {
     "data": {
      "text/html": [
       "<iframe\n",
       "    scrolling=\"no\"\n",
       "    width=\"100%\"\n",
       "    height=\"545px\"\n",
       "    src=\"iframe_figures/figure_8.html\"\n",
       "    frameborder=\"0\"\n",
       "    allowfullscreen\n",
       "></iframe>\n"
      ]
     },
     "metadata": {},
     "output_type": "display_data"
    },
    {
     "data": {
      "text/html": [
       "<iframe\n",
       "    scrolling=\"no\"\n",
       "    width=\"100%\"\n",
       "    height=\"545px\"\n",
       "    src=\"iframe_figures/figure_8.html\"\n",
       "    frameborder=\"0\"\n",
       "    allowfullscreen\n",
       "></iframe>\n"
      ]
     },
     "metadata": {},
     "output_type": "display_data"
    },
    {
     "data": {
      "text/html": [
       "<iframe\n",
       "    scrolling=\"no\"\n",
       "    width=\"100%\"\n",
       "    height=\"545px\"\n",
       "    src=\"iframe_figures/figure_8.html\"\n",
       "    frameborder=\"0\"\n",
       "    allowfullscreen\n",
       "></iframe>\n"
      ]
     },
     "metadata": {},
     "output_type": "display_data"
    },
    {
     "data": {
      "text/html": [
       "<iframe\n",
       "    scrolling=\"no\"\n",
       "    width=\"100%\"\n",
       "    height=\"545px\"\n",
       "    src=\"iframe_figures/figure_8.html\"\n",
       "    frameborder=\"0\"\n",
       "    allowfullscreen\n",
       "></iframe>\n"
      ]
     },
     "metadata": {},
     "output_type": "display_data"
    },
    {
     "data": {
      "text/html": [
       "<iframe\n",
       "    scrolling=\"no\"\n",
       "    width=\"100%\"\n",
       "    height=\"545px\"\n",
       "    src=\"iframe_figures/figure_8.html\"\n",
       "    frameborder=\"0\"\n",
       "    allowfullscreen\n",
       "></iframe>\n"
      ]
     },
     "metadata": {},
     "output_type": "display_data"
    },
    {
     "data": {
      "text/html": [
       "<iframe\n",
       "    scrolling=\"no\"\n",
       "    width=\"100%\"\n",
       "    height=\"545px\"\n",
       "    src=\"iframe_figures/figure_8.html\"\n",
       "    frameborder=\"0\"\n",
       "    allowfullscreen\n",
       "></iframe>\n"
      ]
     },
     "metadata": {},
     "output_type": "display_data"
    },
    {
     "data": {
      "text/html": [
       "<iframe\n",
       "    scrolling=\"no\"\n",
       "    width=\"100%\"\n",
       "    height=\"545px\"\n",
       "    src=\"iframe_figures/figure_8.html\"\n",
       "    frameborder=\"0\"\n",
       "    allowfullscreen\n",
       "></iframe>\n"
      ]
     },
     "metadata": {},
     "output_type": "display_data"
    },
    {
     "data": {
      "text/html": [
       "<iframe\n",
       "    scrolling=\"no\"\n",
       "    width=\"100%\"\n",
       "    height=\"545px\"\n",
       "    src=\"iframe_figures/figure_8.html\"\n",
       "    frameborder=\"0\"\n",
       "    allowfullscreen\n",
       "></iframe>\n"
      ]
     },
     "metadata": {},
     "output_type": "display_data"
    },
    {
     "name": "stdout",
     "output_type": "stream",
     "text": [
      "DONE!\n"
     ]
    },
    {
     "name": "stderr",
     "output_type": "stream",
     "text": [
      "100%|██████████| 36/36 [00:07<00:00,  4.93it/s]\n"
     ]
    },
    {
     "name": "stdout",
     "output_type": "stream",
     "text": [
      "Saving scores to  eval/mle/magic_ON_QnSC_200k/tabddpm_ON_QnSC_200k_mult_4.json\n",
      "ROC - AUC обучения на синтетических данных TABDDPM_ON_QNSC_200K_MULT_4: 0.950 ± 0.006\n",
      "magic_ON_QnSC_200k, tabddpm_ON_QnSC_200k_mult_4: 0.9895975756738847\n",
      "n_clusters: 25\n",
      "DCR Score, a value closer to 0.5 is better\n",
      "magic_ON_QnSC_200k-tabddpm_ON_QnSC_200k_mult_4, DCR Score = 0.5434046033415119\n",
      "=========== All Features ===========\n",
      "Data shape:  (17118, 12)\n",
      "alpha precision: 0.979998, beta recall: 0.581446\n",
      "./models/tabddpm_ON_QnSC/ckpt/magic/tabddpm_ON_QnSC_200k_mult_5 tabddpm_ON_QnSC_200k_mult_5 ./synthetic/magic_ON_QnSC_200k/tabddpm_ON_QnSC_200k_mult_5.csv\n",
      "No NaNs in numerical features, skipping\n",
      "mlp\n",
      "Sample timestep    0\n",
      "Sample timestep    0\n",
      "Shape torch.Size([17118, 11])\n",
      "Sampling time: 95.84089398384094\n",
      "Sample path changed to ./synthetic/magic_ON_QnSC_200k/initial_tabddpm_ON_QnSC_200k_mult_5.csv\n",
      "TABDDPM_ON_QNSC_200K_MULT_5: MAGIC_ON_QNSC_200K Dataset\n",
      "Original Logistic: 0.833\n",
      "Synthetic Logistic: 0.833\n",
      "Original Tree: 0.872\n",
      "Synthetic Tree: 0.859 \n",
      "\n",
      "TABDDPM_ON_QNSC_200K_MULT_5 Accuracy Loss: MAGIC_ON_QNSC_200K\n",
      "Logistic: 0.050%\n",
      "Tree: 1.496% \n",
      "\n",
      "CALCULATING COLUMN-WISE DENSITY ESTIMATION & PAIR-WISE COLUMN CORRELATION...\n",
      "Generating report ...\n",
      "\n",
      "(1/2) Evaluating Column Shapes: |██████████| 11/11 [00:00<00:00, 109.80it/s]|\n",
      "Column Shapes Score: 99.26%\n",
      "\n",
      "(2/2) Evaluating Column Pair Trends: |██████████| 55/55 [00:00<00:00, 77.99it/s]|\n",
      "Column Pair Trends Score: 98.55%\n",
      "\n",
      "Overall Score (Average): 98.9%\n",
      "\n",
      "Error rate (%) of column-wise density estimation TABDDPM_ON_QNSC_200K_MULT_5: 0.739 ± 0.180\n",
      "Error rate (%) of pair-wise column correlation score TABDDPM_ON_QNSC_200K_MULT_5: 1.453 ± 4.714\n"
     ]
    },
    {
     "data": {
      "text/html": [
       "<iframe\n",
       "    scrolling=\"no\"\n",
       "    width=\"100%\"\n",
       "    height=\"545px\"\n",
       "    src=\"iframe_figures/figure_8.html\"\n",
       "    frameborder=\"0\"\n",
       "    allowfullscreen\n",
       "></iframe>\n"
      ]
     },
     "metadata": {},
     "output_type": "display_data"
    },
    {
     "data": {
      "text/html": [
       "<iframe\n",
       "    scrolling=\"no\"\n",
       "    width=\"920px\"\n",
       "    height=\"920\"\n",
       "    src=\"iframe_figures/figure_8.html\"\n",
       "    frameborder=\"0\"\n",
       "    allowfullscreen\n",
       "></iframe>\n"
      ]
     },
     "metadata": {},
     "output_type": "display_data"
    },
    {
     "name": "stdout",
     "output_type": "stream",
     "text": [
      "DONE! \n",
      "\n",
      "DRAW COLUMN VALUES DISTRIBUTIONS...\n"
     ]
    },
    {
     "data": {
      "text/html": [
       "<iframe\n",
       "    scrolling=\"no\"\n",
       "    width=\"100%\"\n",
       "    height=\"545px\"\n",
       "    src=\"iframe_figures/figure_8.html\"\n",
       "    frameborder=\"0\"\n",
       "    allowfullscreen\n",
       "></iframe>\n"
      ]
     },
     "metadata": {},
     "output_type": "display_data"
    },
    {
     "data": {
      "text/html": [
       "<iframe\n",
       "    scrolling=\"no\"\n",
       "    width=\"100%\"\n",
       "    height=\"545px\"\n",
       "    src=\"iframe_figures/figure_8.html\"\n",
       "    frameborder=\"0\"\n",
       "    allowfullscreen\n",
       "></iframe>\n"
      ]
     },
     "metadata": {},
     "output_type": "display_data"
    },
    {
     "data": {
      "text/html": [
       "<iframe\n",
       "    scrolling=\"no\"\n",
       "    width=\"100%\"\n",
       "    height=\"545px\"\n",
       "    src=\"iframe_figures/figure_8.html\"\n",
       "    frameborder=\"0\"\n",
       "    allowfullscreen\n",
       "></iframe>\n"
      ]
     },
     "metadata": {},
     "output_type": "display_data"
    },
    {
     "data": {
      "text/html": [
       "<iframe\n",
       "    scrolling=\"no\"\n",
       "    width=\"100%\"\n",
       "    height=\"545px\"\n",
       "    src=\"iframe_figures/figure_8.html\"\n",
       "    frameborder=\"0\"\n",
       "    allowfullscreen\n",
       "></iframe>\n"
      ]
     },
     "metadata": {},
     "output_type": "display_data"
    },
    {
     "data": {
      "text/html": [
       "<iframe\n",
       "    scrolling=\"no\"\n",
       "    width=\"100%\"\n",
       "    height=\"545px\"\n",
       "    src=\"iframe_figures/figure_8.html\"\n",
       "    frameborder=\"0\"\n",
       "    allowfullscreen\n",
       "></iframe>\n"
      ]
     },
     "metadata": {},
     "output_type": "display_data"
    },
    {
     "data": {
      "text/html": [
       "<iframe\n",
       "    scrolling=\"no\"\n",
       "    width=\"100%\"\n",
       "    height=\"545px\"\n",
       "    src=\"iframe_figures/figure_8.html\"\n",
       "    frameborder=\"0\"\n",
       "    allowfullscreen\n",
       "></iframe>\n"
      ]
     },
     "metadata": {},
     "output_type": "display_data"
    },
    {
     "data": {
      "text/html": [
       "<iframe\n",
       "    scrolling=\"no\"\n",
       "    width=\"100%\"\n",
       "    height=\"545px\"\n",
       "    src=\"iframe_figures/figure_8.html\"\n",
       "    frameborder=\"0\"\n",
       "    allowfullscreen\n",
       "></iframe>\n"
      ]
     },
     "metadata": {},
     "output_type": "display_data"
    },
    {
     "data": {
      "text/html": [
       "<iframe\n",
       "    scrolling=\"no\"\n",
       "    width=\"100%\"\n",
       "    height=\"545px\"\n",
       "    src=\"iframe_figures/figure_8.html\"\n",
       "    frameborder=\"0\"\n",
       "    allowfullscreen\n",
       "></iframe>\n"
      ]
     },
     "metadata": {},
     "output_type": "display_data"
    },
    {
     "data": {
      "text/html": [
       "<iframe\n",
       "    scrolling=\"no\"\n",
       "    width=\"100%\"\n",
       "    height=\"545px\"\n",
       "    src=\"iframe_figures/figure_8.html\"\n",
       "    frameborder=\"0\"\n",
       "    allowfullscreen\n",
       "></iframe>\n"
      ]
     },
     "metadata": {},
     "output_type": "display_data"
    },
    {
     "data": {
      "text/html": [
       "<iframe\n",
       "    scrolling=\"no\"\n",
       "    width=\"100%\"\n",
       "    height=\"545px\"\n",
       "    src=\"iframe_figures/figure_8.html\"\n",
       "    frameborder=\"0\"\n",
       "    allowfullscreen\n",
       "></iframe>\n"
      ]
     },
     "metadata": {},
     "output_type": "display_data"
    },
    {
     "data": {
      "text/html": [
       "<iframe\n",
       "    scrolling=\"no\"\n",
       "    width=\"100%\"\n",
       "    height=\"545px\"\n",
       "    src=\"iframe_figures/figure_8.html\"\n",
       "    frameborder=\"0\"\n",
       "    allowfullscreen\n",
       "></iframe>\n"
      ]
     },
     "metadata": {},
     "output_type": "display_data"
    },
    {
     "name": "stdout",
     "output_type": "stream",
     "text": [
      "DONE!\n"
     ]
    },
    {
     "name": "stderr",
     "output_type": "stream",
     "text": [
      "100%|██████████| 36/36 [00:07<00:00,  4.90it/s]\n"
     ]
    },
    {
     "name": "stdout",
     "output_type": "stream",
     "text": [
      "Saving scores to  eval/mle/magic_ON_QnSC_200k/tabddpm_ON_QnSC_200k_mult_5.json\n",
      "ROC - AUC обучения на синтетических данных TABDDPM_ON_QNSC_200K_MULT_5: 0.921 ± 0.008\n",
      "magic_ON_QnSC_200k, tabddpm_ON_QnSC_200k_mult_5: 1.0\n",
      "n_clusters: 25\n",
      "DCR Score, a value closer to 0.5 is better\n",
      "magic_ON_QnSC_200k-tabddpm_ON_QnSC_200k_mult_5, DCR Score = 0.506192312186003\n",
      "=========== All Features ===========\n",
      "Data shape:  (17118, 12)\n",
      "alpha precision: 0.994742, beta recall: 0.497850\n",
      "./models/tabddpm_ON_QnSC/ckpt/magic/tabddpm_ON_QnSC_200k_mult_6 tabddpm_ON_QnSC_200k_mult_6 ./synthetic/magic_ON_QnSC_200k/tabddpm_ON_QnSC_200k_mult_6.csv\n",
      "No NaNs in numerical features, skipping\n",
      "mlp\n",
      "Sample timestep    0\n",
      "Sample timestep    0\n",
      "Shape torch.Size([17118, 11])\n",
      "Sampling time: 96.04046106338501\n",
      "Sample path changed to ./synthetic/magic_ON_QnSC_200k/initial_tabddpm_ON_QnSC_200k_mult_6.csv\n",
      "TABDDPM_ON_QNSC_200K_MULT_6: MAGIC_ON_QNSC_200K Dataset\n",
      "Original Logistic: 0.833\n",
      "Synthetic Logistic: 0.831\n",
      "Original Tree: 0.872\n",
      "Synthetic Tree: 0.877 \n",
      "\n",
      "TABDDPM_ON_QNSC_200K_MULT_6 Accuracy Loss: MAGIC_ON_QNSC_200K\n",
      "Logistic: 0.225%\n",
      "Tree: -0.621% \n",
      "\n",
      "CALCULATING COLUMN-WISE DENSITY ESTIMATION & PAIR-WISE COLUMN CORRELATION...\n",
      "Generating report ...\n",
      "\n",
      "(1/2) Evaluating Column Shapes: |██████████| 11/11 [00:00<00:00, 122.41it/s]|\n",
      "Column Shapes Score: 99.05%\n",
      "\n",
      "(2/2) Evaluating Column Pair Trends: |██████████| 55/55 [00:00<00:00, 81.53it/s]|\n",
      "Column Pair Trends Score: 97.67%\n",
      "\n",
      "Overall Score (Average): 98.36%\n",
      "\n",
      "Error rate (%) of column-wise density estimation TABDDPM_ON_QNSC_200K_MULT_6: 0.945 ± 0.315\n",
      "Error rate (%) of pair-wise column correlation score TABDDPM_ON_QNSC_200K_MULT_6: 2.333 ± 7.189\n"
     ]
    },
    {
     "data": {
      "text/html": [
       "<iframe\n",
       "    scrolling=\"no\"\n",
       "    width=\"100%\"\n",
       "    height=\"545px\"\n",
       "    src=\"iframe_figures/figure_8.html\"\n",
       "    frameborder=\"0\"\n",
       "    allowfullscreen\n",
       "></iframe>\n"
      ]
     },
     "metadata": {},
     "output_type": "display_data"
    },
    {
     "data": {
      "text/html": [
       "<iframe\n",
       "    scrolling=\"no\"\n",
       "    width=\"920px\"\n",
       "    height=\"920\"\n",
       "    src=\"iframe_figures/figure_8.html\"\n",
       "    frameborder=\"0\"\n",
       "    allowfullscreen\n",
       "></iframe>\n"
      ]
     },
     "metadata": {},
     "output_type": "display_data"
    },
    {
     "name": "stdout",
     "output_type": "stream",
     "text": [
      "DONE! \n",
      "\n",
      "DRAW COLUMN VALUES DISTRIBUTIONS...\n"
     ]
    },
    {
     "data": {
      "text/html": [
       "<iframe\n",
       "    scrolling=\"no\"\n",
       "    width=\"100%\"\n",
       "    height=\"545px\"\n",
       "    src=\"iframe_figures/figure_8.html\"\n",
       "    frameborder=\"0\"\n",
       "    allowfullscreen\n",
       "></iframe>\n"
      ]
     },
     "metadata": {},
     "output_type": "display_data"
    },
    {
     "data": {
      "text/html": [
       "<iframe\n",
       "    scrolling=\"no\"\n",
       "    width=\"100%\"\n",
       "    height=\"545px\"\n",
       "    src=\"iframe_figures/figure_8.html\"\n",
       "    frameborder=\"0\"\n",
       "    allowfullscreen\n",
       "></iframe>\n"
      ]
     },
     "metadata": {},
     "output_type": "display_data"
    },
    {
     "data": {
      "text/html": [
       "<iframe\n",
       "    scrolling=\"no\"\n",
       "    width=\"100%\"\n",
       "    height=\"545px\"\n",
       "    src=\"iframe_figures/figure_8.html\"\n",
       "    frameborder=\"0\"\n",
       "    allowfullscreen\n",
       "></iframe>\n"
      ]
     },
     "metadata": {},
     "output_type": "display_data"
    },
    {
     "data": {
      "text/html": [
       "<iframe\n",
       "    scrolling=\"no\"\n",
       "    width=\"100%\"\n",
       "    height=\"545px\"\n",
       "    src=\"iframe_figures/figure_8.html\"\n",
       "    frameborder=\"0\"\n",
       "    allowfullscreen\n",
       "></iframe>\n"
      ]
     },
     "metadata": {},
     "output_type": "display_data"
    },
    {
     "data": {
      "text/html": [
       "<iframe\n",
       "    scrolling=\"no\"\n",
       "    width=\"100%\"\n",
       "    height=\"545px\"\n",
       "    src=\"iframe_figures/figure_8.html\"\n",
       "    frameborder=\"0\"\n",
       "    allowfullscreen\n",
       "></iframe>\n"
      ]
     },
     "metadata": {},
     "output_type": "display_data"
    },
    {
     "data": {
      "text/html": [
       "<iframe\n",
       "    scrolling=\"no\"\n",
       "    width=\"100%\"\n",
       "    height=\"545px\"\n",
       "    src=\"iframe_figures/figure_8.html\"\n",
       "    frameborder=\"0\"\n",
       "    allowfullscreen\n",
       "></iframe>\n"
      ]
     },
     "metadata": {},
     "output_type": "display_data"
    },
    {
     "data": {
      "text/html": [
       "<iframe\n",
       "    scrolling=\"no\"\n",
       "    width=\"100%\"\n",
       "    height=\"545px\"\n",
       "    src=\"iframe_figures/figure_8.html\"\n",
       "    frameborder=\"0\"\n",
       "    allowfullscreen\n",
       "></iframe>\n"
      ]
     },
     "metadata": {},
     "output_type": "display_data"
    },
    {
     "data": {
      "text/html": [
       "<iframe\n",
       "    scrolling=\"no\"\n",
       "    width=\"100%\"\n",
       "    height=\"545px\"\n",
       "    src=\"iframe_figures/figure_8.html\"\n",
       "    frameborder=\"0\"\n",
       "    allowfullscreen\n",
       "></iframe>\n"
      ]
     },
     "metadata": {},
     "output_type": "display_data"
    },
    {
     "data": {
      "text/html": [
       "<iframe\n",
       "    scrolling=\"no\"\n",
       "    width=\"100%\"\n",
       "    height=\"545px\"\n",
       "    src=\"iframe_figures/figure_8.html\"\n",
       "    frameborder=\"0\"\n",
       "    allowfullscreen\n",
       "></iframe>\n"
      ]
     },
     "metadata": {},
     "output_type": "display_data"
    },
    {
     "data": {
      "text/html": [
       "<iframe\n",
       "    scrolling=\"no\"\n",
       "    width=\"100%\"\n",
       "    height=\"545px\"\n",
       "    src=\"iframe_figures/figure_8.html\"\n",
       "    frameborder=\"0\"\n",
       "    allowfullscreen\n",
       "></iframe>\n"
      ]
     },
     "metadata": {},
     "output_type": "display_data"
    },
    {
     "data": {
      "text/html": [
       "<iframe\n",
       "    scrolling=\"no\"\n",
       "    width=\"100%\"\n",
       "    height=\"545px\"\n",
       "    src=\"iframe_figures/figure_8.html\"\n",
       "    frameborder=\"0\"\n",
       "    allowfullscreen\n",
       "></iframe>\n"
      ]
     },
     "metadata": {},
     "output_type": "display_data"
    },
    {
     "name": "stdout",
     "output_type": "stream",
     "text": [
      "DONE!\n"
     ]
    },
    {
     "name": "stderr",
     "output_type": "stream",
     "text": [
      "100%|██████████| 36/36 [00:07<00:00,  4.95it/s]\n"
     ]
    },
    {
     "name": "stdout",
     "output_type": "stream",
     "text": [
      "Saving scores to  eval/mle/magic_ON_QnSC_200k/tabddpm_ON_QnSC_200k_mult_6.json\n",
      "ROC - AUC обучения на синтетических данных TABDDPM_ON_QNSC_200K_MULT_6: 0.928 ± 0.005\n",
      "magic_ON_QnSC_200k, tabddpm_ON_QnSC_200k_mult_6: 0.9942344282139352\n",
      "n_clusters: 25\n",
      "DCR Score, a value closer to 0.5 is better\n",
      "magic_ON_QnSC_200k-tabddpm_ON_QnSC_200k_mult_6, DCR Score = 0.5230167075592943\n",
      "=========== All Features ===========\n",
      "Data shape:  (17118, 12)\n",
      "alpha precision: 0.990029, beta recall: 0.512957\n",
      "./models/tabddpm_ON_QnSC/ckpt/magic/tabddpm_ON_QnSC_200k_mult_7 tabddpm_ON_QnSC_200k_mult_7 ./synthetic/magic_ON_QnSC_200k/tabddpm_ON_QnSC_200k_mult_7.csv\n",
      "No NaNs in numerical features, skipping\n",
      "mlp\n",
      "Sample timestep    0\n",
      "Sample timestep    0\n",
      "Shape torch.Size([17118, 11])\n",
      "Sampling time: 95.9497287273407\n",
      "Sample path changed to ./synthetic/magic_ON_QnSC_200k/initial_tabddpm_ON_QnSC_200k_mult_7.csv\n",
      "TABDDPM_ON_QNSC_200K_MULT_7: MAGIC_ON_QNSC_200K Dataset\n",
      "Original Logistic: 0.833\n",
      "Synthetic Logistic: 0.833\n",
      "Original Tree: 0.872\n",
      "Synthetic Tree: 0.852 \n",
      "\n",
      "TABDDPM_ON_QNSC_200K_MULT_7 Accuracy Loss: MAGIC_ON_QNSC_200K\n",
      "Logistic: 0.042%\n",
      "Tree: 2.267% \n",
      "\n",
      "CALCULATING COLUMN-WISE DENSITY ESTIMATION & PAIR-WISE COLUMN CORRELATION...\n",
      "Generating report ...\n",
      "\n",
      "(1/2) Evaluating Column Shapes: |██████████| 11/11 [00:00<00:00, 113.36it/s]|\n",
      "Column Shapes Score: 99.15%\n",
      "\n",
      "(2/2) Evaluating Column Pair Trends: |██████████| 55/55 [00:00<00:00, 82.26it/s]|\n",
      "Column Pair Trends Score: 99.16%\n",
      "\n",
      "Overall Score (Average): 99.15%\n",
      "\n",
      "Error rate (%) of column-wise density estimation TABDDPM_ON_QNSC_200K_MULT_7: 0.851 ± 0.267\n",
      "Error rate (%) of pair-wise column correlation score TABDDPM_ON_QNSC_200K_MULT_7: 0.842 ± 1.513\n"
     ]
    },
    {
     "data": {
      "text/html": [
       "<iframe\n",
       "    scrolling=\"no\"\n",
       "    width=\"100%\"\n",
       "    height=\"545px\"\n",
       "    src=\"iframe_figures/figure_8.html\"\n",
       "    frameborder=\"0\"\n",
       "    allowfullscreen\n",
       "></iframe>\n"
      ]
     },
     "metadata": {},
     "output_type": "display_data"
    },
    {
     "data": {
      "text/html": [
       "<iframe\n",
       "    scrolling=\"no\"\n",
       "    width=\"920px\"\n",
       "    height=\"920\"\n",
       "    src=\"iframe_figures/figure_8.html\"\n",
       "    frameborder=\"0\"\n",
       "    allowfullscreen\n",
       "></iframe>\n"
      ]
     },
     "metadata": {},
     "output_type": "display_data"
    },
    {
     "name": "stdout",
     "output_type": "stream",
     "text": [
      "DONE! \n",
      "\n",
      "DRAW COLUMN VALUES DISTRIBUTIONS...\n"
     ]
    },
    {
     "data": {
      "text/html": [
       "<iframe\n",
       "    scrolling=\"no\"\n",
       "    width=\"100%\"\n",
       "    height=\"545px\"\n",
       "    src=\"iframe_figures/figure_8.html\"\n",
       "    frameborder=\"0\"\n",
       "    allowfullscreen\n",
       "></iframe>\n"
      ]
     },
     "metadata": {},
     "output_type": "display_data"
    },
    {
     "data": {
      "text/html": [
       "<iframe\n",
       "    scrolling=\"no\"\n",
       "    width=\"100%\"\n",
       "    height=\"545px\"\n",
       "    src=\"iframe_figures/figure_8.html\"\n",
       "    frameborder=\"0\"\n",
       "    allowfullscreen\n",
       "></iframe>\n"
      ]
     },
     "metadata": {},
     "output_type": "display_data"
    },
    {
     "data": {
      "text/html": [
       "<iframe\n",
       "    scrolling=\"no\"\n",
       "    width=\"100%\"\n",
       "    height=\"545px\"\n",
       "    src=\"iframe_figures/figure_8.html\"\n",
       "    frameborder=\"0\"\n",
       "    allowfullscreen\n",
       "></iframe>\n"
      ]
     },
     "metadata": {},
     "output_type": "display_data"
    },
    {
     "data": {
      "text/html": [
       "<iframe\n",
       "    scrolling=\"no\"\n",
       "    width=\"100%\"\n",
       "    height=\"545px\"\n",
       "    src=\"iframe_figures/figure_8.html\"\n",
       "    frameborder=\"0\"\n",
       "    allowfullscreen\n",
       "></iframe>\n"
      ]
     },
     "metadata": {},
     "output_type": "display_data"
    },
    {
     "data": {
      "text/html": [
       "<iframe\n",
       "    scrolling=\"no\"\n",
       "    width=\"100%\"\n",
       "    height=\"545px\"\n",
       "    src=\"iframe_figures/figure_8.html\"\n",
       "    frameborder=\"0\"\n",
       "    allowfullscreen\n",
       "></iframe>\n"
      ]
     },
     "metadata": {},
     "output_type": "display_data"
    },
    {
     "data": {
      "text/html": [
       "<iframe\n",
       "    scrolling=\"no\"\n",
       "    width=\"100%\"\n",
       "    height=\"545px\"\n",
       "    src=\"iframe_figures/figure_8.html\"\n",
       "    frameborder=\"0\"\n",
       "    allowfullscreen\n",
       "></iframe>\n"
      ]
     },
     "metadata": {},
     "output_type": "display_data"
    },
    {
     "data": {
      "text/html": [
       "<iframe\n",
       "    scrolling=\"no\"\n",
       "    width=\"100%\"\n",
       "    height=\"545px\"\n",
       "    src=\"iframe_figures/figure_8.html\"\n",
       "    frameborder=\"0\"\n",
       "    allowfullscreen\n",
       "></iframe>\n"
      ]
     },
     "metadata": {},
     "output_type": "display_data"
    },
    {
     "data": {
      "text/html": [
       "<iframe\n",
       "    scrolling=\"no\"\n",
       "    width=\"100%\"\n",
       "    height=\"545px\"\n",
       "    src=\"iframe_figures/figure_8.html\"\n",
       "    frameborder=\"0\"\n",
       "    allowfullscreen\n",
       "></iframe>\n"
      ]
     },
     "metadata": {},
     "output_type": "display_data"
    },
    {
     "data": {
      "text/html": [
       "<iframe\n",
       "    scrolling=\"no\"\n",
       "    width=\"100%\"\n",
       "    height=\"545px\"\n",
       "    src=\"iframe_figures/figure_8.html\"\n",
       "    frameborder=\"0\"\n",
       "    allowfullscreen\n",
       "></iframe>\n"
      ]
     },
     "metadata": {},
     "output_type": "display_data"
    },
    {
     "data": {
      "text/html": [
       "<iframe\n",
       "    scrolling=\"no\"\n",
       "    width=\"100%\"\n",
       "    height=\"545px\"\n",
       "    src=\"iframe_figures/figure_8.html\"\n",
       "    frameborder=\"0\"\n",
       "    allowfullscreen\n",
       "></iframe>\n"
      ]
     },
     "metadata": {},
     "output_type": "display_data"
    },
    {
     "data": {
      "text/html": [
       "<iframe\n",
       "    scrolling=\"no\"\n",
       "    width=\"100%\"\n",
       "    height=\"545px\"\n",
       "    src=\"iframe_figures/figure_8.html\"\n",
       "    frameborder=\"0\"\n",
       "    allowfullscreen\n",
       "></iframe>\n"
      ]
     },
     "metadata": {},
     "output_type": "display_data"
    },
    {
     "name": "stdout",
     "output_type": "stream",
     "text": [
      "DONE!\n"
     ]
    },
    {
     "name": "stderr",
     "output_type": "stream",
     "text": [
      "100%|██████████| 36/36 [00:07<00:00,  4.88it/s]\n"
     ]
    },
    {
     "name": "stdout",
     "output_type": "stream",
     "text": [
      "Saving scores to  eval/mle/magic_ON_QnSC_200k/tabddpm_ON_QnSC_200k_mult_7.json\n",
      "ROC - AUC обучения на синтетических данных TABDDPM_ON_QNSC_200K_MULT_7: 0.928 ± 0.007\n",
      "magic_ON_QnSC_200k, tabddpm_ON_QnSC_200k_mult_7: 0.9915487545736739\n",
      "n_clusters: 25\n",
      "DCR Score, a value closer to 0.5 is better\n",
      "magic_ON_QnSC_200k-tabddpm_ON_QnSC_200k_mult_7, DCR Score = 0.5137866573197803\n",
      "=========== All Features ===========\n",
      "Data shape:  (17118, 12)\n",
      "alpha precision: 0.982023, beta recall: 0.493146\n",
      "./models/tabddpm_ON_QnSC/ckpt/magic/tabddpm_ON_QnSC_200k_mult_8 tabddpm_ON_QnSC_200k_mult_8 ./synthetic/magic_ON_QnSC_200k/tabddpm_ON_QnSC_200k_mult_8.csv\n",
      "No NaNs in numerical features, skipping\n",
      "mlp\n",
      "Sample timestep    0\n",
      "Sample timestep    0\n",
      "Shape torch.Size([17118, 11])\n",
      "Sampling time: 96.05544304847717\n",
      "Sample path changed to ./synthetic/magic_ON_QnSC_200k/initial_tabddpm_ON_QnSC_200k_mult_8.csv\n",
      "TABDDPM_ON_QNSC_200K_MULT_8: MAGIC_ON_QNSC_200K Dataset\n",
      "Original Logistic: 0.833\n",
      "Synthetic Logistic: 0.832\n",
      "Original Tree: 0.872\n",
      "Synthetic Tree: 0.870 \n",
      "\n",
      "TABDDPM_ON_QNSC_200K_MULT_8 Accuracy Loss: MAGIC_ON_QNSC_200K\n",
      "Logistic: 0.175%\n",
      "Tree: 0.216% \n",
      "\n",
      "CALCULATING COLUMN-WISE DENSITY ESTIMATION & PAIR-WISE COLUMN CORRELATION...\n",
      "Generating report ...\n",
      "\n",
      "(1/2) Evaluating Column Shapes: |██████████| 11/11 [00:00<00:00, 118.65it/s]|\n",
      "Column Shapes Score: 99.22%\n",
      "\n",
      "(2/2) Evaluating Column Pair Trends: |██████████| 55/55 [00:00<00:00, 89.74it/s]|\n",
      "Column Pair Trends Score: 98.48%\n",
      "\n",
      "Overall Score (Average): 98.85%\n",
      "\n",
      "Error rate (%) of column-wise density estimation TABDDPM_ON_QNSC_200K_MULT_8: 0.782 ± 0.263\n",
      "Error rate (%) of pair-wise column correlation score TABDDPM_ON_QNSC_200K_MULT_8: 1.521 ± 4.086\n"
     ]
    },
    {
     "data": {
      "text/html": [
       "<iframe\n",
       "    scrolling=\"no\"\n",
       "    width=\"100%\"\n",
       "    height=\"545px\"\n",
       "    src=\"iframe_figures/figure_8.html\"\n",
       "    frameborder=\"0\"\n",
       "    allowfullscreen\n",
       "></iframe>\n"
      ]
     },
     "metadata": {},
     "output_type": "display_data"
    },
    {
     "data": {
      "text/html": [
       "<iframe\n",
       "    scrolling=\"no\"\n",
       "    width=\"920px\"\n",
       "    height=\"920\"\n",
       "    src=\"iframe_figures/figure_8.html\"\n",
       "    frameborder=\"0\"\n",
       "    allowfullscreen\n",
       "></iframe>\n"
      ]
     },
     "metadata": {},
     "output_type": "display_data"
    },
    {
     "name": "stdout",
     "output_type": "stream",
     "text": [
      "DONE! \n",
      "\n",
      "DRAW COLUMN VALUES DISTRIBUTIONS...\n"
     ]
    },
    {
     "data": {
      "text/html": [
       "<iframe\n",
       "    scrolling=\"no\"\n",
       "    width=\"100%\"\n",
       "    height=\"545px\"\n",
       "    src=\"iframe_figures/figure_8.html\"\n",
       "    frameborder=\"0\"\n",
       "    allowfullscreen\n",
       "></iframe>\n"
      ]
     },
     "metadata": {},
     "output_type": "display_data"
    },
    {
     "data": {
      "text/html": [
       "<iframe\n",
       "    scrolling=\"no\"\n",
       "    width=\"100%\"\n",
       "    height=\"545px\"\n",
       "    src=\"iframe_figures/figure_8.html\"\n",
       "    frameborder=\"0\"\n",
       "    allowfullscreen\n",
       "></iframe>\n"
      ]
     },
     "metadata": {},
     "output_type": "display_data"
    },
    {
     "data": {
      "text/html": [
       "<iframe\n",
       "    scrolling=\"no\"\n",
       "    width=\"100%\"\n",
       "    height=\"545px\"\n",
       "    src=\"iframe_figures/figure_8.html\"\n",
       "    frameborder=\"0\"\n",
       "    allowfullscreen\n",
       "></iframe>\n"
      ]
     },
     "metadata": {},
     "output_type": "display_data"
    },
    {
     "data": {
      "text/html": [
       "<iframe\n",
       "    scrolling=\"no\"\n",
       "    width=\"100%\"\n",
       "    height=\"545px\"\n",
       "    src=\"iframe_figures/figure_8.html\"\n",
       "    frameborder=\"0\"\n",
       "    allowfullscreen\n",
       "></iframe>\n"
      ]
     },
     "metadata": {},
     "output_type": "display_data"
    },
    {
     "data": {
      "text/html": [
       "<iframe\n",
       "    scrolling=\"no\"\n",
       "    width=\"100%\"\n",
       "    height=\"545px\"\n",
       "    src=\"iframe_figures/figure_8.html\"\n",
       "    frameborder=\"0\"\n",
       "    allowfullscreen\n",
       "></iframe>\n"
      ]
     },
     "metadata": {},
     "output_type": "display_data"
    },
    {
     "data": {
      "text/html": [
       "<iframe\n",
       "    scrolling=\"no\"\n",
       "    width=\"100%\"\n",
       "    height=\"545px\"\n",
       "    src=\"iframe_figures/figure_8.html\"\n",
       "    frameborder=\"0\"\n",
       "    allowfullscreen\n",
       "></iframe>\n"
      ]
     },
     "metadata": {},
     "output_type": "display_data"
    },
    {
     "data": {
      "text/html": [
       "<iframe\n",
       "    scrolling=\"no\"\n",
       "    width=\"100%\"\n",
       "    height=\"545px\"\n",
       "    src=\"iframe_figures/figure_8.html\"\n",
       "    frameborder=\"0\"\n",
       "    allowfullscreen\n",
       "></iframe>\n"
      ]
     },
     "metadata": {},
     "output_type": "display_data"
    },
    {
     "data": {
      "text/html": [
       "<iframe\n",
       "    scrolling=\"no\"\n",
       "    width=\"100%\"\n",
       "    height=\"545px\"\n",
       "    src=\"iframe_figures/figure_8.html\"\n",
       "    frameborder=\"0\"\n",
       "    allowfullscreen\n",
       "></iframe>\n"
      ]
     },
     "metadata": {},
     "output_type": "display_data"
    },
    {
     "data": {
      "text/html": [
       "<iframe\n",
       "    scrolling=\"no\"\n",
       "    width=\"100%\"\n",
       "    height=\"545px\"\n",
       "    src=\"iframe_figures/figure_8.html\"\n",
       "    frameborder=\"0\"\n",
       "    allowfullscreen\n",
       "></iframe>\n"
      ]
     },
     "metadata": {},
     "output_type": "display_data"
    },
    {
     "data": {
      "text/html": [
       "<iframe\n",
       "    scrolling=\"no\"\n",
       "    width=\"100%\"\n",
       "    height=\"545px\"\n",
       "    src=\"iframe_figures/figure_8.html\"\n",
       "    frameborder=\"0\"\n",
       "    allowfullscreen\n",
       "></iframe>\n"
      ]
     },
     "metadata": {},
     "output_type": "display_data"
    },
    {
     "data": {
      "text/html": [
       "<iframe\n",
       "    scrolling=\"no\"\n",
       "    width=\"100%\"\n",
       "    height=\"545px\"\n",
       "    src=\"iframe_figures/figure_8.html\"\n",
       "    frameborder=\"0\"\n",
       "    allowfullscreen\n",
       "></iframe>\n"
      ]
     },
     "metadata": {},
     "output_type": "display_data"
    },
    {
     "name": "stdout",
     "output_type": "stream",
     "text": [
      "DONE!\n"
     ]
    },
    {
     "name": "stderr",
     "output_type": "stream",
     "text": [
      "100%|██████████| 36/36 [00:07<00:00,  4.96it/s]\n"
     ]
    },
    {
     "name": "stdout",
     "output_type": "stream",
     "text": [
      "Saving scores to  eval/mle/magic_ON_QnSC_200k/tabddpm_ON_QnSC_200k_mult_8.json\n",
      "ROC - AUC обучения на синтетических данных TABDDPM_ON_QNSC_200K_MULT_8: 0.922 ± 0.007\n",
      "magic_ON_QnSC_200k, tabddpm_ON_QnSC_200k_mult_8: 1.0\n",
      "n_clusters: 25\n",
      "DCR Score, a value closer to 0.5 is better\n",
      "magic_ON_QnSC_200k-tabddpm_ON_QnSC_200k_mult_8, DCR Score = 0.5202710597032364\n",
      "=========== All Features ===========\n",
      "Data shape:  (17118, 12)\n",
      "alpha precision: 0.990740, beta recall: 0.496316\n",
      "./models/tabddpm_ON_QnSC/ckpt/magic/tabddpm_ON_QnSC_200k_mult_9 tabddpm_ON_QnSC_200k_mult_9 ./synthetic/magic_ON_QnSC_200k/tabddpm_ON_QnSC_200k_mult_9.csv\n",
      "No NaNs in numerical features, skipping\n",
      "mlp\n",
      "Sample timestep    0\n",
      "Sample timestep    0\n",
      "Shape torch.Size([17118, 11])\n",
      "Sampling time: 95.16340065002441\n",
      "Sample path changed to ./synthetic/magic_ON_QnSC_200k/initial_tabddpm_ON_QnSC_200k_mult_9.csv\n",
      "TABDDPM_ON_QNSC_200K_MULT_9: MAGIC_ON_QNSC_200K Dataset\n",
      "Original Logistic: 0.833\n",
      "Synthetic Logistic: 0.832\n",
      "Original Tree: 0.872\n",
      "Synthetic Tree: 0.861 \n",
      "\n",
      "TABDDPM_ON_QNSC_200K_MULT_9 Accuracy Loss: MAGIC_ON_QNSC_200K\n",
      "Logistic: 0.176%\n",
      "Tree: 1.243% \n",
      "\n",
      "CALCULATING COLUMN-WISE DENSITY ESTIMATION & PAIR-WISE COLUMN CORRELATION...\n",
      "Generating report ...\n",
      "\n",
      "(1/2) Evaluating Column Shapes: |██████████| 11/11 [00:00<00:00, 97.45it/s]| \n",
      "Column Shapes Score: 99.12%\n",
      "\n",
      "(2/2) Evaluating Column Pair Trends: |██████████| 55/55 [00:00<00:00, 85.30it/s]|\n",
      "Column Pair Trends Score: 98.33%\n",
      "\n",
      "Overall Score (Average): 98.73%\n",
      "\n",
      "Error rate (%) of column-wise density estimation TABDDPM_ON_QNSC_200K_MULT_9: 0.879 ± 0.369\n",
      "Error rate (%) of pair-wise column correlation score TABDDPM_ON_QNSC_200K_MULT_9: 1.665 ± 3.897\n"
     ]
    },
    {
     "data": {
      "text/html": [
       "<iframe\n",
       "    scrolling=\"no\"\n",
       "    width=\"100%\"\n",
       "    height=\"545px\"\n",
       "    src=\"iframe_figures/figure_8.html\"\n",
       "    frameborder=\"0\"\n",
       "    allowfullscreen\n",
       "></iframe>\n"
      ]
     },
     "metadata": {},
     "output_type": "display_data"
    },
    {
     "data": {
      "text/html": [
       "<iframe\n",
       "    scrolling=\"no\"\n",
       "    width=\"920px\"\n",
       "    height=\"920\"\n",
       "    src=\"iframe_figures/figure_8.html\"\n",
       "    frameborder=\"0\"\n",
       "    allowfullscreen\n",
       "></iframe>\n"
      ]
     },
     "metadata": {},
     "output_type": "display_data"
    },
    {
     "name": "stdout",
     "output_type": "stream",
     "text": [
      "DONE! \n",
      "\n",
      "DRAW COLUMN VALUES DISTRIBUTIONS...\n"
     ]
    },
    {
     "data": {
      "text/html": [
       "<iframe\n",
       "    scrolling=\"no\"\n",
       "    width=\"100%\"\n",
       "    height=\"545px\"\n",
       "    src=\"iframe_figures/figure_8.html\"\n",
       "    frameborder=\"0\"\n",
       "    allowfullscreen\n",
       "></iframe>\n"
      ]
     },
     "metadata": {},
     "output_type": "display_data"
    },
    {
     "data": {
      "text/html": [
       "<iframe\n",
       "    scrolling=\"no\"\n",
       "    width=\"100%\"\n",
       "    height=\"545px\"\n",
       "    src=\"iframe_figures/figure_8.html\"\n",
       "    frameborder=\"0\"\n",
       "    allowfullscreen\n",
       "></iframe>\n"
      ]
     },
     "metadata": {},
     "output_type": "display_data"
    },
    {
     "data": {
      "text/html": [
       "<iframe\n",
       "    scrolling=\"no\"\n",
       "    width=\"100%\"\n",
       "    height=\"545px\"\n",
       "    src=\"iframe_figures/figure_8.html\"\n",
       "    frameborder=\"0\"\n",
       "    allowfullscreen\n",
       "></iframe>\n"
      ]
     },
     "metadata": {},
     "output_type": "display_data"
    },
    {
     "data": {
      "text/html": [
       "<iframe\n",
       "    scrolling=\"no\"\n",
       "    width=\"100%\"\n",
       "    height=\"545px\"\n",
       "    src=\"iframe_figures/figure_8.html\"\n",
       "    frameborder=\"0\"\n",
       "    allowfullscreen\n",
       "></iframe>\n"
      ]
     },
     "metadata": {},
     "output_type": "display_data"
    },
    {
     "data": {
      "text/html": [
       "<iframe\n",
       "    scrolling=\"no\"\n",
       "    width=\"100%\"\n",
       "    height=\"545px\"\n",
       "    src=\"iframe_figures/figure_8.html\"\n",
       "    frameborder=\"0\"\n",
       "    allowfullscreen\n",
       "></iframe>\n"
      ]
     },
     "metadata": {},
     "output_type": "display_data"
    },
    {
     "data": {
      "text/html": [
       "<iframe\n",
       "    scrolling=\"no\"\n",
       "    width=\"100%\"\n",
       "    height=\"545px\"\n",
       "    src=\"iframe_figures/figure_8.html\"\n",
       "    frameborder=\"0\"\n",
       "    allowfullscreen\n",
       "></iframe>\n"
      ]
     },
     "metadata": {},
     "output_type": "display_data"
    },
    {
     "data": {
      "text/html": [
       "<iframe\n",
       "    scrolling=\"no\"\n",
       "    width=\"100%\"\n",
       "    height=\"545px\"\n",
       "    src=\"iframe_figures/figure_8.html\"\n",
       "    frameborder=\"0\"\n",
       "    allowfullscreen\n",
       "></iframe>\n"
      ]
     },
     "metadata": {},
     "output_type": "display_data"
    },
    {
     "data": {
      "text/html": [
       "<iframe\n",
       "    scrolling=\"no\"\n",
       "    width=\"100%\"\n",
       "    height=\"545px\"\n",
       "    src=\"iframe_figures/figure_8.html\"\n",
       "    frameborder=\"0\"\n",
       "    allowfullscreen\n",
       "></iframe>\n"
      ]
     },
     "metadata": {},
     "output_type": "display_data"
    },
    {
     "data": {
      "text/html": [
       "<iframe\n",
       "    scrolling=\"no\"\n",
       "    width=\"100%\"\n",
       "    height=\"545px\"\n",
       "    src=\"iframe_figures/figure_8.html\"\n",
       "    frameborder=\"0\"\n",
       "    allowfullscreen\n",
       "></iframe>\n"
      ]
     },
     "metadata": {},
     "output_type": "display_data"
    },
    {
     "data": {
      "text/html": [
       "<iframe\n",
       "    scrolling=\"no\"\n",
       "    width=\"100%\"\n",
       "    height=\"545px\"\n",
       "    src=\"iframe_figures/figure_8.html\"\n",
       "    frameborder=\"0\"\n",
       "    allowfullscreen\n",
       "></iframe>\n"
      ]
     },
     "metadata": {},
     "output_type": "display_data"
    },
    {
     "data": {
      "text/html": [
       "<iframe\n",
       "    scrolling=\"no\"\n",
       "    width=\"100%\"\n",
       "    height=\"545px\"\n",
       "    src=\"iframe_figures/figure_8.html\"\n",
       "    frameborder=\"0\"\n",
       "    allowfullscreen\n",
       "></iframe>\n"
      ]
     },
     "metadata": {},
     "output_type": "display_data"
    },
    {
     "name": "stdout",
     "output_type": "stream",
     "text": [
      "DONE!\n"
     ]
    },
    {
     "name": "stderr",
     "output_type": "stream",
     "text": [
      "100%|██████████| 36/36 [00:07<00:00,  5.04it/s]\n"
     ]
    },
    {
     "name": "stdout",
     "output_type": "stream",
     "text": [
      "Saving scores to  eval/mle/magic_ON_QnSC_200k/tabddpm_ON_QnSC_200k_mult_9.json\n",
      "ROC - AUC обучения на синтетических данных TABDDPM_ON_QNSC_200K_MULT_9: 0.934 ± 0.005\n",
      "magic_ON_QnSC_200k, tabddpm_ON_QnSC_200k_mult_9: 0.9979936587453607\n",
      "n_clusters: 25\n",
      "DCR Score, a value closer to 0.5 is better\n",
      "magic_ON_QnSC_200k-tabddpm_ON_QnSC_200k_mult_9, DCR Score = 0.5209720761771235\n",
      "=========== All Features ===========\n",
      "Data shape:  (17118, 12)\n",
      "alpha precision: 0.993891, beta recall: 0.516112\n"
     ]
    }
   ],
   "source": [
    "overall_metrics = {}\n",
    "\n",
    "for model_save_path in model_save_path_hist:\n",
    "    model_name = model_save_path.split('/')[-1]\n",
    "    sample_save_path = f'./synthetic/{dataname}/{model_name}.csv'\n",
    "\n",
    "    CONFIG.add_arg('method', model_name)\n",
    "    CONFIG.add_arg('sample_save_path',\n",
    "                       f\"synthetic/{CONFIG.get_arg('dataname')}/{CONFIG.get_arg('method')}.csv\")\n",
    "\n",
    "    overall_metrics[model_name] = {}\n",
    "\n",
    "    print(model_save_path, model_name, sample_save_path)\n",
    "\n",
    "    tabddpm_noise_ohe = TabDDPM_OHE_Noise_QnSC(CONFIG, model_save_path=model_save_path, sigmas=None)\n",
    "    tabddpm_noise_ohe.sample(sample_save_path=sample_save_path)\n",
    "    postsample_OHE(dataname, f'./synthetic/{dataname}/initial_{model_name}.csv', normalizers=normalizers, target_cat=target_cat)\n",
    "\n",
    "    # подсчет метрик\n",
    "    try:\n",
    "        overall_metrics[model_name]['base_metrics'] = calculate_base_metrics(make_binary=False)\n",
    "    except Exception as e:\n",
    "        overall_metrics[model_name]['base_metrics'] = np.nan\n",
    "    overall_metrics[model_name]['similarity'] = calculate_similarity()\n",
    "    overall_metrics[model_name]['mle'] = calculate_mle()\n",
    "    overall_metrics[model_name]['detection'] = calculate_detection()\n",
    "    overall_metrics[model_name]['DCR'] = calculate_DCR()\n",
    "    overall_metrics[model_name]['quality'] = calculate_alpha_beta()"
   ]
  },
  {
   "cell_type": "code",
   "execution_count": 9,
   "metadata": {},
   "outputs": [],
   "source": [
    "final_metrics_table = []\n",
    "for m in overall_metrics.keys():\n",
    "    # Сбор таблички результатов\n",
    "    tmp = pd.DataFrame([{'Model':model_short, 'Type':m, 'Data':dataname_initial}])\n",
    "    tmp.columns = pd.MultiIndex.from_tuples([('', i) for i in tmp.columns])\n",
    "    result = [tmp]\n",
    "    \n",
    "    for metric_group in overall_metrics[m].keys():\n",
    "        tmp = pd.DataFrame([overall_metrics[m][metric_group]])\n",
    "        tmp.columns = pd.MultiIndex.from_tuples([(metric_group, i) for i in tmp.columns])\n",
    "        result.append(tmp)\n",
    "    result = pd.concat(result, axis = 1)\n",
    "    final_metrics_table.append(result)\n",
    "    \n",
    "final_metrics_table = pd.concat(final_metrics_table)"
   ]
  },
  {
   "cell_type": "code",
   "execution_count": 11,
   "metadata": {},
   "outputs": [
    {
     "data": {
      "text/html": [
       "<div>\n",
       "<style scoped>\n",
       "    .dataframe tbody tr th:only-of-type {\n",
       "        vertical-align: middle;\n",
       "    }\n",
       "\n",
       "    .dataframe tbody tr th {\n",
       "        vertical-align: top;\n",
       "    }\n",
       "\n",
       "    .dataframe thead tr th {\n",
       "        text-align: left;\n",
       "    }\n",
       "</style>\n",
       "<table border=\"1\" class=\"dataframe\">\n",
       "  <thead>\n",
       "    <tr>\n",
       "      <th></th>\n",
       "      <th colspan=\"3\" halign=\"left\"></th>\n",
       "      <th colspan=\"6\" halign=\"left\">base_metrics</th>\n",
       "      <th colspan=\"7\" halign=\"left\">similarity</th>\n",
       "      <th colspan=\"2\" halign=\"left\">mle</th>\n",
       "      <th>detection</th>\n",
       "      <th>DCR</th>\n",
       "      <th colspan=\"2\" halign=\"left\">quality</th>\n",
       "    </tr>\n",
       "    <tr>\n",
       "      <th></th>\n",
       "      <th>Model</th>\n",
       "      <th>Type</th>\n",
       "      <th>Data</th>\n",
       "      <th>Original Logistic</th>\n",
       "      <th>Synthetic Logistic</th>\n",
       "      <th>Original Tree</th>\n",
       "      <th>Synthetic Tree</th>\n",
       "      <th>Accuracy Loss Logistic, %</th>\n",
       "      <th>Accuracy Loss Tree, %</th>\n",
       "      <th>Column Shapes Score, %</th>\n",
       "      <th>Column Pair Trends Score, %</th>\n",
       "      <th>Overall Score (Average), %</th>\n",
       "      <th>Error rate (%) of column-wise density estimation, %</th>\n",
       "      <th>Error rate (%) of column-wise density estimation std, %</th>\n",
       "      <th>Error rate (%) of pair-wise column correlation score, %</th>\n",
       "      <th>Error rate (%) of pair-wise column correlation score std, %</th>\n",
       "      <th>ROC - AUC обучения на синтетических данных</th>\n",
       "      <th>ROC - AUC обучения на синтетических данных, std</th>\n",
       "      <th>Score</th>\n",
       "      <th>Score</th>\n",
       "      <th>alpha precision</th>\n",
       "      <th>beta recall</th>\n",
       "    </tr>\n",
       "  </thead>\n",
       "  <tbody>\n",
       "    <tr>\n",
       "      <th>0</th>\n",
       "      <td>tabddpm_ON_QnSC</td>\n",
       "      <td>tabddpm_ON_QnSC_200k_mult_7</td>\n",
       "      <td>magic</td>\n",
       "      <td>0.8331</td>\n",
       "      <td>0.8327</td>\n",
       "      <td>0.8720</td>\n",
       "      <td>0.8523</td>\n",
       "      <td>0.0419</td>\n",
       "      <td>2.2670</td>\n",
       "      <td>99.1487</td>\n",
       "      <td>99.1581</td>\n",
       "      <td>99.1534</td>\n",
       "      <td>0.8513</td>\n",
       "      <td>0.2675</td>\n",
       "      <td>0.8419</td>\n",
       "      <td>1.5129</td>\n",
       "      <td>0.9279</td>\n",
       "      <td>0.0069</td>\n",
       "      <td>0.9915</td>\n",
       "      <td>0.5138</td>\n",
       "      <td>0.9820</td>\n",
       "      <td>0.4931</td>\n",
       "    </tr>\n",
       "    <tr>\n",
       "      <th>0</th>\n",
       "      <td>tabddpm_ON_QnSC</td>\n",
       "      <td>tabddpm_ON_QnSC_200k_mult_2</td>\n",
       "      <td>magic</td>\n",
       "      <td>0.8331</td>\n",
       "      <td>0.8342</td>\n",
       "      <td>0.8720</td>\n",
       "      <td>0.8683</td>\n",
       "      <td>-0.1333</td>\n",
       "      <td>0.4322</td>\n",
       "      <td>99.2549</td>\n",
       "      <td>98.9354</td>\n",
       "      <td>99.0951</td>\n",
       "      <td>0.7451</td>\n",
       "      <td>0.2965</td>\n",
       "      <td>1.0646</td>\n",
       "      <td>2.2949</td>\n",
       "      <td>0.9134</td>\n",
       "      <td>0.0062</td>\n",
       "      <td>0.9937</td>\n",
       "      <td>0.5127</td>\n",
       "      <td>0.9918</td>\n",
       "      <td>0.4950</td>\n",
       "    </tr>\n",
       "    <tr>\n",
       "      <th>0</th>\n",
       "      <td>tabddpm_ON_QnSC</td>\n",
       "      <td>tabddpm_ON_QnSC_200k_mult_1</td>\n",
       "      <td>magic</td>\n",
       "      <td>0.8331</td>\n",
       "      <td>0.8301</td>\n",
       "      <td>0.8720</td>\n",
       "      <td>0.8629</td>\n",
       "      <td>0.3499</td>\n",
       "      <td>1.0516</td>\n",
       "      <td>99.2746</td>\n",
       "      <td>98.6899</td>\n",
       "      <td>98.9822</td>\n",
       "      <td>0.7254</td>\n",
       "      <td>0.3208</td>\n",
       "      <td>1.3101</td>\n",
       "      <td>2.5352</td>\n",
       "      <td>0.9191</td>\n",
       "      <td>0.0054</td>\n",
       "      <td>1.0000</td>\n",
       "      <td>0.5137</td>\n",
       "      <td>0.9919</td>\n",
       "      <td>0.4955</td>\n",
       "    </tr>\n",
       "    <tr>\n",
       "      <th>0</th>\n",
       "      <td>tabddpm_ON_QnSC</td>\n",
       "      <td>tabddpm_ON_QnSC_200k_const_0_1</td>\n",
       "      <td>magic</td>\n",
       "      <td>0.8331</td>\n",
       "      <td>0.8315</td>\n",
       "      <td>0.8720</td>\n",
       "      <td>0.8718</td>\n",
       "      <td>0.1916</td>\n",
       "      <td>0.0259</td>\n",
       "      <td>99.1768</td>\n",
       "      <td>98.6887</td>\n",
       "      <td>98.9328</td>\n",
       "      <td>0.8232</td>\n",
       "      <td>0.2893</td>\n",
       "      <td>1.3113</td>\n",
       "      <td>2.6056</td>\n",
       "      <td>0.9330</td>\n",
       "      <td>0.0050</td>\n",
       "      <td>0.9950</td>\n",
       "      <td>0.5384</td>\n",
       "      <td>0.9943</td>\n",
       "      <td>0.4802</td>\n",
       "    </tr>\n",
       "    <tr>\n",
       "      <th>0</th>\n",
       "      <td>tabddpm_ON_QnSC</td>\n",
       "      <td>tabddpm_ON_QnSC_200k_mult_5</td>\n",
       "      <td>magic</td>\n",
       "      <td>0.8331</td>\n",
       "      <td>0.8326</td>\n",
       "      <td>0.8720</td>\n",
       "      <td>0.8590</td>\n",
       "      <td>0.0501</td>\n",
       "      <td>1.4961</td>\n",
       "      <td>99.2613</td>\n",
       "      <td>98.5472</td>\n",
       "      <td>98.9043</td>\n",
       "      <td>0.7387</td>\n",
       "      <td>0.1800</td>\n",
       "      <td>1.4528</td>\n",
       "      <td>4.7136</td>\n",
       "      <td>0.9215</td>\n",
       "      <td>0.0080</td>\n",
       "      <td>1.0000</td>\n",
       "      <td>0.5062</td>\n",
       "      <td>0.9947</td>\n",
       "      <td>0.4979</td>\n",
       "    </tr>\n",
       "    <tr>\n",
       "      <th>0</th>\n",
       "      <td>tabddpm_ON_QnSC</td>\n",
       "      <td>tabddpm_ON_QnSC_200k_mult_8</td>\n",
       "      <td>magic</td>\n",
       "      <td>0.8331</td>\n",
       "      <td>0.8316</td>\n",
       "      <td>0.8720</td>\n",
       "      <td>0.8702</td>\n",
       "      <td>0.1747</td>\n",
       "      <td>0.2163</td>\n",
       "      <td>99.2177</td>\n",
       "      <td>98.4789</td>\n",
       "      <td>98.8483</td>\n",
       "      <td>0.7823</td>\n",
       "      <td>0.2633</td>\n",
       "      <td>1.5211</td>\n",
       "      <td>4.0863</td>\n",
       "      <td>0.9217</td>\n",
       "      <td>0.0073</td>\n",
       "      <td>1.0000</td>\n",
       "      <td>0.5203</td>\n",
       "      <td>0.9907</td>\n",
       "      <td>0.4963</td>\n",
       "    </tr>\n",
       "    <tr>\n",
       "      <th>0</th>\n",
       "      <td>tabddpm_ON_QnSC</td>\n",
       "      <td>tabddpm_ON_QnSC_200k_mult_0</td>\n",
       "      <td>magic</td>\n",
       "      <td>0.8331</td>\n",
       "      <td>0.8331</td>\n",
       "      <td>0.8720</td>\n",
       "      <td>0.8605</td>\n",
       "      <td>-0.0083</td>\n",
       "      <td>1.3210</td>\n",
       "      <td>99.1158</td>\n",
       "      <td>98.5451</td>\n",
       "      <td>98.8304</td>\n",
       "      <td>0.8842</td>\n",
       "      <td>0.3126</td>\n",
       "      <td>1.4549</td>\n",
       "      <td>4.6929</td>\n",
       "      <td>0.9241</td>\n",
       "      <td>0.0040</td>\n",
       "      <td>0.9986</td>\n",
       "      <td>0.5133</td>\n",
       "      <td>0.9893</td>\n",
       "      <td>0.4988</td>\n",
       "    </tr>\n",
       "    <tr>\n",
       "      <th>0</th>\n",
       "      <td>tabddpm_ON_QnSC</td>\n",
       "      <td>tabddpm_ON_QnSC_200k_mult_3</td>\n",
       "      <td>magic</td>\n",
       "      <td>0.8331</td>\n",
       "      <td>0.8277</td>\n",
       "      <td>0.8720</td>\n",
       "      <td>0.8607</td>\n",
       "      <td>0.6428</td>\n",
       "      <td>1.3008</td>\n",
       "      <td>99.2634</td>\n",
       "      <td>98.3674</td>\n",
       "      <td>98.8154</td>\n",
       "      <td>0.7366</td>\n",
       "      <td>0.3182</td>\n",
       "      <td>1.6326</td>\n",
       "      <td>4.3691</td>\n",
       "      <td>0.9246</td>\n",
       "      <td>0.0059</td>\n",
       "      <td>0.9957</td>\n",
       "      <td>0.5189</td>\n",
       "      <td>0.9942</td>\n",
       "      <td>0.5038</td>\n",
       "    </tr>\n",
       "    <tr>\n",
       "      <th>0</th>\n",
       "      <td>tabddpm_ON_QnSC</td>\n",
       "      <td>tabddpm_ON_QnSC_200k_const_0_001</td>\n",
       "      <td>magic</td>\n",
       "      <td>0.8331</td>\n",
       "      <td>0.8311</td>\n",
       "      <td>0.8720</td>\n",
       "      <td>0.8504</td>\n",
       "      <td>0.2344</td>\n",
       "      <td>2.4780</td>\n",
       "      <td>99.0159</td>\n",
       "      <td>98.5007</td>\n",
       "      <td>98.7583</td>\n",
       "      <td>0.9841</td>\n",
       "      <td>0.3028</td>\n",
       "      <td>1.4993</td>\n",
       "      <td>2.5778</td>\n",
       "      <td>0.9516</td>\n",
       "      <td>0.0071</td>\n",
       "      <td>0.9872</td>\n",
       "      <td>0.5550</td>\n",
       "      <td>0.9778</td>\n",
       "      <td>0.6320</td>\n",
       "    </tr>\n",
       "    <tr>\n",
       "      <th>0</th>\n",
       "      <td>tabddpm_ON_QnSC</td>\n",
       "      <td>tabddpm_ON_QnSC_200k_mult_9</td>\n",
       "      <td>magic</td>\n",
       "      <td>0.8331</td>\n",
       "      <td>0.8316</td>\n",
       "      <td>0.8720</td>\n",
       "      <td>0.8612</td>\n",
       "      <td>0.1758</td>\n",
       "      <td>1.2431</td>\n",
       "      <td>99.1205</td>\n",
       "      <td>98.3347</td>\n",
       "      <td>98.7276</td>\n",
       "      <td>0.8795</td>\n",
       "      <td>0.3693</td>\n",
       "      <td>1.6653</td>\n",
       "      <td>3.8965</td>\n",
       "      <td>0.9343</td>\n",
       "      <td>0.0045</td>\n",
       "      <td>0.9980</td>\n",
       "      <td>0.5210</td>\n",
       "      <td>0.9939</td>\n",
       "      <td>0.5161</td>\n",
       "    </tr>\n",
       "    <tr>\n",
       "      <th>0</th>\n",
       "      <td>tabddpm_ON_QnSC</td>\n",
       "      <td>tabddpm_ON_QnSC_200k_const_0_25</td>\n",
       "      <td>magic</td>\n",
       "      <td>0.8331</td>\n",
       "      <td>0.8318</td>\n",
       "      <td>0.8720</td>\n",
       "      <td>0.8621</td>\n",
       "      <td>0.1482</td>\n",
       "      <td>1.1389</td>\n",
       "      <td>98.8375</td>\n",
       "      <td>98.5251</td>\n",
       "      <td>98.6813</td>\n",
       "      <td>1.1625</td>\n",
       "      <td>0.3704</td>\n",
       "      <td>1.4749</td>\n",
       "      <td>1.6929</td>\n",
       "      <td>0.9007</td>\n",
       "      <td>0.0045</td>\n",
       "      <td>0.9927</td>\n",
       "      <td>0.5178</td>\n",
       "      <td>0.9702</td>\n",
       "      <td>0.2562</td>\n",
       "    </tr>\n",
       "    <tr>\n",
       "      <th>0</th>\n",
       "      <td>tabddpm_ON_QnSC</td>\n",
       "      <td>tabddpm_ON_QnSC_200k_mult_6</td>\n",
       "      <td>magic</td>\n",
       "      <td>0.8331</td>\n",
       "      <td>0.8312</td>\n",
       "      <td>0.8720</td>\n",
       "      <td>0.8775</td>\n",
       "      <td>0.2253</td>\n",
       "      <td>-0.6214</td>\n",
       "      <td>99.0547</td>\n",
       "      <td>97.6667</td>\n",
       "      <td>98.3607</td>\n",
       "      <td>0.9453</td>\n",
       "      <td>0.3147</td>\n",
       "      <td>2.3333</td>\n",
       "      <td>7.1887</td>\n",
       "      <td>0.9279</td>\n",
       "      <td>0.0049</td>\n",
       "      <td>0.9942</td>\n",
       "      <td>0.5230</td>\n",
       "      <td>0.9900</td>\n",
       "      <td>0.5130</td>\n",
       "    </tr>\n",
       "    <tr>\n",
       "      <th>0</th>\n",
       "      <td>tabddpm_ON_QnSC</td>\n",
       "      <td>tabddpm_ON_QnSC_200k_mult_4</td>\n",
       "      <td>magic</td>\n",
       "      <td>0.8331</td>\n",
       "      <td>0.8320</td>\n",
       "      <td>0.8720</td>\n",
       "      <td>0.8656</td>\n",
       "      <td>0.1252</td>\n",
       "      <td>0.7387</td>\n",
       "      <td>99.1195</td>\n",
       "      <td>97.5188</td>\n",
       "      <td>98.3191</td>\n",
       "      <td>0.8805</td>\n",
       "      <td>0.2435</td>\n",
       "      <td>2.4812</td>\n",
       "      <td>6.6256</td>\n",
       "      <td>0.9503</td>\n",
       "      <td>0.0059</td>\n",
       "      <td>0.9896</td>\n",
       "      <td>0.5434</td>\n",
       "      <td>0.9800</td>\n",
       "      <td>0.5814</td>\n",
       "    </tr>\n",
       "    <tr>\n",
       "      <th>0</th>\n",
       "      <td>tabddpm_ON_QnSC</td>\n",
       "      <td>tabddpm_ON_QnSC_200k_const_0</td>\n",
       "      <td>magic</td>\n",
       "      <td>0.8331</td>\n",
       "      <td>0.8297</td>\n",
       "      <td>0.8778</td>\n",
       "      <td>0.8718</td>\n",
       "      <td>0.4010</td>\n",
       "      <td>0.6791</td>\n",
       "      <td>98.9575</td>\n",
       "      <td>97.4873</td>\n",
       "      <td>98.2224</td>\n",
       "      <td>1.0425</td>\n",
       "      <td>0.3014</td>\n",
       "      <td>2.5127</td>\n",
       "      <td>6.9954</td>\n",
       "      <td>0.9461</td>\n",
       "      <td>0.0078</td>\n",
       "      <td>0.9796</td>\n",
       "      <td>0.5542</td>\n",
       "      <td>0.9751</td>\n",
       "      <td>0.6439</td>\n",
       "    </tr>\n",
       "    <tr>\n",
       "      <th>0</th>\n",
       "      <td>tabddpm_ON_QnSC</td>\n",
       "      <td>tabddpm_ON_QnSC_200k_const_0_01</td>\n",
       "      <td>magic</td>\n",
       "      <td>0.8331</td>\n",
       "      <td>0.8302</td>\n",
       "      <td>0.8720</td>\n",
       "      <td>0.8598</td>\n",
       "      <td>0.3443</td>\n",
       "      <td>1.4014</td>\n",
       "      <td>98.8338</td>\n",
       "      <td>97.2073</td>\n",
       "      <td>98.0205</td>\n",
       "      <td>1.1662</td>\n",
       "      <td>0.3684</td>\n",
       "      <td>2.7927</td>\n",
       "      <td>8.1743</td>\n",
       "      <td>0.9495</td>\n",
       "      <td>0.0085</td>\n",
       "      <td>0.9759</td>\n",
       "      <td>0.5572</td>\n",
       "      <td>0.9795</td>\n",
       "      <td>0.6494</td>\n",
       "    </tr>\n",
       "    <tr>\n",
       "      <th>0</th>\n",
       "      <td>tabddpm_ON_QnSC</td>\n",
       "      <td>tabddpm_ON_QnSC_200k_const_0_5</td>\n",
       "      <td>magic</td>\n",
       "      <td>0.8331</td>\n",
       "      <td>0.8352</td>\n",
       "      <td>0.8720</td>\n",
       "      <td>0.8433</td>\n",
       "      <td>-0.2531</td>\n",
       "      <td>3.3005</td>\n",
       "      <td>97.1460</td>\n",
       "      <td>96.3473</td>\n",
       "      <td>96.7467</td>\n",
       "      <td>2.8540</td>\n",
       "      <td>0.8648</td>\n",
       "      <td>3.6527</td>\n",
       "      <td>2.6255</td>\n",
       "      <td>0.8188</td>\n",
       "      <td>0.0066</td>\n",
       "      <td>0.9282</td>\n",
       "      <td>0.4994</td>\n",
       "      <td>0.8834</td>\n",
       "      <td>0.0826</td>\n",
       "    </tr>\n",
       "  </tbody>\n",
       "</table>\n",
       "</div>"
      ],
      "text/plain": [
       "                                                                 base_metrics  \\\n",
       "             Model                              Type   Data Original Logistic   \n",
       "0  tabddpm_ON_QnSC       tabddpm_ON_QnSC_200k_mult_7  magic            0.8331   \n",
       "0  tabddpm_ON_QnSC       tabddpm_ON_QnSC_200k_mult_2  magic            0.8331   \n",
       "0  tabddpm_ON_QnSC       tabddpm_ON_QnSC_200k_mult_1  magic            0.8331   \n",
       "0  tabddpm_ON_QnSC    tabddpm_ON_QnSC_200k_const_0_1  magic            0.8331   \n",
       "0  tabddpm_ON_QnSC       tabddpm_ON_QnSC_200k_mult_5  magic            0.8331   \n",
       "0  tabddpm_ON_QnSC       tabddpm_ON_QnSC_200k_mult_8  magic            0.8331   \n",
       "0  tabddpm_ON_QnSC       tabddpm_ON_QnSC_200k_mult_0  magic            0.8331   \n",
       "0  tabddpm_ON_QnSC       tabddpm_ON_QnSC_200k_mult_3  magic            0.8331   \n",
       "0  tabddpm_ON_QnSC  tabddpm_ON_QnSC_200k_const_0_001  magic            0.8331   \n",
       "0  tabddpm_ON_QnSC       tabddpm_ON_QnSC_200k_mult_9  magic            0.8331   \n",
       "0  tabddpm_ON_QnSC   tabddpm_ON_QnSC_200k_const_0_25  magic            0.8331   \n",
       "0  tabddpm_ON_QnSC       tabddpm_ON_QnSC_200k_mult_6  magic            0.8331   \n",
       "0  tabddpm_ON_QnSC       tabddpm_ON_QnSC_200k_mult_4  magic            0.8331   \n",
       "0  tabddpm_ON_QnSC      tabddpm_ON_QnSC_200k_const_0  magic            0.8331   \n",
       "0  tabddpm_ON_QnSC   tabddpm_ON_QnSC_200k_const_0_01  magic            0.8331   \n",
       "0  tabddpm_ON_QnSC    tabddpm_ON_QnSC_200k_const_0_5  magic            0.8331   \n",
       "\n",
       "                                                                             \\\n",
       "  Synthetic Logistic Original Tree Synthetic Tree Accuracy Loss Logistic, %   \n",
       "0             0.8327        0.8720         0.8523                    0.0419   \n",
       "0             0.8342        0.8720         0.8683                   -0.1333   \n",
       "0             0.8301        0.8720         0.8629                    0.3499   \n",
       "0             0.8315        0.8720         0.8718                    0.1916   \n",
       "0             0.8326        0.8720         0.8590                    0.0501   \n",
       "0             0.8316        0.8720         0.8702                    0.1747   \n",
       "0             0.8331        0.8720         0.8605                   -0.0083   \n",
       "0             0.8277        0.8720         0.8607                    0.6428   \n",
       "0             0.8311        0.8720         0.8504                    0.2344   \n",
       "0             0.8316        0.8720         0.8612                    0.1758   \n",
       "0             0.8318        0.8720         0.8621                    0.1482   \n",
       "0             0.8312        0.8720         0.8775                    0.2253   \n",
       "0             0.8320        0.8720         0.8656                    0.1252   \n",
       "0             0.8297        0.8778         0.8718                    0.4010   \n",
       "0             0.8302        0.8720         0.8598                    0.3443   \n",
       "0             0.8352        0.8720         0.8433                   -0.2531   \n",
       "\n",
       "                                    similarity                              \\\n",
       "  Accuracy Loss Tree, % Column Shapes Score, % Column Pair Trends Score, %   \n",
       "0                2.2670                99.1487                     99.1581   \n",
       "0                0.4322                99.2549                     98.9354   \n",
       "0                1.0516                99.2746                     98.6899   \n",
       "0                0.0259                99.1768                     98.6887   \n",
       "0                1.4961                99.2613                     98.5472   \n",
       "0                0.2163                99.2177                     98.4789   \n",
       "0                1.3210                99.1158                     98.5451   \n",
       "0                1.3008                99.2634                     98.3674   \n",
       "0                2.4780                99.0159                     98.5007   \n",
       "0                1.2431                99.1205                     98.3347   \n",
       "0                1.1389                98.8375                     98.5251   \n",
       "0               -0.6214                99.0547                     97.6667   \n",
       "0                0.7387                99.1195                     97.5188   \n",
       "0                0.6791                98.9575                     97.4873   \n",
       "0                1.4014                98.8338                     97.2073   \n",
       "0                3.3005                97.1460                     96.3473   \n",
       "\n",
       "                              \\\n",
       "  Overall Score (Average), %   \n",
       "0                    99.1534   \n",
       "0                    99.0951   \n",
       "0                    98.9822   \n",
       "0                    98.9328   \n",
       "0                    98.9043   \n",
       "0                    98.8483   \n",
       "0                    98.8304   \n",
       "0                    98.8154   \n",
       "0                    98.7583   \n",
       "0                    98.7276   \n",
       "0                    98.6813   \n",
       "0                    98.3607   \n",
       "0                    98.3191   \n",
       "0                    98.2224   \n",
       "0                    98.0205   \n",
       "0                    96.7467   \n",
       "\n",
       "                                                       \\\n",
       "  Error rate (%) of column-wise density estimation, %   \n",
       "0                                              0.8513   \n",
       "0                                              0.7451   \n",
       "0                                              0.7254   \n",
       "0                                              0.8232   \n",
       "0                                              0.7387   \n",
       "0                                              0.7823   \n",
       "0                                              0.8842   \n",
       "0                                              0.7366   \n",
       "0                                              0.9841   \n",
       "0                                              0.8795   \n",
       "0                                              1.1625   \n",
       "0                                              0.9453   \n",
       "0                                              0.8805   \n",
       "0                                              1.0425   \n",
       "0                                              1.1662   \n",
       "0                                              2.8540   \n",
       "\n",
       "                                                           \\\n",
       "  Error rate (%) of column-wise density estimation std, %   \n",
       "0                                                  0.2675   \n",
       "0                                                  0.2965   \n",
       "0                                                  0.3208   \n",
       "0                                                  0.2893   \n",
       "0                                                  0.1800   \n",
       "0                                                  0.2633   \n",
       "0                                                  0.3126   \n",
       "0                                                  0.3182   \n",
       "0                                                  0.3028   \n",
       "0                                                  0.3693   \n",
       "0                                                  0.3704   \n",
       "0                                                  0.3147   \n",
       "0                                                  0.2435   \n",
       "0                                                  0.3014   \n",
       "0                                                  0.3684   \n",
       "0                                                  0.8648   \n",
       "\n",
       "                                                           \\\n",
       "  Error rate (%) of pair-wise column correlation score, %   \n",
       "0                                                  0.8419   \n",
       "0                                                  1.0646   \n",
       "0                                                  1.3101   \n",
       "0                                                  1.3113   \n",
       "0                                                  1.4528   \n",
       "0                                                  1.5211   \n",
       "0                                                  1.4549   \n",
       "0                                                  1.6326   \n",
       "0                                                  1.4993   \n",
       "0                                                  1.6653   \n",
       "0                                                  1.4749   \n",
       "0                                                  2.3333   \n",
       "0                                                  2.4812   \n",
       "0                                                  2.5127   \n",
       "0                                                  2.7927   \n",
       "0                                                  3.6527   \n",
       "\n",
       "                                                               \\\n",
       "  Error rate (%) of pair-wise column correlation score std, %   \n",
       "0                                                      1.5129   \n",
       "0                                                      2.2949   \n",
       "0                                                      2.5352   \n",
       "0                                                      2.6056   \n",
       "0                                                      4.7136   \n",
       "0                                                      4.0863   \n",
       "0                                                      4.6929   \n",
       "0                                                      4.3691   \n",
       "0                                                      2.5778   \n",
       "0                                                      3.8965   \n",
       "0                                                      1.6929   \n",
       "0                                                      7.1887   \n",
       "0                                                      6.6256   \n",
       "0                                                      6.9954   \n",
       "0                                                      8.1743   \n",
       "0                                                      2.6255   \n",
       "\n",
       "                                         mle  \\\n",
       "  ROC - AUC обучения на синтетических данных   \n",
       "0                                     0.9279   \n",
       "0                                     0.9134   \n",
       "0                                     0.9191   \n",
       "0                                     0.9330   \n",
       "0                                     0.9215   \n",
       "0                                     0.9217   \n",
       "0                                     0.9241   \n",
       "0                                     0.9246   \n",
       "0                                     0.9516   \n",
       "0                                     0.9343   \n",
       "0                                     0.9007   \n",
       "0                                     0.9279   \n",
       "0                                     0.9503   \n",
       "0                                     0.9461   \n",
       "0                                     0.9495   \n",
       "0                                     0.8188   \n",
       "\n",
       "                                                  detection     DCR  \\\n",
       "  ROC - AUC обучения на синтетических данных, std     Score   Score   \n",
       "0                                          0.0069    0.9915  0.5138   \n",
       "0                                          0.0062    0.9937  0.5127   \n",
       "0                                          0.0054    1.0000  0.5137   \n",
       "0                                          0.0050    0.9950  0.5384   \n",
       "0                                          0.0080    1.0000  0.5062   \n",
       "0                                          0.0073    1.0000  0.5203   \n",
       "0                                          0.0040    0.9986  0.5133   \n",
       "0                                          0.0059    0.9957  0.5189   \n",
       "0                                          0.0071    0.9872  0.5550   \n",
       "0                                          0.0045    0.9980  0.5210   \n",
       "0                                          0.0045    0.9927  0.5178   \n",
       "0                                          0.0049    0.9942  0.5230   \n",
       "0                                          0.0059    0.9896  0.5434   \n",
       "0                                          0.0078    0.9796  0.5542   \n",
       "0                                          0.0085    0.9759  0.5572   \n",
       "0                                          0.0066    0.9282  0.4994   \n",
       "\n",
       "          quality              \n",
       "  alpha precision beta recall  \n",
       "0          0.9820      0.4931  \n",
       "0          0.9918      0.4950  \n",
       "0          0.9919      0.4955  \n",
       "0          0.9943      0.4802  \n",
       "0          0.9947      0.4979  \n",
       "0          0.9907      0.4963  \n",
       "0          0.9893      0.4988  \n",
       "0          0.9942      0.5038  \n",
       "0          0.9778      0.6320  \n",
       "0          0.9939      0.5161  \n",
       "0          0.9702      0.2562  \n",
       "0          0.9900      0.5130  \n",
       "0          0.9800      0.5814  \n",
       "0          0.9751      0.6439  \n",
       "0          0.9795      0.6494  \n",
       "0          0.8834      0.0826  "
      ]
     },
     "execution_count": 11,
     "metadata": {},
     "output_type": "execute_result"
    }
   ],
   "source": [
    "pd.set_option('display.max_columns', None)\n",
    "final_metrics_table.round(4).sort_values([('similarity', 'Overall Score (Average), %')],\n",
    "                                                                          ascending=False)"
   ]
  },
  {
   "cell_type": "code",
   "execution_count": 12,
   "metadata": {},
   "outputs": [],
   "source": [
    "import os\n",
    "if not os.path.exists(f'./eval/total/{dataname_initial}'):\n",
    "    os.makedirs(f'./eval/total/{dataname_initial}')\n",
    "final_metrics_table.to_csv(f'./eval/total/{dataname_initial}/{model_short}{model_name_postfix}_final_metrics_table.csv', index=False)"
   ]
  },
  {
   "cell_type": "code",
   "execution_count": null,
   "metadata": {},
   "outputs": [],
   "source": []
  }
 ],
 "metadata": {
  "colab": {
   "authorship_tag": "ABX9TyM87OAyAZDeZ/KEr1BVC60/",
   "mount_file_id": "1-H09AG2TbV5ZzQ-ytJRNbFUCirBvOV9p",
   "provenance": []
  },
  "kernelspec": {
   "display_name": "Python3 (ipykernel)",
   "language": "python",
   "name": "python3"
  },
  "language_info": {
   "codemirror_mode": {
    "name": "ipython",
    "version": 3
   },
   "file_extension": ".py",
   "mimetype": "text/x-python",
   "name": "python",
   "nbconvert_exporter": "python",
   "pygments_lexer": "ipython3",
   "version": "3.10.12"
  },
  "widgets": {
   "application/vnd.jupyter.widget-state+json": {
    "state": {},
    "version_major": 2,
    "version_minor": 0
   }
  }
 },
 "nbformat": 4,
 "nbformat_minor": 4
}
