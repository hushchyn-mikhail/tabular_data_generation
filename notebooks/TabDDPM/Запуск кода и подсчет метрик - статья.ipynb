{
 "cells": [
  {
   "cell_type": "markdown",
   "metadata": {},
   "source": [
    "В этом ноутбуке берется переписанный код статьи и проверяется корректность его запуска, а именно, что итоговые метрики будут похожи на предоставленные в статье."
   ]
  },
  {
   "cell_type": "code",
   "execution_count": 1,
   "metadata": {
    "executionInfo": {
     "elapsed": 2,
     "status": "ok",
     "timestamp": 1742849865735,
     "user": {
      "displayName": "Elina Telesheva",
      "userId": "03968090829384653347"
     },
     "user_tz": -180
    },
    "id": "7c0cJwYgEItT"
   },
   "outputs": [],
   "source": [
    "# выключить среду\n",
    "# from google.colab import runtime\n",
    "# runtime.unassign()"
   ]
  },
  {
   "cell_type": "code",
   "execution_count": 2,
   "metadata": {
    "colab": {
     "base_uri": "https://localhost:8080/"
    },
    "executionInfo": {
     "elapsed": 1157,
     "status": "ok",
     "timestamp": 1742850883800,
     "user": {
      "displayName": "Elina Telesheva",
      "userId": "03968090829384653347"
     },
     "user_tz": -180
    },
    "id": "h5651cj9T40Z",
    "outputId": "4aa65c68-c880-49bb-db3d-924d8cdd7322"
   },
   "outputs": [],
   "source": [
    "# from google.colab import drive\n",
    "# drive.mount('/content/drive')"
   ]
  },
  {
   "cell_type": "code",
   "execution_count": 3,
   "metadata": {
    "colab": {
     "base_uri": "https://localhost:8080/"
    },
    "executionInfo": {
     "elapsed": 13,
     "status": "ok",
     "timestamp": 1742850883815,
     "user": {
      "displayName": "Elina Telesheva",
      "userId": "03968090829384653347"
     },
     "user_tz": -180
    },
    "id": "ff0-6OpuXxIS",
    "outputId": "442773de-22ad-47e8-fbee-fa10e53995f5"
   },
   "outputs": [],
   "source": [
    "# %cd '/content/drive/MyDrive/Thesis_masters/TabDDPM'"
   ]
  },
  {
   "cell_type": "code",
   "execution_count": 4,
   "metadata": {
    "executionInfo": {
     "elapsed": 41,
     "status": "ok",
     "timestamp": 1742850927544,
     "user": {
      "displayName": "Elina Telesheva",
      "userId": "03968090829384653347"
     },
     "user_tz": -180
    },
    "id": "C-8ILatLAgoM"
   },
   "outputs": [],
   "source": [
    "# !pip freeze"
   ]
  },
  {
   "cell_type": "code",
   "execution_count": 5,
   "metadata": {},
   "outputs": [],
   "source": [
    "# !python -V"
   ]
  },
  {
   "cell_type": "code",
   "execution_count": 6,
   "metadata": {
    "executionInfo": {
     "elapsed": 8,
     "status": "ok",
     "timestamp": 1742850883829,
     "user": {
      "displayName": "Elina Telesheva",
      "userId": "03968090829384653347"
     },
     "user_tz": -180
    },
    "id": "N3OWvVipQPZ1"
   },
   "outputs": [],
   "source": [
    "# !pip install -r requirements.txt"
   ]
  },
  {
   "cell_type": "code",
   "execution_count": 7,
   "metadata": {},
   "outputs": [],
   "source": [
    "# !pip install Click==7.0\n",
    "# !pip uninstall sdv --yes\n",
    "# !pip install sdv\n",
    "# !pip install seaborn\n",
    "# !pip install nbformat"
   ]
  },
  {
   "cell_type": "code",
   "execution_count": 8,
   "metadata": {
    "executionInfo": {
     "elapsed": 16,
     "status": "ok",
     "timestamp": 1742850883847,
     "user": {
      "displayName": "Elina Telesheva",
      "userId": "03968090829384653347"
     },
     "user_tz": -180
    },
    "id": "Zeh5mGsOZZ6f"
   },
   "outputs": [],
   "source": [
    "# !pip install synthcity"
   ]
  },
  {
   "cell_type": "code",
   "execution_count": 9,
   "metadata": {},
   "outputs": [],
   "source": [
    "# !python -m pip install --upgrade pip\n",
    "# !pip install sdv"
   ]
  },
  {
   "cell_type": "code",
   "execution_count": 10,
   "metadata": {
    "executionInfo": {
     "elapsed": 11435,
     "status": "ok",
     "timestamp": 1742850942286,
     "user": {
      "displayName": "Elina Telesheva",
      "userId": "03968090829384653347"
     },
     "user_tz": -180
    },
    "id": "o77KHt0w3DWc"
   },
   "outputs": [],
   "source": [
    "import json\n",
    "import pandas as pd\n",
    "import torch\n",
    "import matplotlib.pyplot as plt\n",
    "\n",
    "from utils import *\n",
    "from models.tabddpm.tabddpm import *"
   ]
  },
  {
   "cell_type": "code",
   "execution_count": 11,
   "metadata": {
    "executionInfo": {
     "elapsed": 18,
     "status": "ok",
     "timestamp": 1742849874658,
     "user": {
      "displayName": "Elina Telesheva",
      "userId": "03968090829384653347"
     },
     "user_tz": -180
    },
    "id": "o9DuAPKa2yey"
   },
   "outputs": [],
   "source": [
    "with open('./config.json', 'w', encoding='utf-8') as f:\n",
    "    json.dump({\n",
    "        'path': 'tabddpm.json',\n",
    "        'model_name':'tabddpm'\n",
    "    }, f, ensure_ascii=False, indent=4)"
   ]
  },
  {
   "cell_type": "code",
   "execution_count": 12,
   "metadata": {
    "executionInfo": {
     "elapsed": 24,
     "status": "ok",
     "timestamp": 1742849874685,
     "user": {
      "displayName": "Elina Telesheva",
      "userId": "03968090829384653347"
     },
     "user_tz": -180
    },
    "id": "mDTuHIDqlu0n"
   },
   "outputs": [
    {
     "name": "stdout",
     "output_type": "stream",
     "text": [
      "Start processing dataset adult from UCI.\n",
      "Aready downloaded.\n",
      "adult (32561, 15) (16281, 15) (32561, 15)\n",
      "Numerical (32561, 6)\n",
      "Categorical (32561, 8)\n",
      "Processing and Saving adult Successfully!\n",
      "adult\n",
      "Total 48842\n",
      "Train 32561\n",
      "Test 16281\n",
      "Num 6\n",
      "Cat 9\n"
     ]
    }
   ],
   "source": [
    "# download_dataset('adult')\n",
    "# process_data('adult')"
   ]
  },
  {
   "cell_type": "markdown",
   "metadata": {
    "id": "O1OrGo4GoOJ1"
   },
   "source": [
    "### Подготовка"
   ]
  },
  {
   "cell_type": "code",
   "execution_count": 12,
   "metadata": {
    "executionInfo": {
     "elapsed": 1,
     "status": "ok",
     "timestamp": 1742849874687,
     "user": {
      "displayName": "Elina Telesheva",
      "userId": "03968090829384653347"
     },
     "user_tz": -180
    },
    "id": "VTQyrTBDqohs"
   },
   "outputs": [],
   "source": [
    "model_name = 'tabddpm'\n",
    "dataname = 'adult'"
   ]
  },
  {
   "cell_type": "code",
   "execution_count": 14,
   "metadata": {
    "executionInfo": {
     "elapsed": 4,
     "status": "ok",
     "timestamp": 1742849874691,
     "user": {
      "displayName": "Elina Telesheva",
      "userId": "03968090829384653347"
     },
     "user_tz": -180
    },
    "id": "HDL4dxAaubQa"
   },
   "outputs": [],
   "source": [
    "CONFIG.add_arg('dataname', dataname)\n",
    "CONFIG.add_arg('method', model_name)"
   ]
  },
  {
   "cell_type": "code",
   "execution_count": 15,
   "metadata": {
    "colab": {
     "base_uri": "https://localhost:8080/"
    },
    "executionInfo": {
     "elapsed": 163,
     "status": "ok",
     "timestamp": 1742849874855,
     "user": {
      "displayName": "Elina Telesheva",
      "userId": "03968090829384653347"
     },
     "user_tz": -180
    },
    "id": "VsKZydqtt3mn",
    "outputId": "6c5765d8-cd82-4629-d27b-51ed0d5dd820"
   },
   "outputs": [
    {
     "name": "stdout",
     "output_type": "stream",
     "text": [
      "Device: cuda\n"
     ]
    }
   ],
   "source": [
    "if torch.cuda.is_available():\n",
    "    device = f'cuda'\n",
    "else:\n",
    "    device = 'cpu'\n",
    "CONFIG.add_arg('device', device)\n",
    "print(f\"Device: {device}\")\n",
    "\n",
    "\n",
    "CONFIG.add_arg('sample_save_path',\n",
    "               f\"synthetic/{CONFIG.get_arg('dataname')}/{CONFIG.get_arg('method')}.csv\")\n",
    "CONFIG.add_arg('real_path',\n",
    "               f\"synthetic/{CONFIG.get_arg('dataname')}/real.csv\")\n",
    "CONFIG.add_arg('test_path',\n",
    "               f\"synthetic/{CONFIG.get_arg('dataname')}/test.csv\")\n",
    "CONFIG.add_arg('info_path',\n",
    "               f\"data/{CONFIG.get_arg('dataname')}/info.json\")"
   ]
  },
  {
   "cell_type": "code",
   "execution_count": 34,
   "metadata": {
    "colab": {
     "base_uri": "https://localhost:8080/"
    },
    "executionInfo": {
     "elapsed": 63,
     "status": "ok",
     "timestamp": 1742849874933,
     "user": {
      "displayName": "Elina Telesheva",
      "userId": "03968090829384653347"
     },
     "user_tz": -180
    },
    "id": "gFtvnuj1tjB7",
    "outputId": "c2b24970-cea9-4ae2-feff-45c29f92788a"
   },
   "outputs": [
    {
     "data": {
      "text/plain": [
       "{'dataname': 'adult',\n",
       " 'method': 'tabddpm',\n",
       " 'device': 'cuda',\n",
       " 'save_path': 'synthetic/adult/tabddpm.csv',\n",
       " 'mode': 'train',\n",
       " 'train': 1,\n",
       " 'sample_save_path': 'synthetic/adult/tabddpm.csv'}"
      ]
     },
     "execution_count": 34,
     "metadata": {},
     "output_type": "execute_result"
    }
   ],
   "source": [
    "CONFIG.get_all_args()"
   ]
  },
  {
   "cell_type": "markdown",
   "metadata": {
    "id": "uL818VPDwpaW"
   },
   "source": [
    "### Train"
   ]
  },
  {
   "cell_type": "code",
   "execution_count": 17,
   "metadata": {
    "executionInfo": {
     "elapsed": 30,
     "status": "ok",
     "timestamp": 1742849874982,
     "user": {
      "displayName": "Elina Telesheva",
      "userId": "03968090829384653347"
     },
     "user_tz": -180
    },
    "id": "fBJBP6k5woSK"
   },
   "outputs": [],
   "source": [
    "CONFIG.add_arg('mode', 'train')"
   ]
  },
  {
   "cell_type": "code",
   "execution_count": 18,
   "metadata": {
    "executionInfo": {
     "elapsed": 70,
     "status": "ok",
     "timestamp": 1742849875060,
     "user": {
      "displayName": "Elina Telesheva",
      "userId": "03968090829384653347"
     },
     "user_tz": -180
    },
    "id": "1mULrEuFluee"
   },
   "outputs": [],
   "source": [
    "tabddpm = TabDDPM(CONFIG)"
   ]
  },
  {
   "cell_type": "code",
   "execution_count": 26,
   "metadata": {
    "executionInfo": {
     "elapsed": 30,
     "status": "ok",
     "timestamp": 1742849875101,
     "user": {
      "displayName": "Elina Telesheva",
      "userId": "03968090829384653347"
     },
     "user_tz": -180
    },
    "id": "4Urv02tmnbqa",
    "scrolled": true
   },
   "outputs": [],
   "source": [
    "# tabddpm.train()"
   ]
  },
  {
   "cell_type": "code",
   "execution_count": 27,
   "metadata": {},
   "outputs": [
    {
     "name": "stderr",
     "output_type": "stream",
     "text": [
      "/tmp/ipykernel_30380/2983808042.py:4: MatplotlibDeprecationWarning: The get_cmap function was deprecated in Matplotlib 3.7 and will be removed in 3.11. Use ``matplotlib.colormaps[name]`` or ``matplotlib.colormaps.get_cmap()`` or ``pyplot.get_cmap()`` instead.\n",
      "  return plt.cm.get_cmap(name, n)\n"
     ]
    }
   ],
   "source": [
    "def get_cmap(n, name='hsv'):\n",
    "    '''Returns a function that maps each index in 0, 1, ..., n-1 to a distinct \n",
    "    RGB color; the keyword argument name must be a standard mpl colormap name.'''\n",
    "    return plt.cm.get_cmap(name, n)\n",
    "    \n",
    "cmap = get_cmap(10)"
   ]
  },
  {
   "cell_type": "code",
   "execution_count": 28,
   "metadata": {
    "colab": {
     "base_uri": "https://localhost:8080/",
     "height": 491
    },
    "executionInfo": {
     "elapsed": 1353,
     "status": "ok",
     "timestamp": 1742849876457,
     "user": {
      "displayName": "Elina Telesheva",
      "userId": "03968090829384653347"
     },
     "user_tz": -180
    },
    "id": "J_2etdriv20a",
    "outputId": "fdb4781b-139c-46e1-f722-e17f7a4f375a"
   },
   "outputs": [
    {
     "data": {
      "image/png": "[encoded data removed]",
      "text/plain": [
       "<Figure size 640x480 with 1 Axes>"
      ]
     },
     "metadata": {},
     "output_type": "display_data"
    }
   ],
   "source": [
    "loss = pd.read_csv(f'./models/{model_name}/ckpt/{dataname}/loss.csv')\n",
    "max_v, min_v = -np.inf, np.inf\n",
    "window = 250\n",
    "\n",
    "start_step = 100\n",
    "for i, l in enumerate(loss.columns[1:]):\n",
    "    plt.plot(loss['step'][start_step:], loss[l][start_step:], alpha=0.25, color=cmap(i))\n",
    "    smoothed = np.convolve(loss[l][start_step:], np.ones(window)/window, 'valid')  \n",
    "    plt.plot(loss['step'][start_step+window-1:], smoothed, label=l, color=cmap(i))\n",
    "\n",
    "    max_v = np.max([np.quantile(loss[l][start_step:], 0.99), max_v])\n",
    "    min_v = np.min([np.quantile(loss[l][start_step:], 0.01), min_v])\n",
    "\n",
    "plt.ylim([min_v-0.1, max_v+0.1]) \n",
    "plt.legend()\n",
    "plt.title(f\"Model name: {model_name.upper()}\\nLoss by steps from step #{start_step}\")\n",
    "plt.savefig(f'./models/{model_name}/ckpt/{dataname}/loss_image.png')\n",
    "plt.show()"
   ]
  },
  {
   "cell_type": "code",
   "execution_count": 27,
   "metadata": {
    "executionInfo": {
     "elapsed": 19,
     "status": "ok",
     "timestamp": 1742849876500,
     "user": {
      "displayName": "Elina Telesheva",
      "userId": "03968090829384653347"
     },
     "user_tz": -180
    },
    "id": "_dh1_KeYveNz"
   },
   "outputs": [
    {
     "name": "stdout",
     "output_type": "stream",
     "text": [
      "No NaNs in numerical features, skipping\n",
      "mlp\n",
      "torch.Size([10000, 104])\n",
      "Sample timestep    0\n",
      "torch.Size([10000, 104])\n",
      "Sample timestep    0\n",
      "torch.Size([10000, 104])\n",
      "Sample timestep    0\n",
      "torch.Size([10000, 104])\n",
      "Sample timestep    0\n",
      "Shape torch.Size([32561, 15])\n",
      "(32561, 9)\n",
      "Sampling time: 208.7928056716919\n"
     ]
    }
   ],
   "source": [
    "# tabddpm.sample(sample_save_path=CONFIG.get_arg('sample_save_path'))"
   ]
  },
  {
   "cell_type": "markdown",
   "metadata": {
    "id": "_pRj_6inEVEL"
   },
   "source": [
    "### Расчет метрик"
   ]
  },
  {
   "cell_type": "code",
   "execution_count": 28,
   "metadata": {
    "executionInfo": {
     "elapsed": 12806,
     "status": "ok",
     "timestamp": 1742849889325,
     "user": {
      "displayName": "Elina Telesheva",
      "userId": "03968090829384653347"
     },
     "user_tz": -180
    },
    "id": "TgJLMonR8Q-E"
   },
   "outputs": [],
   "source": [
    "from eval.base_metrics import calculate_base_metrics\n",
    "from eval.similarity import calculate_similarity\n",
    "from eval.mle import calculate_mle\n",
    "from eval.alpha_beta import calculate_alpha_beta\n",
    "from eval.detection import calculate_detection\n",
    "from eval.dcr import calculate_DCR"
   ]
  },
  {
   "cell_type": "code",
   "execution_count": 31,
   "metadata": {},
   "outputs": [
    {
     "data": {
      "text/plain": [
       "'./generated_samples/adult.csv'"
      ]
     },
     "execution_count": 31,
     "metadata": {},
     "output_type": "execute_result"
    }
   ],
   "source": [
    "CONFIG.get_arg('sample_save_path')"
   ]
  },
  {
   "cell_type": "markdown",
   "metadata": {
    "id": "Vuzd6IpwJJs8"
   },
   "source": [
    "#### Метрики из starter_kit"
   ]
  },
  {
   "cell_type": "code",
   "execution_count": 35,
   "metadata": {
    "colab": {
     "base_uri": "https://localhost:8080/"
    },
    "executionInfo": {
     "elapsed": 6979,
     "status": "ok",
     "timestamp": 1742849896299,
     "user": {
      "displayName": "Elina Telesheva",
      "userId": "03968090829384653347"
     },
     "user_tz": -180
    },
    "id": "qHNw1xTE8Q7M",
    "outputId": "452c7e81-990f-46a4-f975-14d3c4077d9b"
   },
   "outputs": [
    {
     "name": "stderr",
     "output_type": "stream",
     "text": [
      "/venv/main/lib/python3.10/site-packages/sklearn/linear_model/_logistic.py:465: ConvergenceWarning: lbfgs failed to converge (status=1):\n",
      "STOP: TOTAL NO. OF ITERATIONS REACHED LIMIT.\n",
      "\n",
      "Increase the number of iterations (max_iter) or scale the data as shown in:\n",
      "    https://scikit-learn.org/stable/modules/preprocessing.html\n",
      "Please also refer to the documentation for alternative solver options:\n",
      "    https://scikit-learn.org/stable/modules/linear_model.html#logistic-regression\n",
      "  n_iter_i = _check_optimize_result(\n"
     ]
    },
    {
     "name": "stdout",
     "output_type": "stream",
     "text": [
      "TABDDPM: ADULT Dataset\n",
      "Original Logistic: 0.657\n",
      "Synthetic Logistic: 0.658\n",
      "Original Tree: 0.661\n",
      "Synthetic Tree: 0.648 \n",
      "\n",
      "TABDDPM Accuracy Loss: ADULT\n",
      "Logistic: -0.098%\n",
      "Tree: 1.995% \n",
      "\n"
     ]
    },
    {
     "name": "stderr",
     "output_type": "stream",
     "text": [
      "/venv/main/lib/python3.10/site-packages/sklearn/linear_model/_logistic.py:465: ConvergenceWarning: lbfgs failed to converge (status=1):\n",
      "STOP: TOTAL NO. OF ITERATIONS REACHED LIMIT.\n",
      "\n",
      "Increase the number of iterations (max_iter) or scale the data as shown in:\n",
      "    https://scikit-learn.org/stable/modules/preprocessing.html\n",
      "Please also refer to the documentation for alternative solver options:\n",
      "    https://scikit-learn.org/stable/modules/linear_model.html#logistic-regression\n",
      "  n_iter_i = _check_optimize_result(\n"
     ]
    }
   ],
   "source": [
    "calculate_base_metrics(make_binary=True, value=' >50K')"
   ]
  },
  {
   "cell_type": "markdown",
   "metadata": {
    "id": "VPqKYB_6OxEo"
   },
   "source": [
    "#### Метрики из статьи TabSyn"
   ]
  },
  {
   "cell_type": "code",
   "execution_count": 36,
   "metadata": {
    "colab": {
     "base_uri": "https://localhost:8080/",
     "height": 1000,
     "output_embedded_package_id": "1Mfq0UERAtWp6AXhpV3-B7INGFEya9Kqh"
    },
    "executionInfo": {
     "elapsed": 18363,
     "status": "ok",
     "timestamp": 1742849914646,
     "user": {
      "displayName": "Elina Telesheva",
      "userId": "03968090829384653347"
     },
     "user_tz": -180
    },
    "id": "7Do6VOb7PHjJ",
    "outputId": "28421f8b-09e8-4085-f468-6c041a88b8bc",
    "scrolled": true
   },
   "outputs": [
    {
     "name": "stdout",
     "output_type": "stream",
     "text": [
      "CALCULATING COLUMN-WISE DENSITY ESTIMATION & PAIR-WISE COLUMN CORRELATION...\n",
      "Generating report ...\n",
      "\n",
      "(1/2) Evaluating Column Shapes: |██████████| 15/15 [00:00<00:00, 56.33it/s]|\n",
      "Column Shapes Score: 98.82%\n",
      "\n",
      "(2/2) Evaluating Column Pair Trends: |██████████| 105/105 [00:02<00:00, 49.28it/s]|\n",
      "Column Pair Trends Score: 97.85%\n",
      "\n",
      "Overall Score (Average): 98.34%\n",
      "\n",
      "Error rate (%) of column-wise density estimation TABDDPM: 1.175 ± 0.661\n",
      "Error rate (%) of pair-wise column correlation score TABDDPM: 2.147 ± 1.105\n"
     ]
    },
    {
     "data": {
      "text/html": [
       "<iframe\n",
       "    scrolling=\"no\"\n",
       "    width=\"100%\"\n",
       "    height=\"545px\"\n",
       "    src=\"iframe_figures/figure_36.html\"\n",
       "    frameborder=\"0\"\n",
       "    allowfullscreen\n",
       "></iframe>\n"
      ]
     },
     "metadata": {},
     "output_type": "display_data"
    },
    {
     "data": {
      "text/html": [
       "<iframe\n",
       "    scrolling=\"no\"\n",
       "    width=\"920px\"\n",
       "    height=\"920\"\n",
       "    src=\"iframe_figures/figure_36.html\"\n",
       "    frameborder=\"0\"\n",
       "    allowfullscreen\n",
       "></iframe>\n"
      ]
     },
     "metadata": {},
     "output_type": "display_data"
    },
    {
     "name": "stdout",
     "output_type": "stream",
     "text": [
      "DONE! \n",
      "\n",
      "DRAW COLUMN VALUES DISTRIBUTIONS...\n"
     ]
    },
    {
     "data": {
      "text/html": [
       "<iframe\n",
       "    scrolling=\"no\"\n",
       "    width=\"100%\"\n",
       "    height=\"545px\"\n",
       "    src=\"iframe_figures/figure_36.html\"\n",
       "    frameborder=\"0\"\n",
       "    allowfullscreen\n",
       "></iframe>\n"
      ]
     },
     "metadata": {},
     "output_type": "display_data"
    },
    {
     "data": {
      "text/html": [
       "<iframe\n",
       "    scrolling=\"no\"\n",
       "    width=\"100%\"\n",
       "    height=\"545px\"\n",
       "    src=\"iframe_figures/figure_36.html\"\n",
       "    frameborder=\"0\"\n",
       "    allowfullscreen\n",
       "></iframe>\n"
      ]
     },
     "metadata": {},
     "output_type": "display_data"
    },
    {
     "data": {
      "text/html": [
       "<iframe\n",
       "    scrolling=\"no\"\n",
       "    width=\"100%\"\n",
       "    height=\"545px\"\n",
       "    src=\"iframe_figures/figure_36.html\"\n",
       "    frameborder=\"0\"\n",
       "    allowfullscreen\n",
       "></iframe>\n"
      ]
     },
     "metadata": {},
     "output_type": "display_data"
    },
    {
     "data": {
      "text/html": [
       "<iframe\n",
       "    scrolling=\"no\"\n",
       "    width=\"100%\"\n",
       "    height=\"545px\"\n",
       "    src=\"iframe_figures/figure_36.html\"\n",
       "    frameborder=\"0\"\n",
       "    allowfullscreen\n",
       "></iframe>\n"
      ]
     },
     "metadata": {},
     "output_type": "display_data"
    },
    {
     "data": {
      "text/html": [
       "<iframe\n",
       "    scrolling=\"no\"\n",
       "    width=\"100%\"\n",
       "    height=\"545px\"\n",
       "    src=\"iframe_figures/figure_36.html\"\n",
       "    frameborder=\"0\"\n",
       "    allowfullscreen\n",
       "></iframe>\n"
      ]
     },
     "metadata": {},
     "output_type": "display_data"
    },
    {
     "data": {
      "text/html": [
       "<iframe\n",
       "    scrolling=\"no\"\n",
       "    width=\"100%\"\n",
       "    height=\"545px\"\n",
       "    src=\"iframe_figures/figure_36.html\"\n",
       "    frameborder=\"0\"\n",
       "    allowfullscreen\n",
       "></iframe>\n"
      ]
     },
     "metadata": {},
     "output_type": "display_data"
    },
    {
     "data": {
      "text/html": [
       "<iframe\n",
       "    scrolling=\"no\"\n",
       "    width=\"100%\"\n",
       "    height=\"545px\"\n",
       "    src=\"iframe_figures/figure_36.html\"\n",
       "    frameborder=\"0\"\n",
       "    allowfullscreen\n",
       "></iframe>\n"
      ]
     },
     "metadata": {},
     "output_type": "display_data"
    },
    {
     "data": {
      "text/html": [
       "<iframe\n",
       "    scrolling=\"no\"\n",
       "    width=\"100%\"\n",
       "    height=\"545px\"\n",
       "    src=\"iframe_figures/figure_36.html\"\n",
       "    frameborder=\"0\"\n",
       "    allowfullscreen\n",
       "></iframe>\n"
      ]
     },
     "metadata": {},
     "output_type": "display_data"
    },
    {
     "data": {
      "text/html": [
       "<iframe\n",
       "    scrolling=\"no\"\n",
       "    width=\"100%\"\n",
       "    height=\"545px\"\n",
       "    src=\"iframe_figures/figure_36.html\"\n",
       "    frameborder=\"0\"\n",
       "    allowfullscreen\n",
       "></iframe>\n"
      ]
     },
     "metadata": {},
     "output_type": "display_data"
    },
    {
     "data": {
      "text/html": [
       "<iframe\n",
       "    scrolling=\"no\"\n",
       "    width=\"100%\"\n",
       "    height=\"545px\"\n",
       "    src=\"iframe_figures/figure_36.html\"\n",
       "    frameborder=\"0\"\n",
       "    allowfullscreen\n",
       "></iframe>\n"
      ]
     },
     "metadata": {},
     "output_type": "display_data"
    },
    {
     "data": {
      "text/html": [
       "<iframe\n",
       "    scrolling=\"no\"\n",
       "    width=\"100%\"\n",
       "    height=\"545px\"\n",
       "    src=\"iframe_figures/figure_36.html\"\n",
       "    frameborder=\"0\"\n",
       "    allowfullscreen\n",
       "></iframe>\n"
      ]
     },
     "metadata": {},
     "output_type": "display_data"
    },
    {
     "data": {
      "text/html": [
       "<iframe\n",
       "    scrolling=\"no\"\n",
       "    width=\"100%\"\n",
       "    height=\"545px\"\n",
       "    src=\"iframe_figures/figure_36.html\"\n",
       "    frameborder=\"0\"\n",
       "    allowfullscreen\n",
       "></iframe>\n"
      ]
     },
     "metadata": {},
     "output_type": "display_data"
    },
    {
     "data": {
      "text/html": [
       "<iframe\n",
       "    scrolling=\"no\"\n",
       "    width=\"100%\"\n",
       "    height=\"545px\"\n",
       "    src=\"iframe_figures/figure_36.html\"\n",
       "    frameborder=\"0\"\n",
       "    allowfullscreen\n",
       "></iframe>\n"
      ]
     },
     "metadata": {},
     "output_type": "display_data"
    },
    {
     "data": {
      "text/html": [
       "<iframe\n",
       "    scrolling=\"no\"\n",
       "    width=\"100%\"\n",
       "    height=\"545px\"\n",
       "    src=\"iframe_figures/figure_36.html\"\n",
       "    frameborder=\"0\"\n",
       "    allowfullscreen\n",
       "></iframe>\n"
      ]
     },
     "metadata": {},
     "output_type": "display_data"
    },
    {
     "data": {
      "text/html": [
       "<iframe\n",
       "    scrolling=\"no\"\n",
       "    width=\"100%\"\n",
       "    height=\"545px\"\n",
       "    src=\"iframe_figures/figure_36.html\"\n",
       "    frameborder=\"0\"\n",
       "    allowfullscreen\n",
       "></iframe>\n"
      ]
     },
     "metadata": {},
     "output_type": "display_data"
    },
    {
     "name": "stdout",
     "output_type": "stream",
     "text": [
      "DONE!\n"
     ]
    }
   ],
   "source": [
    "calculate_similarity()"
   ]
  },
  {
   "cell_type": "markdown",
   "metadata": {
    "id": "Z1eBqfgraJlp"
   },
   "source": [
    "#### MLE"
   ]
  },
  {
   "cell_type": "code",
   "execution_count": 37,
   "metadata": {
    "colab": {
     "base_uri": "https://localhost:8080/"
    },
    "executionInfo": {
     "elapsed": 31049,
     "status": "ok",
     "timestamp": 1742849945673,
     "user": {
      "displayName": "Elina Telesheva",
      "userId": "03968090829384653347"
     },
     "user_tz": -180
    },
    "id": "WTq7VR-PTnEN",
    "outputId": "e222d003-996e-4c6c-f38f-0f21d23dd1de"
   },
   "outputs": [
    {
     "name": "stderr",
     "output_type": "stream",
     "text": [
      "100%|██████████| 36/36 [00:12<00:00,  2.96it/s]\n"
     ]
    },
    {
     "name": "stdout",
     "output_type": "stream",
     "text": [
      "Saving scores to  eval/mle/adult/tabddpm.json\n",
      "ROC - AUC обучения на синтетических данных TABDDPM: 0.902 ± 0.005\n"
     ]
    }
   ],
   "source": [
    "calculate_mle()"
   ]
  },
  {
   "cell_type": "markdown",
   "metadata": {
    "id": "Lcrk8gbLdDS-"
   },
   "source": [
    "#### Detection: classifier two sample tests (C2ST)"
   ]
  },
  {
   "cell_type": "code",
   "execution_count": 38,
   "metadata": {
    "colab": {
     "base_uri": "https://localhost:8080/"
    },
    "executionInfo": {
     "elapsed": 6726,
     "status": "ok",
     "timestamp": 1742849952400,
     "user": {
      "displayName": "Elina Telesheva",
      "userId": "03968090829384653347"
     },
     "user_tz": -180
    },
    "id": "LuxoVoa1dDc3",
    "outputId": "15aa454c-1d26-4b95-c472-25416662c6d2"
   },
   "outputs": [
    {
     "name": "stdout",
     "output_type": "stream",
     "text": [
      "adult, tabddpm: 0.9516592856630659\n"
     ]
    }
   ],
   "source": [
    "calculate_detection()"
   ]
  },
  {
   "cell_type": "markdown",
   "metadata": {
    "id": "ROQgcQGLeP02"
   },
   "source": [
    "#### DCR"
   ]
  },
  {
   "cell_type": "code",
   "execution_count": 39,
   "metadata": {
    "colab": {
     "base_uri": "https://localhost:8080/"
    },
    "executionInfo": {
     "elapsed": 40484,
     "status": "ok",
     "timestamp": 1742849992874,
     "user": {
      "displayName": "Elina Telesheva",
      "userId": "03968090829384653347"
     },
     "user_tz": -180
    },
    "id": "JVGkRiXBeQMk",
    "outputId": "4f3003f5-1167-4818-d6c2-b2f278ef481a"
   },
   "outputs": [
    {
     "name": "stdout",
     "output_type": "stream",
     "text": [
      "DCR Score, a value closer to 0.5 is better\n",
      "adult-tabddpm, DCR Score = 0.6755935014280888\n"
     ]
    }
   ],
   "source": [
    "calculate_DCR()"
   ]
  },
  {
   "cell_type": "markdown",
   "metadata": {
    "id": "rKRNoZmzbpTm"
   },
   "source": [
    "#### Alpha precision & Beta recall"
   ]
  },
  {
   "cell_type": "code",
   "execution_count": 40,
   "metadata": {},
   "outputs": [
    {
     "name": "stdout",
     "output_type": "stream",
     "text": [
      "=========== All Features ===========\n",
      "Data shape:  (32561, 110)\n",
      "alpha precision: 0.951449, beta recall: 0.497591\n"
     ]
    }
   ],
   "source": [
    "calculate_alpha_beta()"
   ]
  }
 ],
 "metadata": {
  "colab": {
   "authorship_tag": "ABX9TyM87OAyAZDeZ/KEr1BVC60/",
   "mount_file_id": "1-H09AG2TbV5ZzQ-ytJRNbFUCirBvOV9p",
   "provenance": []
  },
  "kernelspec": {
   "display_name": "Python3 (ipykernel)",
   "language": "python",
   "name": "python3"
  },
  "language_info": {
   "codemirror_mode": {
    "name": "ipython",
    "version": 3
   },
   "file_extension": ".py",
   "mimetype": "text/x-python",
   "name": "python",
   "nbconvert_exporter": "python",
   "pygments_lexer": "ipython3",
   "version": "3.10.12"
  },
  "widgets": {
   "application/vnd.jupyter.widget-state+json": {
    "state": {},
    "version_major": 2,
    "version_minor": 0
   }
  }
 },
 "nbformat": 4,
 "nbformat_minor": 4
}
